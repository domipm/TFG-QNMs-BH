{
 "cells": [
  {
   "cell_type": "markdown",
   "metadata": {},
   "source": [
    "# Improved Asymptotic Iteration Method (IAIM): Poschl-Teller Potential"
   ]
  },
  {
   "cell_type": "markdown",
   "metadata": {},
   "source": [
    "Main idea, expand by Taylor series the coefficients $\\lambda_n$ and $s_n$, evaluated at point $y = y_0$, as: \\\n",
    "\\\n",
    "$ \\lambda_n = \\sum_{k}  c_n^k (y-y_0)^k $ \\\n",
    "\\\n",
    "$ s_n = \\sum_{k} d_n^k (y-y_0)^k  $"
   ]
  },
  {
   "cell_type": "markdown",
   "metadata": {},
   "source": [
    "The coefficients follow a recursion relation (matrix elements row $i$ column $n$ of matrices $C$ and $D$): \\\n",
    "\\\n",
    "$ c_n^i = (i+1)c_{n-1}^{i+1} + d_{n-1}^i + \\sum_k c_0^kc_{n-1}^{i-k} $ \\\n",
    "\\\n",
    "$ d_n^i = (i+1)d_{n-1}^{i+1} \\sum_k d_0^k c_{n-1}^{i-k} $"
   ]
  },
  {
   "cell_type": "markdown",
   "metadata": {},
   "source": [
    "The quantization condition can be written as (for the n-th iteration): \\\n",
    "\\\n",
    "$\\qquad \\delta_n^0= c_{n-1}^0 - d_{n-1}^0c_n^0 = 0 $"
   ]
  },
  {
   "cell_type": "markdown",
   "metadata": {},
   "source": [
    "Parameters: \\\n",
    "\\\n",
    "$\\qquad \\lambda_0 = \\dfrac{2y(1-iw)}{1-y^2} \\qquad s_0 = \\dfrac{1-2iw-2w^2}{2(1-y^2)} $"
   ]
  },
  {
   "cell_type": "markdown",
   "metadata": {},
   "source": [
    "# IAIM Algorithm"
   ]
  },
  {
   "cell_type": "code",
   "execution_count": 94,
   "metadata": {},
   "outputs": [],
   "source": [
    "#USEFUL LIBRATIES\n",
    "import numpy as np\n",
    "#import matplotlib.pyplot as plt\n",
    "from sympy import *\n",
    "\n",
    "#NUMBER OF ITERATIONS TO PERFORM\n",
    "N = 6\n",
    "\n",
    "#SYMBOLIC VARIABLES DEFINITION\n",
    "y = symbols(\"y\", real=True)\n",
    "w = symbols(\"\\omega\")\n",
    "\n",
    "#INITIAL PARAMETERS\n",
    "l0 = (2*y*(1-I*w))/(1-y**2)\n",
    "s0 = (1-2*I*w-2*w**2)/(2*(1-y**2))"
   ]
  },
  {
   "cell_type": "markdown",
   "metadata": {},
   "source": [
    "We must compute the series expansion of $\\lambda_0$ and $s_0$ up until order $i=n$"
   ]
  },
  {
   "cell_type": "code",
   "execution_count": 95,
   "metadata": {},
   "outputs": [],
   "source": [
    "#FUNCTION THAT GETS COEFFICIENTS AS LIST FROM SERIES EXPANSION\n",
    "def get_coeff(a):\n",
    "    \n",
    "    coeff = []\n",
    "    coeff = np.append(coeff, a.subs(y,0))\n",
    "    for i in range(1,N):\n",
    "        coeff = np.append(coeff, a.coeff(y**i))\n",
    "\n",
    "    return coeff"
   ]
  },
  {
   "cell_type": "code",
   "execution_count": 96,
   "metadata": {},
   "outputs": [
    {
     "data": {
      "text/latex": [
       "$\\displaystyle y^{5} \\left(- 2 i \\omega + 2\\right) + y^{3} \\left(- 2 i \\omega + 2\\right) + y \\left(- 2 i \\omega + 2\\right)$"
      ],
      "text/plain": [
       "y**5*(-2*I*\\omega + 2) + y**3*(-2*I*\\omega + 2) + y*(-2*I*\\omega + 2)"
      ]
     },
     "execution_count": 96,
     "metadata": {},
     "output_type": "execute_result"
    }
   ],
   "source": [
    "l0_series = series(l0,y,0,N).removeO()\n",
    "l0_series.collect(y)"
   ]
  },
  {
   "cell_type": "code",
   "execution_count": 97,
   "metadata": {},
   "outputs": [
    {
     "data": {
      "text/latex": [
       "$\\displaystyle - \\omega^{2} - i \\omega + y^{4} \\left(- \\omega^{2} - i \\omega + \\frac{1}{2}\\right) + y^{2} \\left(- \\omega^{2} - i \\omega + \\frac{1}{2}\\right) + \\frac{1}{2}$"
      ],
      "text/plain": [
       "-\\omega**2 - I*\\omega + y**4*(-\\omega**2 - I*\\omega + 1/2) + y**2*(-\\omega**2 - I*\\omega + 1/2) + 1/2"
      ]
     },
     "execution_count": 97,
     "metadata": {},
     "output_type": "execute_result"
    }
   ],
   "source": [
    "s0_series = series(s0,y,0,N).removeO()\n",
    "s0_series.collect(y)"
   ]
  },
  {
   "cell_type": "code",
   "execution_count": 98,
   "metadata": {},
   "outputs": [],
   "source": [
    "l0_coeff = get_coeff(l0_series)\n",
    "s0_coeff = get_coeff(s0_series)"
   ]
  },
  {
   "cell_type": "markdown",
   "metadata": {},
   "source": [
    "The coefficients of these series expansions are columns of the matrices $C$ and $D$, with $i$ index representing the rows of the column, and $N$ (iteration number) representing the column. Once we have the first column (obtained from $\\lambda_0$ and $s_0$), we move on to the next:"
   ]
  },
  {
   "cell_type": "code",
   "execution_count": 99,
   "metadata": {},
   "outputs": [],
   "source": [
    "C = np.zeros((N,N),dtype=object)\n",
    "D = np.zeros((N,N),dtype=object)"
   ]
  },
  {
   "cell_type": "code",
   "execution_count": 100,
   "metadata": {},
   "outputs": [],
   "source": [
    "for i in range(N):\n",
    "    C[i,0] = l0_coeff[i]\n",
    "for i in range(N):\n",
    "    D[i,0] = s0_coeff[i]"
   ]
  },
  {
   "cell_type": "code",
   "execution_count": 101,
   "metadata": {},
   "outputs": [
    {
     "name": "stdout",
     "output_type": "stream",
     "text": [
      "⎡       0         0  0  0  0  0⎤\n",
      "⎢                              ⎥\n",
      "⎢-2⋅ⅈ⋅\\omega + 2  0  0  0  0  0⎥\n",
      "⎢                              ⎥\n",
      "⎢       0         0  0  0  0  0⎥\n",
      "⎢                              ⎥\n",
      "⎢-2⋅ⅈ⋅\\omega + 2  0  0  0  0  0⎥\n",
      "⎢                              ⎥\n",
      "⎢       0         0  0  0  0  0⎥\n",
      "⎢                              ⎥\n",
      "⎣-2⋅ⅈ⋅\\omega + 2  0  0  0  0  0⎦\n"
     ]
    }
   ],
   "source": [
    "pprint(Matrix(C))"
   ]
  },
  {
   "cell_type": "code",
   "execution_count": 102,
   "metadata": {},
   "outputs": [
    {
     "name": "stdout",
     "output_type": "stream",
     "text": [
      "⎡        2              1               ⎤\n",
      "⎢- \\omega  - ⅈ⋅\\omega + ─  0  0  0  0  0⎥\n",
      "⎢                       2               ⎥\n",
      "⎢                                       ⎥\n",
      "⎢           0              0  0  0  0  0⎥\n",
      "⎢                                       ⎥\n",
      "⎢        2              1               ⎥\n",
      "⎢- \\omega  - ⅈ⋅\\omega + ─  0  0  0  0  0⎥\n",
      "⎢                       2               ⎥\n",
      "⎢                                       ⎥\n",
      "⎢           0              0  0  0  0  0⎥\n",
      "⎢                                       ⎥\n",
      "⎢        2              1               ⎥\n",
      "⎢- \\omega  - ⅈ⋅\\omega + ─  0  0  0  0  0⎥\n",
      "⎢                       2               ⎥\n",
      "⎢                                       ⎥\n",
      "⎣           0              0  0  0  0  0⎦\n"
     ]
    }
   ],
   "source": [
    "pprint(Matrix(D))"
   ]
  },
  {
   "cell_type": "code",
   "execution_count": 103,
   "metadata": {},
   "outputs": [],
   "source": [
    "for n in range(0,N-1): #COLUMNS\n",
    "    for i in range(0,N-1): #ROWS\n",
    "        D[i,n+1] = (i+1)*D[i+1,n]\n",
    "        C[i,n+1] = (i+1)*C[i+1,n]+D[i,n]\n",
    "        for k in range(0,i): #SUM INTERIOR\n",
    "            C[i,n+1] = C[i,n] + C[k,0]*C[i-k,n]\n",
    "            D[i,n+1] = D[i,n] + D[k,0]*C[i-k,n]"
   ]
  },
  {
   "cell_type": "code",
   "execution_count": 104,
   "metadata": {},
   "outputs": [
    {
     "name": "stdout",
     "output_type": "stream",
     "text": [
      "⎡                         2                5                                  \n",
      "⎢       0         - \\omega  - 3⋅ⅈ⋅\\omega + ─    -2⋅ⅈ⋅\\omega + 2     -2⋅ⅈ⋅\\omeg\n",
      "⎢                                          2                                  \n",
      "⎢                                                                             \n",
      "⎢-2⋅ⅈ⋅\\omega + 2       -2⋅ⅈ⋅\\omega + 2          -2⋅ⅈ⋅\\omega + 2               \n",
      "⎢                                                                             \n",
      "⎢                                      2                         2            \n",
      "⎢       0             (-2⋅ⅈ⋅\\omega + 2)       2⋅(-2⋅ⅈ⋅\\omega + 2)             \n",
      "⎢                                                                             \n",
      "⎢-2⋅ⅈ⋅\\omega + 2       -2⋅ⅈ⋅\\omega + 2          -2⋅ⅈ⋅\\omega + 2               \n",
      "⎢                                                                             \n",
      "⎢                                      2                         2            \n",
      "⎢       0             (-2⋅ⅈ⋅\\omega + 2)       2⋅(-2⋅ⅈ⋅\\omega + 2)             \n",
      "⎢                                                                             \n",
      "⎣-2⋅ⅈ⋅\\omega + 2              0                        0                      \n",
      "\n",
      "                      ⎛        2              1⎞                              \n",
      "a + (-2⋅ⅈ⋅\\omega + 2)⋅⎜- \\omega  - ⅈ⋅\\omega + ─⎟ + 2  -2⋅ⅈ⋅\\omega + 2⋅(-2⋅ⅈ⋅\\o\n",
      "                      ⎝                       2⎠                              \n",
      "                                                                              \n",
      "             -2⋅ⅈ⋅\\omega + 2                                                  \n",
      "                                                                              \n",
      "                              2                                               \n",
      "           3⋅(-2⋅ⅈ⋅\\omega + 2)                                              4⋅\n",
      "                                                                              \n",
      "             -2⋅ⅈ⋅\\omega + 2                                                  \n",
      "                                                                              \n",
      "                              2                                               \n",
      "           3⋅(-2⋅ⅈ⋅\\omega + 2)                                              4⋅\n",
      "                                                                              \n",
      "                    0                                                         \n",
      "\n",
      "          ⎛        2              1⎞                                        ⎛ \n",
      "mega + 2)⋅⎜- \\omega  - ⅈ⋅\\omega + ─⎟ + 2  -2⋅ⅈ⋅\\omega + 3⋅(-2⋅ⅈ⋅\\omega + 2)⋅⎜-\n",
      "          ⎝                       2⎠                                        ⎝ \n",
      "                                                                              \n",
      "-2⋅ⅈ⋅\\omega + 2                                                   -2⋅ⅈ⋅\\omega \n",
      "                                                                              \n",
      "                 2                                                            \n",
      "(-2⋅ⅈ⋅\\omega + 2)                                               5⋅(-2⋅ⅈ⋅\\omega\n",
      "                                                                              \n",
      "-2⋅ⅈ⋅\\omega + 2                                                   -2⋅ⅈ⋅\\omega \n",
      "                                                                              \n",
      "                 2                                                            \n",
      "(-2⋅ⅈ⋅\\omega + 2)                                               5⋅(-2⋅ⅈ⋅\\omega\n",
      "                                                                              \n",
      "       0                                                                 0    \n",
      "\n",
      "       2              1⎞    ⎤\n",
      " \\omega  - ⅈ⋅\\omega + ─⎟ + 2⎥\n",
      "                      2⎠    ⎥\n",
      "                            ⎥\n",
      "+ 2                         ⎥\n",
      "                            ⎥\n",
      "     2                      ⎥\n",
      " + 2)                       ⎥\n",
      "                            ⎥\n",
      "+ 2                         ⎥\n",
      "                            ⎥\n",
      "     2                      ⎥\n",
      " + 2)                       ⎥\n",
      "                            ⎥\n",
      "                            ⎦\n"
     ]
    }
   ],
   "source": [
    "pprint(Matrix(C))"
   ]
  },
  {
   "cell_type": "code",
   "execution_count": 105,
   "metadata": {},
   "outputs": [
    {
     "name": "stdout",
     "output_type": "stream",
     "text": [
      "⎡        2              1                                                     \n",
      "⎢- \\omega  - ⅈ⋅\\omega + ─                       0                         (-2⋅\n",
      "⎢                       2                                                     \n",
      "⎢                                                                             \n",
      "⎢                                            ⎛        2              1⎞       \n",
      "⎢           0              (-2⋅ⅈ⋅\\omega + 2)⋅⎜- \\omega  - ⅈ⋅\\omega + ─⎟  2⋅(-2\n",
      "⎢                                            ⎝                       2⎠       \n",
      "⎢                                                                             \n",
      "⎢        2              1                    2              1                 \n",
      "⎢- \\omega  - ⅈ⋅\\omega + ─            - \\omega  - ⅈ⋅\\omega + ─                 \n",
      "⎢                       2                                   2                 \n",
      "⎢                                                                             \n",
      "⎢                                            ⎛        2              1⎞       \n",
      "⎢           0              (-2⋅ⅈ⋅\\omega + 2)⋅⎜- \\omega  - ⅈ⋅\\omega + ─⎟  2⋅(-2\n",
      "⎢                                            ⎝                       2⎠       \n",
      "⎢                                                                             \n",
      "⎢        2              1                    2              1                 \n",
      "⎢- \\omega  - ⅈ⋅\\omega + ─            - \\omega  - ⅈ⋅\\omega + ─                 \n",
      "⎢                       2                                   2                 \n",
      "⎢                                                                             \n",
      "⎣           0                                   0                             \n",
      "\n",
      "              ⎛        2              1⎞                       ⎛        2     \n",
      "ⅈ⋅\\omega + 2)⋅⎜- \\omega  - ⅈ⋅\\omega + ─⎟   2⋅(-2⋅ⅈ⋅\\omega + 2)⋅⎜- \\omega  - ⅈ⋅\n",
      "              ⎝                       2⎠                       ⎝              \n",
      "                                                                              \n",
      "               ⎛        2              1⎞                      ⎛        2     \n",
      "⋅ⅈ⋅\\omega + 2)⋅⎜- \\omega  - ⅈ⋅\\omega + ─⎟  3⋅(-2⋅ⅈ⋅\\omega + 2)⋅⎜- \\omega  - ⅈ⋅\n",
      "               ⎝                       2⎠                      ⎝              \n",
      "                                                                              \n",
      "              2              1                                2              1\n",
      "      - \\omega  - ⅈ⋅\\omega + ─                        - \\omega  - ⅈ⋅\\omega + ─\n",
      "                             2                                               2\n",
      "                                                                              \n",
      "               ⎛        2              1⎞                      ⎛        2     \n",
      "⋅ⅈ⋅\\omega + 2)⋅⎜- \\omega  - ⅈ⋅\\omega + ─⎟  3⋅(-2⋅ⅈ⋅\\omega + 2)⋅⎜- \\omega  - ⅈ⋅\n",
      "               ⎝                       2⎠                      ⎝              \n",
      "                                                                              \n",
      "              2              1                                2              1\n",
      "      - \\omega  - ⅈ⋅\\omega + ─                        - \\omega  - ⅈ⋅\\omega + ─\n",
      "                             2                                               2\n",
      "                                                                              \n",
      "                 0                                               0            \n",
      "\n",
      "         1⎞                      ⎛        2              1⎞                   \n",
      "\\omega + ─⎟  3⋅(-2⋅ⅈ⋅\\omega + 2)⋅⎜- \\omega  - ⅈ⋅\\omega + ─⎟  4⋅(-2⋅ⅈ⋅\\omega + \n",
      "         2⎠                      ⎝                       2⎠                   \n",
      "                                                                              \n",
      "         1⎞                      ⎛        2              1⎞                   \n",
      "\\omega + ─⎟  4⋅(-2⋅ⅈ⋅\\omega + 2)⋅⎜- \\omega  - ⅈ⋅\\omega + ─⎟  5⋅(-2⋅ⅈ⋅\\omega + \n",
      "         2⎠                      ⎝                       2⎠                   \n",
      "                                                                              \n",
      "                                2              1                              \n",
      "                        - \\omega  - ⅈ⋅\\omega + ─                        - \\ome\n",
      "                                               2                              \n",
      "                                                                              \n",
      "         1⎞                      ⎛        2              1⎞                   \n",
      "\\omega + ─⎟  4⋅(-2⋅ⅈ⋅\\omega + 2)⋅⎜- \\omega  - ⅈ⋅\\omega + ─⎟  5⋅(-2⋅ⅈ⋅\\omega + \n",
      "         2⎠                      ⎝                       2⎠                   \n",
      "                                                                              \n",
      "                                2              1                              \n",
      "                        - \\omega  - ⅈ⋅\\omega + ─                        - \\ome\n",
      "                                               2                              \n",
      "                                                                              \n",
      "                                   0                                          \n",
      "\n",
      "   ⎛        2              1⎞⎤\n",
      "2)⋅⎜- \\omega  - ⅈ⋅\\omega + ─⎟⎥\n",
      "   ⎝                       2⎠⎥\n",
      "                             ⎥\n",
      "   ⎛        2              1⎞⎥\n",
      "2)⋅⎜- \\omega  - ⅈ⋅\\omega + ─⎟⎥\n",
      "   ⎝                       2⎠⎥\n",
      "                             ⎥\n",
      "  2              1           ⎥\n",
      "ga  - ⅈ⋅\\omega + ─           ⎥\n",
      "                 2           ⎥\n",
      "                             ⎥\n",
      "   ⎛        2              1⎞⎥\n",
      "2)⋅⎜- \\omega  - ⅈ⋅\\omega + ─⎟⎥\n",
      "   ⎝                       2⎠⎥\n",
      "                             ⎥\n",
      "  2              1           ⎥\n",
      "ga  - ⅈ⋅\\omega + ─           ⎥\n",
      "                 2           ⎥\n",
      "                             ⎥\n",
      "     0                       ⎦\n"
     ]
    }
   ],
   "source": [
    "pprint(Matrix(D))"
   ]
  },
  {
   "cell_type": "code",
   "execution_count": 106,
   "metadata": {},
   "outputs": [
    {
     "name": "stdout",
     "output_type": "stream",
     "text": [
      "delta_1 = 4*(-2*I*\\omega + 2)*(-\\omega**2 - I*\\omega + 1/2)*(-2*I*\\omega + 2*(-2*I*\\omega + 2)*(-\\omega**2 - I*\\omega + 1/2) + 2) - 3*(-2*I*\\omega + 2)*(-\\omega**2 - I*\\omega + 1/2)*(-2*I*\\omega + 3*(-2*I*\\omega + 2)*(-\\omega**2 - I*\\omega + 1/2) + 2)\n",
      "delta_2 = (-2*I*\\omega + 2)**2*(-\\omega**2 - I*\\omega + 1/2)\n",
      "delta_3 = -(-2*I*\\omega + 2)**2*(-\\omega**2 - I*\\omega + 1/2)\n",
      "delta_4 = (-2*I*\\omega + 2)**2*(-\\omega**2 - I*\\omega + 1/2)\n",
      "delta_5 = -(-2*I*\\omega + 2)**2*(-\\omega**2 - I*\\omega + 1/2)\n"
     ]
    }
   ],
   "source": [
    "#SOLVE FOR EACH ITERATION\n",
    "d = np.zeros(N, dtype=object)\n",
    "for n in range(0,N-1):\n",
    "    d[n] = D[n,N-1]*C[n,N-2] - D[n,N-2]*C[n,N-1]\n",
    "    print(\"delta_\" + str(n+1) + \" = \" + str(d[n]))"
   ]
  },
  {
   "cell_type": "code",
   "execution_count": 107,
   "metadata": {},
   "outputs": [
    {
     "name": "stdout",
     "output_type": "stream",
     "text": [
      "Iteration 1\n",
      "Filtered solutions:\n",
      "w_3 = 1/2 - I/2\n",
      "Iteration 2\n",
      "Filtered solutions:\n",
      "w_3 = 1/2 - I/2\n",
      "Iteration 3\n"
     ]
    },
    {
     "name": "stdout",
     "output_type": "stream",
     "text": [
      "Filtered solutions:\n",
      "w_3 = 1/2 - I/2\n",
      "Iteration 4\n",
      "Filtered solutions:\n",
      "w_3 = 1/2 - I/2\n",
      "Iteration 5\n",
      "Filtered solutions:\n",
      "w_3 = 1/2 - I/2\n"
     ]
    }
   ],
   "source": [
    "for n in range(0,N-1):\n",
    "    print(\"Iteration \" + str(n+1))\n",
    "    sols = solve(d[n],w)\n",
    "    #print(\"All solutions: \" + \"\\n\" + str(sols) + \"\\n\")\n",
    "    print(\"Filtered solutions:\")\n",
    "    for i in range(len(sols)):\n",
    "        if re(sols[i]) > 0 and  im(sols[i]) < 0:\n",
    "            print(\"w_\" + str(i+1) + \" = \" + str(sols[i]))"
   ]
  }
 ],
 "metadata": {
  "kernelspec": {
   "display_name": "Python 3",
   "language": "python",
   "name": "python3"
  },
  "language_info": {
   "codemirror_mode": {
    "name": "ipython",
    "version": 3
   },
   "file_extension": ".py",
   "mimetype": "text/x-python",
   "name": "python",
   "nbconvert_exporter": "python",
   "pygments_lexer": "ipython3",
   "version": "3.10.12"
  }
 },
 "nbformat": 4,
 "nbformat_minor": 2
}

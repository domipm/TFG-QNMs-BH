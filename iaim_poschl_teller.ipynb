{
 "cells": [
  {
   "cell_type": "markdown",
   "metadata": {},
   "source": [
    "# Improved Asymptotic Iteration Method (IAIM)"
   ]
  },
  {
   "cell_type": "markdown",
   "metadata": {},
   "source": [
    "Main idea, expand by Taylor series the coefficients $\\lambda_n$ and $s_n$, evaluated at point $y = y_0$, as: \\\n",
    "\\\n",
    "$ \\lambda_n = \\sum_{k}  c_n^k (y-y_0)^k $ \\\n",
    "$ s_n = \\sum_{k} d_n^k (y-y_0)^k  $"
   ]
  },
  {
   "cell_type": "markdown",
   "metadata": {},
   "source": [
    "There exists a recursion relation for the coefficients: \\\n",
    "\\\n",
    "$ c_n^i = (i+1)c_{n-1}^{i+1} + d_{n-1}^i + \\sum_k c_0^kc_{n-1}^{i-k} $ \\\n",
    "$ d_n^i = (i+1)d_{n-1}^{i+1} \\sum_k d_0^k c_{n-1}^{i-k} $"
   ]
  },
  {
   "cell_type": "markdown",
   "metadata": {},
   "source": [
    "And the quantization condition becomes: $\\qquad \\delta_n^0= c_{n-1}^0 - d_{n-1}^0c_n^0 = 0 $"
   ]
  },
  {
   "cell_type": "markdown",
   "metadata": {},
   "source": [
    "Parameters: $\\qquad \\lambda_0 = \\dfrac{2y(1-iw)}{1-y^2} \\qquad s_0 = \\dfrac{1-2iw-2w^2}{2(1-y^2)} $"
   ]
  },
  {
   "cell_type": "markdown",
   "metadata": {},
   "source": [
    "Begin by importing necessary libraries"
   ]
  },
  {
   "cell_type": "code",
   "execution_count": 132,
   "metadata": {},
   "outputs": [],
   "source": [
    "#USEFUL LIBRATIES\n",
    "import numpy as np\n",
    "#import matplotlib.pyplot as plt\n",
    "from sympy import *\n",
    "\n",
    "#NUMBER OF ITERATIONS TO PERFORM\n",
    "N = 4\n",
    "\n",
    "#SYMBOLIC VARIABLES DEFINITION\n",
    "y = symbols(\"y\", real=True)\n",
    "w = symbols(\"\\omega\")\n",
    "\n",
    "#INITIAL PARAMETERS\n",
    "l0 = (2*y*(1-I*w))/(1-y**2)\n",
    "s0 = (1-2*I*w-2*w**2)/(2*(1-y**2))"
   ]
  },
  {
   "cell_type": "markdown",
   "metadata": {},
   "source": [
    "We must compute the series expansion of $\\lambda_0$ and $s_0$ up until order $i=n$"
   ]
  },
  {
   "cell_type": "code",
   "execution_count": 133,
   "metadata": {},
   "outputs": [],
   "source": [
    "#FUNCTION THAT GETS COEFFICIENTS AS LIST FROM SERIES EXPANSION\n",
    "def get_coeff(a):\n",
    "    \n",
    "    coeff = []\n",
    "    coeff = np.append(coeff, a.subs(y,0))\n",
    "    for i in range(1,N):\n",
    "        coeff = np.append(coeff, a.coeff(y**i))\n",
    "\n",
    "    return coeff"
   ]
  },
  {
   "cell_type": "code",
   "execution_count": 134,
   "metadata": {},
   "outputs": [],
   "source": [
    "l0_series = series(l0,y,0,N).removeO()\n",
    "#l0_series"
   ]
  },
  {
   "cell_type": "code",
   "execution_count": 135,
   "metadata": {},
   "outputs": [],
   "source": [
    "s0_series = series(s0,y,0,N).removeO()\n",
    "#s0_series"
   ]
  },
  {
   "cell_type": "code",
   "execution_count": 136,
   "metadata": {},
   "outputs": [],
   "source": [
    "l0_coeff = get_coeff(l0_series)\n",
    "s0_coeff = get_coeff(s0_series)"
   ]
  },
  {
   "cell_type": "markdown",
   "metadata": {},
   "source": [
    "The coefficients of these series expansions are columns of the matrices $C$ and $D$. Once we have the first column (obtained from $\\lambda_0$ and $s_0$, we move on to the next)"
   ]
  },
  {
   "cell_type": "code",
   "execution_count": 137,
   "metadata": {},
   "outputs": [],
   "source": [
    "C = np.zeros((N,N),dtype=object)\n",
    "D = np.zeros((N,N),dtype=object)"
   ]
  },
  {
   "cell_type": "code",
   "execution_count": 138,
   "metadata": {},
   "outputs": [
    {
     "name": "stdout",
     "output_type": "stream",
     "text": [
      "⎡       0         0  0  0⎤\n",
      "⎢                        ⎥\n",
      "⎢-2⋅ⅈ⋅\\omega + 2  0  0  0⎥\n",
      "⎢                        ⎥\n",
      "⎢       0         0  0  0⎥\n",
      "⎢                        ⎥\n",
      "⎣-2⋅ⅈ⋅\\omega + 2  0  0  0⎦\n"
     ]
    }
   ],
   "source": [
    "for i in range(N):\n",
    "    C[i,0] = l0_coeff[i]\n",
    "for i in range(N):\n",
    "    D[i,0] = s0_coeff[i]\n",
    "\n",
    "pprint(Matrix(C))"
   ]
  },
  {
   "cell_type": "code",
   "execution_count": 120,
   "metadata": {},
   "outputs": [
    {
     "data": {
      "image/png": "[encoded data removed]",
      "text/latex": [
       "$\\displaystyle - \\omega^{2} - i \\omega + \\frac{1}{2}$"
      ],
      "text/plain": [
       "        2              1\n",
       "- \\omega  - ⅈ⋅\\omega + ─\n",
       "                       2"
      ]
     },
     "execution_count": 120,
     "metadata": {},
     "output_type": "execute_result"
    }
   ],
   "source": [
    "#pprint(Matrix(D))\n",
    "D[0,0]"
   ]
  },
  {
   "cell_type": "code",
   "execution_count": 128,
   "metadata": {},
   "outputs": [
    {
     "data": {
      "image/png": "[encoded data removed]",
      "text/latex": [
       "$\\displaystyle - \\omega^{2} - 3 i \\omega + \\frac{5}{2}$"
      ],
      "text/plain": [
       "        2                5\n",
       "- \\omega  - 3⋅ⅈ⋅\\omega + ─\n",
       "                         2"
      ]
     },
     "execution_count": 128,
     "metadata": {},
     "output_type": "execute_result"
    }
   ],
   "source": [
    "for n in range(0,N-1): #COLUMNS\n",
    "    for i in range(0,N-1): #ROWS\n",
    "        D[i,n+1] = (i+1)*D[i+1,n]\n",
    "        C[i,n+1] = (i+1)*C[i+1,n]+D[i,n]\n",
    "        for k in range(0,i): #SUM INTERIOR\n",
    "            C[i,n+1] = C[i,n] + C[k,0]*C[i-k,n]\n",
    "            D[i,n+1] = D[i,n] + D[k,0]*C[i-k,n]\n",
    "    \n",
    "#pprint(Matrix(C))\n",
    "C[0,1]"
   ]
  },
  {
   "cell_type": "code",
   "execution_count": 126,
   "metadata": {},
   "outputs": [
    {
     "data": {
      "image/png": "[encoded data removed]",
      "text/latex": [
       "$\\displaystyle 48 \\left(- 2 i \\omega + 2\\right) \\left(- \\omega^{2} - i \\omega + \\frac{1}{2}\\right) \\left(- 2 i \\omega + 46 \\left(- 2 i \\omega + 2\\right) \\left(- \\omega^{2} - i \\omega + \\frac{1}{2}\\right) + 2\\right) - 47 \\left(- 2 i \\omega + 2\\right) \\left(- \\omega^{2} - i \\omega + \\frac{1}{2}\\right) \\left(- 2 i \\omega + 47 \\left(- 2 i \\omega + 2\\right) \\left(- \\omega^{2} - i \\omega + \\frac{1}{2}\\right) + 2\\right)$"
      ],
      "text/plain": [
       "                     ⎛        2              1⎞ ⎛                             \n",
       "48⋅(-2⋅ⅈ⋅\\omega + 2)⋅⎜- \\omega  - ⅈ⋅\\omega + ─⎟⋅⎜-2⋅ⅈ⋅\\omega + 46⋅(-2⋅ⅈ⋅\\omega\n",
       "                     ⎝                       2⎠ ⎝                             \n",
       "\n",
       "      ⎛        2              1⎞    ⎞                        ⎛        2       \n",
       " + 2)⋅⎜- \\omega  - ⅈ⋅\\omega + ─⎟ + 2⎟ - 47⋅(-2⋅ⅈ⋅\\omega + 2)⋅⎜- \\omega  - ⅈ⋅\\o\n",
       "      ⎝                       2⎠    ⎠                        ⎝                \n",
       "\n",
       "       1⎞ ⎛                                   ⎛        2              1⎞    ⎞\n",
       "mega + ─⎟⋅⎜-2⋅ⅈ⋅\\omega + 47⋅(-2⋅ⅈ⋅\\omega + 2)⋅⎜- \\omega  - ⅈ⋅\\omega + ─⎟ + 2⎟\n",
       "       2⎠ ⎝                                   ⎝                       2⎠    ⎠"
      ]
     },
     "execution_count": 126,
     "metadata": {},
     "output_type": "execute_result"
    }
   ],
   "source": [
    "d = D[0,N-1]*C[0,N-2] - D[0,N-2]*C[0,N-1]\n",
    "d"
   ]
  },
  {
   "cell_type": "code",
   "execution_count": 127,
   "metadata": {},
   "outputs": [
    {
     "data": {
      "image/png": "[encoded data removed]",
      "text/latex": [
       "$\\displaystyle \\left[ - i, \\  - \\frac{1}{2} - \\frac{i}{2}, \\  \\frac{1}{2} - \\frac{i}{2}, \\  - \\frac{i}{2} + \\frac{\\sqrt{3} i}{2}, \\  - \\frac{\\sqrt{3} i}{2} - \\frac{i}{2}\\right]$"
      ],
      "text/plain": [
       "⎡      1   ⅈ  1   ⅈ    ⅈ   √3⋅ⅈ    √3⋅ⅈ   ⅈ⎤\n",
       "⎢-ⅈ, - ─ - ─, ─ - ─, - ─ + ────, - ──── - ─⎥\n",
       "⎣      2   2  2   2    2    2       2     2⎦"
      ]
     },
     "execution_count": 127,
     "metadata": {},
     "output_type": "execute_result"
    }
   ],
   "source": [
    "solve(d,w)"
   ]
  },
  {
   "cell_type": "code",
   "execution_count": null,
   "metadata": {},
   "outputs": [],
   "source": []
  }
 ],
 "metadata": {
  "kernelspec": {
   "display_name": "Python 3",
   "language": "python",
   "name": "python3"
  },
  "language_info": {
   "codemirror_mode": {
    "name": "ipython",
    "version": 3
   },
   "file_extension": ".py",
   "mimetype": "text/x-python",
   "name": "python",
   "nbconvert_exporter": "python",
   "pygments_lexer": "ipython3",
   "version": "3.10.12"
  }
 },
 "nbformat": 4,
 "nbformat_minor": 2
}

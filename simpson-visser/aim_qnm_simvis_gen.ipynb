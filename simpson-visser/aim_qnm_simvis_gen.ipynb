{
 "cells": [
  {
   "cell_type": "markdown",
   "id": "acfe1f69",
   "metadata": {},
   "source": [
    "# **Simpson-Visser Metric (w/o LQG corrections)**\n",
    "\n",
    "$$\n",
    "ds^2 = \\left(1 - \\frac{r_s}{\\sqrt{x^2 + x_0^2}}\\right)\\,dt^2 + \\left(1 - \\frac{r_s}{\\sqrt{x^2 + x_0^2}}\\right)^{-1}\\,dr^2 + (x^2 + x_0^2)\\,d\\Omega_2^2 \n",
    "$$"
   ]
  },
  {
   "cell_type": "markdown",
   "id": "a8792baf",
   "metadata": {},
   "source": [
    "Import libraries"
   ]
  },
  {
   "cell_type": "code",
   "execution_count": 133,
   "id": "0b90ea24",
   "metadata": {},
   "outputs": [],
   "source": [
    "import  numpy                as np\n",
    "import  sympy                as sp\n",
    "\n",
    "import  matplotlib.pyplot    as plt\n",
    "\n",
    "from    matplotlib import pyplot\n",
    "\n",
    "# Set plot dpi\n",
    "pyplot.rcParams['figure.dpi'] = 300"
   ]
  },
  {
   "cell_type": "markdown",
   "id": "72dd3ec2",
   "metadata": {},
   "source": [
    "Define variables"
   ]
  },
  {
   "cell_type": "code",
   "execution_count": 134,
   "id": "bbc8b76b",
   "metadata": {},
   "outputs": [
    {
     "data": {
      "text/latex": [
       "$\\displaystyle x$"
      ],
      "text/plain": [
       "x"
      ]
     },
     "metadata": {},
     "output_type": "display_data"
    },
    {
     "data": {
      "text/latex": [
       "$\\displaystyle x_{0}$"
      ],
      "text/plain": [
       "x_0"
      ]
     },
     "metadata": {},
     "output_type": "display_data"
    },
    {
     "data": {
      "text/latex": [
       "$\\displaystyle x_{*}$"
      ],
      "text/plain": [
       "x_*"
      ]
     },
     "metadata": {},
     "output_type": "display_data"
    },
    {
     "data": {
      "text/latex": [
       "$\\displaystyle r_{s}$"
      ],
      "text/plain": [
       "r_s"
      ]
     },
     "metadata": {},
     "output_type": "display_data"
    },
    {
     "data": {
      "text/latex": [
       "$\\displaystyle s$"
      ],
      "text/plain": [
       "s"
      ]
     },
     "metadata": {},
     "output_type": "display_data"
    }
   ],
   "source": [
    "# Define all variables in line element\n",
    "x, x0, xs, rs, s = sp.symbols(\"x, x_0, x_*, r_s, s\", positive = True)\n",
    "display(x, x0, xs, rs, s)"
   ]
  },
  {
   "cell_type": "code",
   "execution_count": 135,
   "id": "e936d70e",
   "metadata": {},
   "outputs": [
    {
     "data": {
      "text/latex": [
       "$\\displaystyle \\ell$"
      ],
      "text/plain": [
       "ell"
      ]
     },
     "metadata": {},
     "output_type": "display_data"
    },
    {
     "data": {
      "text/latex": [
       "$\\displaystyle \\omega$"
      ],
      "text/plain": [
       "omega"
      ]
     },
     "metadata": {},
     "output_type": "display_data"
    }
   ],
   "source": [
    "# Define variables in differential equation\n",
    "l, w = sp.symbols(\"ell, omega\")\n",
    "display(l, w)"
   ]
  },
  {
   "cell_type": "markdown",
   "id": "8887128c",
   "metadata": {},
   "source": [
    "Define functions and their derivatives"
   ]
  },
  {
   "cell_type": "code",
   "execution_count": 136,
   "id": "c085f0b7",
   "metadata": {},
   "outputs": [
    {
     "data": {
      "text/latex": [
       "$\\displaystyle V{\\left(x \\right)}$"
      ],
      "text/plain": [
       "V(x)"
      ]
     },
     "metadata": {},
     "output_type": "display_data"
    }
   ],
   "source": [
    "# Define arbitrary potential function\n",
    "pot = sp.Function(\"V\")(x)\n",
    "display(pot)"
   ]
  },
  {
   "cell_type": "code",
   "execution_count": 137,
   "id": "76b2c487",
   "metadata": {},
   "outputs": [
    {
     "data": {
      "text/latex": [
       "$\\displaystyle \\psi{\\left(x \\right)}$"
      ],
      "text/plain": [
       "psi(x)"
      ]
     },
     "metadata": {},
     "output_type": "display_data"
    }
   ],
   "source": [
    "# Define psi function (initially as function of x)\n",
    "psi = sp.Function('psi')(x)\n",
    "display(psi)"
   ]
  },
  {
   "cell_type": "code",
   "execution_count": 138,
   "id": "6b700ae1",
   "metadata": {},
   "outputs": [
    {
     "data": {
      "text/latex": [
       "$\\displaystyle \\frac{d}{d x} \\psi{\\left(x \\right)}$"
      ],
      "text/plain": [
       "Derivative(psi(x), x)"
      ]
     },
     "metadata": {},
     "output_type": "display_data"
    }
   ],
   "source": [
    "# Define first derivative of psi function\n",
    "dpsi = sp.Derivative(psi, x, evaluate = False)\n",
    "display(dpsi)"
   ]
  },
  {
   "cell_type": "code",
   "execution_count": 139,
   "id": "433e16a2",
   "metadata": {},
   "outputs": [
    {
     "data": {
      "text/latex": [
       "$\\displaystyle \\frac{d^{2}}{d x^{2}} \\psi{\\left(x \\right)}$"
      ],
      "text/plain": [
       "Derivative(psi(x), (x, 2))"
      ]
     },
     "metadata": {},
     "output_type": "display_data"
    }
   ],
   "source": [
    "# Define second derivative of psi function\n",
    "ddpsi = sp.Derivative(dpsi, x, evaluate = False)\n",
    "display(ddpsi)"
   ]
  },
  {
   "cell_type": "code",
   "execution_count": 140,
   "id": "24cc8188",
   "metadata": {},
   "outputs": [
    {
     "data": {
      "text/latex": [
       "$\\displaystyle \\frac{d^{2}}{d x_{*}^{2}} \\psi{\\left(x \\right)}$"
      ],
      "text/plain": [
       "Derivative(psi(x), (x_*, 2))"
      ]
     },
     "metadata": {},
     "output_type": "display_data"
    }
   ],
   "source": [
    "# Second derivative of wave function in terms of tortoise coordinate\n",
    "ddpsi_star = sp.Derivative(sp.Derivative(psi, xs, evaluate = False), xs, evaluate = False)\n",
    "display(ddpsi_star)"
   ]
  },
  {
   "cell_type": "markdown",
   "id": "b8ce5c43",
   "metadata": {},
   "source": [
    "Define second-order derivative we want to solve"
   ]
  },
  {
   "cell_type": "code",
   "execution_count": 141,
   "id": "991dfd2e",
   "metadata": {},
   "outputs": [
    {
     "data": {
      "text/latex": [
       "$\\displaystyle \\left(\\omega^{2} - V{\\left(x \\right)}\\right) \\psi{\\left(x \\right)} + \\frac{d^{2}}{d x_{*}^{2}} \\psi{\\left(x \\right)} = 0$"
      ],
      "text/plain": [
       "Eq((omega**2 - V(x))*psi(x) + Derivative(psi(x), (x_*, 2)), 0)"
      ]
     },
     "metadata": {},
     "output_type": "display_data"
    }
   ],
   "source": [
    "# Define differential equation\n",
    "eq = sp.Equality( ddpsi_star + (w**2 - pot) * psi, 0 )\n",
    "display(eq)"
   ]
  },
  {
   "cell_type": "markdown",
   "id": "2654796b",
   "metadata": {},
   "source": [
    "Define $G(r)$, $F(r)$, and $G(r)$ for our metric"
   ]
  },
  {
   "cell_type": "code",
   "execution_count": 142,
   "id": "bd2cf989",
   "metadata": {},
   "outputs": [
    {
     "data": {
      "text/latex": [
       "$\\displaystyle - \\frac{r_{s}}{\\sqrt{x^{2} + x_{0}^{2}}} + 1$"
      ],
      "text/plain": [
       "-r_s/sqrt(x**2 + x_0**2) + 1"
      ]
     },
     "execution_count": 142,
     "metadata": {},
     "output_type": "execute_result"
    }
   ],
   "source": [
    "G = (1 - rs / sp.sqrt(x**2 + x0**2))\n",
    "G"
   ]
  },
  {
   "cell_type": "code",
   "execution_count": 143,
   "id": "889367cb",
   "metadata": {},
   "outputs": [
    {
     "data": {
      "text/latex": [
       "$\\displaystyle \\frac{1}{- \\frac{r_{s}}{\\sqrt{x^{2} + x_{0}^{2}}} + 1}$"
      ],
      "text/plain": [
       "1/(-r_s/sqrt(x**2 + x_0**2) + 1)"
      ]
     },
     "execution_count": 143,
     "metadata": {},
     "output_type": "execute_result"
    }
   ],
   "source": [
    "F = 1 / G\n",
    "F"
   ]
  },
  {
   "cell_type": "code",
   "execution_count": 144,
   "id": "75e79190",
   "metadata": {},
   "outputs": [
    {
     "data": {
      "text/latex": [
       "$\\displaystyle x^{2} + x_{0}^{2}$"
      ],
      "text/plain": [
       "x**2 + x_0**2"
      ]
     },
     "execution_count": 144,
     "metadata": {},
     "output_type": "execute_result"
    }
   ],
   "source": [
    "H = (x**2 + x0**2)\n",
    "H"
   ]
  },
  {
   "cell_type": "markdown",
   "id": "13c721bd",
   "metadata": {},
   "source": [
    "Calculate required derivatives $G'(r)$, $F'(r)$, $H'(r)$, $H''(r)$"
   ]
  },
  {
   "cell_type": "code",
   "execution_count": 145,
   "id": "b9f583fb",
   "metadata": {},
   "outputs": [
    {
     "data": {
      "text/latex": [
       "$\\displaystyle 2 x$"
      ],
      "text/plain": [
       "2*x"
      ]
     },
     "execution_count": 145,
     "metadata": {},
     "output_type": "execute_result"
    }
   ],
   "source": [
    "Hp = sp.Derivative(H, x, evaluate = True)\n",
    "Hp"
   ]
  },
  {
   "cell_type": "code",
   "execution_count": 146,
   "id": "f77ee960",
   "metadata": {},
   "outputs": [
    {
     "data": {
      "text/latex": [
       "$\\displaystyle 2$"
      ],
      "text/plain": [
       "2"
      ]
     },
     "execution_count": 146,
     "metadata": {},
     "output_type": "execute_result"
    }
   ],
   "source": [
    "Hpp = sp.Derivative(Hp, x, evaluate = True)\n",
    "Hpp"
   ]
  },
  {
   "cell_type": "code",
   "execution_count": 147,
   "id": "33dbb03c",
   "metadata": {},
   "outputs": [
    {
     "data": {
      "text/latex": [
       "$\\displaystyle \\frac{r_{s} x}{\\left(x^{2} + x_{0}^{2}\\right)^{\\frac{3}{2}}}$"
      ],
      "text/plain": [
       "r_s*x/(x**2 + x_0**2)**(3/2)"
      ]
     },
     "execution_count": 147,
     "metadata": {},
     "output_type": "execute_result"
    }
   ],
   "source": [
    "Gp = sp.Derivative(G, x, evaluate = True)\n",
    "Gp"
   ]
  },
  {
   "cell_type": "code",
   "execution_count": 148,
   "id": "f00d0937",
   "metadata": {},
   "outputs": [
    {
     "data": {
      "text/latex": [
       "$\\displaystyle - \\frac{r_{s} x}{\\left(x^{2} + x_{0}^{2}\\right)^{\\frac{3}{2}} \\left(- \\frac{r_{s}}{\\sqrt{x^{2} + x_{0}^{2}}} + 1\\right)^{2}}$"
      ],
      "text/plain": [
       "-r_s*x/((x**2 + x_0**2)**(3/2)*(-r_s/sqrt(x**2 + x_0**2) + 1)**2)"
      ]
     },
     "execution_count": 148,
     "metadata": {},
     "output_type": "execute_result"
    }
   ],
   "source": [
    "Fp = sp.Derivative(F, x, evaluate = True)\n",
    "Fp"
   ]
  },
  {
   "cell_type": "markdown",
   "id": "8b936c12",
   "metadata": {},
   "source": [
    "### **Radial function** $R(x)$"
   ]
  },
  {
   "cell_type": "code",
   "execution_count": 149,
   "id": "afdc162f",
   "metadata": {},
   "outputs": [
    {
     "data": {
      "text/latex": [
       "$\\displaystyle \\frac{3 r_{s} x^{2} - r_{s} x_{0}^{2} + 3 x_{0}^{2} \\sqrt{x^{2} + x_{0}^{2}}}{\\left(x^{2} + x_{0}^{2}\\right)^{\\frac{5}{2}}}$"
      ],
      "text/plain": [
       "(3*r_s*x**2 - r_s*x_0**2 + 3*x_0**2*sqrt(x**2 + x_0**2))/(x**2 + x_0**2)**(5/2)"
      ]
     },
     "metadata": {},
     "output_type": "display_data"
    }
   ],
   "source": [
    "R = 2/H + 1/F * ( Gp * Hp / (4 * G * H) - Fp * Hp / (4 * F * H) - 3 * Hp**2 / (4 * H**2) + Hpp/(2 * H) )\n",
    "# Simplify and factorize\n",
    "R = R.simplify().factor()\n",
    "# Display radial function\n",
    "display(R)\n"
   ]
  },
  {
   "cell_type": "markdown",
   "id": "3e6ec5fd",
   "metadata": {},
   "source": [
    "### **Potentials** $^{(\\alpha)}V_{\\ell}^{SV}(x)$"
   ]
  },
  {
   "cell_type": "markdown",
   "id": "4cc312b6",
   "metadata": {},
   "source": [
    "Compute the scalar potential $^{(s)}V_{\\ell}^{SV}(x)$"
   ]
  },
  {
   "cell_type": "code",
   "execution_count": 150,
   "id": "d997eb45",
   "metadata": {},
   "outputs": [
    {
     "data": {
      "text/latex": [
       "$\\displaystyle \\left(- \\frac{r_{s}}{\\sqrt{x^{2} + x_{0}^{2}}} + 1\\right) \\left(\\frac{\\ell \\left(\\ell + 1\\right)}{x^{2} + x_{0}^{2}} + \\frac{2 x^{2} \\left(- \\frac{r_{s}}{\\sqrt{x^{2} + x_{0}^{2}}} + 1\\right)}{\\left(x^{2} + x_{0}^{2}\\right)^{2}} - \\frac{2}{x^{2} + x_{0}^{2}} + \\frac{3 r_{s} x^{2} - r_{s} x_{0}^{2} + 3 x_{0}^{2} \\sqrt{x^{2} + x_{0}^{2}}}{\\left(x^{2} + x_{0}^{2}\\right)^{\\frac{5}{2}}}\\right)$"
      ],
      "text/plain": [
       "(-r_s/sqrt(x**2 + x_0**2) + 1)*(ell*(ell + 1)/(x**2 + x_0**2) + 2*x**2*(-r_s/sqrt(x**2 + x_0**2) + 1)/(x**2 + x_0**2)**2 - 2/(x**2 + x_0**2) + (3*r_s*x**2 - r_s*x_0**2 + 3*x_0**2*sqrt(x**2 + x_0**2))/(x**2 + x_0**2)**(5/2))"
      ]
     },
     "metadata": {},
     "output_type": "display_data"
    }
   ],
   "source": [
    "V_sca = G * ( ( l*(l+1) ) / H - 2 / H + Hp**2 / (2 * F * H**2) + R )\n",
    "display(V_sca)"
   ]
  },
  {
   "cell_type": "markdown",
   "id": "00f9df2c",
   "metadata": {},
   "source": [
    "Compute the vector potential $^{(v)}V_{\\ell}^{SV}(x)$"
   ]
  },
  {
   "cell_type": "code",
   "execution_count": 151,
   "id": "50065b16",
   "metadata": {},
   "outputs": [
    {
     "data": {
      "text/latex": [
       "$\\displaystyle \\frac{\\ell \\left(\\ell + 1\\right) \\left(- \\frac{r_{s}}{\\sqrt{x^{2} + x_{0}^{2}}} + 1\\right)}{x^{2} + x_{0}^{2}}$"
      ],
      "text/plain": [
       "ell*(ell + 1)*(-r_s/sqrt(x**2 + x_0**2) + 1)/(x**2 + x_0**2)"
      ]
     },
     "metadata": {},
     "output_type": "display_data"
    }
   ],
   "source": [
    "V_vec = G * l*(l+1) / H\n",
    "display(V_vec)"
   ]
  },
  {
   "cell_type": "markdown",
   "id": "093420aa",
   "metadata": {},
   "source": [
    "Compute the axial potential $^{(a)}V_{\\ell}^{SV}(x)$"
   ]
  },
  {
   "cell_type": "code",
   "execution_count": 152,
   "id": "a027e04d",
   "metadata": {},
   "outputs": [
    {
     "data": {
      "text/latex": [
       "$\\displaystyle \\left(- \\frac{r_{s}}{\\sqrt{x^{2} + x_{0}^{2}}} + 1\\right) \\left(\\frac{\\ell \\left(\\ell + 1\\right)}{x^{2} + x_{0}^{2}} - \\frac{3 r_{s} x^{2} - r_{s} x_{0}^{2} + 3 x_{0}^{2} \\sqrt{x^{2} + x_{0}^{2}}}{\\left(x^{2} + x_{0}^{2}\\right)^{\\frac{5}{2}}}\\right)$"
      ],
      "text/plain": [
       "(-r_s/sqrt(x**2 + x_0**2) + 1)*(ell*(ell + 1)/(x**2 + x_0**2) - (3*r_s*x**2 - r_s*x_0**2 + 3*x_0**2*sqrt(x**2 + x_0**2))/(x**2 + x_0**2)**(5/2))"
      ]
     },
     "metadata": {},
     "output_type": "display_data"
    }
   ],
   "source": [
    "V_axi = G * ( l*(l+1) / H - R )\n",
    "display(V_axi)"
   ]
  },
  {
   "cell_type": "markdown",
   "id": "f8cfa8ef",
   "metadata": {},
   "source": [
    "Compute the polar potential $^{(p)}V_{\\ell}^{SV}(x)$"
   ]
  },
  {
   "cell_type": "code",
   "execution_count": 153,
   "id": "cf41c8d6",
   "metadata": {},
   "outputs": [
    {
     "data": {
      "text/latex": [
       "$\\displaystyle \\frac{\\left(\\ell - 1\\right)^{2} \\left(\\ell + 2\\right)^{2} \\left(- \\frac{r_{s}}{\\sqrt{x^{2} + x_{0}^{2}}} + 1\\right) \\left(\\frac{\\left(\\ell - 1\\right) \\left(\\ell + 2\\right) + 2}{x^{2} + x_{0}^{2}} + \\frac{3 r_{s} x^{2} - r_{s} x_{0}^{2} + 3 x_{0}^{2} \\sqrt{x^{2} + x_{0}^{2}}}{\\left(x^{2} + x_{0}^{2}\\right)^{\\frac{5}{2}}} + \\frac{\\left(\\left(\\ell - 1\\right) \\left(\\ell + 2\\right) + \\frac{3 r_{s} x^{2} - r_{s} x_{0}^{2} + 3 x_{0}^{2} \\sqrt{x^{2} + x_{0}^{2}}}{3 \\left(x^{2} + x_{0}^{2}\\right)^{\\frac{3}{2}}}\\right) \\left(3 r_{s} x^{2} - r_{s} x_{0}^{2} + 3 x_{0}^{2} \\sqrt{x^{2} + x_{0}^{2}}\\right)^{2}}{\\left(\\ell - 1\\right)^{2} \\left(\\ell + 2\\right)^{2} \\left(x^{2} + x_{0}^{2}\\right)^{4}}\\right)}{\\left(\\ell - 1\\right) \\left(\\ell + 2\\right) + \\frac{3 r_{s} x^{2} - r_{s} x_{0}^{2} + 3 x_{0}^{2} \\sqrt{x^{2} + x_{0}^{2}}}{\\left(x^{2} + x_{0}^{2}\\right)^{\\frac{3}{2}}}}$"
      ],
      "text/plain": [
       "(ell - 1)**2*(ell + 2)**2*(-r_s/sqrt(x**2 + x_0**2) + 1)*(((ell - 1)*(ell + 2) + 2)/(x**2 + x_0**2) + (3*r_s*x**2 - r_s*x_0**2 + 3*x_0**2*sqrt(x**2 + x_0**2))/(x**2 + x_0**2)**(5/2) + ((ell - 1)*(ell + 2) + (3*r_s*x**2 - r_s*x_0**2 + 3*x_0**2*sqrt(x**2 + x_0**2))/(3*(x**2 + x_0**2)**(3/2)))*(3*r_s*x**2 - r_s*x_0**2 + 3*x_0**2*sqrt(x**2 + x_0**2))**2/((ell - 1)**2*(ell + 2)**2*(x**2 + x_0**2)**4))/((ell - 1)*(ell + 2) + (3*r_s*x**2 - r_s*x_0**2 + 3*x_0**2*sqrt(x**2 + x_0**2))/(x**2 + x_0**2)**(3/2))"
      ]
     },
     "metadata": {},
     "output_type": "display_data"
    }
   ],
   "source": [
    "V_pol = ( G * (l-1)**2 * (l+2)**2 / ( (l-1)*(l+2) + H*R ) ) * ( ( (l-1) * (l+2) + 2 ) / H + R + ( ( H * R**2 ) / ( (l-1)**2 * (l+2)**2 ) ) * ( (l-1) * (l+2) + ( H * R ) / 3 ) )\n",
    "display(V_pol)"
   ]
  },
  {
   "cell_type": "markdown",
   "id": "cdd9a50b",
   "metadata": {},
   "source": [
    "### **General Potential**"
   ]
  },
  {
   "cell_type": "markdown",
   "id": "1e337108",
   "metadata": {},
   "source": [
    "General form of the potentials $^{(s\\in\\{0,1,2\\})}V_{\\ell}^{SV}(x)$ for scalar, vector, and axial potentials"
   ]
  },
  {
   "cell_type": "code",
   "execution_count": 154,
   "id": "f252b7b4",
   "metadata": {},
   "outputs": [
    {
     "data": {
      "text/latex": [
       "$\\displaystyle \\left(- \\frac{r_{s}}{\\sqrt{x^{2} + x_{0}^{2}}} + 1\\right) \\left(\\frac{\\ell \\left(\\ell + 1\\right)}{x^{2} + x_{0}^{2}} + \\frac{\\left(1 - s\\right) \\left(2 - s\\right) \\left(x^{2} \\left(- \\frac{r_{s}}{\\sqrt{x^{2} + x_{0}^{2}}} + 1\\right) - x^{2} - x_{0}^{2}\\right)}{\\left(x^{2} + x_{0}^{2}\\right)^{2}} + \\frac{\\left(1 - s\\right) \\left(r_{s} \\left(3 x^{2} - x_{0}^{2}\\right) + 3 x_{0}^{2} \\sqrt{x^{2} + x_{0}^{2}}\\right)}{\\left(x^{2} + x_{0}^{2}\\right)^{\\frac{5}{2}}}\\right)$"
      ],
      "text/plain": [
       "(-r_s/sqrt(x**2 + x_0**2) + 1)*(ell*(ell + 1)/(x**2 + x_0**2) + (1 - s)*(2 - s)*(x**2*(-r_s/sqrt(x**2 + x_0**2) + 1) - x**2 - x_0**2)/(x**2 + x_0**2)**2 + (1 - s)*(r_s*(3*x**2 - x_0**2) + 3*x_0**2*sqrt(x**2 + x_0**2))/(x**2 + x_0**2)**(5/2))"
      ]
     },
     "metadata": {},
     "output_type": "display_data"
    }
   ],
   "source": [
    "V_gen = ( \n",
    "            ( 1 - rs / sp.sqrt(x**2 + x0**2) ) * (\n",
    "            + l*(l+1) / (x**2 + x0**2) \n",
    "            + (1-s)*(2-s) * ( x**2 * ( 1 - rs / sp.sqrt(x**2 + x0**2) ) - (x**2 + x0**2) ) / (x**2 + x0**2)**2\n",
    "            + (1-s) * ( rs * (3*x**2 -x0**2) + 3*x0**2 * sp.sqrt(x**2 + x0**2) ) / (x**2 + x0**2)**(sp.Rational(5/2))\n",
    "            ) \n",
    "        )\n",
    "display(V_gen)"
   ]
  },
  {
   "cell_type": "markdown",
   "id": "3860c261",
   "metadata": {},
   "source": [
    "Let's display each spin case"
   ]
  },
  {
   "cell_type": "code",
   "execution_count": 155,
   "id": "ef520866",
   "metadata": {},
   "outputs": [
    {
     "data": {
      "text/latex": [
       "$\\displaystyle \\left(- \\frac{r_{s}}{x} + 1\\right) \\left(\\frac{\\ell \\left(\\ell + 1\\right)}{x^{2}} + \\frac{3 r_{s}}{x^{3}} + \\frac{2 \\left(x^{2} \\left(- \\frac{r_{s}}{x} + 1\\right) - x^{2}\\right)}{x^{4}}\\right)$"
      ],
      "text/plain": [
       "(-r_s/x + 1)*(ell*(ell + 1)/x**2 + 3*r_s/x**3 + 2*(x**2*(-r_s/x + 1) - x**2)/x**4)"
      ]
     },
     "metadata": {},
     "output_type": "display_data"
    },
    {
     "data": {
      "text/latex": [
       "$\\displaystyle \\frac{\\ell \\left(\\ell + 1\\right) \\left(- \\frac{r_{s}}{x} + 1\\right)}{x^{2}}$"
      ],
      "text/plain": [
       "ell*(ell + 1)*(-r_s/x + 1)/x**2"
      ]
     },
     "metadata": {},
     "output_type": "display_data"
    },
    {
     "data": {
      "text/latex": [
       "$\\displaystyle \\left(- \\frac{r_{s}}{x} + 1\\right) \\left(\\frac{\\ell \\left(\\ell + 1\\right)}{x^{2}} - \\frac{3 r_{s}}{x^{3}}\\right)$"
      ],
      "text/plain": [
       "(-r_s/x + 1)*(ell*(ell + 1)/x**2 - 3*r_s/x**3)"
      ]
     },
     "metadata": {},
     "output_type": "display_data"
    }
   ],
   "source": [
    "display(\n",
    "    V_gen.subs(s, 0).subs(x0, 0),\n",
    "    V_gen.subs(s, 1).subs(x0, 0),\n",
    "    V_gen.subs(s, 2).subs(x0, 0)\n",
    ")"
   ]
  },
  {
   "cell_type": "markdown",
   "id": "357bd8b1",
   "metadata": {},
   "source": [
    "Check if general form reproduces correct results. For the Schwarzschild case, we have a general potential of the form:"
   ]
  },
  {
   "cell_type": "code",
   "execution_count": 156,
   "id": "b8b9e17a",
   "metadata": {},
   "outputs": [
    {
     "data": {
      "text/latex": [
       "$\\displaystyle \\left(- \\frac{r_{s}}{x} + 1\\right) \\left(\\frac{\\ell \\left(\\ell + 1\\right)}{x^{2}} + \\frac{r_{s} \\left(1 - s^{2}\\right)}{x^{3}}\\right)$"
      ],
      "text/plain": [
       "(-r_s/x + 1)*(ell*(ell + 1)/x**2 + r_s*(1 - s**2)/x**3)"
      ]
     },
     "metadata": {},
     "output_type": "display_data"
    }
   ],
   "source": [
    "V_gen_sch = (1 - rs / x) * ( l*(l+1)/x**2 + (1-s**2)*rs/x**3 )\n",
    "display(V_gen_sch)"
   ]
  },
  {
   "cell_type": "markdown",
   "id": "0aac33a4",
   "metadata": {},
   "source": [
    "For each spin case we have:"
   ]
  },
  {
   "cell_type": "code",
   "execution_count": 157,
   "id": "5f875fd7",
   "metadata": {},
   "outputs": [
    {
     "data": {
      "text/latex": [
       "$\\displaystyle \\left(- \\frac{r_{s}}{x} + 1\\right) \\left(\\frac{\\ell \\left(\\ell + 1\\right)}{x^{2}} + \\frac{r_{s}}{x^{3}}\\right)$"
      ],
      "text/plain": [
       "(-r_s/x + 1)*(ell*(ell + 1)/x**2 + r_s/x**3)"
      ]
     },
     "metadata": {},
     "output_type": "display_data"
    },
    {
     "data": {
      "text/latex": [
       "$\\displaystyle \\frac{\\ell \\left(\\ell + 1\\right) \\left(- \\frac{r_{s}}{x} + 1\\right)}{x^{2}}$"
      ],
      "text/plain": [
       "ell*(ell + 1)*(-r_s/x + 1)/x**2"
      ]
     },
     "metadata": {},
     "output_type": "display_data"
    },
    {
     "data": {
      "text/latex": [
       "$\\displaystyle \\left(- \\frac{r_{s}}{x} + 1\\right) \\left(\\frac{\\ell \\left(\\ell + 1\\right)}{x^{2}} - \\frac{3 r_{s}}{x^{3}}\\right)$"
      ],
      "text/plain": [
       "(-r_s/x + 1)*(ell*(ell + 1)/x**2 - 3*r_s/x**3)"
      ]
     },
     "metadata": {},
     "output_type": "display_data"
    }
   ],
   "source": [
    "display(\n",
    "    V_gen_sch.subs(s, 0),\n",
    "    V_gen_sch.subs(s, 1),\n",
    "    V_gen_sch.subs(s, 2)\n",
    ")"
   ]
  },
  {
   "cell_type": "markdown",
   "id": "85943828",
   "metadata": {},
   "source": [
    "Check if our general potential for Simpson-Visser correctly reproduces potential for Schwarzschild"
   ]
  },
  {
   "cell_type": "code",
   "execution_count": 158,
   "id": "d6b9f021",
   "metadata": {},
   "outputs": [
    {
     "data": {
      "text/plain": [
       "True"
      ]
     },
     "metadata": {},
     "output_type": "display_data"
    },
    {
     "data": {
      "text/plain": [
       "True"
      ]
     },
     "metadata": {},
     "output_type": "display_data"
    },
    {
     "data": {
      "text/plain": [
       "True"
      ]
     },
     "metadata": {},
     "output_type": "display_data"
    }
   ],
   "source": [
    "display(\n",
    "    ( V_gen.subs(s, 0).subs(x0, 0) - V_gen_sch.subs(s, 0) ).simplify() == 0,\n",
    "    ( V_gen.subs(s, 1).subs(x0, 0) - V_gen_sch.subs(s, 1) ).simplify() == 0,\n",
    "    ( V_gen.subs(s, 2).subs(x0, 0) - V_gen_sch.subs(s, 2) ).simplify() == 0\n",
    ")"
   ]
  },
  {
   "cell_type": "markdown",
   "id": "f60980ab",
   "metadata": {},
   "source": [
    "Thus, we can correctly obtain the Schwarzschild case from the general form of the Simpson-Visser potential by setting $x_0 = 0$"
   ]
  },
  {
   "cell_type": "code",
   "execution_count": 159,
   "id": "092302f5",
   "metadata": {},
   "outputs": [
    {
     "data": {
      "text/latex": [
       "$\\displaystyle \\left(- \\frac{r_{s}}{x} + 1\\right) \\left(\\frac{\\ell \\left(\\ell + 1\\right)}{x^{2}} + \\frac{3 r_{s}}{x^{3}} + \\frac{2 \\left(x^{2} \\left(- \\frac{r_{s}}{x} + 1\\right) - x^{2}\\right)}{x^{4}}\\right)$"
      ],
      "text/plain": [
       "(-r_s/x + 1)*(ell*(ell + 1)/x**2 + 3*r_s/x**3 + 2*(x**2*(-r_s/x + 1) - x**2)/x**4)"
      ]
     },
     "metadata": {},
     "output_type": "display_data"
    },
    {
     "data": {
      "text/latex": [
       "$\\displaystyle \\frac{\\ell \\left(\\ell + 1\\right) \\left(- \\frac{r_{s}}{x} + 1\\right)}{x^{2}}$"
      ],
      "text/plain": [
       "ell*(ell + 1)*(-r_s/x + 1)/x**2"
      ]
     },
     "metadata": {},
     "output_type": "display_data"
    },
    {
     "data": {
      "text/latex": [
       "$\\displaystyle \\left(- \\frac{r_{s}}{x} + 1\\right) \\left(\\frac{\\ell \\left(\\ell + 1\\right)}{x^{2}} - \\frac{3 r_{s}}{x^{3}}\\right)$"
      ],
      "text/plain": [
       "(-r_s/x + 1)*(ell*(ell + 1)/x**2 - 3*r_s/x**3)"
      ]
     },
     "metadata": {},
     "output_type": "display_data"
    }
   ],
   "source": [
    "display(\n",
    "    V_gen.subs(s, 0).subs(x0, 0),\n",
    "    V_gen.subs(s, 1).subs(x0, 0),\n",
    "    V_gen.subs(s, 2).subs(x0, 0),\n",
    ")"
   ]
  },
  {
   "cell_type": "markdown",
   "id": "7082d36e",
   "metadata": {},
   "source": [
    "### **Coordinate transformation** $x_* \\rightarrow x \\rightarrow y$"
   ]
  },
  {
   "cell_type": "markdown",
   "id": "213c6af9",
   "metadata": {},
   "source": [
    "We can now focus on the tortoise coordinate differential element:\n",
    "$$\n",
    "dx_* = \\sqrt{\\frac{F(x)}{G(x)}}\\,dx = \\sqrt{\\frac{F(y)}{G(y)}}\\,dy\n",
    "$$\n",
    "\n",
    "Define change of variables given by:\n",
    "$$\n",
    "y = 1 - \\frac{r_s}{\\sqrt{x^2 + x_0^2}} \\rightarrow x = \\sqrt{\\left(\\frac\n",
    "{r_s}{1-y}\\right)^2 - x_0^2}\n",
    "$$"
   ]
  },
  {
   "cell_type": "markdown",
   "id": "d7ef21c5",
   "metadata": {},
   "source": [
    "We must be careful with this change of coordinates, since depending on the value of $x_0$, we have different cases:\n",
    "\n",
    "- $x_0 > r_s\\,(2m) \\implies$ *Two-Way Transversable Worm-Hole*, $y \\in [1 - r_s/x_0 < 1, 1]$, well-defined function so everything should work!\n",
    "- $x_0 = r_s\\,(2m) \\implies$ *One-Way Wormhole with Null Throat*, $y \\in [0, 1]$, again, well-defined and everything should work!\n",
    "- $x_0 < r_s\\,(2m) \\implies$ *Regular Black-Hole*, $y \\in [1 - r_s / x_0^2 < 0, 1]$, as long as $x_0 > 0$, it seems to work!\n",
    "- $x_0 = 0 \\implies$ *Schwarzschild Black-Hole*, $y \\in [-\\infty, 1]$ well-defined\n",
    "\n",
    "Now, the value of $y$ is bounded between $y_{\\min} = 1 - r_s/x_0$ and $y_{\\max} = 1$. For BH case where $x_0 < r_s$, $y_{\\min} < 0$ and the horizon is crossed, while for the Regular BH or WH with $x_0 > r_s$, $y_{\\min} > 0$ and the singularity is avoided."
   ]
  },
  {
   "cell_type": "markdown",
   "id": "17a27c26",
   "metadata": {},
   "source": [
    "Let's compute the derivative $dx / dy$"
   ]
  },
  {
   "cell_type": "code",
   "execution_count": 160,
   "id": "da660ca4",
   "metadata": {},
   "outputs": [
    {
     "data": {
      "text/latex": [
       "$\\displaystyle y$"
      ],
      "text/plain": [
       "y"
      ]
     },
     "metadata": {},
     "output_type": "display_data"
    },
    {
     "data": {
      "text/latex": [
       "$\\displaystyle \\psi{\\left(y \\right)}$"
      ],
      "text/plain": [
       "psi(y)"
      ]
     },
     "metadata": {},
     "output_type": "display_data"
    }
   ],
   "source": [
    "# Define new coordinate\n",
    "y = sp.symbols('y')\n",
    "psi_y = psi.subs(x, y)\n",
    "display(y, psi_y)"
   ]
  },
  {
   "cell_type": "code",
   "execution_count": 161,
   "id": "9f70b44c",
   "metadata": {},
   "outputs": [
    {
     "data": {
      "text/latex": [
       "$\\displaystyle - \\frac{r_{s}}{\\sqrt{x^{2} + x_{0}^{2}}} + 1$"
      ],
      "text/plain": [
       "-r_s/sqrt(x**2 + x_0**2) + 1"
      ]
     },
     "metadata": {},
     "output_type": "display_data"
    }
   ],
   "source": [
    "# Define change of variables y = y(x) = G(x)\n",
    "var_change_y = G\n",
    "display(var_change_y)"
   ]
  },
  {
   "cell_type": "code",
   "execution_count": 162,
   "id": "b602fa65",
   "metadata": {},
   "outputs": [
    {
     "data": {
      "text/latex": [
       "$\\displaystyle \\sqrt{\\frac{r_{s}^{2}}{\\left(1 - y\\right)^{2}} - x_{0}^{2}}$"
      ],
      "text/plain": [
       "sqrt(r_s**2/(1 - y)**2 - x_0**2)"
      ]
     },
     "metadata": {},
     "output_type": "display_data"
    }
   ],
   "source": [
    "# Define inverse change of variables x = x(y)\n",
    "var_change_x = sp.sqrt( (rs / (1-y))**2 - x0**2 )\n",
    "display(var_change_x)"
   ]
  },
  {
   "cell_type": "code",
   "execution_count": 163,
   "id": "5b515e5b",
   "metadata": {},
   "outputs": [
    {
     "data": {
      "text/latex": [
       "$\\displaystyle \\frac{r_{s}^{2}}{\\left(1 - y\\right)^{3} \\sqrt{\\frac{r_{s}^{2}}{\\left(1 - y\\right)^{2}} - x_{0}^{2}}}$"
      ],
      "text/plain": [
       "r_s**2/((1 - y)**3*sqrt(r_s**2/(1 - y)**2 - x_0**2))"
      ]
     },
     "metadata": {},
     "output_type": "display_data"
    }
   ],
   "source": [
    "dx = sp.Derivative(var_change_x, y, evaluate = True)\n",
    "display(dx)"
   ]
  },
  {
   "cell_type": "markdown",
   "id": "bd8728dd",
   "metadata": {},
   "source": [
    "We can obtain $dx_*$ in terms of $dy$, and therefore the term $dx_*/dy$, as:"
   ]
  },
  {
   "cell_type": "code",
   "execution_count": 164,
   "id": "50ce9944",
   "metadata": {},
   "outputs": [
    {
     "data": {
      "text/latex": [
       "$\\displaystyle \\frac{r_{s}^{2}}{y \\left(1 - y\\right)^{3} \\sqrt{\\frac{r_{s}^{2}}{\\left(1 - y\\right)^{2}} - x_{0}^{2}}}$"
      ],
      "text/plain": [
       "r_s**2/(y*(1 - y)**3*sqrt(r_s**2/(1 - y)**2 - x_0**2))"
      ]
     },
     "metadata": {},
     "output_type": "display_data"
    }
   ],
   "source": [
    "dxstardy = 1/y * dx\n",
    "display(dxstardy)"
   ]
  },
  {
   "cell_type": "markdown",
   "id": "d79afbb1",
   "metadata": {},
   "source": [
    "The inverse relation is simply $dy/dx_*$:"
   ]
  },
  {
   "cell_type": "code",
   "execution_count": 165,
   "id": "38ffa5b0",
   "metadata": {},
   "outputs": [
    {
     "data": {
      "text/latex": [
       "$\\displaystyle \\frac{y \\left(1 - y\\right)^{3} \\sqrt{\\frac{r_{s}^{2}}{\\left(1 - y\\right)^{2}} - x_{0}^{2}}}{r_{s}^{2}}$"
      ],
      "text/plain": [
       "y*(1 - y)**3*sqrt(r_s**2/(1 - y)**2 - x_0**2)/r_s**2"
      ]
     },
     "metadata": {},
     "output_type": "display_data"
    }
   ],
   "source": [
    "dydxstar = 1/dxstardy\n",
    "display(dydxstar)"
   ]
  },
  {
   "cell_type": "markdown",
   "id": "43b5dbd9",
   "metadata": {},
   "source": [
    "This allows us to expand the second derivative in our equation as:\n",
    "$$\n",
    "\\frac{d^2\\psi(x)}{dx_*^2} = \\left(\\frac{d^2y}{dx_*^2}\\right)\\frac{d\\psi(y)}{dy} + \\left(\\frac{dy}{dx_*}\\right)^2\\frac{d^2\\psi}{dy^2}\n",
    "$$\n",
    "\n",
    "where:\n",
    "$$\n",
    "\\frac{d^2y}{dx_*^2} = - \\frac{d/dy(dx_*/dy)}{(dx_*/dy)^3}\n",
    "$$\n",
    "\n",
    "First, let's compute $d^2y/dx_*^2$"
   ]
  },
  {
   "cell_type": "code",
   "execution_count": 166,
   "id": "47010add",
   "metadata": {},
   "outputs": [
    {
     "data": {
      "text/latex": [
       "$\\displaystyle - \\frac{y \\left(y - 1\\right)^{3} \\left(- 3 r_{s}^{2} y + r_{s}^{2} + 4 x_{0}^{2} y^{3} - 9 x_{0}^{2} y^{2} + 6 x_{0}^{2} y - x_{0}^{2}\\right)}{r_{s}^{4}}$"
      ],
      "text/plain": [
       "-y*(y - 1)**3*(-3*r_s**2*y + r_s**2 + 4*x_0**2*y**3 - 9*x_0**2*y**2 + 6*x_0**2*y - x_0**2)/r_s**4"
      ]
     },
     "metadata": {},
     "output_type": "display_data"
    }
   ],
   "source": [
    "ddyddxstar = - ( sp.Derivative( dxstardy, y, evaluate = True ) / (dxstardy)**3 ).simplify().factor()\n",
    "display(ddyddxstar)"
   ]
  },
  {
   "cell_type": "markdown",
   "id": "fa28dcd1",
   "metadata": {},
   "source": [
    "The second derivative of the wave function $d^2\\psi/dx_*^2$ in terms of the coordinate $y$ can be written as:"
   ]
  },
  {
   "cell_type": "code",
   "execution_count": 167,
   "id": "37a91405",
   "metadata": {},
   "outputs": [
    {
     "data": {
      "text/latex": [
       "$\\displaystyle \\frac{y^{2} \\left(1 - y\\right)^{6} \\left(\\frac{r_{s}^{2}}{\\left(1 - y\\right)^{2}} - x_{0}^{2}\\right) \\frac{d^{2}}{d y^{2}} \\psi{\\left(y \\right)}}{r_{s}^{4}} - \\frac{y \\left(y - 1\\right)^{3} \\left(- 3 r_{s}^{2} y + r_{s}^{2} + 4 x_{0}^{2} y^{3} - 9 x_{0}^{2} y^{2} + 6 x_{0}^{2} y - x_{0}^{2}\\right) \\frac{d}{d y} \\psi{\\left(y \\right)}}{r_{s}^{4}}$"
      ],
      "text/plain": [
       "y**2*(1 - y)**6*(r_s**2/(1 - y)**2 - x_0**2)*Derivative(psi(y), (y, 2))/r_s**4 - y*(y - 1)**3*(-3*r_s**2*y + r_s**2 + 4*x_0**2*y**3 - 9*x_0**2*y**2 + 6*x_0**2*y - x_0**2)*Derivative(psi(y), y)/r_s**4"
      ]
     },
     "metadata": {},
     "output_type": "display_data"
    }
   ],
   "source": [
    "# Define new second derivative in terms of y\n",
    "ddpsi_y = (ddyddxstar) * dpsi.subs(x, y) + (dydxstar)**2 * ddpsi.subs(x, y)\n",
    "display(ddpsi_y)"
   ]
  },
  {
   "cell_type": "code",
   "execution_count": 168,
   "id": "9d294bc6",
   "metadata": {},
   "outputs": [
    {
     "data": {
      "text/latex": [
       "$\\displaystyle \\frac{d}{d y} \\psi{\\left(y \\right)}$"
      ],
      "text/plain": [
       "Derivative(psi(y), y)"
      ]
     },
     "metadata": {},
     "output_type": "display_data"
    }
   ],
   "source": [
    "# Also redefine first derivative in new coordinate\n",
    "dpsi_y = dpsi.subs(x, y)\n",
    "display(dpsi_y)"
   ]
  },
  {
   "cell_type": "markdown",
   "id": "c7f59f3e",
   "metadata": {},
   "source": [
    "### **Boundary conditions**\n",
    "\n",
    "In order to obtain physical solutions we must impose boundary conditions. For now, let's follow \"standard procedure\" (as in Schwarzschild) of taking:\n",
    "$$\n",
    "\\psi(x_*) \\sim e^{\\mp i\\omega x_*} \\text{ for } x_* \\rightarrow \\pm\\infty\n",
    "$$\n",
    "\n",
    "which can be achieved by redefining:\n",
    "$$\n",
    "\\psi(y) = y^{-i\\omega r_s}(1-y)^{-i\\omega r_s}\\exp\\left( \\frac{i\\omega r_s}{1-y} \\right)\\phi(y) = \\tilde{\\psi}(y)\\phi(y)\n",
    "$$\n",
    "\n",
    "To use this in our equation, first we must calculate the first and second derivatives:\n",
    "$$\n",
    "\\frac{d\\psi(y)}{dy} = \\frac{d\\tilde{\\psi}(y)}{dy}\\phi(y) + \\tilde{\\psi}(y) \\frac{d\\phi(y)}{dy} = (\\dots)\\tilde{\\psi}(y)\\phi(y) + \\tilde{\\psi}(y)\\frac{d\\phi(y)}{dy}\n",
    "$$\n",
    "\n",
    "where, due to the symmetry of the function, $d\\tilde{\\psi}(y)/dy \\sim \\tilde{\\psi}(y)$ will be proportional."
   ]
  },
  {
   "cell_type": "markdown",
   "id": "8d1f03e3",
   "metadata": {},
   "source": [
    "We must also be careful, as this ansatz reflects incoming waves at the horizon and outgoig wave at spatial infinity. This is valid for the BH and extremal case, but not for the WH case, as now there is no event horizon trapping information and we may have waves in both directions at either end of the tortoise coordinate. To fix this, we must impose a different ansatz for sinusoidal boundary conditions or symmetry / antisymmetry."
   ]
  },
  {
   "cell_type": "code",
   "execution_count": 169,
   "id": "4df3e007",
   "metadata": {},
   "outputs": [
    {
     "data": {
      "text/latex": [
       "$\\displaystyle \\phi{\\left(y \\right)}$"
      ],
      "text/plain": [
       "phi(y)"
      ]
     },
     "metadata": {},
     "output_type": "display_data"
    },
    {
     "data": {
      "text/latex": [
       "$\\displaystyle \\frac{d}{d y} \\phi{\\left(y \\right)}$"
      ],
      "text/plain": [
       "Derivative(phi(y), y)"
      ]
     },
     "metadata": {},
     "output_type": "display_data"
    },
    {
     "data": {
      "text/latex": [
       "$\\displaystyle \\frac{d^{2}}{d y^{2}} \\phi{\\left(y \\right)}$"
      ],
      "text/plain": [
       "Derivative(phi(y), (y, 2))"
      ]
     },
     "metadata": {},
     "output_type": "display_data"
    }
   ],
   "source": [
    "# Define new phi function and its derivatives\n",
    "phi = sp.Function(\"phi\")(y)\n",
    "dphi = sp.Derivative(phi, y, evaluate = False)\n",
    "ddphi = sp.Derivative(dphi, y, evaluate = False)\n",
    "display(phi, dphi, ddphi)"
   ]
  },
  {
   "cell_type": "code",
   "execution_count": 170,
   "id": "860c30b8",
   "metadata": {},
   "outputs": [
    {
     "data": {
      "text/latex": [
       "$\\displaystyle y^{- i \\omega r_{s}} \\left(1 - y\\right)^{- i \\omega r_{s}} \\phi{\\left(y \\right)} e^{\\frac{i \\omega r_{s}}{1 - y}}$"
      ],
      "text/plain": [
       "phi(y)*exp(I*omega*r_s/(1 - y))/(y**(I*omega*r_s)*(1 - y)**(I*omega*r_s))"
      ]
     },
     "metadata": {},
     "output_type": "display_data"
    }
   ],
   "source": [
    "# Define new psi function\n",
    "psi_bc = y**(-sp.I * w * rs) * (1-y)**(-sp.I * w * rs) * sp.exp( sp.I * w * rs / (1-y) ) * phi\n",
    "display(psi_bc)"
   ]
  },
  {
   "cell_type": "code",
   "execution_count": 171,
   "id": "beecd7d3",
   "metadata": {},
   "outputs": [
    {
     "data": {
      "text/latex": [
       "$\\displaystyle \\frac{i \\omega r_{s} y^{- i \\omega r_{s}} \\left(1 - y\\right)^{- i \\omega r_{s}} \\phi{\\left(y \\right)} e^{\\frac{i \\omega r_{s}}{1 - y}}}{1 - y} + \\frac{i \\omega r_{s} y^{- i \\omega r_{s}} \\left(1 - y\\right)^{- i \\omega r_{s}} \\phi{\\left(y \\right)} e^{\\frac{i \\omega r_{s}}{1 - y}}}{\\left(1 - y\\right)^{2}} - \\frac{i \\omega r_{s} y^{- i \\omega r_{s}} \\left(1 - y\\right)^{- i \\omega r_{s}} \\phi{\\left(y \\right)} e^{\\frac{i \\omega r_{s}}{1 - y}}}{y} + y^{- i \\omega r_{s}} \\left(1 - y\\right)^{- i \\omega r_{s}} e^{\\frac{i \\omega r_{s}}{1 - y}} \\frac{d}{d y} \\phi{\\left(y \\right)}$"
      ],
      "text/plain": [
       "I*omega*r_s*phi(y)*exp(I*omega*r_s/(1 - y))/(y**(I*omega*r_s)*(1 - y)*(1 - y)**(I*omega*r_s)) + I*omega*r_s*phi(y)*exp(I*omega*r_s/(1 - y))/(y**(I*omega*r_s)*(1 - y)**2*(1 - y)**(I*omega*r_s)) - I*omega*r_s*phi(y)*exp(I*omega*r_s/(1 - y))/(y*y**(I*omega*r_s)*(1 - y)**(I*omega*r_s)) + exp(I*omega*r_s/(1 - y))*Derivative(phi(y), y)/(y**(I*omega*r_s)*(1 - y)**(I*omega*r_s))"
      ]
     },
     "metadata": {},
     "output_type": "display_data"
    }
   ],
   "source": [
    "# Compute its first derivative\n",
    "psi_bc_der = sp.Derivative(psi_bc, y, evaluate = True)\n",
    "display(psi_bc_der)"
   ]
  },
  {
   "cell_type": "code",
   "execution_count": 172,
   "id": "f2176c61",
   "metadata": {},
   "outputs": [
    {
     "data": {
      "text/latex": [
       "$\\displaystyle - \\frac{i \\omega r_{s} \\left(2 y^{2} - 4 y + 1\\right)}{y \\left(y - 1\\right)^{2}}$"
      ],
      "text/plain": [
       "-I*omega*r_s*(2*y**2 - 4*y + 1)/(y*(y - 1)**2)"
      ]
     },
     "metadata": {},
     "output_type": "display_data"
    }
   ],
   "source": [
    "# Extract coefficient that accompanies the original function [ we call this (...) ]\n",
    "dpsi_bc_coeff = psi_bc_der.coeff( psi_bc ).factor()\n",
    "display(dpsi_bc_coeff)"
   ]
  },
  {
   "cell_type": "code",
   "execution_count": 173,
   "id": "7e683b2e",
   "metadata": {},
   "outputs": [
    {
     "data": {
      "text/latex": [
       "$\\displaystyle - \\frac{i \\omega r_{s} \\left(2 y^{2} - 4 y + 1\\right) \\phi{\\left(y \\right)}}{y \\left(y - 1\\right)^{2}} + \\frac{d}{d y} \\phi{\\left(y \\right)}$"
      ],
      "text/plain": [
       "-I*omega*r_s*(2*y**2 - 4*y + 1)*phi(y)/(y*(y - 1)**2) + Derivative(phi(y), y)"
      ]
     },
     "metadata": {},
     "output_type": "display_data"
    }
   ],
   "source": [
    "# Define now the first derivative (ignoring psi tilde term) after boundary conditions\n",
    "dpsi_bc = dpsi_bc_coeff * phi + dphi\n",
    "display(dpsi_bc)"
   ]
  },
  {
   "cell_type": "markdown",
   "id": "371a3518",
   "metadata": {},
   "source": [
    "Now, we must calculate the second derivative:\n",
    "$$\n",
    "\\begin{align*}\n",
    "\\frac{d^2\\psi(y)}{dy^2} &= \\frac{d(\\dots)}{dy}\\tilde{\\psi}(y)\\phi(y) + (\\dots)\\frac{d\\tilde{\\psi}(y)}{dy}\\phi(y) + (\\dots)\\tilde{\\psi}(y)\\frac{d\\phi(y)}{dy} + \\frac{d\\tilde{\\psi}(y)}{dy}\\frac{d\\phi(y)}{dy} + \\tilde{\\psi}(y)\\frac{d^2\\phi(y)}{dy^2} \\\\\n",
    "&= \\frac{d(\\dots)}{dy}\\tilde{\\psi}(y)\\phi(y) + (\\dots)^2\\tilde{\\psi}(y)\\phi(y) + (\\dots)\\tilde{\\psi}(y)\\frac{d\\phi(y)}{dy} \n",
    "+ (\\dots)\\tilde{\\psi}(y)\\frac{d\\phi(y)}{dy} + \\tilde{\\psi}(y)\\frac{d^2\\phi(y)}{dy^2} \\\\\n",
    "&\\sim \\left[ \\frac{d(\\dots)}{dy} + (\\dots)^2 \\right]\\phi(y) + 2(\\dots) \\frac{d\\phi(y)}{dy} + \\frac{d^2\\phi(y)}{dy^2}\n",
    "\\end{align*}\n",
    "$$"
   ]
  },
  {
   "cell_type": "code",
   "execution_count": 174,
   "id": "e27514a5",
   "metadata": {},
   "outputs": [
    {
     "data": {
      "text/latex": [
       "$\\displaystyle \\frac{i \\omega r_{s} \\left(2 y^{3} - 6 y^{2} + 3 y - 1\\right)}{y^{2} \\left(y - 1\\right)^{3}}$"
      ],
      "text/plain": [
       "I*omega*r_s*(2*y**3 - 6*y**2 + 3*y - 1)/(y**2*(y - 1)**3)"
      ]
     },
     "metadata": {},
     "output_type": "display_data"
    }
   ],
   "source": [
    "# Compute derivative of coefficient\n",
    "ddpsi_bc_coeff = sp.Derivative( dpsi_bc_coeff, y, evaluate = True ).factor()\n",
    "display(ddpsi_bc_coeff)"
   ]
  },
  {
   "cell_type": "code",
   "execution_count": 175,
   "id": "cdc2487b",
   "metadata": {},
   "outputs": [
    {
     "data": {
      "text/latex": [
       "$\\displaystyle - \\frac{2 i \\omega r_{s} \\left(2 y^{2} - 4 y + 1\\right) \\frac{d}{d y} \\phi{\\left(y \\right)}}{y \\left(y - 1\\right)^{2}} + \\left(- \\frac{\\omega^{2} r_{s}^{2} \\left(2 y^{2} - 4 y + 1\\right)^{2}}{y^{2} \\left(y - 1\\right)^{4}} + \\frac{i \\omega r_{s} \\left(2 y^{3} - 6 y^{2} + 3 y - 1\\right)}{y^{2} \\left(y - 1\\right)^{3}}\\right) \\phi{\\left(y \\right)} + \\frac{d^{2}}{d y^{2}} \\phi{\\left(y \\right)}$"
      ],
      "text/plain": [
       "-2*I*omega*r_s*(2*y**2 - 4*y + 1)*Derivative(phi(y), y)/(y*(y - 1)**2) + (-omega**2*r_s**2*(2*y**2 - 4*y + 1)**2/(y**2*(y - 1)**4) + I*omega*r_s*(2*y**3 - 6*y**2 + 3*y - 1)/(y**2*(y - 1)**3))*phi(y) + Derivative(phi(y), (y, 2))"
      ]
     },
     "metadata": {},
     "output_type": "display_data"
    }
   ],
   "source": [
    "# We can now define the second derivative\n",
    "ddpsi_bc = ( ddpsi_bc_coeff + dpsi_bc_coeff**2 ) * phi + 2 * dpsi_bc_coeff * dphi + ddphi\n",
    "display(ddpsi_bc)"
   ]
  },
  {
   "cell_type": "markdown",
   "id": "3b412920",
   "metadata": {},
   "source": [
    "### **General Equation**"
   ]
  },
  {
   "cell_type": "markdown",
   "id": "b7207718",
   "metadata": {},
   "source": [
    "Begin by writing out the equation with the general potential, perform the change of variable, and introduce ansatz for the boundary conditions"
   ]
  },
  {
   "cell_type": "code",
   "execution_count": 176,
   "id": "8a71b284",
   "metadata": {},
   "outputs": [
    {
     "data": {
      "text/latex": [
       "$\\displaystyle \\left(\\omega^{2} - \\left(2 - y\\right) \\left(\\frac{\\ell \\left(\\ell + 1\\right) \\left(y - 1\\right)^{2}}{r_{s}^{2}} + \\frac{\\left(1 - s\\right) \\left(2 - s\\right) \\left(y - 1\\right)^{4} \\left(- \\frac{r_{s}^{2}}{\\left(y - 1\\right)^{2}} + \\left(2 - y\\right) \\left(\\frac{r_{s}^{2}}{\\left(y - 1\\right)^{2}} - x_{0}^{2}\\right)\\right)}{r_{s}^{4}} + \\frac{\\left(1 - s\\right) \\left(y - 1\\right)^{5} \\left(\\frac{3 r_{s} x_{0}^{2}}{y - 1} + r_{s} \\left(\\frac{3 r_{s}^{2}}{\\left(y - 1\\right)^{2}} - 4 x_{0}^{2}\\right)\\right)}{r_{s}^{5}}\\right)\\right) \\phi{\\left(y \\right)} + \\frac{y^{2} \\left(y - 1\\right)^{6} \\left(\\frac{r_{s}^{2}}{\\left(y - 1\\right)^{2}} - x_{0}^{2}\\right) \\left(- \\frac{2 i \\omega r_{s} \\left(2 y^{2} - 4 y + 1\\right) \\frac{d}{d y} \\phi{\\left(y \\right)}}{y \\left(y - 1\\right)^{2}} + \\left(- \\frac{\\omega^{2} r_{s}^{2} \\left(2 y^{2} - 4 y + 1\\right)^{2}}{y^{2} \\left(y - 1\\right)^{4}} + \\frac{i \\omega r_{s} \\left(2 y^{3} - 6 y^{2} + 3 y - 1\\right)}{y^{2} \\left(y - 1\\right)^{3}}\\right) \\phi{\\left(y \\right)} + \\frac{d^{2}}{d y^{2}} \\phi{\\left(y \\right)}\\right)}{r_{s}^{4}} - \\frac{y \\left(y - 1\\right)^{3} \\left(- \\frac{i \\omega r_{s} \\left(2 y^{2} - 4 y + 1\\right) \\phi{\\left(y \\right)}}{y \\left(y - 1\\right)^{2}} + \\frac{d}{d y} \\phi{\\left(y \\right)}\\right) \\left(- 3 r_{s}^{2} y + r_{s}^{2} + 4 x_{0}^{2} y^{3} - 9 x_{0}^{2} y^{2} + 6 x_{0}^{2} y - x_{0}^{2}\\right)}{r_{s}^{4}} = 0$"
      ],
      "text/plain": [
       "Eq((omega**2 - (2 - y)*(ell*(ell + 1)*(y - 1)**2/r_s**2 + (1 - s)*(2 - s)*(y - 1)**4*(-r_s**2/(y - 1)**2 + (2 - y)*(r_s**2/(y - 1)**2 - x_0**2))/r_s**4 + (1 - s)*(y - 1)**5*(3*r_s*x_0**2/(y - 1) + r_s*(3*r_s**2/(y - 1)**2 - 4*x_0**2))/r_s**5))*phi(y) + y**2*(y - 1)**6*(r_s**2/(y - 1)**2 - x_0**2)*(-2*I*omega*r_s*(2*y**2 - 4*y + 1)*Derivative(phi(y), y)/(y*(y - 1)**2) + (-omega**2*r_s**2*(2*y**2 - 4*y + 1)**2/(y**2*(y - 1)**4) + I*omega*r_s*(2*y**3 - 6*y**2 + 3*y - 1)/(y**2*(y - 1)**3))*phi(y) + Derivative(phi(y), (y, 2)))/r_s**4 - y*(y - 1)**3*(-I*omega*r_s*(2*y**2 - 4*y + 1)*phi(y)/(y*(y - 1)**2) + Derivative(phi(y), y))*(-3*r_s**2*y + r_s**2 + 4*x_0**2*y**3 - 9*x_0**2*y**2 + 6*x_0**2*y - x_0**2)/r_s**4, 0)"
      ]
     },
     "metadata": {},
     "output_type": "display_data"
    }
   ],
   "source": [
    "# First, insert potential\n",
    "eq_gen_pot = eq.subs( pot, V_gen )\n",
    "# Second, change of variable\n",
    "eq_gen_chvar = eq_gen_pot.subs( ddpsi_star, ddpsi_y ).subs(psi, psi_y).subs(x, var_change_x)\n",
    "# Third, insert boundary conditions\n",
    "eq_gen_bc = eq_gen_chvar.subs( {sp.Derivative(psi_y, y): dpsi_bc, sp.Derivative(sp.Derivative(psi_y, y), y): ddpsi_bc, psi_y: phi} )\n",
    "# Define equation with change of variable and boundary condition\n",
    "eq_gen = eq_gen_bc\n",
    "# Simplify assuming (1-y) > 0\n",
    "eq_gen = sp.Eq( sp.refine(eq_gen.lhs, sp.Q.positive(y-1)), 0 )\n",
    "# Display\n",
    "display(eq_gen)"
   ]
  },
  {
   "cell_type": "markdown",
   "id": "4b64f7be",
   "metadata": {},
   "source": [
    "Get all additive terms in the equation"
   ]
  },
  {
   "cell_type": "code",
   "execution_count": 177,
   "id": "039078a3",
   "metadata": {},
   "outputs": [
    {
     "data": {
      "text/latex": [
       "$\\displaystyle \\left(\\omega^{2} - \\left(2 - y\\right) \\left(\\frac{\\ell \\left(\\ell + 1\\right) \\left(y - 1\\right)^{2}}{r_{s}^{2}} + \\frac{\\left(1 - s\\right) \\left(2 - s\\right) \\left(y - 1\\right)^{4} \\left(- \\frac{r_{s}^{2}}{\\left(y - 1\\right)^{2}} + \\left(2 - y\\right) \\left(\\frac{r_{s}^{2}}{\\left(y - 1\\right)^{2}} - x_{0}^{2}\\right)\\right)}{r_{s}^{4}} + \\frac{\\left(1 - s\\right) \\left(y - 1\\right)^{5} \\left(\\frac{3 r_{s} x_{0}^{2}}{y - 1} + r_{s} \\left(\\frac{3 r_{s}^{2}}{\\left(y - 1\\right)^{2}} - 4 x_{0}^{2}\\right)\\right)}{r_{s}^{5}}\\right)\\right) \\phi{\\left(y \\right)}$"
      ],
      "text/plain": [
       "(omega**2 - (2 - y)*(ell*(ell + 1)*(y - 1)**2/r_s**2 + (1 - s)*(2 - s)*(y - 1)**4*(-r_s**2/(y - 1)**2 + (2 - y)*(r_s**2/(y - 1)**2 - x_0**2))/r_s**4 + (1 - s)*(y - 1)**5*(3*r_s*x_0**2/(y - 1) + r_s*(3*r_s**2/(y - 1)**2 - 4*x_0**2))/r_s**5))*phi(y)"
      ]
     },
     "metadata": {},
     "output_type": "display_data"
    },
    {
     "data": {
      "text/latex": [
       "$\\displaystyle \\frac{y^{2} \\left(y - 1\\right)^{6} \\left(\\frac{r_{s}^{2}}{\\left(y - 1\\right)^{2}} - x_{0}^{2}\\right) \\left(- \\frac{2 i \\omega r_{s} \\left(2 y^{2} - 4 y + 1\\right) \\frac{d}{d y} \\phi{\\left(y \\right)}}{y \\left(y - 1\\right)^{2}} + \\left(- \\frac{\\omega^{2} r_{s}^{2} \\left(2 y^{2} - 4 y + 1\\right)^{2}}{y^{2} \\left(y - 1\\right)^{4}} + \\frac{i \\omega r_{s} \\left(2 y^{3} - 6 y^{2} + 3 y - 1\\right)}{y^{2} \\left(y - 1\\right)^{3}}\\right) \\phi{\\left(y \\right)} + \\frac{d^{2}}{d y^{2}} \\phi{\\left(y \\right)}\\right)}{r_{s}^{4}}$"
      ],
      "text/plain": [
       "y**2*(y - 1)**6*(r_s**2/(y - 1)**2 - x_0**2)*(-2*I*omega*r_s*(2*y**2 - 4*y + 1)*Derivative(phi(y), y)/(y*(y - 1)**2) + (-omega**2*r_s**2*(2*y**2 - 4*y + 1)**2/(y**2*(y - 1)**4) + I*omega*r_s*(2*y**3 - 6*y**2 + 3*y - 1)/(y**2*(y - 1)**3))*phi(y) + Derivative(phi(y), (y, 2)))/r_s**4"
      ]
     },
     "metadata": {},
     "output_type": "display_data"
    },
    {
     "data": {
      "text/latex": [
       "$\\displaystyle - \\frac{y \\left(y - 1\\right)^{3} \\left(- \\frac{i \\omega r_{s} \\left(2 y^{2} - 4 y + 1\\right) \\phi{\\left(y \\right)}}{y \\left(y - 1\\right)^{2}} + \\frac{d}{d y} \\phi{\\left(y \\right)}\\right) \\left(- 3 r_{s}^{2} y + r_{s}^{2} + 4 x_{0}^{2} y^{3} - 9 x_{0}^{2} y^{2} + 6 x_{0}^{2} y - x_{0}^{2}\\right)}{r_{s}^{4}}$"
      ],
      "text/plain": [
       "-y*(y - 1)**3*(-I*omega*r_s*(2*y**2 - 4*y + 1)*phi(y)/(y*(y - 1)**2) + Derivative(phi(y), y))*(-3*r_s**2*y + r_s**2 + 4*x_0**2*y**3 - 9*x_0**2*y**2 + 6*x_0**2*y - x_0**2)/r_s**4"
      ]
     },
     "metadata": {},
     "output_type": "display_data"
    }
   ],
   "source": [
    "# Get additive terms in equation\n",
    "terms = eq_gen.lhs.as_ordered_terms()\n",
    "for term in terms:\n",
    "    display(term)"
   ]
  },
  {
   "cell_type": "code",
   "execution_count": 178,
   "id": "03eda537",
   "metadata": {},
   "outputs": [
    {
     "data": {
      "text/latex": [
       "$\\displaystyle \\left(\\frac{y^{2} \\left(y - 1\\right)^{4}}{r_{s}^{2}} - \\frac{x_{0}^{2} y^{2} \\left(y - 1\\right)^{6}}{r_{s}^{4}}\\right) \\frac{d^{2}}{d y^{2}} \\phi{\\left(y \\right)} + \\left(- \\frac{2 i \\omega y \\left(y - 1\\right)^{2} \\left(2 y^{2} - 4 y + 1\\right)}{r_{s}} + \\frac{2 i \\omega x_{0}^{2} y \\left(y - 1\\right)^{4} \\left(2 y^{2} - 4 y + 1\\right)}{r_{s}^{3}} + \\frac{3 y^{2} \\left(y - 1\\right)^{3}}{r_{s}^{2}} - \\frac{y \\left(y - 1\\right)^{3}}{r_{s}^{2}} - \\frac{4 x_{0}^{2} y^{4} \\left(y - 1\\right)^{3}}{r_{s}^{4}} + \\frac{9 x_{0}^{2} y^{3} \\left(y - 1\\right)^{3}}{r_{s}^{4}} - \\frac{6 x_{0}^{2} y^{2} \\left(y - 1\\right)^{3}}{r_{s}^{4}} + \\frac{x_{0}^{2} y \\left(y - 1\\right)^{3}}{r_{s}^{4}}\\right) \\frac{d}{d y} \\phi{\\left(y \\right)} + \\left(\\omega^{2} - \\frac{3 i \\omega y \\left(y - 1\\right) \\left(2 y^{2} - 4 y + 1\\right)}{r_{s}} + \\frac{i \\omega \\left(y - 1\\right) \\left(2 y^{2} - 4 y + 1\\right)}{r_{s}} + \\frac{4 i \\omega x_{0}^{2} y^{3} \\left(y - 1\\right) \\left(2 y^{2} - 4 y + 1\\right)}{r_{s}^{3}} - \\frac{9 i \\omega x_{0}^{2} y^{2} \\left(y - 1\\right) \\left(2 y^{2} - 4 y + 1\\right)}{r_{s}^{3}} + \\frac{6 i \\omega x_{0}^{2} y \\left(y - 1\\right) \\left(2 y^{2} - 4 y + 1\\right)}{r_{s}^{3}} - \\frac{i \\omega x_{0}^{2} \\left(y - 1\\right) \\left(2 y^{2} - 4 y + 1\\right)}{r_{s}^{3}} - \\left(2 - y\\right) \\left(\\frac{\\ell \\left(\\ell + 1\\right) \\left(y - 1\\right)^{2}}{r_{s}^{2}} + \\frac{\\left(1 - s\\right) \\left(2 - s\\right) \\left(y - 1\\right)^{4} \\left(- \\frac{r_{s}^{2}}{\\left(y - 1\\right)^{2}} + \\left(2 - y\\right) \\left(\\frac{r_{s}^{2}}{\\left(y - 1\\right)^{2}} - x_{0}^{2}\\right)\\right)}{r_{s}^{4}} + \\frac{\\left(1 - s\\right) \\left(y - 1\\right)^{5} \\left(\\frac{3 r_{s} x_{0}^{2}}{y - 1} + r_{s} \\left(\\frac{3 r_{s}^{2}}{\\left(y - 1\\right)^{2}} - 4 x_{0}^{2}\\right)\\right)}{r_{s}^{5}}\\right) + \\frac{y^{2} \\left(y - 1\\right)^{4} \\left(- \\frac{\\omega^{2} r_{s}^{2} \\left(2 y^{2} - 4 y + 1\\right)^{2}}{y^{2} \\left(y - 1\\right)^{4}} + \\frac{i \\omega r_{s} \\left(2 y^{3} - 6 y^{2} + 3 y - 1\\right)}{y^{2} \\left(y - 1\\right)^{3}}\\right)}{r_{s}^{2}} - \\frac{x_{0}^{2} y^{2} \\left(y - 1\\right)^{6} \\left(- \\frac{\\omega^{2} r_{s}^{2} \\left(2 y^{2} - 4 y + 1\\right)^{2}}{y^{2} \\left(y - 1\\right)^{4}} + \\frac{i \\omega r_{s} \\left(2 y^{3} - 6 y^{2} + 3 y - 1\\right)}{y^{2} \\left(y - 1\\right)^{3}}\\right)}{r_{s}^{4}}\\right) \\phi{\\left(y \\right)}$"
      ],
      "text/plain": [
       "(y**2*(y - 1)**4/r_s**2 - x_0**2*y**2*(y - 1)**6/r_s**4)*Derivative(phi(y), (y, 2)) + (-2*I*omega*y*(y - 1)**2*(2*y**2 - 4*y + 1)/r_s + 2*I*omega*x_0**2*y*(y - 1)**4*(2*y**2 - 4*y + 1)/r_s**3 + 3*y**2*(y - 1)**3/r_s**2 - y*(y - 1)**3/r_s**2 - 4*x_0**2*y**4*(y - 1)**3/r_s**4 + 9*x_0**2*y**3*(y - 1)**3/r_s**4 - 6*x_0**2*y**2*(y - 1)**3/r_s**4 + x_0**2*y*(y - 1)**3/r_s**4)*Derivative(phi(y), y) + (omega**2 - 3*I*omega*y*(y - 1)*(2*y**2 - 4*y + 1)/r_s + I*omega*(y - 1)*(2*y**2 - 4*y + 1)/r_s + 4*I*omega*x_0**2*y**3*(y - 1)*(2*y**2 - 4*y + 1)/r_s**3 - 9*I*omega*x_0**2*y**2*(y - 1)*(2*y**2 - 4*y + 1)/r_s**3 + 6*I*omega*x_0**2*y*(y - 1)*(2*y**2 - 4*y + 1)/r_s**3 - I*omega*x_0**2*(y - 1)*(2*y**2 - 4*y + 1)/r_s**3 - (2 - y)*(ell*(ell + 1)*(y - 1)**2/r_s**2 + (1 - s)*(2 - s)*(y - 1)**4*(-r_s**2/(y - 1)**2 + (2 - y)*(r_s**2/(y - 1)**2 - x_0**2))/r_s**4 + (1 - s)*(y - 1)**5*(3*r_s*x_0**2/(y - 1) + r_s*(3*r_s**2/(y - 1)**2 - 4*x_0**2))/r_s**5) + y**2*(y - 1)**4*(-omega**2*r_s**2*(2*y**2 - 4*y + 1)**2/(y**2*(y - 1)**4) + I*omega*r_s*(2*y**3 - 6*y**2 + 3*y - 1)/(y**2*(y - 1)**3))/r_s**2 - x_0**2*y**2*(y - 1)**6*(-omega**2*r_s**2*(2*y**2 - 4*y + 1)**2/(y**2*(y - 1)**4) + I*omega*r_s*(2*y**3 - 6*y**2 + 3*y - 1)/(y**2*(y - 1)**3))/r_s**4)*phi(y)"
      ]
     },
     "metadata": {},
     "output_type": "display_data"
    }
   ],
   "source": [
    "# Zero array for each phi and derivatives\n",
    "terms_phi = np.zeros(shape = 3, dtype = object)\n",
    "\n",
    "# For each term in differential equation\n",
    "for term in terms:\n",
    "\n",
    "    # Expand (not deep!)\n",
    "    term_exp = term.expand(deep = False)\n",
    "    \n",
    "    # Collect terms with phi and add it to array position\n",
    "    terms_phi[0] += term_exp.coeff(phi)\n",
    "    # Collect terms with dphi and add it to array position\n",
    "    terms_phi[1] += term_exp.coeff(dphi)\n",
    "    # Collect terms with ddphi and add it to array position\n",
    "    terms_phi[2] += term_exp.coeff(ddphi)\n",
    "\n",
    "# Reconstruct the equation with (not expanded) terms\n",
    "eq_gen_recon = terms_phi[0] * phi + terms_phi[1] * dphi + terms_phi[2] * ddphi\n",
    "\n",
    "# Display reconstructed equation\n",
    "display(eq_gen_recon)"
   ]
  },
  {
   "cell_type": "code",
   "execution_count": 179,
   "id": "64d175f5",
   "metadata": {},
   "outputs": [],
   "source": [
    "# Expand equation and collect according to powers of phi and derivatives\n",
    "# eq_gen_exp = eq_gen.lhs.expand().collect(phi)\n",
    "# display(eq_gen_exp)"
   ]
  },
  {
   "cell_type": "code",
   "execution_count": 180,
   "id": "54a51488",
   "metadata": {},
   "outputs": [
    {
     "data": {
      "text/latex": [
       "$\\displaystyle - \\frac{y^{2} \\left(y - 1\\right)^{4} \\left(- r_{s} + x_{0} y - x_{0}\\right) \\left(r_{s} + x_{0} y - x_{0}\\right)}{r_{s}^{4}}$"
      ],
      "text/plain": [
       "-y**2*(y - 1)**4*(-r_s + x_0*y - x_0)*(r_s + x_0*y - x_0)/r_s**4"
      ]
     },
     "metadata": {},
     "output_type": "display_data"
    }
   ],
   "source": [
    "# Extract term accompanying second derivative\n",
    "# norm_gen = eq_gen.lhs.expand().coeff(ddphi).factor()\n",
    "norm_gen = eq_gen_recon.coeff(ddphi).factor()\n",
    "display(norm_gen)"
   ]
  },
  {
   "cell_type": "code",
   "execution_count": 181,
   "id": "c857c337",
   "metadata": {},
   "outputs": [
    {
     "data": {
      "text/latex": [
       "$\\displaystyle \\frac{r_{s}^{4} \\left(\\omega^{2} - \\frac{3 i \\omega y \\left(y - 1\\right) \\left(2 y^{2} - 4 y + 1\\right)}{r_{s}} + \\frac{i \\omega \\left(y - 1\\right) \\left(2 y^{2} - 4 y + 1\\right)}{r_{s}} + \\frac{4 i \\omega x_{0}^{2} y^{3} \\left(y - 1\\right) \\left(2 y^{2} - 4 y + 1\\right)}{r_{s}^{3}} - \\frac{9 i \\omega x_{0}^{2} y^{2} \\left(y - 1\\right) \\left(2 y^{2} - 4 y + 1\\right)}{r_{s}^{3}} + \\frac{6 i \\omega x_{0}^{2} y \\left(y - 1\\right) \\left(2 y^{2} - 4 y + 1\\right)}{r_{s}^{3}} - \\frac{i \\omega x_{0}^{2} \\left(y - 1\\right) \\left(2 y^{2} - 4 y + 1\\right)}{r_{s}^{3}} - \\left(2 - y\\right) \\left(\\frac{\\ell \\left(\\ell + 1\\right) \\left(y - 1\\right)^{2}}{r_{s}^{2}} + \\frac{\\left(1 - s\\right) \\left(2 - s\\right) \\left(y - 1\\right)^{4} \\left(- \\frac{r_{s}^{2}}{\\left(y - 1\\right)^{2}} + \\left(2 - y\\right) \\left(\\frac{r_{s}^{2}}{\\left(y - 1\\right)^{2}} - x_{0}^{2}\\right)\\right)}{r_{s}^{4}} + \\frac{\\left(1 - s\\right) \\left(y - 1\\right)^{5} \\left(\\frac{3 r_{s} x_{0}^{2}}{y - 1} + r_{s} \\left(\\frac{3 r_{s}^{2}}{\\left(y - 1\\right)^{2}} - 4 x_{0}^{2}\\right)\\right)}{r_{s}^{5}}\\right) + \\frac{y^{2} \\left(y - 1\\right)^{4} \\left(- \\frac{\\omega^{2} r_{s}^{2} \\left(2 y^{2} - 4 y + 1\\right)^{2}}{y^{2} \\left(y - 1\\right)^{4}} + \\frac{i \\omega r_{s} \\left(2 y^{3} - 6 y^{2} + 3 y - 1\\right)}{y^{2} \\left(y - 1\\right)^{3}}\\right)}{r_{s}^{2}} - \\frac{x_{0}^{2} y^{2} \\left(y - 1\\right)^{6} \\left(- \\frac{\\omega^{2} r_{s}^{2} \\left(2 y^{2} - 4 y + 1\\right)^{2}}{y^{2} \\left(y - 1\\right)^{4}} + \\frac{i \\omega r_{s} \\left(2 y^{3} - 6 y^{2} + 3 y - 1\\right)}{y^{2} \\left(y - 1\\right)^{3}}\\right)}{r_{s}^{4}}\\right)}{y^{2} \\left(y - 1\\right)^{4} \\left(- r_{s} + x_{0} y - x_{0}\\right) \\left(r_{s} + x_{0} y - x_{0}\\right)}$"
      ],
      "text/plain": [
       "r_s**4*(omega**2 - 3*I*omega*y*(y - 1)*(2*y**2 - 4*y + 1)/r_s + I*omega*(y - 1)*(2*y**2 - 4*y + 1)/r_s + 4*I*omega*x_0**2*y**3*(y - 1)*(2*y**2 - 4*y + 1)/r_s**3 - 9*I*omega*x_0**2*y**2*(y - 1)*(2*y**2 - 4*y + 1)/r_s**3 + 6*I*omega*x_0**2*y*(y - 1)*(2*y**2 - 4*y + 1)/r_s**3 - I*omega*x_0**2*(y - 1)*(2*y**2 - 4*y + 1)/r_s**3 - (2 - y)*(ell*(ell + 1)*(y - 1)**2/r_s**2 + (1 - s)*(2 - s)*(y - 1)**4*(-r_s**2/(y - 1)**2 + (2 - y)*(r_s**2/(y - 1)**2 - x_0**2))/r_s**4 + (1 - s)*(y - 1)**5*(3*r_s*x_0**2/(y - 1) + r_s*(3*r_s**2/(y - 1)**2 - 4*x_0**2))/r_s**5) + y**2*(y - 1)**4*(-omega**2*r_s**2*(2*y**2 - 4*y + 1)**2/(y**2*(y - 1)**4) + I*omega*r_s*(2*y**3 - 6*y**2 + 3*y - 1)/(y**2*(y - 1)**3))/r_s**2 - x_0**2*y**2*(y - 1)**6*(-omega**2*r_s**2*(2*y**2 - 4*y + 1)**2/(y**2*(y - 1)**4) + I*omega*r_s*(2*y**3 - 6*y**2 + 3*y - 1)/(y**2*(y - 1)**3))/r_s**4)/(y**2*(y - 1)**4*(-r_s + x_0*y - x_0)*(r_s + x_0*y - x_0))"
      ]
     },
     "metadata": {},
     "output_type": "display_data"
    }
   ],
   "source": [
    "# Get coefficient of zero-th derivative, normalize, and simplify -> s_0\n",
    "# s0_gen = - ( eq_gen_exp.coeff(phi) / norm_gen ) # .simplify()\n",
    "s0_gen = - ( eq_gen_recon.coeff(phi) / norm_gen )\n",
    "display(s0_gen)"
   ]
  },
  {
   "cell_type": "code",
   "execution_count": 182,
   "id": "0d2006fc",
   "metadata": {},
   "outputs": [
    {
     "data": {
      "text/latex": [
       "$\\displaystyle - \\frac{- 2 i \\omega r_{s}^{3} \\left(2 y^{2} - 4 y + 1\\right) + 2 i \\omega r_{s} x_{0}^{2} \\left(y - 1\\right)^{2} \\left(2 y^{2} - 4 y + 1\\right) + r_{s}^{2} \\left(y - 1\\right) \\left(3 y - 1\\right) - x_{0}^{2} \\left(y - 1\\right) \\left(4 y^{3} - 9 y^{2} + 6 y - 1\\right)}{y \\left(y - 1\\right)^{2} \\left(r_{s} - x_{0} y + x_{0}\\right) \\left(r_{s} + x_{0} y - x_{0}\\right)}$"
      ],
      "text/plain": [
       "-(-2*I*omega*r_s**3*(2*y**2 - 4*y + 1) + 2*I*omega*r_s*x_0**2*(y - 1)**2*(2*y**2 - 4*y + 1) + r_s**2*(y - 1)*(3*y - 1) - x_0**2*(y - 1)*(4*y**3 - 9*y**2 + 6*y - 1))/(y*(y - 1)**2*(r_s - x_0*y + x_0)*(r_s + x_0*y - x_0))"
      ]
     },
     "metadata": {},
     "output_type": "display_data"
    }
   ],
   "source": [
    "# Get coefficient of first derivative, normalize, and simplify -> lambda_0\n",
    "# l0_gen = - ( eq_gen_exp.coeff(dphi) / norm_gen ) # .simplify()\n",
    "l0_gen = - ( eq_gen_recon.coeff(dphi).simplify() / norm_gen ).simplify()\n",
    "display(l0_gen)"
   ]
  },
  {
   "cell_type": "markdown",
   "id": "ccb9448c",
   "metadata": {},
   "source": [
    "These normalized coefficients will give us the parameters $s_0$ and $\\lambda_0$ that we need for our AIM method!"
   ]
  },
  {
   "cell_type": "markdown",
   "id": "8376f424",
   "metadata": {},
   "source": [
    "Let's check that for $x_0 = 0$ we recover Schwarzshild coefficients given by:"
   ]
  },
  {
   "cell_type": "code",
   "execution_count": 183,
   "id": "94194964",
   "metadata": {},
   "outputs": [
    {
     "data": {
      "text/latex": [
       "$\\displaystyle - \\frac{- 2 i \\omega r_{s}^{3} \\left(2 y^{2} - 4 y + 1\\right) + r_{s}^{2} \\left(y - 1\\right) \\left(3 y - 1\\right)}{r_{s}^{2} y \\left(y - 1\\right)^{2}}$"
      ],
      "text/plain": [
       "-(-2*I*omega*r_s**3*(2*y**2 - 4*y + 1) + r_s**2*(y - 1)*(3*y - 1))/(r_s**2*y*(y - 1)**2)"
      ]
     },
     "metadata": {},
     "output_type": "display_data"
    },
    {
     "data": {
      "text/latex": [
       "$\\displaystyle - \\frac{r_{s}^{2} \\left(\\omega^{2} - \\frac{3 i \\omega y \\left(y - 1\\right) \\left(2 y^{2} - 4 y + 1\\right)}{r_{s}} + \\frac{i \\omega \\left(y - 1\\right) \\left(2 y^{2} - 4 y + 1\\right)}{r_{s}} - \\left(2 - y\\right) \\left(\\frac{\\ell \\left(\\ell + 1\\right) \\left(y - 1\\right)^{2}}{r_{s}^{2}} + \\frac{3 \\left(1 - s\\right) \\left(y - 1\\right)^{3}}{r_{s}^{2}} + \\frac{\\left(1 - s\\right) \\left(2 - s\\right) \\left(y - 1\\right)^{4} \\left(\\frac{r_{s}^{2} \\left(2 - y\\right)}{\\left(y - 1\\right)^{2}} - \\frac{r_{s}^{2}}{\\left(y - 1\\right)^{2}}\\right)}{r_{s}^{4}}\\right) + \\frac{y^{2} \\left(y - 1\\right)^{4} \\left(- \\frac{\\omega^{2} r_{s}^{2} \\left(2 y^{2} - 4 y + 1\\right)^{2}}{y^{2} \\left(y - 1\\right)^{4}} + \\frac{i \\omega r_{s} \\left(2 y^{3} - 6 y^{2} + 3 y - 1\\right)}{y^{2} \\left(y - 1\\right)^{3}}\\right)}{r_{s}^{2}}\\right)}{y^{2} \\left(y - 1\\right)^{4}}$"
      ],
      "text/plain": [
       "-r_s**2*(omega**2 - 3*I*omega*y*(y - 1)*(2*y**2 - 4*y + 1)/r_s + I*omega*(y - 1)*(2*y**2 - 4*y + 1)/r_s - (2 - y)*(ell*(ell + 1)*(y - 1)**2/r_s**2 + 3*(1 - s)*(y - 1)**3/r_s**2 + (1 - s)*(2 - s)*(y - 1)**4*(r_s**2*(2 - y)/(y - 1)**2 - r_s**2/(y - 1)**2)/r_s**4) + y**2*(y - 1)**4*(-omega**2*r_s**2*(2*y**2 - 4*y + 1)**2/(y**2*(y - 1)**4) + I*omega*r_s*(2*y**3 - 6*y**2 + 3*y - 1)/(y**2*(y - 1)**3))/r_s**2)/(y**2*(y - 1)**4)"
      ]
     },
     "metadata": {},
     "output_type": "display_data"
    }
   ],
   "source": [
    "display(\n",
    "    l0_gen.subs(x0, 0),\n",
    "    s0_gen.subs(x0, 0),\n",
    ")"
   ]
  },
  {
   "cell_type": "code",
   "execution_count": 184,
   "id": "a27eaa0e",
   "metadata": {},
   "outputs": [
    {
     "data": {
      "text/latex": [
       "$\\displaystyle \\frac{2 i \\omega r_{s} \\left(2 y^{2} - 4 y + 1\\right) - \\left(1 - 3 y\\right) \\left(1 - y\\right)}{y \\left(1 - y\\right)^{2}}$"
      ],
      "text/plain": [
       "(2*I*omega*r_s*(2*y**2 - 4*y + 1) - (1 - 3*y)*(1 - y))/(y*(1 - y)**2)"
      ]
     },
     "metadata": {},
     "output_type": "display_data"
    },
    {
     "data": {
      "text/latex": [
       "$\\displaystyle \\frac{\\ell \\left(\\ell + 1\\right) + 4 \\omega^{2} r_{s}^{2} \\left(y - 2\\right) - 4 i \\omega r_{s} \\left(1 - y\\right) + \\left(1 - s^{2}\\right) \\left(1 - y\\right)}{y \\left(1 - y\\right)^{2}}$"
      ],
      "text/plain": [
       "(ell*(ell + 1) + 4*omega**2*r_s**2*(y - 2) - 4*I*omega*r_s*(1 - y) + (1 - s**2)*(1 - y))/(y*(1 - y)**2)"
      ]
     },
     "metadata": {},
     "output_type": "display_data"
    }
   ],
   "source": [
    "l0_sch = ( 2*rs*sp.I*w * (2*y**2 - 4*y +1) - (1 - 3*y)*(1-y) ) / (y*(1-y)**2)\n",
    "s0_sch = ( 4*rs**2*w**2*(y-2) - 4*sp.I*rs*w*(1-y) + l*(l+1) + (1-s**2)*(1-y) ) / (y*(1-y)**2)\n",
    "display(\n",
    "        l0_sch,\n",
    "        s0_sch\n",
    ")"
   ]
  },
  {
   "cell_type": "markdown",
   "id": "a46c9da6",
   "metadata": {},
   "source": [
    "Taking $x_0 = 0$ should result in the same coefficients:"
   ]
  },
  {
   "cell_type": "code",
   "execution_count": 185,
   "id": "be07707b",
   "metadata": {},
   "outputs": [
    {
     "data": {
      "text/plain": [
       "True"
      ]
     },
     "metadata": {},
     "output_type": "display_data"
    },
    {
     "data": {
      "text/plain": [
       "False"
      ]
     },
     "metadata": {},
     "output_type": "display_data"
    }
   ],
   "source": [
    "display(\n",
    "    ( l0_gen.subs(x0, 0) - l0_sch ).simplify() == 0,\n",
    "    ( s0_gen.subs(x0, 0) - s0_sch ).simplify() == 0\n",
    ")"
   ]
  },
  {
   "cell_type": "markdown",
   "id": "15aa42af",
   "metadata": {},
   "source": [
    "The final expression for $\\lambda_0$ matches exactly the value for Schwarzshild case when $x_0 = 0$, however, the form of $s_0$ is different!"
   ]
  },
  {
   "cell_type": "markdown",
   "id": "2c55655a",
   "metadata": {},
   "source": [
    "### **Evaluation point**"
   ]
  },
  {
   "cell_type": "markdown",
   "id": "3628a423",
   "metadata": {},
   "source": [
    "\n",
    "As the last step, we must compute at which point to evaluate our method, which is given by the point where the potential is maximum:\n",
    "$$\n",
    "\\frac{dV_{\\ell}^{SV}(x)}{dx}\\Big|_{x_{\\max}} = 0\n",
    "$$"
   ]
  },
  {
   "cell_type": "code",
   "execution_count": 186,
   "id": "22a2e263",
   "metadata": {},
   "outputs": [
    {
     "data": {
      "text/latex": [
       "$\\displaystyle \\frac{r_{s} x \\left(\\frac{\\ell \\left(\\ell + 1\\right)}{x^{2} + x_{0}^{2}} + \\frac{\\left(1 - s\\right) \\left(2 - s\\right) \\left(x^{2} \\left(- \\frac{r_{s}}{\\sqrt{x^{2} + x_{0}^{2}}} + 1\\right) - x^{2} - x_{0}^{2}\\right)}{\\left(x^{2} + x_{0}^{2}\\right)^{2}} + \\frac{\\left(1 - s\\right) \\left(r_{s} \\left(3 x^{2} - x_{0}^{2}\\right) + 3 x_{0}^{2} \\sqrt{x^{2} + x_{0}^{2}}\\right)}{\\left(x^{2} + x_{0}^{2}\\right)^{\\frac{5}{2}}}\\right)}{\\left(x^{2} + x_{0}^{2}\\right)^{\\frac{3}{2}}} + \\left(- \\frac{r_{s}}{\\sqrt{x^{2} + x_{0}^{2}}} + 1\\right) \\left(- \\frac{2 \\ell x \\left(\\ell + 1\\right)}{\\left(x^{2} + x_{0}^{2}\\right)^{2}} - \\frac{4 x \\left(1 - s\\right) \\left(2 - s\\right) \\left(x^{2} \\left(- \\frac{r_{s}}{\\sqrt{x^{2} + x_{0}^{2}}} + 1\\right) - x^{2} - x_{0}^{2}\\right)}{\\left(x^{2} + x_{0}^{2}\\right)^{3}} - \\frac{5 x \\left(1 - s\\right) \\left(r_{s} \\left(3 x^{2} - x_{0}^{2}\\right) + 3 x_{0}^{2} \\sqrt{x^{2} + x_{0}^{2}}\\right)}{\\left(x^{2} + x_{0}^{2}\\right)^{\\frac{7}{2}}} + \\frac{\\left(1 - s\\right) \\left(2 - s\\right) \\left(\\frac{r_{s} x^{3}}{\\left(x^{2} + x_{0}^{2}\\right)^{\\frac{3}{2}}} + 2 x \\left(- \\frac{r_{s}}{\\sqrt{x^{2} + x_{0}^{2}}} + 1\\right) - 2 x\\right)}{\\left(x^{2} + x_{0}^{2}\\right)^{2}} + \\frac{\\left(1 - s\\right) \\left(6 r_{s} x + \\frac{3 x x_{0}^{2}}{\\sqrt{x^{2} + x_{0}^{2}}}\\right)}{\\left(x^{2} + x_{0}^{2}\\right)^{\\frac{5}{2}}}\\right)$"
      ],
      "text/plain": [
       "r_s*x*(ell*(ell + 1)/(x**2 + x_0**2) + (1 - s)*(2 - s)*(x**2*(-r_s/sqrt(x**2 + x_0**2) + 1) - x**2 - x_0**2)/(x**2 + x_0**2)**2 + (1 - s)*(r_s*(3*x**2 - x_0**2) + 3*x_0**2*sqrt(x**2 + x_0**2))/(x**2 + x_0**2)**(5/2))/(x**2 + x_0**2)**(3/2) + (-r_s/sqrt(x**2 + x_0**2) + 1)*(-2*ell*x*(ell + 1)/(x**2 + x_0**2)**2 - 4*x*(1 - s)*(2 - s)*(x**2*(-r_s/sqrt(x**2 + x_0**2) + 1) - x**2 - x_0**2)/(x**2 + x_0**2)**3 - 5*x*(1 - s)*(r_s*(3*x**2 - x_0**2) + 3*x_0**2*sqrt(x**2 + x_0**2))/(x**2 + x_0**2)**(7/2) + (1 - s)*(2 - s)*(r_s*x**3/(x**2 + x_0**2)**(3/2) + 2*x*(-r_s/sqrt(x**2 + x_0**2) + 1) - 2*x)/(x**2 + x_0**2)**2 + (1 - s)*(6*r_s*x + 3*x*x_0**2/sqrt(x**2 + x_0**2))/(x**2 + x_0**2)**(5/2))"
      ]
     },
     "metadata": {},
     "output_type": "display_data"
    }
   ],
   "source": [
    "# Compute derivative of potential and solve for y\n",
    "dV_gen = sp.Derivative(V_gen, x, evaluate = True)\n",
    "display(dV_gen)"
   ]
  },
  {
   "cell_type": "markdown",
   "id": "cafd3e93",
   "metadata": {},
   "source": [
    "..."
   ]
  }
 ],
 "metadata": {
  "kernelspec": {
   "display_name": "Python 3",
   "language": "python",
   "name": "python3"
  },
  "language_info": {
   "codemirror_mode": {
    "name": "ipython",
    "version": 3
   },
   "file_extension": ".py",
   "mimetype": "text/x-python",
   "name": "python",
   "nbconvert_exporter": "python",
   "pygments_lexer": "ipython3",
   "version": "3.12.4"
  }
 },
 "nbformat": 4,
 "nbformat_minor": 5
}

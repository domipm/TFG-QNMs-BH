{
 "cells": [
  {
   "cell_type": "markdown",
   "id": "acfe1f69",
   "metadata": {},
   "source": [
    "### **Simpson-Visser Metric (w/o LQG corrections)**\n",
    "\n",
    "$$\n",
    "ds^2 = \\left(1 - \\frac{r_s}{\\sqrt{x^2 + x_0^2}}\\right)\\,dt^2 + \\left(1 - \\frac{r_s}{\\sqrt{x^2 + x_0^2}}\\right)^{-1}\\,dr^2 + (x^2 + x_0^2)\\,d\\Omega_2^2 \n",
    "$$"
   ]
  },
  {
   "cell_type": "markdown",
   "id": "a8792baf",
   "metadata": {},
   "source": [
    "Import libraries"
   ]
  },
  {
   "cell_type": "code",
   "execution_count": 2,
   "id": "0b90ea24",
   "metadata": {},
   "outputs": [],
   "source": [
    "import numpy as np\n",
    "import sympy as sp"
   ]
  },
  {
   "cell_type": "markdown",
   "id": "72dd3ec2",
   "metadata": {},
   "source": [
    "Define variables"
   ]
  },
  {
   "cell_type": "code",
   "execution_count": 3,
   "id": "bbc8b76b",
   "metadata": {},
   "outputs": [
    {
     "data": {
      "text/latex": [
       "$\\displaystyle x$"
      ],
      "text/plain": [
       "x"
      ]
     },
     "metadata": {},
     "output_type": "display_data"
    },
    {
     "data": {
      "text/latex": [
       "$\\displaystyle x_{0}$"
      ],
      "text/plain": [
       "x_0"
      ]
     },
     "metadata": {},
     "output_type": "display_data"
    },
    {
     "data": {
      "text/latex": [
       "$\\displaystyle x_{*}$"
      ],
      "text/plain": [
       "x_*"
      ]
     },
     "metadata": {},
     "output_type": "display_data"
    },
    {
     "data": {
      "text/latex": [
       "$\\displaystyle r_{s}$"
      ],
      "text/plain": [
       "r_s"
      ]
     },
     "metadata": {},
     "output_type": "display_data"
    }
   ],
   "source": [
    "# Define all variables in line element\n",
    "x, x0, xs, rs = sp.symbols(\"x, x_0, x_*, r_s\", positive = True)\n",
    "display(x, x0, xs, rs)"
   ]
  },
  {
   "cell_type": "code",
   "execution_count": 4,
   "id": "e936d70e",
   "metadata": {},
   "outputs": [
    {
     "data": {
      "text/latex": [
       "$\\displaystyle \\ell$"
      ],
      "text/plain": [
       "ell"
      ]
     },
     "metadata": {},
     "output_type": "display_data"
    },
    {
     "data": {
      "text/latex": [
       "$\\displaystyle \\omega$"
      ],
      "text/plain": [
       "omega"
      ]
     },
     "metadata": {},
     "output_type": "display_data"
    }
   ],
   "source": [
    "# Define variables in differential equation\n",
    "l, w = sp.symbols(\"ell, omega\")\n",
    "display(l, w)"
   ]
  },
  {
   "cell_type": "markdown",
   "id": "8887128c",
   "metadata": {},
   "source": [
    "Define functions and their derivatives"
   ]
  },
  {
   "cell_type": "code",
   "execution_count": 5,
   "id": "c085f0b7",
   "metadata": {},
   "outputs": [
    {
     "data": {
      "text/latex": [
       "$\\displaystyle V{\\left(x \\right)}$"
      ],
      "text/plain": [
       "V(x)"
      ]
     },
     "metadata": {},
     "output_type": "display_data"
    }
   ],
   "source": [
    "# Define arbitrary potential function\n",
    "pot = sp.Function(\"V\")(x)\n",
    "display(pot)"
   ]
  },
  {
   "cell_type": "code",
   "execution_count": 6,
   "id": "76b2c487",
   "metadata": {},
   "outputs": [
    {
     "data": {
      "text/latex": [
       "$\\displaystyle \\psi{\\left(x \\right)}$"
      ],
      "text/plain": [
       "psi(x)"
      ]
     },
     "metadata": {},
     "output_type": "display_data"
    }
   ],
   "source": [
    "# Define psi function (initially as function of x)\n",
    "psi = sp.Function('psi')(x)\n",
    "display(psi)"
   ]
  },
  {
   "cell_type": "code",
   "execution_count": 7,
   "id": "6b700ae1",
   "metadata": {},
   "outputs": [
    {
     "data": {
      "text/latex": [
       "$\\displaystyle \\frac{d}{d x} \\psi{\\left(x \\right)}$"
      ],
      "text/plain": [
       "Derivative(psi(x), x)"
      ]
     },
     "metadata": {},
     "output_type": "display_data"
    }
   ],
   "source": [
    "# Define first derivative of psi function\n",
    "dpsi = sp.Derivative(psi, x, evaluate = False)\n",
    "display(dpsi)"
   ]
  },
  {
   "cell_type": "code",
   "execution_count": 8,
   "id": "433e16a2",
   "metadata": {},
   "outputs": [
    {
     "data": {
      "text/latex": [
       "$\\displaystyle \\frac{d^{2}}{d x^{2}} \\psi{\\left(x \\right)}$"
      ],
      "text/plain": [
       "Derivative(psi(x), (x, 2))"
      ]
     },
     "metadata": {},
     "output_type": "display_data"
    }
   ],
   "source": [
    "# Define second derivative of psi function\n",
    "ddpsi = sp.Derivative(dpsi, x, evaluate = False)\n",
    "display(ddpsi)"
   ]
  },
  {
   "cell_type": "code",
   "execution_count": 9,
   "id": "24cc8188",
   "metadata": {},
   "outputs": [
    {
     "data": {
      "text/latex": [
       "$\\displaystyle \\frac{d^{2}}{d x_{*}^{2}} \\psi{\\left(x \\right)}$"
      ],
      "text/plain": [
       "Derivative(psi(x), (x_*, 2))"
      ]
     },
     "metadata": {},
     "output_type": "display_data"
    }
   ],
   "source": [
    "# Second derivative of wave function in terms of tortoise coordinate\n",
    "ddpsi_star = sp.Derivative(sp.Derivative(psi, xs, evaluate = False), xs, evaluate = False)\n",
    "display(ddpsi_star)"
   ]
  },
  {
   "cell_type": "markdown",
   "id": "b8ce5c43",
   "metadata": {},
   "source": [
    "Define second-order derivative we want to solve"
   ]
  },
  {
   "cell_type": "code",
   "execution_count": 10,
   "id": "991dfd2e",
   "metadata": {},
   "outputs": [
    {
     "data": {
      "text/latex": [
       "$\\displaystyle \\left(\\omega^{2} - V{\\left(x \\right)}\\right) \\psi{\\left(x \\right)} + \\frac{d^{2}}{d x_{*}^{2}} \\psi{\\left(x \\right)} = 0$"
      ],
      "text/plain": [
       "Eq((omega**2 - V(x))*psi(x) + Derivative(psi(x), (x_*, 2)), 0)"
      ]
     },
     "metadata": {},
     "output_type": "display_data"
    }
   ],
   "source": [
    "# Define differential equation\n",
    "eq = sp.Equality( ddpsi_star + (w**2 - pot) * psi, 0 )\n",
    "display(eq)"
   ]
  },
  {
   "cell_type": "markdown",
   "id": "2654796b",
   "metadata": {},
   "source": [
    "Define $G(r)$, $F(r)$, and $G(r)$ for our metric"
   ]
  },
  {
   "cell_type": "code",
   "execution_count": 11,
   "id": "bd2cf989",
   "metadata": {},
   "outputs": [
    {
     "data": {
      "text/latex": [
       "$\\displaystyle - \\frac{r_{s}}{\\sqrt{x^{2} + x_{0}^{2}}} + 1$"
      ],
      "text/plain": [
       "-r_s/sqrt(x**2 + x_0**2) + 1"
      ]
     },
     "execution_count": 11,
     "metadata": {},
     "output_type": "execute_result"
    }
   ],
   "source": [
    "G = (1 - rs / sp.sqrt(x**2 + x0**2))\n",
    "G"
   ]
  },
  {
   "cell_type": "code",
   "execution_count": 12,
   "id": "889367cb",
   "metadata": {},
   "outputs": [
    {
     "data": {
      "text/latex": [
       "$\\displaystyle \\frac{1}{- \\frac{r_{s}}{\\sqrt{x^{2} + x_{0}^{2}}} + 1}$"
      ],
      "text/plain": [
       "1/(-r_s/sqrt(x**2 + x_0**2) + 1)"
      ]
     },
     "execution_count": 12,
     "metadata": {},
     "output_type": "execute_result"
    }
   ],
   "source": [
    "F = 1 / G\n",
    "F"
   ]
  },
  {
   "cell_type": "code",
   "execution_count": 13,
   "id": "75e79190",
   "metadata": {},
   "outputs": [
    {
     "data": {
      "text/latex": [
       "$\\displaystyle x^{2} + x_{0}^{2}$"
      ],
      "text/plain": [
       "x**2 + x_0**2"
      ]
     },
     "execution_count": 13,
     "metadata": {},
     "output_type": "execute_result"
    }
   ],
   "source": [
    "H = (x**2 + x0**2)\n",
    "H"
   ]
  },
  {
   "cell_type": "markdown",
   "id": "13c721bd",
   "metadata": {},
   "source": [
    "Calculate required derivatives $G'(r)$, $F'(r)$, $H'(r)$, $H''(r)$"
   ]
  },
  {
   "cell_type": "code",
   "execution_count": 14,
   "id": "b9f583fb",
   "metadata": {},
   "outputs": [
    {
     "data": {
      "text/latex": [
       "$\\displaystyle 2 x$"
      ],
      "text/plain": [
       "2*x"
      ]
     },
     "execution_count": 14,
     "metadata": {},
     "output_type": "execute_result"
    }
   ],
   "source": [
    "Hp = sp.Derivative(H, x, evaluate = True)\n",
    "Hp"
   ]
  },
  {
   "cell_type": "code",
   "execution_count": 15,
   "id": "f77ee960",
   "metadata": {},
   "outputs": [
    {
     "data": {
      "text/latex": [
       "$\\displaystyle 2$"
      ],
      "text/plain": [
       "2"
      ]
     },
     "execution_count": 15,
     "metadata": {},
     "output_type": "execute_result"
    }
   ],
   "source": [
    "Hpp = sp.Derivative(Hp, x, evaluate = True)\n",
    "Hpp"
   ]
  },
  {
   "cell_type": "code",
   "execution_count": 16,
   "id": "33dbb03c",
   "metadata": {},
   "outputs": [
    {
     "data": {
      "text/latex": [
       "$\\displaystyle \\frac{r_{s} x}{\\left(x^{2} + x_{0}^{2}\\right)^{\\frac{3}{2}}}$"
      ],
      "text/plain": [
       "r_s*x/(x**2 + x_0**2)**(3/2)"
      ]
     },
     "execution_count": 16,
     "metadata": {},
     "output_type": "execute_result"
    }
   ],
   "source": [
    "Gp = sp.Derivative(G, x, evaluate = True)\n",
    "Gp"
   ]
  },
  {
   "cell_type": "code",
   "execution_count": 17,
   "id": "f00d0937",
   "metadata": {},
   "outputs": [
    {
     "data": {
      "text/latex": [
       "$\\displaystyle - \\frac{r_{s} x}{\\left(x^{2} + x_{0}^{2}\\right)^{\\frac{3}{2}} \\left(- \\frac{r_{s}}{\\sqrt{x^{2} + x_{0}^{2}}} + 1\\right)^{2}}$"
      ],
      "text/plain": [
       "-r_s*x/((x**2 + x_0**2)**(3/2)*(-r_s/sqrt(x**2 + x_0**2) + 1)**2)"
      ]
     },
     "execution_count": 17,
     "metadata": {},
     "output_type": "execute_result"
    }
   ],
   "source": [
    "Fp = sp.Derivative(F, x, evaluate = True)\n",
    "Fp"
   ]
  },
  {
   "cell_type": "markdown",
   "id": "8b936c12",
   "metadata": {},
   "source": [
    "### Radial function $R(x)$"
   ]
  },
  {
   "cell_type": "code",
   "execution_count": 18,
   "id": "afdc162f",
   "metadata": {},
   "outputs": [
    {
     "data": {
      "text/latex": [
       "$\\displaystyle \\frac{3 r_{s} x^{2} - r_{s} x_{0}^{2} + 3 x_{0}^{2} \\sqrt{x^{2} + x_{0}^{2}}}{\\left(x^{2} + x_{0}^{2}\\right)^{\\frac{5}{2}}}$"
      ],
      "text/plain": [
       "(3*r_s*x**2 - r_s*x_0**2 + 3*x_0**2*sqrt(x**2 + x_0**2))/(x**2 + x_0**2)**(5/2)"
      ]
     },
     "metadata": {},
     "output_type": "display_data"
    }
   ],
   "source": [
    "R = 2/H + 1/F * ( Gp * Hp / (4 * G * H) - Fp * Hp / (4 * F * H) - 3 * Hp**2 / (4 * H**2) + Hpp/(2 * H) )\n",
    "# Simplify and factorize\n",
    "R = R.simplify().factor()\n",
    "# Display radial function\n",
    "display(R)\n"
   ]
  },
  {
   "cell_type": "markdown",
   "id": "3e6ec5fd",
   "metadata": {},
   "source": [
    "### Potentials $^{(\\alpha)}V_{\\ell}^{SV}(x)$"
   ]
  },
  {
   "cell_type": "markdown",
   "id": "093420aa",
   "metadata": {},
   "source": [
    "Compute the axial potential $^{(a)}V_{\\ell}^{SV}(x)$"
   ]
  },
  {
   "cell_type": "code",
   "execution_count": 19,
   "id": "a027e04d",
   "metadata": {},
   "outputs": [
    {
     "data": {
      "text/latex": [
       "$\\displaystyle \\left(- \\frac{r_{s}}{\\sqrt{x^{2} + x_{0}^{2}}} + 1\\right) \\left(\\frac{\\ell \\left(\\ell + 1\\right)}{x^{2} + x_{0}^{2}} - \\frac{3 r_{s} x^{2} - r_{s} x_{0}^{2} + 3 x_{0}^{2} \\sqrt{x^{2} + x_{0}^{2}}}{\\left(x^{2} + x_{0}^{2}\\right)^{\\frac{5}{2}}}\\right)$"
      ],
      "text/plain": [
       "(-r_s/sqrt(x**2 + x_0**2) + 1)*(ell*(ell + 1)/(x**2 + x_0**2) - (3*r_s*x**2 - r_s*x_0**2 + 3*x_0**2*sqrt(x**2 + x_0**2))/(x**2 + x_0**2)**(5/2))"
      ]
     },
     "metadata": {},
     "output_type": "display_data"
    }
   ],
   "source": [
    "V_axi = G * ( l*(l+1) / H - R )\n",
    "display(V_axi)"
   ]
  },
  {
   "cell_type": "markdown",
   "id": "f8cfa8ef",
   "metadata": {},
   "source": [
    "Compute the polar potential $^{(p)}V_{\\ell}^{SV}(x)$"
   ]
  },
  {
   "cell_type": "code",
   "execution_count": 20,
   "id": "cf41c8d6",
   "metadata": {},
   "outputs": [
    {
     "data": {
      "text/latex": [
       "$\\displaystyle \\frac{\\left(\\ell - 1\\right)^{2} \\left(\\ell + 2\\right)^{2} \\left(- \\frac{r_{s}}{\\sqrt{x^{2} + x_{0}^{2}}} + 1\\right) \\left(\\frac{\\left(\\ell - 1\\right) \\left(\\ell + 2\\right) + 2}{x^{2} + x_{0}^{2}} + \\frac{3 r_{s} x^{2} - r_{s} x_{0}^{2} + 3 x_{0}^{2} \\sqrt{x^{2} + x_{0}^{2}}}{\\left(x^{2} + x_{0}^{2}\\right)^{\\frac{5}{2}}} + \\frac{\\left(\\left(\\ell - 1\\right) \\left(\\ell + 2\\right) + \\frac{3 r_{s} x^{2} - r_{s} x_{0}^{2} + 3 x_{0}^{2} \\sqrt{x^{2} + x_{0}^{2}}}{3 \\left(x^{2} + x_{0}^{2}\\right)^{\\frac{3}{2}}}\\right) \\left(3 r_{s} x^{2} - r_{s} x_{0}^{2} + 3 x_{0}^{2} \\sqrt{x^{2} + x_{0}^{2}}\\right)^{2}}{\\left(\\ell - 1\\right)^{2} \\left(\\ell + 2\\right)^{2} \\left(x^{2} + x_{0}^{2}\\right)^{4}}\\right)}{\\left(\\ell - 1\\right) \\left(\\ell + 2\\right) + \\frac{3 r_{s} x^{2} - r_{s} x_{0}^{2} + 3 x_{0}^{2} \\sqrt{x^{2} + x_{0}^{2}}}{\\left(x^{2} + x_{0}^{2}\\right)^{\\frac{3}{2}}}}$"
      ],
      "text/plain": [
       "(ell - 1)**2*(ell + 2)**2*(-r_s/sqrt(x**2 + x_0**2) + 1)*(((ell - 1)*(ell + 2) + 2)/(x**2 + x_0**2) + (3*r_s*x**2 - r_s*x_0**2 + 3*x_0**2*sqrt(x**2 + x_0**2))/(x**2 + x_0**2)**(5/2) + ((ell - 1)*(ell + 2) + (3*r_s*x**2 - r_s*x_0**2 + 3*x_0**2*sqrt(x**2 + x_0**2))/(3*(x**2 + x_0**2)**(3/2)))*(3*r_s*x**2 - r_s*x_0**2 + 3*x_0**2*sqrt(x**2 + x_0**2))**2/((ell - 1)**2*(ell + 2)**2*(x**2 + x_0**2)**4))/((ell - 1)*(ell + 2) + (3*r_s*x**2 - r_s*x_0**2 + 3*x_0**2*sqrt(x**2 + x_0**2))/(x**2 + x_0**2)**(3/2))"
      ]
     },
     "metadata": {},
     "output_type": "display_data"
    }
   ],
   "source": [
    "V_pol = ( G * (l-1)**2 * (l+2)**2 / ( (l-1)*(l+2) + H*R ) ) * ( ( (l-1) * (l+2) + 2 ) / H + R + ( ( H * R**2 ) / ( (l-1)**2 * (l+2)**2 ) ) * ( (l-1) * (l+2) + ( H * R ) / 3 ) )\n",
    "display(V_pol)"
   ]
  },
  {
   "cell_type": "markdown",
   "id": "4cc312b6",
   "metadata": {},
   "source": [
    "Compute the scalar potential $^{(s)}V_{\\ell}^{SV}(x)$"
   ]
  },
  {
   "cell_type": "code",
   "execution_count": 21,
   "id": "d997eb45",
   "metadata": {},
   "outputs": [
    {
     "data": {
      "text/latex": [
       "$\\displaystyle \\left(- \\frac{r_{s}}{\\sqrt{x^{2} + x_{0}^{2}}} + 1\\right) \\left(\\frac{2 x^{2} \\left(- \\frac{r_{s}}{\\sqrt{x^{2} + x_{0}^{2}}} + 1\\right)}{\\left(x^{2} + x_{0}^{2}\\right)^{2}} + \\frac{\\ell \\left(\\ell + 1\\right) - 2}{x^{2} + x_{0}^{2}} + \\frac{3 r_{s} x^{2} - r_{s} x_{0}^{2} + 3 x_{0}^{2} \\sqrt{x^{2} + x_{0}^{2}}}{\\left(x^{2} + x_{0}^{2}\\right)^{\\frac{5}{2}}}\\right)$"
      ],
      "text/plain": [
       "(-r_s/sqrt(x**2 + x_0**2) + 1)*(2*x**2*(-r_s/sqrt(x**2 + x_0**2) + 1)/(x**2 + x_0**2)**2 + (ell*(ell + 1) - 2)/(x**2 + x_0**2) + (3*r_s*x**2 - r_s*x_0**2 + 3*x_0**2*sqrt(x**2 + x_0**2))/(x**2 + x_0**2)**(5/2))"
      ]
     },
     "metadata": {},
     "output_type": "display_data"
    }
   ],
   "source": [
    "V_sca = G * ( ( l*(l+1) - 2 ) / H + Hp**2 / (2 * F * H**2) + R )\n",
    "display(V_sca)"
   ]
  },
  {
   "cell_type": "markdown",
   "id": "00f9df2c",
   "metadata": {},
   "source": [
    "Compute the vector potential $^{(v)}V_{\\ell}^{SV}(x)$"
   ]
  },
  {
   "cell_type": "code",
   "execution_count": 22,
   "id": "50065b16",
   "metadata": {},
   "outputs": [
    {
     "data": {
      "text/latex": [
       "$\\displaystyle \\frac{\\ell \\left(\\ell + 1\\right) \\left(- \\frac{r_{s}}{\\sqrt{x^{2} + x_{0}^{2}}} + 1\\right)}{x^{2} + x_{0}^{2}}$"
      ],
      "text/plain": [
       "ell*(ell + 1)*(-r_s/sqrt(x**2 + x_0**2) + 1)/(x**2 + x_0**2)"
      ]
     },
     "metadata": {},
     "output_type": "display_data"
    }
   ],
   "source": [
    "V_vec = G * l*(l+1) / H\n",
    "display(V_vec)"
   ]
  },
  {
   "cell_type": "markdown",
   "id": "8732372c",
   "metadata": {},
   "source": [
    "Taking $x_0 = 0$, these potentials should result in the Schwarzschild potentials. Let's check that"
   ]
  },
  {
   "cell_type": "code",
   "execution_count": 23,
   "id": "e75c9cec",
   "metadata": {},
   "outputs": [
    {
     "data": {
      "text/latex": [
       "$\\displaystyle \\left(- \\frac{r_{s}}{x} + 1\\right) \\left(\\frac{\\ell \\left(\\ell + 1\\right)}{x^{2}} - \\frac{3 r_{s}}{x^{3}}\\right)$"
      ],
      "text/plain": [
       "(-r_s/x + 1)*(ell*(ell + 1)/x**2 - 3*r_s/x**3)"
      ]
     },
     "metadata": {},
     "output_type": "display_data"
    },
    {
     "data": {
      "text/latex": [
       "$\\displaystyle \\frac{\\left(\\ell - 1\\right)^{2} \\left(\\ell + 2\\right)^{2} \\left(- \\frac{r_{s}}{x} + 1\\right) \\left(\\frac{9 r_{s}^{2} \\left(\\frac{r_{s}}{x} + \\left(\\ell - 1\\right) \\left(\\ell + 2\\right)\\right)}{x^{4} \\left(\\ell - 1\\right)^{2} \\left(\\ell + 2\\right)^{2}} + \\frac{3 r_{s}}{x^{3}} + \\frac{\\left(\\ell - 1\\right) \\left(\\ell + 2\\right) + 2}{x^{2}}\\right)}{\\frac{3 r_{s}}{x} + \\left(\\ell - 1\\right) \\left(\\ell + 2\\right)}$"
      ],
      "text/plain": [
       "(ell - 1)**2*(ell + 2)**2*(-r_s/x + 1)*(9*r_s**2*(r_s/x + (ell - 1)*(ell + 2))/(x**4*(ell - 1)**2*(ell + 2)**2) + 3*r_s/x**3 + ((ell - 1)*(ell + 2) + 2)/x**2)/(3*r_s/x + (ell - 1)*(ell + 2))"
      ]
     },
     "metadata": {},
     "output_type": "display_data"
    },
    {
     "data": {
      "text/latex": [
       "$\\displaystyle \\frac{\\ell \\left(\\ell + 1\\right) \\left(- \\frac{r_{s}}{x} + 1\\right)}{x^{2}}$"
      ],
      "text/plain": [
       "ell*(ell + 1)*(-r_s/x + 1)/x**2"
      ]
     },
     "metadata": {},
     "output_type": "display_data"
    },
    {
     "data": {
      "text/latex": [
       "$\\displaystyle \\left(- \\frac{r_{s}}{x} + 1\\right) \\left(\\frac{3 r_{s}}{x^{3}} + \\frac{\\ell \\left(\\ell + 1\\right) - 2}{x^{2}} + \\frac{2 \\left(- \\frac{r_{s}}{x} + 1\\right)}{x^{2}}\\right)$"
      ],
      "text/plain": [
       "(-r_s/x + 1)*(3*r_s/x**3 + (ell*(ell + 1) - 2)/x**2 + 2*(-r_s/x + 1)/x**2)"
      ]
     },
     "metadata": {},
     "output_type": "display_data"
    }
   ],
   "source": [
    "display(V_axi.subs(x0, 0), V_pol.subs(x0, 0), V_vec.subs(x0, 0), V_sca.subs(x0, 0))"
   ]
  },
  {
   "cell_type": "markdown",
   "id": "7082d36e",
   "metadata": {},
   "source": [
    "### Coordinate transformation $x_* \\rightarrow x \\rightarrow y$"
   ]
  },
  {
   "cell_type": "markdown",
   "id": "213c6af9",
   "metadata": {},
   "source": [
    "We can now focus on the tortoise coordinate differential element:\n",
    "$$\n",
    "dx_* = \\sqrt{\\frac{F(x)}{G(x)}}\\,dx = \\sqrt{\\frac{F(y)}{G(y)}}\\,dy\n",
    "$$\n",
    "\n",
    "Define change of variables given by:\n",
    "$$\n",
    "y = 1 - \\frac{r_s}{\\sqrt{x^2 + x_0^2}} \\rightarrow x = \\sqrt{\\left(\\frac\n",
    "{r_s}{1-y}\\right)^2 - x_0^2}\n",
    "$$\n",
    "\n",
    "Let's compute the derivative $dx / dy$"
   ]
  },
  {
   "cell_type": "code",
   "execution_count": 24,
   "id": "da660ca4",
   "metadata": {},
   "outputs": [
    {
     "data": {
      "text/latex": [
       "$\\displaystyle y$"
      ],
      "text/plain": [
       "y"
      ]
     },
     "metadata": {},
     "output_type": "display_data"
    },
    {
     "data": {
      "text/latex": [
       "$\\displaystyle \\psi{\\left(y \\right)}$"
      ],
      "text/plain": [
       "psi(y)"
      ]
     },
     "metadata": {},
     "output_type": "display_data"
    }
   ],
   "source": [
    "# Define new coordinate\n",
    "y = sp.symbols('y')\n",
    "psi_y = psi.subs(x, y)\n",
    "display(y, psi_y)"
   ]
  },
  {
   "cell_type": "code",
   "execution_count": 25,
   "id": "9f70b44c",
   "metadata": {},
   "outputs": [
    {
     "data": {
      "text/latex": [
       "$\\displaystyle - \\frac{r_{s}}{\\sqrt{x^{2} + x_{0}^{2}}} + 1$"
      ],
      "text/plain": [
       "-r_s/sqrt(x**2 + x_0**2) + 1"
      ]
     },
     "metadata": {},
     "output_type": "display_data"
    }
   ],
   "source": [
    "# Define change of variables y = y(x) = G(x)\n",
    "var_change_y = G\n",
    "display(var_change_y)"
   ]
  },
  {
   "cell_type": "code",
   "execution_count": 26,
   "id": "b602fa65",
   "metadata": {},
   "outputs": [
    {
     "data": {
      "text/latex": [
       "$\\displaystyle \\sqrt{\\frac{r_{s}^{2}}{\\left(1 - y\\right)^{2}} - x_{0}^{2}}$"
      ],
      "text/plain": [
       "sqrt(r_s**2/(1 - y)**2 - x_0**2)"
      ]
     },
     "metadata": {},
     "output_type": "display_data"
    }
   ],
   "source": [
    "# Define inverse change of variables x = x(y)\n",
    "var_change_x = sp.sqrt( (rs / (1-y))**2 - x0**2 )\n",
    "display(var_change_x)"
   ]
  },
  {
   "cell_type": "code",
   "execution_count": 27,
   "id": "5b515e5b",
   "metadata": {},
   "outputs": [
    {
     "data": {
      "text/latex": [
       "$\\displaystyle \\frac{r_{s}^{2}}{\\left(1 - y\\right)^{3} \\sqrt{\\frac{r_{s}^{2}}{\\left(1 - y\\right)^{2}} - x_{0}^{2}}}$"
      ],
      "text/plain": [
       "r_s**2/((1 - y)**3*sqrt(r_s**2/(1 - y)**2 - x_0**2))"
      ]
     },
     "metadata": {},
     "output_type": "display_data"
    }
   ],
   "source": [
    "dx = sp.Derivative(var_change_x, y, evaluate = True)\n",
    "display(dx)"
   ]
  },
  {
   "cell_type": "markdown",
   "id": "bd8728dd",
   "metadata": {},
   "source": [
    "We can obtain $dx_*$ in terms of $dy$, and therefore the term $dx_*/dy$, as:"
   ]
  },
  {
   "cell_type": "code",
   "execution_count": 28,
   "id": "50ce9944",
   "metadata": {},
   "outputs": [
    {
     "data": {
      "text/latex": [
       "$\\displaystyle \\frac{r_{s}^{2}}{y \\left(1 - y\\right)^{3} \\sqrt{\\frac{r_{s}^{2}}{\\left(1 - y\\right)^{2}} - x_{0}^{2}}}$"
      ],
      "text/plain": [
       "r_s**2/(y*(1 - y)**3*sqrt(r_s**2/(1 - y)**2 - x_0**2))"
      ]
     },
     "metadata": {},
     "output_type": "display_data"
    }
   ],
   "source": [
    "# Taking into account that G = y (sympy doesn't like this)\n",
    "# dxstar = 1/G.subs(x, var_change_x) * dx\n",
    "dxstardy = 1/y * dx\n",
    "display(dxstardy)"
   ]
  },
  {
   "cell_type": "markdown",
   "id": "d79afbb1",
   "metadata": {},
   "source": [
    "The inverse relation is simply $dy/dx_*$:"
   ]
  },
  {
   "cell_type": "code",
   "execution_count": 29,
   "id": "38ffa5b0",
   "metadata": {},
   "outputs": [
    {
     "data": {
      "text/latex": [
       "$\\displaystyle \\frac{y \\left(1 - y\\right)^{3} \\sqrt{\\frac{r_{s}^{2}}{\\left(1 - y\\right)^{2}} - x_{0}^{2}}}{r_{s}^{2}}$"
      ],
      "text/plain": [
       "y*(1 - y)**3*sqrt(r_s**2/(1 - y)**2 - x_0**2)/r_s**2"
      ]
     },
     "metadata": {},
     "output_type": "display_data"
    }
   ],
   "source": [
    "dydxstar = 1/dxstardy\n",
    "display(dydxstar)"
   ]
  },
  {
   "cell_type": "markdown",
   "id": "43b5dbd9",
   "metadata": {},
   "source": [
    "This allows us to expand the second derivative in our equation as:\n",
    "$$\n",
    "\\frac{d^2\\psi(x)}{dx_*^2} = \\left(\\frac{d^2y}{dx_*^2}\\right)\\frac{d\\psi(y)}{dy} + \\left(\\frac{dy}{dx_*}\\right)^2\\frac{d^2\\psi}{dy^2}\n",
    "$$\n",
    "\n",
    "where:\n",
    "$$\n",
    "\\frac{d^2y}{dx_*^2} = - \\frac{d/dy(dx_*/dy)}{(dx_*/dy)^3}\n",
    "$$\n",
    "\n",
    "First, let's compute $d^2y/dx_*^2$"
   ]
  },
  {
   "cell_type": "code",
   "execution_count": 30,
   "id": "47010add",
   "metadata": {},
   "outputs": [
    {
     "data": {
      "text/latex": [
       "$\\displaystyle - \\frac{y \\left(y - 1\\right)^{3} \\left(- 3 r_{s}^{2} y + r_{s}^{2} + 4 x_{0}^{2} y^{3} - 9 x_{0}^{2} y^{2} + 6 x_{0}^{2} y - x_{0}^{2}\\right)}{r_{s}^{4}}$"
      ],
      "text/plain": [
       "-y*(y - 1)**3*(-3*r_s**2*y + r_s**2 + 4*x_0**2*y**3 - 9*x_0**2*y**2 + 6*x_0**2*y - x_0**2)/r_s**4"
      ]
     },
     "metadata": {},
     "output_type": "display_data"
    }
   ],
   "source": [
    "ddyddxstar = - ( sp.Derivative( dxstardy, y, evaluate = True ) / (dxstardy)**3 ).simplify().factor()\n",
    "display(ddyddxstar)"
   ]
  },
  {
   "cell_type": "markdown",
   "id": "fa28dcd1",
   "metadata": {},
   "source": [
    "The second derivative of the wave function $d^2\\psi/dx_*^2$ in terms of the coordinate $y$ can be written as:"
   ]
  },
  {
   "cell_type": "code",
   "execution_count": 31,
   "id": "37a91405",
   "metadata": {},
   "outputs": [
    {
     "data": {
      "text/latex": [
       "$\\displaystyle \\frac{y^{2} \\left(1 - y\\right)^{6} \\left(\\frac{r_{s}^{2}}{\\left(1 - y\\right)^{2}} - x_{0}^{2}\\right) \\frac{d^{2}}{d y^{2}} \\psi{\\left(y \\right)}}{r_{s}^{4}} - \\frac{y \\left(y - 1\\right)^{3} \\left(- 3 r_{s}^{2} y + r_{s}^{2} + 4 x_{0}^{2} y^{3} - 9 x_{0}^{2} y^{2} + 6 x_{0}^{2} y - x_{0}^{2}\\right) \\frac{d}{d y} \\psi{\\left(y \\right)}}{r_{s}^{4}}$"
      ],
      "text/plain": [
       "y**2*(1 - y)**6*(r_s**2/(1 - y)**2 - x_0**2)*Derivative(psi(y), (y, 2))/r_s**4 - y*(y - 1)**3*(-3*r_s**2*y + r_s**2 + 4*x_0**2*y**3 - 9*x_0**2*y**2 + 6*x_0**2*y - x_0**2)*Derivative(psi(y), y)/r_s**4"
      ]
     },
     "metadata": {},
     "output_type": "display_data"
    }
   ],
   "source": [
    "# Define new second derivative in terms of y\n",
    "ddpsi_y = (ddyddxstar) * dpsi.subs(x, y) + (dydxstar)**2 * ddpsi.subs(x, y)\n",
    "display(ddpsi_y)"
   ]
  },
  {
   "cell_type": "code",
   "execution_count": 32,
   "id": "9d294bc6",
   "metadata": {},
   "outputs": [
    {
     "data": {
      "text/latex": [
       "$\\displaystyle \\frac{d}{d y} \\psi{\\left(y \\right)}$"
      ],
      "text/plain": [
       "Derivative(psi(y), y)"
      ]
     },
     "metadata": {},
     "output_type": "display_data"
    }
   ],
   "source": [
    "# Also redefine first derivative in new coordinate\n",
    "dpsi_y = dpsi.subs(x, y)\n",
    "display(dpsi_y)"
   ]
  },
  {
   "cell_type": "markdown",
   "id": "c7f59f3e",
   "metadata": {},
   "source": [
    "### Boundary conditions\n",
    "\n",
    "In order to obtain physical solutions we must impose boundary conditions. For now, let's follow \"standard procedure\" (as in Schwarzschild) of taking:\n",
    "$$\n",
    "\\psi(x_*) \\sim e^{\\mp i\\omega x_*} \\text{ for } x_* \\rightarrow \\pm\\infty\n",
    "$$\n",
    "\n",
    "which can be achieved by redefining:\n",
    "$$\n",
    "\\psi(y) = y^{-i\\omega r_s}(1-y)^{-i\\omega r_s}\\exp\\left( \\frac{i\\omega r_s}{1-y} \\right)\\phi(y) = \\tilde{\\psi}(y)\\phi(y)\n",
    "$$\n",
    "\n",
    "To use this in our equation, first we must calculate the first and second derivatives:\n",
    "$$\n",
    "\\frac{d\\psi(y)}{dy} = \\frac{d\\tilde{\\psi}(y)}{dy}\\phi(y) + \\tilde{\\psi}(y) \\frac{d\\phi(y)}{dy} = (\\dots)\\tilde{\\psi}(y)\\phi(y) + \\tilde{\\psi}(y)\\frac{d\\phi(y)}{dy}\n",
    "$$\n",
    "\n",
    "where, due to the symmetry of the function, $d\\tilde{\\psi}(y)/dy \\sim \\tilde{\\psi}(y)$ will be proportional."
   ]
  },
  {
   "cell_type": "code",
   "execution_count": 33,
   "id": "4df3e007",
   "metadata": {},
   "outputs": [
    {
     "data": {
      "text/latex": [
       "$\\displaystyle \\phi{\\left(y \\right)}$"
      ],
      "text/plain": [
       "phi(y)"
      ]
     },
     "metadata": {},
     "output_type": "display_data"
    },
    {
     "data": {
      "text/latex": [
       "$\\displaystyle \\frac{d}{d y} \\phi{\\left(y \\right)}$"
      ],
      "text/plain": [
       "Derivative(phi(y), y)"
      ]
     },
     "metadata": {},
     "output_type": "display_data"
    },
    {
     "data": {
      "text/latex": [
       "$\\displaystyle \\frac{d^{2}}{d y^{2}} \\phi{\\left(y \\right)}$"
      ],
      "text/plain": [
       "Derivative(phi(y), (y, 2))"
      ]
     },
     "metadata": {},
     "output_type": "display_data"
    }
   ],
   "source": [
    "# Define new phi function and its derivatives\n",
    "phi = sp.Function(\"phi\")(y)\n",
    "dphi = sp.Derivative(phi, y, evaluate = False)\n",
    "ddphi = sp.Derivative(dphi, y, evaluate = False)\n",
    "display(phi, dphi, ddphi)"
   ]
  },
  {
   "cell_type": "code",
   "execution_count": 34,
   "id": "860c30b8",
   "metadata": {},
   "outputs": [
    {
     "data": {
      "text/latex": [
       "$\\displaystyle y^{- i \\omega r_{s}} \\left(1 - y\\right)^{- i \\omega r_{s}} \\phi{\\left(y \\right)} e^{\\frac{i \\omega r_{s}}{1 - y}}$"
      ],
      "text/plain": [
       "phi(y)*exp(I*omega*r_s/(1 - y))/(y**(I*omega*r_s)*(1 - y)**(I*omega*r_s))"
      ]
     },
     "metadata": {},
     "output_type": "display_data"
    }
   ],
   "source": [
    "# Define new psi function\n",
    "psi_bc = y**(-sp.I * w * rs) * (1-y)**(-sp.I * w * rs) * sp.exp( sp.I * w * rs / (1-y) ) * phi\n",
    "display(psi_bc)"
   ]
  },
  {
   "cell_type": "code",
   "execution_count": 35,
   "id": "beecd7d3",
   "metadata": {},
   "outputs": [
    {
     "data": {
      "text/latex": [
       "$\\displaystyle \\frac{i \\omega r_{s} y^{- i \\omega r_{s}} \\left(1 - y\\right)^{- i \\omega r_{s}} \\phi{\\left(y \\right)} e^{\\frac{i \\omega r_{s}}{1 - y}}}{1 - y} + \\frac{i \\omega r_{s} y^{- i \\omega r_{s}} \\left(1 - y\\right)^{- i \\omega r_{s}} \\phi{\\left(y \\right)} e^{\\frac{i \\omega r_{s}}{1 - y}}}{\\left(1 - y\\right)^{2}} - \\frac{i \\omega r_{s} y^{- i \\omega r_{s}} \\left(1 - y\\right)^{- i \\omega r_{s}} \\phi{\\left(y \\right)} e^{\\frac{i \\omega r_{s}}{1 - y}}}{y} + y^{- i \\omega r_{s}} \\left(1 - y\\right)^{- i \\omega r_{s}} e^{\\frac{i \\omega r_{s}}{1 - y}} \\frac{d}{d y} \\phi{\\left(y \\right)}$"
      ],
      "text/plain": [
       "I*omega*r_s*phi(y)*exp(I*omega*r_s/(1 - y))/(y**(I*omega*r_s)*(1 - y)*(1 - y)**(I*omega*r_s)) + I*omega*r_s*phi(y)*exp(I*omega*r_s/(1 - y))/(y**(I*omega*r_s)*(1 - y)**2*(1 - y)**(I*omega*r_s)) - I*omega*r_s*phi(y)*exp(I*omega*r_s/(1 - y))/(y*y**(I*omega*r_s)*(1 - y)**(I*omega*r_s)) + exp(I*omega*r_s/(1 - y))*Derivative(phi(y), y)/(y**(I*omega*r_s)*(1 - y)**(I*omega*r_s))"
      ]
     },
     "metadata": {},
     "output_type": "display_data"
    }
   ],
   "source": [
    "# Compute its first derivative\n",
    "psi_bc_der = sp.Derivative(psi_bc, y, evaluate = True)\n",
    "display(psi_bc_der)"
   ]
  },
  {
   "cell_type": "code",
   "execution_count": 36,
   "id": "f2176c61",
   "metadata": {},
   "outputs": [
    {
     "data": {
      "text/latex": [
       "$\\displaystyle - \\frac{i \\omega r_{s} \\left(2 y^{2} - 4 y + 1\\right)}{y \\left(y - 1\\right)^{2}}$"
      ],
      "text/plain": [
       "-I*omega*r_s*(2*y**2 - 4*y + 1)/(y*(y - 1)**2)"
      ]
     },
     "metadata": {},
     "output_type": "display_data"
    }
   ],
   "source": [
    "# Extract coefficient that accompanies the original function [ we call this (...) ]\n",
    "dpsi_bc_coeff = psi_bc_der.coeff( psi_bc ).factor()\n",
    "display(dpsi_bc_coeff)"
   ]
  },
  {
   "cell_type": "code",
   "execution_count": 37,
   "id": "7e683b2e",
   "metadata": {},
   "outputs": [
    {
     "data": {
      "text/latex": [
       "$\\displaystyle - \\frac{i \\omega r_{s} \\left(2 y^{2} - 4 y + 1\\right) \\phi{\\left(y \\right)}}{y \\left(y - 1\\right)^{2}} + \\frac{d}{d y} \\phi{\\left(y \\right)}$"
      ],
      "text/plain": [
       "-I*omega*r_s*(2*y**2 - 4*y + 1)*phi(y)/(y*(y - 1)**2) + Derivative(phi(y), y)"
      ]
     },
     "metadata": {},
     "output_type": "display_data"
    }
   ],
   "source": [
    "# Define now the first derivative (ignoring psi tilde term) after boundary conditions\n",
    "dpsi_bc = dpsi_bc_coeff * phi + dphi\n",
    "display(dpsi_bc)"
   ]
  },
  {
   "cell_type": "markdown",
   "id": "371a3518",
   "metadata": {},
   "source": [
    "Now, we must calculate the second derivative:\n",
    "$$\n",
    "\\begin{align*}\n",
    "\\frac{d^2\\psi(y)}{dy^2} &= \\frac{d(\\dots)}{dy}\\tilde{\\psi}(y)\\phi(y) + (\\dots)\\frac{d\\tilde{\\psi}(y)}{dy}\\phi(y) + (\\dots)\\tilde{\\psi}(y)\\frac{d\\phi(y)}{dy} + \\frac{d\\tilde{\\psi}(y)}{dy}\\frac{d\\phi(y)}{dy} + \\tilde{\\psi}(y)\\frac{d^2\\phi(y)}{dy^2} \\\\\n",
    "&= \\frac{d(\\dots)}{dy}\\tilde{\\psi}(y)\\phi(y) + (\\dots)^2\\tilde{\\psi}(y)\\phi(y) + (\\dots)\\tilde{\\psi}(y)\\frac{d\\phi(y)}{dy} \n",
    "+ (\\dots)\\tilde{\\psi}(y)\\frac{d\\phi(y)}{dy} + \\tilde{\\psi}(y)\\frac{d^2\\phi(y)}{dy^2} \\\\\n",
    "&\\sim \\left[ \\frac{d(\\dots)}{dy} + (\\dots)^2 \\right]\\phi(y) + 2(\\dots) \\frac{d\\phi(y)}{dy} + \\frac{d^2\\phi(y)}{dy^2}\n",
    "\\end{align*}\n",
    "$$"
   ]
  },
  {
   "cell_type": "code",
   "execution_count": 38,
   "id": "e27514a5",
   "metadata": {},
   "outputs": [
    {
     "data": {
      "text/latex": [
       "$\\displaystyle \\frac{i \\omega r_{s} \\left(2 y^{3} - 6 y^{2} + 3 y - 1\\right)}{y^{2} \\left(y - 1\\right)^{3}}$"
      ],
      "text/plain": [
       "I*omega*r_s*(2*y**3 - 6*y**2 + 3*y - 1)/(y**2*(y - 1)**3)"
      ]
     },
     "metadata": {},
     "output_type": "display_data"
    }
   ],
   "source": [
    "# Compute derivative of coefficient\n",
    "ddpsi_bc_coeff = sp.Derivative( dpsi_bc_coeff, y, evaluate = True ).factor()\n",
    "display(ddpsi_bc_coeff)"
   ]
  },
  {
   "cell_type": "code",
   "execution_count": 39,
   "id": "cdc2487b",
   "metadata": {},
   "outputs": [
    {
     "data": {
      "text/latex": [
       "$\\displaystyle - \\frac{2 i \\omega r_{s} \\left(2 y^{2} - 4 y + 1\\right) \\frac{d}{d y} \\phi{\\left(y \\right)}}{y \\left(y - 1\\right)^{2}} + \\left(- \\frac{\\omega^{2} r_{s}^{2} \\left(2 y^{2} - 4 y + 1\\right)^{2}}{y^{2} \\left(y - 1\\right)^{4}} + \\frac{i \\omega r_{s} \\left(2 y^{3} - 6 y^{2} + 3 y - 1\\right)}{y^{2} \\left(y - 1\\right)^{3}}\\right) \\phi{\\left(y \\right)} + \\frac{d^{2}}{d y^{2}} \\phi{\\left(y \\right)}$"
      ],
      "text/plain": [
       "-2*I*omega*r_s*(2*y**2 - 4*y + 1)*Derivative(phi(y), y)/(y*(y - 1)**2) + (-omega**2*r_s**2*(2*y**2 - 4*y + 1)**2/(y**2*(y - 1)**4) + I*omega*r_s*(2*y**3 - 6*y**2 + 3*y - 1)/(y**2*(y - 1)**3))*phi(y) + Derivative(phi(y), (y, 2))"
      ]
     },
     "metadata": {},
     "output_type": "display_data"
    }
   ],
   "source": [
    "# We can now define the second derivative\n",
    "ddpsi_bc = ( ddpsi_bc_coeff + dpsi_bc_coeff**2 ) * phi + 2 * dpsi_bc_coeff * dphi + ddphi\n",
    "display(ddpsi_bc)"
   ]
  },
  {
   "cell_type": "markdown",
   "id": "5b0f795e",
   "metadata": {},
   "source": [
    "### **Vector equation**"
   ]
  },
  {
   "cell_type": "code",
   "execution_count": null,
   "id": "9159a44c",
   "metadata": {},
   "outputs": [],
   "source": [
    "# First, insert potential\n",
    "eq_vec_pot = eq.subs( pot, V_vec )\n",
    "# Second, change of variable\n",
    "eq_vec_chvar = eq_vec_pot.subs( ddpsi_star, ddpsi_y ).subs(psi, psi_y).subs(x, var_change_x)\n",
    "# Third, insert boundary conditions\n",
    "eq_vec_bc = eq_vec_chvar.subs( {sp.Derivative(psi_y, y): dpsi_bc, sp.Derivative(sp.Derivative(psi_y, y), y): ddpsi_bc, psi_y: phi} )\n",
    "# Define axial equation with change of variable and boundary condition\n",
    "eq_vec = eq_vec_bc\n",
    "# Refine assuming (1-y) > 0\n",
    "eq_vec = sp.refine(eq_vec, sp.Q.positive(1-y))\n",
    "# Display\n",
    "display(eq_vec)"
   ]
  },
  {
   "cell_type": "code",
   "execution_count": null,
   "id": "63994838",
   "metadata": {},
   "outputs": [],
   "source": [
    "# Define arrays containing all terms\n",
    "term_phi = []\n",
    "term_dphi = []\n",
    "term_ddphi = []"
   ]
  },
  {
   "cell_type": "code",
   "execution_count": null,
   "id": "2f73e7d1",
   "metadata": {},
   "outputs": [
    {
     "data": {
      "text/latex": [
       "$\\displaystyle - \\frac{\\ell \\left(1 - y\\right)^{2} \\left(1 - \\frac{1}{\\sqrt{\\frac{1}{\\left(1 - y\\right)^{2}}}}\\right) \\left(\\ell + 1\\right)}{r_{s}^{2}} + \\omega^{2}$"
      ],
      "text/plain": [
       "-ell*(1 - y)**2*(1 - 1/sqrt((1 - y)**(-2)))*(ell + 1)/r_s**2 + omega**2"
      ]
     },
     "metadata": {},
     "output_type": "display_data"
    }
   ],
   "source": [
    "term_phi.append( eq_vec.lhs.coeff(phi) )\n",
    "display(term_phi[0])"
   ]
  },
  {
   "cell_type": "code",
   "execution_count": null,
   "id": "cbf5c16d",
   "metadata": {},
   "outputs": [
    {
     "data": {
      "text/latex": [
       "$\\displaystyle - \\frac{y^{2} \\left(y - 1\\right)^{4} \\left(- r_{s} + x_{0} y - x_{0}\\right) \\left(r_{s} + x_{0} y - x_{0}\\right)}{r_{s}^{4}}$"
      ],
      "text/plain": [
       "-y**2*(y - 1)**4*(-r_s + x_0*y - x_0)*(r_s + x_0*y - x_0)/r_s**4"
      ]
     },
     "metadata": {},
     "output_type": "display_data"
    }
   ],
   "source": [
    "# Extract term accompanying second derivative\n",
    "norm_vec = eq_vec.lhs.expand().coeff(ddphi).factor()\n",
    "display(norm_vec)"
   ]
  },
  {
   "cell_type": "code",
   "execution_count": null,
   "id": "64d175f5",
   "metadata": {},
   "outputs": [
    {
     "data": {
      "text/latex": [
       "$\\displaystyle \\left(\\frac{y^{8}}{r_{s}^{2} y^{2} - 2 r_{s}^{2} y + r_{s}^{2}} - \\frac{6 y^{7}}{r_{s}^{2} y^{2} - 2 r_{s}^{2} y + r_{s}^{2}} + \\frac{15 y^{6}}{r_{s}^{2} y^{2} - 2 r_{s}^{2} y + r_{s}^{2}} - \\frac{20 y^{5}}{r_{s}^{2} y^{2} - 2 r_{s}^{2} y + r_{s}^{2}} + \\frac{15 y^{4}}{r_{s}^{2} y^{2} - 2 r_{s}^{2} y + r_{s}^{2}} - \\frac{6 y^{3}}{r_{s}^{2} y^{2} - 2 r_{s}^{2} y + r_{s}^{2}} + \\frac{y^{2}}{r_{s}^{2} y^{2} - 2 r_{s}^{2} y + r_{s}^{2}} - \\frac{x_{0}^{2} y^{8}}{r_{s}^{4}} + \\frac{6 x_{0}^{2} y^{7}}{r_{s}^{4}} - \\frac{15 x_{0}^{2} y^{6}}{r_{s}^{4}} + \\frac{20 x_{0}^{2} y^{5}}{r_{s}^{4}} - \\frac{15 x_{0}^{2} y^{4}}{r_{s}^{4}} + \\frac{6 x_{0}^{2} y^{3}}{r_{s}^{4}} - \\frac{x_{0}^{2} y^{2}}{r_{s}^{4}}\\right) \\frac{d^{2}}{d y^{2}} \\phi{\\left(y \\right)} + \\left(\\frac{4 i \\omega x_{0}^{2} y^{10}}{r_{s}^{3} y^{3} - 2 r_{s}^{3} y^{2} + r_{s}^{3} y} - \\frac{32 i \\omega x_{0}^{2} y^{9}}{r_{s}^{3} y^{3} - 2 r_{s}^{3} y^{2} + r_{s}^{3} y} + \\frac{110 i \\omega x_{0}^{2} y^{8}}{r_{s}^{3} y^{3} - 2 r_{s}^{3} y^{2} + r_{s}^{3} y} - \\frac{212 i \\omega x_{0}^{2} y^{7}}{r_{s}^{3} y^{3} - 2 r_{s}^{3} y^{2} + r_{s}^{3} y} + \\frac{250 i \\omega x_{0}^{2} y^{6}}{r_{s}^{3} y^{3} - 2 r_{s}^{3} y^{2} + r_{s}^{3} y} - \\frac{184 i \\omega x_{0}^{2} y^{5}}{r_{s}^{3} y^{3} - 2 r_{s}^{3} y^{2} + r_{s}^{3} y} + \\frac{82 i \\omega x_{0}^{2} y^{4}}{r_{s}^{3} y^{3} - 2 r_{s}^{3} y^{2} + r_{s}^{3} y} - \\frac{20 i \\omega x_{0}^{2} y^{3}}{r_{s}^{3} y^{3} - 2 r_{s}^{3} y^{2} + r_{s}^{3} y} + \\frac{2 i \\omega x_{0}^{2} y^{2}}{r_{s}^{3} y^{3} - 2 r_{s}^{3} y^{2} + r_{s}^{3} y} - \\frac{4 i \\omega y^{10}}{r_{s} y^{5} - 4 r_{s} y^{4} + 6 r_{s} y^{3} - 4 r_{s} y^{2} + r_{s} y} + \\frac{32 i \\omega y^{9}}{r_{s} y^{5} - 4 r_{s} y^{4} + 6 r_{s} y^{3} - 4 r_{s} y^{2} + r_{s} y} - \\frac{110 i \\omega y^{8}}{r_{s} y^{5} - 4 r_{s} y^{4} + 6 r_{s} y^{3} - 4 r_{s} y^{2} + r_{s} y} + \\frac{212 i \\omega y^{7}}{r_{s} y^{5} - 4 r_{s} y^{4} + 6 r_{s} y^{3} - 4 r_{s} y^{2} + r_{s} y} - \\frac{250 i \\omega y^{6}}{r_{s} y^{5} - 4 r_{s} y^{4} + 6 r_{s} y^{3} - 4 r_{s} y^{2} + r_{s} y} + \\frac{184 i \\omega y^{5}}{r_{s} y^{5} - 4 r_{s} y^{4} + 6 r_{s} y^{3} - 4 r_{s} y^{2} + r_{s} y} - \\frac{82 i \\omega y^{4}}{r_{s} y^{5} - 4 r_{s} y^{4} + 6 r_{s} y^{3} - 4 r_{s} y^{2} + r_{s} y} + \\frac{20 i \\omega y^{3}}{r_{s} y^{5} - 4 r_{s} y^{4} + 6 r_{s} y^{3} - 4 r_{s} y^{2} + r_{s} y} - \\frac{2 i \\omega y^{2}}{r_{s} y^{5} - 4 r_{s} y^{4} + 6 r_{s} y^{3} - 4 r_{s} y^{2} + r_{s} y} + \\frac{3 y^{5}}{r_{s}^{2}} - \\frac{10 y^{4}}{r_{s}^{2}} + \\frac{12 y^{3}}{r_{s}^{2}} - \\frac{6 y^{2}}{r_{s}^{2}} + \\frac{y}{r_{s}^{2}} - \\frac{4 x_{0}^{2} y^{7}}{r_{s}^{4}} + \\frac{21 x_{0}^{2} y^{6}}{r_{s}^{4}} - \\frac{45 x_{0}^{2} y^{5}}{r_{s}^{4}} + \\frac{50 x_{0}^{2} y^{4}}{r_{s}^{4}} - \\frac{30 x_{0}^{2} y^{3}}{r_{s}^{4}} + \\frac{9 x_{0}^{2} y^{2}}{r_{s}^{4}} - \\frac{x_{0}^{2} y}{r_{s}^{4}}\\right) \\frac{d}{d y} \\phi{\\left(y \\right)} + \\left(- \\frac{\\ell^{2} y^{2}}{r_{s}^{2}} + \\frac{\\ell^{2} y^{2}}{r_{s}^{2} \\sqrt{\\frac{1}{y^{2} - 2 y + 1}}} + \\frac{2 \\ell^{2} y}{r_{s}^{2}} - \\frac{2 \\ell^{2} y}{r_{s}^{2} \\sqrt{\\frac{1}{y^{2} - 2 y + 1}}} - \\frac{\\ell^{2}}{r_{s}^{2}} + \\frac{\\ell^{2}}{r_{s}^{2} \\sqrt{\\frac{1}{y^{2} - 2 y + 1}}} - \\frac{\\ell y^{2}}{r_{s}^{2}} + \\frac{\\ell y^{2}}{r_{s}^{2} \\sqrt{\\frac{1}{y^{2} - 2 y + 1}}} + \\frac{2 \\ell y}{r_{s}^{2}} - \\frac{2 \\ell y}{r_{s}^{2} \\sqrt{\\frac{1}{y^{2} - 2 y + 1}}} - \\frac{\\ell}{r_{s}^{2}} + \\frac{\\ell}{r_{s}^{2} \\sqrt{\\frac{1}{y^{2} - 2 y + 1}}} + \\frac{4 \\omega^{2} x_{0}^{2} y^{12}}{r_{s}^{2} y^{6} - 4 r_{s}^{2} y^{5} + 6 r_{s}^{2} y^{4} - 4 r_{s}^{2} y^{3} + r_{s}^{2} y^{2}} - \\frac{40 \\omega^{2} x_{0}^{2} y^{11}}{r_{s}^{2} y^{6} - 4 r_{s}^{2} y^{5} + 6 r_{s}^{2} y^{4} - 4 r_{s}^{2} y^{3} + r_{s}^{2} y^{2}} + \\frac{176 \\omega^{2} x_{0}^{2} y^{10}}{r_{s}^{2} y^{6} - 4 r_{s}^{2} y^{5} + 6 r_{s}^{2} y^{4} - 4 r_{s}^{2} y^{3} + r_{s}^{2} y^{2}} - \\frac{448 \\omega^{2} x_{0}^{2} y^{9}}{r_{s}^{2} y^{6} - 4 r_{s}^{2} y^{5} + 6 r_{s}^{2} y^{4} - 4 r_{s}^{2} y^{3} + r_{s}^{2} y^{2}} + \\frac{729 \\omega^{2} x_{0}^{2} y^{8}}{r_{s}^{2} y^{6} - 4 r_{s}^{2} y^{5} + 6 r_{s}^{2} y^{4} - 4 r_{s}^{2} y^{3} + r_{s}^{2} y^{2}} - \\frac{790 \\omega^{2} x_{0}^{2} y^{7}}{r_{s}^{2} y^{6} - 4 r_{s}^{2} y^{5} + 6 r_{s}^{2} y^{4} - 4 r_{s}^{2} y^{3} + r_{s}^{2} y^{2}} + \\frac{575 \\omega^{2} x_{0}^{2} y^{6}}{r_{s}^{2} y^{6} - 4 r_{s}^{2} y^{5} + 6 r_{s}^{2} y^{4} - 4 r_{s}^{2} y^{3} + r_{s}^{2} y^{2}} - \\frac{276 \\omega^{2} x_{0}^{2} y^{5}}{r_{s}^{2} y^{6} - 4 r_{s}^{2} y^{5} + 6 r_{s}^{2} y^{4} - 4 r_{s}^{2} y^{3} + r_{s}^{2} y^{2}} + \\frac{83 \\omega^{2} x_{0}^{2} y^{4}}{r_{s}^{2} y^{6} - 4 r_{s}^{2} y^{5} + 6 r_{s}^{2} y^{4} - 4 r_{s}^{2} y^{3} + r_{s}^{2} y^{2}} - \\frac{14 \\omega^{2} x_{0}^{2} y^{3}}{r_{s}^{2} y^{6} - 4 r_{s}^{2} y^{5} + 6 r_{s}^{2} y^{4} - 4 r_{s}^{2} y^{3} + r_{s}^{2} y^{2}} + \\frac{\\omega^{2} x_{0}^{2} y^{2}}{r_{s}^{2} y^{6} - 4 r_{s}^{2} y^{5} + 6 r_{s}^{2} y^{4} - 4 r_{s}^{2} y^{3} + r_{s}^{2} y^{2}} - \\frac{4 \\omega^{2} y^{12}}{y^{8} - 6 y^{7} + 15 y^{6} - 20 y^{5} + 15 y^{4} - 6 y^{3} + y^{2}} + \\frac{40 \\omega^{2} y^{11}}{y^{8} - 6 y^{7} + 15 y^{6} - 20 y^{5} + 15 y^{4} - 6 y^{3} + y^{2}} - \\frac{176 \\omega^{2} y^{10}}{y^{8} - 6 y^{7} + 15 y^{6} - 20 y^{5} + 15 y^{4} - 6 y^{3} + y^{2}} + \\frac{448 \\omega^{2} y^{9}}{y^{8} - 6 y^{7} + 15 y^{6} - 20 y^{5} + 15 y^{4} - 6 y^{3} + y^{2}} - \\frac{729 \\omega^{2} y^{8}}{y^{8} - 6 y^{7} + 15 y^{6} - 20 y^{5} + 15 y^{4} - 6 y^{3} + y^{2}} + \\frac{790 \\omega^{2} y^{7}}{y^{8} - 6 y^{7} + 15 y^{6} - 20 y^{5} + 15 y^{4} - 6 y^{3} + y^{2}} - \\frac{575 \\omega^{2} y^{6}}{y^{8} - 6 y^{7} + 15 y^{6} - 20 y^{5} + 15 y^{4} - 6 y^{3} + y^{2}} + \\frac{276 \\omega^{2} y^{5}}{y^{8} - 6 y^{7} + 15 y^{6} - 20 y^{5} + 15 y^{4} - 6 y^{3} + y^{2}} - \\frac{83 \\omega^{2} y^{4}}{y^{8} - 6 y^{7} + 15 y^{6} - 20 y^{5} + 15 y^{4} - 6 y^{3} + y^{2}} + \\frac{14 \\omega^{2} y^{3}}{y^{8} - 6 y^{7} + 15 y^{6} - 20 y^{5} + 15 y^{4} - 6 y^{3} + y^{2}} - \\frac{\\omega^{2} y^{2}}{y^{8} - 6 y^{7} + 15 y^{6} - 20 y^{5} + 15 y^{4} - 6 y^{3} + y^{2}} + \\omega^{2} - \\frac{2 i \\omega x_{0}^{2} y^{11}}{r_{s}^{3} y^{5} - 3 r_{s}^{3} y^{4} + 3 r_{s}^{3} y^{3} - r_{s}^{3} y^{2}} + \\frac{18 i \\omega x_{0}^{2} y^{10}}{r_{s}^{3} y^{5} - 3 r_{s}^{3} y^{4} + 3 r_{s}^{3} y^{3} - r_{s}^{3} y^{2}} - \\frac{69 i \\omega x_{0}^{2} y^{9}}{r_{s}^{3} y^{5} - 3 r_{s}^{3} y^{4} + 3 r_{s}^{3} y^{3} - r_{s}^{3} y^{2}} + \\frac{8 i \\omega x_{0}^{2} y^{9}}{r_{s}^{3} y^{3} - 2 r_{s}^{3} y^{2} + r_{s}^{3} y} + \\frac{149 i \\omega x_{0}^{2} y^{8}}{r_{s}^{3} y^{5} - 3 r_{s}^{3} y^{4} + 3 r_{s}^{3} y^{3} - r_{s}^{3} y^{2}} - \\frac{58 i \\omega x_{0}^{2} y^{8}}{r_{s}^{3} y^{3} - 2 r_{s}^{3} y^{2} + r_{s}^{3} y} - \\frac{201 i \\omega x_{0}^{2} y^{7}}{r_{s}^{3} y^{5} - 3 r_{s}^{3} y^{4} + 3 r_{s}^{3} y^{3} - r_{s}^{3} y^{2}} + \\frac{178 i \\omega x_{0}^{2} y^{7}}{r_{s}^{3} y^{3} - 2 r_{s}^{3} y^{2} + r_{s}^{3} y} + \\frac{177 i \\omega x_{0}^{2} y^{6}}{r_{s}^{3} y^{5} - 3 r_{s}^{3} y^{4} + 3 r_{s}^{3} y^{3} - r_{s}^{3} y^{2}} - \\frac{301 i \\omega x_{0}^{2} y^{6}}{r_{s}^{3} y^{3} - 2 r_{s}^{3} y^{2} + r_{s}^{3} y} - \\frac{103 i \\omega x_{0}^{2} y^{5}}{r_{s}^{3} y^{5} - 3 r_{s}^{3} y^{4} + 3 r_{s}^{3} y^{3} - r_{s}^{3} y^{2}} + \\frac{305 i \\omega x_{0}^{2} y^{5}}{r_{s}^{3} y^{3} - 2 r_{s}^{3} y^{2} + r_{s}^{3} y} + \\frac{39 i \\omega x_{0}^{2} y^{4}}{r_{s}^{3} y^{5} - 3 r_{s}^{3} y^{4} + 3 r_{s}^{3} y^{3} - r_{s}^{3} y^{2}} - \\frac{188 i \\omega x_{0}^{2} y^{4}}{r_{s}^{3} y^{3} - 2 r_{s}^{3} y^{2} + r_{s}^{3} y} - \\frac{9 i \\omega x_{0}^{2} y^{3}}{r_{s}^{3} y^{5} - 3 r_{s}^{3} y^{4} + 3 r_{s}^{3} y^{3} - r_{s}^{3} y^{2}} + \\frac{68 i \\omega x_{0}^{2} y^{3}}{r_{s}^{3} y^{3} - 2 r_{s}^{3} y^{2} + r_{s}^{3} y} + \\frac{i \\omega x_{0}^{2} y^{2}}{r_{s}^{3} y^{5} - 3 r_{s}^{3} y^{4} + 3 r_{s}^{3} y^{3} - r_{s}^{3} y^{2}} - \\frac{13 i \\omega x_{0}^{2} y^{2}}{r_{s}^{3} y^{3} - 2 r_{s}^{3} y^{2} + r_{s}^{3} y} + \\frac{i \\omega x_{0}^{2} y}{r_{s}^{3} y^{3} - 2 r_{s}^{3} y^{2} + r_{s}^{3} y} + \\frac{2 i \\omega y^{11}}{r_{s} y^{7} - 5 r_{s} y^{6} + 10 r_{s} y^{5} - 10 r_{s} y^{4} + 5 r_{s} y^{3} - r_{s} y^{2}} - \\frac{18 i \\omega y^{10}}{r_{s} y^{7} - 5 r_{s} y^{6} + 10 r_{s} y^{5} - 10 r_{s} y^{4} + 5 r_{s} y^{3} - r_{s} y^{2}} + \\frac{69 i \\omega y^{9}}{r_{s} y^{7} - 5 r_{s} y^{6} + 10 r_{s} y^{5} - 10 r_{s} y^{4} + 5 r_{s} y^{3} - r_{s} y^{2}} - \\frac{149 i \\omega y^{8}}{r_{s} y^{7} - 5 r_{s} y^{6} + 10 r_{s} y^{5} - 10 r_{s} y^{4} + 5 r_{s} y^{3} - r_{s} y^{2}} + \\frac{201 i \\omega y^{7}}{r_{s} y^{7} - 5 r_{s} y^{6} + 10 r_{s} y^{5} - 10 r_{s} y^{4} + 5 r_{s} y^{3} - r_{s} y^{2}} - \\frac{6 i \\omega y^{7}}{r_{s} y^{3} - 2 r_{s} y^{2} + r_{s} y} - \\frac{177 i \\omega y^{6}}{r_{s} y^{7} - 5 r_{s} y^{6} + 10 r_{s} y^{5} - 10 r_{s} y^{4} + 5 r_{s} y^{3} - r_{s} y^{2}} + \\frac{32 i \\omega y^{6}}{r_{s} y^{3} - 2 r_{s} y^{2} + r_{s} y} + \\frac{103 i \\omega y^{5}}{r_{s} y^{7} - 5 r_{s} y^{6} + 10 r_{s} y^{5} - 10 r_{s} y^{4} + 5 r_{s} y^{3} - r_{s} y^{2}} - \\frac{67 i \\omega y^{5}}{r_{s} y^{3} - 2 r_{s} y^{2} + r_{s} y} - \\frac{39 i \\omega y^{4}}{r_{s} y^{7} - 5 r_{s} y^{6} + 10 r_{s} y^{5} - 10 r_{s} y^{4} + 5 r_{s} y^{3} - r_{s} y^{2}} + \\frac{70 i \\omega y^{4}}{r_{s} y^{3} - 2 r_{s} y^{2} + r_{s} y} + \\frac{9 i \\omega y^{3}}{r_{s} y^{7} - 5 r_{s} y^{6} + 10 r_{s} y^{5} - 10 r_{s} y^{4} + 5 r_{s} y^{3} - r_{s} y^{2}} - \\frac{38 i \\omega y^{3}}{r_{s} y^{3} - 2 r_{s} y^{2} + r_{s} y} - \\frac{i \\omega y^{2}}{r_{s} y^{7} - 5 r_{s} y^{6} + 10 r_{s} y^{5} - 10 r_{s} y^{4} + 5 r_{s} y^{3} - r_{s} y^{2}} + \\frac{10 i \\omega y^{2}}{r_{s} y^{3} - 2 r_{s} y^{2} + r_{s} y} - \\frac{i \\omega y}{r_{s} y^{3} - 2 r_{s} y^{2} + r_{s} y}\\right) \\phi{\\left(y \\right)}$"
      ],
      "text/plain": [
       "(y**8/(r_s**2*y**2 - 2*r_s**2*y + r_s**2) - 6*y**7/(r_s**2*y**2 - 2*r_s**2*y + r_s**2) + 15*y**6/(r_s**2*y**2 - 2*r_s**2*y + r_s**2) - 20*y**5/(r_s**2*y**2 - 2*r_s**2*y + r_s**2) + 15*y**4/(r_s**2*y**2 - 2*r_s**2*y + r_s**2) - 6*y**3/(r_s**2*y**2 - 2*r_s**2*y + r_s**2) + y**2/(r_s**2*y**2 - 2*r_s**2*y + r_s**2) - x_0**2*y**8/r_s**4 + 6*x_0**2*y**7/r_s**4 - 15*x_0**2*y**6/r_s**4 + 20*x_0**2*y**5/r_s**4 - 15*x_0**2*y**4/r_s**4 + 6*x_0**2*y**3/r_s**4 - x_0**2*y**2/r_s**4)*Derivative(phi(y), (y, 2)) + (4*I*omega*x_0**2*y**10/(r_s**3*y**3 - 2*r_s**3*y**2 + r_s**3*y) - 32*I*omega*x_0**2*y**9/(r_s**3*y**3 - 2*r_s**3*y**2 + r_s**3*y) + 110*I*omega*x_0**2*y**8/(r_s**3*y**3 - 2*r_s**3*y**2 + r_s**3*y) - 212*I*omega*x_0**2*y**7/(r_s**3*y**3 - 2*r_s**3*y**2 + r_s**3*y) + 250*I*omega*x_0**2*y**6/(r_s**3*y**3 - 2*r_s**3*y**2 + r_s**3*y) - 184*I*omega*x_0**2*y**5/(r_s**3*y**3 - 2*r_s**3*y**2 + r_s**3*y) + 82*I*omega*x_0**2*y**4/(r_s**3*y**3 - 2*r_s**3*y**2 + r_s**3*y) - 20*I*omega*x_0**2*y**3/(r_s**3*y**3 - 2*r_s**3*y**2 + r_s**3*y) + 2*I*omega*x_0**2*y**2/(r_s**3*y**3 - 2*r_s**3*y**2 + r_s**3*y) - 4*I*omega*y**10/(r_s*y**5 - 4*r_s*y**4 + 6*r_s*y**3 - 4*r_s*y**2 + r_s*y) + 32*I*omega*y**9/(r_s*y**5 - 4*r_s*y**4 + 6*r_s*y**3 - 4*r_s*y**2 + r_s*y) - 110*I*omega*y**8/(r_s*y**5 - 4*r_s*y**4 + 6*r_s*y**3 - 4*r_s*y**2 + r_s*y) + 212*I*omega*y**7/(r_s*y**5 - 4*r_s*y**4 + 6*r_s*y**3 - 4*r_s*y**2 + r_s*y) - 250*I*omega*y**6/(r_s*y**5 - 4*r_s*y**4 + 6*r_s*y**3 - 4*r_s*y**2 + r_s*y) + 184*I*omega*y**5/(r_s*y**5 - 4*r_s*y**4 + 6*r_s*y**3 - 4*r_s*y**2 + r_s*y) - 82*I*omega*y**4/(r_s*y**5 - 4*r_s*y**4 + 6*r_s*y**3 - 4*r_s*y**2 + r_s*y) + 20*I*omega*y**3/(r_s*y**5 - 4*r_s*y**4 + 6*r_s*y**3 - 4*r_s*y**2 + r_s*y) - 2*I*omega*y**2/(r_s*y**5 - 4*r_s*y**4 + 6*r_s*y**3 - 4*r_s*y**2 + r_s*y) + 3*y**5/r_s**2 - 10*y**4/r_s**2 + 12*y**3/r_s**2 - 6*y**2/r_s**2 + y/r_s**2 - 4*x_0**2*y**7/r_s**4 + 21*x_0**2*y**6/r_s**4 - 45*x_0**2*y**5/r_s**4 + 50*x_0**2*y**4/r_s**4 - 30*x_0**2*y**3/r_s**4 + 9*x_0**2*y**2/r_s**4 - x_0**2*y/r_s**4)*Derivative(phi(y), y) + (-ell**2*y**2/r_s**2 + ell**2*y**2/(r_s**2*sqrt(1/(y**2 - 2*y + 1))) + 2*ell**2*y/r_s**2 - 2*ell**2*y/(r_s**2*sqrt(1/(y**2 - 2*y + 1))) - ell**2/r_s**2 + ell**2/(r_s**2*sqrt(1/(y**2 - 2*y + 1))) - ell*y**2/r_s**2 + ell*y**2/(r_s**2*sqrt(1/(y**2 - 2*y + 1))) + 2*ell*y/r_s**2 - 2*ell*y/(r_s**2*sqrt(1/(y**2 - 2*y + 1))) - ell/r_s**2 + ell/(r_s**2*sqrt(1/(y**2 - 2*y + 1))) + 4*omega**2*x_0**2*y**12/(r_s**2*y**6 - 4*r_s**2*y**5 + 6*r_s**2*y**4 - 4*r_s**2*y**3 + r_s**2*y**2) - 40*omega**2*x_0**2*y**11/(r_s**2*y**6 - 4*r_s**2*y**5 + 6*r_s**2*y**4 - 4*r_s**2*y**3 + r_s**2*y**2) + 176*omega**2*x_0**2*y**10/(r_s**2*y**6 - 4*r_s**2*y**5 + 6*r_s**2*y**4 - 4*r_s**2*y**3 + r_s**2*y**2) - 448*omega**2*x_0**2*y**9/(r_s**2*y**6 - 4*r_s**2*y**5 + 6*r_s**2*y**4 - 4*r_s**2*y**3 + r_s**2*y**2) + 729*omega**2*x_0**2*y**8/(r_s**2*y**6 - 4*r_s**2*y**5 + 6*r_s**2*y**4 - 4*r_s**2*y**3 + r_s**2*y**2) - 790*omega**2*x_0**2*y**7/(r_s**2*y**6 - 4*r_s**2*y**5 + 6*r_s**2*y**4 - 4*r_s**2*y**3 + r_s**2*y**2) + 575*omega**2*x_0**2*y**6/(r_s**2*y**6 - 4*r_s**2*y**5 + 6*r_s**2*y**4 - 4*r_s**2*y**3 + r_s**2*y**2) - 276*omega**2*x_0**2*y**5/(r_s**2*y**6 - 4*r_s**2*y**5 + 6*r_s**2*y**4 - 4*r_s**2*y**3 + r_s**2*y**2) + 83*omega**2*x_0**2*y**4/(r_s**2*y**6 - 4*r_s**2*y**5 + 6*r_s**2*y**4 - 4*r_s**2*y**3 + r_s**2*y**2) - 14*omega**2*x_0**2*y**3/(r_s**2*y**6 - 4*r_s**2*y**5 + 6*r_s**2*y**4 - 4*r_s**2*y**3 + r_s**2*y**2) + omega**2*x_0**2*y**2/(r_s**2*y**6 - 4*r_s**2*y**5 + 6*r_s**2*y**4 - 4*r_s**2*y**3 + r_s**2*y**2) - 4*omega**2*y**12/(y**8 - 6*y**7 + 15*y**6 - 20*y**5 + 15*y**4 - 6*y**3 + y**2) + 40*omega**2*y**11/(y**8 - 6*y**7 + 15*y**6 - 20*y**5 + 15*y**4 - 6*y**3 + y**2) - 176*omega**2*y**10/(y**8 - 6*y**7 + 15*y**6 - 20*y**5 + 15*y**4 - 6*y**3 + y**2) + 448*omega**2*y**9/(y**8 - 6*y**7 + 15*y**6 - 20*y**5 + 15*y**4 - 6*y**3 + y**2) - 729*omega**2*y**8/(y**8 - 6*y**7 + 15*y**6 - 20*y**5 + 15*y**4 - 6*y**3 + y**2) + 790*omega**2*y**7/(y**8 - 6*y**7 + 15*y**6 - 20*y**5 + 15*y**4 - 6*y**3 + y**2) - 575*omega**2*y**6/(y**8 - 6*y**7 + 15*y**6 - 20*y**5 + 15*y**4 - 6*y**3 + y**2) + 276*omega**2*y**5/(y**8 - 6*y**7 + 15*y**6 - 20*y**5 + 15*y**4 - 6*y**3 + y**2) - 83*omega**2*y**4/(y**8 - 6*y**7 + 15*y**6 - 20*y**5 + 15*y**4 - 6*y**3 + y**2) + 14*omega**2*y**3/(y**8 - 6*y**7 + 15*y**6 - 20*y**5 + 15*y**4 - 6*y**3 + y**2) - omega**2*y**2/(y**8 - 6*y**7 + 15*y**6 - 20*y**5 + 15*y**4 - 6*y**3 + y**2) + omega**2 - 2*I*omega*x_0**2*y**11/(r_s**3*y**5 - 3*r_s**3*y**4 + 3*r_s**3*y**3 - r_s**3*y**2) + 18*I*omega*x_0**2*y**10/(r_s**3*y**5 - 3*r_s**3*y**4 + 3*r_s**3*y**3 - r_s**3*y**2) - 69*I*omega*x_0**2*y**9/(r_s**3*y**5 - 3*r_s**3*y**4 + 3*r_s**3*y**3 - r_s**3*y**2) + 8*I*omega*x_0**2*y**9/(r_s**3*y**3 - 2*r_s**3*y**2 + r_s**3*y) + 149*I*omega*x_0**2*y**8/(r_s**3*y**5 - 3*r_s**3*y**4 + 3*r_s**3*y**3 - r_s**3*y**2) - 58*I*omega*x_0**2*y**8/(r_s**3*y**3 - 2*r_s**3*y**2 + r_s**3*y) - 201*I*omega*x_0**2*y**7/(r_s**3*y**5 - 3*r_s**3*y**4 + 3*r_s**3*y**3 - r_s**3*y**2) + 178*I*omega*x_0**2*y**7/(r_s**3*y**3 - 2*r_s**3*y**2 + r_s**3*y) + 177*I*omega*x_0**2*y**6/(r_s**3*y**5 - 3*r_s**3*y**4 + 3*r_s**3*y**3 - r_s**3*y**2) - 301*I*omega*x_0**2*y**6/(r_s**3*y**3 - 2*r_s**3*y**2 + r_s**3*y) - 103*I*omega*x_0**2*y**5/(r_s**3*y**5 - 3*r_s**3*y**4 + 3*r_s**3*y**3 - r_s**3*y**2) + 305*I*omega*x_0**2*y**5/(r_s**3*y**3 - 2*r_s**3*y**2 + r_s**3*y) + 39*I*omega*x_0**2*y**4/(r_s**3*y**5 - 3*r_s**3*y**4 + 3*r_s**3*y**3 - r_s**3*y**2) - 188*I*omega*x_0**2*y**4/(r_s**3*y**3 - 2*r_s**3*y**2 + r_s**3*y) - 9*I*omega*x_0**2*y**3/(r_s**3*y**5 - 3*r_s**3*y**4 + 3*r_s**3*y**3 - r_s**3*y**2) + 68*I*omega*x_0**2*y**3/(r_s**3*y**3 - 2*r_s**3*y**2 + r_s**3*y) + I*omega*x_0**2*y**2/(r_s**3*y**5 - 3*r_s**3*y**4 + 3*r_s**3*y**3 - r_s**3*y**2) - 13*I*omega*x_0**2*y**2/(r_s**3*y**3 - 2*r_s**3*y**2 + r_s**3*y) + I*omega*x_0**2*y/(r_s**3*y**3 - 2*r_s**3*y**2 + r_s**3*y) + 2*I*omega*y**11/(r_s*y**7 - 5*r_s*y**6 + 10*r_s*y**5 - 10*r_s*y**4 + 5*r_s*y**3 - r_s*y**2) - 18*I*omega*y**10/(r_s*y**7 - 5*r_s*y**6 + 10*r_s*y**5 - 10*r_s*y**4 + 5*r_s*y**3 - r_s*y**2) + 69*I*omega*y**9/(r_s*y**7 - 5*r_s*y**6 + 10*r_s*y**5 - 10*r_s*y**4 + 5*r_s*y**3 - r_s*y**2) - 149*I*omega*y**8/(r_s*y**7 - 5*r_s*y**6 + 10*r_s*y**5 - 10*r_s*y**4 + 5*r_s*y**3 - r_s*y**2) + 201*I*omega*y**7/(r_s*y**7 - 5*r_s*y**6 + 10*r_s*y**5 - 10*r_s*y**4 + 5*r_s*y**3 - r_s*y**2) - 6*I*omega*y**7/(r_s*y**3 - 2*r_s*y**2 + r_s*y) - 177*I*omega*y**6/(r_s*y**7 - 5*r_s*y**6 + 10*r_s*y**5 - 10*r_s*y**4 + 5*r_s*y**3 - r_s*y**2) + 32*I*omega*y**6/(r_s*y**3 - 2*r_s*y**2 + r_s*y) + 103*I*omega*y**5/(r_s*y**7 - 5*r_s*y**6 + 10*r_s*y**5 - 10*r_s*y**4 + 5*r_s*y**3 - r_s*y**2) - 67*I*omega*y**5/(r_s*y**3 - 2*r_s*y**2 + r_s*y) - 39*I*omega*y**4/(r_s*y**7 - 5*r_s*y**6 + 10*r_s*y**5 - 10*r_s*y**4 + 5*r_s*y**3 - r_s*y**2) + 70*I*omega*y**4/(r_s*y**3 - 2*r_s*y**2 + r_s*y) + 9*I*omega*y**3/(r_s*y**7 - 5*r_s*y**6 + 10*r_s*y**5 - 10*r_s*y**4 + 5*r_s*y**3 - r_s*y**2) - 38*I*omega*y**3/(r_s*y**3 - 2*r_s*y**2 + r_s*y) - I*omega*y**2/(r_s*y**7 - 5*r_s*y**6 + 10*r_s*y**5 - 10*r_s*y**4 + 5*r_s*y**3 - r_s*y**2) + 10*I*omega*y**2/(r_s*y**3 - 2*r_s*y**2 + r_s*y) - I*omega*y/(r_s*y**3 - 2*r_s*y**2 + r_s*y))*phi(y)"
      ]
     },
     "metadata": {},
     "output_type": "display_data"
    }
   ],
   "source": [
    "# Expand equation and collect according to powers of phi and derivatives\n",
    "eq_vec_exp = eq_vec.lhs.expand().collect(phi)\n",
    "display(eq_vec_exp)"
   ]
  },
  {
   "cell_type": "code",
   "execution_count": null,
   "id": "85b36244",
   "metadata": {},
   "outputs": [
    {
     "data": {
      "text/latex": [
       "$\\displaystyle 1$"
      ],
      "text/plain": [
       "1"
      ]
     },
     "metadata": {},
     "output_type": "display_data"
    }
   ],
   "source": [
    "# Get coefficient of second derivative, normalize, and simplify (just to check)\n",
    "term_two_vec = ( eq_vec_exp.coeff(ddphi).simplify() / norm_vec ).simplify()\n",
    "display(term_two_vec)"
   ]
  },
  {
   "cell_type": "code",
   "execution_count": null,
   "id": "c857c337",
   "metadata": {},
   "outputs": [
    {
     "data": {
      "text/latex": [
       "$\\displaystyle \\frac{r_{s}^{4} \\left(- \\frac{\\ell^{2} y^{2}}{r_{s}^{2}} + \\frac{\\ell^{2} y^{2}}{r_{s}^{2} \\sqrt{\\frac{1}{y^{2} - 2 y + 1}}} + \\frac{2 \\ell^{2} y}{r_{s}^{2}} - \\frac{2 \\ell^{2} y}{r_{s}^{2} \\sqrt{\\frac{1}{y^{2} - 2 y + 1}}} - \\frac{\\ell^{2}}{r_{s}^{2}} + \\frac{\\ell^{2}}{r_{s}^{2} \\sqrt{\\frac{1}{y^{2} - 2 y + 1}}} - \\frac{\\ell y^{2}}{r_{s}^{2}} + \\frac{\\ell y^{2}}{r_{s}^{2} \\sqrt{\\frac{1}{y^{2} - 2 y + 1}}} + \\frac{2 \\ell y}{r_{s}^{2}} - \\frac{2 \\ell y}{r_{s}^{2} \\sqrt{\\frac{1}{y^{2} - 2 y + 1}}} - \\frac{\\ell}{r_{s}^{2}} + \\frac{\\ell}{r_{s}^{2} \\sqrt{\\frac{1}{y^{2} - 2 y + 1}}} - 4 \\omega^{2} y^{4} + 16 \\omega^{2} y^{3} - 20 \\omega^{2} y^{2} + 8 \\omega^{2} y + \\frac{4 \\omega^{2} x_{0}^{2} y^{6}}{r_{s}^{2}} - \\frac{24 \\omega^{2} x_{0}^{2} y^{5}}{r_{s}^{2}} + \\frac{56 \\omega^{2} x_{0}^{2} y^{4}}{r_{s}^{2}} - \\frac{64 \\omega^{2} x_{0}^{2} y^{3}}{r_{s}^{2}} + \\frac{37 \\omega^{2} x_{0}^{2} y^{2}}{r_{s}^{2}} - \\frac{10 \\omega^{2} x_{0}^{2} y}{r_{s}^{2}} + \\frac{\\omega^{2} x_{0}^{2}}{r_{s}^{2}} - \\frac{4 i \\omega y^{4}}{r_{s}} + \\frac{12 i \\omega y^{3}}{r_{s}} - \\frac{12 i \\omega y^{2}}{r_{s}} + \\frac{4 i \\omega y}{r_{s}} + \\frac{6 i \\omega x_{0}^{2} y^{6}}{r_{s}^{3}} - \\frac{30 i \\omega x_{0}^{2} y^{5}}{r_{s}^{3}} + \\frac{59 i \\omega x_{0}^{2} y^{4}}{r_{s}^{3}} - \\frac{57 i \\omega x_{0}^{2} y^{3}}{r_{s}^{3}} + \\frac{27 i \\omega x_{0}^{2} y^{2}}{r_{s}^{3}} - \\frac{5 i \\omega x_{0}^{2} y}{r_{s}^{3}}\\right)}{y^{2} \\left(y - 1\\right)^{4} \\left(- r_{s} + x_{0} y - x_{0}\\right) \\left(r_{s} + x_{0} y - x_{0}\\right)}$"
      ],
      "text/plain": [
       "r_s**4*(-ell**2*y**2/r_s**2 + ell**2*y**2/(r_s**2*sqrt(1/(y**2 - 2*y + 1))) + 2*ell**2*y/r_s**2 - 2*ell**2*y/(r_s**2*sqrt(1/(y**2 - 2*y + 1))) - ell**2/r_s**2 + ell**2/(r_s**2*sqrt(1/(y**2 - 2*y + 1))) - ell*y**2/r_s**2 + ell*y**2/(r_s**2*sqrt(1/(y**2 - 2*y + 1))) + 2*ell*y/r_s**2 - 2*ell*y/(r_s**2*sqrt(1/(y**2 - 2*y + 1))) - ell/r_s**2 + ell/(r_s**2*sqrt(1/(y**2 - 2*y + 1))) - 4*omega**2*y**4 + 16*omega**2*y**3 - 20*omega**2*y**2 + 8*omega**2*y + 4*omega**2*x_0**2*y**6/r_s**2 - 24*omega**2*x_0**2*y**5/r_s**2 + 56*omega**2*x_0**2*y**4/r_s**2 - 64*omega**2*x_0**2*y**3/r_s**2 + 37*omega**2*x_0**2*y**2/r_s**2 - 10*omega**2*x_0**2*y/r_s**2 + omega**2*x_0**2/r_s**2 - 4*I*omega*y**4/r_s + 12*I*omega*y**3/r_s - 12*I*omega*y**2/r_s + 4*I*omega*y/r_s + 6*I*omega*x_0**2*y**6/r_s**3 - 30*I*omega*x_0**2*y**5/r_s**3 + 59*I*omega*x_0**2*y**4/r_s**3 - 57*I*omega*x_0**2*y**3/r_s**3 + 27*I*omega*x_0**2*y**2/r_s**3 - 5*I*omega*x_0**2*y/r_s**3)/(y**2*(y - 1)**4*(-r_s + x_0*y - x_0)*(r_s + x_0*y - x_0))"
      ]
     },
     "metadata": {},
     "output_type": "display_data"
    },
    {
     "data": {
      "text/plain": [
       "'16*m**4*(-l**2*y**2/(4*m**2) + l**2*y**2/(4*m**2*sqrt(1/(y**2 - 2*y + 1))) + l**2*y/(2*m**2) - l**2*y/(2*m**2*sqrt(1/(y**2 - 2*y + 1))) - l**2/(4*m**2) + l**2/(4*m**2*sqrt(1/(y**2 - 2*y + 1))) - l*y**2/(4*m**2) + l*y**2/(4*m**2*sqrt(1/(y**2 - 2*y + 1))) + l*y/(2*m**2) - l*y/(2*m**2*sqrt(1/(y**2 - 2*y + 1))) - l/(4*m**2) + l/(4*m**2*sqrt(1/(y**2 - 2*y + 1))) - 4*w**2*y**4 + 16*w**2*y**3 - 20*w**2*y**2 + 8*w**2*y - 2*I*w*y**4/m + 6*I*w*y**3/m - 6*I*w*y**2/m + 2*I*w*y/m + w**2*x0**2*y**6/m**2 - 6*w**2*x0**2*y**5/m**2 + 14*w**2*x0**2*y**4/m**2 - 16*w**2*x0**2*y**3/m**2 + 37*w**2*x0**2*y**2/(4*m**2) - 5*w**2*x0**2*y/(2*m**2) + w**2*x0**2/(4*m**2) + 3*I*w*x0**2*y**6/(4*m**3) - 15*I*w*x0**2*y**5/(4*m**3) + 59*I*w*x0**2*y**4/(8*m**3) - 57*I*w*x0**2*y**3/(8*m**3) + 27*I*w*x0**2*y**2/(8*m**3) - 5*I*w*x0**2*y/(8*m**3))/(y**2*(y - 1)**4*(-2*m + x0*y - x0)*(2*m + x0*y - x0))'"
      ]
     },
     "execution_count": 107,
     "metadata": {},
     "output_type": "execute_result"
    }
   ],
   "source": [
    "# Get coefficient of zero-th derivative, normalize, and simplify -> s_0\n",
    "s0_vec = - ( eq_vec_exp.coeff(phi).simplify() / norm_vec ) # .simplify()\n",
    "display(s0_vec)\n",
    "# Write s_0 as Python string (compatible with aim code parameters)\n",
    "str( s0_vec.subs( {l: 'l', w: 'w', rs: '2*m', x0: 'x0'} ) )"
   ]
  },
  {
   "cell_type": "code",
   "execution_count": null,
   "id": "0d2006fc",
   "metadata": {},
   "outputs": [
    {
     "data": {
      "text/latex": [
       "$\\displaystyle - \\frac{4 i \\omega r_{s}^{3} y^{2} - 8 i \\omega r_{s}^{3} y + 2 i \\omega r_{s}^{3} - 4 i \\omega r_{s} x_{0}^{2} y^{4} + 16 i \\omega r_{s} x_{0}^{2} y^{3} - 22 i \\omega r_{s} x_{0}^{2} y^{2} + 12 i \\omega r_{s} x_{0}^{2} y - 2 i \\omega r_{s} x_{0}^{2} - 3 r_{s}^{2} y^{2} + 4 r_{s}^{2} y - r_{s}^{2} + 4 x_{0}^{2} y^{4} - 13 x_{0}^{2} y^{3} + 15 x_{0}^{2} y^{2} - 7 x_{0}^{2} y + x_{0}^{2}}{y \\left(- r_{s}^{2} y^{2} + 2 r_{s}^{2} y - r_{s}^{2} + x_{0}^{2} y^{4} - 4 x_{0}^{2} y^{3} + 6 x_{0}^{2} y^{2} - 4 x_{0}^{2} y + x_{0}^{2}\\right)}$"
      ],
      "text/plain": [
       "-(4*I*omega*r_s**3*y**2 - 8*I*omega*r_s**3*y + 2*I*omega*r_s**3 - 4*I*omega*r_s*x_0**2*y**4 + 16*I*omega*r_s*x_0**2*y**3 - 22*I*omega*r_s*x_0**2*y**2 + 12*I*omega*r_s*x_0**2*y - 2*I*omega*r_s*x_0**2 - 3*r_s**2*y**2 + 4*r_s**2*y - r_s**2 + 4*x_0**2*y**4 - 13*x_0**2*y**3 + 15*x_0**2*y**2 - 7*x_0**2*y + x_0**2)/(y*(-r_s**2*y**2 + 2*r_s**2*y - r_s**2 + x_0**2*y**4 - 4*x_0**2*y**3 + 6*x_0**2*y**2 - 4*x_0**2*y + x_0**2))"
      ]
     },
     "metadata": {},
     "output_type": "display_data"
    },
    {
     "data": {
      "text/plain": [
       "'-(32*I*m**3*w*y**2 - 64*I*m**3*w*y + 16*I*m**3*w - 12*m**2*y**2 + 16*m**2*y - 4*m**2 - 8*I*m*w*x0**2*y**4 + 32*I*m*w*x0**2*y**3 - 44*I*m*w*x0**2*y**2 + 24*I*m*w*x0**2*y - 4*I*m*w*x0**2 + 4*x0**2*y**4 - 13*x0**2*y**3 + 15*x0**2*y**2 - 7*x0**2*y + x0**2)/(y*(-4*m**2*y**2 + 8*m**2*y - 4*m**2 + x0**2*y**4 - 4*x0**2*y**3 + 6*x0**2*y**2 - 4*x0**2*y + x0**2))'"
      ]
     },
     "execution_count": 108,
     "metadata": {},
     "output_type": "execute_result"
    }
   ],
   "source": [
    "# Get coefficient of first derivative, normalize, and simplify -> lambda_0\n",
    "l0_vec = - ( eq_vec_exp.coeff(dphi).simplify() / norm_vec ).simplify()\n",
    "display(l0_vec)\n",
    "# Write s_0 as Python string (compatible with aim code parameters)\n",
    "str( l0_vec.subs( {l: 'l', w: 'w', rs: '2*m', x0: 'x0'} ) )"
   ]
  },
  {
   "cell_type": "markdown",
   "id": "3628a423",
   "metadata": {},
   "source": [
    "These normalized coefficients will give us the parameters $s_0$ and $\\lambda_0$ that we need for our AIM method!\n",
    "\n",
    "As the last step, we must compute at which point to evaluate our method, which is given by the point where the potential is maximum:\n",
    "$$\n",
    "\\frac{d^{(v)}V_{\\ell}^{SV}(y)}{dy}\\Big|_{y_{\\max}} = 0\n",
    "$$"
   ]
  },
  {
   "cell_type": "code",
   "execution_count": null,
   "id": "22a2e263",
   "metadata": {},
   "outputs": [
    {
     "data": {
      "text/latex": [
       "$\\displaystyle \\frac{\\ell y \\left(\\ell + 1\\right) \\left(2 y - 2\\right)}{r_{s}^{2}} + \\frac{\\ell \\left(1 - y\\right)^{2} \\left(\\ell + 1\\right)}{r_{s}^{2}}$"
      ],
      "text/plain": [
       "ell*y*(ell + 1)*(2*y - 2)/r_s**2 + ell*(1 - y)**2*(ell + 1)/r_s**2"
      ]
     },
     "metadata": {},
     "output_type": "display_data"
    }
   ],
   "source": [
    "# Compute derivative of potential and solve for y\n",
    "dV_vec = sp.Derivative(V_vec.subs(G, y).subs( {x: var_change_x}), y, evaluate = True)\n",
    "display(dV_vec)"
   ]
  },
  {
   "cell_type": "code",
   "execution_count": null,
   "id": "24a0c24d",
   "metadata": {},
   "outputs": [
    {
     "data": {
      "text/plain": [
       "[1/3, 1]"
      ]
     },
     "metadata": {},
     "output_type": "display_data"
    }
   ],
   "source": [
    "# Solve for y\n",
    "y_max = sp.solve(dV_vec, y)\n",
    "display(y_max)"
   ]
  },
  {
   "cell_type": "code",
   "execution_count": 1,
   "id": "02ceb951",
   "metadata": {},
   "outputs": [
    {
     "ename": "NameError",
     "evalue": "name 'V_vec' is not defined",
     "output_type": "error",
     "traceback": [
      "\u001b[0;31m---------------------------------------------------------------------------\u001b[0m",
      "\u001b[0;31mNameError\u001b[0m                                 Traceback (most recent call last)",
      "Cell \u001b[0;32mIn[1], line 1\u001b[0m\n\u001b[0;32m----> 1\u001b[0m \u001b[43mV_vec\u001b[49m\n",
      "\u001b[0;31mNameError\u001b[0m: name 'V_vec' is not defined"
     ]
    }
   ],
   "source": [
    "V_vec"
   ]
  },
  {
   "cell_type": "markdown",
   "id": "012e6818",
   "metadata": {},
   "source": [
    "We see that for vector (spin 1) perturbations, the evaluation point does not depend on neither $\\ell, x_0, \\dots$"
   ]
  },
  {
   "cell_type": "markdown",
   "id": "a87db0af",
   "metadata": {},
   "source": [
    "### **Scalar equation**"
   ]
  },
  {
   "cell_type": "code",
   "execution_count": 48,
   "id": "34dde0f3",
   "metadata": {},
   "outputs": [
    {
     "data": {
      "text/latex": [
       "$\\displaystyle \\left(\\omega^{2} - \\left(1 - \\frac{1}{\\sqrt{\\frac{1}{\\left(1 - y\\right)^{2}}}}\\right) \\left(\\frac{\\left(1 - y\\right)^{2} \\left(\\ell \\left(\\ell + 1\\right) - 2\\right)}{r_{s}^{2}} + \\frac{2 \\left(1 - y\\right)^{4} \\left(1 - \\frac{1}{\\sqrt{\\frac{1}{\\left(1 - y\\right)^{2}}}}\\right) \\left(\\frac{r_{s}^{2}}{\\left(1 - y\\right)^{2}} - x_{0}^{2}\\right)}{r_{s}^{4}} + \\frac{3 r_{s} x_{0}^{2} \\sqrt{\\frac{1}{\\left(1 - y\\right)^{2}}} - r_{s} x_{0}^{2} + 3 r_{s} \\left(\\frac{r_{s}^{2}}{\\left(1 - y\\right)^{2}} - x_{0}^{2}\\right)}{r_{s}^{5} \\left(\\frac{1}{\\left(1 - y\\right)^{2}}\\right)^{\\frac{5}{2}}}\\right)\\right) \\phi{\\left(y \\right)} + \\frac{y^{2} \\left(1 - y\\right)^{6} \\left(\\frac{r_{s}^{2}}{\\left(1 - y\\right)^{2}} - x_{0}^{2}\\right) \\left(- \\frac{2 i \\omega r_{s} \\left(2 y^{2} - 4 y + 1\\right) \\frac{d}{d y} \\phi{\\left(y \\right)}}{y \\left(y - 1\\right)^{2}} + \\left(- \\frac{\\omega^{2} r_{s}^{2} \\left(2 y^{2} - 4 y + 1\\right)^{2}}{y^{2} \\left(y - 1\\right)^{4}} + \\frac{i \\omega r_{s} \\left(2 y^{3} - 6 y^{2} + 3 y - 1\\right)}{y^{2} \\left(y - 1\\right)^{3}}\\right) \\phi{\\left(y \\right)} + \\frac{d^{2}}{d y^{2}} \\phi{\\left(y \\right)}\\right)}{r_{s}^{4}} - \\frac{y \\left(y - 1\\right)^{3} \\left(- \\frac{i \\omega r_{s} \\left(2 y^{2} - 4 y + 1\\right) \\phi{\\left(y \\right)}}{y \\left(y - 1\\right)^{2}} + \\frac{d}{d y} \\phi{\\left(y \\right)}\\right) \\left(- 3 r_{s}^{2} y + r_{s}^{2} + 4 x_{0}^{2} y^{3} - 9 x_{0}^{2} y^{2} + 6 x_{0}^{2} y - x_{0}^{2}\\right)}{r_{s}^{4}} = 0$"
      ],
      "text/plain": [
       "Eq((omega**2 - (1 - 1/sqrt((1 - y)**(-2)))*((1 - y)**2*(ell*(ell + 1) - 2)/r_s**2 + 2*(1 - y)**4*(1 - 1/sqrt((1 - y)**(-2)))*(r_s**2/(1 - y)**2 - x_0**2)/r_s**4 + (3*r_s*x_0**2*sqrt((1 - y)**(-2)) - r_s*x_0**2 + 3*r_s*(r_s**2/(1 - y)**2 - x_0**2))/(r_s**5*((1 - y)**(-2))**(5/2))))*phi(y) + y**2*(1 - y)**6*(r_s**2/(1 - y)**2 - x_0**2)*(-2*I*omega*r_s*(2*y**2 - 4*y + 1)*Derivative(phi(y), y)/(y*(y - 1)**2) + (-omega**2*r_s**2*(2*y**2 - 4*y + 1)**2/(y**2*(y - 1)**4) + I*omega*r_s*(2*y**3 - 6*y**2 + 3*y - 1)/(y**2*(y - 1)**3))*phi(y) + Derivative(phi(y), (y, 2)))/r_s**4 - y*(y - 1)**3*(-I*omega*r_s*(2*y**2 - 4*y + 1)*phi(y)/(y*(y - 1)**2) + Derivative(phi(y), y))*(-3*r_s**2*y + r_s**2 + 4*x_0**2*y**3 - 9*x_0**2*y**2 + 6*x_0**2*y - x_0**2)/r_s**4, 0)"
      ]
     },
     "metadata": {},
     "output_type": "display_data"
    }
   ],
   "source": [
    "# First, insert potential\n",
    "eq_sca_pot = eq.subs( pot, V_sca )\n",
    "# Second, change of variable\n",
    "eq_sca_chvar = eq_sca_pot.subs( ddpsi_star, ddpsi_y ).subs(psi, psi_y).subs(x, var_change_x)\n",
    "# Third, insert boundary conditions\n",
    "eq_sca_bc = eq_sca_chvar.subs( {sp.Derivative(psi_y, y): dpsi_bc, sp.Derivative(sp.Derivative(psi_y, y), y): ddpsi_bc, psi_y: phi} ) # .doit()\n",
    "# Define axial equation with change of variable and boundary condition\n",
    "eq_sca = eq_sca_bc\n",
    "# Display\n",
    "display(eq_sca)"
   ]
  },
  {
   "cell_type": "code",
   "execution_count": 49,
   "id": "61c8078b",
   "metadata": {},
   "outputs": [
    {
     "data": {
      "text/latex": [
       "$\\displaystyle - \\frac{y^{2} \\left(y - 1\\right)^{4} \\left(- r_{s} + x_{0} y - x_{0}\\right) \\left(r_{s} + x_{0} y - x_{0}\\right)}{r_{s}^{4}}$"
      ],
      "text/plain": [
       "-y**2*(y - 1)**4*(-r_s + x_0*y - x_0)*(r_s + x_0*y - x_0)/r_s**4"
      ]
     },
     "metadata": {},
     "output_type": "display_data"
    }
   ],
   "source": [
    "# Extract term accompanying second derivative\n",
    "norm_sca = eq_sca.lhs.expand().coeff(ddphi).factor()\n",
    "display(norm_sca)"
   ]
  },
  {
   "cell_type": "code",
   "execution_count": 50,
   "id": "02c005a1",
   "metadata": {},
   "outputs": [
    {
     "data": {
      "text/latex": [
       "$\\displaystyle \\left(\\frac{y^{8}}{r_{s}^{2} y^{2} - 2 r_{s}^{2} y + r_{s}^{2}} - \\frac{6 y^{7}}{r_{s}^{2} y^{2} - 2 r_{s}^{2} y + r_{s}^{2}} + \\frac{15 y^{6}}{r_{s}^{2} y^{2} - 2 r_{s}^{2} y + r_{s}^{2}} - \\frac{20 y^{5}}{r_{s}^{2} y^{2} - 2 r_{s}^{2} y + r_{s}^{2}} + \\frac{15 y^{4}}{r_{s}^{2} y^{2} - 2 r_{s}^{2} y + r_{s}^{2}} - \\frac{6 y^{3}}{r_{s}^{2} y^{2} - 2 r_{s}^{2} y + r_{s}^{2}} + \\frac{y^{2}}{r_{s}^{2} y^{2} - 2 r_{s}^{2} y + r_{s}^{2}} - \\frac{x_{0}^{2} y^{8}}{r_{s}^{4}} + \\frac{6 x_{0}^{2} y^{7}}{r_{s}^{4}} - \\frac{15 x_{0}^{2} y^{6}}{r_{s}^{4}} + \\frac{20 x_{0}^{2} y^{5}}{r_{s}^{4}} - \\frac{15 x_{0}^{2} y^{4}}{r_{s}^{4}} + \\frac{6 x_{0}^{2} y^{3}}{r_{s}^{4}} - \\frac{x_{0}^{2} y^{2}}{r_{s}^{4}}\\right) \\frac{d^{2}}{d y^{2}} \\phi{\\left(y \\right)} + \\left(\\frac{4 i \\omega x_{0}^{2} y^{10}}{r_{s}^{3} y^{3} - 2 r_{s}^{3} y^{2} + r_{s}^{3} y} - \\frac{32 i \\omega x_{0}^{2} y^{9}}{r_{s}^{3} y^{3} - 2 r_{s}^{3} y^{2} + r_{s}^{3} y} + \\frac{110 i \\omega x_{0}^{2} y^{8}}{r_{s}^{3} y^{3} - 2 r_{s}^{3} y^{2} + r_{s}^{3} y} - \\frac{212 i \\omega x_{0}^{2} y^{7}}{r_{s}^{3} y^{3} - 2 r_{s}^{3} y^{2} + r_{s}^{3} y} + \\frac{250 i \\omega x_{0}^{2} y^{6}}{r_{s}^{3} y^{3} - 2 r_{s}^{3} y^{2} + r_{s}^{3} y} - \\frac{184 i \\omega x_{0}^{2} y^{5}}{r_{s}^{3} y^{3} - 2 r_{s}^{3} y^{2} + r_{s}^{3} y} + \\frac{82 i \\omega x_{0}^{2} y^{4}}{r_{s}^{3} y^{3} - 2 r_{s}^{3} y^{2} + r_{s}^{3} y} - \\frac{20 i \\omega x_{0}^{2} y^{3}}{r_{s}^{3} y^{3} - 2 r_{s}^{3} y^{2} + r_{s}^{3} y} + \\frac{2 i \\omega x_{0}^{2} y^{2}}{r_{s}^{3} y^{3} - 2 r_{s}^{3} y^{2} + r_{s}^{3} y} - \\frac{4 i \\omega y^{10}}{r_{s} y^{5} - 4 r_{s} y^{4} + 6 r_{s} y^{3} - 4 r_{s} y^{2} + r_{s} y} + \\frac{32 i \\omega y^{9}}{r_{s} y^{5} - 4 r_{s} y^{4} + 6 r_{s} y^{3} - 4 r_{s} y^{2} + r_{s} y} - \\frac{110 i \\omega y^{8}}{r_{s} y^{5} - 4 r_{s} y^{4} + 6 r_{s} y^{3} - 4 r_{s} y^{2} + r_{s} y} + \\frac{212 i \\omega y^{7}}{r_{s} y^{5} - 4 r_{s} y^{4} + 6 r_{s} y^{3} - 4 r_{s} y^{2} + r_{s} y} - \\frac{250 i \\omega y^{6}}{r_{s} y^{5} - 4 r_{s} y^{4} + 6 r_{s} y^{3} - 4 r_{s} y^{2} + r_{s} y} + \\frac{184 i \\omega y^{5}}{r_{s} y^{5} - 4 r_{s} y^{4} + 6 r_{s} y^{3} - 4 r_{s} y^{2} + r_{s} y} - \\frac{82 i \\omega y^{4}}{r_{s} y^{5} - 4 r_{s} y^{4} + 6 r_{s} y^{3} - 4 r_{s} y^{2} + r_{s} y} + \\frac{20 i \\omega y^{3}}{r_{s} y^{5} - 4 r_{s} y^{4} + 6 r_{s} y^{3} - 4 r_{s} y^{2} + r_{s} y} - \\frac{2 i \\omega y^{2}}{r_{s} y^{5} - 4 r_{s} y^{4} + 6 r_{s} y^{3} - 4 r_{s} y^{2} + r_{s} y} + \\frac{3 y^{5}}{r_{s}^{2}} - \\frac{10 y^{4}}{r_{s}^{2}} + \\frac{12 y^{3}}{r_{s}^{2}} - \\frac{6 y^{2}}{r_{s}^{2}} + \\frac{y}{r_{s}^{2}} - \\frac{4 x_{0}^{2} y^{7}}{r_{s}^{4}} + \\frac{21 x_{0}^{2} y^{6}}{r_{s}^{4}} - \\frac{45 x_{0}^{2} y^{5}}{r_{s}^{4}} + \\frac{50 x_{0}^{2} y^{4}}{r_{s}^{4}} - \\frac{30 x_{0}^{2} y^{3}}{r_{s}^{4}} + \\frac{9 x_{0}^{2} y^{2}}{r_{s}^{4}} - \\frac{x_{0}^{2} y}{r_{s}^{4}}\\right) \\frac{d}{d y} \\phi{\\left(y \\right)} + \\left(- \\frac{\\ell^{2} y^{2}}{r_{s}^{2}} + \\frac{\\ell^{2} y^{2}}{r_{s}^{2} \\sqrt{\\frac{1}{y^{2} - 2 y + 1}}} + \\frac{2 \\ell^{2} y}{r_{s}^{2}} - \\frac{2 \\ell^{2} y}{r_{s}^{2} \\sqrt{\\frac{1}{y^{2} - 2 y + 1}}} - \\frac{\\ell^{2}}{r_{s}^{2}} + \\frac{\\ell^{2}}{r_{s}^{2} \\sqrt{\\frac{1}{y^{2} - 2 y + 1}}} - \\frac{\\ell y^{2}}{r_{s}^{2}} + \\frac{\\ell y^{2}}{r_{s}^{2} \\sqrt{\\frac{1}{y^{2} - 2 y + 1}}} + \\frac{2 \\ell y}{r_{s}^{2}} - \\frac{2 \\ell y}{r_{s}^{2} \\sqrt{\\frac{1}{y^{2} - 2 y + 1}}} - \\frac{\\ell}{r_{s}^{2}} + \\frac{\\ell}{r_{s}^{2} \\sqrt{\\frac{1}{y^{2} - 2 y + 1}}} + \\frac{4 \\omega^{2} x_{0}^{2} y^{12}}{r_{s}^{2} y^{6} - 4 r_{s}^{2} y^{5} + 6 r_{s}^{2} y^{4} - 4 r_{s}^{2} y^{3} + r_{s}^{2} y^{2}} - \\frac{40 \\omega^{2} x_{0}^{2} y^{11}}{r_{s}^{2} y^{6} - 4 r_{s}^{2} y^{5} + 6 r_{s}^{2} y^{4} - 4 r_{s}^{2} y^{3} + r_{s}^{2} y^{2}} + \\frac{176 \\omega^{2} x_{0}^{2} y^{10}}{r_{s}^{2} y^{6} - 4 r_{s}^{2} y^{5} + 6 r_{s}^{2} y^{4} - 4 r_{s}^{2} y^{3} + r_{s}^{2} y^{2}} - \\frac{448 \\omega^{2} x_{0}^{2} y^{9}}{r_{s}^{2} y^{6} - 4 r_{s}^{2} y^{5} + 6 r_{s}^{2} y^{4} - 4 r_{s}^{2} y^{3} + r_{s}^{2} y^{2}} + \\frac{729 \\omega^{2} x_{0}^{2} y^{8}}{r_{s}^{2} y^{6} - 4 r_{s}^{2} y^{5} + 6 r_{s}^{2} y^{4} - 4 r_{s}^{2} y^{3} + r_{s}^{2} y^{2}} - \\frac{790 \\omega^{2} x_{0}^{2} y^{7}}{r_{s}^{2} y^{6} - 4 r_{s}^{2} y^{5} + 6 r_{s}^{2} y^{4} - 4 r_{s}^{2} y^{3} + r_{s}^{2} y^{2}} + \\frac{575 \\omega^{2} x_{0}^{2} y^{6}}{r_{s}^{2} y^{6} - 4 r_{s}^{2} y^{5} + 6 r_{s}^{2} y^{4} - 4 r_{s}^{2} y^{3} + r_{s}^{2} y^{2}} - \\frac{276 \\omega^{2} x_{0}^{2} y^{5}}{r_{s}^{2} y^{6} - 4 r_{s}^{2} y^{5} + 6 r_{s}^{2} y^{4} - 4 r_{s}^{2} y^{3} + r_{s}^{2} y^{2}} + \\frac{83 \\omega^{2} x_{0}^{2} y^{4}}{r_{s}^{2} y^{6} - 4 r_{s}^{2} y^{5} + 6 r_{s}^{2} y^{4} - 4 r_{s}^{2} y^{3} + r_{s}^{2} y^{2}} - \\frac{14 \\omega^{2} x_{0}^{2} y^{3}}{r_{s}^{2} y^{6} - 4 r_{s}^{2} y^{5} + 6 r_{s}^{2} y^{4} - 4 r_{s}^{2} y^{3} + r_{s}^{2} y^{2}} + \\frac{\\omega^{2} x_{0}^{2} y^{2}}{r_{s}^{2} y^{6} - 4 r_{s}^{2} y^{5} + 6 r_{s}^{2} y^{4} - 4 r_{s}^{2} y^{3} + r_{s}^{2} y^{2}} - \\frac{4 \\omega^{2} y^{12}}{y^{8} - 6 y^{7} + 15 y^{6} - 20 y^{5} + 15 y^{4} - 6 y^{3} + y^{2}} + \\frac{40 \\omega^{2} y^{11}}{y^{8} - 6 y^{7} + 15 y^{6} - 20 y^{5} + 15 y^{4} - 6 y^{3} + y^{2}} - \\frac{176 \\omega^{2} y^{10}}{y^{8} - 6 y^{7} + 15 y^{6} - 20 y^{5} + 15 y^{4} - 6 y^{3} + y^{2}} + \\frac{448 \\omega^{2} y^{9}}{y^{8} - 6 y^{7} + 15 y^{6} - 20 y^{5} + 15 y^{4} - 6 y^{3} + y^{2}} - \\frac{729 \\omega^{2} y^{8}}{y^{8} - 6 y^{7} + 15 y^{6} - 20 y^{5} + 15 y^{4} - 6 y^{3} + y^{2}} + \\frac{790 \\omega^{2} y^{7}}{y^{8} - 6 y^{7} + 15 y^{6} - 20 y^{5} + 15 y^{4} - 6 y^{3} + y^{2}} - \\frac{575 \\omega^{2} y^{6}}{y^{8} - 6 y^{7} + 15 y^{6} - 20 y^{5} + 15 y^{4} - 6 y^{3} + y^{2}} + \\frac{276 \\omega^{2} y^{5}}{y^{8} - 6 y^{7} + 15 y^{6} - 20 y^{5} + 15 y^{4} - 6 y^{3} + y^{2}} - \\frac{83 \\omega^{2} y^{4}}{y^{8} - 6 y^{7} + 15 y^{6} - 20 y^{5} + 15 y^{4} - 6 y^{3} + y^{2}} + \\frac{14 \\omega^{2} y^{3}}{y^{8} - 6 y^{7} + 15 y^{6} - 20 y^{5} + 15 y^{4} - 6 y^{3} + y^{2}} - \\frac{\\omega^{2} y^{2}}{y^{8} - 6 y^{7} + 15 y^{6} - 20 y^{5} + 15 y^{4} - 6 y^{3} + y^{2}} + \\omega^{2} - \\frac{2 i \\omega x_{0}^{2} y^{11}}{r_{s}^{3} y^{5} - 3 r_{s}^{3} y^{4} + 3 r_{s}^{3} y^{3} - r_{s}^{3} y^{2}} + \\frac{18 i \\omega x_{0}^{2} y^{10}}{r_{s}^{3} y^{5} - 3 r_{s}^{3} y^{4} + 3 r_{s}^{3} y^{3} - r_{s}^{3} y^{2}} - \\frac{69 i \\omega x_{0}^{2} y^{9}}{r_{s}^{3} y^{5} - 3 r_{s}^{3} y^{4} + 3 r_{s}^{3} y^{3} - r_{s}^{3} y^{2}} + \\frac{8 i \\omega x_{0}^{2} y^{9}}{r_{s}^{3} y^{3} - 2 r_{s}^{3} y^{2} + r_{s}^{3} y} + \\frac{149 i \\omega x_{0}^{2} y^{8}}{r_{s}^{3} y^{5} - 3 r_{s}^{3} y^{4} + 3 r_{s}^{3} y^{3} - r_{s}^{3} y^{2}} - \\frac{58 i \\omega x_{0}^{2} y^{8}}{r_{s}^{3} y^{3} - 2 r_{s}^{3} y^{2} + r_{s}^{3} y} - \\frac{201 i \\omega x_{0}^{2} y^{7}}{r_{s}^{3} y^{5} - 3 r_{s}^{3} y^{4} + 3 r_{s}^{3} y^{3} - r_{s}^{3} y^{2}} + \\frac{178 i \\omega x_{0}^{2} y^{7}}{r_{s}^{3} y^{3} - 2 r_{s}^{3} y^{2} + r_{s}^{3} y} + \\frac{177 i \\omega x_{0}^{2} y^{6}}{r_{s}^{3} y^{5} - 3 r_{s}^{3} y^{4} + 3 r_{s}^{3} y^{3} - r_{s}^{3} y^{2}} - \\frac{301 i \\omega x_{0}^{2} y^{6}}{r_{s}^{3} y^{3} - 2 r_{s}^{3} y^{2} + r_{s}^{3} y} - \\frac{103 i \\omega x_{0}^{2} y^{5}}{r_{s}^{3} y^{5} - 3 r_{s}^{3} y^{4} + 3 r_{s}^{3} y^{3} - r_{s}^{3} y^{2}} + \\frac{305 i \\omega x_{0}^{2} y^{5}}{r_{s}^{3} y^{3} - 2 r_{s}^{3} y^{2} + r_{s}^{3} y} + \\frac{39 i \\omega x_{0}^{2} y^{4}}{r_{s}^{3} y^{5} - 3 r_{s}^{3} y^{4} + 3 r_{s}^{3} y^{3} - r_{s}^{3} y^{2}} - \\frac{188 i \\omega x_{0}^{2} y^{4}}{r_{s}^{3} y^{3} - 2 r_{s}^{3} y^{2} + r_{s}^{3} y} - \\frac{9 i \\omega x_{0}^{2} y^{3}}{r_{s}^{3} y^{5} - 3 r_{s}^{3} y^{4} + 3 r_{s}^{3} y^{3} - r_{s}^{3} y^{2}} + \\frac{68 i \\omega x_{0}^{2} y^{3}}{r_{s}^{3} y^{3} - 2 r_{s}^{3} y^{2} + r_{s}^{3} y} + \\frac{i \\omega x_{0}^{2} y^{2}}{r_{s}^{3} y^{5} - 3 r_{s}^{3} y^{4} + 3 r_{s}^{3} y^{3} - r_{s}^{3} y^{2}} - \\frac{13 i \\omega x_{0}^{2} y^{2}}{r_{s}^{3} y^{3} - 2 r_{s}^{3} y^{2} + r_{s}^{3} y} + \\frac{i \\omega x_{0}^{2} y}{r_{s}^{3} y^{3} - 2 r_{s}^{3} y^{2} + r_{s}^{3} y} + \\frac{2 i \\omega y^{11}}{r_{s} y^{7} - 5 r_{s} y^{6} + 10 r_{s} y^{5} - 10 r_{s} y^{4} + 5 r_{s} y^{3} - r_{s} y^{2}} - \\frac{18 i \\omega y^{10}}{r_{s} y^{7} - 5 r_{s} y^{6} + 10 r_{s} y^{5} - 10 r_{s} y^{4} + 5 r_{s} y^{3} - r_{s} y^{2}} + \\frac{69 i \\omega y^{9}}{r_{s} y^{7} - 5 r_{s} y^{6} + 10 r_{s} y^{5} - 10 r_{s} y^{4} + 5 r_{s} y^{3} - r_{s} y^{2}} - \\frac{149 i \\omega y^{8}}{r_{s} y^{7} - 5 r_{s} y^{6} + 10 r_{s} y^{5} - 10 r_{s} y^{4} + 5 r_{s} y^{3} - r_{s} y^{2}} + \\frac{201 i \\omega y^{7}}{r_{s} y^{7} - 5 r_{s} y^{6} + 10 r_{s} y^{5} - 10 r_{s} y^{4} + 5 r_{s} y^{3} - r_{s} y^{2}} - \\frac{6 i \\omega y^{7}}{r_{s} y^{3} - 2 r_{s} y^{2} + r_{s} y} - \\frac{177 i \\omega y^{6}}{r_{s} y^{7} - 5 r_{s} y^{6} + 10 r_{s} y^{5} - 10 r_{s} y^{4} + 5 r_{s} y^{3} - r_{s} y^{2}} + \\frac{32 i \\omega y^{6}}{r_{s} y^{3} - 2 r_{s} y^{2} + r_{s} y} + \\frac{103 i \\omega y^{5}}{r_{s} y^{7} - 5 r_{s} y^{6} + 10 r_{s} y^{5} - 10 r_{s} y^{4} + 5 r_{s} y^{3} - r_{s} y^{2}} - \\frac{67 i \\omega y^{5}}{r_{s} y^{3} - 2 r_{s} y^{2} + r_{s} y} - \\frac{39 i \\omega y^{4}}{r_{s} y^{7} - 5 r_{s} y^{6} + 10 r_{s} y^{5} - 10 r_{s} y^{4} + 5 r_{s} y^{3} - r_{s} y^{2}} + \\frac{70 i \\omega y^{4}}{r_{s} y^{3} - 2 r_{s} y^{2} + r_{s} y} + \\frac{9 i \\omega y^{3}}{r_{s} y^{7} - 5 r_{s} y^{6} + 10 r_{s} y^{5} - 10 r_{s} y^{4} + 5 r_{s} y^{3} - r_{s} y^{2}} - \\frac{38 i \\omega y^{3}}{r_{s} y^{3} - 2 r_{s} y^{2} + r_{s} y} - \\frac{i \\omega y^{2}}{r_{s} y^{7} - 5 r_{s} y^{6} + 10 r_{s} y^{5} - 10 r_{s} y^{4} + 5 r_{s} y^{3} - r_{s} y^{2}} + \\frac{10 i \\omega y^{2}}{r_{s} y^{3} - 2 r_{s} y^{2} + r_{s} y} - \\frac{i \\omega y}{r_{s} y^{3} - 2 r_{s} y^{2} + r_{s} y} + \\frac{4 y^{4}}{r_{s}^{2} y^{2} \\sqrt{\\frac{1}{y^{2} - 2 y + 1}} - 2 r_{s}^{2} y \\sqrt{\\frac{1}{y^{2} - 2 y + 1}} + r_{s}^{2} \\sqrt{\\frac{1}{y^{2} - 2 y + 1}}} - \\frac{2 y^{4}}{r_{s}^{2} y^{2} - 2 r_{s}^{2} y + r_{s}^{2}} - \\frac{16 y^{3}}{r_{s}^{2} y^{2} \\sqrt{\\frac{1}{y^{2} - 2 y + 1}} - 2 r_{s}^{2} y \\sqrt{\\frac{1}{y^{2} - 2 y + 1}} + r_{s}^{2} \\sqrt{\\frac{1}{y^{2} - 2 y + 1}}} + \\frac{8 y^{3}}{r_{s}^{2} y^{2} - 2 r_{s}^{2} y + r_{s}^{2}} + \\frac{24 y^{2}}{r_{s}^{2} y^{2} \\sqrt{\\frac{1}{y^{2} - 2 y + 1}} - 2 r_{s}^{2} y \\sqrt{\\frac{1}{y^{2} - 2 y + 1}} + r_{s}^{2} \\sqrt{\\frac{1}{y^{2} - 2 y + 1}}} - \\frac{12 y^{2}}{r_{s}^{2} y^{2} - 2 r_{s}^{2} y + r_{s}^{2}} - \\frac{16 y}{r_{s}^{2} y^{2} \\sqrt{\\frac{1}{y^{2} - 2 y + 1}} - 2 r_{s}^{2} y \\sqrt{\\frac{1}{y^{2} - 2 y + 1}} + r_{s}^{2} \\sqrt{\\frac{1}{y^{2} - 2 y + 1}}} + \\frac{8 y}{r_{s}^{2} y^{2} - 2 r_{s}^{2} y + r_{s}^{2}} - \\frac{3}{r_{s}^{2} y^{2} \\left(\\frac{1}{y^{2} - 2 y + 1}\\right)^{\\frac{5}{2}} - 2 r_{s}^{2} y \\left(\\frac{1}{y^{2} - 2 y + 1}\\right)^{\\frac{5}{2}} + r_{s}^{2} \\left(\\frac{1}{y^{2} - 2 y + 1}\\right)^{\\frac{5}{2}}} + \\frac{4}{r_{s}^{2} y^{2} \\sqrt{\\frac{1}{y^{2} - 2 y + 1}} - 2 r_{s}^{2} y \\sqrt{\\frac{1}{y^{2} - 2 y + 1}} + r_{s}^{2} \\sqrt{\\frac{1}{y^{2} - 2 y + 1}}} - \\frac{2}{r_{s}^{2} y^{2} - 2 r_{s}^{2} y + r_{s}^{2}} + \\frac{y^{4}}{r_{s}^{2}} - \\frac{4 y^{3}}{r_{s}^{2}} + \\frac{8 y^{2}}{r_{s}^{2}} - \\frac{2 y^{2}}{r_{s}^{2} \\sqrt{\\frac{1}{y^{2} - 2 y + 1}}} - \\frac{8 y}{r_{s}^{2}} + \\frac{4 y}{r_{s}^{2} \\sqrt{\\frac{1}{y^{2} - 2 y + 1}}} + \\frac{3}{r_{s}^{2}} - \\frac{2}{r_{s}^{2} \\sqrt{\\frac{1}{y^{2} - 2 y + 1}}} - \\frac{2 x_{0}^{2} y^{6}}{r_{s}^{4}} + \\frac{12 x_{0}^{2} y^{5}}{r_{s}^{4}} - \\frac{31 x_{0}^{2} y^{4}}{r_{s}^{4}} - \\frac{x_{0}^{2} y^{4}}{r_{s}^{4} \\sqrt{\\frac{1}{y^{2} - 2 y + 1}}} + \\frac{44 x_{0}^{2} y^{3}}{r_{s}^{4}} + \\frac{4 x_{0}^{2} y^{3}}{r_{s}^{4} \\sqrt{\\frac{1}{y^{2} - 2 y + 1}}} - \\frac{36 x_{0}^{2} y^{2}}{r_{s}^{4}} - \\frac{6 x_{0}^{2} y^{2}}{r_{s}^{4} \\sqrt{\\frac{1}{y^{2} - 2 y + 1}}} + \\frac{16 x_{0}^{2} y}{r_{s}^{4}} + \\frac{4 x_{0}^{2} y}{r_{s}^{4} \\sqrt{\\frac{1}{y^{2} - 2 y + 1}}} - \\frac{3 x_{0}^{2}}{r_{s}^{4}} - \\frac{x_{0}^{2}}{r_{s}^{4} \\sqrt{\\frac{1}{y^{2} - 2 y + 1}}} + \\frac{4 x_{0}^{2}}{r_{s}^{4} \\left(\\frac{1}{y^{2} - 2 y + 1}\\right)^{\\frac{5}{2}}}\\right) \\phi{\\left(y \\right)}$"
      ],
      "text/plain": [
       "(y**8/(r_s**2*y**2 - 2*r_s**2*y + r_s**2) - 6*y**7/(r_s**2*y**2 - 2*r_s**2*y + r_s**2) + 15*y**6/(r_s**2*y**2 - 2*r_s**2*y + r_s**2) - 20*y**5/(r_s**2*y**2 - 2*r_s**2*y + r_s**2) + 15*y**4/(r_s**2*y**2 - 2*r_s**2*y + r_s**2) - 6*y**3/(r_s**2*y**2 - 2*r_s**2*y + r_s**2) + y**2/(r_s**2*y**2 - 2*r_s**2*y + r_s**2) - x_0**2*y**8/r_s**4 + 6*x_0**2*y**7/r_s**4 - 15*x_0**2*y**6/r_s**4 + 20*x_0**2*y**5/r_s**4 - 15*x_0**2*y**4/r_s**4 + 6*x_0**2*y**3/r_s**4 - x_0**2*y**2/r_s**4)*Derivative(phi(y), (y, 2)) + (4*I*omega*x_0**2*y**10/(r_s**3*y**3 - 2*r_s**3*y**2 + r_s**3*y) - 32*I*omega*x_0**2*y**9/(r_s**3*y**3 - 2*r_s**3*y**2 + r_s**3*y) + 110*I*omega*x_0**2*y**8/(r_s**3*y**3 - 2*r_s**3*y**2 + r_s**3*y) - 212*I*omega*x_0**2*y**7/(r_s**3*y**3 - 2*r_s**3*y**2 + r_s**3*y) + 250*I*omega*x_0**2*y**6/(r_s**3*y**3 - 2*r_s**3*y**2 + r_s**3*y) - 184*I*omega*x_0**2*y**5/(r_s**3*y**3 - 2*r_s**3*y**2 + r_s**3*y) + 82*I*omega*x_0**2*y**4/(r_s**3*y**3 - 2*r_s**3*y**2 + r_s**3*y) - 20*I*omega*x_0**2*y**3/(r_s**3*y**3 - 2*r_s**3*y**2 + r_s**3*y) + 2*I*omega*x_0**2*y**2/(r_s**3*y**3 - 2*r_s**3*y**2 + r_s**3*y) - 4*I*omega*y**10/(r_s*y**5 - 4*r_s*y**4 + 6*r_s*y**3 - 4*r_s*y**2 + r_s*y) + 32*I*omega*y**9/(r_s*y**5 - 4*r_s*y**4 + 6*r_s*y**3 - 4*r_s*y**2 + r_s*y) - 110*I*omega*y**8/(r_s*y**5 - 4*r_s*y**4 + 6*r_s*y**3 - 4*r_s*y**2 + r_s*y) + 212*I*omega*y**7/(r_s*y**5 - 4*r_s*y**4 + 6*r_s*y**3 - 4*r_s*y**2 + r_s*y) - 250*I*omega*y**6/(r_s*y**5 - 4*r_s*y**4 + 6*r_s*y**3 - 4*r_s*y**2 + r_s*y) + 184*I*omega*y**5/(r_s*y**5 - 4*r_s*y**4 + 6*r_s*y**3 - 4*r_s*y**2 + r_s*y) - 82*I*omega*y**4/(r_s*y**5 - 4*r_s*y**4 + 6*r_s*y**3 - 4*r_s*y**2 + r_s*y) + 20*I*omega*y**3/(r_s*y**5 - 4*r_s*y**4 + 6*r_s*y**3 - 4*r_s*y**2 + r_s*y) - 2*I*omega*y**2/(r_s*y**5 - 4*r_s*y**4 + 6*r_s*y**3 - 4*r_s*y**2 + r_s*y) + 3*y**5/r_s**2 - 10*y**4/r_s**2 + 12*y**3/r_s**2 - 6*y**2/r_s**2 + y/r_s**2 - 4*x_0**2*y**7/r_s**4 + 21*x_0**2*y**6/r_s**4 - 45*x_0**2*y**5/r_s**4 + 50*x_0**2*y**4/r_s**4 - 30*x_0**2*y**3/r_s**4 + 9*x_0**2*y**2/r_s**4 - x_0**2*y/r_s**4)*Derivative(phi(y), y) + (-ell**2*y**2/r_s**2 + ell**2*y**2/(r_s**2*sqrt(1/(y**2 - 2*y + 1))) + 2*ell**2*y/r_s**2 - 2*ell**2*y/(r_s**2*sqrt(1/(y**2 - 2*y + 1))) - ell**2/r_s**2 + ell**2/(r_s**2*sqrt(1/(y**2 - 2*y + 1))) - ell*y**2/r_s**2 + ell*y**2/(r_s**2*sqrt(1/(y**2 - 2*y + 1))) + 2*ell*y/r_s**2 - 2*ell*y/(r_s**2*sqrt(1/(y**2 - 2*y + 1))) - ell/r_s**2 + ell/(r_s**2*sqrt(1/(y**2 - 2*y + 1))) + 4*omega**2*x_0**2*y**12/(r_s**2*y**6 - 4*r_s**2*y**5 + 6*r_s**2*y**4 - 4*r_s**2*y**3 + r_s**2*y**2) - 40*omega**2*x_0**2*y**11/(r_s**2*y**6 - 4*r_s**2*y**5 + 6*r_s**2*y**4 - 4*r_s**2*y**3 + r_s**2*y**2) + 176*omega**2*x_0**2*y**10/(r_s**2*y**6 - 4*r_s**2*y**5 + 6*r_s**2*y**4 - 4*r_s**2*y**3 + r_s**2*y**2) - 448*omega**2*x_0**2*y**9/(r_s**2*y**6 - 4*r_s**2*y**5 + 6*r_s**2*y**4 - 4*r_s**2*y**3 + r_s**2*y**2) + 729*omega**2*x_0**2*y**8/(r_s**2*y**6 - 4*r_s**2*y**5 + 6*r_s**2*y**4 - 4*r_s**2*y**3 + r_s**2*y**2) - 790*omega**2*x_0**2*y**7/(r_s**2*y**6 - 4*r_s**2*y**5 + 6*r_s**2*y**4 - 4*r_s**2*y**3 + r_s**2*y**2) + 575*omega**2*x_0**2*y**6/(r_s**2*y**6 - 4*r_s**2*y**5 + 6*r_s**2*y**4 - 4*r_s**2*y**3 + r_s**2*y**2) - 276*omega**2*x_0**2*y**5/(r_s**2*y**6 - 4*r_s**2*y**5 + 6*r_s**2*y**4 - 4*r_s**2*y**3 + r_s**2*y**2) + 83*omega**2*x_0**2*y**4/(r_s**2*y**6 - 4*r_s**2*y**5 + 6*r_s**2*y**4 - 4*r_s**2*y**3 + r_s**2*y**2) - 14*omega**2*x_0**2*y**3/(r_s**2*y**6 - 4*r_s**2*y**5 + 6*r_s**2*y**4 - 4*r_s**2*y**3 + r_s**2*y**2) + omega**2*x_0**2*y**2/(r_s**2*y**6 - 4*r_s**2*y**5 + 6*r_s**2*y**4 - 4*r_s**2*y**3 + r_s**2*y**2) - 4*omega**2*y**12/(y**8 - 6*y**7 + 15*y**6 - 20*y**5 + 15*y**4 - 6*y**3 + y**2) + 40*omega**2*y**11/(y**8 - 6*y**7 + 15*y**6 - 20*y**5 + 15*y**4 - 6*y**3 + y**2) - 176*omega**2*y**10/(y**8 - 6*y**7 + 15*y**6 - 20*y**5 + 15*y**4 - 6*y**3 + y**2) + 448*omega**2*y**9/(y**8 - 6*y**7 + 15*y**6 - 20*y**5 + 15*y**4 - 6*y**3 + y**2) - 729*omega**2*y**8/(y**8 - 6*y**7 + 15*y**6 - 20*y**5 + 15*y**4 - 6*y**3 + y**2) + 790*omega**2*y**7/(y**8 - 6*y**7 + 15*y**6 - 20*y**5 + 15*y**4 - 6*y**3 + y**2) - 575*omega**2*y**6/(y**8 - 6*y**7 + 15*y**6 - 20*y**5 + 15*y**4 - 6*y**3 + y**2) + 276*omega**2*y**5/(y**8 - 6*y**7 + 15*y**6 - 20*y**5 + 15*y**4 - 6*y**3 + y**2) - 83*omega**2*y**4/(y**8 - 6*y**7 + 15*y**6 - 20*y**5 + 15*y**4 - 6*y**3 + y**2) + 14*omega**2*y**3/(y**8 - 6*y**7 + 15*y**6 - 20*y**5 + 15*y**4 - 6*y**3 + y**2) - omega**2*y**2/(y**8 - 6*y**7 + 15*y**6 - 20*y**5 + 15*y**4 - 6*y**3 + y**2) + omega**2 - 2*I*omega*x_0**2*y**11/(r_s**3*y**5 - 3*r_s**3*y**4 + 3*r_s**3*y**3 - r_s**3*y**2) + 18*I*omega*x_0**2*y**10/(r_s**3*y**5 - 3*r_s**3*y**4 + 3*r_s**3*y**3 - r_s**3*y**2) - 69*I*omega*x_0**2*y**9/(r_s**3*y**5 - 3*r_s**3*y**4 + 3*r_s**3*y**3 - r_s**3*y**2) + 8*I*omega*x_0**2*y**9/(r_s**3*y**3 - 2*r_s**3*y**2 + r_s**3*y) + 149*I*omega*x_0**2*y**8/(r_s**3*y**5 - 3*r_s**3*y**4 + 3*r_s**3*y**3 - r_s**3*y**2) - 58*I*omega*x_0**2*y**8/(r_s**3*y**3 - 2*r_s**3*y**2 + r_s**3*y) - 201*I*omega*x_0**2*y**7/(r_s**3*y**5 - 3*r_s**3*y**4 + 3*r_s**3*y**3 - r_s**3*y**2) + 178*I*omega*x_0**2*y**7/(r_s**3*y**3 - 2*r_s**3*y**2 + r_s**3*y) + 177*I*omega*x_0**2*y**6/(r_s**3*y**5 - 3*r_s**3*y**4 + 3*r_s**3*y**3 - r_s**3*y**2) - 301*I*omega*x_0**2*y**6/(r_s**3*y**3 - 2*r_s**3*y**2 + r_s**3*y) - 103*I*omega*x_0**2*y**5/(r_s**3*y**5 - 3*r_s**3*y**4 + 3*r_s**3*y**3 - r_s**3*y**2) + 305*I*omega*x_0**2*y**5/(r_s**3*y**3 - 2*r_s**3*y**2 + r_s**3*y) + 39*I*omega*x_0**2*y**4/(r_s**3*y**5 - 3*r_s**3*y**4 + 3*r_s**3*y**3 - r_s**3*y**2) - 188*I*omega*x_0**2*y**4/(r_s**3*y**3 - 2*r_s**3*y**2 + r_s**3*y) - 9*I*omega*x_0**2*y**3/(r_s**3*y**5 - 3*r_s**3*y**4 + 3*r_s**3*y**3 - r_s**3*y**2) + 68*I*omega*x_0**2*y**3/(r_s**3*y**3 - 2*r_s**3*y**2 + r_s**3*y) + I*omega*x_0**2*y**2/(r_s**3*y**5 - 3*r_s**3*y**4 + 3*r_s**3*y**3 - r_s**3*y**2) - 13*I*omega*x_0**2*y**2/(r_s**3*y**3 - 2*r_s**3*y**2 + r_s**3*y) + I*omega*x_0**2*y/(r_s**3*y**3 - 2*r_s**3*y**2 + r_s**3*y) + 2*I*omega*y**11/(r_s*y**7 - 5*r_s*y**6 + 10*r_s*y**5 - 10*r_s*y**4 + 5*r_s*y**3 - r_s*y**2) - 18*I*omega*y**10/(r_s*y**7 - 5*r_s*y**6 + 10*r_s*y**5 - 10*r_s*y**4 + 5*r_s*y**3 - r_s*y**2) + 69*I*omega*y**9/(r_s*y**7 - 5*r_s*y**6 + 10*r_s*y**5 - 10*r_s*y**4 + 5*r_s*y**3 - r_s*y**2) - 149*I*omega*y**8/(r_s*y**7 - 5*r_s*y**6 + 10*r_s*y**5 - 10*r_s*y**4 + 5*r_s*y**3 - r_s*y**2) + 201*I*omega*y**7/(r_s*y**7 - 5*r_s*y**6 + 10*r_s*y**5 - 10*r_s*y**4 + 5*r_s*y**3 - r_s*y**2) - 6*I*omega*y**7/(r_s*y**3 - 2*r_s*y**2 + r_s*y) - 177*I*omega*y**6/(r_s*y**7 - 5*r_s*y**6 + 10*r_s*y**5 - 10*r_s*y**4 + 5*r_s*y**3 - r_s*y**2) + 32*I*omega*y**6/(r_s*y**3 - 2*r_s*y**2 + r_s*y) + 103*I*omega*y**5/(r_s*y**7 - 5*r_s*y**6 + 10*r_s*y**5 - 10*r_s*y**4 + 5*r_s*y**3 - r_s*y**2) - 67*I*omega*y**5/(r_s*y**3 - 2*r_s*y**2 + r_s*y) - 39*I*omega*y**4/(r_s*y**7 - 5*r_s*y**6 + 10*r_s*y**5 - 10*r_s*y**4 + 5*r_s*y**3 - r_s*y**2) + 70*I*omega*y**4/(r_s*y**3 - 2*r_s*y**2 + r_s*y) + 9*I*omega*y**3/(r_s*y**7 - 5*r_s*y**6 + 10*r_s*y**5 - 10*r_s*y**4 + 5*r_s*y**3 - r_s*y**2) - 38*I*omega*y**3/(r_s*y**3 - 2*r_s*y**2 + r_s*y) - I*omega*y**2/(r_s*y**7 - 5*r_s*y**6 + 10*r_s*y**5 - 10*r_s*y**4 + 5*r_s*y**3 - r_s*y**2) + 10*I*omega*y**2/(r_s*y**3 - 2*r_s*y**2 + r_s*y) - I*omega*y/(r_s*y**3 - 2*r_s*y**2 + r_s*y) + 4*y**4/(r_s**2*y**2*sqrt(1/(y**2 - 2*y + 1)) - 2*r_s**2*y*sqrt(1/(y**2 - 2*y + 1)) + r_s**2*sqrt(1/(y**2 - 2*y + 1))) - 2*y**4/(r_s**2*y**2 - 2*r_s**2*y + r_s**2) - 16*y**3/(r_s**2*y**2*sqrt(1/(y**2 - 2*y + 1)) - 2*r_s**2*y*sqrt(1/(y**2 - 2*y + 1)) + r_s**2*sqrt(1/(y**2 - 2*y + 1))) + 8*y**3/(r_s**2*y**2 - 2*r_s**2*y + r_s**2) + 24*y**2/(r_s**2*y**2*sqrt(1/(y**2 - 2*y + 1)) - 2*r_s**2*y*sqrt(1/(y**2 - 2*y + 1)) + r_s**2*sqrt(1/(y**2 - 2*y + 1))) - 12*y**2/(r_s**2*y**2 - 2*r_s**2*y + r_s**2) - 16*y/(r_s**2*y**2*sqrt(1/(y**2 - 2*y + 1)) - 2*r_s**2*y*sqrt(1/(y**2 - 2*y + 1)) + r_s**2*sqrt(1/(y**2 - 2*y + 1))) + 8*y/(r_s**2*y**2 - 2*r_s**2*y + r_s**2) - 3/(r_s**2*y**2*(1/(y**2 - 2*y + 1))**(5/2) - 2*r_s**2*y*(1/(y**2 - 2*y + 1))**(5/2) + r_s**2*(1/(y**2 - 2*y + 1))**(5/2)) + 4/(r_s**2*y**2*sqrt(1/(y**2 - 2*y + 1)) - 2*r_s**2*y*sqrt(1/(y**2 - 2*y + 1)) + r_s**2*sqrt(1/(y**2 - 2*y + 1))) - 2/(r_s**2*y**2 - 2*r_s**2*y + r_s**2) + y**4/r_s**2 - 4*y**3/r_s**2 + 8*y**2/r_s**2 - 2*y**2/(r_s**2*sqrt(1/(y**2 - 2*y + 1))) - 8*y/r_s**2 + 4*y/(r_s**2*sqrt(1/(y**2 - 2*y + 1))) + 3/r_s**2 - 2/(r_s**2*sqrt(1/(y**2 - 2*y + 1))) - 2*x_0**2*y**6/r_s**4 + 12*x_0**2*y**5/r_s**4 - 31*x_0**2*y**4/r_s**4 - x_0**2*y**4/(r_s**4*sqrt(1/(y**2 - 2*y + 1))) + 44*x_0**2*y**3/r_s**4 + 4*x_0**2*y**3/(r_s**4*sqrt(1/(y**2 - 2*y + 1))) - 36*x_0**2*y**2/r_s**4 - 6*x_0**2*y**2/(r_s**4*sqrt(1/(y**2 - 2*y + 1))) + 16*x_0**2*y/r_s**4 + 4*x_0**2*y/(r_s**4*sqrt(1/(y**2 - 2*y + 1))) - 3*x_0**2/r_s**4 - x_0**2/(r_s**4*sqrt(1/(y**2 - 2*y + 1))) + 4*x_0**2/(r_s**4*(1/(y**2 - 2*y + 1))**(5/2)))*phi(y)"
      ]
     },
     "metadata": {},
     "output_type": "display_data"
    }
   ],
   "source": [
    "# Expand equation and collect according to powers of phi and derivatives\n",
    "eq_sca_exp = eq_sca.lhs.expand().collect(phi)\n",
    "display(eq_sca_exp)"
   ]
  },
  {
   "cell_type": "code",
   "execution_count": 51,
   "id": "0c428bba",
   "metadata": {},
   "outputs": [
    {
     "data": {
      "text/latex": [
       "$\\displaystyle 1$"
      ],
      "text/plain": [
       "1"
      ]
     },
     "metadata": {},
     "output_type": "display_data"
    }
   ],
   "source": [
    "# Get coefficient of second derivative, normalize, and simplify (just to check)\n",
    "term_two_sca = ( eq_sca_exp.coeff(ddphi).simplify() / norm_sca ).simplify()\n",
    "display(term_two_sca)"
   ]
  },
  {
   "cell_type": "code",
   "execution_count": 52,
   "id": "32e75314",
   "metadata": {},
   "outputs": [
    {
     "data": {
      "text/latex": [
       "$\\displaystyle \\frac{\\omega^{2} r_{s}^{4} \\left(y^{2} - 2 y + 1\\right)^{7} \\left(y^{3} - 3 y^{2} + 3 y - 1\\right) \\left(y^{4} - 4 y^{3} + 6 y^{2} - 4 y + 1\\right) \\left(y^{5} - 5 y^{4} + 10 y^{3} - 10 y^{2} + 5 y - 1\\right) \\left(y^{6} - 6 y^{5} + 15 y^{4} - 20 y^{3} + 15 y^{2} - 6 y + 1\\right) \\left(\\frac{1}{y^{2} - 2 y + 1}\\right)^{\\frac{13}{2}} + \\omega^{2} r_{s}^{4} \\left(y^{2} - 2 y + 1\\right)^{7} \\left(y^{3} - 3 y^{2} + 3 y - 1\\right) \\left(y^{4} - 4 y^{3} + 6 y^{2} - 4 y + 1\\right) \\left(y^{5} - 5 y^{4} + 10 y^{3} - 10 y^{2} + 5 y - 1\\right) \\left(- 4 y^{10} + 40 y^{9} - 176 y^{8} + 448 y^{7} - 729 y^{6} + 790 y^{5} - 575 y^{4} + 276 y^{3} - 83 y^{2} + 14 y - 1\\right) \\left(\\frac{1}{y^{2} - 2 y + 1}\\right)^{\\frac{13}{2}} + \\omega^{2} r_{s}^{2} x_{0}^{2} \\left(y^{2} - 2 y + 1\\right)^{7} \\left(y^{3} - 3 y^{2} + 3 y - 1\\right) \\left(y^{5} - 5 y^{4} + 10 y^{3} - 10 y^{2} + 5 y - 1\\right) \\left(y^{6} - 6 y^{5} + 15 y^{4} - 20 y^{3} + 15 y^{2} - 6 y + 1\\right) \\left(4 y^{10} - 40 y^{9} + 176 y^{8} - 448 y^{7} + 729 y^{6} - 790 y^{5} + 575 y^{4} - 276 y^{3} + 83 y^{2} - 14 y + 1\\right) \\left(\\frac{1}{y^{2} - 2 y + 1}\\right)^{\\frac{13}{2}} + i \\omega r_{s}^{3} \\left(y^{2} - 2 y + 1\\right)^{7} \\left(y^{3} - 3 y^{2} + 3 y - 1\\right) \\left(y^{4} - 4 y^{3} + 6 y^{2} - 4 y + 1\\right) \\left(y^{6} - 6 y^{5} + 15 y^{4} - 20 y^{3} + 15 y^{2} - 6 y + 1\\right) \\left(2 y^{9} - 18 y^{8} + 69 y^{7} - 149 y^{6} + 201 y^{5} - 177 y^{4} + 103 y^{3} - 39 y^{2} + 9 y - 1\\right) \\left(\\frac{1}{y^{2} - 2 y + 1}\\right)^{\\frac{13}{2}} + i \\omega r_{s}^{3} \\left(y^{2} - 2 y + 1\\right)^{6} \\left(y^{3} - 3 y^{2} + 3 y - 1\\right) \\left(y^{4} - 4 y^{3} + 6 y^{2} - 4 y + 1\\right) \\left(y^{5} - 5 y^{4} + 10 y^{3} - 10 y^{2} + 5 y - 1\\right) \\left(- 6 y^{6} + 32 y^{5} - 67 y^{4} + 70 y^{3} - 38 y^{2} + 10 y - 1\\right) \\left(y^{6} - 6 y^{5} + 15 y^{4} - 20 y^{3} + 15 y^{2} - 6 y + 1\\right) \\left(\\frac{1}{y^{2} - 2 y + 1}\\right)^{\\frac{13}{2}} + i \\omega r_{s} x_{0}^{2} \\left(y^{2} - 2 y + 1\\right)^{7} \\left(y^{4} - 4 y^{3} + 6 y^{2} - 4 y + 1\\right) \\left(y^{5} - 5 y^{4} + 10 y^{3} - 10 y^{2} + 5 y - 1\\right) \\left(y^{6} - 6 y^{5} + 15 y^{4} - 20 y^{3} + 15 y^{2} - 6 y + 1\\right) \\left(- 2 y^{9} + 18 y^{8} - 69 y^{7} + 149 y^{6} - 201 y^{5} + 177 y^{4} - 103 y^{3} + 39 y^{2} - 9 y + 1\\right) \\left(\\frac{1}{y^{2} - 2 y + 1}\\right)^{\\frac{13}{2}} + i \\omega r_{s} x_{0}^{2} \\left(y^{2} - 2 y + 1\\right)^{6} \\left(y^{3} - 3 y^{2} + 3 y - 1\\right) \\left(y^{4} - 4 y^{3} + 6 y^{2} - 4 y + 1\\right) \\left(y^{5} - 5 y^{4} + 10 y^{3} - 10 y^{2} + 5 y - 1\\right) \\left(y^{6} - 6 y^{5} + 15 y^{4} - 20 y^{3} + 15 y^{2} - 6 y + 1\\right) \\left(8 y^{8} - 58 y^{7} + 178 y^{6} - 301 y^{5} + 305 y^{4} - 188 y^{3} + 68 y^{2} - 13 y + 1\\right) \\left(\\frac{1}{y^{2} - 2 y + 1}\\right)^{\\frac{13}{2}} + r_{s}^{2} \\left(y^{2} - 2 y + 1\\right)^{7} \\left(y^{3} - 3 y^{2} + 3 y - 1\\right) \\left(y^{4} - 4 y^{3} + 6 y^{2} - 4 y + 1\\right) \\left(y^{5} - 5 y^{4} + 10 y^{3} - 10 y^{2} + 5 y - 1\\right) \\left(y^{6} - 6 y^{5} + 15 y^{4} - 20 y^{3} + 15 y^{2} - 6 y + 1\\right) \\left(- \\ell^{2} y^{2} + 2 \\ell^{2} y - \\ell^{2} - \\ell y^{2} + 2 \\ell y - \\ell + y^{4} - 4 y^{3} + 8 y^{2} - 8 y + 3\\right) \\left(\\frac{1}{y^{2} - 2 y + 1}\\right)^{\\frac{13}{2}} - 2 r_{s}^{2} \\left(y^{2} - 2 y + 1\\right)^{6} \\left(y^{3} - 3 y^{2} + 3 y - 1\\right) \\left(- y^{4} + 4 y^{3} - 6 y^{2} + 4 y - 1\\right)^{2} \\left(y^{5} - 5 y^{4} + 10 y^{3} - 10 y^{2} + 5 y - 1\\right) \\left(y^{6} - 6 y^{5} + 15 y^{4} - 20 y^{3} + 15 y^{2} - 6 y + 1\\right) \\left(\\frac{1}{y^{2} - 2 y + 1}\\right)^{\\frac{13}{2}} - 3 r_{s}^{2} \\left(y^{2} - 2 y + 1\\right)^{2} \\left(y^{3} - 3 y^{2} + 3 y - 1\\right) \\left(y^{4} - 4 y^{3} + 6 y^{2} - 4 y + 1\\right) \\left(y^{5} - 5 y^{4} + 10 y^{3} - 10 y^{2} + 5 y - 1\\right) \\left(y^{6} - 6 y^{5} + 15 y^{4} - 20 y^{3} + 15 y^{2} - 6 y + 1\\right) + r_{s}^{2} \\left(y^{2} - 2 y + 1\\right) \\left(y^{3} - 3 y^{2} + 3 y - 1\\right) \\left(y^{4} - 4 y^{3} + 6 y^{2} - 4 y + 1\\right) \\left(y^{5} - 5 y^{4} + 10 y^{3} - 10 y^{2} + 5 y - 1\\right) \\left(y^{6} - 6 y^{5} + 15 y^{4} - 20 y^{3} + 15 y^{2} - 6 y + 1\\right) \\left(\\ell^{2} y^{2} - 2 \\ell^{2} y + \\ell^{2} + \\ell y^{2} - 2 \\ell y + \\ell - 2 y^{2} + 4 y - 2\\right) + 4 r_{s}^{2} \\left(y^{3} - 3 y^{2} + 3 y - 1\\right) \\left(y^{4} - 4 y^{3} + 6 y^{2} - 4 y + 1\\right)^{2} \\left(y^{5} - 5 y^{4} + 10 y^{3} - 10 y^{2} + 5 y - 1\\right) \\left(y^{6} - 6 y^{5} + 15 y^{4} - 20 y^{3} + 15 y^{2} - 6 y + 1\\right) + x_{0}^{2} \\left(y^{2} - 2 y + 1\\right)^{7} \\left(y^{3} - 3 y^{2} + 3 y - 1\\right) \\left(y^{4} - 4 y^{3} + 6 y^{2} - 4 y + 1\\right) \\left(y^{5} - 5 y^{4} + 10 y^{3} - 10 y^{2} + 5 y - 1\\right) \\left(- 2 y^{6} + 12 y^{5} - 31 y^{4} + 44 y^{3} - 36 y^{2} + 16 y - 3\\right) \\left(y^{6} - 6 y^{5} + 15 y^{4} - 20 y^{3} + 15 y^{2} - 6 y + 1\\right) \\left(\\frac{1}{y^{2} - 2 y + 1}\\right)^{\\frac{13}{2}} + 4 x_{0}^{2} \\left(y^{2} - 2 y + 1\\right)^{3} \\left(y^{3} - 3 y^{2} + 3 y - 1\\right) \\left(y^{4} - 4 y^{3} + 6 y^{2} - 4 y + 1\\right) \\left(y^{5} - 5 y^{4} + 10 y^{3} - 10 y^{2} + 5 y - 1\\right) \\left(y^{6} - 6 y^{5} + 15 y^{4} - 20 y^{3} + 15 y^{2} - 6 y + 1\\right) - x_{0}^{2} \\left(y^{2} - 2 y + 1\\right) \\left(y^{3} - 3 y^{2} + 3 y - 1\\right) \\left(- y^{4} + 4 y^{3} - 6 y^{2} + 4 y - 1\\right)^{2} \\left(y^{5} - 5 y^{4} + 10 y^{3} - 10 y^{2} + 5 y - 1\\right) \\left(y^{6} - 6 y^{5} + 15 y^{4} - 20 y^{3} + 15 y^{2} - 6 y + 1\\right)}{y^{2} \\left(y - 1\\right)^{4} \\left(- r_{s} + x_{0} y - x_{0}\\right) \\left(r_{s} + x_{0} y - x_{0}\\right) \\left(y^{2} - 2 y + 1\\right)^{7} \\left(y^{3} - 3 y^{2} + 3 y - 1\\right) \\left(y^{4} - 4 y^{3} + 6 y^{2} - 4 y + 1\\right) \\left(y^{5} - 5 y^{4} + 10 y^{3} - 10 y^{2} + 5 y - 1\\right) \\left(y^{6} - 6 y^{5} + 15 y^{4} - 20 y^{3} + 15 y^{2} - 6 y + 1\\right) \\left(\\frac{1}{y^{2} - 2 y + 1}\\right)^{\\frac{13}{2}}}$"
      ],
      "text/plain": [
       "(omega**2*r_s**4*(y**2 - 2*y + 1)**7*(y**3 - 3*y**2 + 3*y - 1)*(y**4 - 4*y**3 + 6*y**2 - 4*y + 1)*(y**5 - 5*y**4 + 10*y**3 - 10*y**2 + 5*y - 1)*(y**6 - 6*y**5 + 15*y**4 - 20*y**3 + 15*y**2 - 6*y + 1)*(1/(y**2 - 2*y + 1))**(13/2) + omega**2*r_s**4*(y**2 - 2*y + 1)**7*(y**3 - 3*y**2 + 3*y - 1)*(y**4 - 4*y**3 + 6*y**2 - 4*y + 1)*(y**5 - 5*y**4 + 10*y**3 - 10*y**2 + 5*y - 1)*(-4*y**10 + 40*y**9 - 176*y**8 + 448*y**7 - 729*y**6 + 790*y**5 - 575*y**4 + 276*y**3 - 83*y**2 + 14*y - 1)*(1/(y**2 - 2*y + 1))**(13/2) + omega**2*r_s**2*x_0**2*(y**2 - 2*y + 1)**7*(y**3 - 3*y**2 + 3*y - 1)*(y**5 - 5*y**4 + 10*y**3 - 10*y**2 + 5*y - 1)*(y**6 - 6*y**5 + 15*y**4 - 20*y**3 + 15*y**2 - 6*y + 1)*(4*y**10 - 40*y**9 + 176*y**8 - 448*y**7 + 729*y**6 - 790*y**5 + 575*y**4 - 276*y**3 + 83*y**2 - 14*y + 1)*(1/(y**2 - 2*y + 1))**(13/2) + I*omega*r_s**3*(y**2 - 2*y + 1)**7*(y**3 - 3*y**2 + 3*y - 1)*(y**4 - 4*y**3 + 6*y**2 - 4*y + 1)*(y**6 - 6*y**5 + 15*y**4 - 20*y**3 + 15*y**2 - 6*y + 1)*(2*y**9 - 18*y**8 + 69*y**7 - 149*y**6 + 201*y**5 - 177*y**4 + 103*y**3 - 39*y**2 + 9*y - 1)*(1/(y**2 - 2*y + 1))**(13/2) + I*omega*r_s**3*(y**2 - 2*y + 1)**6*(y**3 - 3*y**2 + 3*y - 1)*(y**4 - 4*y**3 + 6*y**2 - 4*y + 1)*(y**5 - 5*y**4 + 10*y**3 - 10*y**2 + 5*y - 1)*(-6*y**6 + 32*y**5 - 67*y**4 + 70*y**3 - 38*y**2 + 10*y - 1)*(y**6 - 6*y**5 + 15*y**4 - 20*y**3 + 15*y**2 - 6*y + 1)*(1/(y**2 - 2*y + 1))**(13/2) + I*omega*r_s*x_0**2*(y**2 - 2*y + 1)**7*(y**4 - 4*y**3 + 6*y**2 - 4*y + 1)*(y**5 - 5*y**4 + 10*y**3 - 10*y**2 + 5*y - 1)*(y**6 - 6*y**5 + 15*y**4 - 20*y**3 + 15*y**2 - 6*y + 1)*(-2*y**9 + 18*y**8 - 69*y**7 + 149*y**6 - 201*y**5 + 177*y**4 - 103*y**3 + 39*y**2 - 9*y + 1)*(1/(y**2 - 2*y + 1))**(13/2) + I*omega*r_s*x_0**2*(y**2 - 2*y + 1)**6*(y**3 - 3*y**2 + 3*y - 1)*(y**4 - 4*y**3 + 6*y**2 - 4*y + 1)*(y**5 - 5*y**4 + 10*y**3 - 10*y**2 + 5*y - 1)*(y**6 - 6*y**5 + 15*y**4 - 20*y**3 + 15*y**2 - 6*y + 1)*(8*y**8 - 58*y**7 + 178*y**6 - 301*y**5 + 305*y**4 - 188*y**3 + 68*y**2 - 13*y + 1)*(1/(y**2 - 2*y + 1))**(13/2) + r_s**2*(y**2 - 2*y + 1)**7*(y**3 - 3*y**2 + 3*y - 1)*(y**4 - 4*y**3 + 6*y**2 - 4*y + 1)*(y**5 - 5*y**4 + 10*y**3 - 10*y**2 + 5*y - 1)*(y**6 - 6*y**5 + 15*y**4 - 20*y**3 + 15*y**2 - 6*y + 1)*(-ell**2*y**2 + 2*ell**2*y - ell**2 - ell*y**2 + 2*ell*y - ell + y**4 - 4*y**3 + 8*y**2 - 8*y + 3)*(1/(y**2 - 2*y + 1))**(13/2) - 2*r_s**2*(y**2 - 2*y + 1)**6*(y**3 - 3*y**2 + 3*y - 1)*(-y**4 + 4*y**3 - 6*y**2 + 4*y - 1)**2*(y**5 - 5*y**4 + 10*y**3 - 10*y**2 + 5*y - 1)*(y**6 - 6*y**5 + 15*y**4 - 20*y**3 + 15*y**2 - 6*y + 1)*(1/(y**2 - 2*y + 1))**(13/2) - 3*r_s**2*(y**2 - 2*y + 1)**2*(y**3 - 3*y**2 + 3*y - 1)*(y**4 - 4*y**3 + 6*y**2 - 4*y + 1)*(y**5 - 5*y**4 + 10*y**3 - 10*y**2 + 5*y - 1)*(y**6 - 6*y**5 + 15*y**4 - 20*y**3 + 15*y**2 - 6*y + 1) + r_s**2*(y**2 - 2*y + 1)*(y**3 - 3*y**2 + 3*y - 1)*(y**4 - 4*y**3 + 6*y**2 - 4*y + 1)*(y**5 - 5*y**4 + 10*y**3 - 10*y**2 + 5*y - 1)*(y**6 - 6*y**5 + 15*y**4 - 20*y**3 + 15*y**2 - 6*y + 1)*(ell**2*y**2 - 2*ell**2*y + ell**2 + ell*y**2 - 2*ell*y + ell - 2*y**2 + 4*y - 2) + 4*r_s**2*(y**3 - 3*y**2 + 3*y - 1)*(y**4 - 4*y**3 + 6*y**2 - 4*y + 1)**2*(y**5 - 5*y**4 + 10*y**3 - 10*y**2 + 5*y - 1)*(y**6 - 6*y**5 + 15*y**4 - 20*y**3 + 15*y**2 - 6*y + 1) + x_0**2*(y**2 - 2*y + 1)**7*(y**3 - 3*y**2 + 3*y - 1)*(y**4 - 4*y**3 + 6*y**2 - 4*y + 1)*(y**5 - 5*y**4 + 10*y**3 - 10*y**2 + 5*y - 1)*(-2*y**6 + 12*y**5 - 31*y**4 + 44*y**3 - 36*y**2 + 16*y - 3)*(y**6 - 6*y**5 + 15*y**4 - 20*y**3 + 15*y**2 - 6*y + 1)*(1/(y**2 - 2*y + 1))**(13/2) + 4*x_0**2*(y**2 - 2*y + 1)**3*(y**3 - 3*y**2 + 3*y - 1)*(y**4 - 4*y**3 + 6*y**2 - 4*y + 1)*(y**5 - 5*y**4 + 10*y**3 - 10*y**2 + 5*y - 1)*(y**6 - 6*y**5 + 15*y**4 - 20*y**3 + 15*y**2 - 6*y + 1) - x_0**2*(y**2 - 2*y + 1)*(y**3 - 3*y**2 + 3*y - 1)*(-y**4 + 4*y**3 - 6*y**2 + 4*y - 1)**2*(y**5 - 5*y**4 + 10*y**3 - 10*y**2 + 5*y - 1)*(y**6 - 6*y**5 + 15*y**4 - 20*y**3 + 15*y**2 - 6*y + 1))/(y**2*(y - 1)**4*(-r_s + x_0*y - x_0)*(r_s + x_0*y - x_0)*(y**2 - 2*y + 1)**7*(y**3 - 3*y**2 + 3*y - 1)*(y**4 - 4*y**3 + 6*y**2 - 4*y + 1)*(y**5 - 5*y**4 + 10*y**3 - 10*y**2 + 5*y - 1)*(y**6 - 6*y**5 + 15*y**4 - 20*y**3 + 15*y**2 - 6*y + 1)*(1/(y**2 - 2*y + 1))**(13/2))"
      ]
     },
     "metadata": {},
     "output_type": "display_data"
    },
    {
     "data": {
      "text/plain": [
       "'(16*m**4*w**2*(y**2 - 2*y + 1)**7*(y**3 - 3*y**2 + 3*y - 1)*(y**4 - 4*y**3 + 6*y**2 - 4*y + 1)*(y**5 - 5*y**4 + 10*y**3 - 10*y**2 + 5*y - 1)*(y**6 - 6*y**5 + 15*y**4 - 20*y**3 + 15*y**2 - 6*y + 1)*(1/(y**2 - 2*y + 1))**(13/2) + 16*m**4*w**2*(y**2 - 2*y + 1)**7*(y**3 - 3*y**2 + 3*y - 1)*(y**4 - 4*y**3 + 6*y**2 - 4*y + 1)*(y**5 - 5*y**4 + 10*y**3 - 10*y**2 + 5*y - 1)*(-4*y**10 + 40*y**9 - 176*y**8 + 448*y**7 - 729*y**6 + 790*y**5 - 575*y**4 + 276*y**3 - 83*y**2 + 14*y - 1)*(1/(y**2 - 2*y + 1))**(13/2) + 8*I*m**3*w*(y**2 - 2*y + 1)**7*(y**3 - 3*y**2 + 3*y - 1)*(y**4 - 4*y**3 + 6*y**2 - 4*y + 1)*(y**6 - 6*y**5 + 15*y**4 - 20*y**3 + 15*y**2 - 6*y + 1)*(2*y**9 - 18*y**8 + 69*y**7 - 149*y**6 + 201*y**5 - 177*y**4 + 103*y**3 - 39*y**2 + 9*y - 1)*(1/(y**2 - 2*y + 1))**(13/2) + 8*I*m**3*w*(y**2 - 2*y + 1)**6*(y**3 - 3*y**2 + 3*y - 1)*(y**4 - 4*y**3 + 6*y**2 - 4*y + 1)*(y**5 - 5*y**4 + 10*y**3 - 10*y**2 + 5*y - 1)*(-6*y**6 + 32*y**5 - 67*y**4 + 70*y**3 - 38*y**2 + 10*y - 1)*(y**6 - 6*y**5 + 15*y**4 - 20*y**3 + 15*y**2 - 6*y + 1)*(1/(y**2 - 2*y + 1))**(13/2) + 4*m**2*w**2*x0**2*(y**2 - 2*y + 1)**7*(y**3 - 3*y**2 + 3*y - 1)*(y**5 - 5*y**4 + 10*y**3 - 10*y**2 + 5*y - 1)*(y**6 - 6*y**5 + 15*y**4 - 20*y**3 + 15*y**2 - 6*y + 1)*(4*y**10 - 40*y**9 + 176*y**8 - 448*y**7 + 729*y**6 - 790*y**5 + 575*y**4 - 276*y**3 + 83*y**2 - 14*y + 1)*(1/(y**2 - 2*y + 1))**(13/2) + 4*m**2*(y**2 - 2*y + 1)**7*(y**3 - 3*y**2 + 3*y - 1)*(y**4 - 4*y**3 + 6*y**2 - 4*y + 1)*(y**5 - 5*y**4 + 10*y**3 - 10*y**2 + 5*y - 1)*(y**6 - 6*y**5 + 15*y**4 - 20*y**3 + 15*y**2 - 6*y + 1)*(-l**2*y**2 + 2*l**2*y - l**2 - l*y**2 + 2*l*y - l + y**4 - 4*y**3 + 8*y**2 - 8*y + 3)*(1/(y**2 - 2*y + 1))**(13/2) - 8*m**2*(y**2 - 2*y + 1)**6*(y**3 - 3*y**2 + 3*y - 1)*(-y**4 + 4*y**3 - 6*y**2 + 4*y - 1)**2*(y**5 - 5*y**4 + 10*y**3 - 10*y**2 + 5*y - 1)*(y**6 - 6*y**5 + 15*y**4 - 20*y**3 + 15*y**2 - 6*y + 1)*(1/(y**2 - 2*y + 1))**(13/2) - 12*m**2*(y**2 - 2*y + 1)**2*(y**3 - 3*y**2 + 3*y - 1)*(y**4 - 4*y**3 + 6*y**2 - 4*y + 1)*(y**5 - 5*y**4 + 10*y**3 - 10*y**2 + 5*y - 1)*(y**6 - 6*y**5 + 15*y**4 - 20*y**3 + 15*y**2 - 6*y + 1) + 4*m**2*(y**2 - 2*y + 1)*(y**3 - 3*y**2 + 3*y - 1)*(y**4 - 4*y**3 + 6*y**2 - 4*y + 1)*(y**5 - 5*y**4 + 10*y**3 - 10*y**2 + 5*y - 1)*(y**6 - 6*y**5 + 15*y**4 - 20*y**3 + 15*y**2 - 6*y + 1)*(l**2*y**2 - 2*l**2*y + l**2 + l*y**2 - 2*l*y + l - 2*y**2 + 4*y - 2) + 16*m**2*(y**3 - 3*y**2 + 3*y - 1)*(y**4 - 4*y**3 + 6*y**2 - 4*y + 1)**2*(y**5 - 5*y**4 + 10*y**3 - 10*y**2 + 5*y - 1)*(y**6 - 6*y**5 + 15*y**4 - 20*y**3 + 15*y**2 - 6*y + 1) + 2*I*m*w*x0**2*(y**2 - 2*y + 1)**7*(y**4 - 4*y**3 + 6*y**2 - 4*y + 1)*(y**5 - 5*y**4 + 10*y**3 - 10*y**2 + 5*y - 1)*(y**6 - 6*y**5 + 15*y**4 - 20*y**3 + 15*y**2 - 6*y + 1)*(-2*y**9 + 18*y**8 - 69*y**7 + 149*y**6 - 201*y**5 + 177*y**4 - 103*y**3 + 39*y**2 - 9*y + 1)*(1/(y**2 - 2*y + 1))**(13/2) + 2*I*m*w*x0**2*(y**2 - 2*y + 1)**6*(y**3 - 3*y**2 + 3*y - 1)*(y**4 - 4*y**3 + 6*y**2 - 4*y + 1)*(y**5 - 5*y**4 + 10*y**3 - 10*y**2 + 5*y - 1)*(y**6 - 6*y**5 + 15*y**4 - 20*y**3 + 15*y**2 - 6*y + 1)*(8*y**8 - 58*y**7 + 178*y**6 - 301*y**5 + 305*y**4 - 188*y**3 + 68*y**2 - 13*y + 1)*(1/(y**2 - 2*y + 1))**(13/2) + x0**2*(y**2 - 2*y + 1)**7*(y**3 - 3*y**2 + 3*y - 1)*(y**4 - 4*y**3 + 6*y**2 - 4*y + 1)*(y**5 - 5*y**4 + 10*y**3 - 10*y**2 + 5*y - 1)*(-2*y**6 + 12*y**5 - 31*y**4 + 44*y**3 - 36*y**2 + 16*y - 3)*(y**6 - 6*y**5 + 15*y**4 - 20*y**3 + 15*y**2 - 6*y + 1)*(1/(y**2 - 2*y + 1))**(13/2) + 4*x0**2*(y**2 - 2*y + 1)**3*(y**3 - 3*y**2 + 3*y - 1)*(y**4 - 4*y**3 + 6*y**2 - 4*y + 1)*(y**5 - 5*y**4 + 10*y**3 - 10*y**2 + 5*y - 1)*(y**6 - 6*y**5 + 15*y**4 - 20*y**3 + 15*y**2 - 6*y + 1) - x0**2*(y**2 - 2*y + 1)*(y**3 - 3*y**2 + 3*y - 1)*(-y**4 + 4*y**3 - 6*y**2 + 4*y - 1)**2*(y**5 - 5*y**4 + 10*y**3 - 10*y**2 + 5*y - 1)*(y**6 - 6*y**5 + 15*y**4 - 20*y**3 + 15*y**2 - 6*y + 1))/(y**2*(y - 1)**4*(-2*m + x0*y - x0)*(2*m + x0*y - x0)*(y**2 - 2*y + 1)**7*(y**3 - 3*y**2 + 3*y - 1)*(y**4 - 4*y**3 + 6*y**2 - 4*y + 1)*(y**5 - 5*y**4 + 10*y**3 - 10*y**2 + 5*y - 1)*(y**6 - 6*y**5 + 15*y**4 - 20*y**3 + 15*y**2 - 6*y + 1)*(1/(y**2 - 2*y + 1))**(13/2))'"
      ]
     },
     "execution_count": 52,
     "metadata": {},
     "output_type": "execute_result"
    }
   ],
   "source": [
    "# Get coefficient of zero-th derivative, normalize, and simplify -> s_0\n",
    "s0_sca = - ( eq_sca_exp.coeff(phi).simplify() / norm_sca ) # .simplify()\n",
    "display(s0_sca)\n",
    "# Write s_0 as Python string\n",
    "str( s0_sca.subs( {l: 'l', w: 'w', rs: '2*m', x0: 'x0'} ) )"
   ]
  },
  {
   "cell_type": "code",
   "execution_count": 53,
   "id": "f90fa0ec",
   "metadata": {},
   "outputs": [
    {
     "data": {
      "text/latex": [
       "$\\displaystyle - \\frac{4 i \\omega r_{s}^{3} y^{2} - 8 i \\omega r_{s}^{3} y + 2 i \\omega r_{s}^{3} - 4 i \\omega r_{s} x_{0}^{2} y^{4} + 16 i \\omega r_{s} x_{0}^{2} y^{3} - 22 i \\omega r_{s} x_{0}^{2} y^{2} + 12 i \\omega r_{s} x_{0}^{2} y - 2 i \\omega r_{s} x_{0}^{2} - 3 r_{s}^{2} y^{2} + 4 r_{s}^{2} y - r_{s}^{2} + 4 x_{0}^{2} y^{4} - 13 x_{0}^{2} y^{3} + 15 x_{0}^{2} y^{2} - 7 x_{0}^{2} y + x_{0}^{2}}{y \\left(- r_{s}^{2} y^{2} + 2 r_{s}^{2} y - r_{s}^{2} + x_{0}^{2} y^{4} - 4 x_{0}^{2} y^{3} + 6 x_{0}^{2} y^{2} - 4 x_{0}^{2} y + x_{0}^{2}\\right)}$"
      ],
      "text/plain": [
       "-(4*I*omega*r_s**3*y**2 - 8*I*omega*r_s**3*y + 2*I*omega*r_s**3 - 4*I*omega*r_s*x_0**2*y**4 + 16*I*omega*r_s*x_0**2*y**3 - 22*I*omega*r_s*x_0**2*y**2 + 12*I*omega*r_s*x_0**2*y - 2*I*omega*r_s*x_0**2 - 3*r_s**2*y**2 + 4*r_s**2*y - r_s**2 + 4*x_0**2*y**4 - 13*x_0**2*y**3 + 15*x_0**2*y**2 - 7*x_0**2*y + x_0**2)/(y*(-r_s**2*y**2 + 2*r_s**2*y - r_s**2 + x_0**2*y**4 - 4*x_0**2*y**3 + 6*x_0**2*y**2 - 4*x_0**2*y + x_0**2))"
      ]
     },
     "metadata": {},
     "output_type": "display_data"
    },
    {
     "data": {
      "text/plain": [
       "'-(32*I*m**3*w*y**2 - 64*I*m**3*w*y + 16*I*m**3*w - 12*m**2*y**2 + 16*m**2*y - 4*m**2 - 8*I*m*w*x0**2*y**4 + 32*I*m*w*x0**2*y**3 - 44*I*m*w*x0**2*y**2 + 24*I*m*w*x0**2*y - 4*I*m*w*x0**2 + 4*x0**2*y**4 - 13*x0**2*y**3 + 15*x0**2*y**2 - 7*x0**2*y + x0**2)/(y*(-4*m**2*y**2 + 8*m**2*y - 4*m**2 + x0**2*y**4 - 4*x0**2*y**3 + 6*x0**2*y**2 - 4*x0**2*y + x0**2))'"
      ]
     },
     "execution_count": 53,
     "metadata": {},
     "output_type": "execute_result"
    }
   ],
   "source": [
    "# Get coefficient of first derivative, normalize, and simplify -> lambda_0\n",
    "l0_sca = - ( eq_sca_exp.coeff(dphi).simplify() / norm_sca ).simplify()\n",
    "display(l0_sca)\n",
    "# Write l_0 as Python string\n",
    "str( l0_sca.subs( {l: 'l', w: 'w', rs: '2*m', x0: 'x0'} ) )"
   ]
  },
  {
   "cell_type": "markdown",
   "id": "7f87aa38",
   "metadata": {},
   "source": [
    "These normalized coefficients will give us the parameters $s_0$ and $\\lambda_0$ that we need for our AIM method!\n",
    "\n",
    "As the last step, we must compute at which point to evaluate our method, which is given by the point where the potential is maximum:\n",
    "$$\n",
    "\\frac{d^{(v)}V_{\\ell}^{SV}(y)}{dy}\\Big|_{y_{\\max}} = 0\n",
    "$$\n",
    "\n",
    "However, in this case, it is better to work directly on the $x$ coordinate and later convert back into $y$"
   ]
  },
  {
   "cell_type": "code",
   "execution_count": 54,
   "id": "2940606d",
   "metadata": {},
   "outputs": [
    {
     "data": {
      "text/latex": [
       "$\\displaystyle \\frac{r_{s} x \\left(\\frac{2 x^{2} \\left(- \\frac{r_{s}}{\\sqrt{x^{2} + x_{0}^{2}}} + 1\\right)}{\\left(x^{2} + x_{0}^{2}\\right)^{2}} + \\frac{\\ell \\left(\\ell + 1\\right) - 2}{x^{2} + x_{0}^{2}} + \\frac{3 r_{s} x^{2} - r_{s} x_{0}^{2} + 3 x_{0}^{2} \\sqrt{x^{2} + x_{0}^{2}}}{\\left(x^{2} + x_{0}^{2}\\right)^{\\frac{5}{2}}}\\right)}{\\left(x^{2} + x_{0}^{2}\\right)^{\\frac{3}{2}}} + \\left(- \\frac{r_{s}}{\\sqrt{x^{2} + x_{0}^{2}}} + 1\\right) \\left(\\frac{2 r_{s} x^{3}}{\\left(x^{2} + x_{0}^{2}\\right)^{\\frac{7}{2}}} - \\frac{8 x^{3} \\left(- \\frac{r_{s}}{\\sqrt{x^{2} + x_{0}^{2}}} + 1\\right)}{\\left(x^{2} + x_{0}^{2}\\right)^{3}} - \\frac{2 x \\left(\\ell \\left(\\ell + 1\\right) - 2\\right)}{\\left(x^{2} + x_{0}^{2}\\right)^{2}} + \\frac{4 x \\left(- \\frac{r_{s}}{\\sqrt{x^{2} + x_{0}^{2}}} + 1\\right)}{\\left(x^{2} + x_{0}^{2}\\right)^{2}} - \\frac{5 x \\left(3 r_{s} x^{2} - r_{s} x_{0}^{2} + 3 x_{0}^{2} \\sqrt{x^{2} + x_{0}^{2}}\\right)}{\\left(x^{2} + x_{0}^{2}\\right)^{\\frac{7}{2}}} + \\frac{6 r_{s} x + \\frac{3 x x_{0}^{2}}{\\sqrt{x^{2} + x_{0}^{2}}}}{\\left(x^{2} + x_{0}^{2}\\right)^{\\frac{5}{2}}}\\right)$"
      ],
      "text/plain": [
       "r_s*x*(2*x**2*(-r_s/sqrt(x**2 + x_0**2) + 1)/(x**2 + x_0**2)**2 + (ell*(ell + 1) - 2)/(x**2 + x_0**2) + (3*r_s*x**2 - r_s*x_0**2 + 3*x_0**2*sqrt(x**2 + x_0**2))/(x**2 + x_0**2)**(5/2))/(x**2 + x_0**2)**(3/2) + (-r_s/sqrt(x**2 + x_0**2) + 1)*(2*r_s*x**3/(x**2 + x_0**2)**(7/2) - 8*x**3*(-r_s/sqrt(x**2 + x_0**2) + 1)/(x**2 + x_0**2)**3 - 2*x*(ell*(ell + 1) - 2)/(x**2 + x_0**2)**2 + 4*x*(-r_s/sqrt(x**2 + x_0**2) + 1)/(x**2 + x_0**2)**2 - 5*x*(3*r_s*x**2 - r_s*x_0**2 + 3*x_0**2*sqrt(x**2 + x_0**2))/(x**2 + x_0**2)**(7/2) + (6*r_s*x + 3*x*x_0**2/sqrt(x**2 + x_0**2))/(x**2 + x_0**2)**(5/2))"
      ]
     },
     "execution_count": 54,
     "metadata": {},
     "output_type": "execute_result"
    }
   ],
   "source": [
    "# Compute derivative of potential (in terms of x coordinate)\n",
    "dV_sca = sp.Derivative(V_sca, x, evaluate = True)\n",
    "dV_sca"
   ]
  },
  {
   "cell_type": "code",
   "execution_count": 62,
   "id": "bb8b7f66",
   "metadata": {},
   "outputs": [
    {
     "data": {
      "text/latex": [
       "$\\displaystyle \\frac{x \\left(3 \\ell^{2} r_{s} x^{4} + 6 \\ell^{2} r_{s} x^{2} x_{0}^{2} + 3 \\ell^{2} r_{s} x_{0}^{4} - 2 \\ell^{2} x^{4} \\sqrt{x^{2} + x_{0}^{2}} - 4 \\ell^{2} x^{2} x_{0}^{2} \\sqrt{x^{2} + x_{0}^{2}} - 2 \\ell^{2} x_{0}^{4} \\sqrt{x^{2} + x_{0}^{2}} + 3 \\ell r_{s} x^{4} + 6 \\ell r_{s} x^{2} x_{0}^{2} + 3 \\ell r_{s} x_{0}^{4} - 2 \\ell x^{4} \\sqrt{x^{2} + x_{0}^{2}} - 4 \\ell x^{2} x_{0}^{2} \\sqrt{x^{2} + x_{0}^{2}} - 2 \\ell x_{0}^{4} \\sqrt{x^{2} + x_{0}^{2}} + 4 r_{s}^{2} x^{2} \\sqrt{x^{2} + x_{0}^{2}} - 8 r_{s}^{2} x_{0}^{2} \\sqrt{x^{2} + x_{0}^{2}} - 3 r_{s} x^{4} + 9 r_{s} x^{2} x_{0}^{2} + 12 r_{s} x_{0}^{4} - 4 x^{2} x_{0}^{2} \\sqrt{x^{2} + x_{0}^{2}} - 4 x_{0}^{4} \\sqrt{x^{2} + x_{0}^{2}}\\right)}{\\left(x^{2} + x_{0}^{2}\\right)^{\\frac{9}{2}}}$"
      ],
      "text/plain": [
       "x*(3*ell**2*r_s*x**4 + 6*ell**2*r_s*x**2*x_0**2 + 3*ell**2*r_s*x_0**4 - 2*ell**2*x**4*sqrt(x**2 + x_0**2) - 4*ell**2*x**2*x_0**2*sqrt(x**2 + x_0**2) - 2*ell**2*x_0**4*sqrt(x**2 + x_0**2) + 3*ell*r_s*x**4 + 6*ell*r_s*x**2*x_0**2 + 3*ell*r_s*x_0**4 - 2*ell*x**4*sqrt(x**2 + x_0**2) - 4*ell*x**2*x_0**2*sqrt(x**2 + x_0**2) - 2*ell*x_0**4*sqrt(x**2 + x_0**2) + 4*r_s**2*x**2*sqrt(x**2 + x_0**2) - 8*r_s**2*x_0**2*sqrt(x**2 + x_0**2) - 3*r_s*x**4 + 9*r_s*x**2*x_0**2 + 12*r_s*x_0**4 - 4*x**2*x_0**2*sqrt(x**2 + x_0**2) - 4*x_0**4*sqrt(x**2 + x_0**2))/(x**2 + x_0**2)**(9/2)"
      ]
     },
     "execution_count": 62,
     "metadata": {},
     "output_type": "execute_result"
    }
   ],
   "source": [
    "dV_sca.simplify().factor()"
   ]
  },
  {
   "cell_type": "code",
   "execution_count": 63,
   "id": "87d66c08",
   "metadata": {},
   "outputs": [
    {
     "data": {
      "text/plain": [
       "'x*(6*l**2*m*x**4 + 12*l**2*m*x**2*x0**2 + 6*l**2*m*x0**4 - 2*l**2*x**4*sqrt(x**2 + x0**2) - 4*l**2*x**2*x0**2*sqrt(x**2 + x0**2) - 2*l**2*x0**4*sqrt(x**2 + x0**2) + 6*l*m*x**4 + 12*l*m*x**2*x0**2 + 6*l*m*x0**4 - 2*l*x**4*sqrt(x**2 + x0**2) - 4*l*x**2*x0**2*sqrt(x**2 + x0**2) - 2*l*x0**4*sqrt(x**2 + x0**2) + 16*m**2*x**2*sqrt(x**2 + x0**2) - 32*m**2*x0**2*sqrt(x**2 + x0**2) - 6*m*x**4 + 18*m*x**2*x0**2 + 24*m*x0**4 - 4*x**2*x0**2*sqrt(x**2 + x0**2) - 4*x0**4*sqrt(x**2 + x0**2))/(x**2 + x0**2)**(9/2)'"
      ]
     },
     "execution_count": 63,
     "metadata": {},
     "output_type": "execute_result"
    }
   ],
   "source": [
    "# Display potential derivative as python code\n",
    "str(dV_sca.simplify().factor().subs( { l: 'l', w: 'w', x0: 'x0', rs: '2*m' } ))"
   ]
  },
  {
   "cell_type": "markdown",
   "id": "9d9aba1e",
   "metadata": {},
   "source": [
    "Also, finding the exact analytic expression takes a long time. It's easier to find the evaluation point numerically given the numeric parameters"
   ]
  },
  {
   "cell_type": "code",
   "execution_count": 73,
   "id": "96546c4c",
   "metadata": {},
   "outputs": [],
   "source": [
    "# Define numeric values\n",
    "x0_val = 0\n",
    "l_val = 1\n",
    "rs_val = 2"
   ]
  },
  {
   "cell_type": "code",
   "execution_count": 64,
   "id": "62688f7c",
   "metadata": {},
   "outputs": [
    {
     "data": {
      "text/latex": [
       "$\\displaystyle 2.88600093632938$"
      ],
      "text/plain": [
       "2.88600093632938"
      ]
     },
     "execution_count": 64,
     "metadata": {},
     "output_type": "execute_result"
    }
   ],
   "source": [
    "# Search for maximum point\n",
    "x_max_sca = sp.nsolve(dV_sca.subs( {rs: rs_val, l: l_val, x0: x0_val} ), x, 1)\n",
    "x_max_sca"
   ]
  },
  {
   "cell_type": "code",
   "execution_count": 65,
   "id": "3bee0702",
   "metadata": {},
   "outputs": [
    {
     "data": {
      "text/latex": [
       "$\\displaystyle 0.306999531835309$"
      ],
      "text/plain": [
       "0.306999531835309"
      ]
     },
     "execution_count": 65,
     "metadata": {},
     "output_type": "execute_result"
    }
   ],
   "source": [
    "# Convert that to y coordinate\n",
    "y_max_sca = G.subs({rs: 2, x0: 0, x: x_max_sca})\n",
    "y_max_sca"
   ]
  },
  {
   "cell_type": "markdown",
   "id": "91ad21fb",
   "metadata": {},
   "source": [
    "### **Axial (tensor) equation**"
   ]
  },
  {
   "cell_type": "code",
   "execution_count": 74,
   "id": "47f56187",
   "metadata": {},
   "outputs": [
    {
     "data": {
      "text/latex": [
       "$\\displaystyle \\left(\\omega^{2} - \\left(1 - \\frac{1}{\\sqrt{\\frac{1}{\\left(1 - y\\right)^{2}}}}\\right) \\left(\\frac{\\ell \\left(1 - y\\right)^{2} \\left(\\ell + 1\\right)}{r_{s}^{2}} - \\frac{3 r_{s} x_{0}^{2} \\sqrt{\\frac{1}{\\left(1 - y\\right)^{2}}} - r_{s} x_{0}^{2} + 3 r_{s} \\left(\\frac{r_{s}^{2}}{\\left(1 - y\\right)^{2}} - x_{0}^{2}\\right)}{r_{s}^{5} \\left(\\frac{1}{\\left(1 - y\\right)^{2}}\\right)^{\\frac{5}{2}}}\\right)\\right) \\phi{\\left(y \\right)} + \\frac{y^{2} \\left(1 - y\\right)^{6} \\left(\\frac{r_{s}^{2}}{\\left(1 - y\\right)^{2}} - x_{0}^{2}\\right) \\left(- \\frac{2 i \\omega r_{s} \\left(2 y^{2} - 4 y + 1\\right) \\frac{d}{d y} \\phi{\\left(y \\right)}}{y \\left(y - 1\\right)^{2}} + \\left(- \\frac{\\omega^{2} r_{s}^{2} \\left(2 y^{2} - 4 y + 1\\right)^{2}}{y^{2} \\left(y - 1\\right)^{4}} + \\frac{i \\omega r_{s} \\left(2 y^{3} - 6 y^{2} + 3 y - 1\\right)}{y^{2} \\left(y - 1\\right)^{3}}\\right) \\phi{\\left(y \\right)} + \\frac{d^{2}}{d y^{2}} \\phi{\\left(y \\right)}\\right)}{r_{s}^{4}} - \\frac{y \\left(y - 1\\right)^{3} \\left(- \\frac{i \\omega r_{s} \\left(2 y^{2} - 4 y + 1\\right) \\phi{\\left(y \\right)}}{y \\left(y - 1\\right)^{2}} + \\frac{d}{d y} \\phi{\\left(y \\right)}\\right) \\left(- 3 r_{s}^{2} y + r_{s}^{2} + 4 x_{0}^{2} y^{3} - 9 x_{0}^{2} y^{2} + 6 x_{0}^{2} y - x_{0}^{2}\\right)}{r_{s}^{4}} = 0$"
      ],
      "text/plain": [
       "Eq((omega**2 - (1 - 1/sqrt((1 - y)**(-2)))*(ell*(1 - y)**2*(ell + 1)/r_s**2 - (3*r_s*x_0**2*sqrt((1 - y)**(-2)) - r_s*x_0**2 + 3*r_s*(r_s**2/(1 - y)**2 - x_0**2))/(r_s**5*((1 - y)**(-2))**(5/2))))*phi(y) + y**2*(1 - y)**6*(r_s**2/(1 - y)**2 - x_0**2)*(-2*I*omega*r_s*(2*y**2 - 4*y + 1)*Derivative(phi(y), y)/(y*(y - 1)**2) + (-omega**2*r_s**2*(2*y**2 - 4*y + 1)**2/(y**2*(y - 1)**4) + I*omega*r_s*(2*y**3 - 6*y**2 + 3*y - 1)/(y**2*(y - 1)**3))*phi(y) + Derivative(phi(y), (y, 2)))/r_s**4 - y*(y - 1)**3*(-I*omega*r_s*(2*y**2 - 4*y + 1)*phi(y)/(y*(y - 1)**2) + Derivative(phi(y), y))*(-3*r_s**2*y + r_s**2 + 4*x_0**2*y**3 - 9*x_0**2*y**2 + 6*x_0**2*y - x_0**2)/r_s**4, 0)"
      ]
     },
     "metadata": {},
     "output_type": "display_data"
    }
   ],
   "source": [
    "# First, insert potential\n",
    "eq_axi_pot = eq.subs( pot, V_axi )\n",
    "# Second, change of variable\n",
    "eq_axi_chvar = eq_axi_pot.subs( ddpsi_star, ddpsi_y ).subs(psi, psi_y).subs(x, var_change_x)\n",
    "# Third, insert boundary conditions\n",
    "eq_axi_bc = eq_axi_chvar.subs( {sp.Derivative(psi_y, y): dpsi_bc, sp.Derivative(sp.Derivative(psi_y, y), y): ddpsi_bc, psi_y: phi} ) # .doit()\n",
    "# Define axial equation with change of variable and boundary condition\n",
    "eq_axi = eq_axi_bc\n",
    "# Display\n",
    "display(eq_axi)"
   ]
  },
  {
   "cell_type": "code",
   "execution_count": 75,
   "id": "14082ba7",
   "metadata": {},
   "outputs": [
    {
     "data": {
      "text/latex": [
       "$\\displaystyle - \\frac{y^{2} \\left(y - 1\\right)^{4} \\left(- r_{s} + x_{0} y - x_{0}\\right) \\left(r_{s} + x_{0} y - x_{0}\\right)}{r_{s}^{4}}$"
      ],
      "text/plain": [
       "-y**2*(y - 1)**4*(-r_s + x_0*y - x_0)*(r_s + x_0*y - x_0)/r_s**4"
      ]
     },
     "metadata": {},
     "output_type": "display_data"
    }
   ],
   "source": [
    "# Extract term accompanying second derivative\n",
    "norm_axi = eq_axi.lhs.expand().coeff(ddphi).factor()\n",
    "display(norm_axi)"
   ]
  },
  {
   "cell_type": "code",
   "execution_count": 76,
   "id": "7897cc91",
   "metadata": {},
   "outputs": [
    {
     "data": {
      "text/latex": [
       "$\\displaystyle \\left(\\frac{y^{8}}{r_{s}^{2} y^{2} - 2 r_{s}^{2} y + r_{s}^{2}} - \\frac{6 y^{7}}{r_{s}^{2} y^{2} - 2 r_{s}^{2} y + r_{s}^{2}} + \\frac{15 y^{6}}{r_{s}^{2} y^{2} - 2 r_{s}^{2} y + r_{s}^{2}} - \\frac{20 y^{5}}{r_{s}^{2} y^{2} - 2 r_{s}^{2} y + r_{s}^{2}} + \\frac{15 y^{4}}{r_{s}^{2} y^{2} - 2 r_{s}^{2} y + r_{s}^{2}} - \\frac{6 y^{3}}{r_{s}^{2} y^{2} - 2 r_{s}^{2} y + r_{s}^{2}} + \\frac{y^{2}}{r_{s}^{2} y^{2} - 2 r_{s}^{2} y + r_{s}^{2}} - \\frac{x_{0}^{2} y^{8}}{r_{s}^{4}} + \\frac{6 x_{0}^{2} y^{7}}{r_{s}^{4}} - \\frac{15 x_{0}^{2} y^{6}}{r_{s}^{4}} + \\frac{20 x_{0}^{2} y^{5}}{r_{s}^{4}} - \\frac{15 x_{0}^{2} y^{4}}{r_{s}^{4}} + \\frac{6 x_{0}^{2} y^{3}}{r_{s}^{4}} - \\frac{x_{0}^{2} y^{2}}{r_{s}^{4}}\\right) \\frac{d^{2}}{d y^{2}} \\phi{\\left(y \\right)} + \\left(\\frac{4 i \\omega x_{0}^{2} y^{10}}{r_{s}^{3} y^{3} - 2 r_{s}^{3} y^{2} + r_{s}^{3} y} - \\frac{32 i \\omega x_{0}^{2} y^{9}}{r_{s}^{3} y^{3} - 2 r_{s}^{3} y^{2} + r_{s}^{3} y} + \\frac{110 i \\omega x_{0}^{2} y^{8}}{r_{s}^{3} y^{3} - 2 r_{s}^{3} y^{2} + r_{s}^{3} y} - \\frac{212 i \\omega x_{0}^{2} y^{7}}{r_{s}^{3} y^{3} - 2 r_{s}^{3} y^{2} + r_{s}^{3} y} + \\frac{250 i \\omega x_{0}^{2} y^{6}}{r_{s}^{3} y^{3} - 2 r_{s}^{3} y^{2} + r_{s}^{3} y} - \\frac{184 i \\omega x_{0}^{2} y^{5}}{r_{s}^{3} y^{3} - 2 r_{s}^{3} y^{2} + r_{s}^{3} y} + \\frac{82 i \\omega x_{0}^{2} y^{4}}{r_{s}^{3} y^{3} - 2 r_{s}^{3} y^{2} + r_{s}^{3} y} - \\frac{20 i \\omega x_{0}^{2} y^{3}}{r_{s}^{3} y^{3} - 2 r_{s}^{3} y^{2} + r_{s}^{3} y} + \\frac{2 i \\omega x_{0}^{2} y^{2}}{r_{s}^{3} y^{3} - 2 r_{s}^{3} y^{2} + r_{s}^{3} y} - \\frac{4 i \\omega y^{10}}{r_{s} y^{5} - 4 r_{s} y^{4} + 6 r_{s} y^{3} - 4 r_{s} y^{2} + r_{s} y} + \\frac{32 i \\omega y^{9}}{r_{s} y^{5} - 4 r_{s} y^{4} + 6 r_{s} y^{3} - 4 r_{s} y^{2} + r_{s} y} - \\frac{110 i \\omega y^{8}}{r_{s} y^{5} - 4 r_{s} y^{4} + 6 r_{s} y^{3} - 4 r_{s} y^{2} + r_{s} y} + \\frac{212 i \\omega y^{7}}{r_{s} y^{5} - 4 r_{s} y^{4} + 6 r_{s} y^{3} - 4 r_{s} y^{2} + r_{s} y} - \\frac{250 i \\omega y^{6}}{r_{s} y^{5} - 4 r_{s} y^{4} + 6 r_{s} y^{3} - 4 r_{s} y^{2} + r_{s} y} + \\frac{184 i \\omega y^{5}}{r_{s} y^{5} - 4 r_{s} y^{4} + 6 r_{s} y^{3} - 4 r_{s} y^{2} + r_{s} y} - \\frac{82 i \\omega y^{4}}{r_{s} y^{5} - 4 r_{s} y^{4} + 6 r_{s} y^{3} - 4 r_{s} y^{2} + r_{s} y} + \\frac{20 i \\omega y^{3}}{r_{s} y^{5} - 4 r_{s} y^{4} + 6 r_{s} y^{3} - 4 r_{s} y^{2} + r_{s} y} - \\frac{2 i \\omega y^{2}}{r_{s} y^{5} - 4 r_{s} y^{4} + 6 r_{s} y^{3} - 4 r_{s} y^{2} + r_{s} y} + \\frac{3 y^{5}}{r_{s}^{2}} - \\frac{10 y^{4}}{r_{s}^{2}} + \\frac{12 y^{3}}{r_{s}^{2}} - \\frac{6 y^{2}}{r_{s}^{2}} + \\frac{y}{r_{s}^{2}} - \\frac{4 x_{0}^{2} y^{7}}{r_{s}^{4}} + \\frac{21 x_{0}^{2} y^{6}}{r_{s}^{4}} - \\frac{45 x_{0}^{2} y^{5}}{r_{s}^{4}} + \\frac{50 x_{0}^{2} y^{4}}{r_{s}^{4}} - \\frac{30 x_{0}^{2} y^{3}}{r_{s}^{4}} + \\frac{9 x_{0}^{2} y^{2}}{r_{s}^{4}} - \\frac{x_{0}^{2} y}{r_{s}^{4}}\\right) \\frac{d}{d y} \\phi{\\left(y \\right)} + \\left(- \\frac{\\ell^{2} y^{2}}{r_{s}^{2}} + \\frac{\\ell^{2} y^{2}}{r_{s}^{2} \\sqrt{\\frac{1}{y^{2} - 2 y + 1}}} + \\frac{2 \\ell^{2} y}{r_{s}^{2}} - \\frac{2 \\ell^{2} y}{r_{s}^{2} \\sqrt{\\frac{1}{y^{2} - 2 y + 1}}} - \\frac{\\ell^{2}}{r_{s}^{2}} + \\frac{\\ell^{2}}{r_{s}^{2} \\sqrt{\\frac{1}{y^{2} - 2 y + 1}}} - \\frac{\\ell y^{2}}{r_{s}^{2}} + \\frac{\\ell y^{2}}{r_{s}^{2} \\sqrt{\\frac{1}{y^{2} - 2 y + 1}}} + \\frac{2 \\ell y}{r_{s}^{2}} - \\frac{2 \\ell y}{r_{s}^{2} \\sqrt{\\frac{1}{y^{2} - 2 y + 1}}} - \\frac{\\ell}{r_{s}^{2}} + \\frac{\\ell}{r_{s}^{2} \\sqrt{\\frac{1}{y^{2} - 2 y + 1}}} + \\frac{4 \\omega^{2} x_{0}^{2} y^{12}}{r_{s}^{2} y^{6} - 4 r_{s}^{2} y^{5} + 6 r_{s}^{2} y^{4} - 4 r_{s}^{2} y^{3} + r_{s}^{2} y^{2}} - \\frac{40 \\omega^{2} x_{0}^{2} y^{11}}{r_{s}^{2} y^{6} - 4 r_{s}^{2} y^{5} + 6 r_{s}^{2} y^{4} - 4 r_{s}^{2} y^{3} + r_{s}^{2} y^{2}} + \\frac{176 \\omega^{2} x_{0}^{2} y^{10}}{r_{s}^{2} y^{6} - 4 r_{s}^{2} y^{5} + 6 r_{s}^{2} y^{4} - 4 r_{s}^{2} y^{3} + r_{s}^{2} y^{2}} - \\frac{448 \\omega^{2} x_{0}^{2} y^{9}}{r_{s}^{2} y^{6} - 4 r_{s}^{2} y^{5} + 6 r_{s}^{2} y^{4} - 4 r_{s}^{2} y^{3} + r_{s}^{2} y^{2}} + \\frac{729 \\omega^{2} x_{0}^{2} y^{8}}{r_{s}^{2} y^{6} - 4 r_{s}^{2} y^{5} + 6 r_{s}^{2} y^{4} - 4 r_{s}^{2} y^{3} + r_{s}^{2} y^{2}} - \\frac{790 \\omega^{2} x_{0}^{2} y^{7}}{r_{s}^{2} y^{6} - 4 r_{s}^{2} y^{5} + 6 r_{s}^{2} y^{4} - 4 r_{s}^{2} y^{3} + r_{s}^{2} y^{2}} + \\frac{575 \\omega^{2} x_{0}^{2} y^{6}}{r_{s}^{2} y^{6} - 4 r_{s}^{2} y^{5} + 6 r_{s}^{2} y^{4} - 4 r_{s}^{2} y^{3} + r_{s}^{2} y^{2}} - \\frac{276 \\omega^{2} x_{0}^{2} y^{5}}{r_{s}^{2} y^{6} - 4 r_{s}^{2} y^{5} + 6 r_{s}^{2} y^{4} - 4 r_{s}^{2} y^{3} + r_{s}^{2} y^{2}} + \\frac{83 \\omega^{2} x_{0}^{2} y^{4}}{r_{s}^{2} y^{6} - 4 r_{s}^{2} y^{5} + 6 r_{s}^{2} y^{4} - 4 r_{s}^{2} y^{3} + r_{s}^{2} y^{2}} - \\frac{14 \\omega^{2} x_{0}^{2} y^{3}}{r_{s}^{2} y^{6} - 4 r_{s}^{2} y^{5} + 6 r_{s}^{2} y^{4} - 4 r_{s}^{2} y^{3} + r_{s}^{2} y^{2}} + \\frac{\\omega^{2} x_{0}^{2} y^{2}}{r_{s}^{2} y^{6} - 4 r_{s}^{2} y^{5} + 6 r_{s}^{2} y^{4} - 4 r_{s}^{2} y^{3} + r_{s}^{2} y^{2}} - \\frac{4 \\omega^{2} y^{12}}{y^{8} - 6 y^{7} + 15 y^{6} - 20 y^{5} + 15 y^{4} - 6 y^{3} + y^{2}} + \\frac{40 \\omega^{2} y^{11}}{y^{8} - 6 y^{7} + 15 y^{6} - 20 y^{5} + 15 y^{4} - 6 y^{3} + y^{2}} - \\frac{176 \\omega^{2} y^{10}}{y^{8} - 6 y^{7} + 15 y^{6} - 20 y^{5} + 15 y^{4} - 6 y^{3} + y^{2}} + \\frac{448 \\omega^{2} y^{9}}{y^{8} - 6 y^{7} + 15 y^{6} - 20 y^{5} + 15 y^{4} - 6 y^{3} + y^{2}} - \\frac{729 \\omega^{2} y^{8}}{y^{8} - 6 y^{7} + 15 y^{6} - 20 y^{5} + 15 y^{4} - 6 y^{3} + y^{2}} + \\frac{790 \\omega^{2} y^{7}}{y^{8} - 6 y^{7} + 15 y^{6} - 20 y^{5} + 15 y^{4} - 6 y^{3} + y^{2}} - \\frac{575 \\omega^{2} y^{6}}{y^{8} - 6 y^{7} + 15 y^{6} - 20 y^{5} + 15 y^{4} - 6 y^{3} + y^{2}} + \\frac{276 \\omega^{2} y^{5}}{y^{8} - 6 y^{7} + 15 y^{6} - 20 y^{5} + 15 y^{4} - 6 y^{3} + y^{2}} - \\frac{83 \\omega^{2} y^{4}}{y^{8} - 6 y^{7} + 15 y^{6} - 20 y^{5} + 15 y^{4} - 6 y^{3} + y^{2}} + \\frac{14 \\omega^{2} y^{3}}{y^{8} - 6 y^{7} + 15 y^{6} - 20 y^{5} + 15 y^{4} - 6 y^{3} + y^{2}} - \\frac{\\omega^{2} y^{2}}{y^{8} - 6 y^{7} + 15 y^{6} - 20 y^{5} + 15 y^{4} - 6 y^{3} + y^{2}} + \\omega^{2} - \\frac{2 i \\omega x_{0}^{2} y^{11}}{r_{s}^{3} y^{5} - 3 r_{s}^{3} y^{4} + 3 r_{s}^{3} y^{3} - r_{s}^{3} y^{2}} + \\frac{18 i \\omega x_{0}^{2} y^{10}}{r_{s}^{3} y^{5} - 3 r_{s}^{3} y^{4} + 3 r_{s}^{3} y^{3} - r_{s}^{3} y^{2}} - \\frac{69 i \\omega x_{0}^{2} y^{9}}{r_{s}^{3} y^{5} - 3 r_{s}^{3} y^{4} + 3 r_{s}^{3} y^{3} - r_{s}^{3} y^{2}} + \\frac{8 i \\omega x_{0}^{2} y^{9}}{r_{s}^{3} y^{3} - 2 r_{s}^{3} y^{2} + r_{s}^{3} y} + \\frac{149 i \\omega x_{0}^{2} y^{8}}{r_{s}^{3} y^{5} - 3 r_{s}^{3} y^{4} + 3 r_{s}^{3} y^{3} - r_{s}^{3} y^{2}} - \\frac{58 i \\omega x_{0}^{2} y^{8}}{r_{s}^{3} y^{3} - 2 r_{s}^{3} y^{2} + r_{s}^{3} y} - \\frac{201 i \\omega x_{0}^{2} y^{7}}{r_{s}^{3} y^{5} - 3 r_{s}^{3} y^{4} + 3 r_{s}^{3} y^{3} - r_{s}^{3} y^{2}} + \\frac{178 i \\omega x_{0}^{2} y^{7}}{r_{s}^{3} y^{3} - 2 r_{s}^{3} y^{2} + r_{s}^{3} y} + \\frac{177 i \\omega x_{0}^{2} y^{6}}{r_{s}^{3} y^{5} - 3 r_{s}^{3} y^{4} + 3 r_{s}^{3} y^{3} - r_{s}^{3} y^{2}} - \\frac{301 i \\omega x_{0}^{2} y^{6}}{r_{s}^{3} y^{3} - 2 r_{s}^{3} y^{2} + r_{s}^{3} y} - \\frac{103 i \\omega x_{0}^{2} y^{5}}{r_{s}^{3} y^{5} - 3 r_{s}^{3} y^{4} + 3 r_{s}^{3} y^{3} - r_{s}^{3} y^{2}} + \\frac{305 i \\omega x_{0}^{2} y^{5}}{r_{s}^{3} y^{3} - 2 r_{s}^{3} y^{2} + r_{s}^{3} y} + \\frac{39 i \\omega x_{0}^{2} y^{4}}{r_{s}^{3} y^{5} - 3 r_{s}^{3} y^{4} + 3 r_{s}^{3} y^{3} - r_{s}^{3} y^{2}} - \\frac{188 i \\omega x_{0}^{2} y^{4}}{r_{s}^{3} y^{3} - 2 r_{s}^{3} y^{2} + r_{s}^{3} y} - \\frac{9 i \\omega x_{0}^{2} y^{3}}{r_{s}^{3} y^{5} - 3 r_{s}^{3} y^{4} + 3 r_{s}^{3} y^{3} - r_{s}^{3} y^{2}} + \\frac{68 i \\omega x_{0}^{2} y^{3}}{r_{s}^{3} y^{3} - 2 r_{s}^{3} y^{2} + r_{s}^{3} y} + \\frac{i \\omega x_{0}^{2} y^{2}}{r_{s}^{3} y^{5} - 3 r_{s}^{3} y^{4} + 3 r_{s}^{3} y^{3} - r_{s}^{3} y^{2}} - \\frac{13 i \\omega x_{0}^{2} y^{2}}{r_{s}^{3} y^{3} - 2 r_{s}^{3} y^{2} + r_{s}^{3} y} + \\frac{i \\omega x_{0}^{2} y}{r_{s}^{3} y^{3} - 2 r_{s}^{3} y^{2} + r_{s}^{3} y} + \\frac{2 i \\omega y^{11}}{r_{s} y^{7} - 5 r_{s} y^{6} + 10 r_{s} y^{5} - 10 r_{s} y^{4} + 5 r_{s} y^{3} - r_{s} y^{2}} - \\frac{18 i \\omega y^{10}}{r_{s} y^{7} - 5 r_{s} y^{6} + 10 r_{s} y^{5} - 10 r_{s} y^{4} + 5 r_{s} y^{3} - r_{s} y^{2}} + \\frac{69 i \\omega y^{9}}{r_{s} y^{7} - 5 r_{s} y^{6} + 10 r_{s} y^{5} - 10 r_{s} y^{4} + 5 r_{s} y^{3} - r_{s} y^{2}} - \\frac{149 i \\omega y^{8}}{r_{s} y^{7} - 5 r_{s} y^{6} + 10 r_{s} y^{5} - 10 r_{s} y^{4} + 5 r_{s} y^{3} - r_{s} y^{2}} + \\frac{201 i \\omega y^{7}}{r_{s} y^{7} - 5 r_{s} y^{6} + 10 r_{s} y^{5} - 10 r_{s} y^{4} + 5 r_{s} y^{3} - r_{s} y^{2}} - \\frac{6 i \\omega y^{7}}{r_{s} y^{3} - 2 r_{s} y^{2} + r_{s} y} - \\frac{177 i \\omega y^{6}}{r_{s} y^{7} - 5 r_{s} y^{6} + 10 r_{s} y^{5} - 10 r_{s} y^{4} + 5 r_{s} y^{3} - r_{s} y^{2}} + \\frac{32 i \\omega y^{6}}{r_{s} y^{3} - 2 r_{s} y^{2} + r_{s} y} + \\frac{103 i \\omega y^{5}}{r_{s} y^{7} - 5 r_{s} y^{6} + 10 r_{s} y^{5} - 10 r_{s} y^{4} + 5 r_{s} y^{3} - r_{s} y^{2}} - \\frac{67 i \\omega y^{5}}{r_{s} y^{3} - 2 r_{s} y^{2} + r_{s} y} - \\frac{39 i \\omega y^{4}}{r_{s} y^{7} - 5 r_{s} y^{6} + 10 r_{s} y^{5} - 10 r_{s} y^{4} + 5 r_{s} y^{3} - r_{s} y^{2}} + \\frac{70 i \\omega y^{4}}{r_{s} y^{3} - 2 r_{s} y^{2} + r_{s} y} + \\frac{9 i \\omega y^{3}}{r_{s} y^{7} - 5 r_{s} y^{6} + 10 r_{s} y^{5} - 10 r_{s} y^{4} + 5 r_{s} y^{3} - r_{s} y^{2}} - \\frac{38 i \\omega y^{3}}{r_{s} y^{3} - 2 r_{s} y^{2} + r_{s} y} - \\frac{i \\omega y^{2}}{r_{s} y^{7} - 5 r_{s} y^{6} + 10 r_{s} y^{5} - 10 r_{s} y^{4} + 5 r_{s} y^{3} - r_{s} y^{2}} + \\frac{10 i \\omega y^{2}}{r_{s} y^{3} - 2 r_{s} y^{2} + r_{s} y} - \\frac{i \\omega y}{r_{s} y^{3} - 2 r_{s} y^{2} + r_{s} y} + \\frac{3}{r_{s}^{2} y^{2} \\left(\\frac{1}{y^{2} - 2 y + 1}\\right)^{\\frac{5}{2}} - 2 r_{s}^{2} y \\left(\\frac{1}{y^{2} - 2 y + 1}\\right)^{\\frac{5}{2}} + r_{s}^{2} \\left(\\frac{1}{y^{2} - 2 y + 1}\\right)^{\\frac{5}{2}}} - \\frac{3 y^{4}}{r_{s}^{2}} + \\frac{12 y^{3}}{r_{s}^{2}} - \\frac{18 y^{2}}{r_{s}^{2}} + \\frac{12 y}{r_{s}^{2}} - \\frac{3}{r_{s}^{2}} + \\frac{4 x_{0}^{2} y^{6}}{r_{s}^{4}} - \\frac{24 x_{0}^{2} y^{5}}{r_{s}^{4}} + \\frac{63 x_{0}^{2} y^{4}}{r_{s}^{4}} - \\frac{3 x_{0}^{2} y^{4}}{r_{s}^{4} \\sqrt{\\frac{1}{y^{2} - 2 y + 1}}} - \\frac{92 x_{0}^{2} y^{3}}{r_{s}^{4}} + \\frac{12 x_{0}^{2} y^{3}}{r_{s}^{4} \\sqrt{\\frac{1}{y^{2} - 2 y + 1}}} + \\frac{78 x_{0}^{2} y^{2}}{r_{s}^{4}} - \\frac{18 x_{0}^{2} y^{2}}{r_{s}^{4} \\sqrt{\\frac{1}{y^{2} - 2 y + 1}}} - \\frac{36 x_{0}^{2} y}{r_{s}^{4}} + \\frac{12 x_{0}^{2} y}{r_{s}^{4} \\sqrt{\\frac{1}{y^{2} - 2 y + 1}}} + \\frac{7 x_{0}^{2}}{r_{s}^{4}} - \\frac{3 x_{0}^{2}}{r_{s}^{4} \\sqrt{\\frac{1}{y^{2} - 2 y + 1}}} - \\frac{4 x_{0}^{2}}{r_{s}^{4} \\left(\\frac{1}{y^{2} - 2 y + 1}\\right)^{\\frac{5}{2}}}\\right) \\phi{\\left(y \\right)}$"
      ],
      "text/plain": [
       "(y**8/(r_s**2*y**2 - 2*r_s**2*y + r_s**2) - 6*y**7/(r_s**2*y**2 - 2*r_s**2*y + r_s**2) + 15*y**6/(r_s**2*y**2 - 2*r_s**2*y + r_s**2) - 20*y**5/(r_s**2*y**2 - 2*r_s**2*y + r_s**2) + 15*y**4/(r_s**2*y**2 - 2*r_s**2*y + r_s**2) - 6*y**3/(r_s**2*y**2 - 2*r_s**2*y + r_s**2) + y**2/(r_s**2*y**2 - 2*r_s**2*y + r_s**2) - x_0**2*y**8/r_s**4 + 6*x_0**2*y**7/r_s**4 - 15*x_0**2*y**6/r_s**4 + 20*x_0**2*y**5/r_s**4 - 15*x_0**2*y**4/r_s**4 + 6*x_0**2*y**3/r_s**4 - x_0**2*y**2/r_s**4)*Derivative(phi(y), (y, 2)) + (4*I*omega*x_0**2*y**10/(r_s**3*y**3 - 2*r_s**3*y**2 + r_s**3*y) - 32*I*omega*x_0**2*y**9/(r_s**3*y**3 - 2*r_s**3*y**2 + r_s**3*y) + 110*I*omega*x_0**2*y**8/(r_s**3*y**3 - 2*r_s**3*y**2 + r_s**3*y) - 212*I*omega*x_0**2*y**7/(r_s**3*y**3 - 2*r_s**3*y**2 + r_s**3*y) + 250*I*omega*x_0**2*y**6/(r_s**3*y**3 - 2*r_s**3*y**2 + r_s**3*y) - 184*I*omega*x_0**2*y**5/(r_s**3*y**3 - 2*r_s**3*y**2 + r_s**3*y) + 82*I*omega*x_0**2*y**4/(r_s**3*y**3 - 2*r_s**3*y**2 + r_s**3*y) - 20*I*omega*x_0**2*y**3/(r_s**3*y**3 - 2*r_s**3*y**2 + r_s**3*y) + 2*I*omega*x_0**2*y**2/(r_s**3*y**3 - 2*r_s**3*y**2 + r_s**3*y) - 4*I*omega*y**10/(r_s*y**5 - 4*r_s*y**4 + 6*r_s*y**3 - 4*r_s*y**2 + r_s*y) + 32*I*omega*y**9/(r_s*y**5 - 4*r_s*y**4 + 6*r_s*y**3 - 4*r_s*y**2 + r_s*y) - 110*I*omega*y**8/(r_s*y**5 - 4*r_s*y**4 + 6*r_s*y**3 - 4*r_s*y**2 + r_s*y) + 212*I*omega*y**7/(r_s*y**5 - 4*r_s*y**4 + 6*r_s*y**3 - 4*r_s*y**2 + r_s*y) - 250*I*omega*y**6/(r_s*y**5 - 4*r_s*y**4 + 6*r_s*y**3 - 4*r_s*y**2 + r_s*y) + 184*I*omega*y**5/(r_s*y**5 - 4*r_s*y**4 + 6*r_s*y**3 - 4*r_s*y**2 + r_s*y) - 82*I*omega*y**4/(r_s*y**5 - 4*r_s*y**4 + 6*r_s*y**3 - 4*r_s*y**2 + r_s*y) + 20*I*omega*y**3/(r_s*y**5 - 4*r_s*y**4 + 6*r_s*y**3 - 4*r_s*y**2 + r_s*y) - 2*I*omega*y**2/(r_s*y**5 - 4*r_s*y**4 + 6*r_s*y**3 - 4*r_s*y**2 + r_s*y) + 3*y**5/r_s**2 - 10*y**4/r_s**2 + 12*y**3/r_s**2 - 6*y**2/r_s**2 + y/r_s**2 - 4*x_0**2*y**7/r_s**4 + 21*x_0**2*y**6/r_s**4 - 45*x_0**2*y**5/r_s**4 + 50*x_0**2*y**4/r_s**4 - 30*x_0**2*y**3/r_s**4 + 9*x_0**2*y**2/r_s**4 - x_0**2*y/r_s**4)*Derivative(phi(y), y) + (-ell**2*y**2/r_s**2 + ell**2*y**2/(r_s**2*sqrt(1/(y**2 - 2*y + 1))) + 2*ell**2*y/r_s**2 - 2*ell**2*y/(r_s**2*sqrt(1/(y**2 - 2*y + 1))) - ell**2/r_s**2 + ell**2/(r_s**2*sqrt(1/(y**2 - 2*y + 1))) - ell*y**2/r_s**2 + ell*y**2/(r_s**2*sqrt(1/(y**2 - 2*y + 1))) + 2*ell*y/r_s**2 - 2*ell*y/(r_s**2*sqrt(1/(y**2 - 2*y + 1))) - ell/r_s**2 + ell/(r_s**2*sqrt(1/(y**2 - 2*y + 1))) + 4*omega**2*x_0**2*y**12/(r_s**2*y**6 - 4*r_s**2*y**5 + 6*r_s**2*y**4 - 4*r_s**2*y**3 + r_s**2*y**2) - 40*omega**2*x_0**2*y**11/(r_s**2*y**6 - 4*r_s**2*y**5 + 6*r_s**2*y**4 - 4*r_s**2*y**3 + r_s**2*y**2) + 176*omega**2*x_0**2*y**10/(r_s**2*y**6 - 4*r_s**2*y**5 + 6*r_s**2*y**4 - 4*r_s**2*y**3 + r_s**2*y**2) - 448*omega**2*x_0**2*y**9/(r_s**2*y**6 - 4*r_s**2*y**5 + 6*r_s**2*y**4 - 4*r_s**2*y**3 + r_s**2*y**2) + 729*omega**2*x_0**2*y**8/(r_s**2*y**6 - 4*r_s**2*y**5 + 6*r_s**2*y**4 - 4*r_s**2*y**3 + r_s**2*y**2) - 790*omega**2*x_0**2*y**7/(r_s**2*y**6 - 4*r_s**2*y**5 + 6*r_s**2*y**4 - 4*r_s**2*y**3 + r_s**2*y**2) + 575*omega**2*x_0**2*y**6/(r_s**2*y**6 - 4*r_s**2*y**5 + 6*r_s**2*y**4 - 4*r_s**2*y**3 + r_s**2*y**2) - 276*omega**2*x_0**2*y**5/(r_s**2*y**6 - 4*r_s**2*y**5 + 6*r_s**2*y**4 - 4*r_s**2*y**3 + r_s**2*y**2) + 83*omega**2*x_0**2*y**4/(r_s**2*y**6 - 4*r_s**2*y**5 + 6*r_s**2*y**4 - 4*r_s**2*y**3 + r_s**2*y**2) - 14*omega**2*x_0**2*y**3/(r_s**2*y**6 - 4*r_s**2*y**5 + 6*r_s**2*y**4 - 4*r_s**2*y**3 + r_s**2*y**2) + omega**2*x_0**2*y**2/(r_s**2*y**6 - 4*r_s**2*y**5 + 6*r_s**2*y**4 - 4*r_s**2*y**3 + r_s**2*y**2) - 4*omega**2*y**12/(y**8 - 6*y**7 + 15*y**6 - 20*y**5 + 15*y**4 - 6*y**3 + y**2) + 40*omega**2*y**11/(y**8 - 6*y**7 + 15*y**6 - 20*y**5 + 15*y**4 - 6*y**3 + y**2) - 176*omega**2*y**10/(y**8 - 6*y**7 + 15*y**6 - 20*y**5 + 15*y**4 - 6*y**3 + y**2) + 448*omega**2*y**9/(y**8 - 6*y**7 + 15*y**6 - 20*y**5 + 15*y**4 - 6*y**3 + y**2) - 729*omega**2*y**8/(y**8 - 6*y**7 + 15*y**6 - 20*y**5 + 15*y**4 - 6*y**3 + y**2) + 790*omega**2*y**7/(y**8 - 6*y**7 + 15*y**6 - 20*y**5 + 15*y**4 - 6*y**3 + y**2) - 575*omega**2*y**6/(y**8 - 6*y**7 + 15*y**6 - 20*y**5 + 15*y**4 - 6*y**3 + y**2) + 276*omega**2*y**5/(y**8 - 6*y**7 + 15*y**6 - 20*y**5 + 15*y**4 - 6*y**3 + y**2) - 83*omega**2*y**4/(y**8 - 6*y**7 + 15*y**6 - 20*y**5 + 15*y**4 - 6*y**3 + y**2) + 14*omega**2*y**3/(y**8 - 6*y**7 + 15*y**6 - 20*y**5 + 15*y**4 - 6*y**3 + y**2) - omega**2*y**2/(y**8 - 6*y**7 + 15*y**6 - 20*y**5 + 15*y**4 - 6*y**3 + y**2) + omega**2 - 2*I*omega*x_0**2*y**11/(r_s**3*y**5 - 3*r_s**3*y**4 + 3*r_s**3*y**3 - r_s**3*y**2) + 18*I*omega*x_0**2*y**10/(r_s**3*y**5 - 3*r_s**3*y**4 + 3*r_s**3*y**3 - r_s**3*y**2) - 69*I*omega*x_0**2*y**9/(r_s**3*y**5 - 3*r_s**3*y**4 + 3*r_s**3*y**3 - r_s**3*y**2) + 8*I*omega*x_0**2*y**9/(r_s**3*y**3 - 2*r_s**3*y**2 + r_s**3*y) + 149*I*omega*x_0**2*y**8/(r_s**3*y**5 - 3*r_s**3*y**4 + 3*r_s**3*y**3 - r_s**3*y**2) - 58*I*omega*x_0**2*y**8/(r_s**3*y**3 - 2*r_s**3*y**2 + r_s**3*y) - 201*I*omega*x_0**2*y**7/(r_s**3*y**5 - 3*r_s**3*y**4 + 3*r_s**3*y**3 - r_s**3*y**2) + 178*I*omega*x_0**2*y**7/(r_s**3*y**3 - 2*r_s**3*y**2 + r_s**3*y) + 177*I*omega*x_0**2*y**6/(r_s**3*y**5 - 3*r_s**3*y**4 + 3*r_s**3*y**3 - r_s**3*y**2) - 301*I*omega*x_0**2*y**6/(r_s**3*y**3 - 2*r_s**3*y**2 + r_s**3*y) - 103*I*omega*x_0**2*y**5/(r_s**3*y**5 - 3*r_s**3*y**4 + 3*r_s**3*y**3 - r_s**3*y**2) + 305*I*omega*x_0**2*y**5/(r_s**3*y**3 - 2*r_s**3*y**2 + r_s**3*y) + 39*I*omega*x_0**2*y**4/(r_s**3*y**5 - 3*r_s**3*y**4 + 3*r_s**3*y**3 - r_s**3*y**2) - 188*I*omega*x_0**2*y**4/(r_s**3*y**3 - 2*r_s**3*y**2 + r_s**3*y) - 9*I*omega*x_0**2*y**3/(r_s**3*y**5 - 3*r_s**3*y**4 + 3*r_s**3*y**3 - r_s**3*y**2) + 68*I*omega*x_0**2*y**3/(r_s**3*y**3 - 2*r_s**3*y**2 + r_s**3*y) + I*omega*x_0**2*y**2/(r_s**3*y**5 - 3*r_s**3*y**4 + 3*r_s**3*y**3 - r_s**3*y**2) - 13*I*omega*x_0**2*y**2/(r_s**3*y**3 - 2*r_s**3*y**2 + r_s**3*y) + I*omega*x_0**2*y/(r_s**3*y**3 - 2*r_s**3*y**2 + r_s**3*y) + 2*I*omega*y**11/(r_s*y**7 - 5*r_s*y**6 + 10*r_s*y**5 - 10*r_s*y**4 + 5*r_s*y**3 - r_s*y**2) - 18*I*omega*y**10/(r_s*y**7 - 5*r_s*y**6 + 10*r_s*y**5 - 10*r_s*y**4 + 5*r_s*y**3 - r_s*y**2) + 69*I*omega*y**9/(r_s*y**7 - 5*r_s*y**6 + 10*r_s*y**5 - 10*r_s*y**4 + 5*r_s*y**3 - r_s*y**2) - 149*I*omega*y**8/(r_s*y**7 - 5*r_s*y**6 + 10*r_s*y**5 - 10*r_s*y**4 + 5*r_s*y**3 - r_s*y**2) + 201*I*omega*y**7/(r_s*y**7 - 5*r_s*y**6 + 10*r_s*y**5 - 10*r_s*y**4 + 5*r_s*y**3 - r_s*y**2) - 6*I*omega*y**7/(r_s*y**3 - 2*r_s*y**2 + r_s*y) - 177*I*omega*y**6/(r_s*y**7 - 5*r_s*y**6 + 10*r_s*y**5 - 10*r_s*y**4 + 5*r_s*y**3 - r_s*y**2) + 32*I*omega*y**6/(r_s*y**3 - 2*r_s*y**2 + r_s*y) + 103*I*omega*y**5/(r_s*y**7 - 5*r_s*y**6 + 10*r_s*y**5 - 10*r_s*y**4 + 5*r_s*y**3 - r_s*y**2) - 67*I*omega*y**5/(r_s*y**3 - 2*r_s*y**2 + r_s*y) - 39*I*omega*y**4/(r_s*y**7 - 5*r_s*y**6 + 10*r_s*y**5 - 10*r_s*y**4 + 5*r_s*y**3 - r_s*y**2) + 70*I*omega*y**4/(r_s*y**3 - 2*r_s*y**2 + r_s*y) + 9*I*omega*y**3/(r_s*y**7 - 5*r_s*y**6 + 10*r_s*y**5 - 10*r_s*y**4 + 5*r_s*y**3 - r_s*y**2) - 38*I*omega*y**3/(r_s*y**3 - 2*r_s*y**2 + r_s*y) - I*omega*y**2/(r_s*y**7 - 5*r_s*y**6 + 10*r_s*y**5 - 10*r_s*y**4 + 5*r_s*y**3 - r_s*y**2) + 10*I*omega*y**2/(r_s*y**3 - 2*r_s*y**2 + r_s*y) - I*omega*y/(r_s*y**3 - 2*r_s*y**2 + r_s*y) + 3/(r_s**2*y**2*(1/(y**2 - 2*y + 1))**(5/2) - 2*r_s**2*y*(1/(y**2 - 2*y + 1))**(5/2) + r_s**2*(1/(y**2 - 2*y + 1))**(5/2)) - 3*y**4/r_s**2 + 12*y**3/r_s**2 - 18*y**2/r_s**2 + 12*y/r_s**2 - 3/r_s**2 + 4*x_0**2*y**6/r_s**4 - 24*x_0**2*y**5/r_s**4 + 63*x_0**2*y**4/r_s**4 - 3*x_0**2*y**4/(r_s**4*sqrt(1/(y**2 - 2*y + 1))) - 92*x_0**2*y**3/r_s**4 + 12*x_0**2*y**3/(r_s**4*sqrt(1/(y**2 - 2*y + 1))) + 78*x_0**2*y**2/r_s**4 - 18*x_0**2*y**2/(r_s**4*sqrt(1/(y**2 - 2*y + 1))) - 36*x_0**2*y/r_s**4 + 12*x_0**2*y/(r_s**4*sqrt(1/(y**2 - 2*y + 1))) + 7*x_0**2/r_s**4 - 3*x_0**2/(r_s**4*sqrt(1/(y**2 - 2*y + 1))) - 4*x_0**2/(r_s**4*(1/(y**2 - 2*y + 1))**(5/2)))*phi(y)"
      ]
     },
     "metadata": {},
     "output_type": "display_data"
    }
   ],
   "source": [
    "# Expand equation and collect according to powers of phi and derivatives\n",
    "eq_axi_exp = eq_axi.lhs.expand().collect(phi)\n",
    "display(eq_axi_exp)"
   ]
  },
  {
   "cell_type": "code",
   "execution_count": 77,
   "id": "3daa004c",
   "metadata": {},
   "outputs": [
    {
     "data": {
      "text/latex": [
       "$\\displaystyle 1$"
      ],
      "text/plain": [
       "1"
      ]
     },
     "metadata": {},
     "output_type": "display_data"
    }
   ],
   "source": [
    "# Get coefficient of second derivative, normalize, and simplify (just to check)\n",
    "term_two_axi = ( eq_axi_exp.coeff(ddphi).simplify() / norm_axi ).simplify()\n",
    "display(term_two_axi)"
   ]
  },
  {
   "cell_type": "code",
   "execution_count": 78,
   "id": "edf0e70c",
   "metadata": {},
   "outputs": [
    {
     "data": {
      "text/latex": [
       "$\\displaystyle \\frac{\\ell^{2} r_{s}^{2} y^{8} \\left(\\frac{1}{y^{2} - 2 y + 1}\\right)^{\\frac{5}{2}} - 8 \\ell^{2} r_{s}^{2} y^{7} \\left(\\frac{1}{y^{2} - 2 y + 1}\\right)^{\\frac{5}{2}} + 28 \\ell^{2} r_{s}^{2} y^{6} \\left(\\frac{1}{y^{2} - 2 y + 1}\\right)^{\\frac{5}{2}} - 56 \\ell^{2} r_{s}^{2} y^{5} \\left(\\frac{1}{y^{2} - 2 y + 1}\\right)^{\\frac{5}{2}} + 70 \\ell^{2} r_{s}^{2} y^{4} \\left(\\frac{1}{y^{2} - 2 y + 1}\\right)^{\\frac{5}{2}} - 56 \\ell^{2} r_{s}^{2} y^{3} \\left(\\frac{1}{y^{2} - 2 y + 1}\\right)^{\\frac{5}{2}} + 28 \\ell^{2} r_{s}^{2} y^{2} \\left(\\frac{1}{y^{2} - 2 y + 1}\\right)^{\\frac{5}{2}} - \\ell^{2} r_{s}^{2} y^{2} - 8 \\ell^{2} r_{s}^{2} y \\left(\\frac{1}{y^{2} - 2 y + 1}\\right)^{\\frac{5}{2}} + 2 \\ell^{2} r_{s}^{2} y + \\ell^{2} r_{s}^{2} \\left(\\frac{1}{y^{2} - 2 y + 1}\\right)^{\\frac{5}{2}} - \\ell^{2} r_{s}^{2} + \\ell r_{s}^{2} y^{8} \\left(\\frac{1}{y^{2} - 2 y + 1}\\right)^{\\frac{5}{2}} - 8 \\ell r_{s}^{2} y^{7} \\left(\\frac{1}{y^{2} - 2 y + 1}\\right)^{\\frac{5}{2}} + 28 \\ell r_{s}^{2} y^{6} \\left(\\frac{1}{y^{2} - 2 y + 1}\\right)^{\\frac{5}{2}} - 56 \\ell r_{s}^{2} y^{5} \\left(\\frac{1}{y^{2} - 2 y + 1}\\right)^{\\frac{5}{2}} + 70 \\ell r_{s}^{2} y^{4} \\left(\\frac{1}{y^{2} - 2 y + 1}\\right)^{\\frac{5}{2}} - 56 \\ell r_{s}^{2} y^{3} \\left(\\frac{1}{y^{2} - 2 y + 1}\\right)^{\\frac{5}{2}} + 28 \\ell r_{s}^{2} y^{2} \\left(\\frac{1}{y^{2} - 2 y + 1}\\right)^{\\frac{5}{2}} - \\ell r_{s}^{2} y^{2} - 8 \\ell r_{s}^{2} y \\left(\\frac{1}{y^{2} - 2 y + 1}\\right)^{\\frac{5}{2}} + 2 \\ell r_{s}^{2} y + \\ell r_{s}^{2} \\left(\\frac{1}{y^{2} - 2 y + 1}\\right)^{\\frac{5}{2}} - \\ell r_{s}^{2} - 4 \\omega^{2} r_{s}^{4} y^{4} + 16 \\omega^{2} r_{s}^{4} y^{3} - 20 \\omega^{2} r_{s}^{4} y^{2} + 8 \\omega^{2} r_{s}^{4} y + 4 \\omega^{2} r_{s}^{2} x_{0}^{2} y^{6} - 24 \\omega^{2} r_{s}^{2} x_{0}^{2} y^{5} + 56 \\omega^{2} r_{s}^{2} x_{0}^{2} y^{4} - 64 \\omega^{2} r_{s}^{2} x_{0}^{2} y^{3} + 37 \\omega^{2} r_{s}^{2} x_{0}^{2} y^{2} - 10 \\omega^{2} r_{s}^{2} x_{0}^{2} y + \\omega^{2} r_{s}^{2} x_{0}^{2} - 4 i \\omega r_{s}^{3} y^{4} + 12 i \\omega r_{s}^{3} y^{3} - 12 i \\omega r_{s}^{3} y^{2} + 4 i \\omega r_{s}^{3} y + 6 i \\omega r_{s} x_{0}^{2} y^{6} - 30 i \\omega r_{s} x_{0}^{2} y^{5} + 59 i \\omega r_{s} x_{0}^{2} y^{4} - 57 i \\omega r_{s} x_{0}^{2} y^{3} + 27 i \\omega r_{s} x_{0}^{2} y^{2} - 5 i \\omega r_{s} x_{0}^{2} y + 3 r_{s}^{2} y^{10} \\left(\\frac{1}{y^{2} - 2 y + 1}\\right)^{\\frac{7}{2}} - 30 r_{s}^{2} y^{9} \\left(\\frac{1}{y^{2} - 2 y + 1}\\right)^{\\frac{7}{2}} + 135 r_{s}^{2} y^{8} \\left(\\frac{1}{y^{2} - 2 y + 1}\\right)^{\\frac{7}{2}} - 360 r_{s}^{2} y^{7} \\left(\\frac{1}{y^{2} - 2 y + 1}\\right)^{\\frac{7}{2}} + 630 r_{s}^{2} y^{6} \\left(\\frac{1}{y^{2} - 2 y + 1}\\right)^{\\frac{7}{2}} - 756 r_{s}^{2} y^{5} \\left(\\frac{1}{y^{2} - 2 y + 1}\\right)^{\\frac{7}{2}} + 630 r_{s}^{2} y^{4} \\left(\\frac{1}{y^{2} - 2 y + 1}\\right)^{\\frac{7}{2}} - 3 r_{s}^{2} y^{4} - 360 r_{s}^{2} y^{3} \\left(\\frac{1}{y^{2} - 2 y + 1}\\right)^{\\frac{7}{2}} + 12 r_{s}^{2} y^{3} + 135 r_{s}^{2} y^{2} \\left(\\frac{1}{y^{2} - 2 y + 1}\\right)^{\\frac{7}{2}} - 18 r_{s}^{2} y^{2} - 30 r_{s}^{2} y \\left(\\frac{1}{y^{2} - 2 y + 1}\\right)^{\\frac{7}{2}} + 12 r_{s}^{2} y + 3 r_{s}^{2} \\left(\\frac{1}{y^{2} - 2 y + 1}\\right)^{\\frac{7}{2}} - 3 r_{s}^{2} - 7 x_{0}^{2} y^{10} \\left(\\frac{1}{y^{2} - 2 y + 1}\\right)^{\\frac{5}{2}} + 70 x_{0}^{2} y^{9} \\left(\\frac{1}{y^{2} - 2 y + 1}\\right)^{\\frac{5}{2}} - 315 x_{0}^{2} y^{8} \\left(\\frac{1}{y^{2} - 2 y + 1}\\right)^{\\frac{5}{2}} + 840 x_{0}^{2} y^{7} \\left(\\frac{1}{y^{2} - 2 y + 1}\\right)^{\\frac{5}{2}} - 1470 x_{0}^{2} y^{6} \\left(\\frac{1}{y^{2} - 2 y + 1}\\right)^{\\frac{5}{2}} + 4 x_{0}^{2} y^{6} + 1764 x_{0}^{2} y^{5} \\left(\\frac{1}{y^{2} - 2 y + 1}\\right)^{\\frac{5}{2}} - 24 x_{0}^{2} y^{5} - 1470 x_{0}^{2} y^{4} \\left(\\frac{1}{y^{2} - 2 y + 1}\\right)^{\\frac{5}{2}} + 63 x_{0}^{2} y^{4} + 840 x_{0}^{2} y^{3} \\left(\\frac{1}{y^{2} - 2 y + 1}\\right)^{\\frac{5}{2}} - 92 x_{0}^{2} y^{3} - 315 x_{0}^{2} y^{2} \\left(\\frac{1}{y^{2} - 2 y + 1}\\right)^{\\frac{5}{2}} + 78 x_{0}^{2} y^{2} + 70 x_{0}^{2} y \\left(\\frac{1}{y^{2} - 2 y + 1}\\right)^{\\frac{5}{2}} - 36 x_{0}^{2} y - 7 x_{0}^{2} \\left(\\frac{1}{y^{2} - 2 y + 1}\\right)^{\\frac{5}{2}} + 7 x_{0}^{2}}{y^{2} \\left(y - 1\\right)^{4} \\left(- r_{s} + x_{0} y - x_{0}\\right) \\left(r_{s} + x_{0} y - x_{0}\\right)}$"
      ],
      "text/plain": [
       "(ell**2*r_s**2*y**8*(1/(y**2 - 2*y + 1))**(5/2) - 8*ell**2*r_s**2*y**7*(1/(y**2 - 2*y + 1))**(5/2) + 28*ell**2*r_s**2*y**6*(1/(y**2 - 2*y + 1))**(5/2) - 56*ell**2*r_s**2*y**5*(1/(y**2 - 2*y + 1))**(5/2) + 70*ell**2*r_s**2*y**4*(1/(y**2 - 2*y + 1))**(5/2) - 56*ell**2*r_s**2*y**3*(1/(y**2 - 2*y + 1))**(5/2) + 28*ell**2*r_s**2*y**2*(1/(y**2 - 2*y + 1))**(5/2) - ell**2*r_s**2*y**2 - 8*ell**2*r_s**2*y*(1/(y**2 - 2*y + 1))**(5/2) + 2*ell**2*r_s**2*y + ell**2*r_s**2*(1/(y**2 - 2*y + 1))**(5/2) - ell**2*r_s**2 + ell*r_s**2*y**8*(1/(y**2 - 2*y + 1))**(5/2) - 8*ell*r_s**2*y**7*(1/(y**2 - 2*y + 1))**(5/2) + 28*ell*r_s**2*y**6*(1/(y**2 - 2*y + 1))**(5/2) - 56*ell*r_s**2*y**5*(1/(y**2 - 2*y + 1))**(5/2) + 70*ell*r_s**2*y**4*(1/(y**2 - 2*y + 1))**(5/2) - 56*ell*r_s**2*y**3*(1/(y**2 - 2*y + 1))**(5/2) + 28*ell*r_s**2*y**2*(1/(y**2 - 2*y + 1))**(5/2) - ell*r_s**2*y**2 - 8*ell*r_s**2*y*(1/(y**2 - 2*y + 1))**(5/2) + 2*ell*r_s**2*y + ell*r_s**2*(1/(y**2 - 2*y + 1))**(5/2) - ell*r_s**2 - 4*omega**2*r_s**4*y**4 + 16*omega**2*r_s**4*y**3 - 20*omega**2*r_s**4*y**2 + 8*omega**2*r_s**4*y + 4*omega**2*r_s**2*x_0**2*y**6 - 24*omega**2*r_s**2*x_0**2*y**5 + 56*omega**2*r_s**2*x_0**2*y**4 - 64*omega**2*r_s**2*x_0**2*y**3 + 37*omega**2*r_s**2*x_0**2*y**2 - 10*omega**2*r_s**2*x_0**2*y + omega**2*r_s**2*x_0**2 - 4*I*omega*r_s**3*y**4 + 12*I*omega*r_s**3*y**3 - 12*I*omega*r_s**3*y**2 + 4*I*omega*r_s**3*y + 6*I*omega*r_s*x_0**2*y**6 - 30*I*omega*r_s*x_0**2*y**5 + 59*I*omega*r_s*x_0**2*y**4 - 57*I*omega*r_s*x_0**2*y**3 + 27*I*omega*r_s*x_0**2*y**2 - 5*I*omega*r_s*x_0**2*y + 3*r_s**2*y**10*(1/(y**2 - 2*y + 1))**(7/2) - 30*r_s**2*y**9*(1/(y**2 - 2*y + 1))**(7/2) + 135*r_s**2*y**8*(1/(y**2 - 2*y + 1))**(7/2) - 360*r_s**2*y**7*(1/(y**2 - 2*y + 1))**(7/2) + 630*r_s**2*y**6*(1/(y**2 - 2*y + 1))**(7/2) - 756*r_s**2*y**5*(1/(y**2 - 2*y + 1))**(7/2) + 630*r_s**2*y**4*(1/(y**2 - 2*y + 1))**(7/2) - 3*r_s**2*y**4 - 360*r_s**2*y**3*(1/(y**2 - 2*y + 1))**(7/2) + 12*r_s**2*y**3 + 135*r_s**2*y**2*(1/(y**2 - 2*y + 1))**(7/2) - 18*r_s**2*y**2 - 30*r_s**2*y*(1/(y**2 - 2*y + 1))**(7/2) + 12*r_s**2*y + 3*r_s**2*(1/(y**2 - 2*y + 1))**(7/2) - 3*r_s**2 - 7*x_0**2*y**10*(1/(y**2 - 2*y + 1))**(5/2) + 70*x_0**2*y**9*(1/(y**2 - 2*y + 1))**(5/2) - 315*x_0**2*y**8*(1/(y**2 - 2*y + 1))**(5/2) + 840*x_0**2*y**7*(1/(y**2 - 2*y + 1))**(5/2) - 1470*x_0**2*y**6*(1/(y**2 - 2*y + 1))**(5/2) + 4*x_0**2*y**6 + 1764*x_0**2*y**5*(1/(y**2 - 2*y + 1))**(5/2) - 24*x_0**2*y**5 - 1470*x_0**2*y**4*(1/(y**2 - 2*y + 1))**(5/2) + 63*x_0**2*y**4 + 840*x_0**2*y**3*(1/(y**2 - 2*y + 1))**(5/2) - 92*x_0**2*y**3 - 315*x_0**2*y**2*(1/(y**2 - 2*y + 1))**(5/2) + 78*x_0**2*y**2 + 70*x_0**2*y*(1/(y**2 - 2*y + 1))**(5/2) - 36*x_0**2*y - 7*x_0**2*(1/(y**2 - 2*y + 1))**(5/2) + 7*x_0**2)/(y**2*(y - 1)**4*(-r_s + x_0*y - x_0)*(r_s + x_0*y - x_0))"
      ]
     },
     "metadata": {},
     "output_type": "display_data"
    },
    {
     "data": {
      "text/plain": [
       "'(4*l**2*m**2*y**8*(1/(y**2 - 2*y + 1))**(5/2) - 32*l**2*m**2*y**7*(1/(y**2 - 2*y + 1))**(5/2) + 112*l**2*m**2*y**6*(1/(y**2 - 2*y + 1))**(5/2) - 224*l**2*m**2*y**5*(1/(y**2 - 2*y + 1))**(5/2) + 280*l**2*m**2*y**4*(1/(y**2 - 2*y + 1))**(5/2) - 224*l**2*m**2*y**3*(1/(y**2 - 2*y + 1))**(5/2) + 112*l**2*m**2*y**2*(1/(y**2 - 2*y + 1))**(5/2) - 4*l**2*m**2*y**2 - 32*l**2*m**2*y*(1/(y**2 - 2*y + 1))**(5/2) + 8*l**2*m**2*y + 4*l**2*m**2*(1/(y**2 - 2*y + 1))**(5/2) - 4*l**2*m**2 + 4*l*m**2*y**8*(1/(y**2 - 2*y + 1))**(5/2) - 32*l*m**2*y**7*(1/(y**2 - 2*y + 1))**(5/2) + 112*l*m**2*y**6*(1/(y**2 - 2*y + 1))**(5/2) - 224*l*m**2*y**5*(1/(y**2 - 2*y + 1))**(5/2) + 280*l*m**2*y**4*(1/(y**2 - 2*y + 1))**(5/2) - 224*l*m**2*y**3*(1/(y**2 - 2*y + 1))**(5/2) + 112*l*m**2*y**2*(1/(y**2 - 2*y + 1))**(5/2) - 4*l*m**2*y**2 - 32*l*m**2*y*(1/(y**2 - 2*y + 1))**(5/2) + 8*l*m**2*y + 4*l*m**2*(1/(y**2 - 2*y + 1))**(5/2) - 4*l*m**2 - 64*m**4*w**2*y**4 + 256*m**4*w**2*y**3 - 320*m**4*w**2*y**2 + 128*m**4*w**2*y - 32*I*m**3*w*y**4 + 96*I*m**3*w*y**3 - 96*I*m**3*w*y**2 + 32*I*m**3*w*y + 16*m**2*w**2*x0**2*y**6 - 96*m**2*w**2*x0**2*y**5 + 224*m**2*w**2*x0**2*y**4 - 256*m**2*w**2*x0**2*y**3 + 148*m**2*w**2*x0**2*y**2 - 40*m**2*w**2*x0**2*y + 4*m**2*w**2*x0**2 + 12*m**2*y**10*(1/(y**2 - 2*y + 1))**(7/2) - 120*m**2*y**9*(1/(y**2 - 2*y + 1))**(7/2) + 540*m**2*y**8*(1/(y**2 - 2*y + 1))**(7/2) - 1440*m**2*y**7*(1/(y**2 - 2*y + 1))**(7/2) + 2520*m**2*y**6*(1/(y**2 - 2*y + 1))**(7/2) - 3024*m**2*y**5*(1/(y**2 - 2*y + 1))**(7/2) + 2520*m**2*y**4*(1/(y**2 - 2*y + 1))**(7/2) - 12*m**2*y**4 - 1440*m**2*y**3*(1/(y**2 - 2*y + 1))**(7/2) + 48*m**2*y**3 + 540*m**2*y**2*(1/(y**2 - 2*y + 1))**(7/2) - 72*m**2*y**2 - 120*m**2*y*(1/(y**2 - 2*y + 1))**(7/2) + 48*m**2*y + 12*m**2*(1/(y**2 - 2*y + 1))**(7/2) - 12*m**2 + 12*I*m*w*x0**2*y**6 - 60*I*m*w*x0**2*y**5 + 118*I*m*w*x0**2*y**4 - 114*I*m*w*x0**2*y**3 + 54*I*m*w*x0**2*y**2 - 10*I*m*w*x0**2*y - 7*x0**2*y**10*(1/(y**2 - 2*y + 1))**(5/2) + 70*x0**2*y**9*(1/(y**2 - 2*y + 1))**(5/2) - 315*x0**2*y**8*(1/(y**2 - 2*y + 1))**(5/2) + 840*x0**2*y**7*(1/(y**2 - 2*y + 1))**(5/2) - 1470*x0**2*y**6*(1/(y**2 - 2*y + 1))**(5/2) + 4*x0**2*y**6 + 1764*x0**2*y**5*(1/(y**2 - 2*y + 1))**(5/2) - 24*x0**2*y**5 - 1470*x0**2*y**4*(1/(y**2 - 2*y + 1))**(5/2) + 63*x0**2*y**4 + 840*x0**2*y**3*(1/(y**2 - 2*y + 1))**(5/2) - 92*x0**2*y**3 - 315*x0**2*y**2*(1/(y**2 - 2*y + 1))**(5/2) + 78*x0**2*y**2 + 70*x0**2*y*(1/(y**2 - 2*y + 1))**(5/2) - 36*x0**2*y - 7*x0**2*(1/(y**2 - 2*y + 1))**(5/2) + 7*x0**2)/(y**2*(y - 1)**4*(-2*m + x0*y - x0)*(2*m + x0*y - x0))'"
      ]
     },
     "execution_count": 78,
     "metadata": {},
     "output_type": "execute_result"
    }
   ],
   "source": [
    "# Get coefficient of zero-th derivative, normalize, and simplify -> s_0\n",
    "s0_axi = - ( eq_axi_exp.coeff(phi).simplify() / norm_axi ) # .simplify()\n",
    "display(s0_axi)\n",
    "# Write s_0 as Python string\n",
    "str( s0_axi.subs( {l: 'l', w: 'w', rs: '2*m', x0: 'x0'} ) )"
   ]
  },
  {
   "cell_type": "code",
   "execution_count": 79,
   "id": "50e261f4",
   "metadata": {},
   "outputs": [
    {
     "data": {
      "text/latex": [
       "$\\displaystyle - \\frac{4 i \\omega r_{s}^{3} y^{2} - 8 i \\omega r_{s}^{3} y + 2 i \\omega r_{s}^{3} - 4 i \\omega r_{s} x_{0}^{2} y^{4} + 16 i \\omega r_{s} x_{0}^{2} y^{3} - 22 i \\omega r_{s} x_{0}^{2} y^{2} + 12 i \\omega r_{s} x_{0}^{2} y - 2 i \\omega r_{s} x_{0}^{2} - 3 r_{s}^{2} y^{2} + 4 r_{s}^{2} y - r_{s}^{2} + 4 x_{0}^{2} y^{4} - 13 x_{0}^{2} y^{3} + 15 x_{0}^{2} y^{2} - 7 x_{0}^{2} y + x_{0}^{2}}{y \\left(- r_{s}^{2} y^{2} + 2 r_{s}^{2} y - r_{s}^{2} + x_{0}^{2} y^{4} - 4 x_{0}^{2} y^{3} + 6 x_{0}^{2} y^{2} - 4 x_{0}^{2} y + x_{0}^{2}\\right)}$"
      ],
      "text/plain": [
       "-(4*I*omega*r_s**3*y**2 - 8*I*omega*r_s**3*y + 2*I*omega*r_s**3 - 4*I*omega*r_s*x_0**2*y**4 + 16*I*omega*r_s*x_0**2*y**3 - 22*I*omega*r_s*x_0**2*y**2 + 12*I*omega*r_s*x_0**2*y - 2*I*omega*r_s*x_0**2 - 3*r_s**2*y**2 + 4*r_s**2*y - r_s**2 + 4*x_0**2*y**4 - 13*x_0**2*y**3 + 15*x_0**2*y**2 - 7*x_0**2*y + x_0**2)/(y*(-r_s**2*y**2 + 2*r_s**2*y - r_s**2 + x_0**2*y**4 - 4*x_0**2*y**3 + 6*x_0**2*y**2 - 4*x_0**2*y + x_0**2))"
      ]
     },
     "metadata": {},
     "output_type": "display_data"
    },
    {
     "data": {
      "text/plain": [
       "'-(32*I*m**3*w*y**2 - 64*I*m**3*w*y + 16*I*m**3*w - 12*m**2*y**2 + 16*m**2*y - 4*m**2 - 8*I*m*w*x0**2*y**4 + 32*I*m*w*x0**2*y**3 - 44*I*m*w*x0**2*y**2 + 24*I*m*w*x0**2*y - 4*I*m*w*x0**2 + 4*x0**2*y**4 - 13*x0**2*y**3 + 15*x0**2*y**2 - 7*x0**2*y + x0**2)/(y*(-4*m**2*y**2 + 8*m**2*y - 4*m**2 + x0**2*y**4 - 4*x0**2*y**3 + 6*x0**2*y**2 - 4*x0**2*y + x0**2))'"
      ]
     },
     "execution_count": 79,
     "metadata": {},
     "output_type": "execute_result"
    }
   ],
   "source": [
    "# Get coefficient of first derivative, normalize, and simplify -> lambda_0\n",
    "l0_axi = - ( eq_axi_exp.coeff(dphi).simplify() / norm_axi ).simplify()\n",
    "display(l0_axi)\n",
    "# Write l_0 as Python string\n",
    "str( l0_axi.subs( {l: 'l', w: 'w', rs: '2*m', x0: 'x0'} ) )"
   ]
  },
  {
   "cell_type": "markdown",
   "id": "72c6e8f9",
   "metadata": {},
   "source": [
    "These normalized coefficients will give us the parameters $s_0$ and $\\lambda_0$ that we need for our AIM method!\n",
    "\n",
    "As the last step, we must compute at which point to evaluate our method, which is given by the point where the potential is maximum:\n",
    "$$\n",
    "\\frac{d^{(v)}V_{\\ell}^{SV}(y)}{dy}\\Big|_{y_{\\max}} = 0\n",
    "$$\n",
    "\n",
    "However, in this case, it is better to work directly on the $x$ coordinate and later convert back into $y$"
   ]
  },
  {
   "cell_type": "code",
   "execution_count": 80,
   "id": "0e198226",
   "metadata": {},
   "outputs": [
    {
     "data": {
      "text/latex": [
       "$\\displaystyle \\frac{r_{s} x \\left(\\frac{\\ell \\left(\\ell + 1\\right)}{x^{2} + x_{0}^{2}} - \\frac{3 r_{s} x^{2} - r_{s} x_{0}^{2} + 3 x_{0}^{2} \\sqrt{x^{2} + x_{0}^{2}}}{\\left(x^{2} + x_{0}^{2}\\right)^{\\frac{5}{2}}}\\right)}{\\left(x^{2} + x_{0}^{2}\\right)^{\\frac{3}{2}}} + \\left(- \\frac{r_{s}}{\\sqrt{x^{2} + x_{0}^{2}}} + 1\\right) \\left(- \\frac{2 \\ell x \\left(\\ell + 1\\right)}{\\left(x^{2} + x_{0}^{2}\\right)^{2}} + \\frac{5 x \\left(3 r_{s} x^{2} - r_{s} x_{0}^{2} + 3 x_{0}^{2} \\sqrt{x^{2} + x_{0}^{2}}\\right)}{\\left(x^{2} + x_{0}^{2}\\right)^{\\frac{7}{2}}} - \\frac{6 r_{s} x + \\frac{3 x x_{0}^{2}}{\\sqrt{x^{2} + x_{0}^{2}}}}{\\left(x^{2} + x_{0}^{2}\\right)^{\\frac{5}{2}}}\\right)$"
      ],
      "text/plain": [
       "r_s*x*(ell*(ell + 1)/(x**2 + x_0**2) - (3*r_s*x**2 - r_s*x_0**2 + 3*x_0**2*sqrt(x**2 + x_0**2))/(x**2 + x_0**2)**(5/2))/(x**2 + x_0**2)**(3/2) + (-r_s/sqrt(x**2 + x_0**2) + 1)*(-2*ell*x*(ell + 1)/(x**2 + x_0**2)**2 + 5*x*(3*r_s*x**2 - r_s*x_0**2 + 3*x_0**2*sqrt(x**2 + x_0**2))/(x**2 + x_0**2)**(7/2) - (6*r_s*x + 3*x*x_0**2/sqrt(x**2 + x_0**2))/(x**2 + x_0**2)**(5/2))"
      ]
     },
     "execution_count": 80,
     "metadata": {},
     "output_type": "execute_result"
    }
   ],
   "source": [
    "# Compute derivative of potential (in terms of x coordinate)\n",
    "dV_axi = sp.Derivative(V_axi, x, evaluate = True)\n",
    "dV_axi"
   ]
  },
  {
   "cell_type": "code",
   "execution_count": 81,
   "id": "81bdacbc",
   "metadata": {},
   "outputs": [
    {
     "data": {
      "text/plain": [
       "'x*(6*l**2*m*x**2*sqrt(x**2 + x0**2) + 6*l**2*m*x0**2*sqrt(x**2 + x0**2) - 2*l**2*x**4 - 4*l**2*x**2*x0**2 - 2*l**2*x0**4 + 6*l*m*x**2*sqrt(x**2 + x0**2) + 6*l*m*x0**2*sqrt(x**2 + x0**2) - 2*l*x**4 - 4*l*x**2*x0**2 - 2*l*x0**4 - 48*m**2*x**2 + 48*m**2*x0**2 + 18*m*x**2*sqrt(x**2 + x0**2) - 52*m*x0**2*sqrt(x**2 + x0**2) + 12*x**2*x0**2 + 12*x0**4)/(x**2 + x0**2)**4'"
      ]
     },
     "execution_count": 81,
     "metadata": {},
     "output_type": "execute_result"
    }
   ],
   "source": [
    "# Display potential derivative as python code\n",
    "str(dV_axi.factor().simplify().subs( { l: 'l', w: 'w', rs: '2*m', x0: 'x0' } ))"
   ]
  },
  {
   "cell_type": "markdown",
   "id": "8bad858f",
   "metadata": {},
   "source": [
    "Also, finding the exact analytic expression takes a long time. It's easier to find the evaluation point numerically given the numeric parameters"
   ]
  },
  {
   "cell_type": "code",
   "execution_count": 87,
   "id": "51b7564a",
   "metadata": {},
   "outputs": [],
   "source": [
    "# Define numeric values\n",
    "x0_val = 0.1\n",
    "l_val = 2\n",
    "rs_val = 2"
   ]
  },
  {
   "cell_type": "code",
   "execution_count": 88,
   "id": "8ce486d6",
   "metadata": {},
   "outputs": [
    {
     "data": {
      "text/latex": [
       "$\\displaystyle 2.95018071465893$"
      ],
      "text/plain": [
       "2.95018071465893"
      ]
     },
     "execution_count": 88,
     "metadata": {},
     "output_type": "execute_result"
    }
   ],
   "source": [
    "# Search for maximum point\n",
    "x_max_sca = sp.nsolve(dV_sca.subs( {rs: rs_val, l: l_val, x0: x0_val} ), x, 1)\n",
    "x_max_sca"
   ]
  },
  {
   "cell_type": "code",
   "execution_count": 89,
   "id": "c754e134",
   "metadata": {},
   "outputs": [
    {
     "data": {
      "text/latex": [
       "$\\displaystyle 0.322075427426411$"
      ],
      "text/plain": [
       "0.322075427426411"
      ]
     },
     "execution_count": 89,
     "metadata": {},
     "output_type": "execute_result"
    }
   ],
   "source": [
    "# Convert that to y coordinate\n",
    "y_max_sca = G.subs({rs: 2, x0: 0, x: x_max_sca})\n",
    "y_max_sca"
   ]
  },
  {
   "cell_type": "markdown",
   "id": "332da476",
   "metadata": {},
   "source": [
    "### **Polar (tensor) equation**"
   ]
  },
  {
   "cell_type": "code",
   "execution_count": 90,
   "id": "6701dc01",
   "metadata": {},
   "outputs": [
    {
     "data": {
      "text/latex": [
       "$\\displaystyle \\left(\\omega^{2} - \\frac{\\left(1 - \\frac{1}{\\sqrt{\\frac{1}{\\left(1 - y\\right)^{2}}}}\\right) \\left(\\ell - 1\\right)^{2} \\left(\\ell + 2\\right)^{2} \\left(\\frac{\\left(1 - y\\right)^{2} \\left(\\left(\\ell - 1\\right) \\left(\\ell + 2\\right) + 2\\right)}{r_{s}^{2}} + \\frac{3 r_{s} x_{0}^{2} \\sqrt{\\frac{1}{\\left(1 - y\\right)^{2}}} - r_{s} x_{0}^{2} + 3 r_{s} \\left(\\frac{r_{s}^{2}}{\\left(1 - y\\right)^{2}} - x_{0}^{2}\\right)}{r_{s}^{5} \\left(\\frac{1}{\\left(1 - y\\right)^{2}}\\right)^{\\frac{5}{2}}} + \\frac{\\left(1 - y\\right)^{8} \\left(\\left(\\ell - 1\\right) \\left(\\ell + 2\\right) + \\frac{3 r_{s} x_{0}^{2} \\sqrt{\\frac{1}{\\left(1 - y\\right)^{2}}} - r_{s} x_{0}^{2} + 3 r_{s} \\left(\\frac{r_{s}^{2}}{\\left(1 - y\\right)^{2}} - x_{0}^{2}\\right)}{3 r_{s}^{3} \\left(\\frac{1}{\\left(1 - y\\right)^{2}}\\right)^{\\frac{3}{2}}}\\right) \\left(3 r_{s} x_{0}^{2} \\sqrt{\\frac{1}{\\left(1 - y\\right)^{2}}} - r_{s} x_{0}^{2} + 3 r_{s} \\left(\\frac{r_{s}^{2}}{\\left(1 - y\\right)^{2}} - x_{0}^{2}\\right)\\right)^{2}}{r_{s}^{8} \\left(\\ell - 1\\right)^{2} \\left(\\ell + 2\\right)^{2}}\\right)}{\\left(\\ell - 1\\right) \\left(\\ell + 2\\right) + \\frac{3 r_{s} x_{0}^{2} \\sqrt{\\frac{1}{\\left(1 - y\\right)^{2}}} - r_{s} x_{0}^{2} + 3 r_{s} \\left(\\frac{r_{s}^{2}}{\\left(1 - y\\right)^{2}} - x_{0}^{2}\\right)}{r_{s}^{3} \\left(\\frac{1}{\\left(1 - y\\right)^{2}}\\right)^{\\frac{3}{2}}}}\\right) \\phi{\\left(y \\right)} + \\frac{y^{2} \\left(1 - y\\right)^{6} \\left(\\frac{r_{s}^{2}}{\\left(1 - y\\right)^{2}} - x_{0}^{2}\\right) \\left(- \\frac{2 i \\omega r_{s} \\left(2 y^{2} - 4 y + 1\\right) \\frac{d}{d y} \\phi{\\left(y \\right)}}{y \\left(y - 1\\right)^{2}} + \\left(- \\frac{\\omega^{2} r_{s}^{2} \\left(2 y^{2} - 4 y + 1\\right)^{2}}{y^{2} \\left(y - 1\\right)^{4}} + \\frac{i \\omega r_{s} \\left(2 y^{3} - 6 y^{2} + 3 y - 1\\right)}{y^{2} \\left(y - 1\\right)^{3}}\\right) \\phi{\\left(y \\right)} + \\frac{d^{2}}{d y^{2}} \\phi{\\left(y \\right)}\\right)}{r_{s}^{4}} - \\frac{y \\left(y - 1\\right)^{3} \\left(- \\frac{i \\omega r_{s} \\left(2 y^{2} - 4 y + 1\\right) \\phi{\\left(y \\right)}}{y \\left(y - 1\\right)^{2}} + \\frac{d}{d y} \\phi{\\left(y \\right)}\\right) \\left(- 3 r_{s}^{2} y + r_{s}^{2} + 4 x_{0}^{2} y^{3} - 9 x_{0}^{2} y^{2} + 6 x_{0}^{2} y - x_{0}^{2}\\right)}{r_{s}^{4}} = 0$"
      ],
      "text/plain": [
       "Eq((omega**2 - (1 - 1/sqrt((1 - y)**(-2)))*(ell - 1)**2*(ell + 2)**2*((1 - y)**2*((ell - 1)*(ell + 2) + 2)/r_s**2 + (3*r_s*x_0**2*sqrt((1 - y)**(-2)) - r_s*x_0**2 + 3*r_s*(r_s**2/(1 - y)**2 - x_0**2))/(r_s**5*((1 - y)**(-2))**(5/2)) + (1 - y)**8*((ell - 1)*(ell + 2) + (3*r_s*x_0**2*sqrt((1 - y)**(-2)) - r_s*x_0**2 + 3*r_s*(r_s**2/(1 - y)**2 - x_0**2))/(3*r_s**3*((1 - y)**(-2))**(3/2)))*(3*r_s*x_0**2*sqrt((1 - y)**(-2)) - r_s*x_0**2 + 3*r_s*(r_s**2/(1 - y)**2 - x_0**2))**2/(r_s**8*(ell - 1)**2*(ell + 2)**2))/((ell - 1)*(ell + 2) + (3*r_s*x_0**2*sqrt((1 - y)**(-2)) - r_s*x_0**2 + 3*r_s*(r_s**2/(1 - y)**2 - x_0**2))/(r_s**3*((1 - y)**(-2))**(3/2))))*phi(y) + y**2*(1 - y)**6*(r_s**2/(1 - y)**2 - x_0**2)*(-2*I*omega*r_s*(2*y**2 - 4*y + 1)*Derivative(phi(y), y)/(y*(y - 1)**2) + (-omega**2*r_s**2*(2*y**2 - 4*y + 1)**2/(y**2*(y - 1)**4) + I*omega*r_s*(2*y**3 - 6*y**2 + 3*y - 1)/(y**2*(y - 1)**3))*phi(y) + Derivative(phi(y), (y, 2)))/r_s**4 - y*(y - 1)**3*(-I*omega*r_s*(2*y**2 - 4*y + 1)*phi(y)/(y*(y - 1)**2) + Derivative(phi(y), y))*(-3*r_s**2*y + r_s**2 + 4*x_0**2*y**3 - 9*x_0**2*y**2 + 6*x_0**2*y - x_0**2)/r_s**4, 0)"
      ]
     },
     "metadata": {},
     "output_type": "display_data"
    }
   ],
   "source": [
    "# First, insert potential\n",
    "eq_pol_pot = eq.subs( pot, V_pol )\n",
    "# Second, change of variable\n",
    "eq_pol_chvar = eq_pol_pot.subs( ddpsi_star, ddpsi_y ).subs(psi, psi_y).subs(x, var_change_x)\n",
    "# Third, insert boundary conditions\n",
    "eq_pol_bc = eq_pol_chvar.subs( {sp.Derivative(psi_y, y): dpsi_bc, sp.Derivative(sp.Derivative(psi_y, y), y): ddpsi_bc, psi_y: phi} ) # .doit()\n",
    "# Define axial equation with change of variable and boundary condition\n",
    "eq_pol = eq_pol_bc\n",
    "# Display\n",
    "display(eq_pol)"
   ]
  },
  {
   "cell_type": "code",
   "execution_count": 91,
   "id": "035b6969",
   "metadata": {},
   "outputs": [
    {
     "data": {
      "text/latex": [
       "$\\displaystyle - \\frac{y^{2} \\left(y - 1\\right)^{4} \\left(- r_{s} + x_{0} y - x_{0}\\right) \\left(r_{s} + x_{0} y - x_{0}\\right)}{r_{s}^{4}}$"
      ],
      "text/plain": [
       "-y**2*(y - 1)**4*(-r_s + x_0*y - x_0)*(r_s + x_0*y - x_0)/r_s**4"
      ]
     },
     "metadata": {},
     "output_type": "display_data"
    }
   ],
   "source": [
    "# Extract term accompanying second derivative\n",
    "norm_pol = eq_pol.lhs.expand().coeff(ddphi).factor()\n",
    "display(norm_pol)"
   ]
  },
  {
   "cell_type": "code",
   "execution_count": null,
   "id": "09f82aee",
   "metadata": {},
   "outputs": [],
   "source": [
    "# Expand equation and collect according to powers of phi and derivatives\n",
    "eq_pol_exp = eq_pol.lhs.expand().collect(phi)\n",
    "display(eq_pol_exp)"
   ]
  },
  {
   "cell_type": "code",
   "execution_count": null,
   "id": "93f546e6",
   "metadata": {},
   "outputs": [],
   "source": [
    "# Get coefficient of second derivative, normalize, and simplify (just to check)\n",
    "term_two_pol = ( eq_pol_exp.coeff(ddphi).simplify() / norm_pol ).simplify()\n",
    "display(term_two_pol)"
   ]
  },
  {
   "cell_type": "code",
   "execution_count": null,
   "id": "a14aae98",
   "metadata": {},
   "outputs": [],
   "source": [
    "# Get coefficient of zero-th derivative, normalize, and simplify -> s_0\n",
    "s0_pol = - ( eq_pol_exp.coeff(phi).simplify() / norm_pol ) # .simplify()\n",
    "display(s0_pol)\n",
    "# Write s_0 as Python string\n",
    "str( s0_pol.subs( {l: 'l', w: 'w', rs: '2*m', x0: 'x0'} ) )"
   ]
  },
  {
   "cell_type": "code",
   "execution_count": null,
   "id": "03f1075f",
   "metadata": {},
   "outputs": [],
   "source": [
    "# Get coefficient of first derivative, normalize, and simplify -> lambda_0\n",
    "l0_pol = - ( eq_pol_exp.coeff(dphi).simplify() / norm_pol ).simplify()\n",
    "display(l0_pol)\n",
    "# Write l_0 as Python string\n",
    "str( l0_pol.subs( {l: 'l', w: 'w', rs: '2*m', x0: 'x0'} ) )"
   ]
  },
  {
   "cell_type": "markdown",
   "id": "6339141a",
   "metadata": {},
   "source": [
    "These normalized coefficients will give us the parameters $s_0$ and $\\lambda_0$ that we need for our AIM method!\n",
    "\n",
    "As the last step, we must compute at which point to evaluate our method, which is given by the point where the potential is maximum:\n",
    "$$\n",
    "\\frac{d^{(v)}V_{\\ell}^{SV}(y)}{dy}\\Big|_{y_{\\max}} = 0\n",
    "$$\n",
    "\n",
    "However, in this case, it is better to work directly on the $x$ coordinate and later convert back into $y$"
   ]
  },
  {
   "cell_type": "code",
   "execution_count": null,
   "id": "c4b673bf",
   "metadata": {},
   "outputs": [],
   "source": [
    "# Compute derivative of potential (in terms of x coordinate)\n",
    "dV_pol = sp.Derivative(V_pol, x, evaluate = True)\n",
    "dV_pol"
   ]
  },
  {
   "cell_type": "code",
   "execution_count": null,
   "id": "e0b3aae1",
   "metadata": {},
   "outputs": [],
   "source": [
    "# Display potential derivative as python code\n",
    "str(dV_pol.factor().simplify().subs( { l: 'l', w: 'w', rs: '2*m', x0: 'x0' } ))"
   ]
  },
  {
   "cell_type": "markdown",
   "id": "2b1a4766",
   "metadata": {},
   "source": [
    "Also, finding the exact analytic expression takes a long time. It's easier to find the evaluation point numerically given the numeric parameters"
   ]
  },
  {
   "cell_type": "code",
   "execution_count": null,
   "id": "9ea29a93",
   "metadata": {},
   "outputs": [],
   "source": [
    "# Define numeric values\n",
    "x0_val = 0.1\n",
    "l_val = 2\n",
    "rs_val = 2"
   ]
  },
  {
   "cell_type": "code",
   "execution_count": null,
   "id": "ea054e7f",
   "metadata": {},
   "outputs": [],
   "source": [
    "# Search for maximum point\n",
    "x_max_pol = sp.nsolve(dV_pol.subs( {rs: rs_val, l: l_val, x0: x0_val} ), x, 1)\n",
    "x_max_pol"
   ]
  },
  {
   "cell_type": "code",
   "execution_count": null,
   "id": "aadca6d3",
   "metadata": {},
   "outputs": [],
   "source": [
    "# Convert that to y coordinate\n",
    "y_max_pol = G.subs({rs: 2, x0: 0, x: x_max_pol})\n",
    "y_max_pol"
   ]
  }
 ],
 "metadata": {
  "kernelspec": {
   "display_name": "Python 3",
   "language": "python",
   "name": "python3"
  },
  "language_info": {
   "codemirror_mode": {
    "name": "ipython",
    "version": 3
   },
   "file_extension": ".py",
   "mimetype": "text/x-python",
   "name": "python",
   "nbconvert_exporter": "python",
   "pygments_lexer": "ipython3",
   "version": "3.12.4"
  }
 },
 "nbformat": 4,
 "nbformat_minor": 5
}

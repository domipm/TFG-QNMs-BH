{
 "cells": [
  {
   "cell_type": "markdown",
   "id": "acfe1f69",
   "metadata": {},
   "source": [
    "### **Simpson-Visser Metric (w/o LQG corrections)**\n",
    "\n",
    "$$\n",
    "ds^2 = \\left(1 - \\frac{r_s}{\\sqrt{x^2 + x_0^2}}\\right)\\,dt^2 + \\left(1 - \\frac{r_s}{\\sqrt{x^2 + x_0^2}}\\right)^{-1}\\,dr^2 + (x^2 + x_0^2)\\,d\\Omega_2^2 \n",
    "$$"
   ]
  },
  {
   "cell_type": "markdown",
   "id": "a8792baf",
   "metadata": {},
   "source": [
    "Import libraries"
   ]
  },
  {
   "cell_type": "code",
   "execution_count": 432,
   "id": "0b90ea24",
   "metadata": {},
   "outputs": [],
   "source": [
    "import numpy as np\n",
    "import sympy as sp"
   ]
  },
  {
   "cell_type": "markdown",
   "id": "72dd3ec2",
   "metadata": {},
   "source": [
    "Define variables"
   ]
  },
  {
   "cell_type": "code",
   "execution_count": 433,
   "id": "bbc8b76b",
   "metadata": {},
   "outputs": [
    {
     "data": {
      "text/latex": [
       "$\\displaystyle x$"
      ],
      "text/plain": [
       "x"
      ]
     },
     "metadata": {},
     "output_type": "display_data"
    },
    {
     "data": {
      "text/latex": [
       "$\\displaystyle x_{0}$"
      ],
      "text/plain": [
       "x_0"
      ]
     },
     "metadata": {},
     "output_type": "display_data"
    },
    {
     "data": {
      "text/latex": [
       "$\\displaystyle x_{*}$"
      ],
      "text/plain": [
       "x_*"
      ]
     },
     "metadata": {},
     "output_type": "display_data"
    },
    {
     "data": {
      "text/latex": [
       "$\\displaystyle r_{s}$"
      ],
      "text/plain": [
       "r_s"
      ]
     },
     "metadata": {},
     "output_type": "display_data"
    }
   ],
   "source": [
    "# Define all variables in line element\n",
    "x, x0, xs, rs = sp.symbols(\"x, x_0, x_*, r_s\", positive = True)\n",
    "display(x, x0, xs, rs)"
   ]
  },
  {
   "cell_type": "code",
   "execution_count": 434,
   "id": "e936d70e",
   "metadata": {},
   "outputs": [
    {
     "data": {
      "text/latex": [
       "$\\displaystyle \\ell$"
      ],
      "text/plain": [
       "ell"
      ]
     },
     "metadata": {},
     "output_type": "display_data"
    },
    {
     "data": {
      "text/latex": [
       "$\\displaystyle \\omega$"
      ],
      "text/plain": [
       "omega"
      ]
     },
     "metadata": {},
     "output_type": "display_data"
    }
   ],
   "source": [
    "# Define variables in differential equation\n",
    "l, w = sp.symbols(\"ell, omega\")\n",
    "display(l, w)"
   ]
  },
  {
   "cell_type": "markdown",
   "id": "8887128c",
   "metadata": {},
   "source": [
    "Define functions and their derivatives"
   ]
  },
  {
   "cell_type": "code",
   "execution_count": 435,
   "id": "c085f0b7",
   "metadata": {},
   "outputs": [
    {
     "data": {
      "text/latex": [
       "$\\displaystyle V{\\left(x \\right)}$"
      ],
      "text/plain": [
       "V(x)"
      ]
     },
     "metadata": {},
     "output_type": "display_data"
    }
   ],
   "source": [
    "# Define arbitrary potential function\n",
    "pot = sp.Function(\"V\")(x)\n",
    "display(pot)"
   ]
  },
  {
   "cell_type": "code",
   "execution_count": 436,
   "id": "76b2c487",
   "metadata": {},
   "outputs": [
    {
     "data": {
      "text/latex": [
       "$\\displaystyle \\psi{\\left(x \\right)}$"
      ],
      "text/plain": [
       "psi(x)"
      ]
     },
     "metadata": {},
     "output_type": "display_data"
    }
   ],
   "source": [
    "# Define psi function (initially as function of x)\n",
    "psi = sp.Function('psi')(x)\n",
    "display(psi)"
   ]
  },
  {
   "cell_type": "code",
   "execution_count": 437,
   "id": "6b700ae1",
   "metadata": {},
   "outputs": [
    {
     "data": {
      "text/latex": [
       "$\\displaystyle \\frac{d}{d x} \\psi{\\left(x \\right)}$"
      ],
      "text/plain": [
       "Derivative(psi(x), x)"
      ]
     },
     "metadata": {},
     "output_type": "display_data"
    }
   ],
   "source": [
    "# Define first derivative of psi function\n",
    "dpsi = sp.Derivative(psi, x, evaluate = False)\n",
    "display(dpsi)"
   ]
  },
  {
   "cell_type": "code",
   "execution_count": 438,
   "id": "433e16a2",
   "metadata": {},
   "outputs": [
    {
     "data": {
      "text/latex": [
       "$\\displaystyle \\frac{d^{2}}{d x^{2}} \\psi{\\left(x \\right)}$"
      ],
      "text/plain": [
       "Derivative(psi(x), (x, 2))"
      ]
     },
     "metadata": {},
     "output_type": "display_data"
    }
   ],
   "source": [
    "# Define second derivative of psi function\n",
    "ddpsi = sp.Derivative(dpsi, x, evaluate = False)\n",
    "display(ddpsi)"
   ]
  },
  {
   "cell_type": "code",
   "execution_count": 439,
   "id": "24cc8188",
   "metadata": {},
   "outputs": [
    {
     "data": {
      "text/latex": [
       "$\\displaystyle \\frac{d^{2}}{d x_{*}^{2}} \\psi{\\left(x \\right)}$"
      ],
      "text/plain": [
       "Derivative(psi(x), (x_*, 2))"
      ]
     },
     "metadata": {},
     "output_type": "display_data"
    }
   ],
   "source": [
    "# Second derivative of wave function in terms of tortoise coordinate\n",
    "ddpsi_star = sp.Derivative(sp.Derivative(psi, xs, evaluate = False), xs, evaluate = False)\n",
    "display(ddpsi_star)"
   ]
  },
  {
   "cell_type": "markdown",
   "id": "b8ce5c43",
   "metadata": {},
   "source": [
    "Define second-order derivative we want to solve"
   ]
  },
  {
   "cell_type": "code",
   "execution_count": 440,
   "id": "991dfd2e",
   "metadata": {},
   "outputs": [
    {
     "data": {
      "text/latex": [
       "$\\displaystyle \\left(\\omega^{2} - V{\\left(x \\right)}\\right) \\psi{\\left(x \\right)} + \\frac{d^{2}}{d x_{*}^{2}} \\psi{\\left(x \\right)} = 0$"
      ],
      "text/plain": [
       "Eq((omega**2 - V(x))*psi(x) + Derivative(psi(x), (x_*, 2)), 0)"
      ]
     },
     "metadata": {},
     "output_type": "display_data"
    }
   ],
   "source": [
    "# Define differential equation\n",
    "eq = sp.Equality( ddpsi_star + (w**2 - pot) * psi, 0 )\n",
    "display(eq)"
   ]
  },
  {
   "cell_type": "markdown",
   "id": "2654796b",
   "metadata": {},
   "source": [
    "Define $G(r)$, $F(r)$, and $G(r)$ for our metric"
   ]
  },
  {
   "cell_type": "code",
   "execution_count": 441,
   "id": "bd2cf989",
   "metadata": {},
   "outputs": [
    {
     "data": {
      "text/latex": [
       "$\\displaystyle - \\frac{r_{s}}{\\sqrt{x^{2} + x_{0}^{2}}} + 1$"
      ],
      "text/plain": [
       "-r_s/sqrt(x**2 + x_0**2) + 1"
      ]
     },
     "execution_count": 441,
     "metadata": {},
     "output_type": "execute_result"
    }
   ],
   "source": [
    "G = (1 - rs / sp.sqrt(x**2 + x0**2))\n",
    "G"
   ]
  },
  {
   "cell_type": "code",
   "execution_count": 442,
   "id": "889367cb",
   "metadata": {},
   "outputs": [
    {
     "data": {
      "text/latex": [
       "$\\displaystyle \\frac{1}{- \\frac{r_{s}}{\\sqrt{x^{2} + x_{0}^{2}}} + 1}$"
      ],
      "text/plain": [
       "1/(-r_s/sqrt(x**2 + x_0**2) + 1)"
      ]
     },
     "execution_count": 442,
     "metadata": {},
     "output_type": "execute_result"
    }
   ],
   "source": [
    "F = 1 / G\n",
    "F"
   ]
  },
  {
   "cell_type": "code",
   "execution_count": 443,
   "id": "75e79190",
   "metadata": {},
   "outputs": [
    {
     "data": {
      "text/latex": [
       "$\\displaystyle x^{2} + x_{0}^{2}$"
      ],
      "text/plain": [
       "x**2 + x_0**2"
      ]
     },
     "execution_count": 443,
     "metadata": {},
     "output_type": "execute_result"
    }
   ],
   "source": [
    "H = (x**2 + x0**2)\n",
    "H"
   ]
  },
  {
   "cell_type": "markdown",
   "id": "13c721bd",
   "metadata": {},
   "source": [
    "Calculate required derivatives $G'(r)$, $F'(r)$, $H'(r)$, $H''(r)$"
   ]
  },
  {
   "cell_type": "code",
   "execution_count": 444,
   "id": "b9f583fb",
   "metadata": {},
   "outputs": [
    {
     "data": {
      "text/latex": [
       "$\\displaystyle 2 x$"
      ],
      "text/plain": [
       "2*x"
      ]
     },
     "execution_count": 444,
     "metadata": {},
     "output_type": "execute_result"
    }
   ],
   "source": [
    "Hp = sp.Derivative(H, x, evaluate = True)\n",
    "Hp"
   ]
  },
  {
   "cell_type": "code",
   "execution_count": 445,
   "id": "f77ee960",
   "metadata": {},
   "outputs": [
    {
     "data": {
      "text/latex": [
       "$\\displaystyle 2$"
      ],
      "text/plain": [
       "2"
      ]
     },
     "execution_count": 445,
     "metadata": {},
     "output_type": "execute_result"
    }
   ],
   "source": [
    "Hpp = sp.Derivative(Hp, x, evaluate = True)\n",
    "Hpp"
   ]
  },
  {
   "cell_type": "code",
   "execution_count": 446,
   "id": "33dbb03c",
   "metadata": {},
   "outputs": [
    {
     "data": {
      "text/latex": [
       "$\\displaystyle \\frac{r_{s} x}{\\left(x^{2} + x_{0}^{2}\\right)^{\\frac{3}{2}}}$"
      ],
      "text/plain": [
       "r_s*x/(x**2 + x_0**2)**(3/2)"
      ]
     },
     "execution_count": 446,
     "metadata": {},
     "output_type": "execute_result"
    }
   ],
   "source": [
    "Gp = sp.Derivative(G, x, evaluate = True)\n",
    "Gp"
   ]
  },
  {
   "cell_type": "code",
   "execution_count": 447,
   "id": "f00d0937",
   "metadata": {},
   "outputs": [
    {
     "data": {
      "text/latex": [
       "$\\displaystyle - \\frac{r_{s} x}{\\left(x^{2} + x_{0}^{2}\\right)^{\\frac{3}{2}} \\left(- \\frac{r_{s}}{\\sqrt{x^{2} + x_{0}^{2}}} + 1\\right)^{2}}$"
      ],
      "text/plain": [
       "-r_s*x/((x**2 + x_0**2)**(3/2)*(-r_s/sqrt(x**2 + x_0**2) + 1)**2)"
      ]
     },
     "execution_count": 447,
     "metadata": {},
     "output_type": "execute_result"
    }
   ],
   "source": [
    "Fp = sp.Derivative(F, x, evaluate = True)\n",
    "Fp"
   ]
  },
  {
   "cell_type": "markdown",
   "id": "8b936c12",
   "metadata": {},
   "source": [
    "### Radial function $R(x)$"
   ]
  },
  {
   "cell_type": "code",
   "execution_count": 448,
   "id": "afdc162f",
   "metadata": {},
   "outputs": [
    {
     "data": {
      "text/latex": [
       "$\\displaystyle \\frac{3 r_{s} x^{2} - r_{s} x_{0}^{2} + 3 x_{0}^{2} \\sqrt{x^{2} + x_{0}^{2}}}{\\left(x^{2} + x_{0}^{2}\\right)^{\\frac{5}{2}}}$"
      ],
      "text/plain": [
       "(3*r_s*x**2 - r_s*x_0**2 + 3*x_0**2*sqrt(x**2 + x_0**2))/(x**2 + x_0**2)**(5/2)"
      ]
     },
     "metadata": {},
     "output_type": "display_data"
    }
   ],
   "source": [
    "R = 2/H + 1/F * ( Gp * Hp / (4 * G * H) - Fp * Hp / (4 * F * H) - 3 * Hp**2 / (4 * H**2) + Hpp/(2 * H) )\n",
    "# Simplify and factorize\n",
    "R = R.simplify().factor()\n",
    "# Display radial function\n",
    "display(R)\n"
   ]
  },
  {
   "cell_type": "markdown",
   "id": "3e6ec5fd",
   "metadata": {},
   "source": [
    "### Potentials $^{(\\alpha)}V_{\\ell}^{SV}(x)$"
   ]
  },
  {
   "cell_type": "markdown",
   "id": "093420aa",
   "metadata": {},
   "source": [
    "Compute the axial potential $^{(a)}V_{\\ell}^{SV}(x)$"
   ]
  },
  {
   "cell_type": "code",
   "execution_count": 449,
   "id": "a027e04d",
   "metadata": {},
   "outputs": [
    {
     "data": {
      "text/latex": [
       "$\\displaystyle \\left(- \\frac{r_{s}}{\\sqrt{x^{2} + x_{0}^{2}}} + 1\\right) \\left(\\frac{\\ell \\left(\\ell + 1\\right)}{x^{2} + x_{0}^{2}} - \\frac{3 r_{s} x^{2} - r_{s} x_{0}^{2} + 3 x_{0}^{2} \\sqrt{x^{2} + x_{0}^{2}}}{\\left(x^{2} + x_{0}^{2}\\right)^{\\frac{5}{2}}}\\right)$"
      ],
      "text/plain": [
       "(-r_s/sqrt(x**2 + x_0**2) + 1)*(ell*(ell + 1)/(x**2 + x_0**2) - (3*r_s*x**2 - r_s*x_0**2 + 3*x_0**2*sqrt(x**2 + x_0**2))/(x**2 + x_0**2)**(5/2))"
      ]
     },
     "metadata": {},
     "output_type": "display_data"
    }
   ],
   "source": [
    "V_axi = G * ( l*(l+1) / H - R )\n",
    "display(V_axi)"
   ]
  },
  {
   "cell_type": "markdown",
   "id": "f8cfa8ef",
   "metadata": {},
   "source": [
    "Compute the polar potential $^{(p)}V_{\\ell}^{SV}(x)$"
   ]
  },
  {
   "cell_type": "code",
   "execution_count": 450,
   "id": "cf41c8d6",
   "metadata": {},
   "outputs": [
    {
     "data": {
      "text/latex": [
       "$\\displaystyle \\frac{\\left(\\ell - 1\\right)^{2} \\left(\\ell + 2\\right)^{2} \\left(- \\frac{r_{s}}{\\sqrt{x^{2} + x_{0}^{2}}} + 1\\right) \\left(\\frac{\\left(\\ell - 1\\right) \\left(\\ell + 2\\right) + 2}{x^{2} + x_{0}^{2}} + \\frac{3 r_{s} x^{2} - r_{s} x_{0}^{2} + 3 x_{0}^{2} \\sqrt{x^{2} + x_{0}^{2}}}{\\left(x^{2} + x_{0}^{2}\\right)^{\\frac{5}{2}}} + \\frac{\\left(\\left(\\ell - 1\\right) \\left(\\ell + 2\\right) + \\frac{3 r_{s} x^{2} - r_{s} x_{0}^{2} + 3 x_{0}^{2} \\sqrt{x^{2} + x_{0}^{2}}}{3 \\left(x^{2} + x_{0}^{2}\\right)^{\\frac{3}{2}}}\\right) \\left(3 r_{s} x^{2} - r_{s} x_{0}^{2} + 3 x_{0}^{2} \\sqrt{x^{2} + x_{0}^{2}}\\right)^{2}}{\\left(\\ell - 1\\right)^{2} \\left(\\ell + 2\\right)^{2} \\left(x^{2} + x_{0}^{2}\\right)^{4}}\\right)}{\\left(\\ell - 1\\right) \\left(\\ell + 2\\right) + \\frac{3 r_{s} x^{2} - r_{s} x_{0}^{2} + 3 x_{0}^{2} \\sqrt{x^{2} + x_{0}^{2}}}{\\left(x^{2} + x_{0}^{2}\\right)^{\\frac{3}{2}}}}$"
      ],
      "text/plain": [
       "(ell - 1)**2*(ell + 2)**2*(-r_s/sqrt(x**2 + x_0**2) + 1)*(((ell - 1)*(ell + 2) + 2)/(x**2 + x_0**2) + (3*r_s*x**2 - r_s*x_0**2 + 3*x_0**2*sqrt(x**2 + x_0**2))/(x**2 + x_0**2)**(5/2) + ((ell - 1)*(ell + 2) + (3*r_s*x**2 - r_s*x_0**2 + 3*x_0**2*sqrt(x**2 + x_0**2))/(3*(x**2 + x_0**2)**(3/2)))*(3*r_s*x**2 - r_s*x_0**2 + 3*x_0**2*sqrt(x**2 + x_0**2))**2/((ell - 1)**2*(ell + 2)**2*(x**2 + x_0**2)**4))/((ell - 1)*(ell + 2) + (3*r_s*x**2 - r_s*x_0**2 + 3*x_0**2*sqrt(x**2 + x_0**2))/(x**2 + x_0**2)**(3/2))"
      ]
     },
     "metadata": {},
     "output_type": "display_data"
    }
   ],
   "source": [
    "V_pol = ( G * (l-1)**2 * (l+2)**2 / ( (l-1)*(l+2) + H*R ) ) * ( ( (l-1) * (l+2) + 2 ) / H + R + ( ( H * R**2 ) / ( (l-1)**2 * (l+2)**2 ) ) * ( (l-1) * (l+2) + ( H * R ) / 3 ) )\n",
    "display(V_pol)"
   ]
  },
  {
   "cell_type": "markdown",
   "id": "4cc312b6",
   "metadata": {},
   "source": [
    "Compute the scalar potential $^{(s)}V_{\\ell}^{SV}(x)$"
   ]
  },
  {
   "cell_type": "code",
   "execution_count": 451,
   "id": "d997eb45",
   "metadata": {},
   "outputs": [
    {
     "data": {
      "text/latex": [
       "$\\displaystyle \\left(- \\frac{r_{s}}{\\sqrt{x^{2} + x_{0}^{2}}} + 1\\right) \\left(\\frac{2 x^{2} \\left(- \\frac{r_{s}}{\\sqrt{x^{2} + x_{0}^{2}}} + 1\\right)}{\\left(x^{2} + x_{0}^{2}\\right)^{2}} + \\frac{\\ell \\left(\\ell + 1\\right) - 2}{x^{2} + x_{0}^{2}} + \\frac{3 r_{s} x^{2} - r_{s} x_{0}^{2} + 3 x_{0}^{2} \\sqrt{x^{2} + x_{0}^{2}}}{\\left(x^{2} + x_{0}^{2}\\right)^{\\frac{5}{2}}}\\right)$"
      ],
      "text/plain": [
       "(-r_s/sqrt(x**2 + x_0**2) + 1)*(2*x**2*(-r_s/sqrt(x**2 + x_0**2) + 1)/(x**2 + x_0**2)**2 + (ell*(ell + 1) - 2)/(x**2 + x_0**2) + (3*r_s*x**2 - r_s*x_0**2 + 3*x_0**2*sqrt(x**2 + x_0**2))/(x**2 + x_0**2)**(5/2))"
      ]
     },
     "metadata": {},
     "output_type": "display_data"
    }
   ],
   "source": [
    "V_sca = G * ( ( l*(l+1) - 2 ) / H + Hp**2 / (2 * F * H**2) + R )\n",
    "display(V_sca)"
   ]
  },
  {
   "cell_type": "markdown",
   "id": "00f9df2c",
   "metadata": {},
   "source": [
    "Compute the vector potential $^{(v)}V_{\\ell}^{SV}(x)$"
   ]
  },
  {
   "cell_type": "code",
   "execution_count": 452,
   "id": "50065b16",
   "metadata": {},
   "outputs": [
    {
     "data": {
      "text/latex": [
       "$\\displaystyle \\frac{\\ell \\left(\\ell + 1\\right) \\left(- \\frac{r_{s}}{\\sqrt{x^{2} + x_{0}^{2}}} + 1\\right)}{x^{2} + x_{0}^{2}}$"
      ],
      "text/plain": [
       "ell*(ell + 1)*(-r_s/sqrt(x**2 + x_0**2) + 1)/(x**2 + x_0**2)"
      ]
     },
     "metadata": {},
     "output_type": "display_data"
    }
   ],
   "source": [
    "V_vec = G * l*(l+1) / H\n",
    "display(V_vec)"
   ]
  },
  {
   "cell_type": "markdown",
   "id": "8732372c",
   "metadata": {},
   "source": [
    "Taking $x_0 = 0$, these potentials should result in the Schwarzschild potentials. Let's check that"
   ]
  },
  {
   "cell_type": "code",
   "execution_count": 453,
   "id": "e75c9cec",
   "metadata": {},
   "outputs": [
    {
     "data": {
      "text/latex": [
       "$\\displaystyle \\left(- \\frac{r_{s}}{x} + 1\\right) \\left(\\frac{\\ell \\left(\\ell + 1\\right)}{x^{2}} - \\frac{3 r_{s}}{x^{3}}\\right)$"
      ],
      "text/plain": [
       "(-r_s/x + 1)*(ell*(ell + 1)/x**2 - 3*r_s/x**3)"
      ]
     },
     "metadata": {},
     "output_type": "display_data"
    },
    {
     "data": {
      "text/latex": [
       "$\\displaystyle \\frac{\\left(\\ell - 1\\right)^{2} \\left(\\ell + 2\\right)^{2} \\left(- \\frac{r_{s}}{x} + 1\\right) \\left(\\frac{9 r_{s}^{2} \\left(\\frac{r_{s}}{x} + \\left(\\ell - 1\\right) \\left(\\ell + 2\\right)\\right)}{x^{4} \\left(\\ell - 1\\right)^{2} \\left(\\ell + 2\\right)^{2}} + \\frac{3 r_{s}}{x^{3}} + \\frac{\\left(\\ell - 1\\right) \\left(\\ell + 2\\right) + 2}{x^{2}}\\right)}{\\frac{3 r_{s}}{x} + \\left(\\ell - 1\\right) \\left(\\ell + 2\\right)}$"
      ],
      "text/plain": [
       "(ell - 1)**2*(ell + 2)**2*(-r_s/x + 1)*(9*r_s**2*(r_s/x + (ell - 1)*(ell + 2))/(x**4*(ell - 1)**2*(ell + 2)**2) + 3*r_s/x**3 + ((ell - 1)*(ell + 2) + 2)/x**2)/(3*r_s/x + (ell - 1)*(ell + 2))"
      ]
     },
     "metadata": {},
     "output_type": "display_data"
    },
    {
     "data": {
      "text/latex": [
       "$\\displaystyle \\frac{\\ell \\left(\\ell + 1\\right) \\left(- \\frac{r_{s}}{x} + 1\\right)}{x^{2}}$"
      ],
      "text/plain": [
       "ell*(ell + 1)*(-r_s/x + 1)/x**2"
      ]
     },
     "metadata": {},
     "output_type": "display_data"
    },
    {
     "data": {
      "text/latex": [
       "$\\displaystyle \\left(- \\frac{r_{s}}{x} + 1\\right) \\left(\\frac{3 r_{s}}{x^{3}} + \\frac{\\ell \\left(\\ell + 1\\right) - 2}{x^{2}} + \\frac{2 \\left(- \\frac{r_{s}}{x} + 1\\right)}{x^{2}}\\right)$"
      ],
      "text/plain": [
       "(-r_s/x + 1)*(3*r_s/x**3 + (ell*(ell + 1) - 2)/x**2 + 2*(-r_s/x + 1)/x**2)"
      ]
     },
     "metadata": {},
     "output_type": "display_data"
    }
   ],
   "source": [
    "display(V_axi.subs(x0, 0), V_pol.subs(x0, 0), V_vec.subs(x0, 0), V_sca.subs(x0, 0))"
   ]
  },
  {
   "cell_type": "markdown",
   "id": "7082d36e",
   "metadata": {},
   "source": [
    "### Coordinate transformation $x_* \\rightarrow x \\rightarrow y$"
   ]
  },
  {
   "cell_type": "markdown",
   "id": "213c6af9",
   "metadata": {},
   "source": [
    "We can now focus on the tortoise coordinate differential element:\n",
    "$$\n",
    "dx_* = \\sqrt{\\frac{F(x)}{G(x)}}\\,dx = \\sqrt{\\frac{F(y)}{G(y)}}\\,dy\n",
    "$$\n",
    "\n",
    "Define change of variables given by:\n",
    "$$\n",
    "y = 1 - \\frac{r_s}{\\sqrt{x^2 + x_0^2}} \\rightarrow x = \\sqrt{\\left(\\frac\n",
    "{r_s}{1-y}\\right)^2 - x_0^2}\n",
    "$$"
   ]
  },
  {
   "cell_type": "markdown",
   "id": "13218b8a",
   "metadata": {},
   "source": [
    "Let's compute the derivative $dx / dy$"
   ]
  },
  {
   "cell_type": "code",
   "execution_count": 454,
   "id": "da660ca4",
   "metadata": {},
   "outputs": [
    {
     "data": {
      "text/latex": [
       "$\\displaystyle y$"
      ],
      "text/plain": [
       "y"
      ]
     },
     "metadata": {},
     "output_type": "display_data"
    },
    {
     "data": {
      "text/latex": [
       "$\\displaystyle \\psi{\\left(y \\right)}$"
      ],
      "text/plain": [
       "psi(y)"
      ]
     },
     "metadata": {},
     "output_type": "display_data"
    }
   ],
   "source": [
    "# Define new coordinate\n",
    "y = sp.symbols('y')\n",
    "psi_y = psi.subs(x, y)\n",
    "display(y, psi_y)"
   ]
  },
  {
   "cell_type": "code",
   "execution_count": 455,
   "id": "9f70b44c",
   "metadata": {},
   "outputs": [
    {
     "data": {
      "text/latex": [
       "$\\displaystyle - \\frac{r_{s}}{\\sqrt{x^{2} + x_{0}^{2}}} + 1$"
      ],
      "text/plain": [
       "-r_s/sqrt(x**2 + x_0**2) + 1"
      ]
     },
     "metadata": {},
     "output_type": "display_data"
    }
   ],
   "source": [
    "# Define change of variables y = y(x) = G(x)\n",
    "var_change_y = G\n",
    "display(var_change_y)"
   ]
  },
  {
   "cell_type": "code",
   "execution_count": 456,
   "id": "b602fa65",
   "metadata": {},
   "outputs": [
    {
     "data": {
      "text/latex": [
       "$\\displaystyle \\sqrt{\\frac{r_{s}^{2}}{\\left(1 - y\\right)^{2}} - x_{0}^{2}}$"
      ],
      "text/plain": [
       "sqrt(r_s**2/(1 - y)**2 - x_0**2)"
      ]
     },
     "metadata": {},
     "output_type": "display_data"
    }
   ],
   "source": [
    "# Define inverse change of variables x = x(y)\n",
    "var_change_x = sp.sqrt( (rs / (1-y))**2 - x0**2 )\n",
    "display(var_change_x)"
   ]
  },
  {
   "cell_type": "code",
   "execution_count": 457,
   "id": "5b515e5b",
   "metadata": {},
   "outputs": [
    {
     "data": {
      "text/latex": [
       "$\\displaystyle \\frac{r_{s}^{2}}{\\left(1 - y\\right)^{3} \\sqrt{\\frac{r_{s}^{2}}{\\left(1 - y\\right)^{2}} - x_{0}^{2}}}$"
      ],
      "text/plain": [
       "r_s**2/((1 - y)**3*sqrt(r_s**2/(1 - y)**2 - x_0**2))"
      ]
     },
     "metadata": {},
     "output_type": "display_data"
    }
   ],
   "source": [
    "dx = sp.Derivative(var_change_x, y, evaluate = True)\n",
    "display(dx)"
   ]
  },
  {
   "cell_type": "markdown",
   "id": "bd8728dd",
   "metadata": {},
   "source": [
    "We can obtain $dx_*$ in terms of $dy$, and therefore the term $dx_*/dy$, as:"
   ]
  },
  {
   "cell_type": "code",
   "execution_count": 458,
   "id": "50ce9944",
   "metadata": {},
   "outputs": [
    {
     "data": {
      "text/latex": [
       "$\\displaystyle \\frac{r_{s}^{2}}{y \\left(1 - y\\right)^{3} \\sqrt{\\frac{r_{s}^{2}}{\\left(1 - y\\right)^{2}} - x_{0}^{2}}}$"
      ],
      "text/plain": [
       "r_s**2/(y*(1 - y)**3*sqrt(r_s**2/(1 - y)**2 - x_0**2))"
      ]
     },
     "metadata": {},
     "output_type": "display_data"
    }
   ],
   "source": [
    "# Taking into account that G = y (sympy doesn't like this)\n",
    "# dxstar = 1/G.subs(x, var_change_x) * dx\n",
    "dxstardy = 1/y * dx\n",
    "display(dxstardy)"
   ]
  },
  {
   "cell_type": "markdown",
   "id": "d79afbb1",
   "metadata": {},
   "source": [
    "The inverse relation is simply $dy/dx_*$:"
   ]
  },
  {
   "cell_type": "code",
   "execution_count": 459,
   "id": "38ffa5b0",
   "metadata": {},
   "outputs": [
    {
     "data": {
      "text/latex": [
       "$\\displaystyle \\frac{y \\left(1 - y\\right)^{3} \\sqrt{\\frac{r_{s}^{2}}{\\left(1 - y\\right)^{2}} - x_{0}^{2}}}{r_{s}^{2}}$"
      ],
      "text/plain": [
       "y*(1 - y)**3*sqrt(r_s**2/(1 - y)**2 - x_0**2)/r_s**2"
      ]
     },
     "metadata": {},
     "output_type": "display_data"
    }
   ],
   "source": [
    "dydxstar = 1/dxstardy\n",
    "display(dydxstar)"
   ]
  },
  {
   "cell_type": "markdown",
   "id": "43b5dbd9",
   "metadata": {},
   "source": [
    "This allows us to expand the second derivative in our equation as:\n",
    "$$\n",
    "\\frac{d^2\\psi(x)}{dx_*^2} = \\left(\\frac{d^2y}{dx_*^2}\\right)\\frac{d\\psi(y)}{dy} + \\left(\\frac{dy}{dx_*}\\right)^2\\frac{d^2\\psi}{dy^2}\n",
    "$$\n",
    "\n",
    "where:\n",
    "$$\n",
    "\\frac{d^2y}{dx_*^2} = - \\frac{d/dy(dx_*/dy)}{(dx_*/dy)^3}\n",
    "$$"
   ]
  },
  {
   "cell_type": "markdown",
   "id": "224be88e",
   "metadata": {},
   "source": [
    "First, let's compute $d^2y/dx_*^2$"
   ]
  },
  {
   "cell_type": "code",
   "execution_count": 460,
   "id": "47010add",
   "metadata": {},
   "outputs": [
    {
     "data": {
      "text/latex": [
       "$\\displaystyle - \\frac{y \\left(y - 1\\right)^{3} \\left(- 3 r_{s}^{2} y + r_{s}^{2} + 4 x_{0}^{2} y^{3} - 9 x_{0}^{2} y^{2} + 6 x_{0}^{2} y - x_{0}^{2}\\right)}{r_{s}^{4}}$"
      ],
      "text/plain": [
       "-y*(y - 1)**3*(-3*r_s**2*y + r_s**2 + 4*x_0**2*y**3 - 9*x_0**2*y**2 + 6*x_0**2*y - x_0**2)/r_s**4"
      ]
     },
     "metadata": {},
     "output_type": "display_data"
    }
   ],
   "source": [
    "ddyddxstar = - ( sp.Derivative( dxstardy, y, evaluate = True ) / (dxstardy)**3 ).simplify().factor()\n",
    "display(ddyddxstar)"
   ]
  },
  {
   "cell_type": "markdown",
   "id": "fa28dcd1",
   "metadata": {},
   "source": [
    "The second derivative of the wave function $d^2\\psi/dx_*^2$ in terms of the coordinate $y$ can be written as:"
   ]
  },
  {
   "cell_type": "code",
   "execution_count": 461,
   "id": "37a91405",
   "metadata": {},
   "outputs": [
    {
     "data": {
      "text/latex": [
       "$\\displaystyle \\frac{y^{2} \\left(1 - y\\right)^{6} \\left(\\frac{r_{s}^{2}}{\\left(1 - y\\right)^{2}} - x_{0}^{2}\\right) \\frac{d^{2}}{d y^{2}} \\psi{\\left(y \\right)}}{r_{s}^{4}} - \\frac{y \\left(y - 1\\right)^{3} \\left(- 3 r_{s}^{2} y + r_{s}^{2} + 4 x_{0}^{2} y^{3} - 9 x_{0}^{2} y^{2} + 6 x_{0}^{2} y - x_{0}^{2}\\right) \\frac{d}{d y} \\psi{\\left(y \\right)}}{r_{s}^{4}}$"
      ],
      "text/plain": [
       "y**2*(1 - y)**6*(r_s**2/(1 - y)**2 - x_0**2)*Derivative(psi(y), (y, 2))/r_s**4 - y*(y - 1)**3*(-3*r_s**2*y + r_s**2 + 4*x_0**2*y**3 - 9*x_0**2*y**2 + 6*x_0**2*y - x_0**2)*Derivative(psi(y), y)/r_s**4"
      ]
     },
     "metadata": {},
     "output_type": "display_data"
    }
   ],
   "source": [
    "# Define new second derivative in terms of y\n",
    "ddpsi_y = (ddyddxstar) * dpsi.subs(x, y) + (dydxstar)**2 * ddpsi.subs(x, y)\n",
    "display(ddpsi_y)"
   ]
  },
  {
   "cell_type": "code",
   "execution_count": 462,
   "id": "9d294bc6",
   "metadata": {},
   "outputs": [
    {
     "data": {
      "text/latex": [
       "$\\displaystyle \\frac{d}{d y} \\psi{\\left(y \\right)}$"
      ],
      "text/plain": [
       "Derivative(psi(y), y)"
      ]
     },
     "metadata": {},
     "output_type": "display_data"
    }
   ],
   "source": [
    "# Also redefine first derivative in new coordinate\n",
    "dpsi_y = dpsi.subs(x, y)\n",
    "display(dpsi_y)"
   ]
  },
  {
   "cell_type": "markdown",
   "id": "6cb8e9e3",
   "metadata": {},
   "source": [
    "### Boundary conditions"
   ]
  },
  {
   "cell_type": "markdown",
   "id": "c7f59f3e",
   "metadata": {},
   "source": [
    "In order to obtain physical solutions we must impose boundary conditions. For now, let's follow \"standard procedure\" (as in Schwarzschild) of taking:\n",
    "$$\n",
    "\\psi(x_*) \\sim e^{\\mp i\\omega x_*} \\text{ for } x_* \\rightarrow \\pm\\infty\n",
    "$$\n",
    "\n",
    "which can be achieved by redefining:\n",
    "$$\n",
    "\\psi(y) = y^{-i\\omega r_s}(1-y)^{-i\\omega r_s}\\exp\\left( \\frac{i\\omega r_s}{1-y} \\right)\\phi(y) = \\tilde{\\psi}(y)\\phi(y)\n",
    "$$\n",
    "\n",
    "To use this in our equation, first we must calculate the first and second derivatives:\n",
    "$$\n",
    "\\frac{d\\psi(y)}{dy} = \\frac{d\\tilde{\\psi}(y)}{dy}\\phi(y) + \\tilde{\\psi}(y) \\frac{d\\phi(y)}{dy} = (\\dots)\\tilde{\\psi}(y)\\phi(y) + \\tilde{\\psi}(y)\\frac{d\\phi(y)}{dy}\n",
    "$$\n",
    "\n",
    "where, due to the symmetry of the function, $d\\tilde{\\psi}(y)/dy \\sim \\tilde{\\psi}(y)$ will be proportional."
   ]
  },
  {
   "cell_type": "code",
   "execution_count": 463,
   "id": "4df3e007",
   "metadata": {},
   "outputs": [
    {
     "data": {
      "text/latex": [
       "$\\displaystyle \\phi{\\left(y \\right)}$"
      ],
      "text/plain": [
       "phi(y)"
      ]
     },
     "metadata": {},
     "output_type": "display_data"
    },
    {
     "data": {
      "text/latex": [
       "$\\displaystyle \\frac{d}{d y} \\phi{\\left(y \\right)}$"
      ],
      "text/plain": [
       "Derivative(phi(y), y)"
      ]
     },
     "metadata": {},
     "output_type": "display_data"
    },
    {
     "data": {
      "text/latex": [
       "$\\displaystyle \\frac{d^{2}}{d y^{2}} \\phi{\\left(y \\right)}$"
      ],
      "text/plain": [
       "Derivative(phi(y), (y, 2))"
      ]
     },
     "metadata": {},
     "output_type": "display_data"
    }
   ],
   "source": [
    "# Define new phi function and its derivatives\n",
    "phi = sp.Function(\"phi\")(y)\n",
    "dphi = sp.Derivative(phi, y, evaluate = False)\n",
    "ddphi = sp.Derivative(dphi, y, evaluate = False)\n",
    "display(phi, dphi, ddphi)"
   ]
  },
  {
   "cell_type": "code",
   "execution_count": 464,
   "id": "860c30b8",
   "metadata": {},
   "outputs": [
    {
     "data": {
      "text/latex": [
       "$\\displaystyle y^{- i \\omega r_{s}} \\left(1 - y\\right)^{- i \\omega r_{s}} \\phi{\\left(y \\right)} e^{\\frac{i \\omega r_{s}}{1 - y}}$"
      ],
      "text/plain": [
       "phi(y)*exp(I*omega*r_s/(1 - y))/(y**(I*omega*r_s)*(1 - y)**(I*omega*r_s))"
      ]
     },
     "metadata": {},
     "output_type": "display_data"
    }
   ],
   "source": [
    "# Define new psi function\n",
    "psi_bc = y**(-sp.I * w * rs) * (1-y)**(-sp.I * w * rs) * sp.exp( sp.I * w * rs / (1-y) ) * phi\n",
    "display(psi_bc)"
   ]
  },
  {
   "cell_type": "code",
   "execution_count": 465,
   "id": "beecd7d3",
   "metadata": {},
   "outputs": [
    {
     "data": {
      "text/latex": [
       "$\\displaystyle \\frac{i \\omega r_{s} y^{- i \\omega r_{s}} \\left(1 - y\\right)^{- i \\omega r_{s}} \\phi{\\left(y \\right)} e^{\\frac{i \\omega r_{s}}{1 - y}}}{1 - y} + \\frac{i \\omega r_{s} y^{- i \\omega r_{s}} \\left(1 - y\\right)^{- i \\omega r_{s}} \\phi{\\left(y \\right)} e^{\\frac{i \\omega r_{s}}{1 - y}}}{\\left(1 - y\\right)^{2}} - \\frac{i \\omega r_{s} y^{- i \\omega r_{s}} \\left(1 - y\\right)^{- i \\omega r_{s}} \\phi{\\left(y \\right)} e^{\\frac{i \\omega r_{s}}{1 - y}}}{y} + y^{- i \\omega r_{s}} \\left(1 - y\\right)^{- i \\omega r_{s}} e^{\\frac{i \\omega r_{s}}{1 - y}} \\frac{d}{d y} \\phi{\\left(y \\right)}$"
      ],
      "text/plain": [
       "I*omega*r_s*phi(y)*exp(I*omega*r_s/(1 - y))/(y**(I*omega*r_s)*(1 - y)*(1 - y)**(I*omega*r_s)) + I*omega*r_s*phi(y)*exp(I*omega*r_s/(1 - y))/(y**(I*omega*r_s)*(1 - y)**2*(1 - y)**(I*omega*r_s)) - I*omega*r_s*phi(y)*exp(I*omega*r_s/(1 - y))/(y*y**(I*omega*r_s)*(1 - y)**(I*omega*r_s)) + exp(I*omega*r_s/(1 - y))*Derivative(phi(y), y)/(y**(I*omega*r_s)*(1 - y)**(I*omega*r_s))"
      ]
     },
     "metadata": {},
     "output_type": "display_data"
    }
   ],
   "source": [
    "# Compute its first derivative\n",
    "psi_bc_der = sp.Derivative(psi_bc, y, evaluate = True)\n",
    "display(psi_bc_der)"
   ]
  },
  {
   "cell_type": "code",
   "execution_count": 466,
   "id": "f2176c61",
   "metadata": {},
   "outputs": [
    {
     "data": {
      "text/latex": [
       "$\\displaystyle - \\frac{i \\omega r_{s} \\left(2 y^{2} - 4 y + 1\\right)}{y \\left(y - 1\\right)^{2}}$"
      ],
      "text/plain": [
       "-I*omega*r_s*(2*y**2 - 4*y + 1)/(y*(y - 1)**2)"
      ]
     },
     "metadata": {},
     "output_type": "display_data"
    }
   ],
   "source": [
    "# Extract coefficient that accompanies the original function [ we call this (...) ]\n",
    "dpsi_bc_coeff = psi_bc_der.coeff( psi_bc ).factor()\n",
    "display(dpsi_bc_coeff)"
   ]
  },
  {
   "cell_type": "code",
   "execution_count": 467,
   "id": "7e683b2e",
   "metadata": {},
   "outputs": [
    {
     "data": {
      "text/latex": [
       "$\\displaystyle - \\frac{i \\omega r_{s} \\left(2 y^{2} - 4 y + 1\\right) \\phi{\\left(y \\right)}}{y \\left(y - 1\\right)^{2}} + \\frac{d}{d y} \\phi{\\left(y \\right)}$"
      ],
      "text/plain": [
       "-I*omega*r_s*(2*y**2 - 4*y + 1)*phi(y)/(y*(y - 1)**2) + Derivative(phi(y), y)"
      ]
     },
     "metadata": {},
     "output_type": "display_data"
    }
   ],
   "source": [
    "# Define now the first derivative (ignoring psi tilde term) after boundary conditions\n",
    "dpsi_bc = dpsi_bc_coeff * phi + dphi\n",
    "display(dpsi_bc)"
   ]
  },
  {
   "cell_type": "markdown",
   "id": "371a3518",
   "metadata": {},
   "source": [
    "Now, we must calculate the second derivative:\n",
    "$$\n",
    "\\begin{align*}\n",
    "\\frac{d^2\\psi(y)}{dy^2} &= \\frac{d(\\dots)}{dy}\\tilde{\\psi}(y)\\phi(y) + (\\dots)\\frac{d\\tilde{\\psi}(y)}{dy}\\phi(y) + (\\dots)\\tilde{\\psi}(y)\\frac{d\\phi(y)}{dy} + \\frac{d\\tilde{\\psi}(y)}{dy}\\frac{d\\phi(y)}{dy} + \\tilde{\\psi}(y)\\frac{d^2\\phi(y)}{dy^2} \\\\\n",
    "&= \\frac{d(\\dots)}{dy}\\tilde{\\psi}(y)\\phi(y) + (\\dots)^2\\tilde{\\psi}(y)\\phi(y) + (\\dots)\\tilde{\\psi}(y)\\frac{d\\phi(y)}{dy} \n",
    "+ (\\dots)\\tilde{\\psi}(y)\\frac{d\\phi(y)}{dy} + \\tilde{\\psi}(y)\\frac{d^2\\phi(y)}{dy^2} \\\\\n",
    "&\\sim \\left[ \\frac{d(\\dots)}{dy} + (\\dots)^2 \\right]\\phi(y) + 2(\\dots) \\frac{d\\phi(y)}{dy} + \\frac{d^2\\phi(y)}{dy^2}\n",
    "\\end{align*}\n",
    "$$"
   ]
  },
  {
   "cell_type": "code",
   "execution_count": 468,
   "id": "e27514a5",
   "metadata": {},
   "outputs": [
    {
     "data": {
      "text/latex": [
       "$\\displaystyle \\frac{i \\omega r_{s} \\left(2 y^{3} - 6 y^{2} + 3 y - 1\\right)}{y^{2} \\left(y - 1\\right)^{3}}$"
      ],
      "text/plain": [
       "I*omega*r_s*(2*y**3 - 6*y**2 + 3*y - 1)/(y**2*(y - 1)**3)"
      ]
     },
     "metadata": {},
     "output_type": "display_data"
    }
   ],
   "source": [
    "# Compute derivative of coefficient\n",
    "ddpsi_bc_coeff = sp.Derivative( dpsi_bc_coeff, y, evaluate = True ).factor()\n",
    "display(ddpsi_bc_coeff)"
   ]
  },
  {
   "cell_type": "code",
   "execution_count": 469,
   "id": "cdc2487b",
   "metadata": {},
   "outputs": [
    {
     "data": {
      "text/latex": [
       "$\\displaystyle - \\frac{2 i \\omega r_{s} \\left(2 y^{2} - 4 y + 1\\right) \\frac{d}{d y} \\phi{\\left(y \\right)}}{y \\left(y - 1\\right)^{2}} + \\left(- \\frac{\\omega^{2} r_{s}^{2} \\left(2 y^{2} - 4 y + 1\\right)^{2}}{y^{2} \\left(y - 1\\right)^{4}} + \\frac{i \\omega r_{s} \\left(2 y^{3} - 6 y^{2} + 3 y - 1\\right)}{y^{2} \\left(y - 1\\right)^{3}}\\right) \\phi{\\left(y \\right)} + \\frac{d^{2}}{d y^{2}} \\phi{\\left(y \\right)}$"
      ],
      "text/plain": [
       "-2*I*omega*r_s*(2*y**2 - 4*y + 1)*Derivative(phi(y), y)/(y*(y - 1)**2) + (-omega**2*r_s**2*(2*y**2 - 4*y + 1)**2/(y**2*(y - 1)**4) + I*omega*r_s*(2*y**3 - 6*y**2 + 3*y - 1)/(y**2*(y - 1)**3))*phi(y) + Derivative(phi(y), (y, 2))"
      ]
     },
     "metadata": {},
     "output_type": "display_data"
    }
   ],
   "source": [
    "# We can now define the second derivative\n",
    "ddpsi_bc = ( ddpsi_bc_coeff + dpsi_bc_coeff**2 ) * phi + 2 * dpsi_bc_coeff * dphi + ddphi\n",
    "display(ddpsi_bc)"
   ]
  },
  {
   "cell_type": "markdown",
   "id": "5b0f795e",
   "metadata": {},
   "source": [
    "### Vector equation"
   ]
  },
  {
   "cell_type": "code",
   "execution_count": 470,
   "id": "9159a44c",
   "metadata": {},
   "outputs": [
    {
     "data": {
      "text/latex": [
       "$\\displaystyle \\left(- \\frac{\\ell \\left(1 - y\\right)^{2} \\left(1 - \\frac{1}{\\sqrt{\\frac{1}{\\left(1 - y\\right)^{2}}}}\\right) \\left(\\ell + 1\\right)}{r_{s}^{2}} + \\omega^{2}\\right) \\phi{\\left(y \\right)} + \\frac{y^{2} \\left(1 - y\\right)^{6} \\left(\\frac{r_{s}^{2}}{\\left(1 - y\\right)^{2}} - x_{0}^{2}\\right) \\left(- \\frac{2 i \\omega r_{s} \\left(2 y^{2} - 4 y + 1\\right) \\frac{d}{d y} \\phi{\\left(y \\right)}}{y \\left(y - 1\\right)^{2}} + \\left(- \\frac{\\omega^{2} r_{s}^{2} \\left(2 y^{2} - 4 y + 1\\right)^{2}}{y^{2} \\left(y - 1\\right)^{4}} + \\frac{i \\omega r_{s} \\left(2 y^{3} - 6 y^{2} + 3 y - 1\\right)}{y^{2} \\left(y - 1\\right)^{3}}\\right) \\phi{\\left(y \\right)} + \\frac{d^{2}}{d y^{2}} \\phi{\\left(y \\right)}\\right)}{r_{s}^{4}} - \\frac{y \\left(y - 1\\right)^{3} \\left(- \\frac{i \\omega r_{s} \\left(2 y^{2} - 4 y + 1\\right) \\phi{\\left(y \\right)}}{y \\left(y - 1\\right)^{2}} + \\frac{d}{d y} \\phi{\\left(y \\right)}\\right) \\left(- 3 r_{s}^{2} y + r_{s}^{2} + 4 x_{0}^{2} y^{3} - 9 x_{0}^{2} y^{2} + 6 x_{0}^{2} y - x_{0}^{2}\\right)}{r_{s}^{4}} = 0$"
      ],
      "text/plain": [
       "Eq((-ell*(1 - y)**2*(1 - 1/sqrt((1 - y)**(-2)))*(ell + 1)/r_s**2 + omega**2)*phi(y) + y**2*(1 - y)**6*(r_s**2/(1 - y)**2 - x_0**2)*(-2*I*omega*r_s*(2*y**2 - 4*y + 1)*Derivative(phi(y), y)/(y*(y - 1)**2) + (-omega**2*r_s**2*(2*y**2 - 4*y + 1)**2/(y**2*(y - 1)**4) + I*omega*r_s*(2*y**3 - 6*y**2 + 3*y - 1)/(y**2*(y - 1)**3))*phi(y) + Derivative(phi(y), (y, 2)))/r_s**4 - y*(y - 1)**3*(-I*omega*r_s*(2*y**2 - 4*y + 1)*phi(y)/(y*(y - 1)**2) + Derivative(phi(y), y))*(-3*r_s**2*y + r_s**2 + 4*x_0**2*y**3 - 9*x_0**2*y**2 + 6*x_0**2*y - x_0**2)/r_s**4, 0)"
      ]
     },
     "metadata": {},
     "output_type": "display_data"
    }
   ],
   "source": [
    "# First, insert potential\n",
    "eq_vec_pot = eq.subs( pot, V_vec )\n",
    "# Second, change of variable\n",
    "eq_vec_chvar = eq_vec_pot.subs( ddpsi_star, ddpsi_y ).subs(psi, psi_y).subs(x, var_change_x)\n",
    "# Third, insert boundary conditions\n",
    "eq_vec_bc = eq_vec_chvar.subs( {sp.Derivative(psi_y, y): dpsi_bc, sp.Derivative(sp.Derivative(psi_y, y), y): ddpsi_bc, psi_y: phi} ) # .doit()\n",
    "# Define axial equation with change of variable and boundary condition\n",
    "eq_vec = eq_vec_bc\n",
    "# Display\n",
    "display(eq_vec)"
   ]
  },
  {
   "cell_type": "code",
   "execution_count": 471,
   "id": "cbf5c16d",
   "metadata": {},
   "outputs": [
    {
     "data": {
      "text/latex": [
       "$\\displaystyle - \\frac{y^{2} \\left(y - 1\\right)^{4} \\left(- r_{s} + x_{0} y - x_{0}\\right) \\left(r_{s} + x_{0} y - x_{0}\\right)}{r_{s}^{4}}$"
      ],
      "text/plain": [
       "-y**2*(y - 1)**4*(-r_s + x_0*y - x_0)*(r_s + x_0*y - x_0)/r_s**4"
      ]
     },
     "metadata": {},
     "output_type": "display_data"
    }
   ],
   "source": [
    "# Extract term accompanying second derivative\n",
    "norm_vec = eq_vec.lhs.expand().coeff(ddphi).factor()\n",
    "display(norm_vec)"
   ]
  },
  {
   "cell_type": "code",
   "execution_count": 472,
   "id": "64d175f5",
   "metadata": {},
   "outputs": [
    {
     "data": {
      "text/latex": [
       "$\\displaystyle \\left(\\frac{y^{8}}{r_{s}^{2} y^{2} - 2 r_{s}^{2} y + r_{s}^{2}} - \\frac{6 y^{7}}{r_{s}^{2} y^{2} - 2 r_{s}^{2} y + r_{s}^{2}} + \\frac{15 y^{6}}{r_{s}^{2} y^{2} - 2 r_{s}^{2} y + r_{s}^{2}} - \\frac{20 y^{5}}{r_{s}^{2} y^{2} - 2 r_{s}^{2} y + r_{s}^{2}} + \\frac{15 y^{4}}{r_{s}^{2} y^{2} - 2 r_{s}^{2} y + r_{s}^{2}} - \\frac{6 y^{3}}{r_{s}^{2} y^{2} - 2 r_{s}^{2} y + r_{s}^{2}} + \\frac{y^{2}}{r_{s}^{2} y^{2} - 2 r_{s}^{2} y + r_{s}^{2}} - \\frac{x_{0}^{2} y^{8}}{r_{s}^{4}} + \\frac{6 x_{0}^{2} y^{7}}{r_{s}^{4}} - \\frac{15 x_{0}^{2} y^{6}}{r_{s}^{4}} + \\frac{20 x_{0}^{2} y^{5}}{r_{s}^{4}} - \\frac{15 x_{0}^{2} y^{4}}{r_{s}^{4}} + \\frac{6 x_{0}^{2} y^{3}}{r_{s}^{4}} - \\frac{x_{0}^{2} y^{2}}{r_{s}^{4}}\\right) \\frac{d^{2}}{d y^{2}} \\phi{\\left(y \\right)} + \\left(\\frac{4 i \\omega x_{0}^{2} y^{10}}{r_{s}^{3} y^{3} - 2 r_{s}^{3} y^{2} + r_{s}^{3} y} - \\frac{32 i \\omega x_{0}^{2} y^{9}}{r_{s}^{3} y^{3} - 2 r_{s}^{3} y^{2} + r_{s}^{3} y} + \\frac{110 i \\omega x_{0}^{2} y^{8}}{r_{s}^{3} y^{3} - 2 r_{s}^{3} y^{2} + r_{s}^{3} y} - \\frac{212 i \\omega x_{0}^{2} y^{7}}{r_{s}^{3} y^{3} - 2 r_{s}^{3} y^{2} + r_{s}^{3} y} + \\frac{250 i \\omega x_{0}^{2} y^{6}}{r_{s}^{3} y^{3} - 2 r_{s}^{3} y^{2} + r_{s}^{3} y} - \\frac{184 i \\omega x_{0}^{2} y^{5}}{r_{s}^{3} y^{3} - 2 r_{s}^{3} y^{2} + r_{s}^{3} y} + \\frac{82 i \\omega x_{0}^{2} y^{4}}{r_{s}^{3} y^{3} - 2 r_{s}^{3} y^{2} + r_{s}^{3} y} - \\frac{20 i \\omega x_{0}^{2} y^{3}}{r_{s}^{3} y^{3} - 2 r_{s}^{3} y^{2} + r_{s}^{3} y} + \\frac{2 i \\omega x_{0}^{2} y^{2}}{r_{s}^{3} y^{3} - 2 r_{s}^{3} y^{2} + r_{s}^{3} y} - \\frac{4 i \\omega y^{10}}{r_{s} y^{5} - 4 r_{s} y^{4} + 6 r_{s} y^{3} - 4 r_{s} y^{2} + r_{s} y} + \\frac{32 i \\omega y^{9}}{r_{s} y^{5} - 4 r_{s} y^{4} + 6 r_{s} y^{3} - 4 r_{s} y^{2} + r_{s} y} - \\frac{110 i \\omega y^{8}}{r_{s} y^{5} - 4 r_{s} y^{4} + 6 r_{s} y^{3} - 4 r_{s} y^{2} + r_{s} y} + \\frac{212 i \\omega y^{7}}{r_{s} y^{5} - 4 r_{s} y^{4} + 6 r_{s} y^{3} - 4 r_{s} y^{2} + r_{s} y} - \\frac{250 i \\omega y^{6}}{r_{s} y^{5} - 4 r_{s} y^{4} + 6 r_{s} y^{3} - 4 r_{s} y^{2} + r_{s} y} + \\frac{184 i \\omega y^{5}}{r_{s} y^{5} - 4 r_{s} y^{4} + 6 r_{s} y^{3} - 4 r_{s} y^{2} + r_{s} y} - \\frac{82 i \\omega y^{4}}{r_{s} y^{5} - 4 r_{s} y^{4} + 6 r_{s} y^{3} - 4 r_{s} y^{2} + r_{s} y} + \\frac{20 i \\omega y^{3}}{r_{s} y^{5} - 4 r_{s} y^{4} + 6 r_{s} y^{3} - 4 r_{s} y^{2} + r_{s} y} - \\frac{2 i \\omega y^{2}}{r_{s} y^{5} - 4 r_{s} y^{4} + 6 r_{s} y^{3} - 4 r_{s} y^{2} + r_{s} y} + \\frac{3 y^{5}}{r_{s}^{2}} - \\frac{10 y^{4}}{r_{s}^{2}} + \\frac{12 y^{3}}{r_{s}^{2}} - \\frac{6 y^{2}}{r_{s}^{2}} + \\frac{y}{r_{s}^{2}} - \\frac{4 x_{0}^{2} y^{7}}{r_{s}^{4}} + \\frac{21 x_{0}^{2} y^{6}}{r_{s}^{4}} - \\frac{45 x_{0}^{2} y^{5}}{r_{s}^{4}} + \\frac{50 x_{0}^{2} y^{4}}{r_{s}^{4}} - \\frac{30 x_{0}^{2} y^{3}}{r_{s}^{4}} + \\frac{9 x_{0}^{2} y^{2}}{r_{s}^{4}} - \\frac{x_{0}^{2} y}{r_{s}^{4}}\\right) \\frac{d}{d y} \\phi{\\left(y \\right)} + \\left(- \\frac{\\ell^{2} y^{2}}{r_{s}^{2}} + \\frac{\\ell^{2} y^{2}}{r_{s}^{2} \\sqrt{\\frac{1}{y^{2} - 2 y + 1}}} + \\frac{2 \\ell^{2} y}{r_{s}^{2}} - \\frac{2 \\ell^{2} y}{r_{s}^{2} \\sqrt{\\frac{1}{y^{2} - 2 y + 1}}} - \\frac{\\ell^{2}}{r_{s}^{2}} + \\frac{\\ell^{2}}{r_{s}^{2} \\sqrt{\\frac{1}{y^{2} - 2 y + 1}}} - \\frac{\\ell y^{2}}{r_{s}^{2}} + \\frac{\\ell y^{2}}{r_{s}^{2} \\sqrt{\\frac{1}{y^{2} - 2 y + 1}}} + \\frac{2 \\ell y}{r_{s}^{2}} - \\frac{2 \\ell y}{r_{s}^{2} \\sqrt{\\frac{1}{y^{2} - 2 y + 1}}} - \\frac{\\ell}{r_{s}^{2}} + \\frac{\\ell}{r_{s}^{2} \\sqrt{\\frac{1}{y^{2} - 2 y + 1}}} + \\frac{4 \\omega^{2} x_{0}^{2} y^{12}}{r_{s}^{2} y^{6} - 4 r_{s}^{2} y^{5} + 6 r_{s}^{2} y^{4} - 4 r_{s}^{2} y^{3} + r_{s}^{2} y^{2}} - \\frac{40 \\omega^{2} x_{0}^{2} y^{11}}{r_{s}^{2} y^{6} - 4 r_{s}^{2} y^{5} + 6 r_{s}^{2} y^{4} - 4 r_{s}^{2} y^{3} + r_{s}^{2} y^{2}} + \\frac{176 \\omega^{2} x_{0}^{2} y^{10}}{r_{s}^{2} y^{6} - 4 r_{s}^{2} y^{5} + 6 r_{s}^{2} y^{4} - 4 r_{s}^{2} y^{3} + r_{s}^{2} y^{2}} - \\frac{448 \\omega^{2} x_{0}^{2} y^{9}}{r_{s}^{2} y^{6} - 4 r_{s}^{2} y^{5} + 6 r_{s}^{2} y^{4} - 4 r_{s}^{2} y^{3} + r_{s}^{2} y^{2}} + \\frac{729 \\omega^{2} x_{0}^{2} y^{8}}{r_{s}^{2} y^{6} - 4 r_{s}^{2} y^{5} + 6 r_{s}^{2} y^{4} - 4 r_{s}^{2} y^{3} + r_{s}^{2} y^{2}} - \\frac{790 \\omega^{2} x_{0}^{2} y^{7}}{r_{s}^{2} y^{6} - 4 r_{s}^{2} y^{5} + 6 r_{s}^{2} y^{4} - 4 r_{s}^{2} y^{3} + r_{s}^{2} y^{2}} + \\frac{575 \\omega^{2} x_{0}^{2} y^{6}}{r_{s}^{2} y^{6} - 4 r_{s}^{2} y^{5} + 6 r_{s}^{2} y^{4} - 4 r_{s}^{2} y^{3} + r_{s}^{2} y^{2}} - \\frac{276 \\omega^{2} x_{0}^{2} y^{5}}{r_{s}^{2} y^{6} - 4 r_{s}^{2} y^{5} + 6 r_{s}^{2} y^{4} - 4 r_{s}^{2} y^{3} + r_{s}^{2} y^{2}} + \\frac{83 \\omega^{2} x_{0}^{2} y^{4}}{r_{s}^{2} y^{6} - 4 r_{s}^{2} y^{5} + 6 r_{s}^{2} y^{4} - 4 r_{s}^{2} y^{3} + r_{s}^{2} y^{2}} - \\frac{14 \\omega^{2} x_{0}^{2} y^{3}}{r_{s}^{2} y^{6} - 4 r_{s}^{2} y^{5} + 6 r_{s}^{2} y^{4} - 4 r_{s}^{2} y^{3} + r_{s}^{2} y^{2}} + \\frac{\\omega^{2} x_{0}^{2} y^{2}}{r_{s}^{2} y^{6} - 4 r_{s}^{2} y^{5} + 6 r_{s}^{2} y^{4} - 4 r_{s}^{2} y^{3} + r_{s}^{2} y^{2}} - \\frac{4 \\omega^{2} y^{12}}{y^{8} - 6 y^{7} + 15 y^{6} - 20 y^{5} + 15 y^{4} - 6 y^{3} + y^{2}} + \\frac{40 \\omega^{2} y^{11}}{y^{8} - 6 y^{7} + 15 y^{6} - 20 y^{5} + 15 y^{4} - 6 y^{3} + y^{2}} - \\frac{176 \\omega^{2} y^{10}}{y^{8} - 6 y^{7} + 15 y^{6} - 20 y^{5} + 15 y^{4} - 6 y^{3} + y^{2}} + \\frac{448 \\omega^{2} y^{9}}{y^{8} - 6 y^{7} + 15 y^{6} - 20 y^{5} + 15 y^{4} - 6 y^{3} + y^{2}} - \\frac{729 \\omega^{2} y^{8}}{y^{8} - 6 y^{7} + 15 y^{6} - 20 y^{5} + 15 y^{4} - 6 y^{3} + y^{2}} + \\frac{790 \\omega^{2} y^{7}}{y^{8} - 6 y^{7} + 15 y^{6} - 20 y^{5} + 15 y^{4} - 6 y^{3} + y^{2}} - \\frac{575 \\omega^{2} y^{6}}{y^{8} - 6 y^{7} + 15 y^{6} - 20 y^{5} + 15 y^{4} - 6 y^{3} + y^{2}} + \\frac{276 \\omega^{2} y^{5}}{y^{8} - 6 y^{7} + 15 y^{6} - 20 y^{5} + 15 y^{4} - 6 y^{3} + y^{2}} - \\frac{83 \\omega^{2} y^{4}}{y^{8} - 6 y^{7} + 15 y^{6} - 20 y^{5} + 15 y^{4} - 6 y^{3} + y^{2}} + \\frac{14 \\omega^{2} y^{3}}{y^{8} - 6 y^{7} + 15 y^{6} - 20 y^{5} + 15 y^{4} - 6 y^{3} + y^{2}} - \\frac{\\omega^{2} y^{2}}{y^{8} - 6 y^{7} + 15 y^{6} - 20 y^{5} + 15 y^{4} - 6 y^{3} + y^{2}} + \\omega^{2} - \\frac{2 i \\omega x_{0}^{2} y^{11}}{r_{s}^{3} y^{5} - 3 r_{s}^{3} y^{4} + 3 r_{s}^{3} y^{3} - r_{s}^{3} y^{2}} + \\frac{18 i \\omega x_{0}^{2} y^{10}}{r_{s}^{3} y^{5} - 3 r_{s}^{3} y^{4} + 3 r_{s}^{3} y^{3} - r_{s}^{3} y^{2}} - \\frac{69 i \\omega x_{0}^{2} y^{9}}{r_{s}^{3} y^{5} - 3 r_{s}^{3} y^{4} + 3 r_{s}^{3} y^{3} - r_{s}^{3} y^{2}} + \\frac{8 i \\omega x_{0}^{2} y^{9}}{r_{s}^{3} y^{3} - 2 r_{s}^{3} y^{2} + r_{s}^{3} y} + \\frac{149 i \\omega x_{0}^{2} y^{8}}{r_{s}^{3} y^{5} - 3 r_{s}^{3} y^{4} + 3 r_{s}^{3} y^{3} - r_{s}^{3} y^{2}} - \\frac{58 i \\omega x_{0}^{2} y^{8}}{r_{s}^{3} y^{3} - 2 r_{s}^{3} y^{2} + r_{s}^{3} y} - \\frac{201 i \\omega x_{0}^{2} y^{7}}{r_{s}^{3} y^{5} - 3 r_{s}^{3} y^{4} + 3 r_{s}^{3} y^{3} - r_{s}^{3} y^{2}} + \\frac{178 i \\omega x_{0}^{2} y^{7}}{r_{s}^{3} y^{3} - 2 r_{s}^{3} y^{2} + r_{s}^{3} y} + \\frac{177 i \\omega x_{0}^{2} y^{6}}{r_{s}^{3} y^{5} - 3 r_{s}^{3} y^{4} + 3 r_{s}^{3} y^{3} - r_{s}^{3} y^{2}} - \\frac{301 i \\omega x_{0}^{2} y^{6}}{r_{s}^{3} y^{3} - 2 r_{s}^{3} y^{2} + r_{s}^{3} y} - \\frac{103 i \\omega x_{0}^{2} y^{5}}{r_{s}^{3} y^{5} - 3 r_{s}^{3} y^{4} + 3 r_{s}^{3} y^{3} - r_{s}^{3} y^{2}} + \\frac{305 i \\omega x_{0}^{2} y^{5}}{r_{s}^{3} y^{3} - 2 r_{s}^{3} y^{2} + r_{s}^{3} y} + \\frac{39 i \\omega x_{0}^{2} y^{4}}{r_{s}^{3} y^{5} - 3 r_{s}^{3} y^{4} + 3 r_{s}^{3} y^{3} - r_{s}^{3} y^{2}} - \\frac{188 i \\omega x_{0}^{2} y^{4}}{r_{s}^{3} y^{3} - 2 r_{s}^{3} y^{2} + r_{s}^{3} y} - \\frac{9 i \\omega x_{0}^{2} y^{3}}{r_{s}^{3} y^{5} - 3 r_{s}^{3} y^{4} + 3 r_{s}^{3} y^{3} - r_{s}^{3} y^{2}} + \\frac{68 i \\omega x_{0}^{2} y^{3}}{r_{s}^{3} y^{3} - 2 r_{s}^{3} y^{2} + r_{s}^{3} y} + \\frac{i \\omega x_{0}^{2} y^{2}}{r_{s}^{3} y^{5} - 3 r_{s}^{3} y^{4} + 3 r_{s}^{3} y^{3} - r_{s}^{3} y^{2}} - \\frac{13 i \\omega x_{0}^{2} y^{2}}{r_{s}^{3} y^{3} - 2 r_{s}^{3} y^{2} + r_{s}^{3} y} + \\frac{i \\omega x_{0}^{2} y}{r_{s}^{3} y^{3} - 2 r_{s}^{3} y^{2} + r_{s}^{3} y} + \\frac{2 i \\omega y^{11}}{r_{s} y^{7} - 5 r_{s} y^{6} + 10 r_{s} y^{5} - 10 r_{s} y^{4} + 5 r_{s} y^{3} - r_{s} y^{2}} - \\frac{18 i \\omega y^{10}}{r_{s} y^{7} - 5 r_{s} y^{6} + 10 r_{s} y^{5} - 10 r_{s} y^{4} + 5 r_{s} y^{3} - r_{s} y^{2}} + \\frac{69 i \\omega y^{9}}{r_{s} y^{7} - 5 r_{s} y^{6} + 10 r_{s} y^{5} - 10 r_{s} y^{4} + 5 r_{s} y^{3} - r_{s} y^{2}} - \\frac{149 i \\omega y^{8}}{r_{s} y^{7} - 5 r_{s} y^{6} + 10 r_{s} y^{5} - 10 r_{s} y^{4} + 5 r_{s} y^{3} - r_{s} y^{2}} + \\frac{201 i \\omega y^{7}}{r_{s} y^{7} - 5 r_{s} y^{6} + 10 r_{s} y^{5} - 10 r_{s} y^{4} + 5 r_{s} y^{3} - r_{s} y^{2}} - \\frac{6 i \\omega y^{7}}{r_{s} y^{3} - 2 r_{s} y^{2} + r_{s} y} - \\frac{177 i \\omega y^{6}}{r_{s} y^{7} - 5 r_{s} y^{6} + 10 r_{s} y^{5} - 10 r_{s} y^{4} + 5 r_{s} y^{3} - r_{s} y^{2}} + \\frac{32 i \\omega y^{6}}{r_{s} y^{3} - 2 r_{s} y^{2} + r_{s} y} + \\frac{103 i \\omega y^{5}}{r_{s} y^{7} - 5 r_{s} y^{6} + 10 r_{s} y^{5} - 10 r_{s} y^{4} + 5 r_{s} y^{3} - r_{s} y^{2}} - \\frac{67 i \\omega y^{5}}{r_{s} y^{3} - 2 r_{s} y^{2} + r_{s} y} - \\frac{39 i \\omega y^{4}}{r_{s} y^{7} - 5 r_{s} y^{6} + 10 r_{s} y^{5} - 10 r_{s} y^{4} + 5 r_{s} y^{3} - r_{s} y^{2}} + \\frac{70 i \\omega y^{4}}{r_{s} y^{3} - 2 r_{s} y^{2} + r_{s} y} + \\frac{9 i \\omega y^{3}}{r_{s} y^{7} - 5 r_{s} y^{6} + 10 r_{s} y^{5} - 10 r_{s} y^{4} + 5 r_{s} y^{3} - r_{s} y^{2}} - \\frac{38 i \\omega y^{3}}{r_{s} y^{3} - 2 r_{s} y^{2} + r_{s} y} - \\frac{i \\omega y^{2}}{r_{s} y^{7} - 5 r_{s} y^{6} + 10 r_{s} y^{5} - 10 r_{s} y^{4} + 5 r_{s} y^{3} - r_{s} y^{2}} + \\frac{10 i \\omega y^{2}}{r_{s} y^{3} - 2 r_{s} y^{2} + r_{s} y} - \\frac{i \\omega y}{r_{s} y^{3} - 2 r_{s} y^{2} + r_{s} y}\\right) \\phi{\\left(y \\right)}$"
      ],
      "text/plain": [
       "(y**8/(r_s**2*y**2 - 2*r_s**2*y + r_s**2) - 6*y**7/(r_s**2*y**2 - 2*r_s**2*y + r_s**2) + 15*y**6/(r_s**2*y**2 - 2*r_s**2*y + r_s**2) - 20*y**5/(r_s**2*y**2 - 2*r_s**2*y + r_s**2) + 15*y**4/(r_s**2*y**2 - 2*r_s**2*y + r_s**2) - 6*y**3/(r_s**2*y**2 - 2*r_s**2*y + r_s**2) + y**2/(r_s**2*y**2 - 2*r_s**2*y + r_s**2) - x_0**2*y**8/r_s**4 + 6*x_0**2*y**7/r_s**4 - 15*x_0**2*y**6/r_s**4 + 20*x_0**2*y**5/r_s**4 - 15*x_0**2*y**4/r_s**4 + 6*x_0**2*y**3/r_s**4 - x_0**2*y**2/r_s**4)*Derivative(phi(y), (y, 2)) + (4*I*omega*x_0**2*y**10/(r_s**3*y**3 - 2*r_s**3*y**2 + r_s**3*y) - 32*I*omega*x_0**2*y**9/(r_s**3*y**3 - 2*r_s**3*y**2 + r_s**3*y) + 110*I*omega*x_0**2*y**8/(r_s**3*y**3 - 2*r_s**3*y**2 + r_s**3*y) - 212*I*omega*x_0**2*y**7/(r_s**3*y**3 - 2*r_s**3*y**2 + r_s**3*y) + 250*I*omega*x_0**2*y**6/(r_s**3*y**3 - 2*r_s**3*y**2 + r_s**3*y) - 184*I*omega*x_0**2*y**5/(r_s**3*y**3 - 2*r_s**3*y**2 + r_s**3*y) + 82*I*omega*x_0**2*y**4/(r_s**3*y**3 - 2*r_s**3*y**2 + r_s**3*y) - 20*I*omega*x_0**2*y**3/(r_s**3*y**3 - 2*r_s**3*y**2 + r_s**3*y) + 2*I*omega*x_0**2*y**2/(r_s**3*y**3 - 2*r_s**3*y**2 + r_s**3*y) - 4*I*omega*y**10/(r_s*y**5 - 4*r_s*y**4 + 6*r_s*y**3 - 4*r_s*y**2 + r_s*y) + 32*I*omega*y**9/(r_s*y**5 - 4*r_s*y**4 + 6*r_s*y**3 - 4*r_s*y**2 + r_s*y) - 110*I*omega*y**8/(r_s*y**5 - 4*r_s*y**4 + 6*r_s*y**3 - 4*r_s*y**2 + r_s*y) + 212*I*omega*y**7/(r_s*y**5 - 4*r_s*y**4 + 6*r_s*y**3 - 4*r_s*y**2 + r_s*y) - 250*I*omega*y**6/(r_s*y**5 - 4*r_s*y**4 + 6*r_s*y**3 - 4*r_s*y**2 + r_s*y) + 184*I*omega*y**5/(r_s*y**5 - 4*r_s*y**4 + 6*r_s*y**3 - 4*r_s*y**2 + r_s*y) - 82*I*omega*y**4/(r_s*y**5 - 4*r_s*y**4 + 6*r_s*y**3 - 4*r_s*y**2 + r_s*y) + 20*I*omega*y**3/(r_s*y**5 - 4*r_s*y**4 + 6*r_s*y**3 - 4*r_s*y**2 + r_s*y) - 2*I*omega*y**2/(r_s*y**5 - 4*r_s*y**4 + 6*r_s*y**3 - 4*r_s*y**2 + r_s*y) + 3*y**5/r_s**2 - 10*y**4/r_s**2 + 12*y**3/r_s**2 - 6*y**2/r_s**2 + y/r_s**2 - 4*x_0**2*y**7/r_s**4 + 21*x_0**2*y**6/r_s**4 - 45*x_0**2*y**5/r_s**4 + 50*x_0**2*y**4/r_s**4 - 30*x_0**2*y**3/r_s**4 + 9*x_0**2*y**2/r_s**4 - x_0**2*y/r_s**4)*Derivative(phi(y), y) + (-ell**2*y**2/r_s**2 + ell**2*y**2/(r_s**2*sqrt(1/(y**2 - 2*y + 1))) + 2*ell**2*y/r_s**2 - 2*ell**2*y/(r_s**2*sqrt(1/(y**2 - 2*y + 1))) - ell**2/r_s**2 + ell**2/(r_s**2*sqrt(1/(y**2 - 2*y + 1))) - ell*y**2/r_s**2 + ell*y**2/(r_s**2*sqrt(1/(y**2 - 2*y + 1))) + 2*ell*y/r_s**2 - 2*ell*y/(r_s**2*sqrt(1/(y**2 - 2*y + 1))) - ell/r_s**2 + ell/(r_s**2*sqrt(1/(y**2 - 2*y + 1))) + 4*omega**2*x_0**2*y**12/(r_s**2*y**6 - 4*r_s**2*y**5 + 6*r_s**2*y**4 - 4*r_s**2*y**3 + r_s**2*y**2) - 40*omega**2*x_0**2*y**11/(r_s**2*y**6 - 4*r_s**2*y**5 + 6*r_s**2*y**4 - 4*r_s**2*y**3 + r_s**2*y**2) + 176*omega**2*x_0**2*y**10/(r_s**2*y**6 - 4*r_s**2*y**5 + 6*r_s**2*y**4 - 4*r_s**2*y**3 + r_s**2*y**2) - 448*omega**2*x_0**2*y**9/(r_s**2*y**6 - 4*r_s**2*y**5 + 6*r_s**2*y**4 - 4*r_s**2*y**3 + r_s**2*y**2) + 729*omega**2*x_0**2*y**8/(r_s**2*y**6 - 4*r_s**2*y**5 + 6*r_s**2*y**4 - 4*r_s**2*y**3 + r_s**2*y**2) - 790*omega**2*x_0**2*y**7/(r_s**2*y**6 - 4*r_s**2*y**5 + 6*r_s**2*y**4 - 4*r_s**2*y**3 + r_s**2*y**2) + 575*omega**2*x_0**2*y**6/(r_s**2*y**6 - 4*r_s**2*y**5 + 6*r_s**2*y**4 - 4*r_s**2*y**3 + r_s**2*y**2) - 276*omega**2*x_0**2*y**5/(r_s**2*y**6 - 4*r_s**2*y**5 + 6*r_s**2*y**4 - 4*r_s**2*y**3 + r_s**2*y**2) + 83*omega**2*x_0**2*y**4/(r_s**2*y**6 - 4*r_s**2*y**5 + 6*r_s**2*y**4 - 4*r_s**2*y**3 + r_s**2*y**2) - 14*omega**2*x_0**2*y**3/(r_s**2*y**6 - 4*r_s**2*y**5 + 6*r_s**2*y**4 - 4*r_s**2*y**3 + r_s**2*y**2) + omega**2*x_0**2*y**2/(r_s**2*y**6 - 4*r_s**2*y**5 + 6*r_s**2*y**4 - 4*r_s**2*y**3 + r_s**2*y**2) - 4*omega**2*y**12/(y**8 - 6*y**7 + 15*y**6 - 20*y**5 + 15*y**4 - 6*y**3 + y**2) + 40*omega**2*y**11/(y**8 - 6*y**7 + 15*y**6 - 20*y**5 + 15*y**4 - 6*y**3 + y**2) - 176*omega**2*y**10/(y**8 - 6*y**7 + 15*y**6 - 20*y**5 + 15*y**4 - 6*y**3 + y**2) + 448*omega**2*y**9/(y**8 - 6*y**7 + 15*y**6 - 20*y**5 + 15*y**4 - 6*y**3 + y**2) - 729*omega**2*y**8/(y**8 - 6*y**7 + 15*y**6 - 20*y**5 + 15*y**4 - 6*y**3 + y**2) + 790*omega**2*y**7/(y**8 - 6*y**7 + 15*y**6 - 20*y**5 + 15*y**4 - 6*y**3 + y**2) - 575*omega**2*y**6/(y**8 - 6*y**7 + 15*y**6 - 20*y**5 + 15*y**4 - 6*y**3 + y**2) + 276*omega**2*y**5/(y**8 - 6*y**7 + 15*y**6 - 20*y**5 + 15*y**4 - 6*y**3 + y**2) - 83*omega**2*y**4/(y**8 - 6*y**7 + 15*y**6 - 20*y**5 + 15*y**4 - 6*y**3 + y**2) + 14*omega**2*y**3/(y**8 - 6*y**7 + 15*y**6 - 20*y**5 + 15*y**4 - 6*y**3 + y**2) - omega**2*y**2/(y**8 - 6*y**7 + 15*y**6 - 20*y**5 + 15*y**4 - 6*y**3 + y**2) + omega**2 - 2*I*omega*x_0**2*y**11/(r_s**3*y**5 - 3*r_s**3*y**4 + 3*r_s**3*y**3 - r_s**3*y**2) + 18*I*omega*x_0**2*y**10/(r_s**3*y**5 - 3*r_s**3*y**4 + 3*r_s**3*y**3 - r_s**3*y**2) - 69*I*omega*x_0**2*y**9/(r_s**3*y**5 - 3*r_s**3*y**4 + 3*r_s**3*y**3 - r_s**3*y**2) + 8*I*omega*x_0**2*y**9/(r_s**3*y**3 - 2*r_s**3*y**2 + r_s**3*y) + 149*I*omega*x_0**2*y**8/(r_s**3*y**5 - 3*r_s**3*y**4 + 3*r_s**3*y**3 - r_s**3*y**2) - 58*I*omega*x_0**2*y**8/(r_s**3*y**3 - 2*r_s**3*y**2 + r_s**3*y) - 201*I*omega*x_0**2*y**7/(r_s**3*y**5 - 3*r_s**3*y**4 + 3*r_s**3*y**3 - r_s**3*y**2) + 178*I*omega*x_0**2*y**7/(r_s**3*y**3 - 2*r_s**3*y**2 + r_s**3*y) + 177*I*omega*x_0**2*y**6/(r_s**3*y**5 - 3*r_s**3*y**4 + 3*r_s**3*y**3 - r_s**3*y**2) - 301*I*omega*x_0**2*y**6/(r_s**3*y**3 - 2*r_s**3*y**2 + r_s**3*y) - 103*I*omega*x_0**2*y**5/(r_s**3*y**5 - 3*r_s**3*y**4 + 3*r_s**3*y**3 - r_s**3*y**2) + 305*I*omega*x_0**2*y**5/(r_s**3*y**3 - 2*r_s**3*y**2 + r_s**3*y) + 39*I*omega*x_0**2*y**4/(r_s**3*y**5 - 3*r_s**3*y**4 + 3*r_s**3*y**3 - r_s**3*y**2) - 188*I*omega*x_0**2*y**4/(r_s**3*y**3 - 2*r_s**3*y**2 + r_s**3*y) - 9*I*omega*x_0**2*y**3/(r_s**3*y**5 - 3*r_s**3*y**4 + 3*r_s**3*y**3 - r_s**3*y**2) + 68*I*omega*x_0**2*y**3/(r_s**3*y**3 - 2*r_s**3*y**2 + r_s**3*y) + I*omega*x_0**2*y**2/(r_s**3*y**5 - 3*r_s**3*y**4 + 3*r_s**3*y**3 - r_s**3*y**2) - 13*I*omega*x_0**2*y**2/(r_s**3*y**3 - 2*r_s**3*y**2 + r_s**3*y) + I*omega*x_0**2*y/(r_s**3*y**3 - 2*r_s**3*y**2 + r_s**3*y) + 2*I*omega*y**11/(r_s*y**7 - 5*r_s*y**6 + 10*r_s*y**5 - 10*r_s*y**4 + 5*r_s*y**3 - r_s*y**2) - 18*I*omega*y**10/(r_s*y**7 - 5*r_s*y**6 + 10*r_s*y**5 - 10*r_s*y**4 + 5*r_s*y**3 - r_s*y**2) + 69*I*omega*y**9/(r_s*y**7 - 5*r_s*y**6 + 10*r_s*y**5 - 10*r_s*y**4 + 5*r_s*y**3 - r_s*y**2) - 149*I*omega*y**8/(r_s*y**7 - 5*r_s*y**6 + 10*r_s*y**5 - 10*r_s*y**4 + 5*r_s*y**3 - r_s*y**2) + 201*I*omega*y**7/(r_s*y**7 - 5*r_s*y**6 + 10*r_s*y**5 - 10*r_s*y**4 + 5*r_s*y**3 - r_s*y**2) - 6*I*omega*y**7/(r_s*y**3 - 2*r_s*y**2 + r_s*y) - 177*I*omega*y**6/(r_s*y**7 - 5*r_s*y**6 + 10*r_s*y**5 - 10*r_s*y**4 + 5*r_s*y**3 - r_s*y**2) + 32*I*omega*y**6/(r_s*y**3 - 2*r_s*y**2 + r_s*y) + 103*I*omega*y**5/(r_s*y**7 - 5*r_s*y**6 + 10*r_s*y**5 - 10*r_s*y**4 + 5*r_s*y**3 - r_s*y**2) - 67*I*omega*y**5/(r_s*y**3 - 2*r_s*y**2 + r_s*y) - 39*I*omega*y**4/(r_s*y**7 - 5*r_s*y**6 + 10*r_s*y**5 - 10*r_s*y**4 + 5*r_s*y**3 - r_s*y**2) + 70*I*omega*y**4/(r_s*y**3 - 2*r_s*y**2 + r_s*y) + 9*I*omega*y**3/(r_s*y**7 - 5*r_s*y**6 + 10*r_s*y**5 - 10*r_s*y**4 + 5*r_s*y**3 - r_s*y**2) - 38*I*omega*y**3/(r_s*y**3 - 2*r_s*y**2 + r_s*y) - I*omega*y**2/(r_s*y**7 - 5*r_s*y**6 + 10*r_s*y**5 - 10*r_s*y**4 + 5*r_s*y**3 - r_s*y**2) + 10*I*omega*y**2/(r_s*y**3 - 2*r_s*y**2 + r_s*y) - I*omega*y/(r_s*y**3 - 2*r_s*y**2 + r_s*y))*phi(y)"
      ]
     },
     "metadata": {},
     "output_type": "display_data"
    }
   ],
   "source": [
    "# Expand equation and collect according to powers of phi and derivatives\n",
    "eq_vec_exp = eq_vec.lhs.expand().collect(phi)\n",
    "display(eq_vec_exp)"
   ]
  },
  {
   "cell_type": "code",
   "execution_count": 473,
   "id": "85b36244",
   "metadata": {},
   "outputs": [
    {
     "data": {
      "text/latex": [
       "$\\displaystyle 1$"
      ],
      "text/plain": [
       "1"
      ]
     },
     "metadata": {},
     "output_type": "display_data"
    }
   ],
   "source": [
    "# Get coefficient of second derivative, normalize, and simplify (just to check)\n",
    "term_two_vec = ( eq_vec_exp.coeff(ddphi).simplify() / norm_vec ).simplify()\n",
    "display(term_two_vec)"
   ]
  },
  {
   "cell_type": "code",
   "execution_count": 474,
   "id": "c857c337",
   "metadata": {},
   "outputs": [
    {
     "data": {
      "text/latex": [
       "$\\displaystyle \\frac{r_{s}^{4} \\left(- \\frac{\\ell^{2} y^{2}}{r_{s}^{2}} + \\frac{\\ell^{2} y^{2}}{r_{s}^{2} \\sqrt{\\frac{1}{y^{2} - 2 y + 1}}} + \\frac{2 \\ell^{2} y}{r_{s}^{2}} - \\frac{2 \\ell^{2} y}{r_{s}^{2} \\sqrt{\\frac{1}{y^{2} - 2 y + 1}}} - \\frac{\\ell^{2}}{r_{s}^{2}} + \\frac{\\ell^{2}}{r_{s}^{2} \\sqrt{\\frac{1}{y^{2} - 2 y + 1}}} - \\frac{\\ell y^{2}}{r_{s}^{2}} + \\frac{\\ell y^{2}}{r_{s}^{2} \\sqrt{\\frac{1}{y^{2} - 2 y + 1}}} + \\frac{2 \\ell y}{r_{s}^{2}} - \\frac{2 \\ell y}{r_{s}^{2} \\sqrt{\\frac{1}{y^{2} - 2 y + 1}}} - \\frac{\\ell}{r_{s}^{2}} + \\frac{\\ell}{r_{s}^{2} \\sqrt{\\frac{1}{y^{2} - 2 y + 1}}} - 4 \\omega^{2} y^{4} + 16 \\omega^{2} y^{3} - 20 \\omega^{2} y^{2} + 8 \\omega^{2} y + \\frac{4 \\omega^{2} x_{0}^{2} y^{6}}{r_{s}^{2}} - \\frac{24 \\omega^{2} x_{0}^{2} y^{5}}{r_{s}^{2}} + \\frac{56 \\omega^{2} x_{0}^{2} y^{4}}{r_{s}^{2}} - \\frac{64 \\omega^{2} x_{0}^{2} y^{3}}{r_{s}^{2}} + \\frac{37 \\omega^{2} x_{0}^{2} y^{2}}{r_{s}^{2}} - \\frac{10 \\omega^{2} x_{0}^{2} y}{r_{s}^{2}} + \\frac{\\omega^{2} x_{0}^{2}}{r_{s}^{2}} - \\frac{4 i \\omega y^{4}}{r_{s}} + \\frac{12 i \\omega y^{3}}{r_{s}} - \\frac{12 i \\omega y^{2}}{r_{s}} + \\frac{4 i \\omega y}{r_{s}} + \\frac{6 i \\omega x_{0}^{2} y^{6}}{r_{s}^{3}} - \\frac{30 i \\omega x_{0}^{2} y^{5}}{r_{s}^{3}} + \\frac{59 i \\omega x_{0}^{2} y^{4}}{r_{s}^{3}} - \\frac{57 i \\omega x_{0}^{2} y^{3}}{r_{s}^{3}} + \\frac{27 i \\omega x_{0}^{2} y^{2}}{r_{s}^{3}} - \\frac{5 i \\omega x_{0}^{2} y}{r_{s}^{3}}\\right)}{y^{2} \\left(y - 1\\right)^{4} \\left(- r_{s} + x_{0} y - x_{0}\\right) \\left(r_{s} + x_{0} y - x_{0}\\right)}$"
      ],
      "text/plain": [
       "r_s**4*(-ell**2*y**2/r_s**2 + ell**2*y**2/(r_s**2*sqrt(1/(y**2 - 2*y + 1))) + 2*ell**2*y/r_s**2 - 2*ell**2*y/(r_s**2*sqrt(1/(y**2 - 2*y + 1))) - ell**2/r_s**2 + ell**2/(r_s**2*sqrt(1/(y**2 - 2*y + 1))) - ell*y**2/r_s**2 + ell*y**2/(r_s**2*sqrt(1/(y**2 - 2*y + 1))) + 2*ell*y/r_s**2 - 2*ell*y/(r_s**2*sqrt(1/(y**2 - 2*y + 1))) - ell/r_s**2 + ell/(r_s**2*sqrt(1/(y**2 - 2*y + 1))) - 4*omega**2*y**4 + 16*omega**2*y**3 - 20*omega**2*y**2 + 8*omega**2*y + 4*omega**2*x_0**2*y**6/r_s**2 - 24*omega**2*x_0**2*y**5/r_s**2 + 56*omega**2*x_0**2*y**4/r_s**2 - 64*omega**2*x_0**2*y**3/r_s**2 + 37*omega**2*x_0**2*y**2/r_s**2 - 10*omega**2*x_0**2*y/r_s**2 + omega**2*x_0**2/r_s**2 - 4*I*omega*y**4/r_s + 12*I*omega*y**3/r_s - 12*I*omega*y**2/r_s + 4*I*omega*y/r_s + 6*I*omega*x_0**2*y**6/r_s**3 - 30*I*omega*x_0**2*y**5/r_s**3 + 59*I*omega*x_0**2*y**4/r_s**3 - 57*I*omega*x_0**2*y**3/r_s**3 + 27*I*omega*x_0**2*y**2/r_s**3 - 5*I*omega*x_0**2*y/r_s**3)/(y**2*(y - 1)**4*(-r_s + x_0*y - x_0)*(r_s + x_0*y - x_0))"
      ]
     },
     "metadata": {},
     "output_type": "display_data"
    },
    {
     "data": {
      "text/plain": [
       "'16*m**4*(-l**2*y**2/(4*m**2) + l**2*y**2/(4*m**2*sqrt(1/(y**2 - 2*y + 1))) + l**2*y/(2*m**2) - l**2*y/(2*m**2*sqrt(1/(y**2 - 2*y + 1))) - l**2/(4*m**2) + l**2/(4*m**2*sqrt(1/(y**2 - 2*y + 1))) - l*y**2/(4*m**2) + l*y**2/(4*m**2*sqrt(1/(y**2 - 2*y + 1))) + l*y/(2*m**2) - l*y/(2*m**2*sqrt(1/(y**2 - 2*y + 1))) - l/(4*m**2) + l/(4*m**2*sqrt(1/(y**2 - 2*y + 1))) - 4*w**2*y**4 + 16*w**2*y**3 - 20*w**2*y**2 + 8*w**2*y - 2*I*w*y**4/m + 6*I*w*y**3/m - 6*I*w*y**2/m + 2*I*w*y/m + w**2*x0**2*y**6/m**2 - 6*w**2*x0**2*y**5/m**2 + 14*w**2*x0**2*y**4/m**2 - 16*w**2*x0**2*y**3/m**2 + 37*w**2*x0**2*y**2/(4*m**2) - 5*w**2*x0**2*y/(2*m**2) + w**2*x0**2/(4*m**2) + 3*I*w*x0**2*y**6/(4*m**3) - 15*I*w*x0**2*y**5/(4*m**3) + 59*I*w*x0**2*y**4/(8*m**3) - 57*I*w*x0**2*y**3/(8*m**3) + 27*I*w*x0**2*y**2/(8*m**3) - 5*I*w*x0**2*y/(8*m**3))/(y**2*(y - 1)**4*(-2*m + x0*y - x0)*(2*m + x0*y - x0))'"
      ]
     },
     "execution_count": 474,
     "metadata": {},
     "output_type": "execute_result"
    }
   ],
   "source": [
    "# Get coefficient of zero-th derivative, normalize, and simplify -> s_0\n",
    "s0_vec = - ( eq_vec_exp.coeff(phi).simplify() / norm_vec ) # .simplify()\n",
    "display(s0_vec)\n",
    "# Write s_0 as Python string\n",
    "str( s0_vec.subs( {l: 'l', w: 'w', rs: '2*m', x0: 'x0'} ) )"
   ]
  },
  {
   "cell_type": "code",
   "execution_count": 475,
   "id": "0d2006fc",
   "metadata": {},
   "outputs": [
    {
     "data": {
      "text/latex": [
       "$\\displaystyle \\frac{- 4 i \\omega r_{s}^{3} y^{4} + 16 i \\omega r_{s}^{3} y^{3} - 22 i \\omega r_{s}^{3} y^{2} + 12 i \\omega r_{s}^{3} y - 2 i \\omega r_{s}^{3} + 4 i \\omega r_{s} x_{0}^{2} y^{6} - 24 i \\omega r_{s} x_{0}^{2} y^{5} + 58 i \\omega r_{s} x_{0}^{2} y^{4} - 72 i \\omega r_{s} x_{0}^{2} y^{3} + 48 i \\omega r_{s} x_{0}^{2} y^{2} - 16 i \\omega r_{s} x_{0}^{2} y + 2 i \\omega r_{s} x_{0}^{2} + 3 r_{s}^{2} y^{4} - 10 r_{s}^{2} y^{3} + 12 r_{s}^{2} y^{2} - 6 r_{s}^{2} y + r_{s}^{2} - 4 x_{0}^{2} y^{6} + 21 x_{0}^{2} y^{5} - 45 x_{0}^{2} y^{4} + 50 x_{0}^{2} y^{3} - 30 x_{0}^{2} y^{2} + 9 x_{0}^{2} y - x_{0}^{2}}{y \\left(y - 1\\right)^{4} \\left(- r_{s} + x_{0} y - x_{0}\\right) \\left(r_{s} + x_{0} y - x_{0}\\right)}$"
      ],
      "text/plain": [
       "(-4*I*omega*r_s**3*y**4 + 16*I*omega*r_s**3*y**3 - 22*I*omega*r_s**3*y**2 + 12*I*omega*r_s**3*y - 2*I*omega*r_s**3 + 4*I*omega*r_s*x_0**2*y**6 - 24*I*omega*r_s*x_0**2*y**5 + 58*I*omega*r_s*x_0**2*y**4 - 72*I*omega*r_s*x_0**2*y**3 + 48*I*omega*r_s*x_0**2*y**2 - 16*I*omega*r_s*x_0**2*y + 2*I*omega*r_s*x_0**2 + 3*r_s**2*y**4 - 10*r_s**2*y**3 + 12*r_s**2*y**2 - 6*r_s**2*y + r_s**2 - 4*x_0**2*y**6 + 21*x_0**2*y**5 - 45*x_0**2*y**4 + 50*x_0**2*y**3 - 30*x_0**2*y**2 + 9*x_0**2*y - x_0**2)/(y*(y - 1)**4*(-r_s + x_0*y - x_0)*(r_s + x_0*y - x_0))"
      ]
     },
     "metadata": {},
     "output_type": "display_data"
    },
    {
     "data": {
      "text/plain": [
       "'(-32*I*m**3*w*y**4 + 128*I*m**3*w*y**3 - 176*I*m**3*w*y**2 + 96*I*m**3*w*y - 16*I*m**3*w + 12*m**2*y**4 - 40*m**2*y**3 + 48*m**2*y**2 - 24*m**2*y + 4*m**2 + 8*I*m*w*x0**2*y**6 - 48*I*m*w*x0**2*y**5 + 116*I*m*w*x0**2*y**4 - 144*I*m*w*x0**2*y**3 + 96*I*m*w*x0**2*y**2 - 32*I*m*w*x0**2*y + 4*I*m*w*x0**2 - 4*x0**2*y**6 + 21*x0**2*y**5 - 45*x0**2*y**4 + 50*x0**2*y**3 - 30*x0**2*y**2 + 9*x0**2*y - x0**2)/(y*(y - 1)**4*(-2*m + x0*y - x0)*(2*m + x0*y - x0))'"
      ]
     },
     "execution_count": 475,
     "metadata": {},
     "output_type": "execute_result"
    }
   ],
   "source": [
    "# Get coefficient of first derivative, normalize, and simplify -> lambda_0\n",
    "l0_vec = - ( eq_vec_exp.coeff(dphi).simplify() / norm_vec ) # .simplify()\n",
    "display(l0_vec)\n",
    "# Write l_0 as Python string\n",
    "str( l0_vec.subs( {l: 'l', w: 'w', rs: '2*m', x0: 'x0'} ) )"
   ]
  },
  {
   "cell_type": "markdown",
   "id": "3628a423",
   "metadata": {},
   "source": [
    "These normalized coefficients will give us the parameters $s_0$ and $\\lambda_0$ that we need for our AIM method!"
   ]
  },
  {
   "cell_type": "markdown",
   "id": "3ab9d926",
   "metadata": {},
   "source": [
    "Taking $x_0 = 0$ at this stage should still give us back Schwarzschild result. Let's check it!"
   ]
  },
  {
   "cell_type": "code",
   "execution_count": 476,
   "id": "5244f328",
   "metadata": {},
   "outputs": [
    {
     "data": {
      "text/latex": [
       "$\\displaystyle \\frac{\\ell \\left(- \\ell y^{2} + 2 \\ell y - \\ell - y^{2} + 2 y - 1\\right) + \\ell \\left(\\ell y^{2} - 2 \\ell y + \\ell + y^{2} - 2 y + 1\\right) \\sqrt{\\frac{1}{y^{2} - 2 y + 1}} + 16 m^{2} \\omega^{2} y \\left(y^{3} - 4 y^{2} + 5 y - 2\\right) \\sqrt{\\frac{1}{y^{2} - 2 y + 1}} + 8 i m \\omega y \\left(y^{3} - 3 y^{2} + 3 y - 1\\right) \\sqrt{\\frac{1}{y^{2} - 2 y + 1}}}{y^{2} \\left(y - 1\\right)^{4} \\sqrt{\\frac{1}{y^{2} - 2 y + 1}}}$"
      ],
      "text/plain": [
       "(ell*(-ell*y**2 + 2*ell*y - ell - y**2 + 2*y - 1) + ell*(ell*y**2 - 2*ell*y + ell + y**2 - 2*y + 1)*sqrt(1/(y**2 - 2*y + 1)) + 16*m**2*omega**2*y*(y**3 - 4*y**2 + 5*y - 2)*sqrt(1/(y**2 - 2*y + 1)) + 8*I*m*omega*y*(y**3 - 3*y**2 + 3*y - 1)*sqrt(1/(y**2 - 2*y + 1)))/(y**2*(y - 1)**4*sqrt(1/(y**2 - 2*y + 1)))"
      ]
     },
     "metadata": {},
     "output_type": "display_data"
    },
    {
     "data": {
      "text/latex": [
       "$\\displaystyle \\frac{8 i m \\omega y^{2} - 16 i m \\omega y + 4 i m \\omega - 3 y^{2} + 4 y - 1}{y \\left(y^{2} - 2 y + 1\\right)}$"
      ],
      "text/plain": [
       "(8*I*m*omega*y**2 - 16*I*m*omega*y + 4*I*m*omega - 3*y**2 + 4*y - 1)/(y*(y**2 - 2*y + 1))"
      ]
     },
     "metadata": {},
     "output_type": "display_data"
    }
   ],
   "source": [
    "m = sp.symbols(\"m\", positive = True)\n",
    "display( s0_vec.subs( {x0: 0, rs: 2*m} ).simplify() )\n",
    "display( l0_vec.subs({x0: 0, rs: 2*m}).simplify() )"
   ]
  },
  {
   "cell_type": "markdown",
   "id": "2aea7a88",
   "metadata": {},
   "source": [
    "They at least look close to what is expected!"
   ]
  },
  {
   "cell_type": "markdown",
   "id": "dce4732d",
   "metadata": {},
   "source": [
    "As the last step, we must compute at which point to evaluate our method, which is given by the point where the potential is maximum:\n",
    "$$\n",
    "\\frac{d^{(v)}V_{\\ell}^{SV}(y)}{dy}\\Big|_{y_{\\max}} = 0\n",
    "$$"
   ]
  },
  {
   "cell_type": "code",
   "execution_count": 477,
   "id": "22a2e263",
   "metadata": {},
   "outputs": [
    {
     "data": {
      "text/latex": [
       "$\\displaystyle \\frac{\\ell y \\left(\\ell + 1\\right) \\left(2 y - 2\\right)}{r_{s}^{2}} + \\frac{\\ell \\left(1 - y\\right)^{2} \\left(\\ell + 1\\right)}{r_{s}^{2}}$"
      ],
      "text/plain": [
       "ell*y*(ell + 1)*(2*y - 2)/r_s**2 + ell*(1 - y)**2*(ell + 1)/r_s**2"
      ]
     },
     "metadata": {},
     "output_type": "display_data"
    }
   ],
   "source": [
    "# Compute derivative of potential and solve for y\n",
    "dV_vec = sp.Derivative(V_vec.subs(G, y).subs( {x: var_change_x}), y, evaluate = True)\n",
    "display(dV_vec)"
   ]
  },
  {
   "cell_type": "code",
   "execution_count": 478,
   "id": "24a0c24d",
   "metadata": {},
   "outputs": [
    {
     "data": {
      "text/plain": [
       "[1/3, 1]"
      ]
     },
     "metadata": {},
     "output_type": "display_data"
    }
   ],
   "source": [
    "# Solve for y\n",
    "y_max = sp.solve(dV_vec, y)\n",
    "display(y_max)"
   ]
  },
  {
   "cell_type": "markdown",
   "id": "a87db0af",
   "metadata": {},
   "source": [
    "### Scalar equation"
   ]
  },
  {
   "cell_type": "code",
   "execution_count": 479,
   "id": "34dde0f3",
   "metadata": {},
   "outputs": [
    {
     "data": {
      "text/latex": [
       "$\\displaystyle \\left(\\omega^{2} - \\left(1 - \\frac{1}{\\sqrt{\\frac{1}{\\left(1 - y\\right)^{2}}}}\\right) \\left(\\frac{\\left(1 - y\\right)^{2} \\left(\\ell \\left(\\ell + 1\\right) - 2\\right)}{r_{s}^{2}} + \\frac{2 \\left(1 - y\\right)^{4} \\left(1 - \\frac{1}{\\sqrt{\\frac{1}{\\left(1 - y\\right)^{2}}}}\\right) \\left(\\frac{r_{s}^{2}}{\\left(1 - y\\right)^{2}} - x_{0}^{2}\\right)}{r_{s}^{4}} + \\frac{3 r_{s} x_{0}^{2} \\sqrt{\\frac{1}{\\left(1 - y\\right)^{2}}} - r_{s} x_{0}^{2} + 3 r_{s} \\left(\\frac{r_{s}^{2}}{\\left(1 - y\\right)^{2}} - x_{0}^{2}\\right)}{r_{s}^{5} \\left(\\frac{1}{\\left(1 - y\\right)^{2}}\\right)^{\\frac{5}{2}}}\\right)\\right) \\phi{\\left(y \\right)} + \\frac{y^{2} \\left(1 - y\\right)^{6} \\left(\\frac{r_{s}^{2}}{\\left(1 - y\\right)^{2}} - x_{0}^{2}\\right) \\left(- \\frac{2 i \\omega r_{s} \\left(2 y^{2} - 4 y + 1\\right) \\frac{d}{d y} \\phi{\\left(y \\right)}}{y \\left(y - 1\\right)^{2}} + \\left(- \\frac{\\omega^{2} r_{s}^{2} \\left(2 y^{2} - 4 y + 1\\right)^{2}}{y^{2} \\left(y - 1\\right)^{4}} + \\frac{i \\omega r_{s} \\left(2 y^{3} - 6 y^{2} + 3 y - 1\\right)}{y^{2} \\left(y - 1\\right)^{3}}\\right) \\phi{\\left(y \\right)} + \\frac{d^{2}}{d y^{2}} \\phi{\\left(y \\right)}\\right)}{r_{s}^{4}} - \\frac{y \\left(y - 1\\right)^{3} \\left(- \\frac{i \\omega r_{s} \\left(2 y^{2} - 4 y + 1\\right) \\phi{\\left(y \\right)}}{y \\left(y - 1\\right)^{2}} + \\frac{d}{d y} \\phi{\\left(y \\right)}\\right) \\left(- 3 r_{s}^{2} y + r_{s}^{2} + 4 x_{0}^{2} y^{3} - 9 x_{0}^{2} y^{2} + 6 x_{0}^{2} y - x_{0}^{2}\\right)}{r_{s}^{4}} = 0$"
      ],
      "text/plain": [
       "Eq((omega**2 - (1 - 1/sqrt((1 - y)**(-2)))*((1 - y)**2*(ell*(ell + 1) - 2)/r_s**2 + 2*(1 - y)**4*(1 - 1/sqrt((1 - y)**(-2)))*(r_s**2/(1 - y)**2 - x_0**2)/r_s**4 + (3*r_s*x_0**2*sqrt((1 - y)**(-2)) - r_s*x_0**2 + 3*r_s*(r_s**2/(1 - y)**2 - x_0**2))/(r_s**5*((1 - y)**(-2))**(5/2))))*phi(y) + y**2*(1 - y)**6*(r_s**2/(1 - y)**2 - x_0**2)*(-2*I*omega*r_s*(2*y**2 - 4*y + 1)*Derivative(phi(y), y)/(y*(y - 1)**2) + (-omega**2*r_s**2*(2*y**2 - 4*y + 1)**2/(y**2*(y - 1)**4) + I*omega*r_s*(2*y**3 - 6*y**2 + 3*y - 1)/(y**2*(y - 1)**3))*phi(y) + Derivative(phi(y), (y, 2)))/r_s**4 - y*(y - 1)**3*(-I*omega*r_s*(2*y**2 - 4*y + 1)*phi(y)/(y*(y - 1)**2) + Derivative(phi(y), y))*(-3*r_s**2*y + r_s**2 + 4*x_0**2*y**3 - 9*x_0**2*y**2 + 6*x_0**2*y - x_0**2)/r_s**4, 0)"
      ]
     },
     "metadata": {},
     "output_type": "display_data"
    }
   ],
   "source": [
    "# First, insert potential\n",
    "eq_sca_pot = eq.subs( pot, V_sca )\n",
    "# Second, change of variable\n",
    "eq_sca_chvar = eq_sca_pot.subs( ddpsi_star, ddpsi_y ).subs(psi, psi_y).subs(x, var_change_x)\n",
    "# Third, insert boundary conditions\n",
    "eq_sca_bc = eq_sca_chvar.subs( {sp.Derivative(psi_y, y): dpsi_bc, sp.Derivative(sp.Derivative(psi_y, y), y): ddpsi_bc, psi_y: phi} ) # .doit()\n",
    "# Define axial equation with change of variable and boundary condition\n",
    "eq_sca = eq_sca_bc\n",
    "# Display\n",
    "display(eq_sca)"
   ]
  },
  {
   "cell_type": "code",
   "execution_count": 480,
   "id": "61c8078b",
   "metadata": {},
   "outputs": [
    {
     "data": {
      "text/latex": [
       "$\\displaystyle - \\frac{y^{2} \\left(y - 1\\right)^{4} \\left(- r_{s} + x_{0} y - x_{0}\\right) \\left(r_{s} + x_{0} y - x_{0}\\right)}{r_{s}^{4}}$"
      ],
      "text/plain": [
       "-y**2*(y - 1)**4*(-r_s + x_0*y - x_0)*(r_s + x_0*y - x_0)/r_s**4"
      ]
     },
     "metadata": {},
     "output_type": "display_data"
    }
   ],
   "source": [
    "# Extract term accompanying second derivative\n",
    "norm_sca = eq_sca.lhs.expand().coeff(ddphi).factor()\n",
    "display(norm_sca)"
   ]
  },
  {
   "cell_type": "code",
   "execution_count": 481,
   "id": "02c005a1",
   "metadata": {},
   "outputs": [
    {
     "data": {
      "text/latex": [
       "$\\displaystyle \\left(\\frac{y^{8}}{r_{s}^{2} y^{2} - 2 r_{s}^{2} y + r_{s}^{2}} - \\frac{6 y^{7}}{r_{s}^{2} y^{2} - 2 r_{s}^{2} y + r_{s}^{2}} + \\frac{15 y^{6}}{r_{s}^{2} y^{2} - 2 r_{s}^{2} y + r_{s}^{2}} - \\frac{20 y^{5}}{r_{s}^{2} y^{2} - 2 r_{s}^{2} y + r_{s}^{2}} + \\frac{15 y^{4}}{r_{s}^{2} y^{2} - 2 r_{s}^{2} y + r_{s}^{2}} - \\frac{6 y^{3}}{r_{s}^{2} y^{2} - 2 r_{s}^{2} y + r_{s}^{2}} + \\frac{y^{2}}{r_{s}^{2} y^{2} - 2 r_{s}^{2} y + r_{s}^{2}} - \\frac{x_{0}^{2} y^{8}}{r_{s}^{4}} + \\frac{6 x_{0}^{2} y^{7}}{r_{s}^{4}} - \\frac{15 x_{0}^{2} y^{6}}{r_{s}^{4}} + \\frac{20 x_{0}^{2} y^{5}}{r_{s}^{4}} - \\frac{15 x_{0}^{2} y^{4}}{r_{s}^{4}} + \\frac{6 x_{0}^{2} y^{3}}{r_{s}^{4}} - \\frac{x_{0}^{2} y^{2}}{r_{s}^{4}}\\right) \\frac{d^{2}}{d y^{2}} \\phi{\\left(y \\right)} + \\left(\\frac{4 i \\omega x_{0}^{2} y^{10}}{r_{s}^{3} y^{3} - 2 r_{s}^{3} y^{2} + r_{s}^{3} y} - \\frac{32 i \\omega x_{0}^{2} y^{9}}{r_{s}^{3} y^{3} - 2 r_{s}^{3} y^{2} + r_{s}^{3} y} + \\frac{110 i \\omega x_{0}^{2} y^{8}}{r_{s}^{3} y^{3} - 2 r_{s}^{3} y^{2} + r_{s}^{3} y} - \\frac{212 i \\omega x_{0}^{2} y^{7}}{r_{s}^{3} y^{3} - 2 r_{s}^{3} y^{2} + r_{s}^{3} y} + \\frac{250 i \\omega x_{0}^{2} y^{6}}{r_{s}^{3} y^{3} - 2 r_{s}^{3} y^{2} + r_{s}^{3} y} - \\frac{184 i \\omega x_{0}^{2} y^{5}}{r_{s}^{3} y^{3} - 2 r_{s}^{3} y^{2} + r_{s}^{3} y} + \\frac{82 i \\omega x_{0}^{2} y^{4}}{r_{s}^{3} y^{3} - 2 r_{s}^{3} y^{2} + r_{s}^{3} y} - \\frac{20 i \\omega x_{0}^{2} y^{3}}{r_{s}^{3} y^{3} - 2 r_{s}^{3} y^{2} + r_{s}^{3} y} + \\frac{2 i \\omega x_{0}^{2} y^{2}}{r_{s}^{3} y^{3} - 2 r_{s}^{3} y^{2} + r_{s}^{3} y} - \\frac{4 i \\omega y^{10}}{r_{s} y^{5} - 4 r_{s} y^{4} + 6 r_{s} y^{3} - 4 r_{s} y^{2} + r_{s} y} + \\frac{32 i \\omega y^{9}}{r_{s} y^{5} - 4 r_{s} y^{4} + 6 r_{s} y^{3} - 4 r_{s} y^{2} + r_{s} y} - \\frac{110 i \\omega y^{8}}{r_{s} y^{5} - 4 r_{s} y^{4} + 6 r_{s} y^{3} - 4 r_{s} y^{2} + r_{s} y} + \\frac{212 i \\omega y^{7}}{r_{s} y^{5} - 4 r_{s} y^{4} + 6 r_{s} y^{3} - 4 r_{s} y^{2} + r_{s} y} - \\frac{250 i \\omega y^{6}}{r_{s} y^{5} - 4 r_{s} y^{4} + 6 r_{s} y^{3} - 4 r_{s} y^{2} + r_{s} y} + \\frac{184 i \\omega y^{5}}{r_{s} y^{5} - 4 r_{s} y^{4} + 6 r_{s} y^{3} - 4 r_{s} y^{2} + r_{s} y} - \\frac{82 i \\omega y^{4}}{r_{s} y^{5} - 4 r_{s} y^{4} + 6 r_{s} y^{3} - 4 r_{s} y^{2} + r_{s} y} + \\frac{20 i \\omega y^{3}}{r_{s} y^{5} - 4 r_{s} y^{4} + 6 r_{s} y^{3} - 4 r_{s} y^{2} + r_{s} y} - \\frac{2 i \\omega y^{2}}{r_{s} y^{5} - 4 r_{s} y^{4} + 6 r_{s} y^{3} - 4 r_{s} y^{2} + r_{s} y} + \\frac{3 y^{5}}{r_{s}^{2}} - \\frac{10 y^{4}}{r_{s}^{2}} + \\frac{12 y^{3}}{r_{s}^{2}} - \\frac{6 y^{2}}{r_{s}^{2}} + \\frac{y}{r_{s}^{2}} - \\frac{4 x_{0}^{2} y^{7}}{r_{s}^{4}} + \\frac{21 x_{0}^{2} y^{6}}{r_{s}^{4}} - \\frac{45 x_{0}^{2} y^{5}}{r_{s}^{4}} + \\frac{50 x_{0}^{2} y^{4}}{r_{s}^{4}} - \\frac{30 x_{0}^{2} y^{3}}{r_{s}^{4}} + \\frac{9 x_{0}^{2} y^{2}}{r_{s}^{4}} - \\frac{x_{0}^{2} y}{r_{s}^{4}}\\right) \\frac{d}{d y} \\phi{\\left(y \\right)} + \\left(- \\frac{\\ell^{2} y^{2}}{r_{s}^{2}} + \\frac{\\ell^{2} y^{2}}{r_{s}^{2} \\sqrt{\\frac{1}{y^{2} - 2 y + 1}}} + \\frac{2 \\ell^{2} y}{r_{s}^{2}} - \\frac{2 \\ell^{2} y}{r_{s}^{2} \\sqrt{\\frac{1}{y^{2} - 2 y + 1}}} - \\frac{\\ell^{2}}{r_{s}^{2}} + \\frac{\\ell^{2}}{r_{s}^{2} \\sqrt{\\frac{1}{y^{2} - 2 y + 1}}} - \\frac{\\ell y^{2}}{r_{s}^{2}} + \\frac{\\ell y^{2}}{r_{s}^{2} \\sqrt{\\frac{1}{y^{2} - 2 y + 1}}} + \\frac{2 \\ell y}{r_{s}^{2}} - \\frac{2 \\ell y}{r_{s}^{2} \\sqrt{\\frac{1}{y^{2} - 2 y + 1}}} - \\frac{\\ell}{r_{s}^{2}} + \\frac{\\ell}{r_{s}^{2} \\sqrt{\\frac{1}{y^{2} - 2 y + 1}}} + \\frac{4 \\omega^{2} x_{0}^{2} y^{12}}{r_{s}^{2} y^{6} - 4 r_{s}^{2} y^{5} + 6 r_{s}^{2} y^{4} - 4 r_{s}^{2} y^{3} + r_{s}^{2} y^{2}} - \\frac{40 \\omega^{2} x_{0}^{2} y^{11}}{r_{s}^{2} y^{6} - 4 r_{s}^{2} y^{5} + 6 r_{s}^{2} y^{4} - 4 r_{s}^{2} y^{3} + r_{s}^{2} y^{2}} + \\frac{176 \\omega^{2} x_{0}^{2} y^{10}}{r_{s}^{2} y^{6} - 4 r_{s}^{2} y^{5} + 6 r_{s}^{2} y^{4} - 4 r_{s}^{2} y^{3} + r_{s}^{2} y^{2}} - \\frac{448 \\omega^{2} x_{0}^{2} y^{9}}{r_{s}^{2} y^{6} - 4 r_{s}^{2} y^{5} + 6 r_{s}^{2} y^{4} - 4 r_{s}^{2} y^{3} + r_{s}^{2} y^{2}} + \\frac{729 \\omega^{2} x_{0}^{2} y^{8}}{r_{s}^{2} y^{6} - 4 r_{s}^{2} y^{5} + 6 r_{s}^{2} y^{4} - 4 r_{s}^{2} y^{3} + r_{s}^{2} y^{2}} - \\frac{790 \\omega^{2} x_{0}^{2} y^{7}}{r_{s}^{2} y^{6} - 4 r_{s}^{2} y^{5} + 6 r_{s}^{2} y^{4} - 4 r_{s}^{2} y^{3} + r_{s}^{2} y^{2}} + \\frac{575 \\omega^{2} x_{0}^{2} y^{6}}{r_{s}^{2} y^{6} - 4 r_{s}^{2} y^{5} + 6 r_{s}^{2} y^{4} - 4 r_{s}^{2} y^{3} + r_{s}^{2} y^{2}} - \\frac{276 \\omega^{2} x_{0}^{2} y^{5}}{r_{s}^{2} y^{6} - 4 r_{s}^{2} y^{5} + 6 r_{s}^{2} y^{4} - 4 r_{s}^{2} y^{3} + r_{s}^{2} y^{2}} + \\frac{83 \\omega^{2} x_{0}^{2} y^{4}}{r_{s}^{2} y^{6} - 4 r_{s}^{2} y^{5} + 6 r_{s}^{2} y^{4} - 4 r_{s}^{2} y^{3} + r_{s}^{2} y^{2}} - \\frac{14 \\omega^{2} x_{0}^{2} y^{3}}{r_{s}^{2} y^{6} - 4 r_{s}^{2} y^{5} + 6 r_{s}^{2} y^{4} - 4 r_{s}^{2} y^{3} + r_{s}^{2} y^{2}} + \\frac{\\omega^{2} x_{0}^{2} y^{2}}{r_{s}^{2} y^{6} - 4 r_{s}^{2} y^{5} + 6 r_{s}^{2} y^{4} - 4 r_{s}^{2} y^{3} + r_{s}^{2} y^{2}} - \\frac{4 \\omega^{2} y^{12}}{y^{8} - 6 y^{7} + 15 y^{6} - 20 y^{5} + 15 y^{4} - 6 y^{3} + y^{2}} + \\frac{40 \\omega^{2} y^{11}}{y^{8} - 6 y^{7} + 15 y^{6} - 20 y^{5} + 15 y^{4} - 6 y^{3} + y^{2}} - \\frac{176 \\omega^{2} y^{10}}{y^{8} - 6 y^{7} + 15 y^{6} - 20 y^{5} + 15 y^{4} - 6 y^{3} + y^{2}} + \\frac{448 \\omega^{2} y^{9}}{y^{8} - 6 y^{7} + 15 y^{6} - 20 y^{5} + 15 y^{4} - 6 y^{3} + y^{2}} - \\frac{729 \\omega^{2} y^{8}}{y^{8} - 6 y^{7} + 15 y^{6} - 20 y^{5} + 15 y^{4} - 6 y^{3} + y^{2}} + \\frac{790 \\omega^{2} y^{7}}{y^{8} - 6 y^{7} + 15 y^{6} - 20 y^{5} + 15 y^{4} - 6 y^{3} + y^{2}} - \\frac{575 \\omega^{2} y^{6}}{y^{8} - 6 y^{7} + 15 y^{6} - 20 y^{5} + 15 y^{4} - 6 y^{3} + y^{2}} + \\frac{276 \\omega^{2} y^{5}}{y^{8} - 6 y^{7} + 15 y^{6} - 20 y^{5} + 15 y^{4} - 6 y^{3} + y^{2}} - \\frac{83 \\omega^{2} y^{4}}{y^{8} - 6 y^{7} + 15 y^{6} - 20 y^{5} + 15 y^{4} - 6 y^{3} + y^{2}} + \\frac{14 \\omega^{2} y^{3}}{y^{8} - 6 y^{7} + 15 y^{6} - 20 y^{5} + 15 y^{4} - 6 y^{3} + y^{2}} - \\frac{\\omega^{2} y^{2}}{y^{8} - 6 y^{7} + 15 y^{6} - 20 y^{5} + 15 y^{4} - 6 y^{3} + y^{2}} + \\omega^{2} - \\frac{2 i \\omega x_{0}^{2} y^{11}}{r_{s}^{3} y^{5} - 3 r_{s}^{3} y^{4} + 3 r_{s}^{3} y^{3} - r_{s}^{3} y^{2}} + \\frac{18 i \\omega x_{0}^{2} y^{10}}{r_{s}^{3} y^{5} - 3 r_{s}^{3} y^{4} + 3 r_{s}^{3} y^{3} - r_{s}^{3} y^{2}} - \\frac{69 i \\omega x_{0}^{2} y^{9}}{r_{s}^{3} y^{5} - 3 r_{s}^{3} y^{4} + 3 r_{s}^{3} y^{3} - r_{s}^{3} y^{2}} + \\frac{8 i \\omega x_{0}^{2} y^{9}}{r_{s}^{3} y^{3} - 2 r_{s}^{3} y^{2} + r_{s}^{3} y} + \\frac{149 i \\omega x_{0}^{2} y^{8}}{r_{s}^{3} y^{5} - 3 r_{s}^{3} y^{4} + 3 r_{s}^{3} y^{3} - r_{s}^{3} y^{2}} - \\frac{58 i \\omega x_{0}^{2} y^{8}}{r_{s}^{3} y^{3} - 2 r_{s}^{3} y^{2} + r_{s}^{3} y} - \\frac{201 i \\omega x_{0}^{2} y^{7}}{r_{s}^{3} y^{5} - 3 r_{s}^{3} y^{4} + 3 r_{s}^{3} y^{3} - r_{s}^{3} y^{2}} + \\frac{178 i \\omega x_{0}^{2} y^{7}}{r_{s}^{3} y^{3} - 2 r_{s}^{3} y^{2} + r_{s}^{3} y} + \\frac{177 i \\omega x_{0}^{2} y^{6}}{r_{s}^{3} y^{5} - 3 r_{s}^{3} y^{4} + 3 r_{s}^{3} y^{3} - r_{s}^{3} y^{2}} - \\frac{301 i \\omega x_{0}^{2} y^{6}}{r_{s}^{3} y^{3} - 2 r_{s}^{3} y^{2} + r_{s}^{3} y} - \\frac{103 i \\omega x_{0}^{2} y^{5}}{r_{s}^{3} y^{5} - 3 r_{s}^{3} y^{4} + 3 r_{s}^{3} y^{3} - r_{s}^{3} y^{2}} + \\frac{305 i \\omega x_{0}^{2} y^{5}}{r_{s}^{3} y^{3} - 2 r_{s}^{3} y^{2} + r_{s}^{3} y} + \\frac{39 i \\omega x_{0}^{2} y^{4}}{r_{s}^{3} y^{5} - 3 r_{s}^{3} y^{4} + 3 r_{s}^{3} y^{3} - r_{s}^{3} y^{2}} - \\frac{188 i \\omega x_{0}^{2} y^{4}}{r_{s}^{3} y^{3} - 2 r_{s}^{3} y^{2} + r_{s}^{3} y} - \\frac{9 i \\omega x_{0}^{2} y^{3}}{r_{s}^{3} y^{5} - 3 r_{s}^{3} y^{4} + 3 r_{s}^{3} y^{3} - r_{s}^{3} y^{2}} + \\frac{68 i \\omega x_{0}^{2} y^{3}}{r_{s}^{3} y^{3} - 2 r_{s}^{3} y^{2} + r_{s}^{3} y} + \\frac{i \\omega x_{0}^{2} y^{2}}{r_{s}^{3} y^{5} - 3 r_{s}^{3} y^{4} + 3 r_{s}^{3} y^{3} - r_{s}^{3} y^{2}} - \\frac{13 i \\omega x_{0}^{2} y^{2}}{r_{s}^{3} y^{3} - 2 r_{s}^{3} y^{2} + r_{s}^{3} y} + \\frac{i \\omega x_{0}^{2} y}{r_{s}^{3} y^{3} - 2 r_{s}^{3} y^{2} + r_{s}^{3} y} + \\frac{2 i \\omega y^{11}}{r_{s} y^{7} - 5 r_{s} y^{6} + 10 r_{s} y^{5} - 10 r_{s} y^{4} + 5 r_{s} y^{3} - r_{s} y^{2}} - \\frac{18 i \\omega y^{10}}{r_{s} y^{7} - 5 r_{s} y^{6} + 10 r_{s} y^{5} - 10 r_{s} y^{4} + 5 r_{s} y^{3} - r_{s} y^{2}} + \\frac{69 i \\omega y^{9}}{r_{s} y^{7} - 5 r_{s} y^{6} + 10 r_{s} y^{5} - 10 r_{s} y^{4} + 5 r_{s} y^{3} - r_{s} y^{2}} - \\frac{149 i \\omega y^{8}}{r_{s} y^{7} - 5 r_{s} y^{6} + 10 r_{s} y^{5} - 10 r_{s} y^{4} + 5 r_{s} y^{3} - r_{s} y^{2}} + \\frac{201 i \\omega y^{7}}{r_{s} y^{7} - 5 r_{s} y^{6} + 10 r_{s} y^{5} - 10 r_{s} y^{4} + 5 r_{s} y^{3} - r_{s} y^{2}} - \\frac{6 i \\omega y^{7}}{r_{s} y^{3} - 2 r_{s} y^{2} + r_{s} y} - \\frac{177 i \\omega y^{6}}{r_{s} y^{7} - 5 r_{s} y^{6} + 10 r_{s} y^{5} - 10 r_{s} y^{4} + 5 r_{s} y^{3} - r_{s} y^{2}} + \\frac{32 i \\omega y^{6}}{r_{s} y^{3} - 2 r_{s} y^{2} + r_{s} y} + \\frac{103 i \\omega y^{5}}{r_{s} y^{7} - 5 r_{s} y^{6} + 10 r_{s} y^{5} - 10 r_{s} y^{4} + 5 r_{s} y^{3} - r_{s} y^{2}} - \\frac{67 i \\omega y^{5}}{r_{s} y^{3} - 2 r_{s} y^{2} + r_{s} y} - \\frac{39 i \\omega y^{4}}{r_{s} y^{7} - 5 r_{s} y^{6} + 10 r_{s} y^{5} - 10 r_{s} y^{4} + 5 r_{s} y^{3} - r_{s} y^{2}} + \\frac{70 i \\omega y^{4}}{r_{s} y^{3} - 2 r_{s} y^{2} + r_{s} y} + \\frac{9 i \\omega y^{3}}{r_{s} y^{7} - 5 r_{s} y^{6} + 10 r_{s} y^{5} - 10 r_{s} y^{4} + 5 r_{s} y^{3} - r_{s} y^{2}} - \\frac{38 i \\omega y^{3}}{r_{s} y^{3} - 2 r_{s} y^{2} + r_{s} y} - \\frac{i \\omega y^{2}}{r_{s} y^{7} - 5 r_{s} y^{6} + 10 r_{s} y^{5} - 10 r_{s} y^{4} + 5 r_{s} y^{3} - r_{s} y^{2}} + \\frac{10 i \\omega y^{2}}{r_{s} y^{3} - 2 r_{s} y^{2} + r_{s} y} - \\frac{i \\omega y}{r_{s} y^{3} - 2 r_{s} y^{2} + r_{s} y} + \\frac{4 y^{4}}{r_{s}^{2} y^{2} \\sqrt{\\frac{1}{y^{2} - 2 y + 1}} - 2 r_{s}^{2} y \\sqrt{\\frac{1}{y^{2} - 2 y + 1}} + r_{s}^{2} \\sqrt{\\frac{1}{y^{2} - 2 y + 1}}} - \\frac{2 y^{4}}{r_{s}^{2} y^{2} - 2 r_{s}^{2} y + r_{s}^{2}} - \\frac{16 y^{3}}{r_{s}^{2} y^{2} \\sqrt{\\frac{1}{y^{2} - 2 y + 1}} - 2 r_{s}^{2} y \\sqrt{\\frac{1}{y^{2} - 2 y + 1}} + r_{s}^{2} \\sqrt{\\frac{1}{y^{2} - 2 y + 1}}} + \\frac{8 y^{3}}{r_{s}^{2} y^{2} - 2 r_{s}^{2} y + r_{s}^{2}} + \\frac{24 y^{2}}{r_{s}^{2} y^{2} \\sqrt{\\frac{1}{y^{2} - 2 y + 1}} - 2 r_{s}^{2} y \\sqrt{\\frac{1}{y^{2} - 2 y + 1}} + r_{s}^{2} \\sqrt{\\frac{1}{y^{2} - 2 y + 1}}} - \\frac{12 y^{2}}{r_{s}^{2} y^{2} - 2 r_{s}^{2} y + r_{s}^{2}} - \\frac{16 y}{r_{s}^{2} y^{2} \\sqrt{\\frac{1}{y^{2} - 2 y + 1}} - 2 r_{s}^{2} y \\sqrt{\\frac{1}{y^{2} - 2 y + 1}} + r_{s}^{2} \\sqrt{\\frac{1}{y^{2} - 2 y + 1}}} + \\frac{8 y}{r_{s}^{2} y^{2} - 2 r_{s}^{2} y + r_{s}^{2}} - \\frac{3}{r_{s}^{2} y^{2} \\left(\\frac{1}{y^{2} - 2 y + 1}\\right)^{\\frac{5}{2}} - 2 r_{s}^{2} y \\left(\\frac{1}{y^{2} - 2 y + 1}\\right)^{\\frac{5}{2}} + r_{s}^{2} \\left(\\frac{1}{y^{2} - 2 y + 1}\\right)^{\\frac{5}{2}}} + \\frac{4}{r_{s}^{2} y^{2} \\sqrt{\\frac{1}{y^{2} - 2 y + 1}} - 2 r_{s}^{2} y \\sqrt{\\frac{1}{y^{2} - 2 y + 1}} + r_{s}^{2} \\sqrt{\\frac{1}{y^{2} - 2 y + 1}}} - \\frac{2}{r_{s}^{2} y^{2} - 2 r_{s}^{2} y + r_{s}^{2}} + \\frac{y^{4}}{r_{s}^{2}} - \\frac{4 y^{3}}{r_{s}^{2}} + \\frac{8 y^{2}}{r_{s}^{2}} - \\frac{2 y^{2}}{r_{s}^{2} \\sqrt{\\frac{1}{y^{2} - 2 y + 1}}} - \\frac{8 y}{r_{s}^{2}} + \\frac{4 y}{r_{s}^{2} \\sqrt{\\frac{1}{y^{2} - 2 y + 1}}} + \\frac{3}{r_{s}^{2}} - \\frac{2}{r_{s}^{2} \\sqrt{\\frac{1}{y^{2} - 2 y + 1}}} - \\frac{2 x_{0}^{2} y^{6}}{r_{s}^{4}} + \\frac{12 x_{0}^{2} y^{5}}{r_{s}^{4}} - \\frac{31 x_{0}^{2} y^{4}}{r_{s}^{4}} - \\frac{x_{0}^{2} y^{4}}{r_{s}^{4} \\sqrt{\\frac{1}{y^{2} - 2 y + 1}}} + \\frac{44 x_{0}^{2} y^{3}}{r_{s}^{4}} + \\frac{4 x_{0}^{2} y^{3}}{r_{s}^{4} \\sqrt{\\frac{1}{y^{2} - 2 y + 1}}} - \\frac{36 x_{0}^{2} y^{2}}{r_{s}^{4}} - \\frac{6 x_{0}^{2} y^{2}}{r_{s}^{4} \\sqrt{\\frac{1}{y^{2} - 2 y + 1}}} + \\frac{16 x_{0}^{2} y}{r_{s}^{4}} + \\frac{4 x_{0}^{2} y}{r_{s}^{4} \\sqrt{\\frac{1}{y^{2} - 2 y + 1}}} - \\frac{3 x_{0}^{2}}{r_{s}^{4}} - \\frac{x_{0}^{2}}{r_{s}^{4} \\sqrt{\\frac{1}{y^{2} - 2 y + 1}}} + \\frac{4 x_{0}^{2}}{r_{s}^{4} \\left(\\frac{1}{y^{2} - 2 y + 1}\\right)^{\\frac{5}{2}}}\\right) \\phi{\\left(y \\right)}$"
      ],
      "text/plain": [
       "(y**8/(r_s**2*y**2 - 2*r_s**2*y + r_s**2) - 6*y**7/(r_s**2*y**2 - 2*r_s**2*y + r_s**2) + 15*y**6/(r_s**2*y**2 - 2*r_s**2*y + r_s**2) - 20*y**5/(r_s**2*y**2 - 2*r_s**2*y + r_s**2) + 15*y**4/(r_s**2*y**2 - 2*r_s**2*y + r_s**2) - 6*y**3/(r_s**2*y**2 - 2*r_s**2*y + r_s**2) + y**2/(r_s**2*y**2 - 2*r_s**2*y + r_s**2) - x_0**2*y**8/r_s**4 + 6*x_0**2*y**7/r_s**4 - 15*x_0**2*y**6/r_s**4 + 20*x_0**2*y**5/r_s**4 - 15*x_0**2*y**4/r_s**4 + 6*x_0**2*y**3/r_s**4 - x_0**2*y**2/r_s**4)*Derivative(phi(y), (y, 2)) + (4*I*omega*x_0**2*y**10/(r_s**3*y**3 - 2*r_s**3*y**2 + r_s**3*y) - 32*I*omega*x_0**2*y**9/(r_s**3*y**3 - 2*r_s**3*y**2 + r_s**3*y) + 110*I*omega*x_0**2*y**8/(r_s**3*y**3 - 2*r_s**3*y**2 + r_s**3*y) - 212*I*omega*x_0**2*y**7/(r_s**3*y**3 - 2*r_s**3*y**2 + r_s**3*y) + 250*I*omega*x_0**2*y**6/(r_s**3*y**3 - 2*r_s**3*y**2 + r_s**3*y) - 184*I*omega*x_0**2*y**5/(r_s**3*y**3 - 2*r_s**3*y**2 + r_s**3*y) + 82*I*omega*x_0**2*y**4/(r_s**3*y**3 - 2*r_s**3*y**2 + r_s**3*y) - 20*I*omega*x_0**2*y**3/(r_s**3*y**3 - 2*r_s**3*y**2 + r_s**3*y) + 2*I*omega*x_0**2*y**2/(r_s**3*y**3 - 2*r_s**3*y**2 + r_s**3*y) - 4*I*omega*y**10/(r_s*y**5 - 4*r_s*y**4 + 6*r_s*y**3 - 4*r_s*y**2 + r_s*y) + 32*I*omega*y**9/(r_s*y**5 - 4*r_s*y**4 + 6*r_s*y**3 - 4*r_s*y**2 + r_s*y) - 110*I*omega*y**8/(r_s*y**5 - 4*r_s*y**4 + 6*r_s*y**3 - 4*r_s*y**2 + r_s*y) + 212*I*omega*y**7/(r_s*y**5 - 4*r_s*y**4 + 6*r_s*y**3 - 4*r_s*y**2 + r_s*y) - 250*I*omega*y**6/(r_s*y**5 - 4*r_s*y**4 + 6*r_s*y**3 - 4*r_s*y**2 + r_s*y) + 184*I*omega*y**5/(r_s*y**5 - 4*r_s*y**4 + 6*r_s*y**3 - 4*r_s*y**2 + r_s*y) - 82*I*omega*y**4/(r_s*y**5 - 4*r_s*y**4 + 6*r_s*y**3 - 4*r_s*y**2 + r_s*y) + 20*I*omega*y**3/(r_s*y**5 - 4*r_s*y**4 + 6*r_s*y**3 - 4*r_s*y**2 + r_s*y) - 2*I*omega*y**2/(r_s*y**5 - 4*r_s*y**4 + 6*r_s*y**3 - 4*r_s*y**2 + r_s*y) + 3*y**5/r_s**2 - 10*y**4/r_s**2 + 12*y**3/r_s**2 - 6*y**2/r_s**2 + y/r_s**2 - 4*x_0**2*y**7/r_s**4 + 21*x_0**2*y**6/r_s**4 - 45*x_0**2*y**5/r_s**4 + 50*x_0**2*y**4/r_s**4 - 30*x_0**2*y**3/r_s**4 + 9*x_0**2*y**2/r_s**4 - x_0**2*y/r_s**4)*Derivative(phi(y), y) + (-ell**2*y**2/r_s**2 + ell**2*y**2/(r_s**2*sqrt(1/(y**2 - 2*y + 1))) + 2*ell**2*y/r_s**2 - 2*ell**2*y/(r_s**2*sqrt(1/(y**2 - 2*y + 1))) - ell**2/r_s**2 + ell**2/(r_s**2*sqrt(1/(y**2 - 2*y + 1))) - ell*y**2/r_s**2 + ell*y**2/(r_s**2*sqrt(1/(y**2 - 2*y + 1))) + 2*ell*y/r_s**2 - 2*ell*y/(r_s**2*sqrt(1/(y**2 - 2*y + 1))) - ell/r_s**2 + ell/(r_s**2*sqrt(1/(y**2 - 2*y + 1))) + 4*omega**2*x_0**2*y**12/(r_s**2*y**6 - 4*r_s**2*y**5 + 6*r_s**2*y**4 - 4*r_s**2*y**3 + r_s**2*y**2) - 40*omega**2*x_0**2*y**11/(r_s**2*y**6 - 4*r_s**2*y**5 + 6*r_s**2*y**4 - 4*r_s**2*y**3 + r_s**2*y**2) + 176*omega**2*x_0**2*y**10/(r_s**2*y**6 - 4*r_s**2*y**5 + 6*r_s**2*y**4 - 4*r_s**2*y**3 + r_s**2*y**2) - 448*omega**2*x_0**2*y**9/(r_s**2*y**6 - 4*r_s**2*y**5 + 6*r_s**2*y**4 - 4*r_s**2*y**3 + r_s**2*y**2) + 729*omega**2*x_0**2*y**8/(r_s**2*y**6 - 4*r_s**2*y**5 + 6*r_s**2*y**4 - 4*r_s**2*y**3 + r_s**2*y**2) - 790*omega**2*x_0**2*y**7/(r_s**2*y**6 - 4*r_s**2*y**5 + 6*r_s**2*y**4 - 4*r_s**2*y**3 + r_s**2*y**2) + 575*omega**2*x_0**2*y**6/(r_s**2*y**6 - 4*r_s**2*y**5 + 6*r_s**2*y**4 - 4*r_s**2*y**3 + r_s**2*y**2) - 276*omega**2*x_0**2*y**5/(r_s**2*y**6 - 4*r_s**2*y**5 + 6*r_s**2*y**4 - 4*r_s**2*y**3 + r_s**2*y**2) + 83*omega**2*x_0**2*y**4/(r_s**2*y**6 - 4*r_s**2*y**5 + 6*r_s**2*y**4 - 4*r_s**2*y**3 + r_s**2*y**2) - 14*omega**2*x_0**2*y**3/(r_s**2*y**6 - 4*r_s**2*y**5 + 6*r_s**2*y**4 - 4*r_s**2*y**3 + r_s**2*y**2) + omega**2*x_0**2*y**2/(r_s**2*y**6 - 4*r_s**2*y**5 + 6*r_s**2*y**4 - 4*r_s**2*y**3 + r_s**2*y**2) - 4*omega**2*y**12/(y**8 - 6*y**7 + 15*y**6 - 20*y**5 + 15*y**4 - 6*y**3 + y**2) + 40*omega**2*y**11/(y**8 - 6*y**7 + 15*y**6 - 20*y**5 + 15*y**4 - 6*y**3 + y**2) - 176*omega**2*y**10/(y**8 - 6*y**7 + 15*y**6 - 20*y**5 + 15*y**4 - 6*y**3 + y**2) + 448*omega**2*y**9/(y**8 - 6*y**7 + 15*y**6 - 20*y**5 + 15*y**4 - 6*y**3 + y**2) - 729*omega**2*y**8/(y**8 - 6*y**7 + 15*y**6 - 20*y**5 + 15*y**4 - 6*y**3 + y**2) + 790*omega**2*y**7/(y**8 - 6*y**7 + 15*y**6 - 20*y**5 + 15*y**4 - 6*y**3 + y**2) - 575*omega**2*y**6/(y**8 - 6*y**7 + 15*y**6 - 20*y**5 + 15*y**4 - 6*y**3 + y**2) + 276*omega**2*y**5/(y**8 - 6*y**7 + 15*y**6 - 20*y**5 + 15*y**4 - 6*y**3 + y**2) - 83*omega**2*y**4/(y**8 - 6*y**7 + 15*y**6 - 20*y**5 + 15*y**4 - 6*y**3 + y**2) + 14*omega**2*y**3/(y**8 - 6*y**7 + 15*y**6 - 20*y**5 + 15*y**4 - 6*y**3 + y**2) - omega**2*y**2/(y**8 - 6*y**7 + 15*y**6 - 20*y**5 + 15*y**4 - 6*y**3 + y**2) + omega**2 - 2*I*omega*x_0**2*y**11/(r_s**3*y**5 - 3*r_s**3*y**4 + 3*r_s**3*y**3 - r_s**3*y**2) + 18*I*omega*x_0**2*y**10/(r_s**3*y**5 - 3*r_s**3*y**4 + 3*r_s**3*y**3 - r_s**3*y**2) - 69*I*omega*x_0**2*y**9/(r_s**3*y**5 - 3*r_s**3*y**4 + 3*r_s**3*y**3 - r_s**3*y**2) + 8*I*omega*x_0**2*y**9/(r_s**3*y**3 - 2*r_s**3*y**2 + r_s**3*y) + 149*I*omega*x_0**2*y**8/(r_s**3*y**5 - 3*r_s**3*y**4 + 3*r_s**3*y**3 - r_s**3*y**2) - 58*I*omega*x_0**2*y**8/(r_s**3*y**3 - 2*r_s**3*y**2 + r_s**3*y) - 201*I*omega*x_0**2*y**7/(r_s**3*y**5 - 3*r_s**3*y**4 + 3*r_s**3*y**3 - r_s**3*y**2) + 178*I*omega*x_0**2*y**7/(r_s**3*y**3 - 2*r_s**3*y**2 + r_s**3*y) + 177*I*omega*x_0**2*y**6/(r_s**3*y**5 - 3*r_s**3*y**4 + 3*r_s**3*y**3 - r_s**3*y**2) - 301*I*omega*x_0**2*y**6/(r_s**3*y**3 - 2*r_s**3*y**2 + r_s**3*y) - 103*I*omega*x_0**2*y**5/(r_s**3*y**5 - 3*r_s**3*y**4 + 3*r_s**3*y**3 - r_s**3*y**2) + 305*I*omega*x_0**2*y**5/(r_s**3*y**3 - 2*r_s**3*y**2 + r_s**3*y) + 39*I*omega*x_0**2*y**4/(r_s**3*y**5 - 3*r_s**3*y**4 + 3*r_s**3*y**3 - r_s**3*y**2) - 188*I*omega*x_0**2*y**4/(r_s**3*y**3 - 2*r_s**3*y**2 + r_s**3*y) - 9*I*omega*x_0**2*y**3/(r_s**3*y**5 - 3*r_s**3*y**4 + 3*r_s**3*y**3 - r_s**3*y**2) + 68*I*omega*x_0**2*y**3/(r_s**3*y**3 - 2*r_s**3*y**2 + r_s**3*y) + I*omega*x_0**2*y**2/(r_s**3*y**5 - 3*r_s**3*y**4 + 3*r_s**3*y**3 - r_s**3*y**2) - 13*I*omega*x_0**2*y**2/(r_s**3*y**3 - 2*r_s**3*y**2 + r_s**3*y) + I*omega*x_0**2*y/(r_s**3*y**3 - 2*r_s**3*y**2 + r_s**3*y) + 2*I*omega*y**11/(r_s*y**7 - 5*r_s*y**6 + 10*r_s*y**5 - 10*r_s*y**4 + 5*r_s*y**3 - r_s*y**2) - 18*I*omega*y**10/(r_s*y**7 - 5*r_s*y**6 + 10*r_s*y**5 - 10*r_s*y**4 + 5*r_s*y**3 - r_s*y**2) + 69*I*omega*y**9/(r_s*y**7 - 5*r_s*y**6 + 10*r_s*y**5 - 10*r_s*y**4 + 5*r_s*y**3 - r_s*y**2) - 149*I*omega*y**8/(r_s*y**7 - 5*r_s*y**6 + 10*r_s*y**5 - 10*r_s*y**4 + 5*r_s*y**3 - r_s*y**2) + 201*I*omega*y**7/(r_s*y**7 - 5*r_s*y**6 + 10*r_s*y**5 - 10*r_s*y**4 + 5*r_s*y**3 - r_s*y**2) - 6*I*omega*y**7/(r_s*y**3 - 2*r_s*y**2 + r_s*y) - 177*I*omega*y**6/(r_s*y**7 - 5*r_s*y**6 + 10*r_s*y**5 - 10*r_s*y**4 + 5*r_s*y**3 - r_s*y**2) + 32*I*omega*y**6/(r_s*y**3 - 2*r_s*y**2 + r_s*y) + 103*I*omega*y**5/(r_s*y**7 - 5*r_s*y**6 + 10*r_s*y**5 - 10*r_s*y**4 + 5*r_s*y**3 - r_s*y**2) - 67*I*omega*y**5/(r_s*y**3 - 2*r_s*y**2 + r_s*y) - 39*I*omega*y**4/(r_s*y**7 - 5*r_s*y**6 + 10*r_s*y**5 - 10*r_s*y**4 + 5*r_s*y**3 - r_s*y**2) + 70*I*omega*y**4/(r_s*y**3 - 2*r_s*y**2 + r_s*y) + 9*I*omega*y**3/(r_s*y**7 - 5*r_s*y**6 + 10*r_s*y**5 - 10*r_s*y**4 + 5*r_s*y**3 - r_s*y**2) - 38*I*omega*y**3/(r_s*y**3 - 2*r_s*y**2 + r_s*y) - I*omega*y**2/(r_s*y**7 - 5*r_s*y**6 + 10*r_s*y**5 - 10*r_s*y**4 + 5*r_s*y**3 - r_s*y**2) + 10*I*omega*y**2/(r_s*y**3 - 2*r_s*y**2 + r_s*y) - I*omega*y/(r_s*y**3 - 2*r_s*y**2 + r_s*y) + 4*y**4/(r_s**2*y**2*sqrt(1/(y**2 - 2*y + 1)) - 2*r_s**2*y*sqrt(1/(y**2 - 2*y + 1)) + r_s**2*sqrt(1/(y**2 - 2*y + 1))) - 2*y**4/(r_s**2*y**2 - 2*r_s**2*y + r_s**2) - 16*y**3/(r_s**2*y**2*sqrt(1/(y**2 - 2*y + 1)) - 2*r_s**2*y*sqrt(1/(y**2 - 2*y + 1)) + r_s**2*sqrt(1/(y**2 - 2*y + 1))) + 8*y**3/(r_s**2*y**2 - 2*r_s**2*y + r_s**2) + 24*y**2/(r_s**2*y**2*sqrt(1/(y**2 - 2*y + 1)) - 2*r_s**2*y*sqrt(1/(y**2 - 2*y + 1)) + r_s**2*sqrt(1/(y**2 - 2*y + 1))) - 12*y**2/(r_s**2*y**2 - 2*r_s**2*y + r_s**2) - 16*y/(r_s**2*y**2*sqrt(1/(y**2 - 2*y + 1)) - 2*r_s**2*y*sqrt(1/(y**2 - 2*y + 1)) + r_s**2*sqrt(1/(y**2 - 2*y + 1))) + 8*y/(r_s**2*y**2 - 2*r_s**2*y + r_s**2) - 3/(r_s**2*y**2*(1/(y**2 - 2*y + 1))**(5/2) - 2*r_s**2*y*(1/(y**2 - 2*y + 1))**(5/2) + r_s**2*(1/(y**2 - 2*y + 1))**(5/2)) + 4/(r_s**2*y**2*sqrt(1/(y**2 - 2*y + 1)) - 2*r_s**2*y*sqrt(1/(y**2 - 2*y + 1)) + r_s**2*sqrt(1/(y**2 - 2*y + 1))) - 2/(r_s**2*y**2 - 2*r_s**2*y + r_s**2) + y**4/r_s**2 - 4*y**3/r_s**2 + 8*y**2/r_s**2 - 2*y**2/(r_s**2*sqrt(1/(y**2 - 2*y + 1))) - 8*y/r_s**2 + 4*y/(r_s**2*sqrt(1/(y**2 - 2*y + 1))) + 3/r_s**2 - 2/(r_s**2*sqrt(1/(y**2 - 2*y + 1))) - 2*x_0**2*y**6/r_s**4 + 12*x_0**2*y**5/r_s**4 - 31*x_0**2*y**4/r_s**4 - x_0**2*y**4/(r_s**4*sqrt(1/(y**2 - 2*y + 1))) + 44*x_0**2*y**3/r_s**4 + 4*x_0**2*y**3/(r_s**4*sqrt(1/(y**2 - 2*y + 1))) - 36*x_0**2*y**2/r_s**4 - 6*x_0**2*y**2/(r_s**4*sqrt(1/(y**2 - 2*y + 1))) + 16*x_0**2*y/r_s**4 + 4*x_0**2*y/(r_s**4*sqrt(1/(y**2 - 2*y + 1))) - 3*x_0**2/r_s**4 - x_0**2/(r_s**4*sqrt(1/(y**2 - 2*y + 1))) + 4*x_0**2/(r_s**4*(1/(y**2 - 2*y + 1))**(5/2)))*phi(y)"
      ]
     },
     "metadata": {},
     "output_type": "display_data"
    }
   ],
   "source": [
    "# Expand equation and collect according to powers of phi and derivatives\n",
    "eq_sca_exp = eq_sca.lhs.expand().collect(phi)\n",
    "display(eq_sca_exp)"
   ]
  },
  {
   "cell_type": "code",
   "execution_count": 482,
   "id": "0c428bba",
   "metadata": {},
   "outputs": [
    {
     "data": {
      "text/latex": [
       "$\\displaystyle 1$"
      ],
      "text/plain": [
       "1"
      ]
     },
     "metadata": {},
     "output_type": "display_data"
    }
   ],
   "source": [
    "# Get coefficient of second derivative, normalize, and simplify (just to check)\n",
    "term_two_sca = ( eq_sca_exp.coeff(ddphi).simplify() / norm_sca ).simplify()\n",
    "display(term_two_sca)"
   ]
  },
  {
   "cell_type": "code",
   "execution_count": 507,
   "id": "32e75314",
   "metadata": {},
   "outputs": [
    {
     "ename": "KeyboardInterrupt",
     "evalue": "",
     "output_type": "error",
     "traceback": [
      "\u001b[0;31m---------------------------------------------------------------------------\u001b[0m",
      "\u001b[0;31mKeyboardInterrupt\u001b[0m                         Traceback (most recent call last)",
      "Cell \u001b[0;32mIn[507], line 2\u001b[0m\n\u001b[1;32m      1\u001b[0m \u001b[38;5;66;03m# Get coefficient of zero-th derivative, normalize, and simplify -> s_0\u001b[39;00m\n\u001b[0;32m----> 2\u001b[0m s0_sca \u001b[38;5;241m=\u001b[39m \u001b[38;5;241m-\u001b[39m \u001b[43m(\u001b[49m\u001b[43m \u001b[49m\u001b[43meq_sca_exp\u001b[49m\u001b[38;5;241;43m.\u001b[39;49m\u001b[43mcoeff\u001b[49m\u001b[43m(\u001b[49m\u001b[43mphi\u001b[49m\u001b[43m)\u001b[49m\u001b[38;5;241;43m.\u001b[39;49m\u001b[43msimplify\u001b[49m\u001b[43m(\u001b[49m\u001b[43m)\u001b[49m\u001b[43m \u001b[49m\u001b[38;5;241;43m/\u001b[39;49m\u001b[43m \u001b[49m\u001b[43mnorm_sca\u001b[49m\u001b[43m \u001b[49m\u001b[43m)\u001b[49m\u001b[38;5;241;43m.\u001b[39;49m\u001b[43msimplify\u001b[49m\u001b[43m(\u001b[49m\u001b[43m)\u001b[49m\n\u001b[1;32m      3\u001b[0m display(s0_sca)\n\u001b[1;32m      4\u001b[0m \u001b[38;5;66;03m# Write s_0 as Python string\u001b[39;00m\n",
      "File \u001b[0;32m/Library/Frameworks/Python.framework/Versions/3.12/lib/python3.12/site-packages/sympy/core/basic.py:1936\u001b[0m, in \u001b[0;36mBasic.simplify\u001b[0;34m(self, **kwargs)\u001b[0m\n\u001b[1;32m   1934\u001b[0m \u001b[38;5;250m\u001b[39m\u001b[38;5;124;03m\"\"\"See the simplify function in sympy.simplify\"\"\"\u001b[39;00m\n\u001b[1;32m   1935\u001b[0m \u001b[38;5;28;01mfrom\u001b[39;00m \u001b[38;5;21;01msympy\u001b[39;00m\u001b[38;5;21;01m.\u001b[39;00m\u001b[38;5;21;01msimplify\u001b[39;00m\u001b[38;5;21;01m.\u001b[39;00m\u001b[38;5;21;01msimplify\u001b[39;00m \u001b[38;5;28;01mimport\u001b[39;00m simplify\n\u001b[0;32m-> 1936\u001b[0m \u001b[38;5;28;01mreturn\u001b[39;00m \u001b[43msimplify\u001b[49m\u001b[43m(\u001b[49m\u001b[38;5;28;43mself\u001b[39;49m\u001b[43m,\u001b[49m\u001b[43m \u001b[49m\u001b[38;5;241;43m*\u001b[39;49m\u001b[38;5;241;43m*\u001b[39;49m\u001b[43mkwargs\u001b[49m\u001b[43m)\u001b[49m\n",
      "File \u001b[0;32m/Library/Frameworks/Python.framework/Versions/3.12/lib/python3.12/site-packages/sympy/simplify/simplify.py:644\u001b[0m, in \u001b[0;36msimplify\u001b[0;34m(expr, ratio, measure, rational, inverse, doit, **kwargs)\u001b[0m\n\u001b[1;32m    642\u001b[0m expr \u001b[38;5;241m=\u001b[39m _bottom_up(expr, \u001b[38;5;28;01mlambda\u001b[39;00m w: \u001b[38;5;28mgetattr\u001b[39m(w, \u001b[38;5;124m'\u001b[39m\u001b[38;5;124mnormal\u001b[39m\u001b[38;5;124m'\u001b[39m, \u001b[38;5;28;01mlambda\u001b[39;00m: w)())\n\u001b[1;32m    643\u001b[0m expr \u001b[38;5;241m=\u001b[39m Mul(\u001b[38;5;241m*\u001b[39mpowsimp(expr)\u001b[38;5;241m.\u001b[39mas_content_primitive())\n\u001b[0;32m--> 644\u001b[0m _e \u001b[38;5;241m=\u001b[39m \u001b[43mcancel\u001b[49m\u001b[43m(\u001b[49m\u001b[43mexpr\u001b[49m\u001b[43m)\u001b[49m\n\u001b[1;32m    645\u001b[0m expr1 \u001b[38;5;241m=\u001b[39m shorter(_e, _mexpand(_e)\u001b[38;5;241m.\u001b[39mcancel())  \u001b[38;5;66;03m# issue 6829\u001b[39;00m\n\u001b[1;32m    646\u001b[0m expr2 \u001b[38;5;241m=\u001b[39m shorter(together(expr, deep\u001b[38;5;241m=\u001b[39m\u001b[38;5;28;01mTrue\u001b[39;00m), together(expr1, deep\u001b[38;5;241m=\u001b[39m\u001b[38;5;28;01mTrue\u001b[39;00m))\n",
      "File \u001b[0;32m/Library/Frameworks/Python.framework/Versions/3.12/lib/python3.12/site-packages/sympy/polys/polytools.py:7213\u001b[0m, in \u001b[0;36mcancel\u001b[0;34m(f, _signsimp, *gens, **args)\u001b[0m\n\u001b[1;32m   7210\u001b[0m                 \u001b[38;5;28;01mpass\u001b[39;00m\n\u001b[1;32m   7211\u001b[0m         \u001b[38;5;28;01mreturn\u001b[39;00m f\u001b[38;5;241m.\u001b[39mxreplace(\u001b[38;5;28mdict\u001b[39m(reps))\n\u001b[0;32m-> 7213\u001b[0m c, (P, Q) \u001b[38;5;241m=\u001b[39m \u001b[38;5;241m1\u001b[39m, \u001b[43mF\u001b[49m\u001b[38;5;241;43m.\u001b[39;49m\u001b[43mcancel\u001b[49m\u001b[43m(\u001b[49m\u001b[43mG\u001b[49m\u001b[43m)\u001b[49m\n\u001b[1;32m   7214\u001b[0m \u001b[38;5;28;01mif\u001b[39;00m opt\u001b[38;5;241m.\u001b[39mget(\u001b[38;5;124m'\u001b[39m\u001b[38;5;124mpolys\u001b[39m\u001b[38;5;124m'\u001b[39m, \u001b[38;5;28;01mFalse\u001b[39;00m) \u001b[38;5;129;01mand\u001b[39;00m \u001b[38;5;124m'\u001b[39m\u001b[38;5;124mgens\u001b[39m\u001b[38;5;124m'\u001b[39m \u001b[38;5;129;01mnot\u001b[39;00m \u001b[38;5;129;01min\u001b[39;00m opt:\n\u001b[1;32m   7215\u001b[0m     opt[\u001b[38;5;124m'\u001b[39m\u001b[38;5;124mgens\u001b[39m\u001b[38;5;124m'\u001b[39m] \u001b[38;5;241m=\u001b[39m R\u001b[38;5;241m.\u001b[39msymbols\n",
      "File \u001b[0;32m/Library/Frameworks/Python.framework/Versions/3.12/lib/python3.12/site-packages/sympy/polys/rings.py:2242\u001b[0m, in \u001b[0;36mPolyElement.cancel\u001b[0;34m(self, g)\u001b[0m\n\u001b[1;32m   2239\u001b[0m domain \u001b[38;5;241m=\u001b[39m ring\u001b[38;5;241m.\u001b[39mdomain\n\u001b[1;32m   2241\u001b[0m \u001b[38;5;28;01mif\u001b[39;00m \u001b[38;5;129;01mnot\u001b[39;00m (domain\u001b[38;5;241m.\u001b[39mis_Field \u001b[38;5;129;01mand\u001b[39;00m domain\u001b[38;5;241m.\u001b[39mhas_assoc_Ring):\n\u001b[0;32m-> 2242\u001b[0m     _, p, q \u001b[38;5;241m=\u001b[39m \u001b[43mf\u001b[49m\u001b[38;5;241;43m.\u001b[39;49m\u001b[43mcofactors\u001b[49m\u001b[43m(\u001b[49m\u001b[43mg\u001b[49m\u001b[43m)\u001b[49m\n\u001b[1;32m   2243\u001b[0m \u001b[38;5;28;01melse\u001b[39;00m:\n\u001b[1;32m   2244\u001b[0m     new_ring \u001b[38;5;241m=\u001b[39m ring\u001b[38;5;241m.\u001b[39mclone(domain\u001b[38;5;241m=\u001b[39mdomain\u001b[38;5;241m.\u001b[39mget_ring())\n",
      "File \u001b[0;32m/Library/Frameworks/Python.framework/Versions/3.12/lib/python3.12/site-packages/sympy/polys/rings.py:2158\u001b[0m, in \u001b[0;36mPolyElement.cofactors\u001b[0;34m(f, g)\u001b[0m\n\u001b[1;32m   2155\u001b[0m     \u001b[38;5;28;01mreturn\u001b[39;00m h, cff, cfg\n\u001b[1;32m   2157\u001b[0m J, (f, g) \u001b[38;5;241m=\u001b[39m f\u001b[38;5;241m.\u001b[39mdeflate(g)\n\u001b[0;32m-> 2158\u001b[0m h, cff, cfg \u001b[38;5;241m=\u001b[39m \u001b[43mf\u001b[49m\u001b[38;5;241;43m.\u001b[39;49m\u001b[43m_gcd\u001b[49m\u001b[43m(\u001b[49m\u001b[43mg\u001b[49m\u001b[43m)\u001b[49m\n\u001b[1;32m   2160\u001b[0m \u001b[38;5;28;01mreturn\u001b[39;00m (h\u001b[38;5;241m.\u001b[39minflate(J), cff\u001b[38;5;241m.\u001b[39minflate(J), cfg\u001b[38;5;241m.\u001b[39minflate(J))\n",
      "File \u001b[0;32m/Library/Frameworks/Python.framework/Versions/3.12/lib/python3.12/site-packages/sympy/polys/rings.py:2193\u001b[0m, in \u001b[0;36mPolyElement._gcd\u001b[0;34m(f, g)\u001b[0m\n\u001b[1;32m   2191\u001b[0m     \u001b[38;5;28;01mreturn\u001b[39;00m f\u001b[38;5;241m.\u001b[39m_gcd_ZZ(g)\n\u001b[1;32m   2192\u001b[0m \u001b[38;5;28;01melse\u001b[39;00m: \u001b[38;5;66;03m# TODO: don't use dense representation (port PRS algorithms)\u001b[39;00m\n\u001b[0;32m-> 2193\u001b[0m     \u001b[38;5;28;01mreturn\u001b[39;00m \u001b[43mring\u001b[49m\u001b[38;5;241;43m.\u001b[39;49m\u001b[43mdmp_inner_gcd\u001b[49m\u001b[43m(\u001b[49m\u001b[43mf\u001b[49m\u001b[43m,\u001b[49m\u001b[43m \u001b[49m\u001b[43mg\u001b[49m\u001b[43m)\u001b[49m\n",
      "File \u001b[0;32m/Library/Frameworks/Python.framework/Versions/3.12/lib/python3.12/site-packages/sympy/polys/compatibility.py:667\u001b[0m, in \u001b[0;36mIPolys.dmp_inner_gcd\u001b[0;34m(self, f, g)\u001b[0m\n\u001b[1;32m    666\u001b[0m \u001b[38;5;28;01mdef\u001b[39;00m \u001b[38;5;21mdmp_inner_gcd\u001b[39m(\u001b[38;5;28mself\u001b[39m, f, g):\n\u001b[0;32m--> 667\u001b[0m     H, F, G \u001b[38;5;241m=\u001b[39m \u001b[43mdmp_inner_gcd\u001b[49m\u001b[43m(\u001b[49m\u001b[38;5;28;43mself\u001b[39;49m\u001b[38;5;241;43m.\u001b[39;49m\u001b[43mto_dense\u001b[49m\u001b[43m(\u001b[49m\u001b[43mf\u001b[49m\u001b[43m)\u001b[49m\u001b[43m,\u001b[49m\u001b[43m \u001b[49m\u001b[38;5;28;43mself\u001b[39;49m\u001b[38;5;241;43m.\u001b[39;49m\u001b[43mto_dense\u001b[49m\u001b[43m(\u001b[49m\u001b[43mg\u001b[49m\u001b[43m)\u001b[49m\u001b[43m,\u001b[49m\u001b[43m \u001b[49m\u001b[38;5;28;43mself\u001b[39;49m\u001b[38;5;241;43m.\u001b[39;49m\u001b[43mngens\u001b[49m\u001b[38;5;241;43m-\u001b[39;49m\u001b[38;5;241;43m1\u001b[39;49m\u001b[43m,\u001b[49m\u001b[43m \u001b[49m\u001b[38;5;28;43mself\u001b[39;49m\u001b[38;5;241;43m.\u001b[39;49m\u001b[43mdomain\u001b[49m\u001b[43m)\u001b[49m\n\u001b[1;32m    668\u001b[0m     \u001b[38;5;28;01mreturn\u001b[39;00m (\u001b[38;5;28mself\u001b[39m\u001b[38;5;241m.\u001b[39mfrom_dense(H), \u001b[38;5;28mself\u001b[39m\u001b[38;5;241m.\u001b[39mfrom_dense(F), \u001b[38;5;28mself\u001b[39m\u001b[38;5;241m.\u001b[39mfrom_dense(G))\n",
      "File \u001b[0;32m/Library/Frameworks/Python.framework/Versions/3.12/lib/python3.12/site-packages/sympy/polys/euclidtools.py:1598\u001b[0m, in \u001b[0;36mdmp_inner_gcd\u001b[0;34m(f, g, u, K)\u001b[0m\n\u001b[1;32m   1595\u001b[0m     \u001b[38;5;28;01mreturn\u001b[39;00m dup_inner_gcd(f, g, K)\n\u001b[1;32m   1597\u001b[0m J, (f, g) \u001b[38;5;241m=\u001b[39m dmp_multi_deflate((f, g), u, K)\n\u001b[0;32m-> 1598\u001b[0m h, cff, cfg \u001b[38;5;241m=\u001b[39m \u001b[43m_dmp_inner_gcd\u001b[49m\u001b[43m(\u001b[49m\u001b[43mf\u001b[49m\u001b[43m,\u001b[49m\u001b[43m \u001b[49m\u001b[43mg\u001b[49m\u001b[43m,\u001b[49m\u001b[43m \u001b[49m\u001b[43mu\u001b[49m\u001b[43m,\u001b[49m\u001b[43m \u001b[49m\u001b[43mK\u001b[49m\u001b[43m)\u001b[49m\n\u001b[1;32m   1600\u001b[0m \u001b[38;5;28;01mreturn\u001b[39;00m (dmp_inflate(h, J, u, K),\n\u001b[1;32m   1601\u001b[0m         dmp_inflate(cff, J, u, K),\n\u001b[1;32m   1602\u001b[0m         dmp_inflate(cfg, J, u, K))\n",
      "File \u001b[0;32m/Library/Frameworks/Python.framework/Versions/3.12/lib/python3.12/site-packages/sympy/polys/euclidtools.py:1571\u001b[0m, in \u001b[0;36m_dmp_inner_gcd\u001b[0;34m(f, g, u, K)\u001b[0m\n\u001b[1;32m   1568\u001b[0m     \u001b[38;5;28;01mexcept\u001b[39;00m HeuristicGCDFailed:\n\u001b[1;32m   1569\u001b[0m         \u001b[38;5;28;01mpass\u001b[39;00m\n\u001b[0;32m-> 1571\u001b[0m \u001b[38;5;28;01mreturn\u001b[39;00m \u001b[43mdmp_rr_prs_gcd\u001b[49m\u001b[43m(\u001b[49m\u001b[43mf\u001b[49m\u001b[43m,\u001b[49m\u001b[43m \u001b[49m\u001b[43mg\u001b[49m\u001b[43m,\u001b[49m\u001b[43m \u001b[49m\u001b[43mu\u001b[49m\u001b[43m,\u001b[49m\u001b[43m \u001b[49m\u001b[43mK\u001b[49m\u001b[43m)\u001b[49m\n",
      "File \u001b[0;32m/Library/Frameworks/Python.framework/Versions/3.12/lib/python3.12/site-packages/sympy/polys/euclidtools.py:1068\u001b[0m, in \u001b[0;36mdmp_rr_prs_gcd\u001b[0;34m(f, g, u, K)\u001b[0m\n\u001b[1;32m   1065\u001b[0m fc, F \u001b[38;5;241m=\u001b[39m dmp_primitive(f, u, K)\n\u001b[1;32m   1066\u001b[0m gc, G \u001b[38;5;241m=\u001b[39m dmp_primitive(g, u, K)\n\u001b[0;32m-> 1068\u001b[0m h \u001b[38;5;241m=\u001b[39m \u001b[43mdmp_subresultants\u001b[49m\u001b[43m(\u001b[49m\u001b[43mF\u001b[49m\u001b[43m,\u001b[49m\u001b[43m \u001b[49m\u001b[43mG\u001b[49m\u001b[43m,\u001b[49m\u001b[43m \u001b[49m\u001b[43mu\u001b[49m\u001b[43m,\u001b[49m\u001b[43m \u001b[49m\u001b[43mK\u001b[49m\u001b[43m)\u001b[49m[\u001b[38;5;241m-\u001b[39m\u001b[38;5;241m1\u001b[39m]\n\u001b[1;32m   1069\u001b[0m c, _, _ \u001b[38;5;241m=\u001b[39m dmp_rr_prs_gcd(fc, gc, u \u001b[38;5;241m-\u001b[39m \u001b[38;5;241m1\u001b[39m, K)\n\u001b[1;32m   1071\u001b[0m _, h \u001b[38;5;241m=\u001b[39m dmp_primitive(h, u, K)\n",
      "File \u001b[0;32m/Library/Frameworks/Python.framework/Versions/3.12/lib/python3.12/site-packages/sympy/polys/euclidtools.py:549\u001b[0m, in \u001b[0;36mdmp_subresultants\u001b[0;34m(f, g, u, K)\u001b[0m\n\u001b[1;32m    529\u001b[0m \u001b[38;5;28;01mdef\u001b[39;00m \u001b[38;5;21mdmp_subresultants\u001b[39m(f, g, u, K):\n\u001b[1;32m    530\u001b[0m \u001b[38;5;250m    \u001b[39m\u001b[38;5;124;03m\"\"\"\u001b[39;00m\n\u001b[1;32m    531\u001b[0m \u001b[38;5;124;03m    Computes subresultant PRS of two polynomials in `K[X]`.\u001b[39;00m\n\u001b[1;32m    532\u001b[0m \n\u001b[0;32m   (...)\u001b[0m\n\u001b[1;32m    547\u001b[0m \n\u001b[1;32m    548\u001b[0m \u001b[38;5;124;03m    \"\"\"\u001b[39;00m\n\u001b[0;32m--> 549\u001b[0m     \u001b[38;5;28;01mreturn\u001b[39;00m \u001b[43mdmp_inner_subresultants\u001b[49m\u001b[43m(\u001b[49m\u001b[43mf\u001b[49m\u001b[43m,\u001b[49m\u001b[43m \u001b[49m\u001b[43mg\u001b[49m\u001b[43m,\u001b[49m\u001b[43m \u001b[49m\u001b[43mu\u001b[49m\u001b[43m,\u001b[49m\u001b[43m \u001b[49m\u001b[43mK\u001b[49m\u001b[43m)\u001b[49m[\u001b[38;5;241m0\u001b[39m]\n",
      "File \u001b[0;32m/Library/Frameworks/Python.framework/Versions/3.12/lib/python3.12/site-packages/sympy/polys/euclidtools.py:512\u001b[0m, in \u001b[0;36mdmp_inner_subresultants\u001b[0;34m(f, g, u, K)\u001b[0m\n\u001b[1;32m    507\u001b[0m f, g, m, d \u001b[38;5;241m=\u001b[39m g, h, k, m \u001b[38;5;241m-\u001b[39m k\n\u001b[1;32m    509\u001b[0m b \u001b[38;5;241m=\u001b[39m dmp_mul(dmp_neg(lc, v, K),\n\u001b[1;32m    510\u001b[0m             dmp_pow(c, d, v, K), v, K)\n\u001b[0;32m--> 512\u001b[0m h \u001b[38;5;241m=\u001b[39m \u001b[43mdmp_prem\u001b[49m\u001b[43m(\u001b[49m\u001b[43mf\u001b[49m\u001b[43m,\u001b[49m\u001b[43m \u001b[49m\u001b[43mg\u001b[49m\u001b[43m,\u001b[49m\u001b[43m \u001b[49m\u001b[43mu\u001b[49m\u001b[43m,\u001b[49m\u001b[43m \u001b[49m\u001b[43mK\u001b[49m\u001b[43m)\u001b[49m\n\u001b[1;32m    513\u001b[0m h \u001b[38;5;241m=\u001b[39m [ dmp_quo(ch, b, v, K) \u001b[38;5;28;01mfor\u001b[39;00m ch \u001b[38;5;129;01min\u001b[39;00m h ]\n\u001b[1;32m    515\u001b[0m lc \u001b[38;5;241m=\u001b[39m dmp_LC(g, K)\n",
      "File \u001b[0;32m/Library/Frameworks/Python.framework/Versions/3.12/lib/python3.12/site-packages/sympy/polys/densearith.py:1237\u001b[0m, in \u001b[0;36mdmp_prem\u001b[0;34m(f, g, u, K)\u001b[0m\n\u001b[1;32m   1234\u001b[0m lc_r \u001b[38;5;241m=\u001b[39m dmp_LC(r, K)\n\u001b[1;32m   1235\u001b[0m j, N \u001b[38;5;241m=\u001b[39m dr \u001b[38;5;241m-\u001b[39m dg, N \u001b[38;5;241m-\u001b[39m \u001b[38;5;241m1\u001b[39m\n\u001b[0;32m-> 1237\u001b[0m R \u001b[38;5;241m=\u001b[39m \u001b[43mdmp_mul_term\u001b[49m\u001b[43m(\u001b[49m\u001b[43mr\u001b[49m\u001b[43m,\u001b[49m\u001b[43m \u001b[49m\u001b[43mlc_g\u001b[49m\u001b[43m,\u001b[49m\u001b[43m \u001b[49m\u001b[38;5;241;43m0\u001b[39;49m\u001b[43m,\u001b[49m\u001b[43m \u001b[49m\u001b[43mu\u001b[49m\u001b[43m,\u001b[49m\u001b[43m \u001b[49m\u001b[43mK\u001b[49m\u001b[43m)\u001b[49m\n\u001b[1;32m   1238\u001b[0m G \u001b[38;5;241m=\u001b[39m dmp_mul_term(g, lc_r, j, u, K)\n\u001b[1;32m   1239\u001b[0m r \u001b[38;5;241m=\u001b[39m dmp_sub(R, G, u, K)\n",
      "File \u001b[0;32m/Library/Frameworks/Python.framework/Versions/3.12/lib/python3.12/site-packages/sympy/polys/densearith.py:184\u001b[0m, in \u001b[0;36mdmp_mul_term\u001b[0;34m(f, c, i, u, K)\u001b[0m\n\u001b[1;32m    182\u001b[0m     \u001b[38;5;28;01mreturn\u001b[39;00m dmp_zero(u)\n\u001b[1;32m    183\u001b[0m \u001b[38;5;28;01melse\u001b[39;00m:\n\u001b[0;32m--> 184\u001b[0m     \u001b[38;5;28;01mreturn\u001b[39;00m [ \u001b[43mdmp_mul\u001b[49m\u001b[43m(\u001b[49m\u001b[43mcf\u001b[49m\u001b[43m,\u001b[49m\u001b[43m \u001b[49m\u001b[43mc\u001b[49m\u001b[43m,\u001b[49m\u001b[43m \u001b[49m\u001b[43mv\u001b[49m\u001b[43m,\u001b[49m\u001b[43m \u001b[49m\u001b[43mK\u001b[49m\u001b[43m)\u001b[49m \u001b[38;5;28;01mfor\u001b[39;00m cf \u001b[38;5;129;01min\u001b[39;00m f ] \u001b[38;5;241m+\u001b[39m dmp_zeros(i, v, K)\n",
      "File \u001b[0;32m/Library/Frameworks/Python.framework/Versions/3.12/lib/python3.12/site-packages/sympy/polys/densearith.py:828\u001b[0m, in \u001b[0;36mdmp_mul\u001b[0;34m(f, g, u, K)\u001b[0m\n\u001b[1;32m    825\u001b[0m     coeff \u001b[38;5;241m=\u001b[39m dmp_zero(v)\n\u001b[1;32m    827\u001b[0m     \u001b[38;5;28;01mfor\u001b[39;00m j \u001b[38;5;129;01min\u001b[39;00m \u001b[38;5;28mrange\u001b[39m(\u001b[38;5;28mmax\u001b[39m(\u001b[38;5;241m0\u001b[39m, i \u001b[38;5;241m-\u001b[39m dg), \u001b[38;5;28mmin\u001b[39m(df, i) \u001b[38;5;241m+\u001b[39m \u001b[38;5;241m1\u001b[39m):\n\u001b[0;32m--> 828\u001b[0m         coeff \u001b[38;5;241m=\u001b[39m dmp_add(coeff, \u001b[43mdmp_mul\u001b[49m\u001b[43m(\u001b[49m\u001b[43mf\u001b[49m\u001b[43m[\u001b[49m\u001b[43mj\u001b[49m\u001b[43m]\u001b[49m\u001b[43m,\u001b[49m\u001b[43m \u001b[49m\u001b[43mg\u001b[49m\u001b[43m[\u001b[49m\u001b[43mi\u001b[49m\u001b[43m \u001b[49m\u001b[38;5;241;43m-\u001b[39;49m\u001b[43m \u001b[49m\u001b[43mj\u001b[49m\u001b[43m]\u001b[49m\u001b[43m,\u001b[49m\u001b[43m \u001b[49m\u001b[43mv\u001b[49m\u001b[43m,\u001b[49m\u001b[43m \u001b[49m\u001b[43mK\u001b[49m\u001b[43m)\u001b[49m, v, K)\n\u001b[1;32m    830\u001b[0m     h\u001b[38;5;241m.\u001b[39mappend(coeff)\n\u001b[1;32m    832\u001b[0m \u001b[38;5;28;01mreturn\u001b[39;00m dmp_strip(h, u)\n",
      "File \u001b[0;32m/Library/Frameworks/Python.framework/Versions/3.12/lib/python3.12/site-packages/sympy/polys/densearith.py:828\u001b[0m, in \u001b[0;36mdmp_mul\u001b[0;34m(f, g, u, K)\u001b[0m\n\u001b[1;32m    825\u001b[0m     coeff \u001b[38;5;241m=\u001b[39m dmp_zero(v)\n\u001b[1;32m    827\u001b[0m     \u001b[38;5;28;01mfor\u001b[39;00m j \u001b[38;5;129;01min\u001b[39;00m \u001b[38;5;28mrange\u001b[39m(\u001b[38;5;28mmax\u001b[39m(\u001b[38;5;241m0\u001b[39m, i \u001b[38;5;241m-\u001b[39m dg), \u001b[38;5;28mmin\u001b[39m(df, i) \u001b[38;5;241m+\u001b[39m \u001b[38;5;241m1\u001b[39m):\n\u001b[0;32m--> 828\u001b[0m         coeff \u001b[38;5;241m=\u001b[39m dmp_add(coeff, \u001b[43mdmp_mul\u001b[49m\u001b[43m(\u001b[49m\u001b[43mf\u001b[49m\u001b[43m[\u001b[49m\u001b[43mj\u001b[49m\u001b[43m]\u001b[49m\u001b[43m,\u001b[49m\u001b[43m \u001b[49m\u001b[43mg\u001b[49m\u001b[43m[\u001b[49m\u001b[43mi\u001b[49m\u001b[43m \u001b[49m\u001b[38;5;241;43m-\u001b[39;49m\u001b[43m \u001b[49m\u001b[43mj\u001b[49m\u001b[43m]\u001b[49m\u001b[43m,\u001b[49m\u001b[43m \u001b[49m\u001b[43mv\u001b[49m\u001b[43m,\u001b[49m\u001b[43m \u001b[49m\u001b[43mK\u001b[49m\u001b[43m)\u001b[49m, v, K)\n\u001b[1;32m    830\u001b[0m     h\u001b[38;5;241m.\u001b[39mappend(coeff)\n\u001b[1;32m    832\u001b[0m \u001b[38;5;28;01mreturn\u001b[39;00m dmp_strip(h, u)\n",
      "    \u001b[0;31m[... skipping similar frames: dmp_mul at line 828 (1 times)]\u001b[0m\n",
      "File \u001b[0;32m/Library/Frameworks/Python.framework/Versions/3.12/lib/python3.12/site-packages/sympy/polys/densearith.py:828\u001b[0m, in \u001b[0;36mdmp_mul\u001b[0;34m(f, g, u, K)\u001b[0m\n\u001b[1;32m    825\u001b[0m     coeff \u001b[38;5;241m=\u001b[39m dmp_zero(v)\n\u001b[1;32m    827\u001b[0m     \u001b[38;5;28;01mfor\u001b[39;00m j \u001b[38;5;129;01min\u001b[39;00m \u001b[38;5;28mrange\u001b[39m(\u001b[38;5;28mmax\u001b[39m(\u001b[38;5;241m0\u001b[39m, i \u001b[38;5;241m-\u001b[39m dg), \u001b[38;5;28mmin\u001b[39m(df, i) \u001b[38;5;241m+\u001b[39m \u001b[38;5;241m1\u001b[39m):\n\u001b[0;32m--> 828\u001b[0m         coeff \u001b[38;5;241m=\u001b[39m dmp_add(coeff, \u001b[43mdmp_mul\u001b[49m\u001b[43m(\u001b[49m\u001b[43mf\u001b[49m\u001b[43m[\u001b[49m\u001b[43mj\u001b[49m\u001b[43m]\u001b[49m\u001b[43m,\u001b[49m\u001b[43m \u001b[49m\u001b[43mg\u001b[49m\u001b[43m[\u001b[49m\u001b[43mi\u001b[49m\u001b[43m \u001b[49m\u001b[38;5;241;43m-\u001b[39;49m\u001b[43m \u001b[49m\u001b[43mj\u001b[49m\u001b[43m]\u001b[49m\u001b[43m,\u001b[49m\u001b[43m \u001b[49m\u001b[43mv\u001b[49m\u001b[43m,\u001b[49m\u001b[43m \u001b[49m\u001b[43mK\u001b[49m\u001b[43m)\u001b[49m, v, K)\n\u001b[1;32m    830\u001b[0m     h\u001b[38;5;241m.\u001b[39mappend(coeff)\n\u001b[1;32m    832\u001b[0m \u001b[38;5;28;01mreturn\u001b[39;00m dmp_strip(h, u)\n",
      "File \u001b[0;32m/Library/Frameworks/Python.framework/Versions/3.12/lib/python3.12/site-packages/sympy/polys/densearith.py:807\u001b[0m, in \u001b[0;36mdmp_mul\u001b[0;34m(f, g, u, K)\u001b[0m\n\u001b[1;32m    793\u001b[0m \u001b[38;5;250m\u001b[39m\u001b[38;5;124;03m\"\"\"\u001b[39;00m\n\u001b[1;32m    794\u001b[0m \u001b[38;5;124;03mMultiply dense polynomials in ``K[X]``.\u001b[39;00m\n\u001b[1;32m    795\u001b[0m \n\u001b[0;32m   (...)\u001b[0m\n\u001b[1;32m    804\u001b[0m \n\u001b[1;32m    805\u001b[0m \u001b[38;5;124;03m\"\"\"\u001b[39;00m\n\u001b[1;32m    806\u001b[0m \u001b[38;5;28;01mif\u001b[39;00m \u001b[38;5;129;01mnot\u001b[39;00m u:\n\u001b[0;32m--> 807\u001b[0m     \u001b[38;5;28;01mreturn\u001b[39;00m \u001b[43mdup_mul\u001b[49m\u001b[43m(\u001b[49m\u001b[43mf\u001b[49m\u001b[43m,\u001b[49m\u001b[43m \u001b[49m\u001b[43mg\u001b[49m\u001b[43m,\u001b[49m\u001b[43m \u001b[49m\u001b[43mK\u001b[49m\u001b[43m)\u001b[49m\n\u001b[1;32m    809\u001b[0m \u001b[38;5;28;01mif\u001b[39;00m f \u001b[38;5;241m==\u001b[39m g:\n\u001b[1;32m    810\u001b[0m     \u001b[38;5;28;01mreturn\u001b[39;00m dmp_sqr(f, u, K)\n",
      "File \u001b[0;32m/Library/Frameworks/Python.framework/Versions/3.12/lib/python3.12/site-packages/sympy/polys/densearith.py:767\u001b[0m, in \u001b[0;36mdup_mul\u001b[0;34m(f, g, K)\u001b[0m\n\u001b[1;32m    764\u001b[0m     coeff \u001b[38;5;241m=\u001b[39m K\u001b[38;5;241m.\u001b[39mzero\n\u001b[1;32m    766\u001b[0m     \u001b[38;5;28;01mfor\u001b[39;00m j \u001b[38;5;129;01min\u001b[39;00m \u001b[38;5;28mrange\u001b[39m(\u001b[38;5;28mmax\u001b[39m(\u001b[38;5;241m0\u001b[39m, i \u001b[38;5;241m-\u001b[39m dg), \u001b[38;5;28mmin\u001b[39m(df, i) \u001b[38;5;241m+\u001b[39m \u001b[38;5;241m1\u001b[39m):\n\u001b[0;32m--> 767\u001b[0m         \u001b[43mcoeff\u001b[49m\u001b[43m \u001b[49m\u001b[38;5;241;43m+\u001b[39;49m\u001b[38;5;241;43m=\u001b[39;49m\u001b[43m \u001b[49m\u001b[43mf\u001b[49m\u001b[43m[\u001b[49m\u001b[43mj\u001b[49m\u001b[43m]\u001b[49m\u001b[38;5;241;43m*\u001b[39;49m\u001b[43mg\u001b[49m\u001b[43m[\u001b[49m\u001b[43mi\u001b[49m\u001b[43m \u001b[49m\u001b[38;5;241;43m-\u001b[39;49m\u001b[43m \u001b[49m\u001b[43mj\u001b[49m\u001b[43m]\u001b[49m\n\u001b[1;32m    769\u001b[0m     h\u001b[38;5;241m.\u001b[39mappend(coeff)\n\u001b[1;32m    771\u001b[0m \u001b[38;5;28;01mreturn\u001b[39;00m dup_strip(h)\n",
      "File \u001b[0;32m/Library/Frameworks/Python.framework/Versions/3.12/lib/python3.12/site-packages/sympy/polys/domains/gaussiandomains.py:75\u001b[0m, in \u001b[0;36mGaussianElement.__add__\u001b[0;34m(self, other)\u001b[0m\n\u001b[1;32m     73\u001b[0m x, y \u001b[38;5;241m=\u001b[39m \u001b[38;5;28mself\u001b[39m\u001b[38;5;241m.\u001b[39m_get_xy(other)\n\u001b[1;32m     74\u001b[0m \u001b[38;5;28;01mif\u001b[39;00m x \u001b[38;5;129;01mis\u001b[39;00m \u001b[38;5;129;01mnot\u001b[39;00m \u001b[38;5;28;01mNone\u001b[39;00m:\n\u001b[0;32m---> 75\u001b[0m     \u001b[38;5;28;01mreturn\u001b[39;00m \u001b[38;5;28;43mself\u001b[39;49m\u001b[38;5;241;43m.\u001b[39;49m\u001b[43mnew\u001b[49m\u001b[43m(\u001b[49m\u001b[38;5;28;43mself\u001b[39;49m\u001b[38;5;241;43m.\u001b[39;49m\u001b[43mx\u001b[49m\u001b[43m \u001b[49m\u001b[38;5;241;43m+\u001b[39;49m\u001b[43m \u001b[49m\u001b[43mx\u001b[49m\u001b[43m,\u001b[49m\u001b[43m \u001b[49m\u001b[38;5;28;43mself\u001b[39;49m\u001b[38;5;241;43m.\u001b[39;49m\u001b[43my\u001b[49m\u001b[43m \u001b[49m\u001b[38;5;241;43m+\u001b[39;49m\u001b[43m \u001b[49m\u001b[43my\u001b[49m\u001b[43m)\u001b[49m\n\u001b[1;32m     76\u001b[0m \u001b[38;5;28;01melse\u001b[39;00m:\n\u001b[1;32m     77\u001b[0m     \u001b[38;5;28;01mreturn\u001b[39;00m \u001b[38;5;28mNotImplemented\u001b[39m\n",
      "File \u001b[0;32m/Library/Frameworks/Python.framework/Versions/3.12/lib/python3.12/site-packages/sympy/polys/domains/gaussiandomains.py:25\u001b[0m, in \u001b[0;36mGaussianElement.new\u001b[0;34m(cls, x, y)\u001b[0m\n\u001b[1;32m     22\u001b[0m     conv \u001b[38;5;241m=\u001b[39m \u001b[38;5;28mcls\u001b[39m\u001b[38;5;241m.\u001b[39mbase\u001b[38;5;241m.\u001b[39mconvert\n\u001b[1;32m     23\u001b[0m     \u001b[38;5;28;01mreturn\u001b[39;00m \u001b[38;5;28mcls\u001b[39m\u001b[38;5;241m.\u001b[39mnew(conv(x), conv(y))\n\u001b[0;32m---> 25\u001b[0m \u001b[38;5;129m@classmethod\u001b[39m\n\u001b[1;32m     26\u001b[0m \u001b[38;5;28;01mdef\u001b[39;00m \u001b[38;5;21mnew\u001b[39m(\u001b[38;5;28mcls\u001b[39m, x, y):\n\u001b[1;32m     27\u001b[0m \u001b[38;5;250m    \u001b[39m\u001b[38;5;124;03m\"\"\"Create a new GaussianElement of the same domain.\"\"\"\u001b[39;00m\n\u001b[1;32m     28\u001b[0m     obj \u001b[38;5;241m=\u001b[39m \u001b[38;5;28msuper\u001b[39m()\u001b[38;5;241m.\u001b[39m\u001b[38;5;21m__new__\u001b[39m(\u001b[38;5;28mcls\u001b[39m)\n",
      "\u001b[0;31mKeyboardInterrupt\u001b[0m: "
     ]
    }
   ],
   "source": [
    "# Get coefficient of zero-th derivative, normalize, and simplify -> s_0\n",
    "s0_sca = - ( eq_sca_exp.coeff(phi).simplify() / norm_sca ).simplify()\n",
    "display(s0_sca)\n",
    "# Write s_0 as Python string\n",
    "str( s0_sca.subs( {l: 'l', w: 'w', rs: '2*m', x0: 'x0'} ) )"
   ]
  },
  {
   "cell_type": "code",
   "execution_count": 484,
   "id": "f90fa0ec",
   "metadata": {},
   "outputs": [
    {
     "data": {
      "text/latex": [
       "$\\displaystyle \\frac{- 4 i \\omega r_{s}^{3} y^{4} + 16 i \\omega r_{s}^{3} y^{3} - 22 i \\omega r_{s}^{3} y^{2} + 12 i \\omega r_{s}^{3} y - 2 i \\omega r_{s}^{3} + 4 i \\omega r_{s} x_{0}^{2} y^{6} - 24 i \\omega r_{s} x_{0}^{2} y^{5} + 58 i \\omega r_{s} x_{0}^{2} y^{4} - 72 i \\omega r_{s} x_{0}^{2} y^{3} + 48 i \\omega r_{s} x_{0}^{2} y^{2} - 16 i \\omega r_{s} x_{0}^{2} y + 2 i \\omega r_{s} x_{0}^{2} + 3 r_{s}^{2} y^{4} - 10 r_{s}^{2} y^{3} + 12 r_{s}^{2} y^{2} - 6 r_{s}^{2} y + r_{s}^{2} - 4 x_{0}^{2} y^{6} + 21 x_{0}^{2} y^{5} - 45 x_{0}^{2} y^{4} + 50 x_{0}^{2} y^{3} - 30 x_{0}^{2} y^{2} + 9 x_{0}^{2} y - x_{0}^{2}}{y \\left(y - 1\\right)^{4} \\left(- r_{s} + x_{0} y - x_{0}\\right) \\left(r_{s} + x_{0} y - x_{0}\\right)}$"
      ],
      "text/plain": [
       "(-4*I*omega*r_s**3*y**4 + 16*I*omega*r_s**3*y**3 - 22*I*omega*r_s**3*y**2 + 12*I*omega*r_s**3*y - 2*I*omega*r_s**3 + 4*I*omega*r_s*x_0**2*y**6 - 24*I*omega*r_s*x_0**2*y**5 + 58*I*omega*r_s*x_0**2*y**4 - 72*I*omega*r_s*x_0**2*y**3 + 48*I*omega*r_s*x_0**2*y**2 - 16*I*omega*r_s*x_0**2*y + 2*I*omega*r_s*x_0**2 + 3*r_s**2*y**4 - 10*r_s**2*y**3 + 12*r_s**2*y**2 - 6*r_s**2*y + r_s**2 - 4*x_0**2*y**6 + 21*x_0**2*y**5 - 45*x_0**2*y**4 + 50*x_0**2*y**3 - 30*x_0**2*y**2 + 9*x_0**2*y - x_0**2)/(y*(y - 1)**4*(-r_s + x_0*y - x_0)*(r_s + x_0*y - x_0))"
      ]
     },
     "metadata": {},
     "output_type": "display_data"
    },
    {
     "data": {
      "text/plain": [
       "'(-32*I*m**3*w*y**4 + 128*I*m**3*w*y**3 - 176*I*m**3*w*y**2 + 96*I*m**3*w*y - 16*I*m**3*w + 12*m**2*y**4 - 40*m**2*y**3 + 48*m**2*y**2 - 24*m**2*y + 4*m**2 + 8*I*m*w*x0**2*y**6 - 48*I*m*w*x0**2*y**5 + 116*I*m*w*x0**2*y**4 - 144*I*m*w*x0**2*y**3 + 96*I*m*w*x0**2*y**2 - 32*I*m*w*x0**2*y + 4*I*m*w*x0**2 - 4*x0**2*y**6 + 21*x0**2*y**5 - 45*x0**2*y**4 + 50*x0**2*y**3 - 30*x0**2*y**2 + 9*x0**2*y - x0**2)/(y*(y - 1)**4*(-2*m + x0*y - x0)*(2*m + x0*y - x0))'"
      ]
     },
     "execution_count": 484,
     "metadata": {},
     "output_type": "execute_result"
    }
   ],
   "source": [
    "# Get coefficient of first derivative, normalize, and simplify -> lambda_0\n",
    "l0_sca = - ( eq_sca_exp.coeff(dphi).simplify() / norm_sca ) # .simplify()\n",
    "display(l0_sca)\n",
    "# Write l_0 as Python string\n",
    "str( l0_sca.subs( {l: 'l', w: 'w', rs: '2*m', x0: 'x0'} ) )"
   ]
  },
  {
   "cell_type": "markdown",
   "id": "7f87aa38",
   "metadata": {},
   "source": [
    "These normalized coefficients will give us the parameters $s_0$ and $\\lambda_0$ that we need for our AIM method!"
   ]
  },
  {
   "cell_type": "markdown",
   "id": "fefcfa80",
   "metadata": {},
   "source": [
    "Taking $x_0 = 0$ at this stage should still give us back Schwarzschild result. Let's check it!"
   ]
  },
  {
   "cell_type": "code",
   "execution_count": null,
   "id": "8bf00f61",
   "metadata": {},
   "outputs": [],
   "source": [
    "m = sp.symbols(\"m\", positive = True)\n",
    "display( s0_sca.subs( {x0: 0, rs: 2*m} ).simplify() )\n",
    "display( l0_sca.subs({x0: 0, rs: 2*m}).simplify() )"
   ]
  },
  {
   "cell_type": "markdown",
   "id": "1b5cfe19",
   "metadata": {},
   "source": [
    "They at least look close to what is expected!"
   ]
  },
  {
   "cell_type": "markdown",
   "id": "36f0ab94",
   "metadata": {},
   "source": [
    "As the last step, we must compute at which point to evaluate our method, which is given by the point where the potential is maximum:\n",
    "$$\n",
    "\\frac{d^{(v)}V_{\\ell}^{SV}(y)}{dy}\\Big|_{y_{\\max}} = 0\n",
    "$$"
   ]
  },
  {
   "cell_type": "code",
   "execution_count": 486,
   "id": "006d62ec",
   "metadata": {},
   "outputs": [
    {
     "data": {
      "text/latex": [
       "$\\displaystyle y \\left(\\frac{4 y \\left(1 - y\\right)}{r_{s}^{2}} + \\frac{\\left(2 y - 2\\right) \\left(\\ell \\left(\\ell + 1\\right) - 2\\right)}{r_{s}^{2}} - \\frac{8 y \\left(1 - y\\right)^{3} \\left(\\frac{r_{s}^{2}}{\\left(1 - y\\right)^{2}} - x_{0}^{2}\\right)}{r_{s}^{4}} + \\frac{2 \\left(1 - y\\right)^{4} \\left(\\frac{r_{s}^{2}}{\\left(1 - y\\right)^{2}} - x_{0}^{2}\\right)}{r_{s}^{4}} + \\frac{\\frac{6 r_{s}^{3}}{\\left(1 - y\\right)^{3}} + \\frac{3 r_{s} x_{0}^{2} \\sqrt{\\frac{1}{\\left(1 - y\\right)^{2}}}}{1 - y}}{r_{s}^{5} \\left(\\frac{1}{\\left(1 - y\\right)^{2}}\\right)^{\\frac{5}{2}}} - \\frac{5 \\left(3 r_{s} x_{0}^{2} \\sqrt{\\frac{1}{\\left(1 - y\\right)^{2}}} - r_{s} x_{0}^{2} + 3 r_{s} \\left(\\frac{r_{s}^{2}}{\\left(1 - y\\right)^{2}} - x_{0}^{2}\\right)\\right)}{r_{s}^{5} \\left(1 - y\\right) \\left(\\frac{1}{\\left(1 - y\\right)^{2}}\\right)^{\\frac{5}{2}}}\\right) + \\frac{\\left(1 - y\\right)^{2} \\left(\\ell \\left(\\ell + 1\\right) - 2\\right)}{r_{s}^{2}} + \\frac{2 y \\left(1 - y\\right)^{4} \\left(\\frac{r_{s}^{2}}{\\left(1 - y\\right)^{2}} - x_{0}^{2}\\right)}{r_{s}^{4}} + \\frac{3 r_{s} x_{0}^{2} \\sqrt{\\frac{1}{\\left(1 - y\\right)^{2}}} - r_{s} x_{0}^{2} + 3 r_{s} \\left(\\frac{r_{s}^{2}}{\\left(1 - y\\right)^{2}} - x_{0}^{2}\\right)}{r_{s}^{5} \\left(\\frac{1}{\\left(1 - y\\right)^{2}}\\right)^{\\frac{5}{2}}}$"
      ],
      "text/plain": [
       "y*(4*y*(1 - y)/r_s**2 + (2*y - 2)*(ell*(ell + 1) - 2)/r_s**2 - 8*y*(1 - y)**3*(r_s**2/(1 - y)**2 - x_0**2)/r_s**4 + 2*(1 - y)**4*(r_s**2/(1 - y)**2 - x_0**2)/r_s**4 + (6*r_s**3/(1 - y)**3 + 3*r_s*x_0**2*sqrt((1 - y)**(-2))/(1 - y))/(r_s**5*((1 - y)**(-2))**(5/2)) - 5*(3*r_s*x_0**2*sqrt((1 - y)**(-2)) - r_s*x_0**2 + 3*r_s*(r_s**2/(1 - y)**2 - x_0**2))/(r_s**5*(1 - y)*((1 - y)**(-2))**(5/2))) + (1 - y)**2*(ell*(ell + 1) - 2)/r_s**2 + 2*y*(1 - y)**4*(r_s**2/(1 - y)**2 - x_0**2)/r_s**4 + (3*r_s*x_0**2*sqrt((1 - y)**(-2)) - r_s*x_0**2 + 3*r_s*(r_s**2/(1 - y)**2 - x_0**2))/(r_s**5*((1 - y)**(-2))**(5/2))"
      ]
     },
     "metadata": {},
     "output_type": "display_data"
    }
   ],
   "source": [
    "# Compute derivative of potential and solve for y\n",
    "dV_sca = sp.Derivative(V_sca.subs(G, y).subs( {x: var_change_x}), y, evaluate = True)\n",
    "display(dV_sca)"
   ]
  },
  {
   "cell_type": "code",
   "execution_count": null,
   "id": "712e3f74",
   "metadata": {},
   "outputs": [],
   "source": [
    "# Solve for y\n",
    "y_max_sca = sp.solve(dV_sca, y)\n",
    "display(y_max_sca)"
   ]
  },
  {
   "cell_type": "markdown",
   "id": "242d28a3",
   "metadata": {},
   "source": [
    "En estos casos, es mejor buscar el máximo del potencial antes de hacer el cambio de coordenadas!"
   ]
  },
  {
   "cell_type": "code",
   "execution_count": 488,
   "id": "bbd25715",
   "metadata": {},
   "outputs": [
    {
     "data": {
      "text/latex": [
       "$\\displaystyle \\left(- \\frac{r_{s}}{\\sqrt{x^{2} + x_{0}^{2}}} + 1\\right) \\left(\\frac{2 x^{2} \\left(- \\frac{r_{s}}{\\sqrt{x^{2} + x_{0}^{2}}} + 1\\right)}{\\left(x^{2} + x_{0}^{2}\\right)^{2}} + \\frac{\\ell \\left(\\ell + 1\\right) - 2}{x^{2} + x_{0}^{2}} + \\frac{3 r_{s} x^{2} - r_{s} x_{0}^{2} + 3 x_{0}^{2} \\sqrt{x^{2} + x_{0}^{2}}}{\\left(x^{2} + x_{0}^{2}\\right)^{\\frac{5}{2}}}\\right)$"
      ],
      "text/plain": [
       "(-r_s/sqrt(x**2 + x_0**2) + 1)*(2*x**2*(-r_s/sqrt(x**2 + x_0**2) + 1)/(x**2 + x_0**2)**2 + (ell*(ell + 1) - 2)/(x**2 + x_0**2) + (3*r_s*x**2 - r_s*x_0**2 + 3*x_0**2*sqrt(x**2 + x_0**2))/(x**2 + x_0**2)**(5/2))"
      ]
     },
     "execution_count": 488,
     "metadata": {},
     "output_type": "execute_result"
    }
   ],
   "source": [
    "V_sca"
   ]
  },
  {
   "cell_type": "code",
   "execution_count": 489,
   "id": "2940606d",
   "metadata": {},
   "outputs": [
    {
     "data": {
      "text/latex": [
       "$\\displaystyle \\frac{r_{s} x \\left(\\frac{2 x^{2} \\left(- \\frac{r_{s}}{\\sqrt{x^{2} + x_{0}^{2}}} + 1\\right)}{\\left(x^{2} + x_{0}^{2}\\right)^{2}} + \\frac{\\ell \\left(\\ell + 1\\right) - 2}{x^{2} + x_{0}^{2}} + \\frac{3 r_{s} x^{2} - r_{s} x_{0}^{2} + 3 x_{0}^{2} \\sqrt{x^{2} + x_{0}^{2}}}{\\left(x^{2} + x_{0}^{2}\\right)^{\\frac{5}{2}}}\\right)}{\\left(x^{2} + x_{0}^{2}\\right)^{\\frac{3}{2}}} + \\left(- \\frac{r_{s}}{\\sqrt{x^{2} + x_{0}^{2}}} + 1\\right) \\left(\\frac{2 r_{s} x^{3}}{\\left(x^{2} + x_{0}^{2}\\right)^{\\frac{7}{2}}} - \\frac{8 x^{3} \\left(- \\frac{r_{s}}{\\sqrt{x^{2} + x_{0}^{2}}} + 1\\right)}{\\left(x^{2} + x_{0}^{2}\\right)^{3}} - \\frac{2 x \\left(\\ell \\left(\\ell + 1\\right) - 2\\right)}{\\left(x^{2} + x_{0}^{2}\\right)^{2}} + \\frac{4 x \\left(- \\frac{r_{s}}{\\sqrt{x^{2} + x_{0}^{2}}} + 1\\right)}{\\left(x^{2} + x_{0}^{2}\\right)^{2}} - \\frac{5 x \\left(3 r_{s} x^{2} - r_{s} x_{0}^{2} + 3 x_{0}^{2} \\sqrt{x^{2} + x_{0}^{2}}\\right)}{\\left(x^{2} + x_{0}^{2}\\right)^{\\frac{7}{2}}} + \\frac{6 r_{s} x + \\frac{3 x x_{0}^{2}}{\\sqrt{x^{2} + x_{0}^{2}}}}{\\left(x^{2} + x_{0}^{2}\\right)^{\\frac{5}{2}}}\\right)$"
      ],
      "text/plain": [
       "r_s*x*(2*x**2*(-r_s/sqrt(x**2 + x_0**2) + 1)/(x**2 + x_0**2)**2 + (ell*(ell + 1) - 2)/(x**2 + x_0**2) + (3*r_s*x**2 - r_s*x_0**2 + 3*x_0**2*sqrt(x**2 + x_0**2))/(x**2 + x_0**2)**(5/2))/(x**2 + x_0**2)**(3/2) + (-r_s/sqrt(x**2 + x_0**2) + 1)*(2*r_s*x**3/(x**2 + x_0**2)**(7/2) - 8*x**3*(-r_s/sqrt(x**2 + x_0**2) + 1)/(x**2 + x_0**2)**3 - 2*x*(ell*(ell + 1) - 2)/(x**2 + x_0**2)**2 + 4*x*(-r_s/sqrt(x**2 + x_0**2) + 1)/(x**2 + x_0**2)**2 - 5*x*(3*r_s*x**2 - r_s*x_0**2 + 3*x_0**2*sqrt(x**2 + x_0**2))/(x**2 + x_0**2)**(7/2) + (6*r_s*x + 3*x*x_0**2/sqrt(x**2 + x_0**2))/(x**2 + x_0**2)**(5/2))"
      ]
     },
     "execution_count": 489,
     "metadata": {},
     "output_type": "execute_result"
    }
   ],
   "source": [
    "# Compute derivative of potential (in terms of x coordinate)\n",
    "dV_sca = sp.Derivative(V_sca, x, evaluate = True)\n",
    "dV_sca"
   ]
  },
  {
   "cell_type": "markdown",
   "id": "a0f911de",
   "metadata": {},
   "source": [
    "Buscar la expresión analítica es complejo, por tanto, es mejor buscarlo de manera numérica reemplazando los valores que queramos"
   ]
  },
  {
   "cell_type": "code",
   "execution_count": 502,
   "id": "96546c4c",
   "metadata": {},
   "outputs": [],
   "source": [
    "# Define numeric values\n",
    "x0_val = 0\n",
    "l_val = 1\n",
    "rs_val = 2"
   ]
  },
  {
   "cell_type": "code",
   "execution_count": 503,
   "id": "62688f7c",
   "metadata": {},
   "outputs": [
    {
     "data": {
      "text/latex": [
       "$\\displaystyle 2.88600093632938$"
      ],
      "text/plain": [
       "2.88600093632938"
      ]
     },
     "execution_count": 503,
     "metadata": {},
     "output_type": "execute_result"
    }
   ],
   "source": [
    "# Search for maximum point\n",
    "x_max_sca = sp.nsolve(dV_sca.subs( {rs: rs_val, l: l_val, x0: x0_val} ), x, 1)\n",
    "x_max_sca"
   ]
  },
  {
   "cell_type": "code",
   "execution_count": 504,
   "id": "60a3e72d",
   "metadata": {},
   "outputs": [
    {
     "data": {
      "text/latex": [
       "$\\displaystyle - \\frac{r_{s}}{\\sqrt{x^{2} + x_{0}^{2}}} + 1$"
      ],
      "text/plain": [
       "-r_s/sqrt(x**2 + x_0**2) + 1"
      ]
     },
     "execution_count": 504,
     "metadata": {},
     "output_type": "execute_result"
    }
   ],
   "source": [
    "G"
   ]
  },
  {
   "cell_type": "code",
   "execution_count": 505,
   "id": "3bee0702",
   "metadata": {},
   "outputs": [
    {
     "data": {
      "text/latex": [
       "$\\displaystyle 0.306999531835309$"
      ],
      "text/plain": [
       "0.306999531835309"
      ]
     },
     "execution_count": 505,
     "metadata": {},
     "output_type": "execute_result"
    }
   ],
   "source": [
    "# Convert that to y coordinate\n",
    "y_max_sca = G.subs({rs: 2, x0: 0, x: x_max_sca})\n",
    "y_max_sca"
   ]
  },
  {
   "cell_type": "code",
   "execution_count": 506,
   "id": "ff9f0453",
   "metadata": {},
   "outputs": [
    {
     "data": {
      "text/latex": [
       "$\\displaystyle 0.167533503277945$"
      ],
      "text/plain": [
       "0.167533503277945"
      ]
     },
     "execution_count": 506,
     "metadata": {},
     "output_type": "execute_result"
    }
   ],
   "source": [
    "1 - 2 / sp.sqrt(x_max_sca*+2)"
   ]
  }
 ],
 "metadata": {
  "kernelspec": {
   "display_name": "Python 3",
   "language": "python",
   "name": "python3"
  },
  "language_info": {
   "codemirror_mode": {
    "name": "ipython",
    "version": 3
   },
   "file_extension": ".py",
   "mimetype": "text/x-python",
   "name": "python",
   "nbconvert_exporter": "python",
   "pygments_lexer": "ipython3",
   "version": "3.12.4"
  }
 },
 "nbformat": 4,
 "nbformat_minor": 5
}

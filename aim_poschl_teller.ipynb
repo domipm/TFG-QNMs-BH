{
 "cells": [
  {
   "cell_type": "markdown",
   "metadata": {},
   "source": [
    "# Poschl-Teller Potential"
   ]
  },
  {
   "cell_type": "markdown",
   "metadata": {},
   "source": [
    "The Poschl-Teller potential is given by: \\\n",
    "\\\n",
    "$ V(x) = \\dfrac{1}{2}\\,\\text{sech}^2(x) = \\dfrac{2}{(e^{-x}+e^x)^2} $"
   ]
  },
  {
   "cell_type": "markdown",
   "metadata": {},
   "source": [
    "# Symbolic Calculations"
   ]
  },
  {
   "cell_type": "markdown",
   "metadata": {},
   "source": [
    "We begin our analysis with the Schrödinger equation: \\\n",
    "\\\n",
    "$ \\dfrac{d^2\\psi}{dx^2} + \\left( \\omega^2 - \\dfrac{1}{2}\\text{sech}^2(x) \\right)\\psi = 0 $"
   ]
  },
  {
   "cell_type": "code",
   "execution_count": 169,
   "metadata": {},
   "outputs": [
    {
     "data": {
      "text/latex": [
       "$\\displaystyle \\left(\\omega^{2} - \\frac{\\operatorname{sech}^{2}{\\left(x \\right)}}{2}\\right) \\psi{\\left(x \\right)} + \\frac{d^{2}}{d x^{2}} \\psi{\\left(x \\right)} = 0$"
      ],
      "text/plain": [
       "Eq((\\omega**2 - sech(x)**2/2)*\\psi(x) + Derivative(\\psi(x), (x, 2)), 0)"
      ]
     },
     "metadata": {},
     "output_type": "display_data"
    }
   ],
   "source": [
    "from sympy import *\n",
    "\n",
    "x,y = symbols(\"x y\", real=True)\n",
    "w = symbols(\"\\omega\")\n",
    "\n",
    "psi = Function(\"\\psi\")(x)\n",
    "psi_y = Function(\"\\psi\")(y)\n",
    "phi = Function(\"\\phi\")(y)\n",
    "\n",
    "sch_eq = Eq( diff(diff(psi,x),x) + (w**2-S(1)/2*sech(x)**2)*psi, 0 )\n",
    "display(sch_eq)"
   ]
  },
  {
   "cell_type": "markdown",
   "metadata": {},
   "source": [
    "It is convenient to write it in terms of a bounded variable. For this, we perform the change of variables $y = \\tanh(x)$."
   ]
  },
  {
   "cell_type": "code",
   "execution_count": 170,
   "metadata": {},
   "outputs": [],
   "source": [
    "#Function to change variables (https://stackoverflow.com/questions/57840957/differential-equation-change-of-variables-with-sympy)\n",
    "def variable_change(ODE,dependent_var, \n",
    "                    independent_var,\n",
    "                    new_dependent_var = None, \n",
    "                    new_independent_var= None, \n",
    "                    dependent_var_relation = None,\n",
    "                    independent_var_relation = None,\n",
    "                    order = 2):\n",
    "\n",
    "    if new_dependent_var == None:\n",
    "        new_dependent_var = dependent_var\n",
    "    if new_independent_var == None:\n",
    "        new_independent_var = independent_var\n",
    "\n",
    "    # dependent variable change\n",
    "\n",
    "    if new_independent_var != independent_var:\n",
    "\n",
    "        for i in range(order, -1, -1):\n",
    "\n",
    "            # remplace derivate\n",
    "            a = diff(dependent_var , independent_var, i )\n",
    "            ξ = Function(\"ξ\")(independent_var)\n",
    "\n",
    "            b = diff( dependent_var.subs(independent_var, ξ),  independent_var  ,i)\n",
    "\n",
    "            rel = solve(independent_var_relation, new_independent_var)[0]\n",
    "\n",
    "            for j in range(order, 0, -1):\n",
    "                b = b.subs( diff(ξ,independent_var,j), diff(rel,independent_var,j))\n",
    "\n",
    "            b = b.subs(ξ, new_independent_var)\n",
    "\n",
    "            rel = solve(independent_var_relation, independent_var)[0]\n",
    "            b = b.subs(independent_var, rel)\n",
    "\n",
    "            ODE =   ODE.subs(a,b)\n",
    "\n",
    "        ODE = ODE.subs(independent_var, rel)\n",
    "\n",
    "    # change of variables of indpendent variable\n",
    "\n",
    "    if new_dependent_var != dependent_var:\n",
    "\n",
    "        ODE = (ODE.subs(dependent_var.subs(independent_var,new_independent_var) , (solve(dependent_var_relation, dependent_var)[0])))\n",
    "        ODE = ODE.doit().expand()\n",
    "\n",
    "    return ODE.simplify()"
   ]
  },
  {
   "cell_type": "code",
   "execution_count": 171,
   "metadata": {},
   "outputs": [
    {
     "data": {
      "text/latex": [
       "$\\displaystyle 2 y \\left(y^{2} - 1\\right) \\frac{d}{d y} \\psi{\\left(y \\right)} + \\left(y^{2} - 1\\right)^{2} \\frac{d^{2}}{d y^{2}} \\psi{\\left(y \\right)} + \\frac{\\left(2 \\omega^{2} + y^{2} - 1\\right) \\psi{\\left(y \\right)}}{2} = 0$"
      ],
      "text/plain": [
       "Eq(2*y*(y**2 - 1)*Derivative(\\psi(y), y) + (y**2 - 1)**2*Derivative(\\psi(y), (y, 2)) + (2*\\omega**2 + y**2 - 1)*\\psi(y)/2, 0)"
      ]
     },
     "metadata": {},
     "output_type": "display_data"
    }
   ],
   "source": [
    "sch_eq_y = variable_change(\n",
    "    ODE=sch_eq,\n",
    "    independent_var=x,\n",
    "    new_independent_var=y,\n",
    "    independent_var_relation=Eq(x,atanh(y)),\n",
    "    dependent_var=psi,\n",
    "    new_dependent_var=psi,\n",
    "    dependent_var_relation=None,\n",
    "    order=2\n",
    ")\n",
    "\n",
    "display(sch_eq_y)"
   ]
  },
  {
   "cell_type": "markdown",
   "metadata": {},
   "source": [
    "We then write the eigenfunction in a form as to include the boundary conditions, $\\psi = (1-y)^{-i\\omega/2}(1+y)^{-i\\omega/2}\\phi$"
   ]
  },
  {
   "cell_type": "code",
   "execution_count": 172,
   "metadata": {},
   "outputs": [
    {
     "data": {
      "text/latex": [
       "$\\displaystyle 2 y \\left(y^{2} - 1\\right) \\left(- \\frac{i \\omega \\left(1 - y\\right)^{- \\frac{i \\omega}{2}} \\left(y + 1\\right)^{- \\frac{i \\omega}{2}} \\phi{\\left(y \\right)}}{2 \\left(y + 1\\right)} + \\frac{i \\omega \\left(1 - y\\right)^{- \\frac{i \\omega}{2}} \\left(y + 1\\right)^{- \\frac{i \\omega}{2}} \\phi{\\left(y \\right)}}{2 \\cdot \\left(1 - y\\right)} + \\left(1 - y\\right)^{- \\frac{i \\omega}{2}} \\left(y + 1\\right)^{- \\frac{i \\omega}{2}} \\frac{d}{d y} \\phi{\\left(y \\right)}\\right) + \\left(1 - y\\right)^{- \\frac{i \\omega}{2}} \\left(y + 1\\right)^{- \\frac{i \\omega}{2}} \\left(y^{2} - 1\\right)^{2} \\left(- \\frac{\\omega^{2} \\phi{\\left(y \\right)}}{2 \\left(y - 1\\right) \\left(y + 1\\right)} - \\frac{\\omega \\left(\\omega - 2 i\\right) \\phi{\\left(y \\right)}}{4 \\left(y + 1\\right)^{2}} - \\frac{\\omega \\left(\\omega - 2 i\\right) \\phi{\\left(y \\right)}}{4 \\left(y - 1\\right)^{2}} - \\frac{i \\omega \\frac{d}{d y} \\phi{\\left(y \\right)}}{y + 1} - \\frac{i \\omega \\frac{d}{d y} \\phi{\\left(y \\right)}}{y - 1} + \\frac{d^{2}}{d y^{2}} \\phi{\\left(y \\right)}\\right) + \\frac{\\left(1 - y\\right)^{- \\frac{i \\omega}{2}} \\left(y + 1\\right)^{- \\frac{i \\omega}{2}} \\cdot \\left(2 \\omega^{2} + y^{2} - 1\\right) \\phi{\\left(y \\right)}}{2} = 0$"
      ],
      "text/plain": [
       "Eq(2*y*(y**2 - 1)*(-I*\\omega*\\phi(y)/(2*(1 - y)**(I*\\omega/2)*(y + 1)*(y + 1)**(I*\\omega/2)) + I*\\omega*\\phi(y)/(2*(1 - y)*(1 - y)**(I*\\omega/2)*(y + 1)**(I*\\omega/2)) + Derivative(\\phi(y), y)/((1 - y)**(I*\\omega/2)*(y + 1)**(I*\\omega/2))) + (y**2 - 1)**2*(-\\omega**2*\\phi(y)/(2*(y - 1)*(y + 1)) - \\omega*(\\omega - 2*I)*\\phi(y)/(4*(y + 1)**2) - \\omega*(\\omega - 2*I)*\\phi(y)/(4*(y - 1)**2) - I*\\omega*Derivative(\\phi(y), y)/(y + 1) - I*\\omega*Derivative(\\phi(y), y)/(y - 1) + Derivative(\\phi(y), (y, 2)))/((1 - y)**(I*\\omega/2)*(y + 1)**(I*\\omega/2)) + (2*\\omega**2 + y**2 - 1)*\\phi(y)/(2*(1 - y)**(I*\\omega/2)*(y + 1)**(I*\\omega/2)), 0)"
      ]
     },
     "metadata": {},
     "output_type": "display_data"
    }
   ],
   "source": [
    "sch_eq_y = sch_eq_y.subs(psi_y,(1-y)**(-I*w/2)*(1+y)**(-I*w/2)*phi).doit()\n",
    "display(sch_eq_y)"
   ]
  },
  {
   "cell_type": "markdown",
   "metadata": {},
   "source": [
    "Simplifying the equation:"
   ]
  },
  {
   "cell_type": "code",
   "execution_count": 173,
   "metadata": {},
   "outputs": [
    {
     "data": {
      "text/latex": [
       "$\\displaystyle \\frac{\\left(1 - y\\right)^{- \\frac{i \\omega}{2}} \\left(y - 1\\right) \\left(y + 1\\right) \\left(y + 1\\right)^{- \\frac{i \\omega}{2}} \\cdot \\left(2 A y^{2} - 2 A - 4 i B \\omega y + 4 B y - 2 C \\omega^{2} - 2 i C \\omega + C\\right)}{2} = 0$"
      ],
      "text/plain": [
       "Eq((y - 1)*(y + 1)*(2*A*y**2 - 2*A - 4*I*B*\\omega*y + 4*B*y - 2*C*\\omega**2 - 2*I*C*\\omega + C)/(2*(1 - y)**(I*\\omega/2)*(y + 1)**(I*\\omega/2)), 0)"
      ]
     },
     "metadata": {},
     "output_type": "display_data"
    }
   ],
   "source": [
    "A,B,C = symbols(\"A B C\") #A,B,C represent second, first and zero-th order derivatives of phi\n",
    "sch_eq_y = sch_eq_y.subs( diff(diff(phi,y),y), A ).subs( diff(phi,y), B ).subs(phi, C)\n",
    "sch_eq_y = factor(sch_eq_y)\n",
    "display(sch_eq_y)"
   ]
  },
  {
   "cell_type": "code",
   "execution_count": 174,
   "metadata": {},
   "outputs": [
    {
     "data": {
      "text/latex": [
       "$\\displaystyle \\frac{\\left(1 - y\\right)^{- \\frac{i \\omega}{2}} \\left(y - 1\\right) \\left(y + 1\\right) \\left(y + 1\\right)^{- \\frac{i \\omega}{2}} \\left(A \\left(2 y^{2} - 2\\right) + B \\left(- 4 i \\omega y + 4 y\\right) + C \\left(- 2 \\omega^{2} - 2 i \\omega + 1\\right)\\right)}{2} = 0$"
      ],
      "text/plain": [
       "Eq((y - 1)*(y + 1)*(A*(2*y**2 - 2) + B*(-4*I*\\omega*y + 4*y) + C*(-2*\\omega**2 - 2*I*\\omega + 1))/(2*(1 - y)**(I*\\omega/2)*(y + 1)**(I*\\omega/2)), 0)"
      ]
     },
     "metadata": {},
     "output_type": "display_data"
    }
   ],
   "source": [
    "sch_eq_y = Eq(sch_eq_y.lhs.collect(A).collect(B).collect(C),0) #Collect terms\n",
    "display(sch_eq_y)"
   ]
  },
  {
   "cell_type": "code",
   "execution_count": 175,
   "metadata": {},
   "outputs": [
    {
     "data": {
      "text/latex": [
       "$\\displaystyle \\left(1 - y\\right)^{- \\frac{i \\omega}{2} + 1} \\left(y + 1\\right)^{- \\frac{i \\omega}{2} + 1} \\left(- A \\left(y^{2} - 1\\right) + 2 B y \\left(i \\omega - 1\\right) + \\frac{C \\left(2 \\omega^{2} + 2 i \\omega - 1\\right)}{2}\\right) = 0$"
      ],
      "text/plain": [
       "Eq((1 - y)**(-I*\\omega/2 + 1)*(y + 1)**(-I*\\omega/2 + 1)*(-A*(y**2 - 1) + 2*B*y*(I*\\omega - 1) + C*(2*\\omega**2 + 2*I*\\omega - 1)/2), 0)"
      ]
     },
     "metadata": {},
     "output_type": "display_data"
    }
   ],
   "source": [
    "with assuming(Q.is_true(y != 1), Q.is_true(y != -1)):\n",
    "    sch_eq_y = sch_eq_y.simplify()\n",
    "\n",
    "display(sch_eq_y)"
   ]
  },
  {
   "cell_type": "code",
   "execution_count": 176,
   "metadata": {},
   "outputs": [
    {
     "data": {
      "text/latex": [
       "$\\displaystyle \\left(1 - y\\right)^{- \\frac{i \\omega}{2} + 1} \\left(y + 1\\right)^{- \\frac{i \\omega}{2} + 1} \\left(- A \\left(y^{2} - 1\\right) + 2 B y \\left(i \\omega - 1\\right) + \\frac{C \\left(2 \\omega^{2} + 2 i \\omega - 1\\right)}{2}\\right) = 0$"
      ],
      "text/plain": [
       "Eq((1 - y)**(-I*\\omega/2 + 1)*(y + 1)**(-I*\\omega/2 + 1)*(-A*(y**2 - 1) + 2*B*y*(I*\\omega - 1) + C*(2*\\omega**2 + 2*I*\\omega - 1)/2), 0)"
      ]
     },
     "metadata": {},
     "output_type": "display_data"
    }
   ],
   "source": [
    "with assuming(Q.is_true( (1-y)**(-I*w/2 + 1) != 0 ), Q.is_true( (y+1)**(-I*w/2+1) != 0 )):\n",
    "    sch_eq_y = sch_eq_y.simplify().doit()\n",
    "\n",
    "display(sch_eq_y)"
   ]
  },
  {
   "cell_type": "code",
   "execution_count": 177,
   "metadata": {},
   "outputs": [
    {
     "data": {
      "text/latex": [
       "$\\displaystyle - A \\left(y^{2} - 1\\right) + 2 B y \\left(i \\omega - 1\\right) + \\frac{C \\left(2 \\omega^{2} + 2 i \\omega - 1\\right)}{2} = 0$"
      ],
      "text/plain": [
       "Eq(-A*(y**2 - 1) + 2*B*y*(I*\\omega - 1) + C*(2*\\omega**2 + 2*I*\\omega - 1)/2, 0)"
      ]
     },
     "metadata": {},
     "output_type": "display_data"
    }
   ],
   "source": [
    "#Hard-coded divide by common factor\n",
    "sch_eq_y = Eq( (sch_eq_y.lhs * (1-y)**(I*w/2 - 1) * (1+y)**(I*w/2 - 1) ).simplify() , 0)\n",
    "display(sch_eq_y)"
   ]
  },
  {
   "cell_type": "code",
   "execution_count": 178,
   "metadata": {},
   "outputs": [
    {
     "data": {
      "text/latex": [
       "$\\displaystyle \\frac{2 y \\left(i \\omega - 1\\right) \\frac{d}{d y} \\phi{\\left(y \\right)}}{y^{2} - 1} + \\frac{\\left(2 \\omega^{2} + i \\omega^{2} - 1\\right) \\phi{\\left(y \\right)}}{2 y^{2} - 2} = \\frac{d^{2}}{d y^{2}} \\phi{\\left(y \\right)}$"
      ],
      "text/plain": [
       "Eq(2*y*(I*\\omega - 1)*Derivative(\\phi(y), y)/(y**2 - 1) + (2*\\omega**2 + I*\\omega**2 - 1)*\\phi(y)/(2*y**2 - 2), Derivative(\\phi(y), (y, 2)))"
      ]
     },
     "metadata": {},
     "output_type": "display_data"
    }
   ],
   "source": [
    "#We have the same expression as in the paper\n",
    "sch_eq_y = Eq( 2*B*y*(I*w-1)/(y**2-1) + C*(2*w**2+w*I*w - 1)/(2*(y**2-1)), A ).subs(A, diff(diff(phi,y),y)).subs(B, diff(phi,y)).subs(C,phi)\n",
    "display(sch_eq_y)"
   ]
  },
  {
   "cell_type": "markdown",
   "metadata": {},
   "source": [
    "Schrödinger-like equation after change of coordinates"
   ]
  },
  {
   "cell_type": "markdown",
   "metadata": {},
   "source": [
    "$ \\dfrac{d^2\\psi}{dx^2} + \\left( \\omega^2 - \\dfrac{1}{2}\\text{sech}^2(x) \\right)\\psi = 0 \\implies  \\dfrac{d^2\\phi}{dy^2} = \\dfrac{2y(1-iw)}{1-y^2}\\dfrac{d\\phi}{dy} + \\dfrac{1-2iw-2w^2}{2(1-y^2)}\\phi $"
   ]
  },
  {
   "cell_type": "markdown",
   "metadata": {},
   "source": [
    "where $y = \\text{tanh}(x)$ and $\\psi = (1-y)^{-i\\omega/2}(1+y)^{-i\\omega/2}\\phi$ (which fulfills the necessary boundary conditions)"
   ]
  },
  {
   "cell_type": "markdown",
   "metadata": {},
   "source": [
    "# AIM algorithm"
   ]
  },
  {
   "cell_type": "markdown",
   "metadata": {},
   "source": [
    "### AIM Parameters\n",
    "\n",
    "$ \\lambda_0 = \\dfrac{2y(1-iw)}{1-y^2} \\qquad s_0 = \\dfrac{1-2iw-2w^2}{2(1-y^2)} $"
   ]
  },
  {
   "cell_type": "markdown",
   "metadata": {},
   "source": [
    "### Recursion relations\n",
    "$ \\lambda_n = \\lambda'_{n-1} + s_{n-1} + \\lambda_0\\lambda_{n-1} \\qquad s_n = s'_{n-1} + s_0\\lambda_{n-1} $"
   ]
  },
  {
   "cell_type": "markdown",
   "metadata": {},
   "source": [
    "### Quantization condition\n",
    "\n",
    "$ \\delta_n = s_n\\lambda_{n-1} - s_{n-1}\\lambda_n $"
   ]
  },
  {
   "cell_type": "markdown",
   "metadata": {},
   "source": [
    "Import necessary libraries"
   ]
  },
  {
   "cell_type": "code",
   "execution_count": 179,
   "metadata": {},
   "outputs": [],
   "source": [
    "import numpy as np\n",
    "import matplotlib.pyplot as plt\n",
    "from sympy import *\n",
    "\n",
    "N = 1000\n",
    "\n",
    "y = symbols(\"y\", real=True)\n",
    "w = symbols(\"\\omega\")\n",
    "\n",
    "l = np.empty(N,dtype=object)\n",
    "lp = np.empty(N,dtype=object)\n",
    "s = np.empty(N,dtype=object)\n",
    "sp = np.empty(N,dtype=object)\n",
    "\n",
    "d = np.empty(N,dtype=object)\n",
    "\n",
    "l[0] = (2*y*(1-I*w))/(1-y**2)\n",
    "s[0] = (1-2*I*w-2*w**2)/(2*(1-y**2))"
   ]
  },
  {
   "cell_type": "markdown",
   "metadata": {},
   "source": [
    "Next, compute first derivatives of lambda and s parameters"
   ]
  },
  {
   "cell_type": "code",
   "execution_count": 180,
   "metadata": {},
   "outputs": [],
   "source": [
    "lp[0] = diff(l[0],y)\n",
    "sp[0] = diff(s[0],y)"
   ]
  },
  {
   "cell_type": "code",
   "execution_count": 181,
   "metadata": {},
   "outputs": [
    {
     "data": {
      "text/latex": [
       "$\\displaystyle \\frac{4 y^{2} \\left(- i \\omega + 1\\right)}{\\left(1 - y^{2}\\right)^{2}} + \\frac{2 \\left(- i \\omega + 1\\right)}{1 - y^{2}}$"
      ],
      "text/plain": [
       "4*y**2*(-I*\\omega + 1)/(1 - y**2)**2 + 2*(-I*\\omega + 1)/(1 - y**2)"
      ]
     },
     "execution_count": 181,
     "metadata": {},
     "output_type": "execute_result"
    }
   ],
   "source": [
    "lp[0]"
   ]
  },
  {
   "cell_type": "code",
   "execution_count": 182,
   "metadata": {},
   "outputs": [
    {
     "data": {
      "text/latex": [
       "$\\displaystyle \\frac{4 y \\left(- 2 \\omega^{2} - 2 i \\omega + 1\\right)}{\\left(2 - 2 y^{2}\\right)^{2}}$"
      ],
      "text/plain": [
       "4*y*(-2*\\omega**2 - 2*I*\\omega + 1)/(2 - 2*y**2)**2"
      ]
     },
     "execution_count": 182,
     "metadata": {},
     "output_type": "execute_result"
    }
   ],
   "source": [
    "sp[0]"
   ]
  },
  {
   "cell_type": "markdown",
   "metadata": {},
   "source": [
    "Calculate n-th (1st) values of lambda and s parameter"
   ]
  },
  {
   "cell_type": "code",
   "execution_count": 183,
   "metadata": {},
   "outputs": [],
   "source": [
    "l[1] = lp[0]+s[0]+l[0]*l[0]\n",
    "s[1] = sp[0] + s[0]*l[0]"
   ]
  },
  {
   "cell_type": "markdown",
   "metadata": {},
   "source": [
    "Evaluate the quantization condition $\\delta_n$ at point $y = 0$ obtaining polynomial in $\\omega$"
   ]
  },
  {
   "cell_type": "code",
   "execution_count": 184,
   "metadata": {},
   "outputs": [
    {
     "data": {
      "text/latex": [
       "$\\displaystyle \\frac{2 y \\left(- i \\omega + 1\\right) \\left(\\frac{4 y \\left(- 2 \\omega^{2} - 2 i \\omega + 1\\right)}{\\left(2 - 2 y^{2}\\right)^{2}} + \\frac{2 y \\left(- i \\omega + 1\\right) \\left(- 2 \\omega^{2} - 2 i \\omega + 1\\right)}{\\left(1 - y^{2}\\right) \\left(2 - 2 y^{2}\\right)}\\right)}{1 - y^{2}} - \\frac{\\left(- 2 \\omega^{2} - 2 i \\omega + 1\\right) \\left(\\frac{4 y^{2} \\left(- i \\omega + 1\\right)^{2}}{\\left(1 - y^{2}\\right)^{2}} + \\frac{4 y^{2} \\left(- i \\omega + 1\\right)}{\\left(1 - y^{2}\\right)^{2}} + \\frac{- 2 \\omega^{2} - 2 i \\omega + 1}{2 - 2 y^{2}} + \\frac{2 \\left(- i \\omega + 1\\right)}{1 - y^{2}}\\right)}{2 - 2 y^{2}}$"
      ],
      "text/plain": [
       "2*y*(-I*\\omega + 1)*(4*y*(-2*\\omega**2 - 2*I*\\omega + 1)/(2 - 2*y**2)**2 + 2*y*(-I*\\omega + 1)*(-2*\\omega**2 - 2*I*\\omega + 1)/((1 - y**2)*(2 - 2*y**2)))/(1 - y**2) - (-2*\\omega**2 - 2*I*\\omega + 1)*(4*y**2*(-I*\\omega + 1)**2/(1 - y**2)**2 + 4*y**2*(-I*\\omega + 1)/(1 - y**2)**2 + (-2*\\omega**2 - 2*I*\\omega + 1)/(2 - 2*y**2) + 2*(-I*\\omega + 1)/(1 - y**2))/(2 - 2*y**2)"
      ]
     },
     "execution_count": 184,
     "metadata": {},
     "output_type": "execute_result"
    }
   ],
   "source": [
    "d[1] = s[1]*l[0] - s[0]*l[1]\n",
    "#d[1].subs(y,0)\n",
    "p = simplify(d[1].subs(y,0))\n",
    "d[1]\n"
   ]
  },
  {
   "cell_type": "code",
   "execution_count": 185,
   "metadata": {},
   "outputs": [
    {
     "data": {
      "text/latex": [
       "$\\displaystyle - \\omega^{4} - 4 i \\omega^{3} + 6 \\omega^{2} + 4 i \\omega - \\frac{5}{4}$"
      ],
      "text/plain": [
       "-\\omega**4 - 4*I*\\omega**3 + 6*\\omega**2 + 4*I*\\omega - 5/4"
      ]
     },
     "execution_count": 185,
     "metadata": {},
     "output_type": "execute_result"
    }
   ],
   "source": [
    "p"
   ]
  },
  {
   "cell_type": "markdown",
   "metadata": {},
   "source": [
    "Solve the polynomial for the solution of $\\omega$, taking only those with negative imaginary part and positive real part"
   ]
  },
  {
   "cell_type": "code",
   "execution_count": 186,
   "metadata": {},
   "outputs": [
    {
     "name": "stdout",
     "output_type": "stream",
     "text": [
      "All solutions: [-1/2 - 3*I/2, -1/2 - I/2, 1/2 - 3*I/2, 1/2 - I/2]\n",
      "Filtered solutions:\n",
      "w_3 = 1/2 - 3*I/2\n",
      "w_4 = 1/2 - I/2\n"
     ]
    }
   ],
   "source": [
    "sols = solve(p)\n",
    "print(\"All solutions: \" + str(sols))\n",
    "print(\"Filtered solutions:\")\n",
    "for i in range(len(sols)):\n",
    "    if re(sols[i]) > 0 and  im(sols[i]) < 0:\n",
    "        print(\"w_\" + str(i+1) + \" = \" + str(sols[i]))"
   ]
  },
  {
   "cell_type": "markdown",
   "metadata": {},
   "source": [
    "### Second Iteration"
   ]
  },
  {
   "cell_type": "code",
   "execution_count": 187,
   "metadata": {},
   "outputs": [],
   "source": [
    "lp[1] = diff(l[1],y)\n",
    "sp[1] = diff(s[1],y)\n",
    "l[2] = lp[1] + s[1] + l[0]*l[1]\n",
    "s[2] = sp[1] + s[0]*l[1]"
   ]
  },
  {
   "cell_type": "code",
   "execution_count": 188,
   "metadata": {},
   "outputs": [
    {
     "data": {
      "text/latex": [
       "$\\displaystyle - \\left(\\frac{4 y \\left(- 2 \\omega^{2} - 2 i \\omega + 1\\right)}{\\left(2 - 2 y^{2}\\right)^{2}} + \\frac{2 y \\left(- i \\omega + 1\\right) \\left(- 2 \\omega^{2} - 2 i \\omega + 1\\right)}{\\left(1 - y^{2}\\right) \\left(2 - 2 y^{2}\\right)}\\right) \\left(\\frac{16 y^{3} \\left(- i \\omega + 1\\right)^{2}}{\\left(1 - y^{2}\\right)^{3}} + \\frac{16 y^{3} \\left(- i \\omega + 1\\right)}{\\left(1 - y^{2}\\right)^{3}} + \\frac{8 y \\left(- 2 \\omega^{2} - 2 i \\omega + 1\\right)}{\\left(2 - 2 y^{2}\\right)^{2}} + \\frac{2 y \\left(- i \\omega + 1\\right) \\left(\\frac{4 y^{2} \\left(- i \\omega + 1\\right)^{2}}{\\left(1 - y^{2}\\right)^{2}} + \\frac{4 y^{2} \\left(- i \\omega + 1\\right)}{\\left(1 - y^{2}\\right)^{2}} + \\frac{- 2 \\omega^{2} - 2 i \\omega + 1}{2 - 2 y^{2}} + \\frac{2 \\left(- i \\omega + 1\\right)}{1 - y^{2}}\\right)}{1 - y^{2}} + \\frac{2 y \\left(- i \\omega + 1\\right) \\left(- 2 \\omega^{2} - 2 i \\omega + 1\\right)}{\\left(1 - y^{2}\\right) \\left(2 - 2 y^{2}\\right)} + \\frac{8 y \\left(- i \\omega + 1\\right)^{2}}{\\left(1 - y^{2}\\right)^{2}} + \\frac{12 y \\left(- i \\omega + 1\\right)}{\\left(1 - y^{2}\\right)^{2}}\\right) + \\left(\\frac{4 y^{2} \\left(- i \\omega + 1\\right)^{2}}{\\left(1 - y^{2}\\right)^{2}} + \\frac{4 y^{2} \\left(- i \\omega + 1\\right)}{\\left(1 - y^{2}\\right)^{2}} + \\frac{- 2 \\omega^{2} - 2 i \\omega + 1}{2 - 2 y^{2}} + \\frac{2 \\left(- i \\omega + 1\\right)}{1 - y^{2}}\\right) \\left(\\frac{32 y^{2} \\left(- 2 \\omega^{2} - 2 i \\omega + 1\\right)}{\\left(2 - 2 y^{2}\\right)^{3}} + \\frac{8 y^{2} \\left(- i \\omega + 1\\right) \\left(- 2 \\omega^{2} - 2 i \\omega + 1\\right)}{\\left(1 - y^{2}\\right) \\left(2 - 2 y^{2}\\right)^{2}} + \\frac{4 y^{2} \\left(- i \\omega + 1\\right) \\left(- 2 \\omega^{2} - 2 i \\omega + 1\\right)}{\\left(1 - y^{2}\\right)^{2} \\cdot \\left(2 - 2 y^{2}\\right)} + \\frac{\\left(- 2 \\omega^{2} - 2 i \\omega + 1\\right) \\left(\\frac{4 y^{2} \\left(- i \\omega + 1\\right)^{2}}{\\left(1 - y^{2}\\right)^{2}} + \\frac{4 y^{2} \\left(- i \\omega + 1\\right)}{\\left(1 - y^{2}\\right)^{2}} + \\frac{- 2 \\omega^{2} - 2 i \\omega + 1}{2 - 2 y^{2}} + \\frac{2 \\left(- i \\omega + 1\\right)}{1 - y^{2}}\\right)}{2 - 2 y^{2}} + \\frac{4 \\left(- 2 \\omega^{2} - 2 i \\omega + 1\\right)}{\\left(2 - 2 y^{2}\\right)^{2}} + \\frac{2 \\left(- i \\omega + 1\\right) \\left(- 2 \\omega^{2} - 2 i \\omega + 1\\right)}{\\left(1 - y^{2}\\right) \\left(2 - 2 y^{2}\\right)}\\right)$"
      ],
      "text/plain": [
       "-(4*y*(-2*\\omega**2 - 2*I*\\omega + 1)/(2 - 2*y**2)**2 + 2*y*(-I*\\omega + 1)*(-2*\\omega**2 - 2*I*\\omega + 1)/((1 - y**2)*(2 - 2*y**2)))*(16*y**3*(-I*\\omega + 1)**2/(1 - y**2)**3 + 16*y**3*(-I*\\omega + 1)/(1 - y**2)**3 + 8*y*(-2*\\omega**2 - 2*I*\\omega + 1)/(2 - 2*y**2)**2 + 2*y*(-I*\\omega + 1)*(4*y**2*(-I*\\omega + 1)**2/(1 - y**2)**2 + 4*y**2*(-I*\\omega + 1)/(1 - y**2)**2 + (-2*\\omega**2 - 2*I*\\omega + 1)/(2 - 2*y**2) + 2*(-I*\\omega + 1)/(1 - y**2))/(1 - y**2) + 2*y*(-I*\\omega + 1)*(-2*\\omega**2 - 2*I*\\omega + 1)/((1 - y**2)*(2 - 2*y**2)) + 8*y*(-I*\\omega + 1)**2/(1 - y**2)**2 + 12*y*(-I*\\omega + 1)/(1 - y**2)**2) + (4*y**2*(-I*\\omega + 1)**2/(1 - y**2)**2 + 4*y**2*(-I*\\omega + 1)/(1 - y**2)**2 + (-2*\\omega**2 - 2*I*\\omega + 1)/(2 - 2*y**2) + 2*(-I*\\omega + 1)/(1 - y**2))*(32*y**2*(-2*\\omega**2 - 2*I*\\omega + 1)/(2 - 2*y**2)**3 + 8*y**2*(-I*\\omega + 1)*(-2*\\omega**2 - 2*I*\\omega + 1)/((1 - y**2)*(2 - 2*y**2)**2) + 4*y**2*(-I*\\omega + 1)*(-2*\\omega**2 - 2*I*\\omega + 1)/((1 - y**2)**2*(2 - 2*y**2)) + (-2*\\omega**2 - 2*I*\\omega + 1)*(4*y**2*(-I*\\omega + 1)**2/(1 - y**2)**2 + 4*y**2*(-I*\\omega + 1)/(1 - y**2)**2 + (-2*\\omega**2 - 2*I*\\omega + 1)/(2 - 2*y**2) + 2*(-I*\\omega + 1)/(1 - y**2))/(2 - 2*y**2) + 4*(-2*\\omega**2 - 2*I*\\omega + 1)/(2 - 2*y**2)**2 + 2*(-I*\\omega + 1)*(-2*\\omega**2 - 2*I*\\omega + 1)/((1 - y**2)*(2 - 2*y**2)))"
      ]
     },
     "execution_count": 188,
     "metadata": {},
     "output_type": "execute_result"
    }
   ],
   "source": [
    "d[2] = s[2]*l[1] - s[1]*l[2]\n",
    "d[2]"
   ]
  },
  {
   "cell_type": "code",
   "execution_count": 189,
   "metadata": {},
   "outputs": [
    {
     "data": {
      "text/latex": [
       "$\\displaystyle - \\omega^{6} - 9 i \\omega^{5} + \\frac{65 \\omega^{4}}{2} + 60 i \\omega^{3} - \\frac{241 \\omega^{2}}{4} - \\frac{129 i \\omega}{4} + \\frac{65}{8}$"
      ],
      "text/plain": [
       "-\\omega**6 - 9*I*\\omega**5 + 65*\\omega**4/2 + 60*I*\\omega**3 - 241*\\omega**2/4 - 129*I*\\omega/4 + 65/8"
      ]
     },
     "execution_count": 189,
     "metadata": {},
     "output_type": "execute_result"
    }
   ],
   "source": [
    "p = simplify(d[2].subs(y,0))\n",
    "p"
   ]
  },
  {
   "cell_type": "code",
   "execution_count": 190,
   "metadata": {},
   "outputs": [
    {
     "name": "stdout",
     "output_type": "stream",
     "text": [
      "All solutions: [-1/2 - 5*I/2, -1/2 - 3*I/2, -1/2 - I/2, 1/2 - 5*I/2, 1/2 - 3*I/2, 1/2 - I/2]\n",
      "Filtered solutions:\n",
      "w_4 = 1/2 - 5*I/2\n",
      "w_5 = 1/2 - 3*I/2\n",
      "w_6 = 1/2 - I/2\n"
     ]
    }
   ],
   "source": [
    "sols = solve(p)\n",
    "print(\"All solutions: \" + str(sols))\n",
    "print(\"Filtered solutions:\")\n",
    "for i in range(len(sols)):\n",
    "    if re(sols[i]) > 0 and  im(sols[i]) < 0:\n",
    "        print(\"w_\" + str(i+1) + \" = \" + str(sols[i]))"
   ]
  },
  {
   "cell_type": "markdown",
   "metadata": {},
   "source": [
    "### Third iteration"
   ]
  },
  {
   "cell_type": "code",
   "execution_count": 191,
   "metadata": {},
   "outputs": [
    {
     "name": "stdout",
     "output_type": "stream",
     "text": [
      "All solutions: [-1/2 - 7*I/2, -1/2 - 5*I/2, -1/2 - 3*I/2, -1/2 - I/2, 1/2 - 7*I/2, 1/2 - 5*I/2, 1/2 - 3*I/2, 1/2 - I/2]\n",
      "Filtered solutions:\n",
      "w_5 = 1/2 - 7*I/2\n",
      "w_6 = 1/2 - 5*I/2\n",
      "w_7 = 1/2 - 3*I/2\n",
      "w_8 = 1/2 - I/2\n"
     ]
    }
   ],
   "source": [
    "lp[2] = diff(l[2],y)\n",
    "sp[2] = diff(s[2],y)\n",
    "l[3] = lp[2] + s[2] + l[0]*l[2]\n",
    "s[3] = sp[2] + s[0]*l[2]\n",
    "d[3] = s[3]*l[2] - s[2]*l[3]\n",
    "p = simplify(d[3].subs(y,0))\n",
    "sols = solve(p)\n",
    "print(\"All solutions: \" + str(sols))\n",
    "print(\"Filtered solutions:\")\n",
    "for i in range(len(sols)):\n",
    "    if re(sols[i]) > 0 and  im(sols[i]) < 0:\n",
    "        print(\"w_\" + str(i+1) + \" = \" + str(sols[i]))"
   ]
  },
  {
   "cell_type": "markdown",
   "metadata": {},
   "source": [
    "### Fourth iteration"
   ]
  },
  {
   "cell_type": "code",
   "execution_count": 192,
   "metadata": {},
   "outputs": [
    {
     "name": "stdout",
     "output_type": "stream",
     "text": [
      "All solutions: [-1/2 - 9*I/2, -1/2 - 7*I/2, -1/2 - 5*I/2, -1/2 - 3*I/2, -1/2 - I/2, 1/2 - 9*I/2, 1/2 - 7*I/2, 1/2 - 5*I/2, 1/2 - 3*I/2, 1/2 - I/2]\n",
      "Filtered solutions:\n",
      "w_6 = 1/2 - 9*I/2\n",
      "w_7 = 1/2 - 7*I/2\n",
      "w_8 = 1/2 - 5*I/2\n",
      "w_9 = 1/2 - 3*I/2\n",
      "w_10 = 1/2 - I/2\n"
     ]
    }
   ],
   "source": [
    "lp[3] = diff(l[3],y)\n",
    "sp[3] = diff(s[3],y)\n",
    "l[4] = lp[3] + s[3] + l[0]*l[3]\n",
    "s[4] = sp[3] + s[0]*l[3]\n",
    "d[4] = s[4]*l[3] - s[3]*l[4]\n",
    "p = simplify(d[4].subs(y,0))\n",
    "sols = solve(p)\n",
    "print(\"All solutions: \" + str(sols))\n",
    "print(\"Filtered solutions:\")\n",
    "for i in range(len(sols)):\n",
    "    if re(sols[i]) > 0 and  im(sols[i]) < 0:\n",
    "        print(\"w_\" + str(i+1) + \" = \" + str(sols[i]))"
   ]
  }
 ],
 "metadata": {
  "kernelspec": {
   "display_name": "Python 3",
   "language": "python",
   "name": "python3"
  },
  "language_info": {
   "codemirror_mode": {
    "name": "ipython",
    "version": 3
   },
   "file_extension": ".py",
   "mimetype": "text/x-python",
   "name": "python",
   "nbconvert_exporter": "python",
   "pygments_lexer": "ipython3",
   "version": "3.10.12"
  }
 },
 "nbformat": 4,
 "nbformat_minor": 2
}

{
 "cells": [
  {
   "cell_type": "markdown",
   "metadata": {},
   "source": [
    "# Poschl-Teller Potential"
   ]
  },
  {
   "cell_type": "markdown",
   "metadata": {},
   "source": [
    "The Poschl-Teller potential is given by: \\\n",
    "\\\n",
    "$ V(x) = \\dfrac{1}{2}\\,\\text{sech}^2(x) = \\dfrac{2}{(e^{-x}+e^x)^2} $"
   ]
  },
  {
   "cell_type": "markdown",
   "metadata": {},
   "source": [
    "# Schrödinger-like equation manipulation to find form compatible with AIM"
   ]
  },
  {
   "cell_type": "markdown",
   "metadata": {},
   "source": [
    "We begin our analysis with the Schrödinger equation: \\\n",
    "\\\n",
    "$ \\dfrac{d^2\\psi}{dx^2} + \\left( \\omega^2 - \\dfrac{1}{2}\\text{sech}^2(x) \\right)\\psi = 0 $"
   ]
  },
  {
   "cell_type": "markdown",
   "metadata": {},
   "source": [
    "It is convenient to write it in terms of a bounded variable. For this, we perform the change of variables $y = \\tanh(x)$."
   ]
  },
  {
   "cell_type": "code",
   "execution_count": 79,
   "metadata": {},
   "outputs": [
    {
     "data": {
      "text/latex": [
       "$\\displaystyle \\left(\\omega^{2} - \\frac{\\operatorname{sech}^{2}{\\left(x \\right)}}{2}\\right) \\psi{\\left(x \\right)} + \\frac{d^{2}}{d x^{2}} \\psi{\\left(x \\right)} = 0$"
      ],
      "text/plain": [
       "Eq((\\omega**2 - sech(x)**2/2)*\\psi(x) + Derivative(\\psi(x), (x, 2)), 0)"
      ]
     },
     "metadata": {},
     "output_type": "display_data"
    }
   ],
   "source": [
    "from sympy import *\n",
    "\n",
    "x,y = symbols(\"x y\", real=True)\n",
    "w = symbols(\"\\omega\")\n",
    "\n",
    "psi = Function(\"\\psi\")(x)\n",
    "psi_y = Function(\"\\psi\")(y)\n",
    "phi = Function(\"\\phi\")(y)\n",
    "\n",
    "sch_eq = Eq( diff(diff(psi,x),x) + (w**2-S(1)/2*sech(x)**2)*psi, 0 )\n",
    "display(sch_eq)"
   ]
  },
  {
   "cell_type": "code",
   "execution_count": 80,
   "metadata": {},
   "outputs": [],
   "source": [
    "#Function to change variables (https://stackoverflow.com/questions/57840957/differential-equation-change-of-variables-with-sympy)\n",
    "def variable_change(ODE,dependent_var, \n",
    "                    independent_var,\n",
    "                    new_dependent_var = None, \n",
    "                    new_independent_var= None, \n",
    "                    dependent_var_relation = None,\n",
    "                    independent_var_relation = None,\n",
    "                    order = 2):\n",
    "\n",
    "    if new_dependent_var == None:\n",
    "        new_dependent_var = dependent_var\n",
    "    if new_independent_var == None:\n",
    "        new_independent_var = independent_var\n",
    "\n",
    "    # dependent variable change\n",
    "\n",
    "    if new_independent_var != independent_var:\n",
    "\n",
    "        for i in range(order, -1, -1):\n",
    "\n",
    "            # remplace derivate\n",
    "            a = diff(dependent_var , independent_var, i )\n",
    "            ξ = Function(\"ξ\")(independent_var)\n",
    "\n",
    "            b = diff( dependent_var.subs(independent_var, ξ),  independent_var  ,i)\n",
    "\n",
    "            rel = solve(independent_var_relation, new_independent_var)[0]\n",
    "\n",
    "            for j in range(order, 0, -1):\n",
    "                b = b.subs( diff(ξ,independent_var,j), diff(rel,independent_var,j))\n",
    "\n",
    "            b = b.subs(ξ, new_independent_var)\n",
    "\n",
    "            rel = solve(independent_var_relation, independent_var)[0]\n",
    "            b = b.subs(independent_var, rel)\n",
    "\n",
    "            ODE =   ODE.subs(a,b)\n",
    "\n",
    "        ODE = ODE.subs(independent_var, rel)\n",
    "\n",
    "    # change of variables of indpendent variable\n",
    "\n",
    "    if new_dependent_var != dependent_var:\n",
    "\n",
    "        ODE = (ODE.subs(dependent_var.subs(independent_var,new_independent_var) , (solve(dependent_var_relation, dependent_var)[0])))\n",
    "        ODE = ODE.doit().expand()\n",
    "\n",
    "    return ODE.simplify()"
   ]
  },
  {
   "cell_type": "code",
   "execution_count": 81,
   "metadata": {},
   "outputs": [
    {
     "data": {
      "text/latex": [
       "$\\displaystyle 2 y \\left(y^{2} - 1\\right) \\frac{d}{d y} \\psi{\\left(y \\right)} + \\left(y^{2} - 1\\right)^{2} \\frac{d^{2}}{d y^{2}} \\psi{\\left(y \\right)} + \\frac{\\left(2 \\omega^{2} + y^{2} - 1\\right) \\psi{\\left(y \\right)}}{2} = 0$"
      ],
      "text/plain": [
       "Eq(2*y*(y**2 - 1)*Derivative(\\psi(y), y) + (y**2 - 1)**2*Derivative(\\psi(y), (y, 2)) + (2*\\omega**2 + y**2 - 1)*\\psi(y)/2, 0)"
      ]
     },
     "metadata": {},
     "output_type": "display_data"
    }
   ],
   "source": [
    "sch_eq_y = variable_change(\n",
    "    ODE=sch_eq,\n",
    "    independent_var=x,\n",
    "    new_independent_var=y,\n",
    "    independent_var_relation=Eq(x,atanh(y)),\n",
    "    dependent_var=psi,\n",
    "    new_dependent_var=psi,\n",
    "    dependent_var_relation=None,\n",
    "    order=2\n",
    ")\n",
    "\n",
    "display(sch_eq_y)"
   ]
  },
  {
   "cell_type": "code",
   "execution_count": 90,
   "metadata": {},
   "outputs": [
    {
     "data": {
      "text/latex": [
       "$\\displaystyle \\frac{\\omega^{2} \\psi{\\left(y \\right)}}{y^{4} - 2 y^{2} + 1} + \\frac{y^{4} \\frac{d^{2}}{d y^{2}} \\psi{\\left(y \\right)}}{y^{4} - 2 y^{2} + 1} + \\frac{2 y^{3} \\frac{d}{d y} \\psi{\\left(y \\right)}}{y^{4} - 2 y^{2} + 1} + \\frac{y^{2} \\psi{\\left(y \\right)}}{2 y^{4} - 4 y^{2} + 2} - \\frac{2 y^{2} \\frac{d^{2}}{d y^{2}} \\psi{\\left(y \\right)}}{y^{4} - 2 y^{2} + 1} - \\frac{2 y \\frac{d}{d y} \\psi{\\left(y \\right)}}{y^{4} - 2 y^{2} + 1} - \\frac{\\psi{\\left(y \\right)}}{2 y^{4} - 4 y^{2} + 2} + \\frac{\\frac{d^{2}}{d y^{2}} \\psi{\\left(y \\right)}}{y^{4} - 2 y^{2} + 1}$"
      ],
      "text/plain": [
       "\\omega**2*\\psi(y)/(y**4 - 2*y**2 + 1) + y**4*Derivative(\\psi(y), (y, 2))/(y**4 - 2*y**2 + 1) + 2*y**3*Derivative(\\psi(y), y)/(y**4 - 2*y**2 + 1) + y**2*\\psi(y)/(2*y**4 - 4*y**2 + 2) - 2*y**2*Derivative(\\psi(y), (y, 2))/(y**4 - 2*y**2 + 1) - 2*y*Derivative(\\psi(y), y)/(y**4 - 2*y**2 + 1) - \\psi(y)/(2*y**4 - 4*y**2 + 2) + Derivative(\\psi(y), (y, 2))/(y**4 - 2*y**2 + 1)"
      ]
     },
     "execution_count": 90,
     "metadata": {},
     "output_type": "execute_result"
    }
   ],
   "source": [
    "sch_eq_y_lhs = sch_eq_y.lhs*(y**2-1)**(-2)\n",
    "sch_eq_y_lhs.doit()\n",
    "sch_eq_y_lhs.expand()"
   ]
  },
  {
   "cell_type": "code",
   "execution_count": 98,
   "metadata": {},
   "outputs": [
    {
     "data": {
      "text/latex": [
       "$\\displaystyle \\frac{A \\left(y^{2} - 1\\right)^{2} + 2 B y \\left(y^{2} - 1\\right) + \\frac{C \\left(2 \\omega^{2} + y^{2} - 1\\right)}{2}}{\\left(y^{2} - 1\\right)^{2}}$"
      ],
      "text/plain": [
       "(A*(y**2 - 1)**2 + 2*B*y*(y**2 - 1) + C*(2*\\omega**2 + y**2 - 1)/2)/(y**2 - 1)**2"
      ]
     },
     "metadata": {},
     "output_type": "display_data"
    }
   ],
   "source": [
    "A,B,C = symbols(\"A B C\") #A,B,C represent second, first and zero-th order derivatives of phi\n",
    "sch_eq_y_lhs = sch_eq_y_lhs.subs( diff(diff(psi_y,y),y), A ).subs( diff(psi_y,y), B ).subs(psi_y, C)\n",
    "display(sch_eq_y_lhs)"
   ]
  },
  {
   "cell_type": "code",
   "execution_count": null,
   "metadata": {},
   "outputs": [],
   "source": []
  },
  {
   "cell_type": "markdown",
   "metadata": {},
   "source": [
    "Now, we substitute the function $\\psi$ to include the boundary conditions"
   ]
  },
  {
   "cell_type": "code",
   "execution_count": null,
   "metadata": {},
   "outputs": [],
   "source": [
    "psi_new = (1-y)**(-I*w/2)*(1+y)**(-I*w/2)*phi\n",
    "display(psi_new)"
   ]
  },
  {
   "cell_type": "code",
   "execution_count": null,
   "metadata": {},
   "outputs": [],
   "source": [
    "sch_eq_y = sch_eq_y.subs(psi_y,psi_new).doit()\n",
    "display(sch_eq_y)"
   ]
  },
  {
   "cell_type": "markdown",
   "metadata": {},
   "source": [
    "\n",
    "\n",
    "\n",
    "\n",
    "\n",
    "\n",
    "\n",
    "\n",
    "\n",
    "\n",
    "\n",
    "\n",
    "\n",
    "\n",
    "\n",
    "\n",
    "\n",
    "\n",
    "\n",
    "\n",
    "\n",
    "\n",
    "\n",
    "\n",
    "\n",
    "\n",
    "\n",
    "\n",
    "\n",
    "\n",
    "\n",
    "\n",
    "\n",
    "\n",
    "\n",
    "\n",
    "\n",
    "\n",
    "\n",
    "\n",
    "\n",
    "\n",
    "\n",
    "\n"
   ]
  },
  {
   "cell_type": "markdown",
   "metadata": {},
   "source": [
    "Schrödinger-like equation after change of coordinates"
   ]
  },
  {
   "cell_type": "markdown",
   "metadata": {},
   "source": [
    "$ \\dfrac{d^2\\psi}{dx^2} + \\left( \\omega^2 - \\dfrac{1}{2}\\text{sech}^2(x) \\right)\\psi = 0 \\implies  \\dfrac{d^2\\phi}{dy^2} = \\dfrac{2y(1-iw)}{1-y^2}\\dfrac{d\\phi}{dy} + \\dfrac{1-2iw-2w^2}{2(1-y^2)}\\phi $"
   ]
  },
  {
   "cell_type": "markdown",
   "metadata": {},
   "source": [
    "$ \\text{where } y = \\text{tanh}(x) $"
   ]
  },
  {
   "cell_type": "markdown",
   "metadata": {},
   "source": [
    "### QNM Boundary Conditions"
   ]
  },
  {
   "cell_type": "markdown",
   "metadata": {},
   "source": [
    "$ \\phi = (1-y)^{-iw/2}(1+y)^{-iw/2} $"
   ]
  },
  {
   "cell_type": "markdown",
   "metadata": {},
   "source": [
    "$ \\text{which fulfills } y \\rightarrow 1 \\implies \\psi \\sim e^{\\mp iwx} \\sim (1-y)^{\\pm iw/2} \\implies \\psi \\sim (1-y)^{-iw/2} $"
   ]
  },
  {
   "cell_type": "markdown",
   "metadata": {},
   "source": [
    "$ \\text{and } y \\rightarrow -1 \\implies \\phi \\sim e^{\\pm iwx} \\sim (1+y)^{\\pm iw/2} \\implies \\psi \\sim (1+y)^{-iw/2} $"
   ]
  },
  {
   "cell_type": "markdown",
   "metadata": {},
   "source": [
    "### Parameters"
   ]
  },
  {
   "cell_type": "markdown",
   "metadata": {},
   "source": [
    "$ \\lambda_0 = \\dfrac{2y(1-iw)}{1-y^2} \\qquad s_0 = \\dfrac{1-2iw-2w^2}{2(1-y^2)} $"
   ]
  },
  {
   "cell_type": "markdown",
   "metadata": {},
   "source": [
    "### AIM Method\n",
    "$ \\lambda_n = \\lambda'_{n-1} + s_{n-1} + \\lambda_0\\lambda_{n-1} \\qquad s_n = s'_{n-1} + s_0\\lambda_{n-1} $"
   ]
  },
  {
   "cell_type": "markdown",
   "metadata": {},
   "source": [
    "\n",
    "Quantization condition: $ \\delta_n = s_n\\lambda_{n-1} - s_{n-1}\\lambda_n $"
   ]
  },
  {
   "cell_type": "markdown",
   "metadata": {},
   "source": [
    "# AIM (simple) algorithm"
   ]
  },
  {
   "cell_type": "markdown",
   "metadata": {},
   "source": [
    "Import necessary libraries"
   ]
  },
  {
   "cell_type": "code",
   "execution_count": null,
   "metadata": {},
   "outputs": [],
   "source": [
    "import numpy as np\n",
    "import matplotlib.pyplot as plt\n",
    "from sympy import *\n",
    "\n",
    "N = 1000\n",
    "\n",
    "y = symbols(\"y\", real=True)\n",
    "w = symbols(\"\\omega\")\n",
    "\n",
    "l = np.empty(N,dtype=object)\n",
    "lp = np.empty(N,dtype=object)\n",
    "s = np.empty(N,dtype=object)\n",
    "sp = np.empty(N,dtype=object)\n",
    "\n",
    "d = np.empty(N,dtype=object)\n",
    "\n",
    "l[0] = (2*y*(1-I*w))/(1-y**2)\n",
    "s[0] = (1-2*I*w-2*w**2)/(2*(1-y**2))"
   ]
  },
  {
   "cell_type": "markdown",
   "metadata": {},
   "source": [
    "First, find the maximum/minimum value of the potential to evaluate at"
   ]
  },
  {
   "cell_type": "code",
   "execution_count": null,
   "metadata": {},
   "outputs": [],
   "source": [
    "x = symbols(\"x\", real=True)\n",
    "V = 2/( ( E**(-x) + E**x )**2 )\n",
    "p1 = plot(V)\n",
    "p1"
   ]
  },
  {
   "cell_type": "code",
   "execution_count": null,
   "metadata": {},
   "outputs": [],
   "source": [
    "Vp = diff(V,x)\n",
    "critp = solve(Vp,x)\n",
    "critp"
   ]
  },
  {
   "cell_type": "markdown",
   "metadata": {},
   "source": [
    "Next, compute first derivatives of lambda and s parameters"
   ]
  },
  {
   "cell_type": "code",
   "execution_count": null,
   "metadata": {},
   "outputs": [],
   "source": [
    "lp[0] = diff(l[0],y)\n",
    "sp[0] = diff(s[0],y)"
   ]
  },
  {
   "cell_type": "code",
   "execution_count": null,
   "metadata": {},
   "outputs": [],
   "source": [
    "lp[0]"
   ]
  },
  {
   "cell_type": "code",
   "execution_count": null,
   "metadata": {},
   "outputs": [],
   "source": [
    "sp[0]"
   ]
  },
  {
   "cell_type": "markdown",
   "metadata": {},
   "source": [
    "Calculate n-th (1st) values of lambda and s parameter"
   ]
  },
  {
   "cell_type": "code",
   "execution_count": null,
   "metadata": {},
   "outputs": [],
   "source": [
    "l[1] = lp[0]+s[0]+l[0]*l[0]\n",
    "s[1] = sp[0] + s[0]*l[0]"
   ]
  },
  {
   "cell_type": "code",
   "execution_count": null,
   "metadata": {},
   "outputs": [],
   "source": [
    "series(l[1],y,x0=0,n=5)"
   ]
  },
  {
   "cell_type": "code",
   "execution_count": null,
   "metadata": {},
   "outputs": [],
   "source": [
    "series(s[1],y,x0=0,n=5)"
   ]
  },
  {
   "cell_type": "markdown",
   "metadata": {},
   "source": [
    "Evaluate the quantization condition $\\delta_n$ at point $y = 0$ obtaining polynomial in $\\omega$"
   ]
  },
  {
   "cell_type": "code",
   "execution_count": null,
   "metadata": {},
   "outputs": [],
   "source": [
    "d[1] = s[1]*l[0] - s[0]*l[1]\n",
    "#d[1].subs(y,0)\n",
    "p = simplify(d[1].subs(y,0))\n",
    "d[1]\n"
   ]
  },
  {
   "cell_type": "code",
   "execution_count": null,
   "metadata": {},
   "outputs": [],
   "source": [
    "p"
   ]
  },
  {
   "cell_type": "markdown",
   "metadata": {},
   "source": [
    "Solve the polynomial for the solution of $\\omega$, taking only those with negative imaginary part and positive real part"
   ]
  },
  {
   "cell_type": "code",
   "execution_count": null,
   "metadata": {},
   "outputs": [],
   "source": [
    "sols = solve(p)\n",
    "print(\"All solutions: \" + str(sols))\n",
    "print(\"Filtered solutions:\")\n",
    "for i in range(len(sols)):\n",
    "    if re(sols[i]) > 0 and  im(sols[i]) < 0:\n",
    "        print(\"w_\" + str(i+1) + \" = \" + str(sols[i]))"
   ]
  },
  {
   "cell_type": "markdown",
   "metadata": {},
   "source": [
    "### Second Iteration"
   ]
  },
  {
   "cell_type": "code",
   "execution_count": null,
   "metadata": {},
   "outputs": [],
   "source": [
    "lp[1] = diff(l[1],y)\n",
    "sp[1] = diff(s[1],y)\n",
    "l[2] = lp[1] + s[1] + l[0]*l[1]\n",
    "s[2] = sp[1] + s[0]*l[1]"
   ]
  },
  {
   "cell_type": "code",
   "execution_count": null,
   "metadata": {},
   "outputs": [],
   "source": [
    "d[2] = s[2]*l[1] - s[1]*l[2]\n",
    "d[2]"
   ]
  },
  {
   "cell_type": "code",
   "execution_count": null,
   "metadata": {},
   "outputs": [],
   "source": [
    "p = simplify(d[2].subs(y,0))\n",
    "p"
   ]
  },
  {
   "cell_type": "code",
   "execution_count": null,
   "metadata": {},
   "outputs": [],
   "source": [
    "sols = solve(p)\n",
    "print(\"All solutions: \" + str(sols))\n",
    "print(\"Filtered solutions:\")\n",
    "for i in range(len(sols)):\n",
    "    if re(sols[i]) > 0 and  im(sols[i]) < 0:\n",
    "        print(\"w_\" + str(i+1) + \" = \" + str(sols[i]))"
   ]
  },
  {
   "cell_type": "markdown",
   "metadata": {},
   "source": [
    "### Third iteration"
   ]
  },
  {
   "cell_type": "code",
   "execution_count": null,
   "metadata": {},
   "outputs": [],
   "source": [
    "lp[2] = diff(l[2],y)\n",
    "sp[2] = diff(s[2],y)\n",
    "l[3] = lp[2] + s[2] + l[0]*l[2]\n",
    "s[3] = sp[2] + s[0]*l[2]\n",
    "d[3] = s[3]*l[2] - s[2]*l[3]\n",
    "p = simplify(d[3].subs(y,0))\n",
    "sols = solve(p)\n",
    "print(\"All solutions: \" + str(sols))\n",
    "print(\"Filtered solutions:\")\n",
    "for i in range(len(sols)):\n",
    "    if re(sols[i]) > 0 and  im(sols[i]) < 0:\n",
    "        print(\"w_\" + str(i+1) + \" = \" + str(sols[i]))"
   ]
  },
  {
   "cell_type": "markdown",
   "metadata": {},
   "source": [
    "### Fourth iteration"
   ]
  },
  {
   "cell_type": "code",
   "execution_count": null,
   "metadata": {},
   "outputs": [],
   "source": [
    "lp[3] = diff(l[3],y)\n",
    "sp[3] = diff(s[3],y)\n",
    "l[4] = lp[3] + s[3] + l[0]*l[3]\n",
    "s[4] = sp[3] + s[0]*l[3]\n",
    "d[4] = s[4]*l[3] - s[3]*l[4]\n",
    "p = simplify(d[4].subs(y,0))\n",
    "sols = solve(p)\n",
    "print(\"All solutions: \" + str(sols))\n",
    "print(\"Filtered solutions:\")\n",
    "for i in range(len(sols)):\n",
    "    if re(sols[i]) > 0 and  im(sols[i]) < 0:\n",
    "        print(\"w_\" + str(i+1) + \" = \" + str(sols[i]))"
   ]
  }
 ],
 "metadata": {
  "kernelspec": {
   "display_name": "Python 3",
   "language": "python",
   "name": "python3"
  },
  "language_info": {
   "codemirror_mode": {
    "name": "ipython",
    "version": 3
   },
   "file_extension": ".py",
   "mimetype": "text/x-python",
   "name": "python",
   "nbconvert_exporter": "python",
   "pygments_lexer": "ipython3",
   "version": "3.10.12"
  }
 },
 "nbformat": 4,
 "nbformat_minor": 2
}

{
 "cells": [
  {
   "cell_type": "markdown",
   "metadata": {},
   "source": [
    "# Poschl-Teller Potential"
   ]
  },
  {
   "cell_type": "markdown",
   "metadata": {},
   "source": [
    "$ V(x) = \\dfrac{1}{2}\\,\\text{sech}^2(x) = \\dfrac{2}{(e^{-x}+e^x)^2} $"
   ]
  },
  {
   "cell_type": "markdown",
   "metadata": {},
   "source": [
    "### Schrödinger equation after change of coordinates"
   ]
  },
  {
   "cell_type": "markdown",
   "metadata": {},
   "source": [
    "$ \\dfrac{d^2\\psi}{dx^2} + \\left( \\omega^2 - \\dfrac{1}{2}\\text{sech}^2(x) \\right)\\psi = 0 \\implies  \\dfrac{d^2\\phi}{dy^2} = \\dfrac{2y(1-iw)}{1-y^2}\\dfrac{d\\phi}{dy} + \\dfrac{1-2iw-2w^2}{2(1-y^2)}\\phi $"
   ]
  },
  {
   "cell_type": "markdown",
   "metadata": {},
   "source": [
    "$ \\text{where } y = \\text{tanh}(x) $"
   ]
  },
  {
   "cell_type": "markdown",
   "metadata": {},
   "source": [
    "### QNM Boundary Conditions"
   ]
  },
  {
   "cell_type": "markdown",
   "metadata": {},
   "source": [
    "$ \\phi = (1-y)^{-iw/2}(1+y)^{-iw/2} $"
   ]
  },
  {
   "cell_type": "markdown",
   "metadata": {},
   "source": [
    "$ \\text{which fulfills } y \\rightarrow 1 \\implies \\psi \\sim e^{\\mp iwx} \\sim (1-y)^{\\pm iw/2} \\implies \\psi \\sim (1-y)^{-iw/2} $"
   ]
  },
  {
   "cell_type": "markdown",
   "metadata": {},
   "source": [
    "$ \\text{and } y \\rightarrow -1 \\implies \\phi \\sim e^{\\pm iwx} \\sim (1+y)^{\\pm iw/2} \\implies \\psi \\sim (1+y)^{-iw/2} $"
   ]
  },
  {
   "cell_type": "markdown",
   "metadata": {},
   "source": [
    "### Parameters"
   ]
  },
  {
   "cell_type": "markdown",
   "metadata": {},
   "source": [
    "$ \\lambda_0 = \\dfrac{2y(1-iw)}{1-y^2} \\qquad s_0 = \\dfrac{1-2iw-2w^2}{2(1-y^2)} $"
   ]
  },
  {
   "cell_type": "markdown",
   "metadata": {},
   "source": [
    "### AIM Method\n",
    "$ \\lambda_n = \\lambda'_{n-1} + s_{n-1} + \\lambda_0\\lambda_{n-1} \\qquad s_n = s'_{n-1} + s_0\\lambda_{n-1} $"
   ]
  },
  {
   "cell_type": "markdown",
   "metadata": {},
   "source": [
    "\n",
    "Quantization condition: $ \\delta_n = s_n\\lambda_{n-1} - s_{n-1}\\lambda_n $"
   ]
  },
  {
   "cell_type": "markdown",
   "metadata": {},
   "source": [
    "# AIM (simple) algorithm"
   ]
  },
  {
   "cell_type": "markdown",
   "metadata": {},
   "source": [
    "Import necessary libraries"
   ]
  },
  {
   "cell_type": "code",
   "execution_count": 112,
   "metadata": {},
   "outputs": [],
   "source": [
    "import numpy as np\n",
    "import matplotlib.pyplot as plt\n",
    "from sympy import *\n",
    "\n",
    "N = 1000\n",
    "\n",
    "y = symbols(\"y\", real=True)\n",
    "w = symbols(\"\\omega\")\n",
    "\n",
    "l = np.empty(N,dtype=object)\n",
    "lp = np.empty(N,dtype=object)\n",
    "s = np.empty(N,dtype=object)\n",
    "sp = np.empty(N,dtype=object)\n",
    "\n",
    "d = np.empty(N,dtype=object)\n",
    "\n",
    "l[0] = (2*y*(1-I*w))/(1-y**2)\n",
    "s[0] = (1-2*I*w-2*w**2)/(2*(1-y**2))"
   ]
  },
  {
   "cell_type": "markdown",
   "metadata": {},
   "source": [
    "First, find the maximum/minimum value of the potential to evaluate at"
   ]
  },
  {
   "cell_type": "code",
   "execution_count": 152,
   "metadata": {},
   "outputs": [
    {
     "data": {
      "image/png": "[encoded data removed]",
      "text/plain": [
       "<Figure size 640x480 with 1 Axes>"
      ]
     },
     "metadata": {},
     "output_type": "display_data"
    },
    {
     "data": {
      "text/plain": [
       "<sympy.plotting.plot.Plot at 0x7bb77e9c6f80>"
      ]
     },
     "execution_count": 152,
     "metadata": {},
     "output_type": "execute_result"
    }
   ],
   "source": [
    "x = symbols(\"x\", real=True)\n",
    "V = 2/( ( E**(-x) + E**x )**2 )\n",
    "p1 = plot(V)\n",
    "p1"
   ]
  },
  {
   "cell_type": "code",
   "execution_count": 158,
   "metadata": {},
   "outputs": [
    {
     "data": {
      "text/plain": [
       "[0]"
      ]
     },
     "execution_count": 158,
     "metadata": {},
     "output_type": "execute_result"
    }
   ],
   "source": [
    "Vp = diff(V,x)\n",
    "critp = solve(Vp,x)\n",
    "critp"
   ]
  },
  {
   "cell_type": "markdown",
   "metadata": {},
   "source": [
    "Next, compute first derivatives of lambda and s parameters"
   ]
  },
  {
   "cell_type": "code",
   "execution_count": 113,
   "metadata": {},
   "outputs": [],
   "source": [
    "lp[0] = diff(l[0],y)\n",
    "sp[0] = diff(s[0],y)"
   ]
  },
  {
   "cell_type": "code",
   "execution_count": 139,
   "metadata": {},
   "outputs": [
    {
     "data": {
      "text/latex": [
       "$\\displaystyle \\frac{4 y^{2} \\left(- i \\omega + 1\\right)}{\\left(1 - y^{2}\\right)^{2}} + \\frac{2 \\left(- i \\omega + 1\\right)}{1 - y^{2}}$"
      ],
      "text/plain": [
       "4*y**2*(-I*\\omega + 1)/(1 - y**2)**2 + 2*(-I*\\omega + 1)/(1 - y**2)"
      ]
     },
     "execution_count": 139,
     "metadata": {},
     "output_type": "execute_result"
    }
   ],
   "source": [
    "lp[0]"
   ]
  },
  {
   "cell_type": "code",
   "execution_count": 140,
   "metadata": {},
   "outputs": [
    {
     "data": {
      "text/latex": [
       "$\\displaystyle \\frac{4 y \\left(- 2 \\omega^{2} - 2 i \\omega + 1\\right)}{\\left(2 - 2 y^{2}\\right)^{2}}$"
      ],
      "text/plain": [
       "4*y*(-2*\\omega**2 - 2*I*\\omega + 1)/(2 - 2*y**2)**2"
      ]
     },
     "execution_count": 140,
     "metadata": {},
     "output_type": "execute_result"
    }
   ],
   "source": [
    "sp[0]"
   ]
  },
  {
   "cell_type": "markdown",
   "metadata": {},
   "source": [
    "Calculate n-th (1st) values of lambda and s parameter"
   ]
  },
  {
   "cell_type": "code",
   "execution_count": 114,
   "metadata": {},
   "outputs": [],
   "source": [
    "l[1] = lp[0]+s[0]+l[0]*l[0]\n",
    "s[1] = sp[0] + s[0]*l[0]"
   ]
  },
  {
   "cell_type": "code",
   "execution_count": 148,
   "metadata": {},
   "outputs": [
    {
     "data": {
      "text/latex": [
       "$\\displaystyle \\frac{5}{2} + y^{2} \\left(- \\omega^{2} - 7 i \\omega + 4 \\left(- i \\omega + 1\\right)^{2} + \\frac{13}{2}\\right) + y^{4} \\left(- \\omega^{2} - 11 i \\omega + 8 \\left(- i \\omega + 1\\right)^{2} + \\frac{21}{2}\\right) - 3 i \\omega - \\omega^{2} + O\\left(y^{5}\\right)$"
      ],
      "text/plain": [
       "5/2 + y**2*(-\\omega**2 - 7*I*\\omega + 4*(-I*\\omega + 1)**2 + 13/2) + y**4*(-\\omega**2 - 11*I*\\omega + 8*(-I*\\omega + 1)**2 + 21/2) - 3*I*\\omega - \\omega**2 + O(y**5)"
      ]
     },
     "execution_count": 148,
     "metadata": {},
     "output_type": "execute_result"
    }
   ],
   "source": [
    "series(l[1],y,x0=0,n=5)"
   ]
  },
  {
   "cell_type": "code",
   "execution_count": 149,
   "metadata": {},
   "outputs": [
    {
     "data": {
      "text/latex": [
       "$\\displaystyle y \\left(2 i \\omega^{3} - 6 \\omega^{2} - 5 i \\omega + 2\\right) + y^{3} \\cdot \\left(4 i \\omega^{3} - 12 \\omega^{2} - 10 i \\omega + 4\\right) + O\\left(y^{5}\\right)$"
      ],
      "text/plain": [
       "y*(2*I*\\omega**3 - 6*\\omega**2 - 5*I*\\omega + 2) + y**3*(4*I*\\omega**3 - 12*\\omega**2 - 10*I*\\omega + 4) + O(y**5)"
      ]
     },
     "execution_count": 149,
     "metadata": {},
     "output_type": "execute_result"
    }
   ],
   "source": [
    "series(s[1],y,x0=0,n=5)"
   ]
  },
  {
   "cell_type": "markdown",
   "metadata": {},
   "source": [
    "Evaluate the quantization condition $\\delta_n$ at point $y = 0$ obtaining polynomial in $\\omega$"
   ]
  },
  {
   "cell_type": "code",
   "execution_count": 142,
   "metadata": {},
   "outputs": [
    {
     "data": {
      "text/latex": [
       "$\\displaystyle \\frac{2 y \\left(- i \\omega + 1\\right) \\left(\\frac{4 y \\left(- 2 \\omega^{2} - 2 i \\omega + 1\\right)}{\\left(2 - 2 y^{2}\\right)^{2}} + \\frac{2 y \\left(- i \\omega + 1\\right) \\left(- 2 \\omega^{2} - 2 i \\omega + 1\\right)}{\\left(1 - y^{2}\\right) \\left(2 - 2 y^{2}\\right)}\\right)}{1 - y^{2}} - \\frac{\\left(- 2 \\omega^{2} - 2 i \\omega + 1\\right) \\left(\\frac{4 y^{2} \\left(- i \\omega + 1\\right)^{2}}{\\left(1 - y^{2}\\right)^{2}} + \\frac{4 y^{2} \\left(- i \\omega + 1\\right)}{\\left(1 - y^{2}\\right)^{2}} + \\frac{- 2 \\omega^{2} - 2 i \\omega + 1}{2 - 2 y^{2}} + \\frac{2 \\left(- i \\omega + 1\\right)}{1 - y^{2}}\\right)}{2 - 2 y^{2}}$"
      ],
      "text/plain": [
       "2*y*(-I*\\omega + 1)*(4*y*(-2*\\omega**2 - 2*I*\\omega + 1)/(2 - 2*y**2)**2 + 2*y*(-I*\\omega + 1)*(-2*\\omega**2 - 2*I*\\omega + 1)/((1 - y**2)*(2 - 2*y**2)))/(1 - y**2) - (-2*\\omega**2 - 2*I*\\omega + 1)*(4*y**2*(-I*\\omega + 1)**2/(1 - y**2)**2 + 4*y**2*(-I*\\omega + 1)/(1 - y**2)**2 + (-2*\\omega**2 - 2*I*\\omega + 1)/(2 - 2*y**2) + 2*(-I*\\omega + 1)/(1 - y**2))/(2 - 2*y**2)"
      ]
     },
     "execution_count": 142,
     "metadata": {},
     "output_type": "execute_result"
    }
   ],
   "source": [
    "d[1] = s[1]*l[0] - s[0]*l[1]\n",
    "#d[1].subs(y,0)\n",
    "p = simplify(d[1].subs(y,0))\n",
    "d[1]\n"
   ]
  },
  {
   "cell_type": "code",
   "execution_count": 143,
   "metadata": {},
   "outputs": [
    {
     "data": {
      "text/latex": [
       "$\\displaystyle - \\omega^{4} - 4 i \\omega^{3} + 6 \\omega^{2} + 4 i \\omega - \\frac{5}{4}$"
      ],
      "text/plain": [
       "-\\omega**4 - 4*I*\\omega**3 + 6*\\omega**2 + 4*I*\\omega - 5/4"
      ]
     },
     "execution_count": 143,
     "metadata": {},
     "output_type": "execute_result"
    }
   ],
   "source": [
    "p"
   ]
  },
  {
   "cell_type": "markdown",
   "metadata": {},
   "source": [
    "Solve the polynomial for the solution of $\\omega$, taking only those with negative imaginary part and positive real part"
   ]
  },
  {
   "cell_type": "code",
   "execution_count": 116,
   "metadata": {},
   "outputs": [
    {
     "name": "stdout",
     "output_type": "stream",
     "text": [
      "All solutions: [-1/2 - 3*I/2, -1/2 - I/2, 1/2 - 3*I/2, 1/2 - I/2]\n",
      "Filtered solutions:\n",
      "w_3 = 1/2 - 3*I/2\n",
      "w_4 = 1/2 - I/2\n"
     ]
    }
   ],
   "source": [
    "sols = solve(p)\n",
    "print(\"All solutions: \" + str(sols))\n",
    "print(\"Filtered solutions:\")\n",
    "for i in range(len(sols)):\n",
    "    if re(sols[i]) > 0 and  im(sols[i]) < 0:\n",
    "        print(\"w_\" + str(i+1) + \" = \" + str(sols[i]))"
   ]
  },
  {
   "cell_type": "markdown",
   "metadata": {},
   "source": [
    "### Second Iteration"
   ]
  },
  {
   "cell_type": "code",
   "execution_count": 119,
   "metadata": {},
   "outputs": [],
   "source": [
    "lp[1] = diff(l[1],y)\n",
    "sp[1] = diff(s[1],y)\n",
    "l[2] = lp[1] + s[1] + l[0]*l[1]\n",
    "s[2] = sp[1] + s[0]*l[1]"
   ]
  },
  {
   "cell_type": "code",
   "execution_count": 135,
   "metadata": {},
   "outputs": [
    {
     "data": {
      "text/latex": [
       "$\\displaystyle - \\left(\\frac{4 y \\left(- 2 \\omega^{2} - 2 i \\omega + 1\\right)}{\\left(2 - 2 y^{2}\\right)^{2}} + \\frac{2 y \\left(- i \\omega + 1\\right) \\left(- 2 \\omega^{2} - 2 i \\omega + 1\\right)}{\\left(1 - y^{2}\\right) \\left(2 - 2 y^{2}\\right)}\\right) \\left(\\frac{16 y^{3} \\left(- i \\omega + 1\\right)^{2}}{\\left(1 - y^{2}\\right)^{3}} + \\frac{16 y^{3} \\left(- i \\omega + 1\\right)}{\\left(1 - y^{2}\\right)^{3}} + \\frac{8 y \\left(- 2 \\omega^{2} - 2 i \\omega + 1\\right)}{\\left(2 - 2 y^{2}\\right)^{2}} + \\frac{2 y \\left(- i \\omega + 1\\right) \\left(\\frac{4 y^{2} \\left(- i \\omega + 1\\right)^{2}}{\\left(1 - y^{2}\\right)^{2}} + \\frac{4 y^{2} \\left(- i \\omega + 1\\right)}{\\left(1 - y^{2}\\right)^{2}} + \\frac{- 2 \\omega^{2} - 2 i \\omega + 1}{2 - 2 y^{2}} + \\frac{2 \\left(- i \\omega + 1\\right)}{1 - y^{2}}\\right)}{1 - y^{2}} + \\frac{2 y \\left(- i \\omega + 1\\right) \\left(- 2 \\omega^{2} - 2 i \\omega + 1\\right)}{\\left(1 - y^{2}\\right) \\left(2 - 2 y^{2}\\right)} + \\frac{8 y \\left(- i \\omega + 1\\right)^{2}}{\\left(1 - y^{2}\\right)^{2}} + \\frac{12 y \\left(- i \\omega + 1\\right)}{\\left(1 - y^{2}\\right)^{2}}\\right) + \\left(\\frac{4 y^{2} \\left(- i \\omega + 1\\right)^{2}}{\\left(1 - y^{2}\\right)^{2}} + \\frac{4 y^{2} \\left(- i \\omega + 1\\right)}{\\left(1 - y^{2}\\right)^{2}} + \\frac{- 2 \\omega^{2} - 2 i \\omega + 1}{2 - 2 y^{2}} + \\frac{2 \\left(- i \\omega + 1\\right)}{1 - y^{2}}\\right) \\left(\\frac{32 y^{2} \\left(- 2 \\omega^{2} - 2 i \\omega + 1\\right)}{\\left(2 - 2 y^{2}\\right)^{3}} + \\frac{8 y^{2} \\left(- i \\omega + 1\\right) \\left(- 2 \\omega^{2} - 2 i \\omega + 1\\right)}{\\left(1 - y^{2}\\right) \\left(2 - 2 y^{2}\\right)^{2}} + \\frac{4 y^{2} \\left(- i \\omega + 1\\right) \\left(- 2 \\omega^{2} - 2 i \\omega + 1\\right)}{\\left(1 - y^{2}\\right)^{2} \\cdot \\left(2 - 2 y^{2}\\right)} + \\frac{\\left(- 2 \\omega^{2} - 2 i \\omega + 1\\right) \\left(\\frac{4 y^{2} \\left(- i \\omega + 1\\right)^{2}}{\\left(1 - y^{2}\\right)^{2}} + \\frac{4 y^{2} \\left(- i \\omega + 1\\right)}{\\left(1 - y^{2}\\right)^{2}} + \\frac{- 2 \\omega^{2} - 2 i \\omega + 1}{2 - 2 y^{2}} + \\frac{2 \\left(- i \\omega + 1\\right)}{1 - y^{2}}\\right)}{2 - 2 y^{2}} + \\frac{4 \\left(- 2 \\omega^{2} - 2 i \\omega + 1\\right)}{\\left(2 - 2 y^{2}\\right)^{2}} + \\frac{2 \\left(- i \\omega + 1\\right) \\left(- 2 \\omega^{2} - 2 i \\omega + 1\\right)}{\\left(1 - y^{2}\\right) \\left(2 - 2 y^{2}\\right)}\\right)$"
      ],
      "text/plain": [
       "-(4*y*(-2*\\omega**2 - 2*I*\\omega + 1)/(2 - 2*y**2)**2 + 2*y*(-I*\\omega + 1)*(-2*\\omega**2 - 2*I*\\omega + 1)/((1 - y**2)*(2 - 2*y**2)))*(16*y**3*(-I*\\omega + 1)**2/(1 - y**2)**3 + 16*y**3*(-I*\\omega + 1)/(1 - y**2)**3 + 8*y*(-2*\\omega**2 - 2*I*\\omega + 1)/(2 - 2*y**2)**2 + 2*y*(-I*\\omega + 1)*(4*y**2*(-I*\\omega + 1)**2/(1 - y**2)**2 + 4*y**2*(-I*\\omega + 1)/(1 - y**2)**2 + (-2*\\omega**2 - 2*I*\\omega + 1)/(2 - 2*y**2) + 2*(-I*\\omega + 1)/(1 - y**2))/(1 - y**2) + 2*y*(-I*\\omega + 1)*(-2*\\omega**2 - 2*I*\\omega + 1)/((1 - y**2)*(2 - 2*y**2)) + 8*y*(-I*\\omega + 1)**2/(1 - y**2)**2 + 12*y*(-I*\\omega + 1)/(1 - y**2)**2) + (4*y**2*(-I*\\omega + 1)**2/(1 - y**2)**2 + 4*y**2*(-I*\\omega + 1)/(1 - y**2)**2 + (-2*\\omega**2 - 2*I*\\omega + 1)/(2 - 2*y**2) + 2*(-I*\\omega + 1)/(1 - y**2))*(32*y**2*(-2*\\omega**2 - 2*I*\\omega + 1)/(2 - 2*y**2)**3 + 8*y**2*(-I*\\omega + 1)*(-2*\\omega**2 - 2*I*\\omega + 1)/((1 - y**2)*(2 - 2*y**2)**2) + 4*y**2*(-I*\\omega + 1)*(-2*\\omega**2 - 2*I*\\omega + 1)/((1 - y**2)**2*(2 - 2*y**2)) + (-2*\\omega**2 - 2*I*\\omega + 1)*(4*y**2*(-I*\\omega + 1)**2/(1 - y**2)**2 + 4*y**2*(-I*\\omega + 1)/(1 - y**2)**2 + (-2*\\omega**2 - 2*I*\\omega + 1)/(2 - 2*y**2) + 2*(-I*\\omega + 1)/(1 - y**2))/(2 - 2*y**2) + 4*(-2*\\omega**2 - 2*I*\\omega + 1)/(2 - 2*y**2)**2 + 2*(-I*\\omega + 1)*(-2*\\omega**2 - 2*I*\\omega + 1)/((1 - y**2)*(2 - 2*y**2)))"
      ]
     },
     "execution_count": 135,
     "metadata": {},
     "output_type": "execute_result"
    }
   ],
   "source": [
    "d[2] = s[2]*l[1] - s[1]*l[2]\n",
    "d[2]"
   ]
  },
  {
   "cell_type": "code",
   "execution_count": 164,
   "metadata": {},
   "outputs": [
    {
     "data": {
      "text/latex": [
       "$\\displaystyle - \\omega^{6} - 9 i \\omega^{5} + \\frac{65 \\omega^{4}}{2} + 60 i \\omega^{3} - \\frac{241 \\omega^{2}}{4} - \\frac{129 i \\omega}{4} + \\frac{65}{8}$"
      ],
      "text/plain": [
       "-\\omega**6 - 9*I*\\omega**5 + 65*\\omega**4/2 + 60*I*\\omega**3 - 241*\\omega**2/4 - 129*I*\\omega/4 + 65/8"
      ]
     },
     "execution_count": 164,
     "metadata": {},
     "output_type": "execute_result"
    }
   ],
   "source": [
    "p = simplify(d[2].subs(y,0))\n",
    "p"
   ]
  },
  {
   "cell_type": "code",
   "execution_count": 165,
   "metadata": {},
   "outputs": [
    {
     "name": "stdout",
     "output_type": "stream",
     "text": [
      "All solutions: [-1/2 - 5*I/2, -1/2 - 3*I/2, -1/2 - I/2, 1/2 - 5*I/2, 1/2 - 3*I/2, 1/2 - I/2]\n",
      "Filtered solutions:\n",
      "w_4 = 1/2 - 5*I/2\n",
      "w_5 = 1/2 - 3*I/2\n",
      "w_6 = 1/2 - I/2\n"
     ]
    }
   ],
   "source": [
    "sols = solve(p)\n",
    "print(\"All solutions: \" + str(sols))\n",
    "print(\"Filtered solutions:\")\n",
    "for i in range(len(sols)):\n",
    "    if re(sols[i]) > 0 and  im(sols[i]) < 0:\n",
    "        print(\"w_\" + str(i+1) + \" = \" + str(sols[i]))"
   ]
  },
  {
   "cell_type": "markdown",
   "metadata": {},
   "source": [
    "### Third iteration"
   ]
  },
  {
   "cell_type": "code",
   "execution_count": 137,
   "metadata": {},
   "outputs": [
    {
     "name": "stdout",
     "output_type": "stream",
     "text": [
      "All solutions: [-1/2 - 7*I/2, -1/2 - 5*I/2, -1/2 - 3*I/2, -1/2 - I/2, 1/2 - 7*I/2, 1/2 - 5*I/2, 1/2 - 3*I/2, 1/2 - I/2]\n",
      "Filtered solutions:\n",
      "w_5 = 1/2 - 7*I/2\n",
      "w_6 = 1/2 - 5*I/2\n",
      "w_7 = 1/2 - 3*I/2\n",
      "w_8 = 1/2 - I/2\n"
     ]
    }
   ],
   "source": [
    "lp[2] = diff(l[2],y)\n",
    "sp[2] = diff(s[2],y)\n",
    "l[3] = lp[2] + s[2] + l[0]*l[2]\n",
    "s[3] = sp[2] + s[0]*l[2]\n",
    "d[3] = s[3]*l[2] - s[2]*l[3]\n",
    "p = simplify(d[3].subs(y,0))\n",
    "sols = solve(p)\n",
    "print(\"All solutions: \" + str(sols))\n",
    "print(\"Filtered solutions:\")\n",
    "for i in range(len(sols)):\n",
    "    if re(sols[i]) > 0 and  im(sols[i]) < 0:\n",
    "        print(\"w_\" + str(i+1) + \" = \" + str(sols[i]))"
   ]
  },
  {
   "cell_type": "markdown",
   "metadata": {},
   "source": [
    "### Fourth iteration"
   ]
  },
  {
   "cell_type": "code",
   "execution_count": 146,
   "metadata": {},
   "outputs": [
    {
     "name": "stdout",
     "output_type": "stream",
     "text": [
      "All solutions: [-1/2 - 9*I/2, -1/2 - 7*I/2, -1/2 - 5*I/2, -1/2 - 3*I/2, -1/2 - I/2, 1/2 - 9*I/2, 1/2 - 7*I/2, 1/2 - 5*I/2, 1/2 - 3*I/2, 1/2 - I/2]\n",
      "Filtered solutions:\n",
      "w_6 = 1/2 - 9*I/2\n",
      "w_7 = 1/2 - 7*I/2\n",
      "w_8 = 1/2 - 5*I/2\n",
      "w_9 = 1/2 - 3*I/2\n",
      "w_10 = 1/2 - I/2\n"
     ]
    }
   ],
   "source": [
    "lp[3] = diff(l[3],y)\n",
    "sp[3] = diff(s[3],y)\n",
    "l[4] = lp[3] + s[3] + l[0]*l[3]\n",
    "s[4] = sp[3] + s[0]*l[3]\n",
    "d[4] = s[4]*l[3] - s[3]*l[4]\n",
    "p = simplify(d[4].subs(y,0))\n",
    "sols = solve(p)\n",
    "print(\"All solutions: \" + str(sols))\n",
    "print(\"Filtered solutions:\")\n",
    "for i in range(len(sols)):\n",
    "    if re(sols[i]) > 0 and  im(sols[i]) < 0:\n",
    "        print(\"w_\" + str(i+1) + \" = \" + str(sols[i]))"
   ]
  }
 ],
 "metadata": {
  "kernelspec": {
   "display_name": "Python 3",
   "language": "python",
   "name": "python3"
  },
  "language_info": {
   "codemirror_mode": {
    "name": "ipython",
    "version": 3
   },
   "file_extension": ".py",
   "mimetype": "text/x-python",
   "name": "python",
   "nbconvert_exporter": "python",
   "pygments_lexer": "ipython3",
   "version": "3.10.12"
  }
 },
 "nbformat": 4,
 "nbformat_minor": 2
}

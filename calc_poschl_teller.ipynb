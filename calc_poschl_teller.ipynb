{
 "cells": [
  {
   "cell_type": "markdown",
   "metadata": {},
   "source": [
    "# Calculations of change of variable for Poschl-Teller"
   ]
  },
  {
   "cell_type": "code",
   "execution_count": 119,
   "metadata": {},
   "outputs": [],
   "source": [
    "from sympy import *\n",
    "\n",
    "x,y = symbols(\"x y\", real=True)\n",
    "w = symbols(\"\\omega\")\n",
    "\n",
    "psi = Function(\"\\psi\")(y)\n",
    "phi = Function(\"\\phi\")(y)"
   ]
  },
  {
   "cell_type": "code",
   "execution_count": 120,
   "metadata": {},
   "outputs": [
    {
     "data": {
      "text/latex": [
       "$\\displaystyle - \\frac{2 y \\frac{d}{d y} \\psi{\\left(y \\right)}}{1 - y^{2}} + \\frac{d^{2}}{d y^{2}} \\psi{\\left(y \\right)} + \\frac{\\left(\\omega^{2} + \\frac{y^{2}}{2} - \\frac{1}{2}\\right) \\psi{\\left(y \\right)}}{\\left(1 - y^{2}\\right)^{2}} = 0$"
      ],
      "text/plain": [
       "Eq(-2*y*Derivative(\\psi(y), y)/(1 - y**2) + Derivative(\\psi(y), (y, 2)) + (\\omega**2 + y**2/2 - 1/2)*\\psi(y)/(1 - y**2)**2, 0)"
      ]
     },
     "execution_count": 120,
     "metadata": {},
     "output_type": "execute_result"
    }
   ],
   "source": [
    "#Schrödinger Equation (Already after change of variable)\n",
    "sch_eq = Eq( diff(diff(psi,y),y) - 2*y/(1-y**2)*diff(psi,y) + (w**2-S(1)/2*(1-y**2))/(1-y**2)**2*psi , 0 )\n",
    "sch_eq"
   ]
  },
  {
   "cell_type": "code",
   "execution_count": 121,
   "metadata": {},
   "outputs": [
    {
     "data": {
      "text/latex": [
       "$\\displaystyle \\left(1 - y\\right)^{- \\frac{i \\omega}{2}} \\left(y + 1\\right)^{- \\frac{i \\omega}{2}} \\phi{\\left(y \\right)}$"
      ],
      "text/plain": [
       "\\phi(y)/((1 - y)**(I*\\omega/2)*(y + 1)**(I*\\omega/2))"
      ]
     },
     "execution_count": 121,
     "metadata": {},
     "output_type": "execute_result"
    }
   ],
   "source": [
    "psi_new = (1-y)**(-I*w/2)*(1+y)**(-I*w/2)*phi\n",
    "psi_new"
   ]
  },
  {
   "cell_type": "code",
   "execution_count": 122,
   "metadata": {},
   "outputs": [
    {
     "data": {
      "text/latex": [
       "$\\displaystyle - \\frac{2 y \\frac{\\partial}{\\partial y} \\left(1 - y\\right)^{- \\frac{i \\omega}{2}} \\left(y + 1\\right)^{- \\frac{i \\omega}{2}} \\phi{\\left(y \\right)}}{1 - y^{2}} + \\frac{\\partial^{2}}{\\partial y^{2}} \\left(1 - y\\right)^{- \\frac{i \\omega}{2}} \\left(y + 1\\right)^{- \\frac{i \\omega}{2}} \\phi{\\left(y \\right)} + \\frac{\\left(1 - y\\right)^{- \\frac{i \\omega}{2}} \\left(y + 1\\right)^{- \\frac{i \\omega}{2}} \\left(\\omega^{2} + \\frac{y^{2}}{2} - \\frac{1}{2}\\right) \\phi{\\left(y \\right)}}{\\left(1 - y^{2}\\right)^{2}} = 0$"
      ],
      "text/plain": [
       "Eq(-2*y*Derivative(\\phi(y)/((1 - y)**(I*\\omega/2)*(y + 1)**(I*\\omega/2)), y)/(1 - y**2) + Derivative(\\phi(y)/((1 - y)**(I*\\omega/2)*(y + 1)**(I*\\omega/2)), (y, 2)) + (\\omega**2 + y**2/2 - 1/2)*\\phi(y)/((1 - y)**(I*\\omega/2)*(1 - y**2)**2*(y + 1)**(I*\\omega/2)), 0)"
      ]
     },
     "execution_count": 122,
     "metadata": {},
     "output_type": "execute_result"
    }
   ],
   "source": [
    "sch_0 = sch_eq.subs(psi, psi_new)\n",
    "sch_0"
   ]
  },
  {
   "cell_type": "code",
   "execution_count": 123,
   "metadata": {},
   "outputs": [
    {
     "data": {
      "text/latex": [
       "$\\displaystyle - \\frac{2 y \\left(- \\frac{i \\omega \\left(1 - y\\right)^{- \\frac{i \\omega}{2}} \\left(y + 1\\right)^{- \\frac{i \\omega}{2}} \\phi{\\left(y \\right)}}{2 \\left(y + 1\\right)} + \\frac{i \\omega \\left(1 - y\\right)^{- \\frac{i \\omega}{2}} \\left(y + 1\\right)^{- \\frac{i \\omega}{2}} \\phi{\\left(y \\right)}}{2 \\cdot \\left(1 - y\\right)} + \\left(1 - y\\right)^{- \\frac{i \\omega}{2}} \\left(y + 1\\right)^{- \\frac{i \\omega}{2}} \\frac{d}{d y} \\phi{\\left(y \\right)}\\right)}{1 - y^{2}} + \\left(1 - y\\right)^{- \\frac{i \\omega}{2}} \\left(y + 1\\right)^{- \\frac{i \\omega}{2}} \\left(- \\frac{\\omega^{2} \\phi{\\left(y \\right)}}{2 \\left(y - 1\\right) \\left(y + 1\\right)} - \\frac{\\omega \\left(\\omega - 2 i\\right) \\phi{\\left(y \\right)}}{4 \\left(y + 1\\right)^{2}} - \\frac{\\omega \\left(\\omega - 2 i\\right) \\phi{\\left(y \\right)}}{4 \\left(y - 1\\right)^{2}} - \\frac{i \\omega \\frac{d}{d y} \\phi{\\left(y \\right)}}{y + 1} - \\frac{i \\omega \\frac{d}{d y} \\phi{\\left(y \\right)}}{y - 1} + \\frac{d^{2}}{d y^{2}} \\phi{\\left(y \\right)}\\right) + \\frac{\\left(1 - y\\right)^{- \\frac{i \\omega}{2}} \\left(y + 1\\right)^{- \\frac{i \\omega}{2}} \\left(\\omega^{2} + \\frac{y^{2}}{2} - \\frac{1}{2}\\right) \\phi{\\left(y \\right)}}{\\left(1 - y^{2}\\right)^{2}} = 0$"
      ],
      "text/plain": [
       "Eq(-2*y*(-I*\\omega*\\phi(y)/(2*(1 - y)**(I*\\omega/2)*(y + 1)*(y + 1)**(I*\\omega/2)) + I*\\omega*\\phi(y)/(2*(1 - y)*(1 - y)**(I*\\omega/2)*(y + 1)**(I*\\omega/2)) + Derivative(\\phi(y), y)/((1 - y)**(I*\\omega/2)*(y + 1)**(I*\\omega/2)))/(1 - y**2) + (-\\omega**2*\\phi(y)/(2*(y - 1)*(y + 1)) - \\omega*(\\omega - 2*I)*\\phi(y)/(4*(y + 1)**2) - \\omega*(\\omega - 2*I)*\\phi(y)/(4*(y - 1)**2) - I*\\omega*Derivative(\\phi(y), y)/(y + 1) - I*\\omega*Derivative(\\phi(y), y)/(y - 1) + Derivative(\\phi(y), (y, 2)))/((1 - y)**(I*\\omega/2)*(y + 1)**(I*\\omega/2)) + (\\omega**2 + y**2/2 - 1/2)*\\phi(y)/((1 - y)**(I*\\omega/2)*(1 - y**2)**2*(y + 1)**(I*\\omega/2)), 0)"
      ]
     },
     "execution_count": 123,
     "metadata": {},
     "output_type": "execute_result"
    }
   ],
   "source": [
    "sch_0 = sch_0.doit()\n",
    "sch_0"
   ]
  },
  {
   "cell_type": "code",
   "execution_count": 124,
   "metadata": {},
   "outputs": [
    {
     "data": {
      "text/latex": [
       "$\\displaystyle - \\frac{2 y \\left(- \\frac{i \\omega \\left(1 - y\\right)^{- \\frac{i \\omega}{2}} \\left(y + 1\\right)^{- \\frac{i \\omega}{2}} \\phi{\\left(y \\right)}}{2 \\left(y + 1\\right)} + \\frac{i \\omega \\left(1 - y\\right)^{- \\frac{i \\omega}{2}} \\left(y + 1\\right)^{- \\frac{i \\omega}{2}} \\phi{\\left(y \\right)}}{2 \\cdot \\left(1 - y\\right)} + \\left(1 - y\\right)^{- \\frac{i \\omega}{2}} \\left(y + 1\\right)^{- \\frac{i \\omega}{2}} \\frac{d}{d y} \\phi{\\left(y \\right)}\\right)}{1 - y^{2}} + \\left(1 - y\\right)^{- \\frac{i \\omega}{2}} \\left(y + 1\\right)^{- \\frac{i \\omega}{2}} \\left(A - \\frac{\\omega^{2} \\phi{\\left(y \\right)}}{2 \\left(y - 1\\right) \\left(y + 1\\right)} - \\frac{\\omega \\left(\\omega - 2 i\\right) \\phi{\\left(y \\right)}}{4 \\left(y + 1\\right)^{2}} - \\frac{\\omega \\left(\\omega - 2 i\\right) \\phi{\\left(y \\right)}}{4 \\left(y - 1\\right)^{2}} - \\frac{i \\omega \\frac{d}{d y} \\phi{\\left(y \\right)}}{y + 1} - \\frac{i \\omega \\frac{d}{d y} \\phi{\\left(y \\right)}}{y - 1}\\right) + \\frac{\\left(1 - y\\right)^{- \\frac{i \\omega}{2}} \\left(y + 1\\right)^{- \\frac{i \\omega}{2}} \\left(\\omega^{2} + \\frac{y^{2}}{2} - \\frac{1}{2}\\right) \\phi{\\left(y \\right)}}{\\left(1 - y^{2}\\right)^{2}} = 0$"
      ],
      "text/plain": [
       "Eq(-2*y*(-I*\\omega*\\phi(y)/(2*(1 - y)**(I*\\omega/2)*(y + 1)*(y + 1)**(I*\\omega/2)) + I*\\omega*\\phi(y)/(2*(1 - y)*(1 - y)**(I*\\omega/2)*(y + 1)**(I*\\omega/2)) + Derivative(\\phi(y), y)/((1 - y)**(I*\\omega/2)*(y + 1)**(I*\\omega/2)))/(1 - y**2) + (A - \\omega**2*\\phi(y)/(2*(y - 1)*(y + 1)) - \\omega*(\\omega - 2*I)*\\phi(y)/(4*(y + 1)**2) - \\omega*(\\omega - 2*I)*\\phi(y)/(4*(y - 1)**2) - I*\\omega*Derivative(\\phi(y), y)/(y + 1) - I*\\omega*Derivative(\\phi(y), y)/(y - 1))/((1 - y)**(I*\\omega/2)*(y + 1)**(I*\\omega/2)) + (\\omega**2 + y**2/2 - 1/2)*\\phi(y)/((1 - y)**(I*\\omega/2)*(1 - y**2)**2*(y + 1)**(I*\\omega/2)), 0)"
      ]
     },
     "execution_count": 124,
     "metadata": {},
     "output_type": "execute_result"
    }
   ],
   "source": [
    "A,B,C = symbols(\"A B C\")\n",
    "sch_0 = sch_0.subs(diff(diff(phi,y),y),A)\n",
    "sch_0"
   ]
  },
  {
   "cell_type": "code",
   "execution_count": 125,
   "metadata": {},
   "outputs": [
    {
     "data": {
      "text/latex": [
       "$\\displaystyle - \\frac{2 y \\left(B \\left(1 - y\\right)^{- \\frac{i \\omega}{2}} \\left(y + 1\\right)^{- \\frac{i \\omega}{2}} - \\frac{i \\omega \\left(1 - y\\right)^{- \\frac{i \\omega}{2}} \\left(y + 1\\right)^{- \\frac{i \\omega}{2}} \\phi{\\left(y \\right)}}{2 \\left(y + 1\\right)} + \\frac{i \\omega \\left(1 - y\\right)^{- \\frac{i \\omega}{2}} \\left(y + 1\\right)^{- \\frac{i \\omega}{2}} \\phi{\\left(y \\right)}}{2 \\cdot \\left(1 - y\\right)}\\right)}{1 - y^{2}} + \\left(1 - y\\right)^{- \\frac{i \\omega}{2}} \\left(y + 1\\right)^{- \\frac{i \\omega}{2}} \\left(A - \\frac{i B \\omega}{y + 1} - \\frac{i B \\omega}{y - 1} - \\frac{\\omega^{2} \\phi{\\left(y \\right)}}{2 \\left(y - 1\\right) \\left(y + 1\\right)} - \\frac{\\omega \\left(\\omega - 2 i\\right) \\phi{\\left(y \\right)}}{4 \\left(y + 1\\right)^{2}} - \\frac{\\omega \\left(\\omega - 2 i\\right) \\phi{\\left(y \\right)}}{4 \\left(y - 1\\right)^{2}}\\right) + \\frac{\\left(1 - y\\right)^{- \\frac{i \\omega}{2}} \\left(y + 1\\right)^{- \\frac{i \\omega}{2}} \\left(\\omega^{2} + \\frac{y^{2}}{2} - \\frac{1}{2}\\right) \\phi{\\left(y \\right)}}{\\left(1 - y^{2}\\right)^{2}} = 0$"
      ],
      "text/plain": [
       "Eq(-2*y*(B/((1 - y)**(I*\\omega/2)*(y + 1)**(I*\\omega/2)) - I*\\omega*\\phi(y)/(2*(1 - y)**(I*\\omega/2)*(y + 1)*(y + 1)**(I*\\omega/2)) + I*\\omega*\\phi(y)/(2*(1 - y)*(1 - y)**(I*\\omega/2)*(y + 1)**(I*\\omega/2)))/(1 - y**2) + (A - I*B*\\omega/(y + 1) - I*B*\\omega/(y - 1) - \\omega**2*\\phi(y)/(2*(y - 1)*(y + 1)) - \\omega*(\\omega - 2*I)*\\phi(y)/(4*(y + 1)**2) - \\omega*(\\omega - 2*I)*\\phi(y)/(4*(y - 1)**2))/((1 - y)**(I*\\omega/2)*(y + 1)**(I*\\omega/2)) + (\\omega**2 + y**2/2 - 1/2)*\\phi(y)/((1 - y)**(I*\\omega/2)*(1 - y**2)**2*(y + 1)**(I*\\omega/2)), 0)"
      ]
     },
     "execution_count": 125,
     "metadata": {},
     "output_type": "execute_result"
    }
   ],
   "source": [
    "sch_0 = sch_0.subs(diff(phi,y),B)\n",
    "sch_0"
   ]
  },
  {
   "cell_type": "code",
   "execution_count": 126,
   "metadata": {},
   "outputs": [
    {
     "data": {
      "text/latex": [
       "$\\displaystyle \\frac{C \\left(1 - y\\right)^{- \\frac{i \\omega}{2}} \\left(y + 1\\right)^{- \\frac{i \\omega}{2}} \\left(\\omega^{2} + \\frac{y^{2}}{2} - \\frac{1}{2}\\right)}{\\left(1 - y^{2}\\right)^{2}} - \\frac{2 y \\left(B \\left(1 - y\\right)^{- \\frac{i \\omega}{2}} \\left(y + 1\\right)^{- \\frac{i \\omega}{2}} - \\frac{i C \\omega \\left(1 - y\\right)^{- \\frac{i \\omega}{2}} \\left(y + 1\\right)^{- \\frac{i \\omega}{2}}}{2 \\left(y + 1\\right)} + \\frac{i C \\omega \\left(1 - y\\right)^{- \\frac{i \\omega}{2}} \\left(y + 1\\right)^{- \\frac{i \\omega}{2}}}{2 \\cdot \\left(1 - y\\right)}\\right)}{1 - y^{2}} + \\left(1 - y\\right)^{- \\frac{i \\omega}{2}} \\left(y + 1\\right)^{- \\frac{i \\omega}{2}} \\left(A - \\frac{i B \\omega}{y + 1} - \\frac{i B \\omega}{y - 1} - \\frac{C \\omega^{2}}{2 \\left(y - 1\\right) \\left(y + 1\\right)} - \\frac{C \\omega \\left(\\omega - 2 i\\right)}{4 \\left(y + 1\\right)^{2}} - \\frac{C \\omega \\left(\\omega - 2 i\\right)}{4 \\left(y - 1\\right)^{2}}\\right) = 0$"
      ],
      "text/plain": [
       "Eq(C*(\\omega**2 + y**2/2 - 1/2)/((1 - y)**(I*\\omega/2)*(1 - y**2)**2*(y + 1)**(I*\\omega/2)) - 2*y*(B/((1 - y)**(I*\\omega/2)*(y + 1)**(I*\\omega/2)) - I*C*\\omega/(2*(1 - y)**(I*\\omega/2)*(y + 1)*(y + 1)**(I*\\omega/2)) + I*C*\\omega/(2*(1 - y)*(1 - y)**(I*\\omega/2)*(y + 1)**(I*\\omega/2)))/(1 - y**2) + (A - I*B*\\omega/(y + 1) - I*B*\\omega/(y - 1) - C*\\omega**2/(2*(y - 1)*(y + 1)) - C*\\omega*(\\omega - 2*I)/(4*(y + 1)**2) - C*\\omega*(\\omega - 2*I)/(4*(y - 1)**2))/((1 - y)**(I*\\omega/2)*(y + 1)**(I*\\omega/2)), 0)"
      ]
     },
     "execution_count": 126,
     "metadata": {},
     "output_type": "execute_result"
    }
   ],
   "source": [
    "sch_0 = sch_0.subs(phi,C)\n",
    "sch_0"
   ]
  },
  {
   "cell_type": "code",
   "execution_count": 127,
   "metadata": {},
   "outputs": [
    {
     "data": {
      "text/latex": [
       "$\\displaystyle \\frac{\\left(1 - y\\right)^{- \\frac{i \\omega}{2}} \\left(y + 1\\right)^{- \\frac{i \\omega}{2}} \\cdot \\left(2 A y^{2} - 2 A - 4 i B \\omega y + 4 B y - 2 C \\omega^{2} - 2 i C \\omega + C\\right)}{2 \\left(y - 1\\right) \\left(y + 1\\right)} = 0$"
      ],
      "text/plain": [
       "Eq((2*A*y**2 - 2*A - 4*I*B*\\omega*y + 4*B*y - 2*C*\\omega**2 - 2*I*C*\\omega + C)/(2*(1 - y)**(I*\\omega/2)*(y - 1)*(y + 1)*(y + 1)**(I*\\omega/2)), 0)"
      ]
     },
     "execution_count": 127,
     "metadata": {},
     "output_type": "execute_result"
    }
   ],
   "source": [
    "sch_0 = factor(sch_0)\n",
    "sch_0"
   ]
  },
  {
   "cell_type": "code",
   "execution_count": 128,
   "metadata": {},
   "outputs": [
    {
     "data": {
      "text/latex": [
       "$\\displaystyle 2 A y^{2} - 2 A - 4 i B \\omega y + 4 B y - 2 C \\omega^{2} - 2 i C \\omega + C$"
      ],
      "text/plain": [
       "2*A*y**2 - 2*A - 4*I*B*\\omega*y + 4*B*y - 2*C*\\omega**2 - 2*I*C*\\omega + C"
      ]
     },
     "execution_count": 128,
     "metadata": {},
     "output_type": "execute_result"
    }
   ],
   "source": [
    "sch0 = sch_0.lhs*2*(y-1)*(y+1)*(1-y)**(I*w/2)*(1+y)**(-I*w/2)*(1+y)**(I*w)\n",
    "sch0"
   ]
  },
  {
   "cell_type": "code",
   "execution_count": 129,
   "metadata": {},
   "outputs": [
    {
     "data": {
      "text/latex": [
       "$\\displaystyle \\frac{A \\left(2 y^{2} - 2\\right) + B \\left(- 4 i \\omega y + 4 y\\right) + C \\left(- 2 \\omega^{2} - 2 i \\omega + 1\\right)}{2 y^{2} - 2}$"
      ],
      "text/plain": [
       "(A*(2*y**2 - 2) + B*(-4*I*\\omega*y + 4*y) + C*(-2*\\omega**2 - 2*I*\\omega + 1))/(2*y**2 - 2)"
      ]
     },
     "execution_count": 129,
     "metadata": {},
     "output_type": "execute_result"
    }
   ],
   "source": [
    "sch0 = collect(sch0,A)\n",
    "sch0 = collect(sch0,B)\n",
    "sch0 = collect(sch0,C)\n",
    "sch0 = sch0/(2*(y**2-1))\n",
    "sch0"
   ]
  },
  {
   "cell_type": "code",
   "execution_count": 130,
   "metadata": {},
   "outputs": [
    {
     "data": {
      "text/latex": [
       "$\\displaystyle \\frac{A \\left(2 y^{2} - 2\\right) + B \\left(- 4 i \\omega y + 4 y\\right) + C \\left(- 2 \\omega^{2} - 2 i \\omega + 1\\right)}{2 y^{2} - 2} = 0$"
      ],
      "text/plain": [
       "Eq((A*(2*y**2 - 2) + B*(-4*I*\\omega*y + 4*y) + C*(-2*\\omega**2 - 2*I*\\omega + 1))/(2*y**2 - 2), 0)"
      ]
     },
     "execution_count": 130,
     "metadata": {},
     "output_type": "execute_result"
    }
   ],
   "source": [
    "sch1 = Eq(sch0,0)\n",
    "sch1"
   ]
  },
  {
   "cell_type": "code",
   "execution_count": 141,
   "metadata": {},
   "outputs": [
    {
     "data": {
      "text/latex": [
       "$\\displaystyle \\frac{A \\left(y^{2} - 1\\right) - 2 B y \\left(i \\omega - 1\\right) - \\frac{C \\left(2 \\omega^{2} + 2 i \\omega - 1\\right)}{2}}{y^{2} - 1} = 0$"
      ],
      "text/plain": [
       "Eq((A*(y**2 - 1) - 2*B*y*(I*\\omega - 1) - C*(2*\\omega**2 + 2*I*\\omega - 1)/2)/(y**2 - 1), 0)"
      ]
     },
     "execution_count": 141,
     "metadata": {},
     "output_type": "execute_result"
    }
   ],
   "source": [
    "simplify(sch1.doit()).doit()"
   ]
  },
  {
   "cell_type": "code",
   "execution_count": null,
   "metadata": {},
   "outputs": [],
   "source": []
  }
 ],
 "metadata": {
  "kernelspec": {
   "display_name": "Python 3",
   "language": "python",
   "name": "python3"
  },
  "language_info": {
   "codemirror_mode": {
    "name": "ipython",
    "version": 3
   },
   "file_extension": ".py",
   "mimetype": "text/x-python",
   "name": "python",
   "nbconvert_exporter": "python",
   "pygments_lexer": "ipython3",
   "version": "3.10.12"
  }
 },
 "nbformat": 4,
 "nbformat_minor": 2
}

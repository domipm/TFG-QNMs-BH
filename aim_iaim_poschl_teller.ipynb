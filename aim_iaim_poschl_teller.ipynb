{
 "cells": [
  {
   "cell_type": "markdown",
   "metadata": {},
   "source": [
    "# Asymptotic Iteration Method (AIM): Poschl-Teller Potential"
   ]
  },
  {
   "cell_type": "markdown",
   "metadata": {},
   "source": [
    "The Poschl-Teller potential is given by: \\\n",
    "\\\n",
    "$ V(x) = \\dfrac{1}{2}\\,\\text{sech}^2(x) = \\dfrac{2}{(e^{-x}+e^x)^2} $"
   ]
  },
  {
   "cell_type": "markdown",
   "metadata": {},
   "source": [
    "# Symbolic Calculations"
   ]
  },
  {
   "cell_type": "markdown",
   "metadata": {},
   "source": [
    "We begin our analysis with the Schrödinger equation: \\\n",
    "\\\n",
    "$ \\dfrac{d^2\\psi}{dx^2} + \\left( \\omega^2 - \\dfrac{1}{2}\\text{sech}^2(x) \\right)\\psi = 0 $"
   ]
  },
  {
   "cell_type": "code",
   "execution_count": 2,
   "metadata": {},
   "outputs": [
    {
     "data": {
      "text/latex": [
       "$\\displaystyle \\left(\\omega^{2} - \\frac{\\operatorname{sech}^{2}{\\left(x \\right)}}{2}\\right) \\psi{\\left(x \\right)} + \\frac{d^{2}}{d x^{2}} \\psi{\\left(x \\right)} = 0$"
      ],
      "text/plain": [
       "Eq((\\omega**2 - sech(x)**2/2)*\\psi(x) + Derivative(\\psi(x), (x, 2)), 0)"
      ]
     },
     "metadata": {},
     "output_type": "display_data"
    }
   ],
   "source": [
    "from sympy import *\n",
    "\n",
    "x,y = symbols(\"x y\", real=True)\n",
    "w = symbols(\"\\omega\")\n",
    "\n",
    "psi = Function(\"\\psi\")(x)\n",
    "psi_y = Function(\"\\psi\")(y)\n",
    "phi = Function(\"\\phi\")(y)\n",
    "\n",
    "sch_eq = Eq( diff(diff(psi,x),x) + (w**2-S(1)/2*sech(x)**2)*psi, 0 )\n",
    "display(sch_eq)"
   ]
  },
  {
   "cell_type": "markdown",
   "metadata": {},
   "source": [
    "It is convenient to write it in terms of a bounded variable. For this, we perform the change of variables $y = \\tanh(x)$."
   ]
  },
  {
   "cell_type": "code",
   "execution_count": 3,
   "metadata": {},
   "outputs": [],
   "source": [
    "#Function to change variables (https://stackoverflow.com/questions/57840957/differential-equation-change-of-variables-with-sympy)\n",
    "def variable_change(ODE,dependent_var, \n",
    "                    independent_var,\n",
    "                    new_dependent_var = None, \n",
    "                    new_independent_var= None, \n",
    "                    dependent_var_relation = None,\n",
    "                    independent_var_relation = None,\n",
    "                    order = 2):\n",
    "\n",
    "    if new_dependent_var == None:\n",
    "        new_dependent_var = dependent_var\n",
    "    if new_independent_var == None:\n",
    "        new_independent_var = independent_var\n",
    "\n",
    "    # dependent variable change\n",
    "\n",
    "    if new_independent_var != independent_var:\n",
    "\n",
    "        for i in range(order, -1, -1):\n",
    "\n",
    "            # remplace derivate\n",
    "            a = diff(dependent_var , independent_var, i )\n",
    "            ξ = Function(\"ξ\")(independent_var)\n",
    "\n",
    "            b = diff( dependent_var.subs(independent_var, ξ),  independent_var  ,i)\n",
    "\n",
    "            rel = solve(independent_var_relation, new_independent_var)[0]\n",
    "\n",
    "            for j in range(order, 0, -1):\n",
    "                b = b.subs( diff(ξ,independent_var,j), diff(rel,independent_var,j))\n",
    "\n",
    "            b = b.subs(ξ, new_independent_var)\n",
    "\n",
    "            rel = solve(independent_var_relation, independent_var)[0]\n",
    "            b = b.subs(independent_var, rel)\n",
    "\n",
    "            ODE =   ODE.subs(a,b)\n",
    "\n",
    "        ODE = ODE.subs(independent_var, rel)\n",
    "\n",
    "    # change of variables of indpendent variable\n",
    "\n",
    "    if new_dependent_var != dependent_var:\n",
    "\n",
    "        ODE = (ODE.subs(dependent_var.subs(independent_var,new_independent_var) , (solve(dependent_var_relation, dependent_var)[0])))\n",
    "        ODE = ODE.doit().expand()\n",
    "\n",
    "    return ODE.simplify()"
   ]
  },
  {
   "cell_type": "code",
   "execution_count": 4,
   "metadata": {},
   "outputs": [
    {
     "data": {
      "text/latex": [
       "$\\displaystyle 2 y \\left(y^{2} - 1\\right) \\frac{d}{d y} \\psi{\\left(y \\right)} + \\left(y^{2} - 1\\right)^{2} \\frac{d^{2}}{d y^{2}} \\psi{\\left(y \\right)} + \\frac{\\left(2 \\omega^{2} + y^{2} - 1\\right) \\psi{\\left(y \\right)}}{2} = 0$"
      ],
      "text/plain": [
       "Eq(2*y*(y**2 - 1)*Derivative(\\psi(y), y) + (y**2 - 1)**2*Derivative(\\psi(y), (y, 2)) + (2*\\omega**2 + y**2 - 1)*\\psi(y)/2, 0)"
      ]
     },
     "metadata": {},
     "output_type": "display_data"
    }
   ],
   "source": [
    "sch_eq_y = variable_change(\n",
    "    ODE=sch_eq,\n",
    "    independent_var=x,\n",
    "    new_independent_var=y,\n",
    "    independent_var_relation=Eq(x,atanh(y)),\n",
    "    dependent_var=psi,\n",
    "    new_dependent_var=psi,\n",
    "    dependent_var_relation=None,\n",
    "    order=2\n",
    ")\n",
    "\n",
    "display(sch_eq_y)"
   ]
  },
  {
   "cell_type": "markdown",
   "metadata": {},
   "source": [
    "We then write the eigenfunction in a form as to include the boundary conditions, $\\psi = (1-y)^{-i\\omega/2}(1+y)^{-i\\omega/2}\\phi$"
   ]
  },
  {
   "cell_type": "code",
   "execution_count": 5,
   "metadata": {},
   "outputs": [
    {
     "data": {
      "text/latex": [
       "$\\displaystyle 2 y \\left(y^{2} - 1\\right) \\left(- \\frac{i \\omega \\left(1 - y\\right)^{- \\frac{i \\omega}{2}} \\left(y + 1\\right)^{- \\frac{i \\omega}{2}} \\phi{\\left(y \\right)}}{2 \\left(y + 1\\right)} + \\frac{i \\omega \\left(1 - y\\right)^{- \\frac{i \\omega}{2}} \\left(y + 1\\right)^{- \\frac{i \\omega}{2}} \\phi{\\left(y \\right)}}{2 \\cdot \\left(1 - y\\right)} + \\left(1 - y\\right)^{- \\frac{i \\omega}{2}} \\left(y + 1\\right)^{- \\frac{i \\omega}{2}} \\frac{d}{d y} \\phi{\\left(y \\right)}\\right) + \\left(1 - y\\right)^{- \\frac{i \\omega}{2}} \\left(y + 1\\right)^{- \\frac{i \\omega}{2}} \\left(y^{2} - 1\\right)^{2} \\left(- \\frac{\\omega^{2} \\phi{\\left(y \\right)}}{2 \\left(y - 1\\right) \\left(y + 1\\right)} - \\frac{\\omega \\left(\\omega - 2 i\\right) \\phi{\\left(y \\right)}}{4 \\left(y + 1\\right)^{2}} - \\frac{\\omega \\left(\\omega - 2 i\\right) \\phi{\\left(y \\right)}}{4 \\left(y - 1\\right)^{2}} - \\frac{i \\omega \\frac{d}{d y} \\phi{\\left(y \\right)}}{y + 1} - \\frac{i \\omega \\frac{d}{d y} \\phi{\\left(y \\right)}}{y - 1} + \\frac{d^{2}}{d y^{2}} \\phi{\\left(y \\right)}\\right) + \\frac{\\left(1 - y\\right)^{- \\frac{i \\omega}{2}} \\left(y + 1\\right)^{- \\frac{i \\omega}{2}} \\cdot \\left(2 \\omega^{2} + y^{2} - 1\\right) \\phi{\\left(y \\right)}}{2} = 0$"
      ],
      "text/plain": [
       "Eq(2*y*(y**2 - 1)*(-I*\\omega*\\phi(y)/(2*(1 - y)**(I*\\omega/2)*(y + 1)*(y + 1)**(I*\\omega/2)) + I*\\omega*\\phi(y)/(2*(1 - y)*(1 - y)**(I*\\omega/2)*(y + 1)**(I*\\omega/2)) + Derivative(\\phi(y), y)/((1 - y)**(I*\\omega/2)*(y + 1)**(I*\\omega/2))) + (y**2 - 1)**2*(-\\omega**2*\\phi(y)/(2*(y - 1)*(y + 1)) - \\omega*(\\omega - 2*I)*\\phi(y)/(4*(y + 1)**2) - \\omega*(\\omega - 2*I)*\\phi(y)/(4*(y - 1)**2) - I*\\omega*Derivative(\\phi(y), y)/(y + 1) - I*\\omega*Derivative(\\phi(y), y)/(y - 1) + Derivative(\\phi(y), (y, 2)))/((1 - y)**(I*\\omega/2)*(y + 1)**(I*\\omega/2)) + (2*\\omega**2 + y**2 - 1)*\\phi(y)/(2*(1 - y)**(I*\\omega/2)*(y + 1)**(I*\\omega/2)), 0)"
      ]
     },
     "metadata": {},
     "output_type": "display_data"
    }
   ],
   "source": [
    "sch_eq_y = sch_eq_y.subs(psi_y,(1-y)**(-I*w/2)*(1+y)**(-I*w/2)*phi).doit()\n",
    "display(sch_eq_y)"
   ]
  },
  {
   "cell_type": "markdown",
   "metadata": {},
   "source": [
    "Simplifying the equation:"
   ]
  },
  {
   "cell_type": "code",
   "execution_count": 6,
   "metadata": {},
   "outputs": [
    {
     "data": {
      "text/latex": [
       "$\\displaystyle \\frac{\\left(1 - y\\right)^{- \\frac{i \\omega}{2}} \\left(y - 1\\right) \\left(y + 1\\right) \\left(y + 1\\right)^{- \\frac{i \\omega}{2}} \\cdot \\left(2 A y^{2} - 2 A - 4 i B \\omega y + 4 B y - 2 C \\omega^{2} - 2 i C \\omega + C\\right)}{2} = 0$"
      ],
      "text/plain": [
       "Eq((y - 1)*(y + 1)*(2*A*y**2 - 2*A - 4*I*B*\\omega*y + 4*B*y - 2*C*\\omega**2 - 2*I*C*\\omega + C)/(2*(1 - y)**(I*\\omega/2)*(y + 1)**(I*\\omega/2)), 0)"
      ]
     },
     "metadata": {},
     "output_type": "display_data"
    }
   ],
   "source": [
    "A,B,C = symbols(\"A B C\") #A,B,C represent second, first and zero-th order derivatives of phi\n",
    "sch_eq_y = sch_eq_y.subs( diff(diff(phi,y),y), A ).subs( diff(phi,y), B ).subs(phi, C)\n",
    "sch_eq_y = factor(sch_eq_y)\n",
    "display(sch_eq_y)"
   ]
  },
  {
   "cell_type": "code",
   "execution_count": 7,
   "metadata": {},
   "outputs": [
    {
     "data": {
      "text/latex": [
       "$\\displaystyle \\frac{\\left(1 - y\\right)^{- \\frac{i \\omega}{2}} \\left(y - 1\\right) \\left(y + 1\\right) \\left(y + 1\\right)^{- \\frac{i \\omega}{2}} \\left(A \\left(2 y^{2} - 2\\right) + B \\left(- 4 i \\omega y + 4 y\\right) + C \\left(- 2 \\omega^{2} - 2 i \\omega + 1\\right)\\right)}{2} = 0$"
      ],
      "text/plain": [
       "Eq((y - 1)*(y + 1)*(A*(2*y**2 - 2) + B*(-4*I*\\omega*y + 4*y) + C*(-2*\\omega**2 - 2*I*\\omega + 1))/(2*(1 - y)**(I*\\omega/2)*(y + 1)**(I*\\omega/2)), 0)"
      ]
     },
     "metadata": {},
     "output_type": "display_data"
    }
   ],
   "source": [
    "sch_eq_y = Eq(sch_eq_y.lhs.collect(A).collect(B).collect(C),0) #Collect terms\n",
    "display(sch_eq_y)"
   ]
  },
  {
   "cell_type": "code",
   "execution_count": 8,
   "metadata": {},
   "outputs": [
    {
     "data": {
      "text/latex": [
       "$\\displaystyle \\left(1 - y\\right)^{- \\frac{i \\omega}{2} + 1} \\left(y + 1\\right)^{- \\frac{i \\omega}{2} + 1} \\left(- A \\left(y^{2} - 1\\right) + 2 B y \\left(i \\omega - 1\\right) + \\frac{C \\left(2 \\omega^{2} + 2 i \\omega - 1\\right)}{2}\\right) = 0$"
      ],
      "text/plain": [
       "Eq((1 - y)**(-I*\\omega/2 + 1)*(y + 1)**(-I*\\omega/2 + 1)*(-A*(y**2 - 1) + 2*B*y*(I*\\omega - 1) + C*(2*\\omega**2 + 2*I*\\omega - 1)/2), 0)"
      ]
     },
     "metadata": {},
     "output_type": "display_data"
    }
   ],
   "source": [
    "with assuming(Q.is_true(y != 1), Q.is_true(y != -1)):\n",
    "    sch_eq_y = sch_eq_y.simplify()\n",
    "\n",
    "display(sch_eq_y)"
   ]
  },
  {
   "cell_type": "code",
   "execution_count": 9,
   "metadata": {},
   "outputs": [
    {
     "data": {
      "text/latex": [
       "$\\displaystyle \\left(1 - y\\right)^{- \\frac{i \\omega}{2} + 1} \\left(y + 1\\right)^{- \\frac{i \\omega}{2} + 1} \\left(- A \\left(y^{2} - 1\\right) + 2 B y \\left(i \\omega - 1\\right) + \\frac{C \\left(2 \\omega^{2} + 2 i \\omega - 1\\right)}{2}\\right) = 0$"
      ],
      "text/plain": [
       "Eq((1 - y)**(-I*\\omega/2 + 1)*(y + 1)**(-I*\\omega/2 + 1)*(-A*(y**2 - 1) + 2*B*y*(I*\\omega - 1) + C*(2*\\omega**2 + 2*I*\\omega - 1)/2), 0)"
      ]
     },
     "metadata": {},
     "output_type": "display_data"
    }
   ],
   "source": [
    "with assuming(Q.is_true( (1-y)**(-I*w/2 + 1) != 0 ), Q.is_true( (y+1)**(-I*w/2+1) != 0 )):\n",
    "    sch_eq_y = sch_eq_y.simplify().doit()\n",
    "\n",
    "display(sch_eq_y)"
   ]
  },
  {
   "cell_type": "code",
   "execution_count": 10,
   "metadata": {},
   "outputs": [
    {
     "data": {
      "text/latex": [
       "$\\displaystyle - A \\left(y^{2} - 1\\right) + 2 B y \\left(i \\omega - 1\\right) + \\frac{C \\left(2 \\omega^{2} + 2 i \\omega - 1\\right)}{2} = 0$"
      ],
      "text/plain": [
       "Eq(-A*(y**2 - 1) + 2*B*y*(I*\\omega - 1) + C*(2*\\omega**2 + 2*I*\\omega - 1)/2, 0)"
      ]
     },
     "metadata": {},
     "output_type": "display_data"
    }
   ],
   "source": [
    "#Hard-coded divide by common factor\n",
    "sch_eq_y = Eq( (sch_eq_y.lhs * (1-y)**(I*w/2 - 1) * (1+y)**(I*w/2 - 1) ).simplify() , 0)\n",
    "display(sch_eq_y)"
   ]
  },
  {
   "cell_type": "code",
   "execution_count": 11,
   "metadata": {},
   "outputs": [
    {
     "data": {
      "text/latex": [
       "$\\displaystyle \\frac{2 y \\left(i \\omega - 1\\right) \\frac{d}{d y} \\phi{\\left(y \\right)}}{y^{2} - 1} + \\frac{\\left(2 \\omega^{2} + i \\omega^{2} - 1\\right) \\phi{\\left(y \\right)}}{2 y^{2} - 2} = \\frac{d^{2}}{d y^{2}} \\phi{\\left(y \\right)}$"
      ],
      "text/plain": [
       "Eq(2*y*(I*\\omega - 1)*Derivative(\\phi(y), y)/(y**2 - 1) + (2*\\omega**2 + I*\\omega**2 - 1)*\\phi(y)/(2*y**2 - 2), Derivative(\\phi(y), (y, 2)))"
      ]
     },
     "metadata": {},
     "output_type": "display_data"
    }
   ],
   "source": [
    "#We have the same expression as in the paper\n",
    "sch_eq_y = Eq( 2*B*y*(I*w-1)/(y**2-1) + C*(2*w**2+w*I*w - 1)/(2*(y**2-1)), A ).subs(A, diff(diff(phi,y),y)).subs(B, diff(phi,y)).subs(C,phi)\n",
    "display(sch_eq_y)"
   ]
  },
  {
   "cell_type": "markdown",
   "metadata": {},
   "source": [
    "Schrödinger-like equation after change of coordinates"
   ]
  },
  {
   "cell_type": "markdown",
   "metadata": {},
   "source": [
    "$ \\dfrac{d^2\\psi}{dx^2} + \\left( \\omega^2 - \\dfrac{1}{2}\\text{sech}^2(x) \\right)\\psi = 0 \\implies  \\dfrac{d^2\\phi}{dy^2} = \\dfrac{2y(1-iw)}{1-y^2}\\dfrac{d\\phi}{dy} + \\dfrac{1-2iw-2w^2}{2(1-y^2)}\\phi $"
   ]
  },
  {
   "cell_type": "markdown",
   "metadata": {},
   "source": [
    "where $y = \\text{tanh}(x)$ and $\\psi = (1-y)^{-i\\omega/2}(1+y)^{-i\\omega/2}\\phi$ (which fulfills the necessary boundary conditions)"
   ]
  },
  {
   "cell_type": "markdown",
   "metadata": {},
   "source": [
    "# AIM algorithm"
   ]
  },
  {
   "cell_type": "markdown",
   "metadata": {},
   "source": [
    "### AIM Parameters\n",
    "\n",
    "$ \\lambda_0 = \\dfrac{2y(1-iw)}{1-y^2} \\qquad s_0 = \\dfrac{1-2iw-2w^2}{2(1-y^2)} $"
   ]
  },
  {
   "cell_type": "markdown",
   "metadata": {},
   "source": [
    "### Recursion relations\n",
    "$ \\lambda_n = \\lambda'_{n-1} + s_{n-1} + \\lambda_0\\lambda_{n-1} \\qquad s_n = s'_{n-1} + s_0\\lambda_{n-1} $"
   ]
  },
  {
   "cell_type": "markdown",
   "metadata": {},
   "source": [
    "### Quantization condition\n",
    "\n",
    "$ \\delta_n = s_n\\lambda_{n-1} - s_{n-1}\\lambda_n $"
   ]
  },
  {
   "cell_type": "markdown",
   "metadata": {},
   "source": [
    "Import necessary libraries"
   ]
  },
  {
   "cell_type": "code",
   "execution_count": 12,
   "metadata": {},
   "outputs": [],
   "source": [
    "import numpy as np\n",
    "import matplotlib.pyplot as plt\n",
    "from sympy import *\n",
    "\n",
    "N = 1000\n",
    "\n",
    "y = symbols(\"y\", real=True)\n",
    "w = symbols(\"\\omega\")\n",
    "\n",
    "l = np.empty(N,dtype=object)\n",
    "lp = np.empty(N,dtype=object)\n",
    "s = np.empty(N,dtype=object)\n",
    "sp = np.empty(N,dtype=object)\n",
    "\n",
    "d = np.empty(N,dtype=object)\n",
    "\n",
    "l[0] = (2*y*(1-I*w))/(1-y**2)\n",
    "s[0] = (1-2*I*w-2*w**2)/(2*(1-y**2))"
   ]
  },
  {
   "cell_type": "markdown",
   "metadata": {},
   "source": [
    "Next, compute first derivatives of lambda and s parameters"
   ]
  },
  {
   "cell_type": "code",
   "execution_count": 13,
   "metadata": {},
   "outputs": [],
   "source": [
    "lp[0] = diff(l[0],y)\n",
    "sp[0] = diff(s[0],y)"
   ]
  },
  {
   "cell_type": "code",
   "execution_count": 14,
   "metadata": {},
   "outputs": [
    {
     "data": {
      "text/latex": [
       "$\\displaystyle \\frac{4 y^{2} \\left(- i \\omega + 1\\right)}{\\left(1 - y^{2}\\right)^{2}} + \\frac{2 \\left(- i \\omega + 1\\right)}{1 - y^{2}}$"
      ],
      "text/plain": [
       "4*y**2*(-I*\\omega + 1)/(1 - y**2)**2 + 2*(-I*\\omega + 1)/(1 - y**2)"
      ]
     },
     "execution_count": 14,
     "metadata": {},
     "output_type": "execute_result"
    }
   ],
   "source": [
    "lp[0]"
   ]
  },
  {
   "cell_type": "code",
   "execution_count": 15,
   "metadata": {},
   "outputs": [
    {
     "data": {
      "text/latex": [
       "$\\displaystyle \\frac{4 y \\left(- 2 \\omega^{2} - 2 i \\omega + 1\\right)}{\\left(2 - 2 y^{2}\\right)^{2}}$"
      ],
      "text/plain": [
       "4*y*(-2*\\omega**2 - 2*I*\\omega + 1)/(2 - 2*y**2)**2"
      ]
     },
     "execution_count": 15,
     "metadata": {},
     "output_type": "execute_result"
    }
   ],
   "source": [
    "sp[0]"
   ]
  },
  {
   "cell_type": "markdown",
   "metadata": {},
   "source": [
    "Calculate n-th (1st) values of lambda and s parameter"
   ]
  },
  {
   "cell_type": "code",
   "execution_count": 16,
   "metadata": {},
   "outputs": [],
   "source": [
    "l[1] = lp[0]+s[0]+l[0]*l[0]\n",
    "s[1] = sp[0] + s[0]*l[0]"
   ]
  },
  {
   "cell_type": "markdown",
   "metadata": {},
   "source": [
    "Evaluate the quantization condition $\\delta_n$ at point $y = 0$ obtaining polynomial in $\\omega$"
   ]
  },
  {
   "cell_type": "code",
   "execution_count": 17,
   "metadata": {},
   "outputs": [
    {
     "data": {
      "text/latex": [
       "$\\displaystyle \\frac{2 y \\left(- i \\omega + 1\\right) \\left(\\frac{4 y \\left(- 2 \\omega^{2} - 2 i \\omega + 1\\right)}{\\left(2 - 2 y^{2}\\right)^{2}} + \\frac{2 y \\left(- i \\omega + 1\\right) \\left(- 2 \\omega^{2} - 2 i \\omega + 1\\right)}{\\left(1 - y^{2}\\right) \\left(2 - 2 y^{2}\\right)}\\right)}{1 - y^{2}} - \\frac{\\left(- 2 \\omega^{2} - 2 i \\omega + 1\\right) \\left(\\frac{4 y^{2} \\left(- i \\omega + 1\\right)^{2}}{\\left(1 - y^{2}\\right)^{2}} + \\frac{4 y^{2} \\left(- i \\omega + 1\\right)}{\\left(1 - y^{2}\\right)^{2}} + \\frac{- 2 \\omega^{2} - 2 i \\omega + 1}{2 - 2 y^{2}} + \\frac{2 \\left(- i \\omega + 1\\right)}{1 - y^{2}}\\right)}{2 - 2 y^{2}}$"
      ],
      "text/plain": [
       "2*y*(-I*\\omega + 1)*(4*y*(-2*\\omega**2 - 2*I*\\omega + 1)/(2 - 2*y**2)**2 + 2*y*(-I*\\omega + 1)*(-2*\\omega**2 - 2*I*\\omega + 1)/((1 - y**2)*(2 - 2*y**2)))/(1 - y**2) - (-2*\\omega**2 - 2*I*\\omega + 1)*(4*y**2*(-I*\\omega + 1)**2/(1 - y**2)**2 + 4*y**2*(-I*\\omega + 1)/(1 - y**2)**2 + (-2*\\omega**2 - 2*I*\\omega + 1)/(2 - 2*y**2) + 2*(-I*\\omega + 1)/(1 - y**2))/(2 - 2*y**2)"
      ]
     },
     "execution_count": 17,
     "metadata": {},
     "output_type": "execute_result"
    }
   ],
   "source": [
    "d[1] = s[1]*l[0] - s[0]*l[1]\n",
    "#d[1].subs(y,0)\n",
    "p = simplify(d[1].subs(y,0))\n",
    "d[1]\n"
   ]
  },
  {
   "cell_type": "code",
   "execution_count": 18,
   "metadata": {},
   "outputs": [
    {
     "data": {
      "text/latex": [
       "$\\displaystyle - \\omega^{4} - 4 i \\omega^{3} + 6 \\omega^{2} + 4 i \\omega - \\frac{5}{4}$"
      ],
      "text/plain": [
       "-\\omega**4 - 4*I*\\omega**3 + 6*\\omega**2 + 4*I*\\omega - 5/4"
      ]
     },
     "execution_count": 18,
     "metadata": {},
     "output_type": "execute_result"
    }
   ],
   "source": [
    "p"
   ]
  },
  {
   "cell_type": "markdown",
   "metadata": {},
   "source": [
    "Solve the polynomial for the solution of $\\omega$, taking only those with negative imaginary part and positive real part"
   ]
  },
  {
   "cell_type": "code",
   "execution_count": 19,
   "metadata": {},
   "outputs": [
    {
     "name": "stdout",
     "output_type": "stream",
     "text": [
      "All solutions: [-1/2 - 3*I/2, -1/2 - I/2, 1/2 - 3*I/2, 1/2 - I/2]\n",
      "Filtered solutions:\n",
      "w_3 = 1/2 - 3*I/2\n",
      "w_4 = 1/2 - I/2\n"
     ]
    }
   ],
   "source": [
    "sols = solve(p)\n",
    "print(\"All solutions: \" + str(sols))\n",
    "print(\"Filtered solutions:\")\n",
    "for i in range(len(sols)):\n",
    "    if re(sols[i]) > 0 and  im(sols[i]) < 0:\n",
    "        print(\"w_\" + str(i+1) + \" = \" + str(sols[i]))"
   ]
  },
  {
   "cell_type": "markdown",
   "metadata": {},
   "source": [
    "### Second Iteration"
   ]
  },
  {
   "cell_type": "code",
   "execution_count": 20,
   "metadata": {},
   "outputs": [],
   "source": [
    "lp[1] = diff(l[1],y)\n",
    "sp[1] = diff(s[1],y)\n",
    "l[2] = lp[1] + s[1] + l[0]*l[1]\n",
    "s[2] = sp[1] + s[0]*l[1]"
   ]
  },
  {
   "cell_type": "code",
   "execution_count": 21,
   "metadata": {},
   "outputs": [
    {
     "data": {
      "text/latex": [
       "$\\displaystyle - \\left(\\frac{4 y \\left(- 2 \\omega^{2} - 2 i \\omega + 1\\right)}{\\left(2 - 2 y^{2}\\right)^{2}} + \\frac{2 y \\left(- i \\omega + 1\\right) \\left(- 2 \\omega^{2} - 2 i \\omega + 1\\right)}{\\left(1 - y^{2}\\right) \\left(2 - 2 y^{2}\\right)}\\right) \\left(\\frac{16 y^{3} \\left(- i \\omega + 1\\right)^{2}}{\\left(1 - y^{2}\\right)^{3}} + \\frac{16 y^{3} \\left(- i \\omega + 1\\right)}{\\left(1 - y^{2}\\right)^{3}} + \\frac{8 y \\left(- 2 \\omega^{2} - 2 i \\omega + 1\\right)}{\\left(2 - 2 y^{2}\\right)^{2}} + \\frac{2 y \\left(- i \\omega + 1\\right) \\left(\\frac{4 y^{2} \\left(- i \\omega + 1\\right)^{2}}{\\left(1 - y^{2}\\right)^{2}} + \\frac{4 y^{2} \\left(- i \\omega + 1\\right)}{\\left(1 - y^{2}\\right)^{2}} + \\frac{- 2 \\omega^{2} - 2 i \\omega + 1}{2 - 2 y^{2}} + \\frac{2 \\left(- i \\omega + 1\\right)}{1 - y^{2}}\\right)}{1 - y^{2}} + \\frac{2 y \\left(- i \\omega + 1\\right) \\left(- 2 \\omega^{2} - 2 i \\omega + 1\\right)}{\\left(1 - y^{2}\\right) \\left(2 - 2 y^{2}\\right)} + \\frac{8 y \\left(- i \\omega + 1\\right)^{2}}{\\left(1 - y^{2}\\right)^{2}} + \\frac{12 y \\left(- i \\omega + 1\\right)}{\\left(1 - y^{2}\\right)^{2}}\\right) + \\left(\\frac{4 y^{2} \\left(- i \\omega + 1\\right)^{2}}{\\left(1 - y^{2}\\right)^{2}} + \\frac{4 y^{2} \\left(- i \\omega + 1\\right)}{\\left(1 - y^{2}\\right)^{2}} + \\frac{- 2 \\omega^{2} - 2 i \\omega + 1}{2 - 2 y^{2}} + \\frac{2 \\left(- i \\omega + 1\\right)}{1 - y^{2}}\\right) \\left(\\frac{32 y^{2} \\left(- 2 \\omega^{2} - 2 i \\omega + 1\\right)}{\\left(2 - 2 y^{2}\\right)^{3}} + \\frac{8 y^{2} \\left(- i \\omega + 1\\right) \\left(- 2 \\omega^{2} - 2 i \\omega + 1\\right)}{\\left(1 - y^{2}\\right) \\left(2 - 2 y^{2}\\right)^{2}} + \\frac{4 y^{2} \\left(- i \\omega + 1\\right) \\left(- 2 \\omega^{2} - 2 i \\omega + 1\\right)}{\\left(1 - y^{2}\\right)^{2} \\cdot \\left(2 - 2 y^{2}\\right)} + \\frac{\\left(- 2 \\omega^{2} - 2 i \\omega + 1\\right) \\left(\\frac{4 y^{2} \\left(- i \\omega + 1\\right)^{2}}{\\left(1 - y^{2}\\right)^{2}} + \\frac{4 y^{2} \\left(- i \\omega + 1\\right)}{\\left(1 - y^{2}\\right)^{2}} + \\frac{- 2 \\omega^{2} - 2 i \\omega + 1}{2 - 2 y^{2}} + \\frac{2 \\left(- i \\omega + 1\\right)}{1 - y^{2}}\\right)}{2 - 2 y^{2}} + \\frac{4 \\left(- 2 \\omega^{2} - 2 i \\omega + 1\\right)}{\\left(2 - 2 y^{2}\\right)^{2}} + \\frac{2 \\left(- i \\omega + 1\\right) \\left(- 2 \\omega^{2} - 2 i \\omega + 1\\right)}{\\left(1 - y^{2}\\right) \\left(2 - 2 y^{2}\\right)}\\right)$"
      ],
      "text/plain": [
       "-(4*y*(-2*\\omega**2 - 2*I*\\omega + 1)/(2 - 2*y**2)**2 + 2*y*(-I*\\omega + 1)*(-2*\\omega**2 - 2*I*\\omega + 1)/((1 - y**2)*(2 - 2*y**2)))*(16*y**3*(-I*\\omega + 1)**2/(1 - y**2)**3 + 16*y**3*(-I*\\omega + 1)/(1 - y**2)**3 + 8*y*(-2*\\omega**2 - 2*I*\\omega + 1)/(2 - 2*y**2)**2 + 2*y*(-I*\\omega + 1)*(4*y**2*(-I*\\omega + 1)**2/(1 - y**2)**2 + 4*y**2*(-I*\\omega + 1)/(1 - y**2)**2 + (-2*\\omega**2 - 2*I*\\omega + 1)/(2 - 2*y**2) + 2*(-I*\\omega + 1)/(1 - y**2))/(1 - y**2) + 2*y*(-I*\\omega + 1)*(-2*\\omega**2 - 2*I*\\omega + 1)/((1 - y**2)*(2 - 2*y**2)) + 8*y*(-I*\\omega + 1)**2/(1 - y**2)**2 + 12*y*(-I*\\omega + 1)/(1 - y**2)**2) + (4*y**2*(-I*\\omega + 1)**2/(1 - y**2)**2 + 4*y**2*(-I*\\omega + 1)/(1 - y**2)**2 + (-2*\\omega**2 - 2*I*\\omega + 1)/(2 - 2*y**2) + 2*(-I*\\omega + 1)/(1 - y**2))*(32*y**2*(-2*\\omega**2 - 2*I*\\omega + 1)/(2 - 2*y**2)**3 + 8*y**2*(-I*\\omega + 1)*(-2*\\omega**2 - 2*I*\\omega + 1)/((1 - y**2)*(2 - 2*y**2)**2) + 4*y**2*(-I*\\omega + 1)*(-2*\\omega**2 - 2*I*\\omega + 1)/((1 - y**2)**2*(2 - 2*y**2)) + (-2*\\omega**2 - 2*I*\\omega + 1)*(4*y**2*(-I*\\omega + 1)**2/(1 - y**2)**2 + 4*y**2*(-I*\\omega + 1)/(1 - y**2)**2 + (-2*\\omega**2 - 2*I*\\omega + 1)/(2 - 2*y**2) + 2*(-I*\\omega + 1)/(1 - y**2))/(2 - 2*y**2) + 4*(-2*\\omega**2 - 2*I*\\omega + 1)/(2 - 2*y**2)**2 + 2*(-I*\\omega + 1)*(-2*\\omega**2 - 2*I*\\omega + 1)/((1 - y**2)*(2 - 2*y**2)))"
      ]
     },
     "execution_count": 21,
     "metadata": {},
     "output_type": "execute_result"
    }
   ],
   "source": [
    "d[2] = s[2]*l[1] - s[1]*l[2]\n",
    "d[2]"
   ]
  },
  {
   "cell_type": "code",
   "execution_count": 22,
   "metadata": {},
   "outputs": [
    {
     "data": {
      "text/latex": [
       "$\\displaystyle - \\omega^{6} - 9 i \\omega^{5} + \\frac{65 \\omega^{4}}{2} + 60 i \\omega^{3} - \\frac{241 \\omega^{2}}{4} - \\frac{129 i \\omega}{4} + \\frac{65}{8}$"
      ],
      "text/plain": [
       "-\\omega**6 - 9*I*\\omega**5 + 65*\\omega**4/2 + 60*I*\\omega**3 - 241*\\omega**2/4 - 129*I*\\omega/4 + 65/8"
      ]
     },
     "execution_count": 22,
     "metadata": {},
     "output_type": "execute_result"
    }
   ],
   "source": [
    "p = simplify(d[2].subs(y,0))\n",
    "p"
   ]
  },
  {
   "cell_type": "code",
   "execution_count": 23,
   "metadata": {},
   "outputs": [
    {
     "name": "stdout",
     "output_type": "stream",
     "text": [
      "All solutions: [-1/2 - 5*I/2, -1/2 - 3*I/2, -1/2 - I/2, 1/2 - 5*I/2, 1/2 - 3*I/2, 1/2 - I/2]\n",
      "Filtered solutions:\n",
      "w_4 = 1/2 - 5*I/2\n",
      "w_5 = 1/2 - 3*I/2\n",
      "w_6 = 1/2 - I/2\n"
     ]
    }
   ],
   "source": [
    "sols = solve(p)\n",
    "print(\"All solutions: \" + str(sols))\n",
    "print(\"Filtered solutions:\")\n",
    "for i in range(len(sols)):\n",
    "    if re(sols[i]) > 0 and  im(sols[i]) < 0:\n",
    "        print(\"w_\" + str(i+1) + \" = \" + str(sols[i]))"
   ]
  },
  {
   "cell_type": "markdown",
   "metadata": {},
   "source": [
    "### Third iteration"
   ]
  },
  {
   "cell_type": "code",
   "execution_count": 24,
   "metadata": {},
   "outputs": [
    {
     "name": "stdout",
     "output_type": "stream",
     "text": [
      "All solutions: [-1/2 - 7*I/2, -1/2 - 5*I/2, -1/2 - 3*I/2, -1/2 - I/2, 1/2 - 7*I/2, 1/2 - 5*I/2, 1/2 - 3*I/2, 1/2 - I/2]\n",
      "Filtered solutions:\n",
      "w_5 = 1/2 - 7*I/2\n",
      "w_6 = 1/2 - 5*I/2\n",
      "w_7 = 1/2 - 3*I/2\n",
      "w_8 = 1/2 - I/2\n"
     ]
    }
   ],
   "source": [
    "lp[2] = diff(l[2],y)\n",
    "sp[2] = diff(s[2],y)\n",
    "l[3] = lp[2] + s[2] + l[0]*l[2]\n",
    "s[3] = sp[2] + s[0]*l[2]\n",
    "d[3] = s[3]*l[2] - s[2]*l[3]\n",
    "p = simplify(d[3].subs(y,0))\n",
    "sols = solve(p)\n",
    "print(\"All solutions: \" + str(sols))\n",
    "print(\"Filtered solutions:\")\n",
    "for i in range(len(sols)):\n",
    "    if re(sols[i]) > 0 and  im(sols[i]) < 0:\n",
    "        print(\"w_\" + str(i+1) + \" = \" + str(sols[i]))"
   ]
  },
  {
   "cell_type": "markdown",
   "metadata": {},
   "source": [
    "### Fourth iteration"
   ]
  },
  {
   "cell_type": "code",
   "execution_count": 25,
   "metadata": {},
   "outputs": [
    {
     "name": "stdout",
     "output_type": "stream",
     "text": [
      "All solutions: [-1/2 - 9*I/2, -1/2 - 7*I/2, -1/2 - 5*I/2, -1/2 - 3*I/2, -1/2 - I/2, 1/2 - 9*I/2, 1/2 - 7*I/2, 1/2 - 5*I/2, 1/2 - 3*I/2, 1/2 - I/2]\n",
      "Filtered solutions:\n",
      "w_6 = 1/2 - 9*I/2\n",
      "w_7 = 1/2 - 7*I/2\n",
      "w_8 = 1/2 - 5*I/2\n",
      "w_9 = 1/2 - 3*I/2\n",
      "w_10 = 1/2 - I/2\n"
     ]
    }
   ],
   "source": [
    "lp[3] = diff(l[3],y)\n",
    "sp[3] = diff(s[3],y)\n",
    "l[4] = lp[3] + s[3] + l[0]*l[3]\n",
    "s[4] = sp[3] + s[0]*l[3]\n",
    "d[4] = s[4]*l[3] - s[3]*l[4]\n",
    "p = simplify(d[4].subs(y,0))\n",
    "sols = solve(p)\n",
    "print(\"All solutions: \" + str(sols))\n",
    "print(\"Filtered solutions:\")\n",
    "for i in range(len(sols)):\n",
    "    if re(sols[i]) > 0 and  im(sols[i]) < 0:\n",
    "        print(\"w_\" + str(i+1) + \" = \" + str(sols[i]))"
   ]
  },
  {
   "cell_type": "markdown",
   "metadata": {},
   "source": [
    "# Improved AIM Algorithm (IAIM)"
   ]
  },
  {
   "cell_type": "markdown",
   "metadata": {},
   "source": [
    "Main idea, expand by Taylor series the coefficients $\\lambda_n$ and $s_n$, evaluated at point $y = y_0$, as: \\\n",
    "\\\n",
    "$ \\lambda_n = \\sum_{k}  c_n^k (y-y_0)^k $ \\\n",
    "\\\n",
    "$ s_n = \\sum_{k} d_n^k (y-y_0)^k  $"
   ]
  },
  {
   "cell_type": "markdown",
   "metadata": {},
   "source": [
    "The coefficients follow a recursion relation (matrix elements row $i$ column $n$ of matrices $C$ and $D$): \\\n",
    "\\\n",
    "$ c_{n+1}^i = (i+1)c_{n}^{i+1} + d_{n}^i + \\sum_k c_0^kc_{n}^{i-k} $ \\\n",
    "\\\n",
    "$ d_{n+1}^i = (i+1)d_{n}^{i+1} \\sum_k d_0^k c_{n}^{i-k} $"
   ]
  },
  {
   "cell_type": "markdown",
   "metadata": {},
   "source": [
    "The quantization condition can be written as (for the n-th iteration): \\\n",
    "\\\n",
    "$\\qquad \\delta_n^0= c_{n-1}^0 - d_{n-1}^0c_n^0 = 0 $"
   ]
  },
  {
   "cell_type": "markdown",
   "metadata": {},
   "source": [
    "Parameters: \\\n",
    "\\\n",
    "$\\qquad \\lambda_0 = \\dfrac{2y(1-iw)}{1-y^2} \\qquad s_0 = \\dfrac{1-2iw-2w^2}{2(1-y^2)} $"
   ]
  },
  {
   "cell_type": "code",
   "execution_count": 185,
   "metadata": {},
   "outputs": [],
   "source": [
    "import numpy as np\n",
    "from sympy import *\n",
    "\n",
    "y = symbols(\"y\", real=True)\n",
    "w = symbols(\"\\omega\")\n",
    "\n",
    "N = 20 #NUMBER OF ITERATIONS TO PERFORM\n",
    "\n",
    "#INITIAL PARAMETERS\n",
    "l0 = (2*y*(1-I*w))/(1-y**2)\n",
    "s0 = (1-2*I*w-2*w**2)/(2*(1-y**2))"
   ]
  },
  {
   "cell_type": "markdown",
   "metadata": {},
   "source": [
    "We must compute the Taylor series expansion of the parameters $\\lambda_0$ and $s_0$ up to the term $N$"
   ]
  },
  {
   "cell_type": "code",
   "execution_count": 186,
   "metadata": {},
   "outputs": [],
   "source": [
    "#FUNCTION THAT GETS COEFFICIENTS AS LIST FROM SERIES EXPANSION\n",
    "def get_coeff(a):\n",
    "    \n",
    "    coeff = []\n",
    "    coeff = np.append(coeff, a.subs(y,0))\n",
    "    for i in range(1,N):\n",
    "        coeff = np.append(coeff, a.coeff(y**i))\n",
    "\n",
    "    return coeff"
   ]
  },
  {
   "cell_type": "code",
   "execution_count": 187,
   "metadata": {},
   "outputs": [
    {
     "data": {
      "text/latex": [
       "$\\displaystyle y^{19} \\left(- 2 i \\omega + 2\\right) + y^{17} \\left(- 2 i \\omega + 2\\right) + y^{15} \\left(- 2 i \\omega + 2\\right) + y^{13} \\left(- 2 i \\omega + 2\\right) + y^{11} \\left(- 2 i \\omega + 2\\right) + y^{9} \\left(- 2 i \\omega + 2\\right) + y^{7} \\left(- 2 i \\omega + 2\\right) + y^{5} \\left(- 2 i \\omega + 2\\right) + y^{3} \\left(- 2 i \\omega + 2\\right) + y \\left(- 2 i \\omega + 2\\right)$"
      ],
      "text/plain": [
       "y**19*(-2*I*\\omega + 2) + y**17*(-2*I*\\omega + 2) + y**15*(-2*I*\\omega + 2) + y**13*(-2*I*\\omega + 2) + y**11*(-2*I*\\omega + 2) + y**9*(-2*I*\\omega + 2) + y**7*(-2*I*\\omega + 2) + y**5*(-2*I*\\omega + 2) + y**3*(-2*I*\\omega + 2) + y*(-2*I*\\omega + 2)"
      ]
     },
     "metadata": {},
     "output_type": "display_data"
    },
    {
     "data": {
      "text/latex": [
       "$\\displaystyle - \\omega^{2} - i \\omega + y^{18} \\left(- \\omega^{2} - i \\omega + \\frac{1}{2}\\right) + y^{16} \\left(- \\omega^{2} - i \\omega + \\frac{1}{2}\\right) + y^{14} \\left(- \\omega^{2} - i \\omega + \\frac{1}{2}\\right) + y^{12} \\left(- \\omega^{2} - i \\omega + \\frac{1}{2}\\right) + y^{10} \\left(- \\omega^{2} - i \\omega + \\frac{1}{2}\\right) + y^{8} \\left(- \\omega^{2} - i \\omega + \\frac{1}{2}\\right) + y^{6} \\left(- \\omega^{2} - i \\omega + \\frac{1}{2}\\right) + y^{4} \\left(- \\omega^{2} - i \\omega + \\frac{1}{2}\\right) + y^{2} \\left(- \\omega^{2} - i \\omega + \\frac{1}{2}\\right) + \\frac{1}{2}$"
      ],
      "text/plain": [
       "-\\omega**2 - I*\\omega + y**18*(-\\omega**2 - I*\\omega + 1/2) + y**16*(-\\omega**2 - I*\\omega + 1/2) + y**14*(-\\omega**2 - I*\\omega + 1/2) + y**12*(-\\omega**2 - I*\\omega + 1/2) + y**10*(-\\omega**2 - I*\\omega + 1/2) + y**8*(-\\omega**2 - I*\\omega + 1/2) + y**6*(-\\omega**2 - I*\\omega + 1/2) + y**4*(-\\omega**2 - I*\\omega + 1/2) + y**2*(-\\omega**2 - I*\\omega + 1/2) + 1/2"
      ]
     },
     "metadata": {},
     "output_type": "display_data"
    }
   ],
   "source": [
    "l0_series = series(l0,y,0,N).removeO()\n",
    "display(l0_series.collect(y))\n",
    "s0_series = series(s0,y,0,N).removeO()\n",
    "display(s0_series.collect(y))\n",
    "l0_coeff = get_coeff(l0_series)\n",
    "s0_coeff = get_coeff(s0_series)"
   ]
  },
  {
   "cell_type": "markdown",
   "metadata": {},
   "source": [
    "The coefficients of these series expansions are columns of the matrices $C$ and $D$, with $i$ index representing the rows of the column, and $N$ (iteration number) representing the column. We begin by defining the first column of $C$ ($D$) as the coefficients of the Taylor expansion of $\\lambda_0$ ($s_0$)."
   ]
  },
  {
   "cell_type": "code",
   "execution_count": 188,
   "metadata": {},
   "outputs": [],
   "source": [
    "C = np.zeros((N,N+1),dtype=object)\n",
    "D = np.zeros((N,N+1),dtype=object)\n",
    "\n",
    "#Initial parameters\n",
    "for i in range(N):\n",
    "    C[i,0] = l0_coeff[i]\n",
    "for i in range(N):\n",
    "    D[i,0] = s0_coeff[i]"
   ]
  },
  {
   "cell_type": "code",
   "execution_count": 189,
   "metadata": {},
   "outputs": [],
   "source": [
    "#display((Matrix(C)))\n",
    "#display((Matrix(D)))"
   ]
  },
  {
   "cell_type": "markdown",
   "metadata": {},
   "source": [
    "Now, we can calculate the next columns of the matrix using the recursion equations given previously."
   ]
  },
  {
   "cell_type": "code",
   "execution_count": 190,
   "metadata": {},
   "outputs": [],
   "source": [
    "for n in range(0,N-1): #COLUMNS\n",
    "    for i in range(0,N): #ROWS\n",
    "        if (i+1 == N):\n",
    "            D[i,n+1] = 0\n",
    "            C[i,n+1] = D[i,n]\n",
    "        else:\n",
    "            D[i,n+1] = (i+1)*D[i+1,n]\n",
    "            C[i,n+1] = (i+1)*C[i+1,n]+D[i,n]\n",
    "        for k in range(0,i+1): #SUM INTERIOR\n",
    "            C[i,n+1] = C[i,n+1] + C[k,0]*C[i-k,n]\n",
    "            D[i,n+1] = D[i,n+1] + D[k,0]*C[i-k,n]"
   ]
  },
  {
   "cell_type": "code",
   "execution_count": 191,
   "metadata": {},
   "outputs": [],
   "source": [
    "#Blows up for big N\n",
    "#display(Matrix(C))\n",
    "#display(Matrix(D))"
   ]
  },
  {
   "cell_type": "markdown",
   "metadata": {},
   "source": [
    "Once we have found both matrices, we can apply the quantization condition for the two first rows of each column and each matrix to obtain the polynomial we must solve in $\\omega$."
   ]
  },
  {
   "cell_type": "code",
   "execution_count": 193,
   "metadata": {},
   "outputs": [
    {
     "ename": "KeyboardInterrupt",
     "evalue": "",
     "output_type": "error",
     "traceback": [
      "\u001b[0;31m---------------------------------------------------------------------------\u001b[0m",
      "\u001b[0;31mKeyboardInterrupt\u001b[0m                         Traceback (most recent call last)",
      "Cell \u001b[0;32mIn[193], line 2\u001b[0m\n\u001b[1;32m      1\u001b[0m d \u001b[38;5;241m=\u001b[39m D[\u001b[38;5;241m0\u001b[39m,n]\u001b[38;5;241m*\u001b[39mC[\u001b[38;5;241m0\u001b[39m,n\u001b[38;5;241m-\u001b[39m\u001b[38;5;241m1\u001b[39m] \u001b[38;5;241m-\u001b[39m D[\u001b[38;5;241m0\u001b[39m,n\u001b[38;5;241m-\u001b[39m\u001b[38;5;241m1\u001b[39m]\u001b[38;5;241m*\u001b[39mC[\u001b[38;5;241m0\u001b[39m,n]\n\u001b[0;32m----> 2\u001b[0m \u001b[43md\u001b[49m\u001b[38;5;241;43m.\u001b[39;49m\u001b[43mexpand\u001b[49m\u001b[43m(\u001b[49m\u001b[43m)\u001b[49m\n",
      "File \u001b[0;32m~/.local/lib/python3.10/site-packages/sympy/core/cache.py:72\u001b[0m, in \u001b[0;36m__cacheit.<locals>.func_wrapper.<locals>.wrapper\u001b[0;34m(*args, **kwargs)\u001b[0m\n\u001b[1;32m     69\u001b[0m \u001b[38;5;129m@wraps\u001b[39m(func)\n\u001b[1;32m     70\u001b[0m \u001b[38;5;28;01mdef\u001b[39;00m \u001b[38;5;21mwrapper\u001b[39m(\u001b[38;5;241m*\u001b[39margs, \u001b[38;5;241m*\u001b[39m\u001b[38;5;241m*\u001b[39mkwargs):\n\u001b[1;32m     71\u001b[0m     \u001b[38;5;28;01mtry\u001b[39;00m:\n\u001b[0;32m---> 72\u001b[0m         retval \u001b[38;5;241m=\u001b[39m \u001b[43mcfunc\u001b[49m\u001b[43m(\u001b[49m\u001b[38;5;241;43m*\u001b[39;49m\u001b[43margs\u001b[49m\u001b[43m,\u001b[49m\u001b[43m \u001b[49m\u001b[38;5;241;43m*\u001b[39;49m\u001b[38;5;241;43m*\u001b[39;49m\u001b[43mkwargs\u001b[49m\u001b[43m)\u001b[49m\n\u001b[1;32m     73\u001b[0m     \u001b[38;5;28;01mexcept\u001b[39;00m \u001b[38;5;167;01mTypeError\u001b[39;00m \u001b[38;5;28;01mas\u001b[39;00m e:\n\u001b[1;32m     74\u001b[0m         \u001b[38;5;28;01mif\u001b[39;00m \u001b[38;5;129;01mnot\u001b[39;00m e\u001b[38;5;241m.\u001b[39margs \u001b[38;5;129;01mor\u001b[39;00m \u001b[38;5;129;01mnot\u001b[39;00m e\u001b[38;5;241m.\u001b[39margs[\u001b[38;5;241m0\u001b[39m]\u001b[38;5;241m.\u001b[39mstartswith(\u001b[38;5;124m'\u001b[39m\u001b[38;5;124munhashable type:\u001b[39m\u001b[38;5;124m'\u001b[39m):\n",
      "File \u001b[0;32m~/.local/lib/python3.10/site-packages/sympy/core/expr.py:3682\u001b[0m, in \u001b[0;36mExpr.expand\u001b[0;34m(self, deep, modulus, power_base, power_exp, mul, log, multinomial, basic, **hints)\u001b[0m\n\u001b[1;32m   3680\u001b[0m     \u001b[38;5;28;01mif\u001b[39;00m use_hint:\n\u001b[1;32m   3681\u001b[0m         hint \u001b[38;5;241m=\u001b[39m \u001b[38;5;124m'\u001b[39m\u001b[38;5;124m_eval_expand_\u001b[39m\u001b[38;5;124m'\u001b[39m \u001b[38;5;241m+\u001b[39m hint\n\u001b[0;32m-> 3682\u001b[0m         expr, hit \u001b[38;5;241m=\u001b[39m \u001b[43mExpr\u001b[49m\u001b[38;5;241;43m.\u001b[39;49m\u001b[43m_expand_hint\u001b[49m\u001b[43m(\u001b[49m\u001b[43mexpr\u001b[49m\u001b[43m,\u001b[49m\u001b[43m \u001b[49m\u001b[43mhint\u001b[49m\u001b[43m,\u001b[49m\u001b[43m \u001b[49m\u001b[43mdeep\u001b[49m\u001b[38;5;241;43m=\u001b[39;49m\u001b[43mdeep\u001b[49m\u001b[43m,\u001b[49m\u001b[43m \u001b[49m\u001b[38;5;241;43m*\u001b[39;49m\u001b[38;5;241;43m*\u001b[39;49m\u001b[43mhints\u001b[49m\u001b[43m)\u001b[49m\n\u001b[1;32m   3684\u001b[0m \u001b[38;5;28;01mwhile\u001b[39;00m \u001b[38;5;28;01mTrue\u001b[39;00m:\n\u001b[1;32m   3685\u001b[0m     was \u001b[38;5;241m=\u001b[39m expr\n",
      "File \u001b[0;32m~/.local/lib/python3.10/site-packages/sympy/core/expr.py:3615\u001b[0m, in \u001b[0;36mExpr._expand_hint\u001b[0;34m(expr, hint, deep, **hints)\u001b[0m\n\u001b[1;32m   3613\u001b[0m sargs \u001b[38;5;241m=\u001b[39m []\n\u001b[1;32m   3614\u001b[0m \u001b[38;5;28;01mfor\u001b[39;00m arg \u001b[38;5;129;01min\u001b[39;00m expr\u001b[38;5;241m.\u001b[39margs:\n\u001b[0;32m-> 3615\u001b[0m     arg, arghit \u001b[38;5;241m=\u001b[39m \u001b[43mExpr\u001b[49m\u001b[38;5;241;43m.\u001b[39;49m\u001b[43m_expand_hint\u001b[49m\u001b[43m(\u001b[49m\u001b[43marg\u001b[49m\u001b[43m,\u001b[49m\u001b[43m \u001b[49m\u001b[43mhint\u001b[49m\u001b[43m,\u001b[49m\u001b[43m \u001b[49m\u001b[38;5;241;43m*\u001b[39;49m\u001b[38;5;241;43m*\u001b[39;49m\u001b[43mhints\u001b[49m\u001b[43m)\u001b[49m\n\u001b[1;32m   3616\u001b[0m     hit \u001b[38;5;241m|\u001b[39m\u001b[38;5;241m=\u001b[39m arghit\n\u001b[1;32m   3617\u001b[0m     sargs\u001b[38;5;241m.\u001b[39mappend(arg)\n",
      "File \u001b[0;32m~/.local/lib/python3.10/site-packages/sympy/core/expr.py:3615\u001b[0m, in \u001b[0;36mExpr._expand_hint\u001b[0;34m(expr, hint, deep, **hints)\u001b[0m\n\u001b[1;32m   3613\u001b[0m sargs \u001b[38;5;241m=\u001b[39m []\n\u001b[1;32m   3614\u001b[0m \u001b[38;5;28;01mfor\u001b[39;00m arg \u001b[38;5;129;01min\u001b[39;00m expr\u001b[38;5;241m.\u001b[39margs:\n\u001b[0;32m-> 3615\u001b[0m     arg, arghit \u001b[38;5;241m=\u001b[39m \u001b[43mExpr\u001b[49m\u001b[38;5;241;43m.\u001b[39;49m\u001b[43m_expand_hint\u001b[49m\u001b[43m(\u001b[49m\u001b[43marg\u001b[49m\u001b[43m,\u001b[49m\u001b[43m \u001b[49m\u001b[43mhint\u001b[49m\u001b[43m,\u001b[49m\u001b[43m \u001b[49m\u001b[38;5;241;43m*\u001b[39;49m\u001b[38;5;241;43m*\u001b[39;49m\u001b[43mhints\u001b[49m\u001b[43m)\u001b[49m\n\u001b[1;32m   3616\u001b[0m     hit \u001b[38;5;241m|\u001b[39m\u001b[38;5;241m=\u001b[39m arghit\n\u001b[1;32m   3617\u001b[0m     sargs\u001b[38;5;241m.\u001b[39mappend(arg)\n",
      "    \u001b[0;31m[... skipping similar frames: Expr._expand_hint at line 3615 (14 times)]\u001b[0m\n",
      "File \u001b[0;32m~/.local/lib/python3.10/site-packages/sympy/core/expr.py:3615\u001b[0m, in \u001b[0;36mExpr._expand_hint\u001b[0;34m(expr, hint, deep, **hints)\u001b[0m\n\u001b[1;32m   3613\u001b[0m sargs \u001b[38;5;241m=\u001b[39m []\n\u001b[1;32m   3614\u001b[0m \u001b[38;5;28;01mfor\u001b[39;00m arg \u001b[38;5;129;01min\u001b[39;00m expr\u001b[38;5;241m.\u001b[39margs:\n\u001b[0;32m-> 3615\u001b[0m     arg, arghit \u001b[38;5;241m=\u001b[39m \u001b[43mExpr\u001b[49m\u001b[38;5;241;43m.\u001b[39;49m\u001b[43m_expand_hint\u001b[49m\u001b[43m(\u001b[49m\u001b[43marg\u001b[49m\u001b[43m,\u001b[49m\u001b[43m \u001b[49m\u001b[43mhint\u001b[49m\u001b[43m,\u001b[49m\u001b[43m \u001b[49m\u001b[38;5;241;43m*\u001b[39;49m\u001b[38;5;241;43m*\u001b[39;49m\u001b[43mhints\u001b[49m\u001b[43m)\u001b[49m\n\u001b[1;32m   3616\u001b[0m     hit \u001b[38;5;241m|\u001b[39m\u001b[38;5;241m=\u001b[39m arghit\n\u001b[1;32m   3617\u001b[0m     sargs\u001b[38;5;241m.\u001b[39mappend(arg)\n",
      "File \u001b[0;32m~/.local/lib/python3.10/site-packages/sympy/core/expr.py:3612\u001b[0m, in \u001b[0;36mExpr._expand_hint\u001b[0;34m(expr, hint, deep, **hints)\u001b[0m\n\u001b[1;32m   3608\u001b[0m hit \u001b[38;5;241m=\u001b[39m \u001b[38;5;28;01mFalse\u001b[39;00m\n\u001b[1;32m   3609\u001b[0m \u001b[38;5;66;03m# XXX: Hack to support non-Basic args\u001b[39;00m\n\u001b[1;32m   3610\u001b[0m \u001b[38;5;66;03m#              |\u001b[39;00m\n\u001b[1;32m   3611\u001b[0m \u001b[38;5;66;03m#              V\u001b[39;00m\n\u001b[0;32m-> 3612\u001b[0m \u001b[38;5;28;01mif\u001b[39;00m deep \u001b[38;5;129;01mand\u001b[39;00m \u001b[38;5;28;43mgetattr\u001b[39;49m\u001b[43m(\u001b[49m\u001b[43mexpr\u001b[49m\u001b[43m,\u001b[49m\u001b[43m \u001b[49m\u001b[38;5;124;43m'\u001b[39;49m\u001b[38;5;124;43margs\u001b[39;49m\u001b[38;5;124;43m'\u001b[39;49m\u001b[43m,\u001b[49m\u001b[43m \u001b[49m\u001b[43m(\u001b[49m\u001b[43m)\u001b[49m\u001b[43m)\u001b[49m \u001b[38;5;129;01mand\u001b[39;00m \u001b[38;5;129;01mnot\u001b[39;00m expr\u001b[38;5;241m.\u001b[39mis_Atom:\n\u001b[1;32m   3613\u001b[0m     sargs \u001b[38;5;241m=\u001b[39m []\n\u001b[1;32m   3614\u001b[0m     \u001b[38;5;28;01mfor\u001b[39;00m arg \u001b[38;5;129;01min\u001b[39;00m expr\u001b[38;5;241m.\u001b[39margs:\n",
      "File \u001b[0;32m~/.local/lib/python3.10/site-packages/sympy/core/basic.py:786\u001b[0m, in \u001b[0;36mBasic.args\u001b[0;34m(self)\u001b[0m\n\u001b[1;32m    762\u001b[0m \u001b[38;5;250m    \u001b[39m\u001b[38;5;124;03m\"\"\"\u001b[39;00m\n\u001b[1;32m    763\u001b[0m \u001b[38;5;124;03m    The top-level function in an expression.\u001b[39;00m\n\u001b[1;32m    764\u001b[0m \n\u001b[0;32m   (...)\u001b[0m\n\u001b[1;32m    782\u001b[0m \n\u001b[1;32m    783\u001b[0m \u001b[38;5;124;03m    \"\"\"\u001b[39;00m\n\u001b[1;32m    784\u001b[0m     \u001b[38;5;28;01mreturn\u001b[39;00m \u001b[38;5;28mself\u001b[39m\u001b[38;5;241m.\u001b[39m\u001b[38;5;18m__class__\u001b[39m\n\u001b[0;32m--> 786\u001b[0m \u001b[38;5;129m@property\u001b[39m\n\u001b[1;32m    787\u001b[0m \u001b[38;5;28;01mdef\u001b[39;00m \u001b[38;5;21margs\u001b[39m(\u001b[38;5;28mself\u001b[39m) \u001b[38;5;241m-\u001b[39m\u001b[38;5;241m>\u001b[39m \u001b[38;5;28mtuple\u001b[39m[Basic, \u001b[38;5;241m.\u001b[39m\u001b[38;5;241m.\u001b[39m\u001b[38;5;241m.\u001b[39m]:\n\u001b[1;32m    788\u001b[0m \u001b[38;5;250m    \u001b[39m\u001b[38;5;124;03m\"\"\"Returns a tuple of arguments of 'self'.\u001b[39;00m\n\u001b[1;32m    789\u001b[0m \n\u001b[1;32m    790\u001b[0m \u001b[38;5;124;03m    Examples\u001b[39;00m\n\u001b[0;32m   (...)\u001b[0m\n\u001b[1;32m    814\u001b[0m \u001b[38;5;124;03m    change the interface in the future if needed).\u001b[39;00m\n\u001b[1;32m    815\u001b[0m \u001b[38;5;124;03m    \"\"\"\u001b[39;00m\n\u001b[1;32m    816\u001b[0m     \u001b[38;5;28;01mreturn\u001b[39;00m \u001b[38;5;28mself\u001b[39m\u001b[38;5;241m.\u001b[39m_args\n",
      "\u001b[0;31mKeyboardInterrupt\u001b[0m: "
     ]
    }
   ],
   "source": [
    "d = D[0,n]*C[0,n-1] - D[0,n-1]*C[0,n]\n",
    "d.expand()"
   ]
  },
  {
   "cell_type": "code",
   "execution_count": null,
   "metadata": {},
   "outputs": [
    {
     "ename": "KeyboardInterrupt",
     "evalue": "",
     "output_type": "error",
     "traceback": [
      "\u001b[0;31m---------------------------------------------------------------------------\u001b[0m",
      "\u001b[0;31mKeyboardInterrupt\u001b[0m                         Traceback (most recent call last)",
      "Cell \u001b[0;32mIn[184], line 1\u001b[0m\n\u001b[0;32m----> 1\u001b[0m sols \u001b[38;5;241m=\u001b[39m \u001b[43msolve\u001b[49m\u001b[43m(\u001b[49m\u001b[43md\u001b[49m\u001b[43m,\u001b[49m\u001b[43mw\u001b[49m\u001b[43m)\u001b[49m\n\u001b[1;32m      2\u001b[0m \u001b[38;5;28mprint\u001b[39m(\u001b[38;5;124m\"\u001b[39m\u001b[38;5;124mAll solutions:\u001b[39m\u001b[38;5;124m\"\u001b[39m)\n\u001b[1;32m      3\u001b[0m \u001b[38;5;28mprint\u001b[39m(sols)\n",
      "File \u001b[0;32m~/.local/lib/python3.10/site-packages/sympy/solvers/solvers.py:968\u001b[0m, in \u001b[0;36msolve\u001b[0;34m(f, *symbols, **flags)\u001b[0m\n\u001b[1;32m    964\u001b[0m     f[i] \u001b[38;5;241m=\u001b[39m fi\u001b[38;5;241m.\u001b[39mas_expr()\n\u001b[1;32m    966\u001b[0m \u001b[38;5;66;03m# rewrite hyperbolics in terms of exp if they have symbols of\u001b[39;00m\n\u001b[1;32m    967\u001b[0m \u001b[38;5;66;03m# interest\u001b[39;00m\n\u001b[0;32m--> 968\u001b[0m f[i] \u001b[38;5;241m=\u001b[39m \u001b[43mf\u001b[49m\u001b[43m[\u001b[49m\u001b[43mi\u001b[49m\u001b[43m]\u001b[49m\u001b[38;5;241;43m.\u001b[39;49m\u001b[43mreplace\u001b[49m\u001b[43m(\u001b[49m\u001b[38;5;28;43;01mlambda\u001b[39;49;00m\u001b[43m \u001b[49m\u001b[43mw\u001b[49m\u001b[43m:\u001b[49m\u001b[43m \u001b[49m\u001b[38;5;28;43misinstance\u001b[39;49m\u001b[43m(\u001b[49m\u001b[43mw\u001b[49m\u001b[43m,\u001b[49m\u001b[43m \u001b[49m\u001b[43mHyperbolicFunction\u001b[49m\u001b[43m)\u001b[49m\u001b[43m \u001b[49m\u001b[38;5;129;43;01mand\u001b[39;49;00m\u001b[43m \u001b[49m\u001b[43m\\\u001b[49m\n\u001b[1;32m    969\u001b[0m \u001b[43m    \u001b[49m\u001b[43mw\u001b[49m\u001b[38;5;241;43m.\u001b[39;49m\u001b[43mhas_free\u001b[49m\u001b[43m(\u001b[49m\u001b[38;5;241;43m*\u001b[39;49m\u001b[43msymbols\u001b[49m\u001b[43m)\u001b[49m\u001b[43m,\u001b[49m\u001b[43m \u001b[49m\u001b[38;5;28;43;01mlambda\u001b[39;49;00m\u001b[43m \u001b[49m\u001b[43mw\u001b[49m\u001b[43m:\u001b[49m\u001b[43m \u001b[49m\u001b[43mw\u001b[49m\u001b[38;5;241;43m.\u001b[39;49m\u001b[43mrewrite\u001b[49m\u001b[43m(\u001b[49m\u001b[43mexp\u001b[49m\u001b[43m)\u001b[49m\u001b[43m)\u001b[49m\n\u001b[1;32m    971\u001b[0m \u001b[38;5;66;03m# if we have a Matrix, we need to iterate over its elements again\u001b[39;00m\n\u001b[1;32m    972\u001b[0m \u001b[38;5;28;01mif\u001b[39;00m f[i]\u001b[38;5;241m.\u001b[39mis_Matrix:\n",
      "File \u001b[0;32m~/.local/lib/python3.10/site-packages/sympy/core/basic.py:1666\u001b[0m, in \u001b[0;36mBasic.replace\u001b[0;34m(self, query, value, map, simultaneous, exact)\u001b[0m\n\u001b[1;32m   1663\u001b[0m             expr \u001b[38;5;241m=\u001b[39m v\n\u001b[1;32m   1664\u001b[0m     \u001b[38;5;28;01mreturn\u001b[39;00m expr\n\u001b[0;32m-> 1666\u001b[0m rv \u001b[38;5;241m=\u001b[39m \u001b[43mwalk\u001b[49m\u001b[43m(\u001b[49m\u001b[38;5;28;43mself\u001b[39;49m\u001b[43m,\u001b[49m\u001b[43m \u001b[49m\u001b[43mrec_replace\u001b[49m\u001b[43m)\u001b[49m\n\u001b[1;32m   1667\u001b[0m \u001b[38;5;28;01mreturn\u001b[39;00m (rv, mapping) \u001b[38;5;28;01mif\u001b[39;00m \u001b[38;5;28mmap\u001b[39m \u001b[38;5;28;01melse\u001b[39;00m rv\n",
      "File \u001b[0;32m~/.local/lib/python3.10/site-packages/sympy/core/basic.py:1641\u001b[0m, in \u001b[0;36mBasic.replace.<locals>.walk\u001b[0;34m(rv, F)\u001b[0m\n\u001b[1;32m   1639\u001b[0m \u001b[38;5;28;01mif\u001b[39;00m args \u001b[38;5;129;01mis\u001b[39;00m \u001b[38;5;129;01mnot\u001b[39;00m \u001b[38;5;28;01mNone\u001b[39;00m:\n\u001b[1;32m   1640\u001b[0m     \u001b[38;5;28;01mif\u001b[39;00m args:\n\u001b[0;32m-> 1641\u001b[0m         newargs \u001b[38;5;241m=\u001b[39m \u001b[38;5;28mtuple\u001b[39m([walk(a, F) \u001b[38;5;28;01mfor\u001b[39;00m a \u001b[38;5;129;01min\u001b[39;00m args])\n\u001b[1;32m   1642\u001b[0m         \u001b[38;5;28;01mif\u001b[39;00m args \u001b[38;5;241m!=\u001b[39m newargs:\n\u001b[1;32m   1643\u001b[0m             rv \u001b[38;5;241m=\u001b[39m rv\u001b[38;5;241m.\u001b[39mfunc(\u001b[38;5;241m*\u001b[39mnewargs)\n",
      "File \u001b[0;32m~/.local/lib/python3.10/site-packages/sympy/core/basic.py:1641\u001b[0m, in \u001b[0;36m<listcomp>\u001b[0;34m(.0)\u001b[0m\n\u001b[1;32m   1639\u001b[0m \u001b[38;5;28;01mif\u001b[39;00m args \u001b[38;5;129;01mis\u001b[39;00m \u001b[38;5;129;01mnot\u001b[39;00m \u001b[38;5;28;01mNone\u001b[39;00m:\n\u001b[1;32m   1640\u001b[0m     \u001b[38;5;28;01mif\u001b[39;00m args:\n\u001b[0;32m-> 1641\u001b[0m         newargs \u001b[38;5;241m=\u001b[39m \u001b[38;5;28mtuple\u001b[39m([\u001b[43mwalk\u001b[49m\u001b[43m(\u001b[49m\u001b[43ma\u001b[49m\u001b[43m,\u001b[49m\u001b[43m \u001b[49m\u001b[43mF\u001b[49m\u001b[43m)\u001b[49m \u001b[38;5;28;01mfor\u001b[39;00m a \u001b[38;5;129;01min\u001b[39;00m args])\n\u001b[1;32m   1642\u001b[0m         \u001b[38;5;28;01mif\u001b[39;00m args \u001b[38;5;241m!=\u001b[39m newargs:\n\u001b[1;32m   1643\u001b[0m             rv \u001b[38;5;241m=\u001b[39m rv\u001b[38;5;241m.\u001b[39mfunc(\u001b[38;5;241m*\u001b[39mnewargs)\n",
      "File \u001b[0;32m~/.local/lib/python3.10/site-packages/sympy/core/basic.py:1641\u001b[0m, in \u001b[0;36mBasic.replace.<locals>.walk\u001b[0;34m(rv, F)\u001b[0m\n\u001b[1;32m   1639\u001b[0m \u001b[38;5;28;01mif\u001b[39;00m args \u001b[38;5;129;01mis\u001b[39;00m \u001b[38;5;129;01mnot\u001b[39;00m \u001b[38;5;28;01mNone\u001b[39;00m:\n\u001b[1;32m   1640\u001b[0m     \u001b[38;5;28;01mif\u001b[39;00m args:\n\u001b[0;32m-> 1641\u001b[0m         newargs \u001b[38;5;241m=\u001b[39m \u001b[38;5;28mtuple\u001b[39m([walk(a, F) \u001b[38;5;28;01mfor\u001b[39;00m a \u001b[38;5;129;01min\u001b[39;00m args])\n\u001b[1;32m   1642\u001b[0m         \u001b[38;5;28;01mif\u001b[39;00m args \u001b[38;5;241m!=\u001b[39m newargs:\n\u001b[1;32m   1643\u001b[0m             rv \u001b[38;5;241m=\u001b[39m rv\u001b[38;5;241m.\u001b[39mfunc(\u001b[38;5;241m*\u001b[39mnewargs)\n",
      "File \u001b[0;32m~/.local/lib/python3.10/site-packages/sympy/core/basic.py:1641\u001b[0m, in \u001b[0;36m<listcomp>\u001b[0;34m(.0)\u001b[0m\n\u001b[1;32m   1639\u001b[0m \u001b[38;5;28;01mif\u001b[39;00m args \u001b[38;5;129;01mis\u001b[39;00m \u001b[38;5;129;01mnot\u001b[39;00m \u001b[38;5;28;01mNone\u001b[39;00m:\n\u001b[1;32m   1640\u001b[0m     \u001b[38;5;28;01mif\u001b[39;00m args:\n\u001b[0;32m-> 1641\u001b[0m         newargs \u001b[38;5;241m=\u001b[39m \u001b[38;5;28mtuple\u001b[39m([\u001b[43mwalk\u001b[49m\u001b[43m(\u001b[49m\u001b[43ma\u001b[49m\u001b[43m,\u001b[49m\u001b[43m \u001b[49m\u001b[43mF\u001b[49m\u001b[43m)\u001b[49m \u001b[38;5;28;01mfor\u001b[39;00m a \u001b[38;5;129;01min\u001b[39;00m args])\n\u001b[1;32m   1642\u001b[0m         \u001b[38;5;28;01mif\u001b[39;00m args \u001b[38;5;241m!=\u001b[39m newargs:\n\u001b[1;32m   1643\u001b[0m             rv \u001b[38;5;241m=\u001b[39m rv\u001b[38;5;241m.\u001b[39mfunc(\u001b[38;5;241m*\u001b[39mnewargs)\n",
      "    \u001b[0;31m[... skipping similar frames: <listcomp> at line 1641 (12 times), Basic.replace.<locals>.walk at line 1641 (12 times)]\u001b[0m\n",
      "File \u001b[0;32m~/.local/lib/python3.10/site-packages/sympy/core/basic.py:1641\u001b[0m, in \u001b[0;36mBasic.replace.<locals>.walk\u001b[0;34m(rv, F)\u001b[0m\n\u001b[1;32m   1639\u001b[0m \u001b[38;5;28;01mif\u001b[39;00m args \u001b[38;5;129;01mis\u001b[39;00m \u001b[38;5;129;01mnot\u001b[39;00m \u001b[38;5;28;01mNone\u001b[39;00m:\n\u001b[1;32m   1640\u001b[0m     \u001b[38;5;28;01mif\u001b[39;00m args:\n\u001b[0;32m-> 1641\u001b[0m         newargs \u001b[38;5;241m=\u001b[39m \u001b[38;5;28mtuple\u001b[39m([walk(a, F) \u001b[38;5;28;01mfor\u001b[39;00m a \u001b[38;5;129;01min\u001b[39;00m args])\n\u001b[1;32m   1642\u001b[0m         \u001b[38;5;28;01mif\u001b[39;00m args \u001b[38;5;241m!=\u001b[39m newargs:\n\u001b[1;32m   1643\u001b[0m             rv \u001b[38;5;241m=\u001b[39m rv\u001b[38;5;241m.\u001b[39mfunc(\u001b[38;5;241m*\u001b[39mnewargs)\n",
      "File \u001b[0;32m~/.local/lib/python3.10/site-packages/sympy/core/basic.py:1641\u001b[0m, in \u001b[0;36m<listcomp>\u001b[0;34m(.0)\u001b[0m\n\u001b[1;32m   1639\u001b[0m \u001b[38;5;28;01mif\u001b[39;00m args \u001b[38;5;129;01mis\u001b[39;00m \u001b[38;5;129;01mnot\u001b[39;00m \u001b[38;5;28;01mNone\u001b[39;00m:\n\u001b[1;32m   1640\u001b[0m     \u001b[38;5;28;01mif\u001b[39;00m args:\n\u001b[0;32m-> 1641\u001b[0m         newargs \u001b[38;5;241m=\u001b[39m \u001b[38;5;28mtuple\u001b[39m([\u001b[43mwalk\u001b[49m\u001b[43m(\u001b[49m\u001b[43ma\u001b[49m\u001b[43m,\u001b[49m\u001b[43m \u001b[49m\u001b[43mF\u001b[49m\u001b[43m)\u001b[49m \u001b[38;5;28;01mfor\u001b[39;00m a \u001b[38;5;129;01min\u001b[39;00m args])\n\u001b[1;32m   1642\u001b[0m         \u001b[38;5;28;01mif\u001b[39;00m args \u001b[38;5;241m!=\u001b[39m newargs:\n\u001b[1;32m   1643\u001b[0m             rv \u001b[38;5;241m=\u001b[39m rv\u001b[38;5;241m.\u001b[39mfunc(\u001b[38;5;241m*\u001b[39mnewargs)\n",
      "File \u001b[0;32m~/.local/lib/python3.10/site-packages/sympy/core/basic.py:1635\u001b[0m, in \u001b[0;36mBasic.replace.<locals>.walk\u001b[0;34m(rv, F)\u001b[0m\n\u001b[1;32m   1630\u001b[0m \u001b[38;5;28;01melse\u001b[39;00m:\n\u001b[1;32m   1631\u001b[0m     \u001b[38;5;28;01mraise\u001b[39;00m \u001b[38;5;167;01mTypeError\u001b[39;00m(\n\u001b[1;32m   1632\u001b[0m         \u001b[38;5;124m\"\u001b[39m\u001b[38;5;124mfirst argument to replace() must be a \u001b[39m\u001b[38;5;124m\"\u001b[39m\n\u001b[1;32m   1633\u001b[0m         \u001b[38;5;124m\"\u001b[39m\u001b[38;5;124mtype, an expression or a callable\u001b[39m\u001b[38;5;124m\"\u001b[39m)\n\u001b[0;32m-> 1635\u001b[0m \u001b[38;5;28;01mdef\u001b[39;00m \u001b[38;5;21mwalk\u001b[39m(rv, F):\n\u001b[1;32m   1636\u001b[0m \u001b[38;5;250m    \u001b[39m\u001b[38;5;124;03m\"\"\"Apply ``F`` to args and then to result.\u001b[39;00m\n\u001b[1;32m   1637\u001b[0m \u001b[38;5;124;03m    \"\"\"\u001b[39;00m\n\u001b[1;32m   1638\u001b[0m     args \u001b[38;5;241m=\u001b[39m \u001b[38;5;28mgetattr\u001b[39m(rv, \u001b[38;5;124m'\u001b[39m\u001b[38;5;124margs\u001b[39m\u001b[38;5;124m'\u001b[39m, \u001b[38;5;28;01mNone\u001b[39;00m)\n",
      "\u001b[0;31mKeyboardInterrupt\u001b[0m: "
     ]
    }
   ],
   "source": [
    "sols = solve(d,w)\n",
    "print(\"All solutions:\")\n",
    "print(sols)\n",
    "print(\"Filtered solutions:\")\n",
    "for i in range(len(sols)):\n",
    "    if (re(sols[i]) > 0 and  im(sols[i]) < 0):\n",
    "        print(\"w_\" + str(i+1) + \" = \" + str(sols[i]))"
   ]
  },
  {
   "cell_type": "code",
   "execution_count": null,
   "metadata": {},
   "outputs": [],
   "source": []
  }
 ],
 "metadata": {
  "kernelspec": {
   "display_name": "Python 3",
   "language": "python",
   "name": "python3"
  },
  "language_info": {
   "codemirror_mode": {
    "name": "ipython",
    "version": 3
   },
   "file_extension": ".py",
   "mimetype": "text/x-python",
   "name": "python",
   "nbconvert_exporter": "python",
   "pygments_lexer": "ipython3",
   "version": "3.10.12"
  }
 },
 "nbformat": 4,
 "nbformat_minor": 2
}

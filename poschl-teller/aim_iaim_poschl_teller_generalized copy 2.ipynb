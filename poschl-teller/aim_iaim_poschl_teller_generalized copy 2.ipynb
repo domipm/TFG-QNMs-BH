{
 "cells": [
  {
   "cell_type": "markdown",
   "metadata": {},
   "source": [
    "Schrödinger-like equation for Generalized Pöschl-Teller potential:\n",
    "\n",
    "$\\dfrac{d^2\\psi}{dx^2} + \\left( \\omega^2 - \\alpha^2 V_0\\text{sech}^2(\\alpha x) \\right)\\psi = 0$"
   ]
  },
  {
   "cell_type": "code",
   "execution_count": 43,
   "metadata": {},
   "outputs": [
    {
     "data": {
      "text/latex": [
       "$\\displaystyle \\left(- V_{0} \\operatorname{sech}^{2}{\\left(a x \\right)} + \\omega^{2}\\right) \\psi{\\left(x \\right)} + \\frac{d^{2}}{d x^{2}} \\psi{\\left(x \\right)} = 0$"
      ],
      "text/plain": [
       "Eq((-V_0*sech(a*x)**2 + \\omega**2)*\\psi(x) + Derivative(\\psi(x), (x, 2)), 0)"
      ]
     },
     "metadata": {},
     "output_type": "display_data"
    }
   ],
   "source": [
    "from sympy import *\n",
    "\n",
    "x,y = symbols(\"x y\", real=True)\n",
    "x0 = symbols(\"x_0\", real=True)\n",
    "w = symbols(\"\\omega\")\n",
    "\n",
    "v = symbols(\"V_0\", real=True)\n",
    "a = symbols(\"a\", positive=True)\n",
    "b = symbols(\"b\", positive=True)\n",
    "\n",
    "psi = Function(\"\\psi\")(x)\n",
    "psi_y = Function(\"\\psi\")(y)\n",
    "phi = Function(\"\\phi\")(y)\n",
    "\n",
    "sch_eq = Eq( diff(diff(psi,x),x) + (w**2-v*sech(a*x)**2)*psi, 0 )#.subs(v,S(1)/2).subs(a,1)\n",
    "display(sch_eq)"
   ]
  },
  {
   "cell_type": "code",
   "execution_count": 44,
   "metadata": {},
   "outputs": [],
   "source": [
    "#Function to change variables (https://stackoverflow.com/questions/57840957/differential-equation-change-of-variables-with-sympy)\n",
    "def variable_change(ODE,dependent_var, \n",
    "                    independent_var,\n",
    "                    new_dependent_var = None, \n",
    "                    new_independent_var= None, \n",
    "                    dependent_var_relation = None,\n",
    "                    independent_var_relation = None,\n",
    "                    order = 2):\n",
    "\n",
    "    if new_dependent_var == None:\n",
    "        new_dependent_var = dependent_var\n",
    "    if new_independent_var == None:\n",
    "        new_independent_var = independent_var\n",
    "\n",
    "    # dependent variable change\n",
    "\n",
    "    if new_independent_var != independent_var:\n",
    "\n",
    "        for i in range(order, -1, -1):\n",
    "\n",
    "            # remplace derivate\n",
    "            a = diff(dependent_var , independent_var, i )\n",
    "            ξ = Function(\"ξ\")(independent_var)\n",
    "\n",
    "            b = diff( dependent_var.subs(independent_var, ξ),  independent_var  ,i)\n",
    "\n",
    "            rel = solve(independent_var_relation, new_independent_var)[0]\n",
    "\n",
    "            for j in range(order, 0, -1):\n",
    "                b = b.subs( diff(ξ,independent_var,j), diff(rel,independent_var,j))\n",
    "\n",
    "            b = b.subs(ξ, new_independent_var)\n",
    "\n",
    "            rel = solve(independent_var_relation, independent_var)[0]\n",
    "            b = b.subs(independent_var, rel)\n",
    "\n",
    "            ODE =   ODE.subs(a,b)\n",
    "\n",
    "        ODE = ODE.subs(independent_var, rel)\n",
    "\n",
    "    # change of variables of indpendent variable\n",
    "\n",
    "    if new_dependent_var != dependent_var:\n",
    "\n",
    "        ODE = (ODE.subs(dependent_var.subs(independent_var,new_independent_var) , (solve(dependent_var_relation, dependent_var)[0])))\n",
    "        ODE = ODE.doit().expand()\n",
    "\n",
    "    return ODE.simplify()"
   ]
  },
  {
   "cell_type": "markdown",
   "metadata": {},
   "source": [
    "Change of variables \n",
    "\n",
    "$x = \\dfrac{1}{\\alpha}\\text{atanh}(y) \\iff y = \\text{tanh}(\\alpha x)  $\n",
    "\n",
    "Variable $x \\in (-\\infty, +\\infty)$\n",
    "\n",
    "Variable $y \\in (-1/\\alpha, +1/\\alpha)$"
   ]
  },
  {
   "cell_type": "markdown",
   "metadata": {},
   "source": [
    "Boundary conditions\n",
    "\n",
    "$\\psi(y) = (1-y)^{-i\\omega/2}(1+y)^{-i\\omega/2}\\phi(y) = (1-y^2)^{-i\\omega/2}$ (caso sin parametrizar)\n",
    "\n",
    "$\\psi(y) = (1-y)^{-i\\omega/2\\alpha}(1+y)^{-i\\omega/2\\alpha} = (1-y^2)^{-i\\omega/2\\alpha}$ (caso paramétrico)"
   ]
  },
  {
   "cell_type": "code",
   "execution_count": 79,
   "metadata": {},
   "outputs": [
    {
     "data": {
      "text/latex": [
       "$\\displaystyle \\left(1 - y^{2}\\right)^{- \\frac{i \\omega}{2 a}} \\left(V_{0} y^{2} \\phi{\\left(y \\right)} - V_{0} \\phi{\\left(y \\right)} - \\omega^{2} y^{2} \\phi{\\left(y \\right)} + \\omega^{2} \\phi{\\left(y \\right)} - 2 i \\omega a y^{3} \\frac{d}{d y} \\phi{\\left(y \\right)} - i \\omega a y^{2} \\phi{\\left(y \\right)} + 2 i \\omega a y \\frac{d}{d y} \\phi{\\left(y \\right)} + i \\omega a \\phi{\\left(y \\right)} + a^{2} y^{4} \\frac{d^{2}}{d y^{2}} \\phi{\\left(y \\right)} + 2 a^{2} y^{3} \\frac{d}{d y} \\phi{\\left(y \\right)} - 2 a^{2} y^{2} \\frac{d^{2}}{d y^{2}} \\phi{\\left(y \\right)} - 2 a^{2} y \\frac{d}{d y} \\phi{\\left(y \\right)} + a^{2} \\frac{d^{2}}{d y^{2}} \\phi{\\left(y \\right)}\\right) = 0$"
      ],
      "text/plain": [
       "Eq((V_0*y**2*\\phi(y) - V_0*\\phi(y) - \\omega**2*y**2*\\phi(y) + \\omega**2*\\phi(y) - 2*I*\\omega*a*y**3*Derivative(\\phi(y), y) - I*\\omega*a*y**2*\\phi(y) + 2*I*\\omega*a*y*Derivative(\\phi(y), y) + I*\\omega*a*\\phi(y) + a**2*y**4*Derivative(\\phi(y), (y, 2)) + 2*a**2*y**3*Derivative(\\phi(y), y) - 2*a**2*y**2*Derivative(\\phi(y), (y, 2)) - 2*a**2*y*Derivative(\\phi(y), y) + a**2*Derivative(\\phi(y), (y, 2)))/(1 - y**2)**(I*\\omega/(2*a)), 0)"
      ]
     },
     "metadata": {},
     "output_type": "display_data"
    }
   ],
   "source": [
    "sch_eq_y = variable_change(\n",
    "    ODE=sch_eq,\n",
    "    independent_var=x,\n",
    "    new_independent_var=y,\n",
    "    independent_var_relation=Eq(x,1/a*atanh(y)),\n",
    "    dependent_var=psi,\n",
    "    new_dependent_var=phi,\n",
    "    dependent_var_relation=Eq(psi, (1-y**2)**(-I*w/(2*a))*phi),\n",
    "    order=2\n",
    ")\n",
    "\n",
    "display(sch_eq_y)"
   ]
  },
  {
   "cell_type": "code",
   "execution_count": 85,
   "metadata": {},
   "outputs": [
    {
     "name": "stdout",
     "output_type": "stream",
     "text": [
      "V_0 = Symbol('V_0')\n",
      "y = Symbol('y')\n",
      "\\omega = Symbol('\\omega')\n",
      "a = Symbol('a')\n",
      "\\phi = Function('\\phi')\n",
      "e = Eq((V_0*y**2*\\phi(y) - V_0*\\phi(y) - \\omega**2*y**2*\\phi(y) + \\omega**2*\\phi(y) - 2*I*\\omega*a*y**3*Derivative(\\phi(y), y) - I*\\omega*a*y**2*\\phi(y) + 2*I*\\omega*a*y*Derivative(\\phi(y), y) + I*\\omega*a*\\phi(y) + a**2*y**4*Derivative(\\phi(y), (y, 2)) + 2*a**2*y**3*Derivative(\\phi(y), y) - 2*a**2*y**2*Derivative(\\phi(y), (y, 2)) - 2*a**2*y*Derivative(\\phi(y), y) + a**2*Derivative(\\phi(y), (y, 2)))/(1 - y**2)**(I*\\omega/(2*a)), 0)\n"
     ]
    }
   ],
   "source": [
    "print(python(sch_eq_y))"
   ]
  },
  {
   "cell_type": "code",
   "execution_count": 87,
   "metadata": {},
   "outputs": [
    {
     "data": {
      "text/latex": [
       "$\\displaystyle V_{0} y^{2} \\phi{\\left(y \\right)} - V_{0} \\phi{\\left(y \\right)} - \\omega^{2} y^{2} \\phi{\\left(y \\right)} + \\omega^{2} \\phi{\\left(y \\right)} - 2 i \\omega a y^{3} \\frac{d}{d y} \\phi{\\left(y \\right)} - i \\omega a y^{2} \\phi{\\left(y \\right)} + 2 i \\omega a y \\frac{d}{d y} \\phi{\\left(y \\right)} + i \\omega a \\phi{\\left(y \\right)} + a^{2} y^{4} \\frac{d^{2}}{d y^{2}} \\phi{\\left(y \\right)} + 2 a^{2} y^{3} \\frac{d}{d y} \\phi{\\left(y \\right)} - 2 a^{2} y^{2} \\frac{d^{2}}{d y^{2}} \\phi{\\left(y \\right)} - 2 a^{2} y \\frac{d}{d y} \\phi{\\left(y \\right)} + a^{2} \\frac{d^{2}}{d y^{2}} \\phi{\\left(y \\right)}$"
      ],
      "text/plain": [
       "V_0*y**2*\\phi(y) - V_0*\\phi(y) - \\omega**2*y**2*\\phi(y) + \\omega**2*\\phi(y) - 2*I*\\omega*a*y**3*Derivative(\\phi(y), y) - I*\\omega*a*y**2*\\phi(y) + 2*I*\\omega*a*y*Derivative(\\phi(y), y) + I*\\omega*a*\\phi(y) + a**2*y**4*Derivative(\\phi(y), (y, 2)) + 2*a**2*y**3*Derivative(\\phi(y), y) - 2*a**2*y**2*Derivative(\\phi(y), (y, 2)) - 2*a**2*y*Derivative(\\phi(y), y) + a**2*Derivative(\\phi(y), (y, 2))"
      ]
     },
     "execution_count": 87,
     "metadata": {},
     "output_type": "execute_result"
    }
   ],
   "source": [
    "e = Eq((v*y**2*phi - v*phi - w**2*y**2*phi + w**2*phi - 2*I*w*a*y**3*Derivative(phi, y) - I*w*a*y**2*phi + 2*I*w*a*y*Derivative(phi, y) + I*w*a*phi + a**2*y**4*Derivative(phi, (y, 2)) + 2*a**2*y**3*Derivative(phi, y) - 2*a**2*y**2*Derivative(phi, (y, 2)) - 2*a**2*y*Derivative(phi, y) + a**2*Derivative(phi, (y, 2))), 0)\n",
    "e.lhs.simplify()"
   ]
  },
  {
   "cell_type": "code",
   "execution_count": 88,
   "metadata": {},
   "outputs": [],
   "source": [
    "expr = e.lhs"
   ]
  },
  {
   "cell_type": "code",
   "execution_count": 91,
   "metadata": {},
   "outputs": [
    {
     "data": {
      "text/latex": [
       "$\\displaystyle A a^{2} \\left(y^{4} - 2 y^{2} + 1\\right) - 2 B a y \\left(i \\omega y^{2} - i \\omega - a y^{2} + a\\right) + C \\left(V_{0} y^{2} - V_{0} - \\omega^{2} y^{2} + \\omega^{2} - i \\omega a y^{2} + i \\omega a\\right)$"
      ],
      "text/plain": [
       "A*a**2*(y**4 - 2*y**2 + 1) - 2*B*a*y*(I*\\omega*y**2 - I*\\omega - a*y**2 + a) + C*(V_0*y**2 - V_0 - \\omega**2*y**2 + \\omega**2 - I*\\omega*a*y**2 + I*\\omega*a)"
      ]
     },
     "execution_count": 91,
     "metadata": {},
     "output_type": "execute_result"
    }
   ],
   "source": [
    "A,B,C = symbols(\"A B C\") #A,B,C represent second, first and zero-th order derivatives of phie\n",
    "expr_subs = expr.subs( diff(diff(phi,y),y), A ).subs( diff(phi,y), B ).subs(phi, C).collect(A).collect(B).collect(C).simplify()\n",
    "expr_subs"
   ]
  },
  {
   "cell_type": "code",
   "execution_count": 94,
   "metadata": {},
   "outputs": [
    {
     "data": {
      "text/latex": [
       "$\\displaystyle \\frac{2 y \\left(i \\omega - a\\right)}{a \\left(y^{2} - 1\\right)}$"
      ],
      "text/plain": [
       "2*y*(I*\\omega - a)/(a*(y**2 - 1))"
      ]
     },
     "execution_count": 94,
     "metadata": {},
     "output_type": "execute_result"
    }
   ],
   "source": [
    "bterm = (2*a*y*(I*w*y**2 - I*w - a*y**2 + a) / (a**2*(y**4 - 2*y**2 + 1)))\n",
    "bterm.simplify()"
   ]
  },
  {
   "cell_type": "code",
   "execution_count": 96,
   "metadata": {},
   "outputs": [
    {
     "data": {
      "text/latex": [
       "$\\displaystyle \\frac{2 y \\left(i \\omega - 1\\right)}{y^{2} - 1}$"
      ],
      "text/plain": [
       "2*y*(I*\\omega - 1)/(y**2 - 1)"
      ]
     },
     "execution_count": 96,
     "metadata": {},
     "output_type": "execute_result"
    }
   ],
   "source": [
    "bterm.subs(a,1).simplify()"
   ]
  },
  {
   "cell_type": "markdown",
   "metadata": {},
   "source": [
    "Correct result for $\\lambda_0$"
   ]
  },
  {
   "cell_type": "code",
   "execution_count": 99,
   "metadata": {},
   "outputs": [
    {
     "data": {
      "text/latex": [
       "$\\displaystyle \\frac{V_{0} - \\omega^{2} - i \\omega a}{a^{2} \\left(y^{2} - 1\\right)}$"
      ],
      "text/plain": [
       "(V_0 - \\omega**2 - I*\\omega*a)/(a**2*(y**2 - 1))"
      ]
     },
     "execution_count": 99,
     "metadata": {},
     "output_type": "execute_result"
    }
   ],
   "source": [
    "cterm = (v*y**2 - v - w**2*y**2 + w**2 - I*w*a*y**2 + I*w*a) / (a**2*(y**4 - 2*y**2 + 1))\n",
    "cterm.simplify()"
   ]
  },
  {
   "cell_type": "code",
   "execution_count": 101,
   "metadata": {},
   "outputs": [
    {
     "data": {
      "text/latex": [
       "$\\displaystyle \\frac{- \\omega^{2} y^{2} + \\omega^{2} - i \\omega y^{2} + i \\omega + 0.5 y^{2} - 0.5}{y^{4} - 2 y^{2} + 1}$"
      ],
      "text/plain": [
       "(-\\omega**2*y**2 + \\omega**2 - I*\\omega*y**2 + I*\\omega + 0.5*y**2 - 0.5)/(y**4 - 2*y**2 + 1)"
      ]
     },
     "execution_count": 101,
     "metadata": {},
     "output_type": "execute_result"
    }
   ],
   "source": [
    "cterm.subs(a,1).subs(v,1/2).simplify()"
   ]
  },
  {
   "cell_type": "markdown",
   "metadata": {},
   "source": [
    "I think correct for $s_0$"
   ]
  },
  {
   "cell_type": "code",
   "execution_count": null,
   "metadata": {},
   "outputs": [],
   "source": []
  }
 ],
 "metadata": {
  "kernelspec": {
   "display_name": "Python 3",
   "language": "python",
   "name": "python3"
  },
  "language_info": {
   "codemirror_mode": {
    "name": "ipython",
    "version": 3
   },
   "file_extension": ".py",
   "mimetype": "text/x-python",
   "name": "python",
   "nbconvert_exporter": "python",
   "pygments_lexer": "ipython3",
   "version": "3.10.12"
  }
 },
 "nbformat": 4,
 "nbformat_minor": 2
}

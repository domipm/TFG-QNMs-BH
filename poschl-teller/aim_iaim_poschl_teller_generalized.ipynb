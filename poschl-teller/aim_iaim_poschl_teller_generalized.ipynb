{
 "cells": [
  {
   "cell_type": "markdown",
   "metadata": {},
   "source": [
    "Schrödinger-like equation for Generalized Pöschl-Teller potential:\n",
    "\n",
    "$\\dfrac{d^2\\psi}{dx^2} + \\left( \\omega^2 - \\alpha^2 V_0\\text{sech}^2(\\alpha x) \\right)\\psi = 0$"
   ]
  },
  {
   "cell_type": "code",
   "execution_count": 418,
   "metadata": {},
   "outputs": [
    {
     "data": {
      "text/latex": [
       "$\\displaystyle \\left(- V_{0} a^{2} \\operatorname{sech}^{2}{\\left(a x \\right)} + \\omega^{2}\\right) \\psi{\\left(x \\right)} + \\frac{d^{2}}{d x^{2}} \\psi{\\left(x \\right)} = 0$"
      ],
      "text/plain": [
       "Eq((-V_0*a**2*sech(a*x)**2 + \\omega**2)*\\psi(x) + Derivative(\\psi(x), (x, 2)), 0)"
      ]
     },
     "metadata": {},
     "output_type": "display_data"
    }
   ],
   "source": [
    "from sympy import *\n",
    "\n",
    "x,y = symbols(\"x y\", real=True)\n",
    "w = symbols(\"\\omega\")\n",
    "\n",
    "v = symbols(\"V_0\", real=True)\n",
    "a = symbols(\"a\", positive=True)\n",
    "b = symbols(\"b\", positive=True)\n",
    "\n",
    "psi = Function(\"\\psi\")(x)\n",
    "psi_y = Function(\"\\psi\")(y)\n",
    "phi = Function(\"\\phi\")(y)\n",
    "\n",
    "sch_eq = Eq( diff(diff(psi,x),x) + (w**2-a**2*v*sech(a*x)**2)*psi, 0 )#.subs(v,S(1)/2).subs(a,1)\n",
    "display(sch_eq)"
   ]
  },
  {
   "cell_type": "code",
   "execution_count": 419,
   "metadata": {},
   "outputs": [],
   "source": [
    "#Function to change variables (https://stackoverflow.com/questions/57840957/differential-equation-change-of-variables-with-sympy)\n",
    "def variable_change(ODE,dependent_var, \n",
    "                    independent_var,\n",
    "                    new_dependent_var = None, \n",
    "                    new_independent_var= None, \n",
    "                    dependent_var_relation = None,\n",
    "                    independent_var_relation = None,\n",
    "                    order = 2):\n",
    "\n",
    "    if new_dependent_var == None:\n",
    "        new_dependent_var = dependent_var\n",
    "    if new_independent_var == None:\n",
    "        new_independent_var = independent_var\n",
    "\n",
    "    # dependent variable change\n",
    "\n",
    "    if new_independent_var != independent_var:\n",
    "\n",
    "        for i in range(order, -1, -1):\n",
    "\n",
    "            # remplace derivate\n",
    "            a = diff(dependent_var , independent_var, i )\n",
    "            ξ = Function(\"ξ\")(independent_var)\n",
    "\n",
    "            b = diff( dependent_var.subs(independent_var, ξ),  independent_var  ,i)\n",
    "\n",
    "            rel = solve(independent_var_relation, new_independent_var)[0]\n",
    "\n",
    "            for j in range(order, 0, -1):\n",
    "                b = b.subs( diff(ξ,independent_var,j), diff(rel,independent_var,j))\n",
    "\n",
    "            b = b.subs(ξ, new_independent_var)\n",
    "\n",
    "            rel = solve(independent_var_relation, independent_var)[0]\n",
    "            b = b.subs(independent_var, rel)\n",
    "\n",
    "            ODE =   ODE.subs(a,b)\n",
    "\n",
    "        ODE = ODE.subs(independent_var, rel)\n",
    "\n",
    "    # change of variables of indpendent variable\n",
    "\n",
    "    if new_dependent_var != dependent_var:\n",
    "\n",
    "        ODE = (ODE.subs(dependent_var.subs(independent_var,new_independent_var) , (solve(dependent_var_relation, dependent_var)[0])))\n",
    "        ODE = ODE.doit().expand()\n",
    "\n",
    "    return ODE.simplify()"
   ]
  },
  {
   "cell_type": "markdown",
   "metadata": {},
   "source": [
    "Change of variables \n",
    "\n",
    "$x = \\dfrac{1}{\\alpha}\\tanh(y) \\iff y = \\text{atanh}(\\alpha x)  $"
   ]
  },
  {
   "cell_type": "code",
   "execution_count": 420,
   "metadata": {},
   "outputs": [
    {
     "data": {
      "text/latex": [
       "$\\displaystyle 2 a^{2} y \\left(y^{2} - 1\\right) \\frac{d}{d y} \\psi{\\left(y \\right)} + a^{2} \\left(y^{2} - 1\\right)^{2} \\frac{d^{2}}{d y^{2}} \\psi{\\left(y \\right)} + \\left(V_{0} a^{2} \\left(y^{2} - 1\\right) + \\omega^{2}\\right) \\psi{\\left(y \\right)} = 0$"
      ],
      "text/plain": [
       "Eq(2*a**2*y*(y**2 - 1)*Derivative(\\psi(y), y) + a**2*(y**2 - 1)**2*Derivative(\\psi(y), (y, 2)) + (V_0*a**2*(y**2 - 1) + \\omega**2)*\\psi(y), 0)"
      ]
     },
     "metadata": {},
     "output_type": "display_data"
    }
   ],
   "source": [
    "sch_eq_y = variable_change(\n",
    "    ODE=sch_eq,\n",
    "    independent_var=x,\n",
    "    new_independent_var=y,\n",
    "    independent_var_relation=Eq(x,1/a*atanh(y)),\n",
    "    dependent_var=psi,\n",
    "    new_dependent_var=psi,\n",
    "    dependent_var_relation=None,\n",
    "    order=2\n",
    ")\n",
    "\n",
    "display(sch_eq_y)"
   ]
  },
  {
   "cell_type": "code",
   "execution_count": 421,
   "metadata": {},
   "outputs": [
    {
     "data": {
      "text/latex": [
       "$\\displaystyle 2 y \\left(y^{2} - 1\\right) \\frac{d}{d y} \\psi{\\left(y \\right)} + \\left(y^{2} - 1\\right)^{2} \\frac{d^{2}}{d y^{2}} \\psi{\\left(y \\right)} + \\left(\\omega^{2} + \\frac{y^{2}}{2} - \\frac{1}{2}\\right) \\psi{\\left(y \\right)} = 0$"
      ],
      "text/plain": [
       "Eq(2*y*(y**2 - 1)*Derivative(\\psi(y), y) + (y**2 - 1)**2*Derivative(\\psi(y), (y, 2)) + (\\omega**2 + y**2/2 - 1/2)*\\psi(y), 0)"
      ]
     },
     "execution_count": 421,
     "metadata": {},
     "output_type": "execute_result"
    }
   ],
   "source": [
    "sch_eq_y.subs(v,S(1)/2).subs(a, 1) # Check limit holds"
   ]
  },
  {
   "cell_type": "markdown",
   "metadata": {},
   "source": [
    "Incorporate boundary conditions (second equality simpler)\n",
    "\n",
    "$ \\psi(y) = (1-y)^{(-i\\omega/2)}(1+y)^{(-i\\omega/2)} = (1-y^2)^{(-i\\omega/2)} $"
   ]
  },
  {
   "cell_type": "code",
   "execution_count": 422,
   "metadata": {},
   "outputs": [
    {
     "data": {
      "text/latex": [
       "$\\displaystyle 2 a^{2} y \\left(y^{2} - 1\\right) \\left(\\frac{i \\omega y \\left(1 - y^{2}\\right)^{- \\frac{i \\omega}{2}} \\phi{\\left(y \\right)}}{1 - y^{2}} + \\left(1 - y^{2}\\right)^{- \\frac{i \\omega}{2}} \\frac{d}{d y} \\phi{\\left(y \\right)}\\right) + a^{2} \\left(1 - y^{2}\\right)^{- \\frac{i \\omega}{2}} \\left(y^{2} - 1\\right)^{2} \\left(- \\frac{2 i \\omega y \\frac{d}{d y} \\phi{\\left(y \\right)}}{y^{2} - 1} - \\frac{\\omega \\left(\\frac{\\omega y^{2}}{y^{2} - 1} - \\frac{2 i y^{2}}{y^{2} - 1} + i\\right) \\phi{\\left(y \\right)}}{y^{2} - 1} + \\frac{d^{2}}{d y^{2}} \\phi{\\left(y \\right)}\\right) + \\left(1 - y^{2}\\right)^{- \\frac{i \\omega}{2}} \\left(V_{0} a^{2} \\left(y^{2} - 1\\right) + \\omega^{2}\\right) \\phi{\\left(y \\right)} = 0$"
      ],
      "text/plain": [
       "Eq(2*a**2*y*(y**2 - 1)*(I*\\omega*y*\\phi(y)/((1 - y**2)*(1 - y**2)**(I*\\omega/2)) + Derivative(\\phi(y), y)/(1 - y**2)**(I*\\omega/2)) + a**2*(y**2 - 1)**2*(-2*I*\\omega*y*Derivative(\\phi(y), y)/(y**2 - 1) - \\omega*(\\omega*y**2/(y**2 - 1) - 2*I*y**2/(y**2 - 1) + I)*\\phi(y)/(y**2 - 1) + Derivative(\\phi(y), (y, 2)))/(1 - y**2)**(I*\\omega/2) + (V_0*a**2*(y**2 - 1) + \\omega**2)*\\phi(y)/(1 - y**2)**(I*\\omega/2), 0)"
      ]
     },
     "execution_count": 422,
     "metadata": {},
     "output_type": "execute_result"
    }
   ],
   "source": [
    "sch_eq_bound = sch_eq_y.subs(psi_y, (1-y**2)**(-I*w/2)*phi).doit()\n",
    "sch_eq_bound"
   ]
  },
  {
   "cell_type": "code",
   "execution_count": 423,
   "metadata": {},
   "outputs": [
    {
     "data": {
      "text/latex": [
       "$\\displaystyle 2 a^{2} y \\left(y^{2} - 1\\right) \\left(\\frac{i \\omega y \\phi{\\left(y \\right)}}{1 - y^{2}} + \\frac{d}{d y} \\phi{\\left(y \\right)}\\right) + a^{2} \\left(y^{2} - 1\\right)^{2} \\left(- \\frac{2 i \\omega y \\frac{d}{d y} \\phi{\\left(y \\right)}}{y^{2} - 1} - \\frac{\\omega \\left(\\frac{\\omega y^{2}}{y^{2} - 1} - \\frac{2 i y^{2}}{y^{2} - 1} + i\\right) \\phi{\\left(y \\right)}}{y^{2} - 1} + \\frac{d^{2}}{d y^{2}} \\phi{\\left(y \\right)}\\right) + \\left(V_{0} a^{2} \\left(y^{2} - 1\\right) + \\omega^{2}\\right) \\phi{\\left(y \\right)}$"
      ],
      "text/plain": [
       "2*a**2*y*(y**2 - 1)*(I*\\omega*y*\\phi(y)/(1 - y**2) + Derivative(\\phi(y), y)) + a**2*(y**2 - 1)**2*(-2*I*\\omega*y*Derivative(\\phi(y), y)/(y**2 - 1) - \\omega*(\\omega*y**2/(y**2 - 1) - 2*I*y**2/(y**2 - 1) + I)*\\phi(y)/(y**2 - 1) + Derivative(\\phi(y), (y, 2))) + (V_0*a**2*(y**2 - 1) + \\omega**2)*\\phi(y)"
      ]
     },
     "execution_count": 423,
     "metadata": {},
     "output_type": "execute_result"
    }
   ],
   "source": [
    "sch_factor = sch_eq_bound.lhs.collect( (1-y**2)**(-I*w/2) )*(1-y**2)**(I*w/2)\n",
    "sch_factor"
   ]
  },
  {
   "cell_type": "code",
   "execution_count": 424,
   "metadata": {},
   "outputs": [
    {
     "data": {
      "text/latex": [
       "$\\displaystyle C \\left(V_{0} a^{2} \\left(y^{2} - 1\\right) + \\omega^{2}\\right) + 2 a^{2} y \\left(B + \\frac{i C \\omega y}{1 - y^{2}}\\right) \\left(y^{2} - 1\\right) + a^{2} \\left(y^{2} - 1\\right)^{2} \\left(A - \\frac{2 i B \\omega y}{y^{2} - 1} - \\frac{C \\omega \\left(\\frac{\\omega y^{2}}{y^{2} - 1} - \\frac{2 i y^{2}}{y^{2} - 1} + i\\right)}{y^{2} - 1}\\right) = 0$"
      ],
      "text/plain": [
       "Eq(C*(V_0*a**2*(y**2 - 1) + \\omega**2) + 2*a**2*y*(B + I*C*\\omega*y/(1 - y**2))*(y**2 - 1) + a**2*(y**2 - 1)**2*(A - 2*I*B*\\omega*y/(y**2 - 1) - C*\\omega*(\\omega*y**2/(y**2 - 1) - 2*I*y**2/(y**2 - 1) + I)/(y**2 - 1)), 0)"
      ]
     },
     "metadata": {},
     "output_type": "display_data"
    }
   ],
   "source": [
    "A,B,C = symbols(\"A B C\") #A,B,C represent second, first and zero-th order derivatives of phi\n",
    "sch_eq_abc = Eq( sch_factor.subs( diff(diff(phi,y),y), A ).subs( diff(phi,y), B ).subs(phi, C), 0)\n",
    "#sch_eq_y = factor(sch_eq_y)\n",
    "display(sch_eq_abc)"
   ]
  },
  {
   "cell_type": "code",
   "execution_count": 429,
   "metadata": {},
   "outputs": [
    {
     "data": {
      "text/latex": [
       "$\\displaystyle A \\left(a^{2} y^{4} - 2 a^{2} y^{2} + a^{2}\\right) + B \\left(- \\frac{2 i \\omega a^{2} y^{5}}{y^{2} - 1} + \\frac{4 i \\omega a^{2} y^{3}}{y^{2} - 1} - \\frac{2 i \\omega a^{2} y}{y^{2} - 1} + 2 a^{2} y^{3} - 2 a^{2} y\\right) + C \\left(V_{0} a^{2} y^{2} - V_{0} a^{2} - \\frac{\\omega^{2} a^{2} y^{6}}{y^{4} - 2 y^{2} + 1} + \\frac{2 \\omega^{2} a^{2} y^{4}}{y^{4} - 2 y^{2} + 1} - \\frac{\\omega^{2} a^{2} y^{2}}{y^{4} - 2 y^{2} + 1} + \\omega^{2} + \\frac{2 i \\omega a^{2} y^{6}}{y^{4} - 2 y^{2} + 1} - \\frac{4 i \\omega a^{2} y^{4}}{y^{4} - 2 y^{2} + 1} - \\frac{i \\omega a^{2} y^{4}}{y^{2} - 1} + \\frac{2 i \\omega a^{2} y^{4}}{1 - y^{2}} + \\frac{2 i \\omega a^{2} y^{2}}{y^{4} - 2 y^{2} + 1} + \\frac{2 i \\omega a^{2} y^{2}}{y^{2} - 1} - \\frac{2 i \\omega a^{2} y^{2}}{1 - y^{2}} - \\frac{i \\omega a^{2}}{y^{2} - 1}\\right) = 0$"
      ],
      "text/plain": [
       "Eq(A*(a**2*y**4 - 2*a**2*y**2 + a**2) + B*(-2*I*\\omega*a**2*y**5/(y**2 - 1) + 4*I*\\omega*a**2*y**3/(y**2 - 1) - 2*I*\\omega*a**2*y/(y**2 - 1) + 2*a**2*y**3 - 2*a**2*y) + C*(V_0*a**2*y**2 - V_0*a**2 - \\omega**2*a**2*y**6/(y**4 - 2*y**2 + 1) + 2*\\omega**2*a**2*y**4/(y**4 - 2*y**2 + 1) - \\omega**2*a**2*y**2/(y**4 - 2*y**2 + 1) + \\omega**2 + 2*I*\\omega*a**2*y**6/(y**4 - 2*y**2 + 1) - 4*I*\\omega*a**2*y**4/(y**4 - 2*y**2 + 1) - I*\\omega*a**2*y**4/(y**2 - 1) + 2*I*\\omega*a**2*y**4/(1 - y**2) + 2*I*\\omega*a**2*y**2/(y**4 - 2*y**2 + 1) + 2*I*\\omega*a**2*y**2/(y**2 - 1) - 2*I*\\omega*a**2*y**2/(1 - y**2) - I*\\omega*a**2/(y**2 - 1)), 0)"
      ]
     },
     "execution_count": 429,
     "metadata": {},
     "output_type": "execute_result"
    }
   ],
   "source": [
    "sch_eq_abc_col = Eq(sch_eq_abc.lhs.expand().collect(A).collect(B).collect(C),0)\n",
    "sch_eq_abc_col"
   ]
  },
  {
   "cell_type": "code",
   "execution_count": 436,
   "metadata": {},
   "outputs": [
    {
     "data": {
      "text/latex": [
       "$\\displaystyle A \\left(a^{2} y^{4} - 2 a^{2} y^{2} + a^{2}\\right) + B \\left(- 2 i \\omega a^{2} y^{3} + 2 i \\omega a^{2} y + 2 a^{2} y^{3} - 2 a^{2} y\\right) + C \\left(V_{0} a^{2} y^{2} - V_{0} a^{2} - \\omega^{2} a^{2} y^{2} + \\omega^{2} - i \\omega a^{2} y^{2} + i \\omega a^{2}\\right)$"
      ],
      "text/plain": [
       "A*(a**2*y**4 - 2*a**2*y**2 + a**2) + B*(-2*I*\\omega*a**2*y**3 + 2*I*\\omega*a**2*y + 2*a**2*y**3 - 2*a**2*y) + C*(V_0*a**2*y**2 - V_0*a**2 - \\omega**2*a**2*y**2 + \\omega**2 - I*\\omega*a**2*y**2 + I*\\omega*a**2)"
      ]
     },
     "execution_count": 436,
     "metadata": {},
     "output_type": "execute_result"
    }
   ],
   "source": [
    "sch_eq_abc_col_sim = sch_eq_abc_col.lhs.simplify().collect(A).collect(B).collect(C)\n",
    "sch_eq_abc_col_sim"
   ]
  },
  {
   "cell_type": "code",
   "execution_count": 427,
   "metadata": {},
   "outputs": [
    {
     "data": {
      "text/latex": [
       "$\\displaystyle a^{2} y^{4} - 2 a^{2} y^{2} + a^{2}$"
      ],
      "text/plain": [
       "a**2*y**4 - 2*a**2*y**2 + a**2"
      ]
     },
     "execution_count": 427,
     "metadata": {},
     "output_type": "execute_result"
    }
   ],
   "source": [
    "# Normalization\n",
    "norm = (a**2*y**4 - 2*a**2*y**2 + a**2)\n",
    "norm"
   ]
  },
  {
   "cell_type": "code",
   "execution_count": 444,
   "metadata": {},
   "outputs": [
    {
     "data": {
      "text/latex": [
       "$\\displaystyle A + \\frac{B \\left(- 2 i \\omega a^{2} y^{3} + 2 i \\omega a^{2} y + 2 a^{2} y^{3} - 2 a^{2} y\\right)}{a^{2} y^{4} - 2 a^{2} y^{2} + a^{2}} + \\frac{C \\left(V_{0} a^{2} y^{2} - V_{0} a^{2} - \\omega^{2} a^{2} y^{2} + \\omega^{2} - i \\omega a^{2} y^{2} + i \\omega a^{2}\\right)}{a^{2} y^{4} - 2 a^{2} y^{2} + a^{2}} = 0$"
      ],
      "text/plain": [
       "Eq(A + B*(-2*I*\\omega*a**2*y**3 + 2*I*\\omega*a**2*y + 2*a**2*y**3 - 2*a**2*y)/(a**2*y**4 - 2*a**2*y**2 + a**2) + C*(V_0*a**2*y**2 - V_0*a**2 - \\omega**2*a**2*y**2 + \\omega**2 - I*\\omega*a**2*y**2 + I*\\omega*a**2)/(a**2*y**4 - 2*a**2*y**2 + a**2), 0)"
      ]
     },
     "execution_count": 444,
     "metadata": {},
     "output_type": "execute_result"
    }
   ],
   "source": [
    "sch_new = Eq( A + B * (-2*I*w*a**2*y**3 + 2*I*w*a**2*y + 2*a**2*y**3 - 2*a**2*y) / norm + C * (v*a**2*y**2 - v*a**2 - w**2*a**2*y**2 + w**2 - I*w*a**2*y**2 + I*w*a**2) / norm, 0 )\n",
    "sch_new"
   ]
  },
  {
   "cell_type": "code",
   "execution_count": 447,
   "metadata": {},
   "outputs": [
    {
     "data": {
      "text/latex": [
       "$\\displaystyle \\frac{2 y \\left(- i \\omega + 1\\right)}{y^{2} - 1}$"
      ],
      "text/plain": [
       "2*y*(-I*\\omega + 1)/(y**2 - 1)"
      ]
     },
     "execution_count": 447,
     "metadata": {},
     "output_type": "execute_result"
    }
   ],
   "source": [
    "((-2*I*w*a**2*y**3 + 2*I*w*a**2*y + 2*a**2*y**3 - 2*a**2*y) / norm).simplify()"
   ]
  },
  {
   "cell_type": "code",
   "execution_count": 457,
   "metadata": {},
   "outputs": [
    {
     "data": {
      "text/latex": [
       "$\\displaystyle \\frac{V_{0} a^{2} y^{2} - V_{0} a^{2} - \\omega^{2} a^{2} y^{2} + \\omega^{2} - i \\omega a^{2} y^{2} + i \\omega a^{2}}{a^{2} \\left(y^{4} - 2 y^{2} + 1\\right)}$"
      ],
      "text/plain": [
       "(V_0*a**2*y**2 - V_0*a**2 - \\omega**2*a**2*y**2 + \\omega**2 - I*\\omega*a**2*y**2 + I*\\omega*a**2)/(a**2*(y**4 - 2*y**2 + 1))"
      ]
     },
     "execution_count": 457,
     "metadata": {},
     "output_type": "execute_result"
    }
   ],
   "source": [
    "coeff = ((v*a**2*y**2 - v*a**2 - w**2*a**2*y**2 + w**2 - I*w*a**2*y**2 + I*w*a**2) / norm).simplify()\n",
    "coeff"
   ]
  },
  {
   "cell_type": "code",
   "execution_count": 454,
   "metadata": {},
   "outputs": [
    {
     "data": {
      "text/latex": [
       "$\\displaystyle \\frac{- \\omega^{2} - i \\omega + \\frac{1}{2}}{y^{2} - 1}$"
      ],
      "text/plain": [
       "(-\\omega**2 - I*\\omega + 1/2)/(y**2 - 1)"
      ]
     },
     "execution_count": 454,
     "metadata": {},
     "output_type": "execute_result"
    }
   ],
   "source": [
    "coeff.subs(v,S(1)/2).subs(a,1).simplify()"
   ]
  },
  {
   "cell_type": "code",
   "execution_count": 461,
   "metadata": {},
   "outputs": [
    {
     "data": {
      "text/latex": [
       "$\\displaystyle \\frac{- \\omega^{2} - i \\omega + \\frac{1}{2}}{y^{2} - 1}$"
      ],
      "text/plain": [
       "(-\\omega**2 - I*\\omega + 1/2)/(y**2 - 1)"
      ]
     },
     "execution_count": 461,
     "metadata": {},
     "output_type": "execute_result"
    }
   ],
   "source": [
    "( (I*w - v)/(1-y**2) + (w**2*(1-a**2*y**2))/(a**2*(1-y**2)**2) ).subs(v, S(1)/2).subs(a,1).simplify()"
   ]
  },
  {
   "cell_type": "markdown",
   "metadata": {},
   "source": [
    "CORRECT RESULT! YAY!"
   ]
  },
  {
   "cell_type": "markdown",
   "metadata": {},
   "source": [
    "Find maximum of potential\n",
    "\n",
    "$V(x) = \\alpha^2 V_0 \\text{sech}^2(\\alpha x)$"
   ]
  },
  {
   "cell_type": "code",
   "execution_count": 463,
   "metadata": {},
   "outputs": [
    {
     "data": {
      "text/latex": [
       "$\\displaystyle V_{0} a^{2} \\operatorname{sech}^{2}{\\left(a x \\right)}$"
      ],
      "text/plain": [
       "V_0*a**2*sech(a*x)**2"
      ]
     },
     "execution_count": 463,
     "metadata": {},
     "output_type": "execute_result"
    }
   ],
   "source": [
    "V = a**2*v*sech(a*x)**2\n",
    "V"
   ]
  },
  {
   "cell_type": "code",
   "execution_count": 469,
   "metadata": {},
   "outputs": [
    {
     "data": {
      "text/latex": [
       "$\\displaystyle V_{0} a^{2} \\cdot \\left(1 - y^{2}\\right)$"
      ],
      "text/plain": [
       "V_0*a**2*(1 - y**2)"
      ]
     },
     "execution_count": 469,
     "metadata": {},
     "output_type": "execute_result"
    }
   ],
   "source": [
    "V_y = V.subs(x, 1/a*atanh(y))\n",
    "V_y"
   ]
  },
  {
   "cell_type": "code",
   "execution_count": 472,
   "metadata": {},
   "outputs": [
    {
     "data": {
      "text/latex": [
       "$\\displaystyle - 2 V_{0} a^{2} y$"
      ],
      "text/plain": [
       "-2*V_0*a**2*y"
      ]
     },
     "metadata": {},
     "output_type": "display_data"
    },
    {
     "data": {
      "text/plain": [
       "[{V_0: 0}, {y: 0}]"
      ]
     },
     "execution_count": 472,
     "metadata": {},
     "output_type": "execute_result"
    }
   ],
   "source": [
    "display(diff(V_y, y, 1))\n",
    "solve(Eq(diff(V_y, y, 1),0))"
   ]
  },
  {
   "cell_type": "markdown",
   "metadata": {},
   "source": []
  }
 ],
 "metadata": {
  "kernelspec": {
   "display_name": "Python 3",
   "language": "python",
   "name": "python3"
  },
  "language_info": {
   "codemirror_mode": {
    "name": "ipython",
    "version": 3
   },
   "file_extension": ".py",
   "mimetype": "text/x-python",
   "name": "python",
   "nbconvert_exporter": "python",
   "pygments_lexer": "ipython3",
   "version": "3.10.12"
  }
 },
 "nbformat": 4,
 "nbformat_minor": 2
}

{
 "cells": [
  {
   "cell_type": "code",
   "execution_count": 262,
   "id": "f9e49f02",
   "metadata": {},
   "outputs": [],
   "source": [
    "import numpy as np\n",
    "import sympy as sp"
   ]
  },
  {
   "cell_type": "code",
   "execution_count": 263,
   "id": "c4a88954",
   "metadata": {},
   "outputs": [],
   "source": [
    "# Psi (function)\n",
    "psi, rs, w = sp.symbols(\"psi, r_*, omega\")\n",
    "# Real and positive values\n",
    "r, m, l, y = sp.symbols(\"r, m, ell, y\", positive = True)"
   ]
  },
  {
   "cell_type": "markdown",
   "id": "b5e8ea3b",
   "metadata": {},
   "source": [
    "### Schwarzschild Metric\n",
    "\n",
    "$$\n",
    "ds^2 = \\left(1 - \\frac{2m}{r^2}\\right)\\,dt^2 + \\left(1 - \\frac{2m}{r^2}\\right)^{-1}\\,dr^2 + r^2\\,d\\Omega_2^2 \n",
    "$$"
   ]
  },
  {
   "cell_type": "markdown",
   "id": "18711171",
   "metadata": {},
   "source": [
    "Define $G(r)$, $F(r)$, and $G(r)$"
   ]
  },
  {
   "cell_type": "code",
   "execution_count": 264,
   "id": "2713097c",
   "metadata": {},
   "outputs": [
    {
     "data": {
      "text/latex": [
       "$\\displaystyle - \\frac{2 m}{r} + 1$"
      ],
      "text/plain": [
       "-2*m/r + 1"
      ]
     },
     "execution_count": 264,
     "metadata": {},
     "output_type": "execute_result"
    }
   ],
   "source": [
    "G = (1 - (2*m) / r)\n",
    "G"
   ]
  },
  {
   "cell_type": "code",
   "execution_count": 265,
   "id": "4ec7169f",
   "metadata": {},
   "outputs": [
    {
     "data": {
      "text/latex": [
       "$\\displaystyle \\frac{1}{- \\frac{2 m}{r} + 1}$"
      ],
      "text/plain": [
       "1/(-2*m/r + 1)"
      ]
     },
     "execution_count": 265,
     "metadata": {},
     "output_type": "execute_result"
    }
   ],
   "source": [
    "F = 1 / G\n",
    "F"
   ]
  },
  {
   "cell_type": "code",
   "execution_count": 266,
   "id": "741e84a7",
   "metadata": {},
   "outputs": [
    {
     "data": {
      "text/latex": [
       "$\\displaystyle r^{2}$"
      ],
      "text/plain": [
       "r**2"
      ]
     },
     "execution_count": 266,
     "metadata": {},
     "output_type": "execute_result"
    }
   ],
   "source": [
    "H = r**2\n",
    "H"
   ]
  },
  {
   "cell_type": "markdown",
   "id": "2e495112",
   "metadata": {},
   "source": [
    "Calculate derivatives $G'(r)$, $F'(r)$, $H'(r)$, $H''(r)$"
   ]
  },
  {
   "cell_type": "code",
   "execution_count": 267,
   "id": "647789c1",
   "metadata": {},
   "outputs": [
    {
     "data": {
      "text/latex": [
       "$\\displaystyle 2 r$"
      ],
      "text/plain": [
       "2*r"
      ]
     },
     "execution_count": 267,
     "metadata": {},
     "output_type": "execute_result"
    }
   ],
   "source": [
    "Hp = sp.Derivative(H, r, evaluate = True)\n",
    "Hp"
   ]
  },
  {
   "cell_type": "code",
   "execution_count": 268,
   "id": "ee47f09a",
   "metadata": {},
   "outputs": [
    {
     "data": {
      "text/latex": [
       "$\\displaystyle 2$"
      ],
      "text/plain": [
       "2"
      ]
     },
     "execution_count": 268,
     "metadata": {},
     "output_type": "execute_result"
    }
   ],
   "source": [
    "Hpp = sp.Derivative(Hp, r, evaluate = True)\n",
    "Hpp"
   ]
  },
  {
   "cell_type": "code",
   "execution_count": 269,
   "id": "b413d352",
   "metadata": {},
   "outputs": [
    {
     "data": {
      "text/latex": [
       "$\\displaystyle \\frac{2 m}{r^{2}}$"
      ],
      "text/plain": [
       "2*m/r**2"
      ]
     },
     "execution_count": 269,
     "metadata": {},
     "output_type": "execute_result"
    }
   ],
   "source": [
    "Gp = sp.Derivative(G, r, evaluate = True)\n",
    "Gp"
   ]
  },
  {
   "cell_type": "code",
   "execution_count": 270,
   "id": "f423e6eb",
   "metadata": {},
   "outputs": [
    {
     "data": {
      "text/latex": [
       "$\\displaystyle - \\frac{2 m}{r^{2} \\left(- \\frac{2 m}{r} + 1\\right)^{2}}$"
      ],
      "text/plain": [
       "-2*m/(r**2*(-2*m/r + 1)**2)"
      ]
     },
     "execution_count": 270,
     "metadata": {},
     "output_type": "execute_result"
    }
   ],
   "source": [
    "Fp = sp.Derivative(F, r, evaluate = True)\n",
    "Fp"
   ]
  },
  {
   "cell_type": "markdown",
   "id": "25907e7e",
   "metadata": {},
   "source": [
    "Compute radial function $R(r)$"
   ]
  },
  {
   "cell_type": "code",
   "execution_count": 271,
   "id": "2215073b",
   "metadata": {},
   "outputs": [
    {
     "data": {
      "text/latex": [
       "$\\displaystyle \\left(- \\frac{2 m}{r} + 1\\right) \\left(\\frac{m}{r^{3} \\left(- \\frac{2 m}{r} + 1\\right)} + \\frac{4 m}{r^{3} \\left(- \\frac{8 m}{r} + 4\\right)} - \\frac{2}{r^{2}}\\right) + \\frac{2}{r^{2}}$"
      ],
      "text/plain": [
       "(-2*m/r + 1)*(m/(r**3*(-2*m/r + 1)) + 4*m/(r**3*(-8*m/r + 4)) - 2/r**2) + 2/r**2"
      ]
     },
     "execution_count": 271,
     "metadata": {},
     "output_type": "execute_result"
    }
   ],
   "source": [
    "R = 2/H + 1/F * ( Gp * Hp / (4 * G * H) - Fp * Hp / (4 * F * H) - 3 * Hp**2 / (4 * H**2) + Hpp/(2 * H) )\n",
    "R"
   ]
  },
  {
   "cell_type": "code",
   "execution_count": 272,
   "id": "29282ca7",
   "metadata": {},
   "outputs": [
    {
     "data": {
      "text/latex": [
       "$\\displaystyle \\frac{6 m}{r^{3}}$"
      ],
      "text/plain": [
       "6*m/r**3"
      ]
     },
     "execution_count": 272,
     "metadata": {},
     "output_type": "execute_result"
    }
   ],
   "source": [
    "R.simplify()"
   ]
  },
  {
   "cell_type": "markdown",
   "id": "45e1625d",
   "metadata": {},
   "source": [
    "Compute potential $V(r)$"
   ]
  },
  {
   "cell_type": "code",
   "execution_count": 273,
   "id": "031fbdee",
   "metadata": {},
   "outputs": [
    {
     "data": {
      "text/latex": [
       "$\\displaystyle \\left(- \\frac{2 m}{r} + 1\\right) \\left(\\frac{\\ell \\left(\\ell + 1\\right)}{r^{2}} - \\frac{6 m}{r^{3}}\\right)$"
      ],
      "text/plain": [
       "(-2*m/r + 1)*(ell*(ell + 1)/r**2 - 6*m/r**3)"
      ]
     },
     "execution_count": 273,
     "metadata": {},
     "output_type": "execute_result"
    }
   ],
   "source": [
    "V = G * (l*(l+1)/H - R.simplify())\n",
    "V"
   ]
  },
  {
   "cell_type": "markdown",
   "id": "de55a778",
   "metadata": {},
   "source": [
    "Differential equation"
   ]
  },
  {
   "cell_type": "code",
   "execution_count": 274,
   "id": "e740baa5",
   "metadata": {},
   "outputs": [
    {
     "data": {
      "text/latex": [
       "$\\displaystyle \\frac{d^{2}}{d r_{*}^{2}} \\psi$"
      ],
      "text/plain": [
       "Derivative(psi, (r_*, 2))"
      ]
     },
     "execution_count": 274,
     "metadata": {},
     "output_type": "execute_result"
    }
   ],
   "source": [
    "# Define second-order derivative\n",
    "ddpsiddrstar = sp.Derivative( sp.Derivative(psi, rs, evaluate = False), rs, evaluate = False )\n",
    "ddpsiddrstar"
   ]
  },
  {
   "cell_type": "code",
   "execution_count": 275,
   "id": "5fd0a408",
   "metadata": {},
   "outputs": [
    {
     "data": {
      "text/latex": [
       "$\\displaystyle \\psi \\left(\\omega^{2} - \\left(- \\frac{2 m}{r} + 1\\right) \\left(\\frac{\\ell \\left(\\ell + 1\\right)}{r^{2}} - \\frac{6 m}{r^{3}}\\right)\\right) + \\frac{d^{2}}{d r_{*}^{2}} \\psi$"
      ],
      "text/plain": [
       "psi*(omega**2 - (-2*m/r + 1)*(ell*(ell + 1)/r**2 - 6*m/r**3)) + Derivative(psi, (r_*, 2))"
      ]
     },
     "execution_count": 275,
     "metadata": {},
     "output_type": "execute_result"
    }
   ],
   "source": [
    "eq = ddpsiddrstar + (w**2 - V)*psi\n",
    "eq"
   ]
  },
  {
   "cell_type": "markdown",
   "id": "8a330ffa",
   "metadata": {},
   "source": [
    "Calculate tortoise coordinate\n",
    "$$\n",
    "dr_* = \\sqrt{\\frac{F(r)}{G(r)}}dr\n",
    "$$"
   ]
  },
  {
   "cell_type": "markdown",
   "id": "05bcd621",
   "metadata": {},
   "source": [
    "under change of coordinates:\n",
    "$$\n",
    "y = 1-\\frac{2m}{r} \\rightarrow r = \\frac{2m}{1-y}\n",
    "$$"
   ]
  },
  {
   "cell_type": "markdown",
   "id": "684ae7f3",
   "metadata": {},
   "source": [
    "Expand second derivative over tortoise coordinate as chain rule of derivatives\n",
    "$$\n",
    "\\frac{d^2\\psi(r)}{dr_*^2} = \\left(\\frac{d^2y}{dr_*^2}\\right)\\frac{d\\psi(y)}{dy} + \\left(\\frac{dy}{dr_*}\\right)^2\\frac{d^2\\psi}{dy^2}\n",
    "$$\n",
    "\n",
    "where:\n",
    "$$\n",
    "\\frac{d^2y}{dr_*^2} = - \\frac{d/dy(dr_*/dy)}{(dr_*/dy)^3}\n",
    "$$"
   ]
  },
  {
   "cell_type": "markdown",
   "id": "26b5d2c2",
   "metadata": {},
   "source": [
    "Define change of variables"
   ]
  },
  {
   "cell_type": "code",
   "execution_count": 276,
   "id": "0be32c2e",
   "metadata": {},
   "outputs": [
    {
     "data": {
      "text/latex": [
       "$\\displaystyle - \\frac{2 m}{r} + 1$"
      ],
      "text/plain": [
       "-2*m/r + 1"
      ]
     },
     "execution_count": 276,
     "metadata": {},
     "output_type": "execute_result"
    }
   ],
   "source": [
    "# Define change of variable y = ...\n",
    "var_change_y = 1 - 2*m/r\n",
    "var_change_y"
   ]
  },
  {
   "cell_type": "code",
   "execution_count": 277,
   "id": "2a327a54",
   "metadata": {},
   "outputs": [
    {
     "data": {
      "text/latex": [
       "$\\displaystyle \\frac{2 m}{1 - y}$"
      ],
      "text/plain": [
       "2*m/(1 - y)"
      ]
     },
     "execution_count": 277,
     "metadata": {},
     "output_type": "execute_result"
    }
   ],
   "source": [
    "# Define change of variable r = ...\n",
    "var_change_r = 2*m/(1-y)\n",
    "var_change_r"
   ]
  },
  {
   "cell_type": "code",
   "execution_count": 278,
   "id": "54245ad1",
   "metadata": {},
   "outputs": [
    {
     "data": {
      "text/latex": [
       "$\\displaystyle \\frac{2 m}{\\left(1 - y\\right)^{2}}$"
      ],
      "text/plain": [
       "2*m/(1 - y)**2"
      ]
     },
     "execution_count": 278,
     "metadata": {},
     "output_type": "execute_result"
    }
   ],
   "source": [
    "# Compute dr = ... dy\n",
    "drdy = sp.Derivative(var_change_r, y, evaluate = True)\n",
    "drdy"
   ]
  },
  {
   "cell_type": "code",
   "execution_count": 279,
   "id": "16f21fdc",
   "metadata": {},
   "outputs": [
    {
     "data": {
      "text/latex": [
       "$\\displaystyle \\frac{2 m}{y \\left(1 - y\\right)^{2}}$"
      ],
      "text/plain": [
       "2*m/(y*(1 - y)**2)"
      ]
     },
     "execution_count": 279,
     "metadata": {},
     "output_type": "execute_result"
    }
   ],
   "source": [
    "# Compute dr_*/dy\n",
    "drstardr = (sp.sqrt(F / G)).subs(r, var_change_r) * drdy\n",
    "drstardr"
   ]
  },
  {
   "cell_type": "code",
   "execution_count": 280,
   "id": "19894032",
   "metadata": {},
   "outputs": [
    {
     "data": {
      "text/latex": [
       "$\\displaystyle \\frac{y \\left(1 - y\\right)^{2}}{2 m}$"
      ],
      "text/plain": [
       "y*(1 - y)**2/(2*m)"
      ]
     },
     "execution_count": 280,
     "metadata": {},
     "output_type": "execute_result"
    }
   ],
   "source": [
    "# Compute dy/dr_*\n",
    "dydrstar = 1 / drstardr\n",
    "dydrstar"
   ]
  },
  {
   "cell_type": "code",
   "execution_count": 281,
   "id": "e8287614",
   "metadata": {},
   "outputs": [
    {
     "data": {
      "text/latex": [
       "$\\displaystyle \\frac{y \\left(y - 1\\right)^{3} \\left(3 y - 1\\right)}{4 m^{2}}$"
      ],
      "text/plain": [
       "y*(y - 1)**3*(3*y - 1)/(4*m**2)"
      ]
     },
     "execution_count": 281,
     "metadata": {},
     "output_type": "execute_result"
    }
   ],
   "source": [
    "# Compute d^2y/dr_*^2\n",
    "ddyddrstar = - (sp.Derivative(drstardr, y, evaluate = True) / (drstardr)**3).simplify()\n",
    "ddyddrstar"
   ]
  },
  {
   "cell_type": "code",
   "execution_count": 282,
   "id": "1f9860b8",
   "metadata": {},
   "outputs": [
    {
     "data": {
      "text/latex": [
       "$\\displaystyle \\psi{\\left(y \\right)}$"
      ],
      "text/plain": [
       "psi(y)"
      ]
     },
     "execution_count": 282,
     "metadata": {},
     "output_type": "execute_result"
    }
   ],
   "source": [
    "# Define new psi(y)\n",
    "psi_y = sp.Function('psi')(y)\n",
    "psi_y"
   ]
  },
  {
   "cell_type": "code",
   "execution_count": 298,
   "id": "61946ca7",
   "metadata": {},
   "outputs": [
    {
     "data": {
      "text/latex": [
       "$\\displaystyle \\frac{y^{2} \\left(1 - y\\right)^{4} \\frac{d^{2}}{d y^{2}} \\psi{\\left(y \\right)}}{4 m^{2}} + \\frac{y \\left(y - 1\\right)^{3} \\left(3 y - 1\\right) \\frac{d}{d y} \\psi{\\left(y \\right)}}{4 m^{2}}$"
      ],
      "text/plain": [
       "y**2*(1 - y)**4*Derivative(psi(y), (y, 2))/(4*m**2) + y*(y - 1)**3*(3*y - 1)*Derivative(psi(y), y)/(4*m**2)"
      ]
     },
     "execution_count": 298,
     "metadata": {},
     "output_type": "execute_result"
    }
   ],
   "source": [
    "# Compute second-order derivative of psi in terms of y\n",
    "ddpsiddy = ddyddrstar * sp.Derivative(psi_y, y, evaluate = False) + dydrstar**2 * sp.Derivative(sp.Derivative(psi_y, y, evaluate = False), y, evaluate = False)\n",
    "ddpsiddy"
   ]
  },
  {
   "cell_type": "code",
   "execution_count": 299,
   "id": "13ea3f66",
   "metadata": {},
   "outputs": [
    {
     "data": {
      "text/latex": [
       "$\\displaystyle \\frac{d}{d y} \\psi{\\left(y \\right)}$"
      ],
      "text/plain": [
       "Derivative(psi(y), y)"
      ]
     },
     "execution_count": 299,
     "metadata": {},
     "output_type": "execute_result"
    }
   ],
   "source": [
    "# First order derivative\n",
    "dpsidy = sp.Derivative(psi_y, y, evaluate = False)\n",
    "dpsidy"
   ]
  },
  {
   "cell_type": "markdown",
   "id": "f7408067",
   "metadata": {},
   "source": [
    "Substitute $y$ variable into equation"
   ]
  },
  {
   "cell_type": "code",
   "execution_count": 300,
   "id": "00b07e5f",
   "metadata": {},
   "outputs": [
    {
     "data": {
      "text/latex": [
       "$\\displaystyle \\psi \\left(\\omega^{2} - y \\left(\\frac{\\ell \\left(1 - y\\right)^{2} \\left(\\ell + 1\\right)}{4 m^{2}} - \\frac{3 \\left(1 - y\\right)^{3}}{4 m^{2}}\\right)\\right) + \\frac{d^{2}}{d r_{*}^{2}} \\psi$"
      ],
      "text/plain": [
       "psi*(omega**2 - y*(ell*(1 - y)**2*(ell + 1)/(4*m**2) - 3*(1 - y)**3/(4*m**2))) + Derivative(psi, (r_*, 2))"
      ]
     },
     "execution_count": 300,
     "metadata": {},
     "output_type": "execute_result"
    }
   ],
   "source": [
    "eq_y = eq.subs(r, var_change_r)\n",
    "eq_y"
   ]
  },
  {
   "cell_type": "markdown",
   "id": "5b9870f5",
   "metadata": {},
   "source": [
    "Substitute $d^2/dr_*^2$ into equation"
   ]
  },
  {
   "cell_type": "code",
   "execution_count": 301,
   "id": "1704c6f6",
   "metadata": {},
   "outputs": [
    {
     "data": {
      "text/latex": [
       "$\\displaystyle \\psi \\left(\\omega^{2} - y \\left(\\frac{\\ell \\left(1 - y\\right)^{2} \\left(\\ell + 1\\right)}{4 m^{2}} - \\frac{3 \\left(1 - y\\right)^{3}}{4 m^{2}}\\right)\\right) + \\frac{y^{2} \\left(1 - y\\right)^{4} \\frac{d^{2}}{d y^{2}} \\psi{\\left(y \\right)}}{4 m^{2}} + \\frac{y \\left(y - 1\\right)^{3} \\left(3 y - 1\\right) \\frac{d}{d y} \\psi{\\left(y \\right)}}{4 m^{2}}$"
      ],
      "text/plain": [
       "psi*(omega**2 - y*(ell*(1 - y)**2*(ell + 1)/(4*m**2) - 3*(1 - y)**3/(4*m**2))) + y**2*(1 - y)**4*Derivative(psi(y), (y, 2))/(4*m**2) + y*(y - 1)**3*(3*y - 1)*Derivative(psi(y), y)/(4*m**2)"
      ]
     },
     "execution_count": 301,
     "metadata": {},
     "output_type": "execute_result"
    }
   ],
   "source": [
    "eq_yy = eq_y.subs( ddpsiddrstar, ddpsiddy )\n",
    "eq_yy"
   ]
  },
  {
   "cell_type": "markdown",
   "id": "47017277",
   "metadata": {},
   "source": [
    "Normalize second-order derivative term"
   ]
  },
  {
   "cell_type": "code",
   "execution_count": 302,
   "id": "11f1de06",
   "metadata": {},
   "outputs": [
    {
     "data": {
      "text/latex": [
       "$\\displaystyle \\frac{y^{2} \\left(1 - y\\right)^{4}}{4 m^{2}}$"
      ],
      "text/plain": [
       "y**2*(1 - y)**4/(4*m**2)"
      ]
     },
     "execution_count": 302,
     "metadata": {},
     "output_type": "execute_result"
    }
   ],
   "source": [
    "ddpsiddy_coeff = eq_yy.coeff(sp.Derivative(sp.Derivative(psi_y, y), y))\n",
    "ddpsiddy_coeff"
   ]
  },
  {
   "cell_type": "code",
   "execution_count": 303,
   "id": "51b93c2e",
   "metadata": {},
   "outputs": [
    {
     "data": {
      "text/latex": [
       "$\\displaystyle \\frac{y \\left(y - 1\\right)^{3} \\left(3 y - 1\\right)}{4 m^{2}}$"
      ],
      "text/plain": [
       "y*(y - 1)**3*(3*y - 1)/(4*m**2)"
      ]
     },
     "execution_count": 303,
     "metadata": {},
     "output_type": "execute_result"
    }
   ],
   "source": [
    "dpsidy_coeff = eq_yy.coeff(sp.Derivative(psi_y, y))\n",
    "dpsidy_coeff"
   ]
  },
  {
   "cell_type": "code",
   "execution_count": 304,
   "id": "ade4ceb0",
   "metadata": {},
   "outputs": [
    {
     "data": {
      "text/latex": [
       "$\\displaystyle \\omega^{2} - y \\left(\\frac{\\ell \\left(1 - y\\right)^{2} \\left(\\ell + 1\\right)}{4 m^{2}} - \\frac{3 \\left(1 - y\\right)^{3}}{4 m^{2}}\\right)$"
      ],
      "text/plain": [
       "omega**2 - y*(ell*(1 - y)**2*(ell + 1)/(4*m**2) - 3*(1 - y)**3/(4*m**2))"
      ]
     },
     "execution_count": 304,
     "metadata": {},
     "output_type": "execute_result"
    }
   ],
   "source": [
    "psi_coeff = eq_yy.coeff(psi)\n",
    "psi_coeff"
   ]
  },
  {
   "cell_type": "code",
   "execution_count": 305,
   "id": "0dc12636",
   "metadata": {},
   "outputs": [
    {
     "data": {
      "text/latex": [
       "$\\displaystyle \\frac{3 y - 1}{y \\left(y - 1\\right)}$"
      ],
      "text/plain": [
       "(3*y - 1)/(y*(y - 1))"
      ]
     },
     "execution_count": 305,
     "metadata": {},
     "output_type": "execute_result"
    }
   ],
   "source": [
    "# New normalized coefficient for first derivative term\n",
    "dpsidy_coeff_norm = (dpsidy_coeff / ddpsiddy_coeff).simplify()\n",
    "dpsidy_coeff_norm"
   ]
  },
  {
   "cell_type": "code",
   "execution_count": 306,
   "id": "a2634c29",
   "metadata": {},
   "outputs": [
    {
     "data": {
      "text/latex": [
       "$\\displaystyle \\frac{4 m^{2} \\omega^{2} - y \\left(y - 1\\right)^{2} \\left(\\ell \\left(\\ell + 1\\right) + 3 y - 3\\right)}{y^{2} \\left(y - 1\\right)^{4}}$"
      ],
      "text/plain": [
       "(4*m**2*omega**2 - y*(y - 1)**2*(ell*(ell + 1) + 3*y - 3))/(y**2*(y - 1)**4)"
      ]
     },
     "execution_count": 306,
     "metadata": {},
     "output_type": "execute_result"
    }
   ],
   "source": [
    "# New normalzied coefficient for psi term\n",
    "psi_coeff_norm = (psi_coeff / ddpsiddy_coeff).simplify()\n",
    "psi_coeff_norm"
   ]
  },
  {
   "cell_type": "code",
   "execution_count": 307,
   "id": "12139488",
   "metadata": {},
   "outputs": [
    {
     "data": {
      "text/latex": [
       "$\\displaystyle \\frac{d^{2}}{d y^{2}} \\psi{\\left(y \\right)} + \\frac{\\left(3 y - 1\\right) \\frac{d}{d y} \\psi{\\left(y \\right)}}{y \\left(y - 1\\right)} + \\frac{\\left(4 m^{2} \\omega^{2} - y \\left(y - 1\\right)^{2} \\left(\\ell \\left(\\ell + 1\\right) + 3 y - 3\\right)\\right) \\psi{\\left(y \\right)}}{y^{2} \\left(y - 1\\right)^{4}}$"
      ],
      "text/plain": [
       "Derivative(psi(y), (y, 2)) + (3*y - 1)*Derivative(psi(y), y)/(y*(y - 1)) + (4*m**2*omega**2 - y*(y - 1)**2*(ell*(ell + 1) + 3*y - 3))*psi(y)/(y**2*(y - 1)**4)"
      ]
     },
     "execution_count": 307,
     "metadata": {},
     "output_type": "execute_result"
    }
   ],
   "source": [
    "# Generate new normalized equation\n",
    "eq_yy_norm = sp.Derivative(sp.Derivative(psi_y, y), y) + dpsidy * dpsidy_coeff_norm + psi_y * psi_coeff_norm\n",
    "eq_yy_norm"
   ]
  },
  {
   "cell_type": "markdown",
   "id": "38b2de3b",
   "metadata": {},
   "source": [
    "Define boundary conditions\n",
    "$$\n",
    "\\psi(y) \\sim y^{-2i\\omega m}(1-y)^{-2i\\omega m}\\exp\\left(\\frac{2i\\omega m}{1-y}\\right)\\phi(y)\n",
    "$$"
   ]
  },
  {
   "cell_type": "code",
   "execution_count": 308,
   "id": "adce6c44",
   "metadata": {},
   "outputs": [
    {
     "data": {
      "text/latex": [
       "$\\displaystyle \\phi{\\left(y \\right)}$"
      ],
      "text/plain": [
       "phi(y)"
      ]
     },
     "execution_count": 308,
     "metadata": {},
     "output_type": "execute_result"
    }
   ],
   "source": [
    "# Define new function\n",
    "phi_y = sp.Function('phi')(y)\n",
    "phi_y"
   ]
  },
  {
   "cell_type": "code",
   "execution_count": 310,
   "id": "d445feab",
   "metadata": {},
   "outputs": [
    {
     "data": {
      "text/latex": [
       "$\\displaystyle y^{- 2 i m \\omega} \\left(1 - y\\right)^{- 2 i m \\omega} \\phi{\\left(y \\right)} e^{\\frac{2 i m \\omega}{1 - y}}$"
      ],
      "text/plain": [
       "phi(y)*exp(2*I*m*omega/(1 - y))/(y**(2*I*m*omega)*(1 - y)**(2*I*m*omega))"
      ]
     },
     "execution_count": 310,
     "metadata": {},
     "output_type": "execute_result"
    }
   ],
   "source": [
    "# Define new psi from boundary conditions\n",
    "psi_y_bc = y**(-2*sp.I*w*m)*(1-y)**(-2*sp.I*w*m)*sp.exp(2*sp.I*w*m/(1-y))*phi_y\n",
    "psi_y_bc"
   ]
  },
  {
   "cell_type": "code",
   "execution_count": null,
   "id": "64003152",
   "metadata": {},
   "outputs": [
    {
     "data": {
      "text/latex": [
       "$\\displaystyle \\frac{2 i m \\omega y^{- 2 i m \\omega} \\left(1 - y\\right)^{- 2 i m \\omega} \\phi{\\left(y \\right)} e^{\\frac{2 i m \\omega}{1 - y}}}{1 - y} + \\frac{2 i m \\omega y^{- 2 i m \\omega} \\left(1 - y\\right)^{- 2 i m \\omega} \\phi{\\left(y \\right)} e^{\\frac{2 i m \\omega}{1 - y}}}{\\left(1 - y\\right)^{2}} - \\frac{2 i m \\omega y^{- 2 i m \\omega} \\left(1 - y\\right)^{- 2 i m \\omega} \\phi{\\left(y \\right)} e^{\\frac{2 i m \\omega}{1 - y}}}{y} + y^{- 2 i m \\omega} \\left(1 - y\\right)^{- 2 i m \\omega} e^{\\frac{2 i m \\omega}{1 - y}} \\frac{d}{d y} \\phi{\\left(y \\right)}$"
      ],
      "text/plain": [
       "2*I*m*omega*phi(y)*exp(2*I*m*omega/(1 - y))/(y**(2*I*m*omega)*(1 - y)*(1 - y)**(2*I*m*omega)) + 2*I*m*omega*phi(y)*exp(2*I*m*omega/(1 - y))/(y**(2*I*m*omega)*(1 - y)**2*(1 - y)**(2*I*m*omega)) - 2*I*m*omega*phi(y)*exp(2*I*m*omega/(1 - y))/(y*y**(2*I*m*omega)*(1 - y)**(2*I*m*omega)) + exp(2*I*m*omega/(1 - y))*Derivative(phi(y), y)/(y**(2*I*m*omega)*(1 - y)**(2*I*m*omega))"
      ]
     },
     "execution_count": 315,
     "metadata": {},
     "output_type": "execute_result"
    }
   ],
   "source": [
    "# Compute first derivative\n",
    "dpsi_y_bc_dy = sp.Derivative(psi_y_bc, y, evaluate = True)\n",
    "dpsi_y_bc_dy"
   ]
  },
  {
   "cell_type": "code",
   "execution_count": 317,
   "id": "ce86fa0b",
   "metadata": {},
   "outputs": [
    {
     "data": {
      "text/latex": [
       "$\\displaystyle - \\frac{4 m^{2} \\omega^{2} y^{- 2 i m \\omega} \\left(1 - y\\right)^{- 2 i m \\omega} \\phi{\\left(y \\right)} e^{\\frac{2 i m \\omega}{1 - y}}}{\\left(1 - y\\right)^{2}} - \\frac{8 m^{2} \\omega^{2} y^{- 2 i m \\omega} \\left(1 - y\\right)^{- 2 i m \\omega} \\phi{\\left(y \\right)} e^{\\frac{2 i m \\omega}{1 - y}}}{\\left(1 - y\\right)^{3}} - \\frac{4 m^{2} \\omega^{2} y^{- 2 i m \\omega} \\left(1 - y\\right)^{- 2 i m \\omega} \\phi{\\left(y \\right)} e^{\\frac{2 i m \\omega}{1 - y}}}{\\left(1 - y\\right)^{4}} + \\frac{8 m^{2} \\omega^{2} y^{- 2 i m \\omega} \\left(1 - y\\right)^{- 2 i m \\omega} \\phi{\\left(y \\right)} e^{\\frac{2 i m \\omega}{1 - y}}}{y \\left(1 - y\\right)} + \\frac{8 m^{2} \\omega^{2} y^{- 2 i m \\omega} \\left(1 - y\\right)^{- 2 i m \\omega} \\phi{\\left(y \\right)} e^{\\frac{2 i m \\omega}{1 - y}}}{y \\left(1 - y\\right)^{2}} - \\frac{4 m^{2} \\omega^{2} y^{- 2 i m \\omega} \\left(1 - y\\right)^{- 2 i m \\omega} \\phi{\\left(y \\right)} e^{\\frac{2 i m \\omega}{1 - y}}}{y^{2}} + \\frac{4 i m \\omega y^{- 2 i m \\omega} \\left(1 - y\\right)^{- 2 i m \\omega} e^{\\frac{2 i m \\omega}{1 - y}} \\frac{d}{d y} \\phi{\\left(y \\right)}}{1 - y} + \\frac{2 i m \\omega y^{- 2 i m \\omega} \\left(1 - y\\right)^{- 2 i m \\omega} \\phi{\\left(y \\right)} e^{\\frac{2 i m \\omega}{1 - y}}}{\\left(1 - y\\right)^{2}} + \\frac{4 i m \\omega y^{- 2 i m \\omega} \\left(1 - y\\right)^{- 2 i m \\omega} e^{\\frac{2 i m \\omega}{1 - y}} \\frac{d}{d y} \\phi{\\left(y \\right)}}{\\left(1 - y\\right)^{2}} + \\frac{4 i m \\omega y^{- 2 i m \\omega} \\left(1 - y\\right)^{- 2 i m \\omega} \\phi{\\left(y \\right)} e^{\\frac{2 i m \\omega}{1 - y}}}{\\left(1 - y\\right)^{3}} - \\frac{4 i m \\omega y^{- 2 i m \\omega} \\left(1 - y\\right)^{- 2 i m \\omega} e^{\\frac{2 i m \\omega}{1 - y}} \\frac{d}{d y} \\phi{\\left(y \\right)}}{y} + \\frac{2 i m \\omega y^{- 2 i m \\omega} \\left(1 - y\\right)^{- 2 i m \\omega} \\phi{\\left(y \\right)} e^{\\frac{2 i m \\omega}{1 - y}}}{y^{2}} + y^{- 2 i m \\omega} \\left(1 - y\\right)^{- 2 i m \\omega} e^{\\frac{2 i m \\omega}{1 - y}} \\frac{d^{2}}{d y^{2}} \\phi{\\left(y \\right)}$"
      ],
      "text/plain": [
       "-4*m**2*omega**2*phi(y)*exp(2*I*m*omega/(1 - y))/(y**(2*I*m*omega)*(1 - y)**2*(1 - y)**(2*I*m*omega)) - 8*m**2*omega**2*phi(y)*exp(2*I*m*omega/(1 - y))/(y**(2*I*m*omega)*(1 - y)**3*(1 - y)**(2*I*m*omega)) - 4*m**2*omega**2*phi(y)*exp(2*I*m*omega/(1 - y))/(y**(2*I*m*omega)*(1 - y)**4*(1 - y)**(2*I*m*omega)) + 8*m**2*omega**2*phi(y)*exp(2*I*m*omega/(1 - y))/(y*y**(2*I*m*omega)*(1 - y)*(1 - y)**(2*I*m*omega)) + 8*m**2*omega**2*phi(y)*exp(2*I*m*omega/(1 - y))/(y*y**(2*I*m*omega)*(1 - y)**2*(1 - y)**(2*I*m*omega)) - 4*m**2*omega**2*phi(y)*exp(2*I*m*omega/(1 - y))/(y**2*y**(2*I*m*omega)*(1 - y)**(2*I*m*omega)) + 4*I*m*omega*exp(2*I*m*omega/(1 - y))*Derivative(phi(y), y)/(y**(2*I*m*omega)*(1 - y)*(1 - y)**(2*I*m*omega)) + 2*I*m*omega*phi(y)*exp(2*I*m*omega/(1 - y))/(y**(2*I*m*omega)*(1 - y)**2*(1 - y)**(2*I*m*omega)) + 4*I*m*omega*exp(2*I*m*omega/(1 - y))*Derivative(phi(y), y)/(y**(2*I*m*omega)*(1 - y)**2*(1 - y)**(2*I*m*omega)) + 4*I*m*omega*phi(y)*exp(2*I*m*omega/(1 - y))/(y**(2*I*m*omega)*(1 - y)**3*(1 - y)**(2*I*m*omega)) - 4*I*m*omega*exp(2*I*m*omega/(1 - y))*Derivative(phi(y), y)/(y*y**(2*I*m*omega)*(1 - y)**(2*I*m*omega)) + 2*I*m*omega*phi(y)*exp(2*I*m*omega/(1 - y))/(y**2*y**(2*I*m*omega)*(1 - y)**(2*I*m*omega)) + exp(2*I*m*omega/(1 - y))*Derivative(phi(y), (y, 2))/(y**(2*I*m*omega)*(1 - y)**(2*I*m*omega))"
      ]
     },
     "execution_count": 317,
     "metadata": {},
     "output_type": "execute_result"
    }
   ],
   "source": [
    "# Compute second derivative\n",
    "ddpsi_y_bc_ddy = sp.Derivative(dpsi_y_bc_dy, y, evaluate = True)\n",
    "ddpsi_y_bc_ddy"
   ]
  },
  {
   "cell_type": "code",
   "execution_count": 324,
   "id": "447cb1f4",
   "metadata": {},
   "outputs": [
    {
     "data": {
      "text/latex": [
       "$\\displaystyle y^{- 2 i m \\omega} \\left(1 - y\\right)^{- 2 i m \\omega} \\left(\\frac{8 m^{2} \\omega^{2} \\phi{\\left(y \\right)}}{\\left(y - 1\\right)^{3}} - \\frac{8 m^{2} \\omega^{2} \\phi{\\left(y \\right)}}{y \\left(y - 1\\right)} + \\frac{8 m^{2} \\omega^{2} \\phi{\\left(y \\right)}}{y \\left(y - 1\\right)^{2}} - \\frac{4 i m \\omega \\frac{d}{d y} \\phi{\\left(y \\right)}}{y - 1} - \\frac{2 m \\omega \\left(2 m \\omega - i\\right) \\phi{\\left(y \\right)}}{\\left(y - 1\\right)^{2}} + \\frac{4 i m \\omega \\frac{d}{d y} \\phi{\\left(y \\right)}}{\\left(y - 1\\right)^{2}} - \\frac{4 m \\omega \\left(\\frac{m \\omega}{y - 1} + i\\right) \\phi{\\left(y \\right)}}{\\left(y - 1\\right)^{3}} - \\frac{4 i m \\omega \\frac{d}{d y} \\phi{\\left(y \\right)}}{y} - \\frac{2 m \\omega \\left(2 m \\omega - i\\right) \\phi{\\left(y \\right)}}{y^{2}} + \\frac{d^{2}}{d y^{2}} \\phi{\\left(y \\right)}\\right) e^{- \\frac{2 i m \\omega}{y - 1}} + \\frac{\\left(3 y - 1\\right) \\left(\\frac{2 i m \\omega y^{- 2 i m \\omega} \\left(1 - y\\right)^{- 2 i m \\omega} \\phi{\\left(y \\right)} e^{\\frac{2 i m \\omega}{1 - y}}}{1 - y} + \\frac{2 i m \\omega y^{- 2 i m \\omega} \\left(1 - y\\right)^{- 2 i m \\omega} \\phi{\\left(y \\right)} e^{\\frac{2 i m \\omega}{1 - y}}}{\\left(1 - y\\right)^{2}} - \\frac{2 i m \\omega y^{- 2 i m \\omega} \\left(1 - y\\right)^{- 2 i m \\omega} \\phi{\\left(y \\right)} e^{\\frac{2 i m \\omega}{1 - y}}}{y} + y^{- 2 i m \\omega} \\left(1 - y\\right)^{- 2 i m \\omega} e^{\\frac{2 i m \\omega}{1 - y}} \\frac{d}{d y} \\phi{\\left(y \\right)}\\right)}{y \\left(y - 1\\right)} + \\frac{y^{- 2 i m \\omega} \\left(1 - y\\right)^{- 2 i m \\omega} \\left(4 m^{2} \\omega^{2} - y \\left(y - 1\\right)^{2} \\left(\\ell \\left(\\ell + 1\\right) + 3 y - 3\\right)\\right) \\phi{\\left(y \\right)} e^{\\frac{2 i m \\omega}{1 - y}}}{y^{2} \\left(y - 1\\right)^{4}}$"
      ],
      "text/plain": [
       "(8*m**2*omega**2*phi(y)/(y - 1)**3 - 8*m**2*omega**2*phi(y)/(y*(y - 1)) + 8*m**2*omega**2*phi(y)/(y*(y - 1)**2) - 4*I*m*omega*Derivative(phi(y), y)/(y - 1) - 2*m*omega*(2*m*omega - I)*phi(y)/(y - 1)**2 + 4*I*m*omega*Derivative(phi(y), y)/(y - 1)**2 - 4*m*omega*(m*omega/(y - 1) + I)*phi(y)/(y - 1)**3 - 4*I*m*omega*Derivative(phi(y), y)/y - 2*m*omega*(2*m*omega - I)*phi(y)/y**2 + Derivative(phi(y), (y, 2)))*exp(-2*I*m*omega/(y - 1))/(y**(2*I*m*omega)*(1 - y)**(2*I*m*omega)) + (3*y - 1)*(2*I*m*omega*phi(y)*exp(2*I*m*omega/(1 - y))/(y**(2*I*m*omega)*(1 - y)*(1 - y)**(2*I*m*omega)) + 2*I*m*omega*phi(y)*exp(2*I*m*omega/(1 - y))/(y**(2*I*m*omega)*(1 - y)**2*(1 - y)**(2*I*m*omega)) - 2*I*m*omega*phi(y)*exp(2*I*m*omega/(1 - y))/(y*y**(2*I*m*omega)*(1 - y)**(2*I*m*omega)) + exp(2*I*m*omega/(1 - y))*Derivative(phi(y), y)/(y**(2*I*m*omega)*(1 - y)**(2*I*m*omega)))/(y*(y - 1)) + (4*m**2*omega**2 - y*(y - 1)**2*(ell*(ell + 1) + 3*y - 3))*phi(y)*exp(2*I*m*omega/(1 - y))/(y**2*y**(2*I*m*omega)*(1 - y)**(2*I*m*omega)*(y - 1)**4)"
      ]
     },
     "execution_count": 324,
     "metadata": {},
     "output_type": "execute_result"
    }
   ],
   "source": [
    "# Substitute into the equations\n",
    "eq_yy_norm_bc = eq_yy_norm.subs( psi_y, psi_y_bc ).doit()\n",
    "eq_yy_norm_bc"
   ]
  },
  {
   "cell_type": "code",
   "execution_count": 331,
   "id": "f39677ae",
   "metadata": {},
   "outputs": [
    {
     "data": {
      "text/latex": [
       "$\\displaystyle \\left(\\frac{4 i m \\omega}{y^{2} y^{2 i m \\omega} \\left(1 - y\\right)^{2 i m \\omega} e^{\\frac{2 i m \\omega}{y - 1}} - 2 y y^{2 i m \\omega} \\left(1 - y\\right)^{2 i m \\omega} e^{\\frac{2 i m \\omega}{y - 1}} + y^{2 i m \\omega} \\left(1 - y\\right)^{2 i m \\omega} e^{\\frac{2 i m \\omega}{y - 1}}} - \\frac{4 i m \\omega}{y y^{2 i m \\omega} \\left(1 - y\\right)^{2 i m \\omega} e^{\\frac{2 i m \\omega}{y - 1}} - y^{2 i m \\omega} \\left(1 - y\\right)^{2 i m \\omega} e^{\\frac{2 i m \\omega}{y - 1}}} - \\frac{4 i m \\omega y^{- 2 i m \\omega} \\left(1 - y\\right)^{- 2 i m \\omega} e^{- \\frac{2 i m \\omega}{y - 1}}}{y} + \\frac{3 y e^{\\frac{2 i m \\omega}{1 - y}}}{y^{2} y^{2 i m \\omega} \\left(1 - y\\right)^{2 i m \\omega} - y y^{2 i m \\omega} \\left(1 - y\\right)^{2 i m \\omega}} - \\frac{e^{\\frac{2 i m \\omega}{1 - y}}}{y^{2} y^{2 i m \\omega} \\left(1 - y\\right)^{2 i m \\omega} - y y^{2 i m \\omega} \\left(1 - y\\right)^{2 i m \\omega}}\\right) \\frac{d}{d y} \\phi{\\left(y \\right)} + \\left(- \\frac{\\ell^{2} y^{3} e^{\\frac{2 i m \\omega}{1 - y}}}{y^{6} y^{2 i m \\omega} \\left(1 - y\\right)^{2 i m \\omega} - 4 y^{5} y^{2 i m \\omega} \\left(1 - y\\right)^{2 i m \\omega} + 6 y^{4} y^{2 i m \\omega} \\left(1 - y\\right)^{2 i m \\omega} - 4 y^{3} y^{2 i m \\omega} \\left(1 - y\\right)^{2 i m \\omega} + y^{2} y^{2 i m \\omega} \\left(1 - y\\right)^{2 i m \\omega}} + \\frac{2 \\ell^{2} y^{2} e^{\\frac{2 i m \\omega}{1 - y}}}{y^{6} y^{2 i m \\omega} \\left(1 - y\\right)^{2 i m \\omega} - 4 y^{5} y^{2 i m \\omega} \\left(1 - y\\right)^{2 i m \\omega} + 6 y^{4} y^{2 i m \\omega} \\left(1 - y\\right)^{2 i m \\omega} - 4 y^{3} y^{2 i m \\omega} \\left(1 - y\\right)^{2 i m \\omega} + y^{2} y^{2 i m \\omega} \\left(1 - y\\right)^{2 i m \\omega}} - \\frac{\\ell^{2} y e^{\\frac{2 i m \\omega}{1 - y}}}{y^{6} y^{2 i m \\omega} \\left(1 - y\\right)^{2 i m \\omega} - 4 y^{5} y^{2 i m \\omega} \\left(1 - y\\right)^{2 i m \\omega} + 6 y^{4} y^{2 i m \\omega} \\left(1 - y\\right)^{2 i m \\omega} - 4 y^{3} y^{2 i m \\omega} \\left(1 - y\\right)^{2 i m \\omega} + y^{2} y^{2 i m \\omega} \\left(1 - y\\right)^{2 i m \\omega}} - \\frac{\\ell y^{3} e^{\\frac{2 i m \\omega}{1 - y}}}{y^{6} y^{2 i m \\omega} \\left(1 - y\\right)^{2 i m \\omega} - 4 y^{5} y^{2 i m \\omega} \\left(1 - y\\right)^{2 i m \\omega} + 6 y^{4} y^{2 i m \\omega} \\left(1 - y\\right)^{2 i m \\omega} - 4 y^{3} y^{2 i m \\omega} \\left(1 - y\\right)^{2 i m \\omega} + y^{2} y^{2 i m \\omega} \\left(1 - y\\right)^{2 i m \\omega}} + \\frac{2 \\ell y^{2} e^{\\frac{2 i m \\omega}{1 - y}}}{y^{6} y^{2 i m \\omega} \\left(1 - y\\right)^{2 i m \\omega} - 4 y^{5} y^{2 i m \\omega} \\left(1 - y\\right)^{2 i m \\omega} + 6 y^{4} y^{2 i m \\omega} \\left(1 - y\\right)^{2 i m \\omega} - 4 y^{3} y^{2 i m \\omega} \\left(1 - y\\right)^{2 i m \\omega} + y^{2} y^{2 i m \\omega} \\left(1 - y\\right)^{2 i m \\omega}} - \\frac{\\ell y e^{\\frac{2 i m \\omega}{1 - y}}}{y^{6} y^{2 i m \\omega} \\left(1 - y\\right)^{2 i m \\omega} - 4 y^{5} y^{2 i m \\omega} \\left(1 - y\\right)^{2 i m \\omega} + 6 y^{4} y^{2 i m \\omega} \\left(1 - y\\right)^{2 i m \\omega} - 4 y^{3} y^{2 i m \\omega} \\left(1 - y\\right)^{2 i m \\omega} + y^{2} y^{2 i m \\omega} \\left(1 - y\\right)^{2 i m \\omega}} - \\frac{4 m^{2} \\omega^{2}}{y^{4} y^{2 i m \\omega} \\left(1 - y\\right)^{2 i m \\omega} e^{\\frac{2 i m \\omega}{y - 1}} - 4 y^{3} y^{2 i m \\omega} \\left(1 - y\\right)^{2 i m \\omega} e^{\\frac{2 i m \\omega}{y - 1}} + 6 y^{2} y^{2 i m \\omega} \\left(1 - y\\right)^{2 i m \\omega} e^{\\frac{2 i m \\omega}{y - 1}} - 4 y y^{2 i m \\omega} \\left(1 - y\\right)^{2 i m \\omega} e^{\\frac{2 i m \\omega}{y - 1}} + y^{2 i m \\omega} \\left(1 - y\\right)^{2 i m \\omega} e^{\\frac{2 i m \\omega}{y - 1}}} + \\frac{4 m^{2} \\omega^{2} e^{\\frac{2 i m \\omega}{1 - y}}}{y^{6} y^{2 i m \\omega} \\left(1 - y\\right)^{2 i m \\omega} - 4 y^{5} y^{2 i m \\omega} \\left(1 - y\\right)^{2 i m \\omega} + 6 y^{4} y^{2 i m \\omega} \\left(1 - y\\right)^{2 i m \\omega} - 4 y^{3} y^{2 i m \\omega} \\left(1 - y\\right)^{2 i m \\omega} + y^{2} y^{2 i m \\omega} \\left(1 - y\\right)^{2 i m \\omega}} + \\frac{8 m^{2} \\omega^{2}}{y^{3} y^{2 i m \\omega} \\left(1 - y\\right)^{2 i m \\omega} e^{\\frac{2 i m \\omega}{y - 1}} - 3 y^{2} y^{2 i m \\omega} \\left(1 - y\\right)^{2 i m \\omega} e^{\\frac{2 i m \\omega}{y - 1}} + 3 y y^{2 i m \\omega} \\left(1 - y\\right)^{2 i m \\omega} e^{\\frac{2 i m \\omega}{y - 1}} - y^{2 i m \\omega} \\left(1 - y\\right)^{2 i m \\omega} e^{\\frac{2 i m \\omega}{y - 1}}} + \\frac{8 m^{2} \\omega^{2}}{y^{3} y^{2 i m \\omega} \\left(1 - y\\right)^{2 i m \\omega} e^{\\frac{2 i m \\omega}{y - 1}} - 2 y^{2} y^{2 i m \\omega} \\left(1 - y\\right)^{2 i m \\omega} e^{\\frac{2 i m \\omega}{y - 1}} + y y^{2 i m \\omega} \\left(1 - y\\right)^{2 i m \\omega} e^{\\frac{2 i m \\omega}{y - 1}}} - \\frac{4 m^{2} \\omega^{2}}{y^{2} y^{2 i m \\omega} \\left(1 - y\\right)^{2 i m \\omega} e^{\\frac{2 i m \\omega}{y - 1}} - 2 y y^{2 i m \\omega} \\left(1 - y\\right)^{2 i m \\omega} e^{\\frac{2 i m \\omega}{y - 1}} + y^{2 i m \\omega} \\left(1 - y\\right)^{2 i m \\omega} e^{\\frac{2 i m \\omega}{y - 1}}} - \\frac{8 m^{2} \\omega^{2}}{y^{2} y^{2 i m \\omega} \\left(1 - y\\right)^{2 i m \\omega} e^{\\frac{2 i m \\omega}{y - 1}} - y y^{2 i m \\omega} \\left(1 - y\\right)^{2 i m \\omega} e^{\\frac{2 i m \\omega}{y - 1}}} - \\frac{4 m^{2} \\omega^{2} y^{- 2 i m \\omega} \\left(1 - y\\right)^{- 2 i m \\omega} e^{- \\frac{2 i m \\omega}{y - 1}}}{y^{2}} + \\frac{6 i m \\omega y e^{\\frac{2 i m \\omega}{1 - y}}}{y^{4} y^{2 i m \\omega} \\left(1 - y\\right)^{2 i m \\omega} - 3 y^{3} y^{2 i m \\omega} \\left(1 - y\\right)^{2 i m \\omega} + 3 y^{2} y^{2 i m \\omega} \\left(1 - y\\right)^{2 i m \\omega} - y y^{2 i m \\omega} \\left(1 - y\\right)^{2 i m \\omega}} + \\frac{6 i m \\omega y e^{\\frac{2 i m \\omega}{1 - y}}}{- y^{3} y^{2 i m \\omega} \\left(1 - y\\right)^{2 i m \\omega} + 2 y^{2} y^{2 i m \\omega} \\left(1 - y\\right)^{2 i m \\omega} - y y^{2 i m \\omega} \\left(1 - y\\right)^{2 i m \\omega}} - \\frac{4 i m \\omega}{y^{3} y^{2 i m \\omega} \\left(1 - y\\right)^{2 i m \\omega} e^{\\frac{2 i m \\omega}{y - 1}} - 3 y^{2} y^{2 i m \\omega} \\left(1 - y\\right)^{2 i m \\omega} e^{\\frac{2 i m \\omega}{y - 1}} + 3 y y^{2 i m \\omega} \\left(1 - y\\right)^{2 i m \\omega} e^{\\frac{2 i m \\omega}{y - 1}} - y^{2 i m \\omega} \\left(1 - y\\right)^{2 i m \\omega} e^{\\frac{2 i m \\omega}{y - 1}}} - \\frac{2 i m \\omega e^{\\frac{2 i m \\omega}{1 - y}}}{y^{4} y^{2 i m \\omega} \\left(1 - y\\right)^{2 i m \\omega} - 3 y^{3} y^{2 i m \\omega} \\left(1 - y\\right)^{2 i m \\omega} + 3 y^{2} y^{2 i m \\omega} \\left(1 - y\\right)^{2 i m \\omega} - y y^{2 i m \\omega} \\left(1 - y\\right)^{2 i m \\omega}} + \\frac{2 i m \\omega}{y^{2} y^{2 i m \\omega} \\left(1 - y\\right)^{2 i m \\omega} e^{\\frac{2 i m \\omega}{y - 1}} - 2 y y^{2 i m \\omega} \\left(1 - y\\right)^{2 i m \\omega} e^{\\frac{2 i m \\omega}{y - 1}} + y^{2 i m \\omega} \\left(1 - y\\right)^{2 i m \\omega} e^{\\frac{2 i m \\omega}{y - 1}}} - \\frac{2 i m \\omega e^{\\frac{2 i m \\omega}{1 - y}}}{- y^{3} y^{2 i m \\omega} \\left(1 - y\\right)^{2 i m \\omega} + 2 y^{2} y^{2 i m \\omega} \\left(1 - y\\right)^{2 i m \\omega} - y y^{2 i m \\omega} \\left(1 - y\\right)^{2 i m \\omega}} + \\frac{2 i m \\omega e^{\\frac{2 i m \\omega}{1 - y}}}{y^{3} y^{2 i m \\omega} \\left(1 - y\\right)^{2 i m \\omega} - y^{2} y^{2 i m \\omega} \\left(1 - y\\right)^{2 i m \\omega}} - \\frac{6 i m \\omega e^{\\frac{2 i m \\omega}{1 - y}}}{y^{2} y^{2 i m \\omega} \\left(1 - y\\right)^{2 i m \\omega} - y y^{2 i m \\omega} \\left(1 - y\\right)^{2 i m \\omega}} + \\frac{2 i m \\omega y^{- 2 i m \\omega} \\left(1 - y\\right)^{- 2 i m \\omega} e^{- \\frac{2 i m \\omega}{y - 1}}}{y^{2}} - \\frac{3 y^{4} e^{\\frac{2 i m \\omega}{1 - y}}}{y^{6} y^{2 i m \\omega} \\left(1 - y\\right)^{2 i m \\omega} - 4 y^{5} y^{2 i m \\omega} \\left(1 - y\\right)^{2 i m \\omega} + 6 y^{4} y^{2 i m \\omega} \\left(1 - y\\right)^{2 i m \\omega} - 4 y^{3} y^{2 i m \\omega} \\left(1 - y\\right)^{2 i m \\omega} + y^{2} y^{2 i m \\omega} \\left(1 - y\\right)^{2 i m \\omega}} + \\frac{9 y^{3} e^{\\frac{2 i m \\omega}{1 - y}}}{y^{6} y^{2 i m \\omega} \\left(1 - y\\right)^{2 i m \\omega} - 4 y^{5} y^{2 i m \\omega} \\left(1 - y\\right)^{2 i m \\omega} + 6 y^{4} y^{2 i m \\omega} \\left(1 - y\\right)^{2 i m \\omega} - 4 y^{3} y^{2 i m \\omega} \\left(1 - y\\right)^{2 i m \\omega} + y^{2} y^{2 i m \\omega} \\left(1 - y\\right)^{2 i m \\omega}} - \\frac{9 y^{2} e^{\\frac{2 i m \\omega}{1 - y}}}{y^{6} y^{2 i m \\omega} \\left(1 - y\\right)^{2 i m \\omega} - 4 y^{5} y^{2 i m \\omega} \\left(1 - y\\right)^{2 i m \\omega} + 6 y^{4} y^{2 i m \\omega} \\left(1 - y\\right)^{2 i m \\omega} - 4 y^{3} y^{2 i m \\omega} \\left(1 - y\\right)^{2 i m \\omega} + y^{2} y^{2 i m \\omega} \\left(1 - y\\right)^{2 i m \\omega}} + \\frac{3 y e^{\\frac{2 i m \\omega}{1 - y}}}{y^{6} y^{2 i m \\omega} \\left(1 - y\\right)^{2 i m \\omega} - 4 y^{5} y^{2 i m \\omega} \\left(1 - y\\right)^{2 i m \\omega} + 6 y^{4} y^{2 i m \\omega} \\left(1 - y\\right)^{2 i m \\omega} - 4 y^{3} y^{2 i m \\omega} \\left(1 - y\\right)^{2 i m \\omega} + y^{2} y^{2 i m \\omega} \\left(1 - y\\right)^{2 i m \\omega}}\\right) \\phi{\\left(y \\right)} + y^{- 2 i m \\omega} \\left(1 - y\\right)^{- 2 i m \\omega} e^{- \\frac{2 i m \\omega}{y - 1}} \\frac{d^{2}}{d y^{2}} \\phi{\\left(y \\right)}$"
      ],
      "text/plain": [
       "(4*I*m*omega/(y**2*y**(2*I*m*omega)*(1 - y)**(2*I*m*omega)*exp(2*I*m*omega/(y - 1)) - 2*y*y**(2*I*m*omega)*(1 - y)**(2*I*m*omega)*exp(2*I*m*omega/(y - 1)) + y**(2*I*m*omega)*(1 - y)**(2*I*m*omega)*exp(2*I*m*omega/(y - 1))) - 4*I*m*omega/(y*y**(2*I*m*omega)*(1 - y)**(2*I*m*omega)*exp(2*I*m*omega/(y - 1)) - y**(2*I*m*omega)*(1 - y)**(2*I*m*omega)*exp(2*I*m*omega/(y - 1))) - 4*I*m*omega*exp(-2*I*m*omega/(y - 1))/(y*y**(2*I*m*omega)*(1 - y)**(2*I*m*omega)) + 3*y*exp(2*I*m*omega/(1 - y))/(y**2*y**(2*I*m*omega)*(1 - y)**(2*I*m*omega) - y*y**(2*I*m*omega)*(1 - y)**(2*I*m*omega)) - exp(2*I*m*omega/(1 - y))/(y**2*y**(2*I*m*omega)*(1 - y)**(2*I*m*omega) - y*y**(2*I*m*omega)*(1 - y)**(2*I*m*omega)))*Derivative(phi(y), y) + (-ell**2*y**3*exp(2*I*m*omega/(1 - y))/(y**6*y**(2*I*m*omega)*(1 - y)**(2*I*m*omega) - 4*y**5*y**(2*I*m*omega)*(1 - y)**(2*I*m*omega) + 6*y**4*y**(2*I*m*omega)*(1 - y)**(2*I*m*omega) - 4*y**3*y**(2*I*m*omega)*(1 - y)**(2*I*m*omega) + y**2*y**(2*I*m*omega)*(1 - y)**(2*I*m*omega)) + 2*ell**2*y**2*exp(2*I*m*omega/(1 - y))/(y**6*y**(2*I*m*omega)*(1 - y)**(2*I*m*omega) - 4*y**5*y**(2*I*m*omega)*(1 - y)**(2*I*m*omega) + 6*y**4*y**(2*I*m*omega)*(1 - y)**(2*I*m*omega) - 4*y**3*y**(2*I*m*omega)*(1 - y)**(2*I*m*omega) + y**2*y**(2*I*m*omega)*(1 - y)**(2*I*m*omega)) - ell**2*y*exp(2*I*m*omega/(1 - y))/(y**6*y**(2*I*m*omega)*(1 - y)**(2*I*m*omega) - 4*y**5*y**(2*I*m*omega)*(1 - y)**(2*I*m*omega) + 6*y**4*y**(2*I*m*omega)*(1 - y)**(2*I*m*omega) - 4*y**3*y**(2*I*m*omega)*(1 - y)**(2*I*m*omega) + y**2*y**(2*I*m*omega)*(1 - y)**(2*I*m*omega)) - ell*y**3*exp(2*I*m*omega/(1 - y))/(y**6*y**(2*I*m*omega)*(1 - y)**(2*I*m*omega) - 4*y**5*y**(2*I*m*omega)*(1 - y)**(2*I*m*omega) + 6*y**4*y**(2*I*m*omega)*(1 - y)**(2*I*m*omega) - 4*y**3*y**(2*I*m*omega)*(1 - y)**(2*I*m*omega) + y**2*y**(2*I*m*omega)*(1 - y)**(2*I*m*omega)) + 2*ell*y**2*exp(2*I*m*omega/(1 - y))/(y**6*y**(2*I*m*omega)*(1 - y)**(2*I*m*omega) - 4*y**5*y**(2*I*m*omega)*(1 - y)**(2*I*m*omega) + 6*y**4*y**(2*I*m*omega)*(1 - y)**(2*I*m*omega) - 4*y**3*y**(2*I*m*omega)*(1 - y)**(2*I*m*omega) + y**2*y**(2*I*m*omega)*(1 - y)**(2*I*m*omega)) - ell*y*exp(2*I*m*omega/(1 - y))/(y**6*y**(2*I*m*omega)*(1 - y)**(2*I*m*omega) - 4*y**5*y**(2*I*m*omega)*(1 - y)**(2*I*m*omega) + 6*y**4*y**(2*I*m*omega)*(1 - y)**(2*I*m*omega) - 4*y**3*y**(2*I*m*omega)*(1 - y)**(2*I*m*omega) + y**2*y**(2*I*m*omega)*(1 - y)**(2*I*m*omega)) - 4*m**2*omega**2/(y**4*y**(2*I*m*omega)*(1 - y)**(2*I*m*omega)*exp(2*I*m*omega/(y - 1)) - 4*y**3*y**(2*I*m*omega)*(1 - y)**(2*I*m*omega)*exp(2*I*m*omega/(y - 1)) + 6*y**2*y**(2*I*m*omega)*(1 - y)**(2*I*m*omega)*exp(2*I*m*omega/(y - 1)) - 4*y*y**(2*I*m*omega)*(1 - y)**(2*I*m*omega)*exp(2*I*m*omega/(y - 1)) + y**(2*I*m*omega)*(1 - y)**(2*I*m*omega)*exp(2*I*m*omega/(y - 1))) + 4*m**2*omega**2*exp(2*I*m*omega/(1 - y))/(y**6*y**(2*I*m*omega)*(1 - y)**(2*I*m*omega) - 4*y**5*y**(2*I*m*omega)*(1 - y)**(2*I*m*omega) + 6*y**4*y**(2*I*m*omega)*(1 - y)**(2*I*m*omega) - 4*y**3*y**(2*I*m*omega)*(1 - y)**(2*I*m*omega) + y**2*y**(2*I*m*omega)*(1 - y)**(2*I*m*omega)) + 8*m**2*omega**2/(y**3*y**(2*I*m*omega)*(1 - y)**(2*I*m*omega)*exp(2*I*m*omega/(y - 1)) - 3*y**2*y**(2*I*m*omega)*(1 - y)**(2*I*m*omega)*exp(2*I*m*omega/(y - 1)) + 3*y*y**(2*I*m*omega)*(1 - y)**(2*I*m*omega)*exp(2*I*m*omega/(y - 1)) - y**(2*I*m*omega)*(1 - y)**(2*I*m*omega)*exp(2*I*m*omega/(y - 1))) + 8*m**2*omega**2/(y**3*y**(2*I*m*omega)*(1 - y)**(2*I*m*omega)*exp(2*I*m*omega/(y - 1)) - 2*y**2*y**(2*I*m*omega)*(1 - y)**(2*I*m*omega)*exp(2*I*m*omega/(y - 1)) + y*y**(2*I*m*omega)*(1 - y)**(2*I*m*omega)*exp(2*I*m*omega/(y - 1))) - 4*m**2*omega**2/(y**2*y**(2*I*m*omega)*(1 - y)**(2*I*m*omega)*exp(2*I*m*omega/(y - 1)) - 2*y*y**(2*I*m*omega)*(1 - y)**(2*I*m*omega)*exp(2*I*m*omega/(y - 1)) + y**(2*I*m*omega)*(1 - y)**(2*I*m*omega)*exp(2*I*m*omega/(y - 1))) - 8*m**2*omega**2/(y**2*y**(2*I*m*omega)*(1 - y)**(2*I*m*omega)*exp(2*I*m*omega/(y - 1)) - y*y**(2*I*m*omega)*(1 - y)**(2*I*m*omega)*exp(2*I*m*omega/(y - 1))) - 4*m**2*omega**2*exp(-2*I*m*omega/(y - 1))/(y**2*y**(2*I*m*omega)*(1 - y)**(2*I*m*omega)) + 6*I*m*omega*y*exp(2*I*m*omega/(1 - y))/(y**4*y**(2*I*m*omega)*(1 - y)**(2*I*m*omega) - 3*y**3*y**(2*I*m*omega)*(1 - y)**(2*I*m*omega) + 3*y**2*y**(2*I*m*omega)*(1 - y)**(2*I*m*omega) - y*y**(2*I*m*omega)*(1 - y)**(2*I*m*omega)) + 6*I*m*omega*y*exp(2*I*m*omega/(1 - y))/(-y**3*y**(2*I*m*omega)*(1 - y)**(2*I*m*omega) + 2*y**2*y**(2*I*m*omega)*(1 - y)**(2*I*m*omega) - y*y**(2*I*m*omega)*(1 - y)**(2*I*m*omega)) - 4*I*m*omega/(y**3*y**(2*I*m*omega)*(1 - y)**(2*I*m*omega)*exp(2*I*m*omega/(y - 1)) - 3*y**2*y**(2*I*m*omega)*(1 - y)**(2*I*m*omega)*exp(2*I*m*omega/(y - 1)) + 3*y*y**(2*I*m*omega)*(1 - y)**(2*I*m*omega)*exp(2*I*m*omega/(y - 1)) - y**(2*I*m*omega)*(1 - y)**(2*I*m*omega)*exp(2*I*m*omega/(y - 1))) - 2*I*m*omega*exp(2*I*m*omega/(1 - y))/(y**4*y**(2*I*m*omega)*(1 - y)**(2*I*m*omega) - 3*y**3*y**(2*I*m*omega)*(1 - y)**(2*I*m*omega) + 3*y**2*y**(2*I*m*omega)*(1 - y)**(2*I*m*omega) - y*y**(2*I*m*omega)*(1 - y)**(2*I*m*omega)) + 2*I*m*omega/(y**2*y**(2*I*m*omega)*(1 - y)**(2*I*m*omega)*exp(2*I*m*omega/(y - 1)) - 2*y*y**(2*I*m*omega)*(1 - y)**(2*I*m*omega)*exp(2*I*m*omega/(y - 1)) + y**(2*I*m*omega)*(1 - y)**(2*I*m*omega)*exp(2*I*m*omega/(y - 1))) - 2*I*m*omega*exp(2*I*m*omega/(1 - y))/(-y**3*y**(2*I*m*omega)*(1 - y)**(2*I*m*omega) + 2*y**2*y**(2*I*m*omega)*(1 - y)**(2*I*m*omega) - y*y**(2*I*m*omega)*(1 - y)**(2*I*m*omega)) + 2*I*m*omega*exp(2*I*m*omega/(1 - y))/(y**3*y**(2*I*m*omega)*(1 - y)**(2*I*m*omega) - y**2*y**(2*I*m*omega)*(1 - y)**(2*I*m*omega)) - 6*I*m*omega*exp(2*I*m*omega/(1 - y))/(y**2*y**(2*I*m*omega)*(1 - y)**(2*I*m*omega) - y*y**(2*I*m*omega)*(1 - y)**(2*I*m*omega)) + 2*I*m*omega*exp(-2*I*m*omega/(y - 1))/(y**2*y**(2*I*m*omega)*(1 - y)**(2*I*m*omega)) - 3*y**4*exp(2*I*m*omega/(1 - y))/(y**6*y**(2*I*m*omega)*(1 - y)**(2*I*m*omega) - 4*y**5*y**(2*I*m*omega)*(1 - y)**(2*I*m*omega) + 6*y**4*y**(2*I*m*omega)*(1 - y)**(2*I*m*omega) - 4*y**3*y**(2*I*m*omega)*(1 - y)**(2*I*m*omega) + y**2*y**(2*I*m*omega)*(1 - y)**(2*I*m*omega)) + 9*y**3*exp(2*I*m*omega/(1 - y))/(y**6*y**(2*I*m*omega)*(1 - y)**(2*I*m*omega) - 4*y**5*y**(2*I*m*omega)*(1 - y)**(2*I*m*omega) + 6*y**4*y**(2*I*m*omega)*(1 - y)**(2*I*m*omega) - 4*y**3*y**(2*I*m*omega)*(1 - y)**(2*I*m*omega) + y**2*y**(2*I*m*omega)*(1 - y)**(2*I*m*omega)) - 9*y**2*exp(2*I*m*omega/(1 - y))/(y**6*y**(2*I*m*omega)*(1 - y)**(2*I*m*omega) - 4*y**5*y**(2*I*m*omega)*(1 - y)**(2*I*m*omega) + 6*y**4*y**(2*I*m*omega)*(1 - y)**(2*I*m*omega) - 4*y**3*y**(2*I*m*omega)*(1 - y)**(2*I*m*omega) + y**2*y**(2*I*m*omega)*(1 - y)**(2*I*m*omega)) + 3*y*exp(2*I*m*omega/(1 - y))/(y**6*y**(2*I*m*omega)*(1 - y)**(2*I*m*omega) - 4*y**5*y**(2*I*m*omega)*(1 - y)**(2*I*m*omega) + 6*y**4*y**(2*I*m*omega)*(1 - y)**(2*I*m*omega) - 4*y**3*y**(2*I*m*omega)*(1 - y)**(2*I*m*omega) + y**2*y**(2*I*m*omega)*(1 - y)**(2*I*m*omega)))*phi(y) + exp(-2*I*m*omega/(y - 1))*Derivative(phi(y), (y, 2))/(y**(2*I*m*omega)*(1 - y)**(2*I*m*omega))"
      ]
     },
     "execution_count": 331,
     "metadata": {},
     "output_type": "execute_result"
    }
   ],
   "source": [
    "# Expand expression, collect terms according to order of phi\n",
    "A = sp.collect(eq_yy_norm_bc.expand(), phi_y)\n",
    "A"
   ]
  },
  {
   "cell_type": "code",
   "execution_count": 332,
   "id": "fde7d32a",
   "metadata": {},
   "outputs": [
    {
     "data": {
      "text/latex": [
       "$\\displaystyle y^{- 2 i m \\omega} \\left(1 - y\\right)^{- 2 i m \\omega} e^{- \\frac{2 i m \\omega}{y - 1}}$"
      ],
      "text/plain": [
       "exp(-2*I*m*omega/(y - 1))/(y**(2*I*m*omega)*(1 - y)**(2*I*m*omega))"
      ]
     },
     "execution_count": 332,
     "metadata": {},
     "output_type": "execute_result"
    }
   ],
   "source": [
    "# Get coefficient of second derivative of phi\n",
    "A_norm = A.coeff(sp.Derivative(sp.Derivative(phi_y, y), y))\n",
    "A_norm"
   ]
  },
  {
   "cell_type": "code",
   "execution_count": 341,
   "id": "38b6ccd8",
   "metadata": {},
   "outputs": [
    {
     "data": {
      "text/latex": [
       "$\\displaystyle \\left(\\frac{y^{3}}{y^{3} - 2 y^{2} + y} - \\frac{2 y^{2}}{y^{3} - 2 y^{2} + y} + \\frac{y}{y^{3} - 2 y^{2} + y}\\right) \\frac{d^{2}}{d y^{2}} \\phi{\\left(y \\right)} + \\left(- \\frac{8 i m \\omega y^{2}}{y^{3} - 2 y^{2} + y} + \\frac{16 i m \\omega y}{y^{3} - 2 y^{2} + y} - \\frac{4 i m \\omega}{y^{3} - 2 y^{2} + y} + \\frac{3 y^{2}}{y^{3} - 2 y^{2} + y} - \\frac{4 y}{y^{3} - 2 y^{2} + y} + \\frac{1}{y^{3} - 2 y^{2} + y}\\right) \\frac{d}{d y} \\phi{\\left(y \\right)} + \\left(- \\frac{\\ell^{2}}{y^{3} - 2 y^{2} + y} - \\frac{\\ell}{y^{3} - 2 y^{2} + y} - \\frac{16 m^{2} \\omega^{2} y}{y^{3} - 2 y^{2} + y} + \\frac{32 m^{2} \\omega^{2}}{y^{3} - 2 y^{2} + y} - \\frac{8 i m \\omega y}{y^{3} - 2 y^{2} + y} + \\frac{8 i m \\omega}{y^{3} - 2 y^{2} + y} - \\frac{3 y}{y^{3} - 2 y^{2} + y} + \\frac{3}{y^{3} - 2 y^{2} + y}\\right) \\phi{\\left(y \\right)}$"
      ],
      "text/plain": [
       "(y**3/(y**3 - 2*y**2 + y) - 2*y**2/(y**3 - 2*y**2 + y) + y/(y**3 - 2*y**2 + y))*Derivative(phi(y), (y, 2)) + (-8*I*m*omega*y**2/(y**3 - 2*y**2 + y) + 16*I*m*omega*y/(y**3 - 2*y**2 + y) - 4*I*m*omega/(y**3 - 2*y**2 + y) + 3*y**2/(y**3 - 2*y**2 + y) - 4*y/(y**3 - 2*y**2 + y) + 1/(y**3 - 2*y**2 + y))*Derivative(phi(y), y) + (-ell**2/(y**3 - 2*y**2 + y) - ell/(y**3 - 2*y**2 + y) - 16*m**2*omega**2*y/(y**3 - 2*y**2 + y) + 32*m**2*omega**2/(y**3 - 2*y**2 + y) - 8*I*m*omega*y/(y**3 - 2*y**2 + y) + 8*I*m*omega/(y**3 - 2*y**2 + y) - 3*y/(y**3 - 2*y**2 + y) + 3/(y**3 - 2*y**2 + y))*phi(y)"
      ]
     },
     "execution_count": 341,
     "metadata": {},
     "output_type": "execute_result"
    }
   ],
   "source": [
    "# Multiply expression by norm\n",
    "A_normalized = A / A_norm\n",
    "A_normalized_collected = sp.collect(A_normalized.simplify().expand(), phi_y)\n",
    "A_normalized_collected"
   ]
  },
  {
   "cell_type": "code",
   "execution_count": 350,
   "id": "f9495539",
   "metadata": {},
   "outputs": [
    {
     "data": {
      "text/latex": [
       "$\\displaystyle 1$"
      ],
      "text/plain": [
       "1"
      ]
     },
     "execution_count": 350,
     "metadata": {},
     "output_type": "execute_result"
    }
   ],
   "source": [
    "C_1 = A_normalized_collected.coeff(sp.Derivative(sp.Derivative(phi_y, y), y)).simplify()\n",
    "C_1"
   ]
  },
  {
   "cell_type": "code",
   "execution_count": 357,
   "id": "2c530382",
   "metadata": {},
   "outputs": [
    {
     "data": {
      "text/latex": [
       "$\\displaystyle - \\frac{i \\left(8 m \\omega y^{2} - 16 m \\omega y + 4 m \\omega + 3 i y^{2} - 4 i y + i\\right)}{y \\left(y - 1\\right)^{2}}$"
      ],
      "text/plain": [
       "-I*(8*m*omega*y**2 - 16*m*omega*y + 4*m*omega + 3*I*y**2 - 4*I*y + I)/(y*(y - 1)**2)"
      ]
     },
     "execution_count": 357,
     "metadata": {},
     "output_type": "execute_result"
    }
   ],
   "source": [
    "C_2 = A_normalized_collected.coeff(sp.Derivative(phi_y, y)).simplify().factor()\n",
    "C_2"
   ]
  },
  {
   "cell_type": "code",
   "execution_count": 358,
   "id": "4b5b8e90",
   "metadata": {},
   "outputs": [
    {
     "data": {
      "text/latex": [
       "$\\displaystyle - \\frac{\\ell^{2} + \\ell + 16 m^{2} \\omega^{2} y - 32 m^{2} \\omega^{2} + 8 i m \\omega y - 8 i m \\omega + 3 y - 3}{y \\left(y - 1\\right)^{2}}$"
      ],
      "text/plain": [
       "-(ell**2 + ell + 16*m**2*omega**2*y - 32*m**2*omega**2 + 8*I*m*omega*y - 8*I*m*omega + 3*y - 3)/(y*(y - 1)**2)"
      ]
     },
     "execution_count": 358,
     "metadata": {},
     "output_type": "execute_result"
    }
   ],
   "source": [
    "C_3 = A_normalized_collected.coeff(phi_y).simplify().factor()\n",
    "C_3"
   ]
  },
  {
   "cell_type": "markdown",
   "id": "75ebba9e",
   "metadata": {},
   "source": [
    "Finally, write out the new equation, with the change of coordinates and the boundary conditions"
   ]
  },
  {
   "cell_type": "code",
   "execution_count": 353,
   "id": "4bdf3478",
   "metadata": {},
   "outputs": [
    {
     "data": {
      "text/latex": [
       "$\\displaystyle \\frac{d^{2}}{d y^{2}} \\phi{\\left(y \\right)} + \\frac{\\left(- 8 i m \\omega y^{2} + 16 i m \\omega y - 4 i m \\omega + 3 y^{2} - 4 y + 1\\right) \\frac{d}{d y} \\phi{\\left(y \\right)}}{y \\left(y^{2} - 2 y + 1\\right)} + \\frac{\\left(- \\ell^{2} - \\ell - 16 m^{2} \\omega^{2} y + 32 m^{2} \\omega^{2} - 8 i m \\omega y + 8 i m \\omega - 3 y + 3\\right) \\phi{\\left(y \\right)}}{y \\left(y^{2} - 2 y + 1\\right)}$"
      ],
      "text/plain": [
       "Derivative(phi(y), (y, 2)) + (-8*I*m*omega*y**2 + 16*I*m*omega*y - 4*I*m*omega + 3*y**2 - 4*y + 1)*Derivative(phi(y), y)/(y*(y**2 - 2*y + 1)) + (-ell**2 - ell - 16*m**2*omega**2*y + 32*m**2*omega**2 - 8*I*m*omega*y + 8*I*m*omega - 3*y + 3)*phi(y)/(y*(y**2 - 2*y + 1))"
      ]
     },
     "execution_count": 353,
     "metadata": {},
     "output_type": "execute_result"
    }
   ],
   "source": [
    "eq_final = C_1 * sp.Derivative(sp.Derivative(phi_y, y), y) + C_2 * sp.Derivative(phi_y, y) + C_3 * phi_y\n",
    "eq_final"
   ]
  }
 ],
 "metadata": {
  "kernelspec": {
   "display_name": "Python 3",
   "language": "python",
   "name": "python3"
  },
  "language_info": {
   "codemirror_mode": {
    "name": "ipython",
    "version": 3
   },
   "file_extension": ".py",
   "mimetype": "text/x-python",
   "name": "python",
   "nbconvert_exporter": "python",
   "pygments_lexer": "ipython3",
   "version": "3.12.4"
  }
 },
 "nbformat": 4,
 "nbformat_minor": 5
}
